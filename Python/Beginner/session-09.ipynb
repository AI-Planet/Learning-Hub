{
 "cells": [
  {
   "cell_type": "markdown",
   "id": "355b5f03-d2a5-4aa3-a77c-776ccfcb35d5",
   "metadata": {},
   "source": [
    "# Session 9 🐍"
   ]
  },
  {
   "cell_type": "markdown",
   "id": "45efc9ec-fb9c-458c-b1de-d961145e8449",
   "metadata": {},
   "source": [
    "☀️☀️☀️☀️☀️☀️☀️☀️☀️☀️☀️☀️☀️☀️☀️☀️☀️☀️☀️☀️☀️☀️☀️☀️☀️☀️☀️☀️☀️☀️☀️☀️☀️☀️☀️☀️☀️☀️☀️☀️☀️☀️☀️☀️☀️"
   ]
  },
  {
   "cell_type": "markdown",
   "id": "2c7a6ce5-4cd2-45cd-a3b8-9ac277170654",
   "metadata": {},
   "source": [
    "***"
   ]
  },
  {
   "cell_type": "markdown",
   "id": "f47542a8-416d-4a3f-8c9d-99781dc53bd8",
   "metadata": {},
   "source": [
    "# 42. Lists \n",
    "Lists are one of the most versatile and commonly used data structures in Python. They are **ordered**, **mutable** (changeable), and allow duplicate elements. Here's a comprehensive explanation:"
   ]
  },
  {
   "cell_type": "markdown",
   "id": "d516f58d-fe78-4946-82e9-99e5102f64c8",
   "metadata": {},
   "source": [
    "Basic Characteristics\n",
    "- Ordered: Items have a defined order that won't change unless you modify it\n",
    "- Mutable: You can change, add, or remove items after creation\n",
    "- Allow duplicates: Can contain items with the same value\n",
    "- Heterogeneous: Can contain different data types (though this is usually not recommended)"
   ]
  },
  {
   "cell_type": "markdown",
   "id": "a35384c2-ea49-4613-b074-ef3b571f756e",
   "metadata": {},
   "source": [
    "***"
   ]
  },
  {
   "cell_type": "markdown",
   "id": "dab2d71e-c0ab-4a4d-8737-8c2e2f300d12",
   "metadata": {},
   "source": [
    "## 42-1. Creating Lists"
   ]
  },
  {
   "cell_type": "code",
   "execution_count": 4,
   "id": "dce30ab2-b5d2-47c6-b4f4-1bca40d6baed",
   "metadata": {},
   "outputs": [],
   "source": [
    "# Empty list\n",
    "empty_list = []\n",
    "empty_list = list()\n",
    "\n",
    "# List with items\n",
    "fruits = ['apple', 'banana', 'cherry', 'orange']\n",
    "numbers = [1, 2, 3, 4, 5, 3]\n",
    "mixed = [1, 'hello', 3.14, True]"
   ]
  },
  {
   "cell_type": "markdown",
   "id": "79d1bd34-b0a3-470d-b639-d63638f2f87c",
   "metadata": {},
   "source": [
    "***"
   ]
  },
  {
   "cell_type": "markdown",
   "id": "91b2d653-7b83-4f11-87c7-394277442253",
   "metadata": {},
   "source": [
    "## 42-2. Accessing elements\n",
    "List indices work the same way as string indices:\n",
    "- Any integer expression can be used as an index.\n",
    "- If you try to read or write an element that does not exist, you get an IndexError.\n",
    "- If an index has a negative value, it counts backward from the end of the list.\n",
    "- Lists use zero-based indexing."
   ]
  },
  {
   "cell_type": "code",
   "execution_count": 8,
   "id": "31e5e69c-e962-4aa5-a8a3-3b4f6cf60c13",
   "metadata": {},
   "outputs": [
    {
     "name": "stdout",
     "output_type": "stream",
     "text": [
      "a\n",
      "c\n",
      "e\n",
      "d\n"
     ]
    }
   ],
   "source": [
    "my_list = ['a', 'b', 'c', 'd', 'e']\n",
    "\n",
    "print(my_list[0])   # first item\n",
    "print(my_list[2])   # third item\n",
    "print(my_list[-1])  # last item\n",
    "print(my_list[-2])  # second last item"
   ]
  },
  {
   "cell_type": "markdown",
   "id": "c5df47f0-ba73-46ca-ba95-a941fadc74c3",
   "metadata": {},
   "source": [
    "***"
   ]
  },
  {
   "cell_type": "markdown",
   "id": "3f31ad0c-b65f-4828-a6fd-1b7476163f01",
   "metadata": {},
   "source": [
    "# 43. Membership (in & not in)\n",
    "These operators work also for lists."
   ]
  },
  {
   "cell_type": "code",
   "execution_count": 9,
   "id": "936daf6d-4aa2-4715-a553-a6cbbeb93065",
   "metadata": {},
   "outputs": [
    {
     "data": {
      "text/plain": [
       "True"
      ]
     },
     "execution_count": 9,
     "metadata": {},
     "output_type": "execute_result"
    }
   ],
   "source": [
    "'a' in my_list"
   ]
  },
  {
   "cell_type": "code",
   "execution_count": 11,
   "id": "43097ee4-2244-4ab5-9da8-87f38ba2e3ce",
   "metadata": {},
   "outputs": [
    {
     "data": {
      "text/plain": [
       "False"
      ]
     },
     "execution_count": 11,
     "metadata": {},
     "output_type": "execute_result"
    }
   ],
   "source": [
    "'e' not in my_list"
   ]
  },
  {
   "cell_type": "markdown",
   "id": "ae3dec4c-5e60-488c-8133-c047e7e6934e",
   "metadata": {},
   "source": [
    "***"
   ]
  },
  {
   "cell_type": "markdown",
   "id": "878d62da-f7c1-4faf-a77a-b971f01fa9cc",
   "metadata": {},
   "source": [
    "# 44. Nested Lists\n",
    "A list can have other lists as elements."
   ]
  },
  {
   "cell_type": "code",
   "execution_count": 2,
   "id": "804b78f0-853e-494c-bec7-51edc6a6c330",
   "metadata": {},
   "outputs": [],
   "source": [
    "messy_list = ['AI', 2, 3.14, True, [3, 4, 5]]"
   ]
  },
  {
   "cell_type": "markdown",
   "id": "0382a403-d2c7-4fcf-813d-8ddfb2aa99a6",
   "metadata": {},
   "source": [
    "***"
   ]
  },
  {
   "cell_type": "markdown",
   "id": "f88f63a4-a56a-4a89-b2ae-e70005b53f29",
   "metadata": {},
   "source": [
    "# 45. Lists are mutable"
   ]
  },
  {
   "cell_type": "code",
   "execution_count": 3,
   "id": "c6518b25-d712-4bc8-a90b-dc503f6a75d2",
   "metadata": {},
   "outputs": [
    {
     "name": "stdout",
     "output_type": "stream",
     "text": [
      "['apple', 'mango', 'cherry', 'orange']\n"
     ]
    }
   ],
   "source": [
    "fruits = ['apple', 'banana', 'cherry', 'orange']\n",
    "fruits[1] = 'mango'\n",
    "print(fruits)"
   ]
  },
  {
   "cell_type": "markdown",
   "id": "d97443db-1f5f-4bd7-a4c8-41df2a565dc4",
   "metadata": {},
   "source": [
    "***"
   ]
  },
  {
   "cell_type": "markdown",
   "id": "4232144c-203f-4875-b483-9930f0d4fc4c",
   "metadata": {},
   "source": [
    "# 46. List Slicing"
   ]
  },
  {
   "cell_type": "code",
   "execution_count": 25,
   "id": "f140379b-810f-47ec-86dd-00fabd15ffc1",
   "metadata": {},
   "outputs": [
    {
     "name": "stdout",
     "output_type": "stream",
     "text": [
      "['b', 'c']\n",
      "['a', 'b', 'c']\n",
      "['c', 'd', 'e']\n",
      "['a', 'b', 'c', 'd', 'e']\n",
      "['a', 'c', 'e']\n"
     ]
    }
   ],
   "source": [
    "my_list = ['a', 'b', 'c', 'd', 'e']\n",
    "\n",
    "print(my_list[1:3])   # items from index 1 to 2\n",
    "print(my_list[:3])    # first three items\n",
    "print(my_list[2:])    # from index 2 to end\n",
    "print(my_list[:])     # copy of the entire list\n",
    "print(my_list[::2])   # every second item"
   ]
  },
  {
   "cell_type": "markdown",
   "id": "8fa357e2-70b0-43cf-8c93-1cf3d75237ea",
   "metadata": {},
   "source": [
    "***"
   ]
  },
  {
   "cell_type": "markdown",
   "id": "e67a11e2-d118-4289-8a94-f452154a853f",
   "metadata": {},
   "source": [
    "# 47. Common List Methods"
   ]
  },
  {
   "cell_type": "markdown",
   "id": "be62c920-5cc0-4287-bb4e-d907a23a507e",
   "metadata": {},
   "source": [
    "## 47-1. append(x)\n",
    "Adds **an** item x to the end of a list."
   ]
  },
  {
   "cell_type": "code",
   "execution_count": 26,
   "id": "a240e67d-d51d-41c0-b4f4-8b0611c1c968",
   "metadata": {},
   "outputs": [
    {
     "data": {
      "text/plain": [
       "['a', 'b', 'c', 'd', 'e', 'f']"
      ]
     },
     "execution_count": 26,
     "metadata": {},
     "output_type": "execute_result"
    }
   ],
   "source": [
    "my_list.append('f')\n",
    "my_list"
   ]
  },
  {
   "cell_type": "markdown",
   "id": "8e9d6f32-5766-4c4b-bb53-ea459804f0f6",
   "metadata": {},
   "source": [
    "**Note:** An alternative way of appending elements to a list is shown below:"
   ]
  },
  {
   "cell_type": "code",
   "execution_count": 72,
   "id": "7e8e0097-c0be-4bec-aff3-ed8cf4b773d5",
   "metadata": {},
   "outputs": [
    {
     "data": {
      "text/plain": [
       "['a', 'b', 'c', 'd', 'e', 'f', 'g']"
      ]
     },
     "execution_count": 72,
     "metadata": {},
     "output_type": "execute_result"
    }
   ],
   "source": [
    "my_list = ['a', 'b', 'c', 'd', 'e', 'f']\n",
    "my_list [6:] = 'g'\n",
    "my_list"
   ]
  },
  {
   "cell_type": "markdown",
   "id": "69ba303a-ac1a-4e9b-b45d-f504080a4f2a",
   "metadata": {},
   "source": [
    "***"
   ]
  },
  {
   "cell_type": "markdown",
   "id": "7f5802b9-2e40-4688-ba1f-01ea774c1208",
   "metadata": {},
   "source": [
    "## 47-2. extend(x)\n",
    "Adds all items from iterable"
   ]
  },
  {
   "cell_type": "code",
   "execution_count": 27,
   "id": "43d86f6e-3c02-4273-9345-bb12cfd52ea2",
   "metadata": {},
   "outputs": [
    {
     "data": {
      "text/plain": [
       "['a', 'b', 'c', 'd', 'e', 'f', 'g']"
      ]
     },
     "execution_count": 27,
     "metadata": {},
     "output_type": "execute_result"
    }
   ],
   "source": [
    "my_list.extend('g')\n",
    "my_list"
   ]
  },
  {
   "cell_type": "markdown",
   "id": "9c10ee1a-f1b9-4aae-b324-593ffee68e33",
   "metadata": {},
   "source": [
    "***"
   ]
  },
  {
   "cell_type": "markdown",
   "id": "cdf6ee30-c21d-4fcf-8810-1a518935907f",
   "metadata": {},
   "source": [
    "## 47-3. The difference between append and extend"
   ]
  },
  {
   "cell_type": "code",
   "execution_count": 28,
   "id": "30388331-7a92-4675-b2c2-7efc71438af1",
   "metadata": {},
   "outputs": [
    {
     "name": "stdout",
     "output_type": "stream",
     "text": [
      "['a', 'b', 'c', 'd', 'e', ['f', 'g']]\n"
     ]
    }
   ],
   "source": [
    "my_list = ['a', 'b', 'c', 'd', 'e']\n",
    "my_list.append(['f', 'g'])\n",
    "print(my_list)"
   ]
  },
  {
   "cell_type": "code",
   "execution_count": 29,
   "id": "03f07097-fe82-4eea-b201-3f07ed82b756",
   "metadata": {},
   "outputs": [
    {
     "name": "stdout",
     "output_type": "stream",
     "text": [
      "['a', 'b', 'c', 'd', 'e', 'f', 'g']\n"
     ]
    }
   ],
   "source": [
    "my_list = ['a', 'b', 'c', 'd', 'e']\n",
    "my_list.extend(['f', 'g'])\n",
    "print(my_list)"
   ]
  },
  {
   "cell_type": "markdown",
   "id": "1c26ff1c-9f2c-4419-b268-66fb24cc2abe",
   "metadata": {},
   "source": [
    "***"
   ]
  },
  {
   "cell_type": "markdown",
   "id": "b10833a1-a33a-4eb6-a262-7c72fa6513cf",
   "metadata": {},
   "source": [
    "## 47-4. insert(i, x)\n",
    "Inserts item x at position i"
   ]
  },
  {
   "cell_type": "code",
   "execution_count": 31,
   "id": "a42f166a-75e0-4327-9de4-26efe6f05fe5",
   "metadata": {},
   "outputs": [
    {
     "data": {
      "text/plain": [
       "['a', 'f', 'b', 'c', 'd', 'e']"
      ]
     },
     "execution_count": 31,
     "metadata": {},
     "output_type": "execute_result"
    }
   ],
   "source": [
    "my_list = ['a', 'b', 'c', 'd', 'e']\n",
    "my_list.insert(1, 'f')\n",
    "my_list "
   ]
  },
  {
   "cell_type": "markdown",
   "id": "2b503f35-a456-4c4b-bce9-b189986d907d",
   "metadata": {},
   "source": [
    "***"
   ]
  },
  {
   "cell_type": "markdown",
   "id": "d129d551-108f-4d8b-99c2-c625d73f4274",
   "metadata": {},
   "source": [
    "## 47-5. remove(x)\n",
    "Removes first occurrence of x"
   ]
  },
  {
   "cell_type": "code",
   "execution_count": 33,
   "id": "ac46765e-ce3a-4a79-9e5e-56c8724c22d4",
   "metadata": {},
   "outputs": [
    {
     "data": {
      "text/plain": [
       "['b', 'c', 'a', 'd', 'e']"
      ]
     },
     "execution_count": 33,
     "metadata": {},
     "output_type": "execute_result"
    }
   ],
   "source": [
    "my_list = ['a', 'b', 'c', 'a', 'd', 'e']\n",
    "my_list.remove('a')\n",
    "my_list"
   ]
  },
  {
   "cell_type": "markdown",
   "id": "c8e6b6a5-550a-4979-b891-faa49c27961b",
   "metadata": {},
   "source": [
    "***"
   ]
  },
  {
   "cell_type": "markdown",
   "id": "1d5d94ce-deed-4093-b0a3-51c20941d3e1",
   "metadata": {},
   "source": [
    "## 47-6 pop(i)\n",
    "Removes and returns item at position i."
   ]
  },
  {
   "cell_type": "code",
   "execution_count": 53,
   "id": "833e3bdd-405d-4465-882b-a3870bbec8c4",
   "metadata": {},
   "outputs": [
    {
     "data": {
      "text/plain": [
       "'a'"
      ]
     },
     "execution_count": 53,
     "metadata": {},
     "output_type": "execute_result"
    }
   ],
   "source": [
    "my_list = ['a', 'b', 'c', 'a', 'd', 'e']\n",
    "my_list.pop(3)"
   ]
  },
  {
   "cell_type": "markdown",
   "id": "2dc505c1-a0d6-4f33-944c-efe80f2d2769",
   "metadata": {},
   "source": [
    "**Note:** By default (without using position), it removes and returns the last element of the list."
   ]
  },
  {
   "cell_type": "code",
   "execution_count": 59,
   "id": "42d925e8-72ca-4f51-aebe-933aa35605d0",
   "metadata": {},
   "outputs": [
    {
     "data": {
      "text/plain": [
       "'e'"
      ]
     },
     "execution_count": 59,
     "metadata": {},
     "output_type": "execute_result"
    }
   ],
   "source": [
    "my_list = ['a', 'b', 'c', 'a', 'd', 'e']\n",
    "my_list.pop()"
   ]
  },
  {
   "cell_type": "markdown",
   "id": "ec69dc05-ba37-44b0-8fa2-81450d6f23c7",
   "metadata": {},
   "source": [
    "***"
   ]
  },
  {
   "cell_type": "markdown",
   "id": "c99c167d-a677-4552-b6a9-984133ebda0b",
   "metadata": {},
   "source": [
    "## 47-7. clear()\n",
    "Removes all items, and returns empty list."
   ]
  },
  {
   "cell_type": "code",
   "execution_count": 41,
   "id": "af8adf57-70fb-466e-9ec4-1d77ca1dd9ee",
   "metadata": {},
   "outputs": [
    {
     "data": {
      "text/plain": [
       "[]"
      ]
     },
     "execution_count": 41,
     "metadata": {},
     "output_type": "execute_result"
    }
   ],
   "source": [
    "my_list.clear()\n",
    "my_list"
   ]
  },
  {
   "cell_type": "markdown",
   "id": "da67694a-5c41-4066-95b0-95646db7cef5",
   "metadata": {},
   "source": [
    "***"
   ]
  },
  {
   "cell_type": "markdown",
   "id": "fb974519-5786-4ed4-a902-7f3310e1254a",
   "metadata": {},
   "source": [
    "## 47-8. index(x)\n",
    "Returns index of the first occurrence of x."
   ]
  },
  {
   "cell_type": "code",
   "execution_count": 54,
   "id": "ee5645c6-6d30-42c6-a315-ae272191ddcf",
   "metadata": {},
   "outputs": [
    {
     "data": {
      "text/plain": [
       "0"
      ]
     },
     "execution_count": 54,
     "metadata": {},
     "output_type": "execute_result"
    }
   ],
   "source": [
    "my_list = ['a', 'b', 'c', 'a', 'd', 'e']\n",
    "my_list.index('a')"
   ]
  },
  {
   "cell_type": "markdown",
   "id": "640163bb-fa3a-46ba-b745-5397096c4c6b",
   "metadata": {},
   "source": [
    "***"
   ]
  },
  {
   "cell_type": "markdown",
   "id": "e0a0febe-768d-478e-8a85-d06412868bc2",
   "metadata": {},
   "source": [
    "## 47-9. count(x)\n",
    "Counts occurrences of x."
   ]
  },
  {
   "cell_type": "code",
   "execution_count": 55,
   "id": "68e2d084-5126-40c5-8159-82551fe2ec72",
   "metadata": {},
   "outputs": [
    {
     "data": {
      "text/plain": [
       "2"
      ]
     },
     "execution_count": 55,
     "metadata": {},
     "output_type": "execute_result"
    }
   ],
   "source": [
    "my_list = ['a', 'b', 'c', 'a', 'd', 'e']\n",
    "my_list.count('a')"
   ]
  },
  {
   "cell_type": "markdown",
   "id": "0d652817-3807-4f93-a3c7-18bf2a880484",
   "metadata": {},
   "source": [
    "***"
   ]
  },
  {
   "cell_type": "markdown",
   "id": "b7dca37d-96e3-47f8-bc75-c0b47f0f71d5",
   "metadata": {},
   "source": [
    "## 47-10. sort()\n",
    "Sorts items in place."
   ]
  },
  {
   "cell_type": "code",
   "execution_count": 45,
   "id": "8f03c3fe-c4f3-4d32-aecc-a42c807ae4cf",
   "metadata": {},
   "outputs": [
    {
     "data": {
      "text/plain": [
       "['a', 'b', 'c', 'd', 'e', 'e']"
      ]
     },
     "execution_count": 45,
     "metadata": {},
     "output_type": "execute_result"
    }
   ],
   "source": [
    "my_list = ['e', 'a', 'b', 'd', 'c', 'e']\n",
    "my_list.sort()\n",
    "my_list"
   ]
  },
  {
   "cell_type": "markdown",
   "id": "13e5e40f-7a70-415b-8556-53569387d3d2",
   "metadata": {},
   "source": [
    "***"
   ]
  },
  {
   "cell_type": "markdown",
   "id": "9f0748c2-be15-4a36-8af5-9a9a82081f69",
   "metadata": {},
   "source": [
    "## 47-11. reverse()\n",
    "Reverses items in place."
   ]
  },
  {
   "cell_type": "code",
   "execution_count": 46,
   "id": "b720c8bb-e363-4654-aed5-dff025331448",
   "metadata": {},
   "outputs": [
    {
     "data": {
      "text/plain": [
       "['a', 'b', 'c', 'd', 'e']"
      ]
     },
     "execution_count": 46,
     "metadata": {},
     "output_type": "execute_result"
    }
   ],
   "source": [
    "my_list = ['e', 'd', 'c', 'b', 'a']\n",
    "my_list.reverse()\n",
    "my_list"
   ]
  },
  {
   "cell_type": "markdown",
   "id": "95a262c9-6396-411b-a3d9-94022b6b88a4",
   "metadata": {},
   "source": [
    "***"
   ]
  },
  {
   "cell_type": "markdown",
   "id": "f245c60c-f4b1-4159-935d-93ef1c42e35b",
   "metadata": {},
   "source": [
    "## 47-12. copy()\n",
    "Returns a shallow copy."
   ]
  },
  {
   "cell_type": "code",
   "execution_count": 48,
   "id": "f40a485a-3f2c-4471-b141-aabffd8ebb55",
   "metadata": {},
   "outputs": [
    {
     "data": {
      "text/plain": [
       "['a', 'b', 'c', 'd', 'e']"
      ]
     },
     "execution_count": 48,
     "metadata": {},
     "output_type": "execute_result"
    }
   ],
   "source": [
    "my_list = ['a', 'b', 'c', 'd', 'e']\n",
    "my_new_list = my_list.copy()\n",
    "my_new_list"
   ]
  },
  {
   "cell_type": "markdown",
   "id": "c5d93d90-0f43-4500-8bad-6004a108dd18",
   "metadata": {},
   "source": [
    "***"
   ]
  },
  {
   "cell_type": "markdown",
   "id": "c7831563-0d97-456e-be50-ce0a6e9d2267",
   "metadata": {},
   "source": [
    "## 47-13. min & max\n",
    "Returns the minimum or maximum element of a list."
   ]
  },
  {
   "cell_type": "code",
   "execution_count": 76,
   "id": "4cd5d564-4a67-4447-accb-36396c4582a5",
   "metadata": {},
   "outputs": [
    {
     "name": "stdout",
     "output_type": "stream",
     "text": [
      "9\n",
      "0\n"
     ]
    }
   ],
   "source": [
    "my_list = [3,6, 1, 0, 9, 2]\n",
    "print(max(my_list))\n",
    "print(min(my_list))"
   ]
  },
  {
   "cell_type": "markdown",
   "id": "9430e963-8b6d-4b04-8770-89613ec509d9",
   "metadata": {},
   "source": [
    "***"
   ]
  },
  {
   "cell_type": "markdown",
   "id": "6ace6c22-3ef5-4c7b-aa1c-d7fce0a96a67",
   "metadata": {},
   "source": [
    "# 48 del statement"
   ]
  },
  {
   "cell_type": "markdown",
   "id": "6312ae7f-ef27-4620-ad47-947f099bc0fb",
   "metadata": {},
   "source": [
    "Deleting by Index or Slice"
   ]
  },
  {
   "cell_type": "code",
   "execution_count": 61,
   "id": "418f2498-972f-421e-98f7-62ce0312be89",
   "metadata": {},
   "outputs": [
    {
     "data": {
      "text/plain": [
       "['apple', 'banana', 'date', 'elderberry']"
      ]
     },
     "execution_count": 61,
     "metadata": {},
     "output_type": "execute_result"
    }
   ],
   "source": [
    "my_list = [\"apple\", \"banana\", \"cherry\", \"date\", \"elderberry\"]\n",
    "del my_list[2]\n",
    "my_list"
   ]
  },
  {
   "cell_type": "code",
   "execution_count": 63,
   "id": "939896af-d6e0-484f-bf3e-ec908dabf53c",
   "metadata": {},
   "outputs": [
    {
     "data": {
      "text/plain": [
       "['apple', 'elderberry']"
      ]
     },
     "execution_count": 63,
     "metadata": {},
     "output_type": "execute_result"
    }
   ],
   "source": [
    "my_list = [\"apple\", \"banana\", \"cherry\", \"date\", \"elderberry\"]\n",
    "del my_list[1:4]\n",
    "my_list"
   ]
  },
  {
   "cell_type": "code",
   "execution_count": 64,
   "id": "e27eb969-5cda-49ff-8ec4-f85f4123f31d",
   "metadata": {},
   "outputs": [
    {
     "ename": "NameError",
     "evalue": "name 'my_list' is not defined",
     "output_type": "error",
     "traceback": [
      "\u001b[1;31m---------------------------------------------------------------------------\u001b[0m",
      "\u001b[1;31mNameError\u001b[0m                                 Traceback (most recent call last)",
      "Cell \u001b[1;32mIn [64], line 2\u001b[0m\n\u001b[0;32m      1\u001b[0m \u001b[38;5;28;01mdel\u001b[39;00m my_list\n\u001b[1;32m----> 2\u001b[0m \u001b[43mmy_list\u001b[49m\n",
      "\u001b[1;31mNameError\u001b[0m: name 'my_list' is not defined"
     ]
    }
   ],
   "source": [
    "del my_list\n",
    "my_list"
   ]
  },
  {
   "cell_type": "markdown",
   "id": "6e44c80b-6384-48e6-84ad-97d7080fb213",
   "metadata": {},
   "source": [
    "***"
   ]
  },
  {
   "cell_type": "markdown",
   "id": "40176c07-75a8-48ec-bf45-644ac1ae3dc5",
   "metadata": {},
   "source": [
    "# 49. List Operations"
   ]
  },
  {
   "cell_type": "code",
   "execution_count": 69,
   "id": "1d13565f-7b32-441c-ae3c-a9f377b56ee2",
   "metadata": {},
   "outputs": [
    {
     "name": "stdout",
     "output_type": "stream",
     "text": [
      "[1, 2, 3, 4]\n",
      "[1, 2, 3, 1, 2, 3, 1, 2, 3]\n"
     ]
    }
   ],
   "source": [
    "# Concatenation\n",
    "list1 = [1, 2]\n",
    "list2 = [3, 4]\n",
    "combined = list1 + list2  \n",
    "print(combined)\n",
    "\n",
    "# Repetition\n",
    "repeated = [1, 2, 3] * 3  \n",
    "print(repeated)"
   ]
  },
  {
   "cell_type": "markdown",
   "id": "c72dbba8-1a3b-464b-a2c0-3d0f83e4a308",
   "metadata": {},
   "source": [
    "***"
   ]
  },
  {
   "cell_type": "markdown",
   "id": "427c0e87-4efa-4e28-9c70-8055e1c31b28",
   "metadata": {},
   "source": [
    "# 50. List Comprehensions\n",
    "A concise way to create lists."
   ]
  },
  {
   "cell_type": "code",
   "execution_count": 57,
   "id": "0d7527fe-1a42-444a-a76d-201e0f08988e",
   "metadata": {},
   "outputs": [
    {
     "data": {
      "text/plain": [
       "[0, 1, 4, 9, 16, 25, 36, 49, 64, 81]"
      ]
     },
     "execution_count": 57,
     "metadata": {},
     "output_type": "execute_result"
    }
   ],
   "source": [
    "squares = [x**2 for x in range(10)]\n",
    "squares"
   ]
  },
  {
   "cell_type": "code",
   "execution_count": 58,
   "id": "77d997a6-997c-49d8-a616-175e571468e2",
   "metadata": {},
   "outputs": [
    {
     "data": {
      "text/plain": [
       "[0, 2, 4, 6, 8, 10, 12, 14, 16, 18]"
      ]
     },
     "execution_count": 58,
     "metadata": {},
     "output_type": "execute_result"
    }
   ],
   "source": [
    "evens = [x for x in range(20) if x % 2 == 0]\n",
    "evens"
   ]
  },
  {
   "cell_type": "markdown",
   "id": "69387564-474e-4689-aa42-5a92740ca4bf",
   "metadata": {},
   "source": [
    "***"
   ]
  },
  {
   "cell_type": "markdown",
   "id": "1013687e-d555-4fc6-8604-47d17b3dbf23",
   "metadata": {},
   "source": [
    "# 51. Traversing a List"
   ]
  },
  {
   "cell_type": "code",
   "execution_count": 65,
   "id": "f3ab2f2e-14b8-402c-a1bb-ed29e553fc36",
   "metadata": {},
   "outputs": [
    {
     "name": "stdout",
     "output_type": "stream",
     "text": [
      "apple\n",
      "banana\n",
      "cherry\n",
      "date\n",
      "elderberry\n"
     ]
    }
   ],
   "source": [
    "my_list = [\"apple\", \"banana\", \"cherry\", \"date\", \"elderberry\"]\n",
    "for i in my_list:\n",
    "    print(i)"
   ]
  },
  {
   "cell_type": "markdown",
   "id": "0874392d-61a8-4d45-ad43-5195f1683e40",
   "metadata": {},
   "source": [
    "***"
   ]
  },
  {
   "cell_type": "code",
   "execution_count": 67,
   "id": "2fcf1609-815e-475f-bcb0-49dacbcafc16",
   "metadata": {},
   "outputs": [
    {
     "name": "stdout",
     "output_type": "stream",
     "text": [
      "0:apple\n",
      "1:banana\n",
      "2:cherry\n",
      "3:date\n",
      "4:elderberry\n"
     ]
    }
   ],
   "source": [
    "for i in range(len(my_list)):\n",
    "    print(f'{i}:{my_list[i]}')"
   ]
  },
  {
   "cell_type": "markdown",
   "id": "a5d00c30-c260-43a3-ae8b-4689f10508db",
   "metadata": {},
   "source": [
    "***"
   ]
  },
  {
   "cell_type": "markdown",
   "id": "7fe66744-a224-41a6-868c-f7262e5356ef",
   "metadata": {},
   "source": [
    "# 52. Aliasing \n",
    "Aliasing happens when multiple variables refer to the same object in memory.\n",
    "\n",
    "- Same Object: Changes made through one variable affect all aliases.\n",
    "- Applies to Mutable Objects: Lists, dictionaries, and sets are affected.\n",
    "- Immutable Objects (e.g., int, str, tuple): Aliasing is harmless since they can't be modified."
   ]
  },
  {
   "cell_type": "code",
   "execution_count": 82,
   "id": "c7b5fb35-41d0-4875-8d4c-0741c4f6b39c",
   "metadata": {},
   "outputs": [
    {
     "name": "stdout",
     "output_type": "stream",
     "text": [
      "[1, 2, 3, 4]\n",
      "[1, 2, 3, 4]\n"
     ]
    }
   ],
   "source": [
    "list1 = [1, 2, 3]  \n",
    "list2 = list1  # list2 is an alias of list1  \n",
    "\n",
    "list1.append(4) \n",
    "print(list1)\n",
    "print(list2)  # (modified!)  "
   ]
  },
  {
   "cell_type": "markdown",
   "id": "58499f2d-d9fb-4c83-a026-49e87c78ac2b",
   "metadata": {},
   "source": [
    "How to Avoid Unwanted Aliasing?\n",
    "\n",
    "Use **.copy()** or **slicing ([:])** to create an independent copy"
   ]
  },
  {
   "cell_type": "code",
   "execution_count": 83,
   "id": "a9824716-2ee7-4fa5-bc91-3c5f9facf4e4",
   "metadata": {},
   "outputs": [
    {
     "name": "stdout",
     "output_type": "stream",
     "text": [
      "[1, 2, 3, 4]\n",
      "[1, 2, 3]\n"
     ]
    }
   ],
   "source": [
    "list1 = [1, 2, 3] \n",
    "list2 = list1.copy()  # or list2 = list1[:]  \n",
    "list1.append(4)  \n",
    "print(list1)\n",
    "print(list2)  "
   ]
  },
  {
   "cell_type": "markdown",
   "id": "b3371c4f-490e-49b7-b8ea-95c1819ac19b",
   "metadata": {},
   "source": [
    "***"
   ]
  },
  {
   "cell_type": "markdown",
   "id": "10e6165d-7181-4f39-9703-37e3c8ccab3c",
   "metadata": {},
   "source": [
    "***"
   ]
  },
  {
   "cell_type": "markdown",
   "id": "b40206fb-6731-46dc-9302-0b9bc348b89b",
   "metadata": {},
   "source": [
    "# Some Excercises"
   ]
  },
  {
   "cell_type": "markdown",
   "id": "088d38a8-866c-48a9-a9b5-40df9d99ae4b",
   "metadata": {},
   "source": [
    "**1.** Create a list **colors** containing \"red\", \"green\", \"blue\", and \"yellow\".\n",
    "\n",
    "Print the second element.\n",
    "\n",
    "Print the last element using negative indexing."
   ]
  },
  {
   "cell_type": "markdown",
   "id": "b486b7b8-307c-4eb7-8c14-a1dd72eb2e46",
   "metadata": {},
   "source": [
    "___"
   ]
  },
  {
   "cell_type": "markdown",
   "id": "5c32b073-bab0-451e-8fd7-a294020f71c6",
   "metadata": {},
   "source": [
    "**2.** Given **numbers** = [10, 20, 30, 40, 50], check if 30 exists in the list.\n",
    "\n",
    "Replace the third element with 35.\n",
    "\n",
    "Print the modified list."
   ]
  },
  {
   "cell_type": "markdown",
   "id": "489da9fe-be18-487a-bcc7-e5d6672698ba",
   "metadata": {},
   "source": [
    "---"
   ]
  },
  {
   "cell_type": "markdown",
   "id": "bf117f39-fa94-453e-bca9-2ccd7b507496",
   "metadata": {},
   "source": [
    "**3.** Create a nested list **matrix** = [[1, 2, 3], [4, 5, 6], [7, 8, 9]].\n",
    "\n",
    "Extract the second row (sub-list).\n",
    "\n",
    "Extract the first two elements of the third row."
   ]
  },
  {
   "cell_type": "markdown",
   "id": "02e59887-780b-4321-9382-ef4c85ec9684",
   "metadata": {},
   "source": [
    "---"
   ]
  },
  {
   "cell_type": "markdown",
   "id": "1b32e2d5-3ed7-4865-b63e-21c5cc156f67",
   "metadata": {},
   "source": [
    "**4.** Given **fruits** = [\"apple\", \"banana\"], use list methods to:\n",
    "\n",
    "- Add \"orange\" to the end.\n",
    "\n",
    "- Insert \"kiwi\" at the second position.\n",
    "\n",
    "- Remove \"banana\".\n",
    "\n",
    "Print the final list."
   ]
  },
  {
   "cell_type": "markdown",
   "id": "8dcb22a4-aff7-4377-b09a-a39fa4a3b2a7",
   "metadata": {},
   "source": [
    "***"
   ]
  },
  {
   "cell_type": "markdown",
   "id": "17511368-bcb2-4413-87ab-450ca9a64ff2",
   "metadata": {},
   "source": [
    "**5.** Given **data** = [5, 10, 15, 20, 25], use **del** to remove the second element.\n",
    "\n",
    "Concatenate data with [30, 35] and store it in new_data.\n",
    "\n",
    "Print new_data."
   ]
  },
  {
   "cell_type": "markdown",
   "id": "af3414ed-8ba7-485b-954f-69bb05f37262",
   "metadata": {},
   "source": [
    "***"
   ]
  },
  {
   "cell_type": "markdown",
   "id": "8f5ff722-c584-476e-82c7-c99d48dcae2a",
   "metadata": {},
   "source": [
    "**6.** Generate a list of squares of numbers from 1 to 5 using list comprehension.\n",
    "\n",
    "Filter even numbers from [12, 15, 18, 21, 24] using list comprehension."
   ]
  },
  {
   "cell_type": "markdown",
   "id": "2257cad9-b203-4fcf-bd40-26e519626647",
   "metadata": {},
   "source": [
    "***"
   ]
  },
  {
   "cell_type": "markdown",
   "id": "18a3029c-0bac-4193-a5c0-cff1c5cc1cfa",
   "metadata": {},
   "source": [
    "**7.** Given **names** = [\"Alice\", \"Bob\", \"Charlie\"], use a for loop to print each name in uppercase."
   ]
  },
  {
   "cell_type": "markdown",
   "id": "4b9cae2d-e35a-49a6-8e8b-cf96f638ddd0",
   "metadata": {},
   "source": [
    "***"
   ]
  },
  {
   "cell_type": "markdown",
   "id": "1eb0bcb5-401a-4e8f-9c0c-937e8d7d75ab",
   "metadata": {},
   "source": [
    "**8.** Create a list **original** = [100, 200, 300] and an alias **copy** = original.\n",
    "\n",
    "Modify the first element of **copy** to 999.\n",
    "\n",
    "Print both lists. Explain the output."
   ]
  },
  {
   "cell_type": "markdown",
   "id": "0fad2a07-f947-48b4-9cac-2bfdeba81665",
   "metadata": {},
   "source": [
    "***"
   ]
  },
  {
   "cell_type": "markdown",
   "id": "67fe9730-11c0-4519-aa2a-b04cbe06c252",
   "metadata": {},
   "source": [
    "**9.** Given **mixed** = [1, \"hello\", [5, 6], 3.14], use slicing to extract [\"hello\", [5, 6]].\n",
    "\n",
    "Check if [5, 6] is in mixed.\n",
    "\n",
    "Use a loop to print each element’s type."
   ]
  },
  {
   "cell_type": "markdown",
   "id": "59d5c720-57f8-43a5-a3b5-ae7613024a87",
   "metadata": {},
   "source": [
    "***"
   ]
  },
  {
   "cell_type": "markdown",
   "id": "7cc97f26-cf68-4d50-82a1-ae7dcdfa95ac",
   "metadata": {},
   "source": [
    "#                                                        🌞 https://github.com/AI-Planet 🌞"
   ]
  }
 ],
 "metadata": {
  "kernelspec": {
   "display_name": "Python 3 (ipykernel)",
   "language": "python",
   "name": "python3"
  },
  "language_info": {
   "codemirror_mode": {
    "name": "ipython",
    "version": 3
   },
   "file_extension": ".py",
   "mimetype": "text/x-python",
   "name": "python",
   "nbconvert_exporter": "python",
   "pygments_lexer": "ipython3",
   "version": "3.9.12"
  }
 },
 "nbformat": 4,
 "nbformat_minor": 5
}
