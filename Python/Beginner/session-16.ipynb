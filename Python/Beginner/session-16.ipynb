{
 "cells": [
  {
   "cell_type": "markdown",
   "id": "355b5f03-d2a5-4aa3-a77c-776ccfcb35d5",
   "metadata": {},
   "source": [
    "# Session 16 🐍"
   ]
  },
  {
   "cell_type": "markdown",
   "id": "45efc9ec-fb9c-458c-b1de-d961145e8449",
   "metadata": {},
   "source": [
    "☀️☀️☀️☀️☀️☀️☀️☀️☀️☀️☀️☀️☀️☀️☀️☀️☀️☀️☀️☀️☀️☀️☀️☀️☀️☀️☀️☀️☀️☀️☀️☀️☀️☀️☀️☀️☀️☀️☀️☀️☀️☀️☀️☀️☀️"
   ]
  },
  {
   "cell_type": "markdown",
   "id": "2c7a6ce5-4cd2-45cd-a3b8-9ac277170654",
   "metadata": {},
   "source": [
    "***"
   ]
  },
  {
   "cell_type": "markdown",
   "id": "f47542a8-416d-4a3f-8c9d-99781dc53bd8",
   "metadata": {},
   "source": [
    "# 97. CSV (Comma-Separated Values) Files\n",
    "CSV is a simple file format used to store tabular data, such as spreadsheets or databases. It's one of the most common data interchange formats because it's human-readable, easy to work with, and supported by virtually all data processing tools.\n",
    "\n",
    "A CSV file stores tabular data (numbers and text) in plain text form, where:\n",
    "- Each line represents a record (row)\n",
    "- Each record consists of fields (columns) separated by commas\n",
    "- The first line often contains column headers"
   ]
  },
  {
   "cell_type": "markdown",
   "id": "a35384c2-ea49-4613-b074-ef3b571f756e",
   "metadata": {},
   "source": [
    "***"
   ]
  },
  {
   "cell_type": "markdown",
   "id": "91b2d653-7b83-4f11-87c7-394277442253",
   "metadata": {},
   "source": [
    "### Example CSV:"
   ]
  },
  {
   "cell_type": "raw",
   "id": "c8f5224f-13fb-4cd9-9ff3-c25578f089ab",
   "metadata": {},
   "source": [
    "name,age,occupation\n",
    "John Smith,30,Engineer\n",
    "Jane Doe,25,Designer\n",
    "Bob Johnson,40,Manager"
   ]
  },
  {
   "cell_type": "markdown",
   "id": "3f3c6bb6-e140-4385-b1a4-07af380f88ba",
   "metadata": {},
   "source": [
    "***"
   ]
  },
  {
   "cell_type": "markdown",
   "id": "313c1fe0-88e1-4681-9f7e-90a6e8daa599",
   "metadata": {},
   "source": [
    "# 98. CSV Variations\n",
    "While \"CSV\" stands for \"Comma-Separated Values\", there are variations:\n",
    "- TSV (Tab-Separated Values): Uses tabs instead of commas\n",
    "- SSV (Space-Separated Values): Uses spaces\n",
    "- Custom delimiters: Some files use pipes (|) or semicolons (;)"
   ]
  },
  {
   "cell_type": "markdown",
   "id": "a4bb5edf-3034-4d79-8edf-8f0740ea0e27",
   "metadata": {},
   "source": [
    "***"
   ]
  },
  {
   "cell_type": "markdown",
   "id": "cb5cc52c-9d10-47ad-baeb-0900ab6358ff",
   "metadata": {},
   "source": [
    "# 99. Working with CSV in Python\n",
    "Python's standard library includes a csv module for reading and writing CSV files."
   ]
  },
  {
   "cell_type": "markdown",
   "id": "5c1e214b-7b8d-4698-911e-4e487c7e3f07",
   "metadata": {},
   "source": [
    "***"
   ]
  },
  {
   "cell_type": "markdown",
   "id": "7528c824-0f13-4c5d-aa16-25b5deb65b5f",
   "metadata": {},
   "source": [
    "## 99-1. Reading CSV Files"
   ]
  },
  {
   "cell_type": "code",
   "execution_count": null,
   "id": "6112f310-900c-4acd-b23b-8149ddba47c8",
   "metadata": {},
   "outputs": [],
   "source": [
    "import csv\n",
    "\n",
    "# Basic reading\n",
    "with open('data.csv', 'r') as file:\n",
    "    reader = csv.reader(file)\n",
    "    for row in reader:\n",
    "        print(row)  # Each row is a list of strings"
   ]
  },
  {
   "cell_type": "code",
   "execution_count": null,
   "id": "a42c8aba-191f-4ddf-9ca2-df46c4d8af15",
   "metadata": {},
   "outputs": [],
   "source": [
    "# Reading as dictionaries (using headers)\n",
    "with open('data.csv', 'r') as file:\n",
    "    reader = csv.DictReader(file)\n",
    "    for row in reader:\n",
    "        print(row['name'], row['age'])  # Access by column name"
   ]
  },
  {
   "cell_type": "markdown",
   "id": "f9d34ed7-9c13-4948-ac9a-bcaad250362e",
   "metadata": {},
   "source": [
    "***"
   ]
  },
  {
   "cell_type": "markdown",
   "id": "77a04002-bb5f-40c4-a2cf-0fffedc13078",
   "metadata": {},
   "source": [
    "## 99-2. Writing CSV Files"
   ]
  },
  {
   "cell_type": "code",
   "execution_count": null,
   "id": "316de79f-fac8-43b4-8130-9759e7122e59",
   "metadata": {},
   "outputs": [],
   "source": [
    "import csv\n",
    "\n",
    "# Basic writing\n",
    "data = [\n",
    "    ['name', 'age', 'city'],\n",
    "    ['Alice', '28', 'New York'],\n",
    "    ['Bob', '32', 'Chicago']\n",
    "]\n",
    "\n",
    "with open('output.csv', 'w', newline='') as file:\n",
    "    writer = csv.writer(file)\n",
    "    writer.writerows(data)"
   ]
  },
  {
   "cell_type": "code",
   "execution_count": null,
   "id": "1264c294-05a3-48e3-8e06-c81a850b94c2",
   "metadata": {},
   "outputs": [],
   "source": [
    "# Writing from dictionaries\n",
    "data = [\n",
    "    {'name': 'Alice', 'age': 28, 'city': 'New York'},\n",
    "    {'name': 'Bob', 'age': 32, 'city': 'Chicago'}\n",
    "]\n",
    "\n",
    "with open('output.csv', 'w', newline='') as file:\n",
    "    writer = csv.DictWriter(file, fieldnames=['name', 'age', 'city'])\n",
    "    writer.writeheader()\n",
    "    writer.writerows(data)"
   ]
  },
  {
   "cell_type": "markdown",
   "id": "d42a8f4d-6336-471b-81f3-1857ecb2a9a6",
   "metadata": {},
   "source": [
    "***"
   ]
  },
  {
   "cell_type": "markdown",
   "id": "af15eb2f-75c7-49a1-910b-c9a9e6877447",
   "metadata": {},
   "source": [
    "# 100. JSON (JavaScript Object Notation)\n",
    "JSON is a lightweight data interchange format that's easy for humans to read and write, and easy for machines to parse and generate. It's become the standard format for data exchange in web applications and APIs."
   ]
  },
  {
   "cell_type": "markdown",
   "id": "fa70025f-07e0-4db2-b46b-d68248d82280",
   "metadata": {},
   "source": [
    "JSON is a text format that's completely language-independent but uses conventions familiar to programmers of C-style languages (including JavaScript, Python, Java, and many others).\n",
    "\n",
    "**Key Characteristics:**\n",
    "- Human-readable - Easy to understand at a glance\n",
    "- Lightweight - Minimal syntax overhead\n",
    "- Structured - Organizes data in a clear hierarchy\n",
    "- Language-independent - Works with virtually all programming languages"
   ]
  },
  {
   "cell_type": "markdown",
   "id": "fef3e0a3-0e55-460f-a4fa-cb4a88731e8f",
   "metadata": {},
   "source": [
    "***"
   ]
  },
  {
   "cell_type": "markdown",
   "id": "6aba38bb-1d25-47bd-a6f6-27952665f631",
   "metadata": {},
   "source": [
    "# 101. JSON Syntax\n",
    "JSON is built on two universal data structures:"
   ]
  },
  {
   "cell_type": "markdown",
   "id": "3093cb24-c129-43db-89ec-6997aafc3e7e",
   "metadata": {},
   "source": [
    "***"
   ]
  },
  {
   "cell_type": "markdown",
   "id": "4e476783-0e3f-45ec-9a33-f2289768ac6a",
   "metadata": {},
   "source": [
    "## 101-1. Objects: \n",
    "Unordered collections of key-value pairs (like Python dictionaries)"
   ]
  },
  {
   "cell_type": "code",
   "execution_count": null,
   "id": "49a13603-f78c-42ae-9d7f-376b1f5d781a",
   "metadata": {},
   "outputs": [],
   "source": [
    "{\n",
    "  \"name\": \"John Doe\",\n",
    "  \"age\": 30,\n",
    "  \"isStudent\": false\n",
    "}"
   ]
  },
  {
   "cell_type": "markdown",
   "id": "71a8a9e2-f582-4f64-9072-d5b9a8da26c7",
   "metadata": {},
   "source": [
    "***"
   ]
  },
  {
   "cell_type": "markdown",
   "id": "c4a97df4-804a-42e1-ba34-e4c32b03deca",
   "metadata": {},
   "source": [
    "## 101-2. Arrays: \n",
    "Ordered lists of values (like Python lists)"
   ]
  },
  {
   "cell_type": "code",
   "execution_count": null,
   "id": "85be6bf8-b25f-454c-94be-6dd22b223ff4",
   "metadata": {},
   "outputs": [],
   "source": [
    "[\"apple\", \"banana\", \"orange\"] "
   ]
  },
  {
   "cell_type": "markdown",
   "id": "f4ed73bc-95f3-4773-bb12-52a7573c9a6e",
   "metadata": {},
   "source": [
    "***"
   ]
  },
  {
   "cell_type": "markdown",
   "id": "4b9d6f49-7d0e-4f06-827d-4a114ee78fd4",
   "metadata": {},
   "source": [
    "# 102. Data Types in JSON:\n",
    "- Strings: \"text\" (must use double quotes)\n",
    "- Numbers: 42 or 3.14\n",
    "- Booleans: true or false\n",
    "- Null: null\n",
    "- Objects: {...}\n",
    "- Arrays: [...]"
   ]
  },
  {
   "cell_type": "markdown",
   "id": "acf740c8-7fe8-4f79-884e-94bf3b34ed7e",
   "metadata": {},
   "source": [
    "***"
   ]
  },
  {
   "cell_type": "markdown",
   "id": "cd725184-0ff9-404d-b580-1762b322ae03",
   "metadata": {},
   "source": [
    "# 103. JSON vs Python Dictionaries\n",
    "While similar to Python dictionaries, JSON has some differences:\n",
    "- JSON keys must be strings (in double quotes)\n",
    "- JSON only supports the data types listed above\n",
    "- JSON doesn't support Python-specific features like tuples, sets, or custom objects"
   ]
  },
  {
   "cell_type": "markdown",
   "id": "90ad8b33-6496-45d8-afeb-bc10ff9484b7",
   "metadata": {},
   "source": [
    "***"
   ]
  },
  {
   "cell_type": "markdown",
   "id": "795f3521-e3fc-4876-b6e5-9e78c67ffb90",
   "metadata": {},
   "source": [
    "# 104. Working with JSON in Python\n",
    "Python includes a **json module** in its standard library."
   ]
  },
  {
   "cell_type": "markdown",
   "id": "4be3963a-01c9-44bd-8577-5ecbba4940f8",
   "metadata": {},
   "source": [
    "***"
   ]
  },
  {
   "cell_type": "markdown",
   "id": "b03b16dc-7c78-4837-a4e0-ed05ef193556",
   "metadata": {},
   "source": [
    "## 104-1. Serialization (Python → JSON)"
   ]
  },
  {
   "cell_type": "code",
   "execution_count": 1,
   "id": "16c28431-3089-47da-9140-c27f5f075c20",
   "metadata": {},
   "outputs": [
    {
     "name": "stdout",
     "output_type": "stream",
     "text": [
      "{\"name\": \"Alice\", \"age\": 25, \"courses\": [\"Math\", \"Science\"]}\n"
     ]
    }
   ],
   "source": [
    "import json\n",
    "\n",
    "data = {\n",
    "    \"name\": \"Alice\",\n",
    "    \"age\": 25,\n",
    "    \"courses\": [\"Math\", \"Science\"]\n",
    "}\n",
    "\n",
    "json_string = json.dumps(data)  # Convert to JSON string\n",
    "print(json_string)"
   ]
  },
  {
   "cell_type": "markdown",
   "id": "143b108e-bd4e-4c80-b36c-aafc59e924e7",
   "metadata": {},
   "source": [
    "***"
   ]
  },
  {
   "cell_type": "markdown",
   "id": "9ce0781d-fe4c-4686-b95d-1b5a525cb4b4",
   "metadata": {},
   "source": [
    "## 104-2. Deserialization (JSON → Python)"
   ]
  },
  {
   "cell_type": "code",
   "execution_count": 2,
   "id": "db35a590-c863-41f8-b89d-e81023048d5e",
   "metadata": {},
   "outputs": [
    {
     "name": "stdout",
     "output_type": "stream",
     "text": [
      "Bob\n"
     ]
    }
   ],
   "source": [
    "json_data = '{\"name\": \"Bob\", \"age\": 30, \"isActive\": true}'\n",
    "python_dict = json.loads(json_data)  # Convert to Python dict\n",
    "print(python_dict[\"name\"])  "
   ]
  },
  {
   "cell_type": "markdown",
   "id": "22267c7d-f425-49fd-9e7c-9dea0494ee8d",
   "metadata": {},
   "source": [
    "***"
   ]
  },
  {
   "cell_type": "markdown",
   "id": "f41fd717-766c-4ac1-af63-5cb9f9a7ed7f",
   "metadata": {},
   "source": [
    "## 104-3. Reading/Writing JSON Files"
   ]
  },
  {
   "cell_type": "code",
   "execution_count": null,
   "id": "c8a6c3f0-cc0a-4458-b652-a775dc5bb69b",
   "metadata": {},
   "outputs": [],
   "source": [
    "# Write to file\n",
    "with open('data.json', 'w') as f:\n",
    "    json.dump(data, f)\n",
    "\n",
    "# Read from file\n",
    "with open('data.json', 'r') as f:\n",
    "    loaded_data = json.load(f)"
   ]
  },
  {
   "cell_type": "markdown",
   "id": "f7a714c4-8b7a-4774-895a-7c7495bfc1ac",
   "metadata": {},
   "source": [
    "***"
   ]
  },
  {
   "cell_type": "markdown",
   "id": "10e6165d-7181-4f39-9703-37e3c8ccab3c",
   "metadata": {},
   "source": [
    "***"
   ]
  },
  {
   "cell_type": "markdown",
   "id": "b40206fb-6731-46dc-9302-0b9bc348b89b",
   "metadata": {},
   "source": [
    "# Some Excercises"
   ]
  },
  {
   "cell_type": "markdown",
   "id": "088d38a8-866c-48a9-a9b5-40df9d99ae4b",
   "metadata": {},
   "source": [
    "**1.** Write a function **csv_stats(file_path)** that:\n",
    "- Reads a CSV file containing numbers in a single column.\n",
    "- Returns a dictionary with { \"min\": _, \"max\": _, \"avg\": _ }.\n",
    "- Uses the csv module and handles file exceptions."
   ]
  },
  {
   "cell_type": "markdown",
   "id": "b486b7b8-307c-4eb7-8c14-a1dd72eb2e46",
   "metadata": {},
   "source": [
    "___"
   ]
  },
  {
   "cell_type": "markdown",
   "id": "5c32b073-bab0-451e-8fd7-a294020f71c6",
   "metadata": {},
   "source": [
    "**2.** Write a function **filter_csv(input_path, output_path, condition_func)** that:\n",
    "- Reads a CSV file with headers.\n",
    "- Writes rows to a new CSV file where condition_func(row) returns True.\n",
    "- Preserves headers in the output."
   ]
  },
  {
   "cell_type": "markdown",
   "id": "489da9fe-be18-487a-bcc7-e5d6672698ba",
   "metadata": {},
   "source": [
    "---"
   ]
  },
  {
   "cell_type": "markdown",
   "id": "bf117f39-fa94-453e-bca9-2ccd7b507496",
   "metadata": {},
   "source": [
    "**3.** Write a function **csv_to_json(csv_path, json_path)** that:\n",
    "- Converts a CSV file to a JSON file.\n",
    "- Each row becomes a dictionary with headers as keys.\n",
    "- Output JSON should be a list of objects."
   ]
  },
  {
   "cell_type": "markdown",
   "id": "02e59887-780b-4321-9382-ef4c85ec9684",
   "metadata": {},
   "source": [
    "---"
   ]
  },
  {
   "cell_type": "markdown",
   "id": "1b32e2d5-3ed7-4865-b63e-21c5cc156f67",
   "metadata": {},
   "source": [
    "**4.**  Write a function **json_to_csv(json_path, csv_path)** that:\n",
    "- Converts a JSON array of objects to a CSV file.\n",
    "- Uses the first object’s keys as headers.\n",
    "- Handles missing values (replace with \"\")."
   ]
  },
  {
   "cell_type": "markdown",
   "id": "8dcb22a4-aff7-4377-b09a-a39fa4a3b2a7",
   "metadata": {},
   "source": [
    "***"
   ]
  },
  {
   "cell_type": "markdown",
   "id": "17511368-bcb2-4413-87ab-450ca9a64ff2",
   "metadata": {},
   "source": [
    "**5.** Write a function **merge_csvs(file1, file2, output_path)** that:\n",
    "- Combines two CSV files with identical headers.\n",
    "- Skips duplicate rows (all fields must match).\n",
    "- Uses csv.DictReader and csv.DictWriter.\n",
    "\n",
    "**Note:** Assume both files have the same structure."
   ]
  },
  {
   "cell_type": "markdown",
   "id": "af3414ed-8ba7-485b-954f-69bb05f37262",
   "metadata": {},
   "source": [
    "***"
   ]
  },
  {
   "cell_type": "markdown",
   "id": "8f5ff722-c584-476e-82c7-c99d48dcae2a",
   "metadata": {},
   "source": [
    "**6.** Write a function **validate_json(json_path, schema)** that:\n",
    "- Checks if a JSON file matches a schema (given as a Python dict).\n",
    "- Returns True if valid, False otherwise.\n",
    "- Validates:\n",
    "    - Required fields.\n",
    "    - Field types (e.g., \"age\" must be int)."
   ]
  },
  {
   "cell_type": "markdown",
   "id": "2257cad9-b203-4fcf-bd40-26e519626647",
   "metadata": {},
   "source": [
    "***"
   ]
  },
  {
   "cell_type": "markdown",
   "id": "18a3029c-0bac-4193-a5c0-cff1c5cc1cfa",
   "metadata": {},
   "source": [
    "**7.** Write a function **flatten_json(json_path, csv_path)** that:\n",
    "- Flattens a nested JSON file (e.g., {\"user\": {\"name\": \"Alice\"}} → {\"user.name\": \"Alice\"}).\n",
    "- Writes the flattened data to CSV.\n",
    "- Handles arbitrary nesting (use dot notation for keys)."
   ]
  },
  {
   "cell_type": "markdown",
   "id": "4b9cae2d-e35a-49a6-8e8b-cf96f638ddd0",
   "metadata": {},
   "source": [
    "***"
   ]
  },
  {
   "cell_type": "markdown",
   "id": "5ed41cc7-ee76-474d-b2a9-a60c8a457351",
   "metadata": {},
   "source": [
    "**8.** Write a function **parse_tsv(tsv_path)** that:\n",
    "- Reads a TSV file (tab-separated).\n",
    "- Returns data as a list of dictionaries.\n",
    "- Uses csv.reader with a custom delimiter."
   ]
  },
  {
   "cell_type": "markdown",
   "id": "7cc885bd-d362-4b38-b25f-89be1844f53c",
   "metadata": {},
   "source": [
    "***"
   ]
  },
  {
   "cell_type": "markdown",
   "id": "7cc97f26-cf68-4d50-82a1-ae7dcdfa95ac",
   "metadata": {},
   "source": [
    "#                                                        🌞 https://github.com/AI-Planet 🌞"
   ]
  }
 ],
 "metadata": {
  "kernelspec": {
   "display_name": "Python 3 (ipykernel)",
   "language": "python",
   "name": "python3"
  },
  "language_info": {
   "codemirror_mode": {
    "name": "ipython",
    "version": 3
   },
   "file_extension": ".py",
   "mimetype": "text/x-python",
   "name": "python",
   "nbconvert_exporter": "python",
   "pygments_lexer": "ipython3",
   "version": "3.9.12"
  }
 },
 "nbformat": 4,
 "nbformat_minor": 5
}
