{
 "cells": [
  {
   "cell_type": "markdown",
   "id": "355b5f03-d2a5-4aa3-a77c-776ccfcb35d5",
   "metadata": {},
   "source": [
    "# Session 15 🐍"
   ]
  },
  {
   "cell_type": "markdown",
   "id": "45efc9ec-fb9c-458c-b1de-d961145e8449",
   "metadata": {},
   "source": [
    "☀️☀️☀️☀️☀️☀️☀️☀️☀️☀️☀️☀️☀️☀️☀️☀️☀️☀️☀️☀️☀️☀️☀️☀️☀️☀️☀️☀️☀️☀️☀️☀️☀️☀️☀️☀️☀️☀️☀️☀️☀️☀️☀️☀️☀️"
   ]
  },
  {
   "cell_type": "markdown",
   "id": "2c7a6ce5-4cd2-45cd-a3b8-9ac277170654",
   "metadata": {},
   "source": [
    "***"
   ]
  },
  {
   "cell_type": "markdown",
   "id": "f47542a8-416d-4a3f-8c9d-99781dc53bd8",
   "metadata": {},
   "source": [
    "# 93. Type Hints and Docstrings \n",
    "Python supports type hints (for static type checking) and docstrings (for documentation) to improve code readability, maintainability, and IDE support."
   ]
  },
  {
   "cell_type": "markdown",
   "id": "a35384c2-ea49-4613-b074-ef3b571f756e",
   "metadata": {},
   "source": [
    "***"
   ]
  },
  {
   "cell_type": "markdown",
   "id": "91b2d653-7b83-4f11-87c7-394277442253",
   "metadata": {},
   "source": [
    "# 94. Type Hints (Static Type Checking)\n",
    "Type hints allow you to specify the expected data types of variables, function parameters, and return values. They are optional but help catch errors early (using tools like mypy).\n",
    "\n",
    "Basic Syntax"
   ]
  },
  {
   "cell_type": "code",
   "execution_count": null,
   "id": "26509eeb-743f-4eca-ab00-9ac9cddf94fa",
   "metadata": {},
   "outputs": [],
   "source": [
    "variable_name: type = value"
   ]
  },
  {
   "cell_type": "markdown",
   "id": "3f3c6bb6-e140-4385-b1a4-07af380f88ba",
   "metadata": {},
   "source": [
    "***"
   ]
  },
  {
   "cell_type": "markdown",
   "id": "313c1fe0-88e1-4681-9f7e-90a6e8daa599",
   "metadata": {},
   "source": [
    "## 94-1. Variable Annotations"
   ]
  },
  {
   "cell_type": "raw",
   "id": "34b184b3-8ae6-460f-ad07-3a00f20b0441",
   "metadata": {},
   "source": [
    "name: str = \"Alice\"\n",
    "age: int = 25\n",
    "grade: float = 9.5\n",
    "\n",
    "is_student: bool = True\n",
    "is_teacher: bool = False\n",
    "\n",
    "names: list[str] = ['Ali', 'Alice', 'John']\n",
    "ages: list[int] = [12, 23, 45]\n",
    "scores: list[float] = [90.5, 85.0, 77.5]\n",
    "\n",
    "pairs_1: tuple[int, int] = (1, 2)\n",
    "pairs_2: tuple[int, float] = (1, 2.3)\n",
    "pairs_3: tuple[int, str] = (1, 'a')\n",
    "pairs_4: tuple[float, int] = (1.2, 3)\n",
    "pairs_5: tuple[float, float] = (1.2, 3.4)\n",
    "pairs_6: tuple[float, str] = (3.14, 'a')\n",
    "pairs_7: tuple[str, int] = ('a', 3)\n",
    "pairs_8: tuple[str, float] = ('a', 3.14)\n",
    "pairs_9: tuple[str, str] = ('a', 'b')\n",
    "\n",
    "dic_1: dict[int, int] = {1:2, 2:3, 3:4}\n",
    "dic_2: dict[int, float] = {1:2.3, 2:3.4, 3:4.5}\n",
    "dic_3: dict[int, str] = {1:'a', 2:'b', 3:'c'}\n",
    "dic_4: dict[float, int] = {1.2:1, 2.3:3, 3.4:5}\n",
    "dic_5: dict[float, float] = {1.2:1.4, 2.3:3.5, 3.4:7.6}\n",
    "dic_6: dict[float, str] = {1.3:'a', 2.4:'b', 3.8:'c'}\n",
    "\n",
    "set_1: set[int] = {1, 2, 3}\n",
    "set_2: set[float] = {1.2, 2.3, 3.4}\n",
    "set_3: set[str] = {'a', 'b', 'c'}\n",
    "\n",
    "# Complex type Hints\n",
    "\n",
    "list_dic: dict[str, list[int]] = {'a': [1, 2, 3], 'b': [4, 5, 6], 'c': [7, 8, 9]}\n",
    "tuple_list: tuple[list[int], list[float]] = ([1, 2], [3.1, 4.2, 5.3, 6.4])\n",
    "..."
   ]
  },
  {
   "cell_type": "markdown",
   "id": "a4bb5edf-3034-4d79-8edf-8f0740ea0e27",
   "metadata": {},
   "source": [
    "***"
   ]
  },
  {
   "cell_type": "markdown",
   "id": "cb5cc52c-9d10-47ad-baeb-0900ab6358ff",
   "metadata": {},
   "source": [
    "## 94-2.  Function Annotations"
   ]
  },
  {
   "cell_type": "code",
   "execution_count": null,
   "id": "3dfa100a-b67d-4ad2-a3ef-e3ed188b4eb4",
   "metadata": {},
   "outputs": [],
   "source": [
    "def greet(name: str) -> str:\n",
    "    return f\"Hello, {name}!\""
   ]
  },
  {
   "cell_type": "code",
   "execution_count": 16,
   "id": "6112f310-900c-4acd-b23b-8149ddba47c8",
   "metadata": {},
   "outputs": [],
   "source": [
    "def add(a: int, b: int) -> int:\n",
    "    return a + b"
   ]
  },
  {
   "cell_type": "markdown",
   "id": "930707a0-6455-427e-89fb-d3b6e43bb277",
   "metadata": {},
   "source": [
    "If your function does not return anything, you have to use **None**:"
   ]
  },
  {
   "cell_type": "code",
   "execution_count": 18,
   "id": "a42c8aba-191f-4ddf-9ca2-df46c4d8af15",
   "metadata": {},
   "outputs": [],
   "source": [
    "def greet(name: str) -> None:\n",
    "    print(f\"Hello, {name}!\")"
   ]
  },
  {
   "cell_type": "markdown",
   "id": "f9d34ed7-9c13-4948-ac9a-bcaad250362e",
   "metadata": {},
   "source": [
    "***"
   ]
  },
  {
   "cell_type": "markdown",
   "id": "77a04002-bb5f-40c4-a2cf-0fffedc13078",
   "metadata": {},
   "source": [
    "## 94-3. Optional Types\n",
    "To allow a variable to be None, use Optional."
   ]
  },
  {
   "cell_type": "code",
   "execution_count": 22,
   "id": "316de79f-fac8-43b4-8130-9759e7122e59",
   "metadata": {},
   "outputs": [],
   "source": [
    "from typing import Optional\n",
    "\n",
    "def get_name(user_id: int) -> Optional[str]:\n",
    "    return \"Alice\" if user_id == 1 else None"
   ]
  },
  {
   "cell_type": "code",
   "execution_count": 23,
   "id": "1264c294-05a3-48e3-8e06-c81a850b94c2",
   "metadata": {},
   "outputs": [],
   "source": [
    "from typing import Optional\n",
    "\n",
    "age: Optional[int] = None  # Can be int or None"
   ]
  },
  {
   "cell_type": "markdown",
   "id": "d42a8f4d-6336-471b-81f3-1857ecb2a9a6",
   "metadata": {},
   "source": [
    "***"
   ]
  },
  {
   "cell_type": "markdown",
   "id": "8bd7dba2-6ba7-4284-a092-43176553e91b",
   "metadata": {},
   "source": [
    "## 94-4. Union (Multiple Types)\n",
    "Use Union to allow multiple types."
   ]
  },
  {
   "cell_type": "code",
   "execution_count": 24,
   "id": "31e5e69c-e962-4aa5-a8a3-3b4f6cf60c13",
   "metadata": {},
   "outputs": [],
   "source": [
    "from typing import Union\n",
    "\n",
    "def parse_value(value: Union[int, str]) -> str:\n",
    "    return str(value)"
   ]
  },
  {
   "cell_type": "code",
   "execution_count": 25,
   "id": "d09cc8e2-f606-40d8-98f1-f599b2557877",
   "metadata": {},
   "outputs": [],
   "source": [
    "def number(y: Union[int, float]) -> Union[int, float]:\n",
    "    return y"
   ]
  },
  {
   "cell_type": "code",
   "execution_count": 26,
   "id": "31694223-ee94-45a3-abaa-a2d8e77b285b",
   "metadata": {},
   "outputs": [],
   "source": [
    "from typing import Union\n",
    "\n",
    "data: Union[int, str] = \"hello\"  # Can be int or str"
   ]
  },
  {
   "cell_type": "markdown",
   "id": "c5df47f0-ba73-46ca-ba95-a941fadc74c3",
   "metadata": {},
   "source": [
    "***"
   ]
  },
  {
   "cell_type": "markdown",
   "id": "7271a30e-0d82-493a-b86f-488308299f1e",
   "metadata": {},
   "source": [
    "## 94-5. Callable\n",
    "Specify a function signature using Callable."
   ]
  },
  {
   "cell_type": "code",
   "execution_count": 27,
   "id": "e4d6d284-35e8-4add-9194-52f86b89714e",
   "metadata": {},
   "outputs": [],
   "source": [
    "from typing import Callable\n",
    "\n",
    "def execute(func: Callable[[int, int], int], a: int, b: int) -> int:\n",
    "    return func(a, b)"
   ]
  },
  {
   "cell_type": "markdown",
   "id": "9a8fb70e-b17f-444e-86b5-dbf081e59200",
   "metadata": {},
   "source": [
    "***"
   ]
  },
  {
   "cell_type": "markdown",
   "id": "4a660e2a-2d02-405a-83d2-b1146fc19682",
   "metadata": {},
   "source": [
    "## 94-6. Any (Any Type)"
   ]
  },
  {
   "cell_type": "code",
   "execution_count": 28,
   "id": "dc7e9d42-d165-4543-b558-8969167fdb86",
   "metadata": {},
   "outputs": [],
   "source": [
    "from typing import Any\n",
    "\n",
    "value: Any = 42  # Can be anything"
   ]
  },
  {
   "cell_type": "markdown",
   "id": "e0492755-963c-4b7a-ac4e-2f1f915fc6c4",
   "metadata": {},
   "source": [
    "***"
   ]
  },
  {
   "cell_type": "markdown",
   "id": "9e56901e-de70-49c6-8738-aee16b9130f6",
   "metadata": {},
   "source": [
    "# 95. Docstring\n",
    "Docstrings describe what a function, class, or module does. They are written as multi-line strings (\"\"\"...\"\"\"). They start with a capital letter and end in a dot. "
   ]
  },
  {
   "cell_type": "code",
   "execution_count": null,
   "id": "2a1cf0cd-5043-47a3-8131-dcdc47e70a4c",
   "metadata": {},
   "outputs": [],
   "source": [
    "    \"\"\"\n",
    "    Takes an integer value to determine the amount of exclamation marks.\n",
    "    :param: an integer val representing the number of exclamation marks.\n",
    "    :return: nothing, the function prints a statement.\n",
    "    \"\"\""
   ]
  },
  {
   "cell_type": "markdown",
   "id": "4e23d53f-3f55-4216-b193-742608a4559b",
   "metadata": {},
   "source": [
    "***"
   ]
  },
  {
   "cell_type": "markdown",
   "id": "649e5a17-7bfa-4e2b-8558-a98745acd001",
   "metadata": {},
   "source": [
    "## 95-1. Function Docstring"
   ]
  },
  {
   "cell_type": "code",
   "execution_count": null,
   "id": "4b76769e-06ec-4b24-b2b5-4f7fb95dc85c",
   "metadata": {},
   "outputs": [],
   "source": [
    "def greet(name: str) -> str:\n",
    "    \"\"\"\n",
    "    Greets a person with their name.\n",
    "    :param: name (str): The name of the person.\n",
    "    :returns: str: A greeting message.\n",
    "    \"\"\"\n",
    "    return f\"Hello, {name}!\""
   ]
  },
  {
   "cell_type": "markdown",
   "id": "e6eea806-8bc2-48fb-b217-1caf8e354036",
   "metadata": {},
   "source": [
    "***"
   ]
  },
  {
   "cell_type": "markdown",
   "id": "03d1fc4e-5b75-444a-9a94-237f2b24a7d1",
   "metadata": {},
   "source": [
    "## 95-2. Class Docstring\n",
    "**Class** will be explained later."
   ]
  },
  {
   "cell_type": "code",
   "execution_count": 29,
   "id": "539a4991-b202-4345-bcfa-9fd0fb7944f2",
   "metadata": {},
   "outputs": [],
   "source": [
    "class Person:\n",
    "    \"\"\"\n",
    "    Represents a person.\n",
    "    :Attributes:\n",
    "        name (str): The person's name.\n",
    "        age (int): The person's age.\n",
    "    \"\"\"\n",
    "\n",
    "    def __init__(self, name: str, age: int) -> None:\n",
    "        \"\"\"\n",
    "        Initializes a Person instance.\n",
    "\n",
    "        :params:\n",
    "            name (str): The name of the person.\n",
    "            age (int): The age of the person.\n",
    "        \"\"\"\n",
    "        self.name = name\n",
    "        self.age = age"
   ]
  },
  {
   "cell_type": "markdown",
   "id": "03ee5a2a-661e-4913-8706-6019da1f15ba",
   "metadata": {},
   "source": [
    "***"
   ]
  },
  {
   "cell_type": "markdown",
   "id": "af15eb2f-75c7-49a1-910b-c9a9e6877447",
   "metadata": {},
   "source": [
    "# 96. Recursive Functions\n",
    "A recursive function is a function that calls itself in order to solve a problem. Recursion is a powerful programming technique where a problem is broken down into smaller, similar subproblems until they become simple enough to be solved directly."
   ]
  },
  {
   "cell_type": "markdown",
   "id": "fa70025f-07e0-4db2-b46b-d68248d82280",
   "metadata": {},
   "source": [
    "Every recursive function has two main parts:\n",
    "- **Base case(s)**: The simplest instance of the problem that can be solved directly\n",
    "- **Recursive case**: The function calls itself with a modified version of the original problem, moving closer to the base case"
   ]
  },
  {
   "cell_type": "markdown",
   "id": "fef3e0a3-0e55-460f-a4fa-cb4a88731e8f",
   "metadata": {},
   "source": [
    "***"
   ]
  },
  {
   "cell_type": "markdown",
   "id": "6aba38bb-1d25-47bd-a6f6-27952665f631",
   "metadata": {},
   "source": [
    "## Example: Factorial Function"
   ]
  },
  {
   "cell_type": "code",
   "execution_count": 1,
   "id": "49a13603-f78c-42ae-9d7f-376b1f5d781a",
   "metadata": {},
   "outputs": [
    {
     "name": "stdout",
     "output_type": "stream",
     "text": [
      "120\n"
     ]
    }
   ],
   "source": [
    "def factorial(n):\n",
    "    # Base case: 0! = 1 or 1! = 1\n",
    "    if n == 0 or n == 1:\n",
    "        return 1\n",
    "    # Recursive case: n! = n * (n-1)!\n",
    "    else:\n",
    "        return n * factorial(n - 1)\n",
    "\n",
    "print(factorial(5))  "
   ]
  },
  {
   "cell_type": "markdown",
   "id": "71a8a9e2-f582-4f64-9072-d5b9a8da26c7",
   "metadata": {},
   "source": [
    "***"
   ]
  },
  {
   "cell_type": "markdown",
   "id": "c4a97df4-804a-42e1-ba34-e4c32b03deca",
   "metadata": {},
   "source": [
    "## Example: Fibonacci Sequence"
   ]
  },
  {
   "cell_type": "code",
   "execution_count": 2,
   "id": "85be6bf8-b25f-454c-94be-6dd22b223ff4",
   "metadata": {},
   "outputs": [
    {
     "name": "stdout",
     "output_type": "stream",
     "text": [
      "13\n"
     ]
    }
   ],
   "source": [
    "def fibonacci(n):\n",
    "    # Base cases\n",
    "    if n == 0:\n",
    "        return 0\n",
    "    elif n == 1:\n",
    "        return 1\n",
    "    # Recursive case\n",
    "    else:\n",
    "        return fibonacci(n - 1) + fibonacci(n - 2)\n",
    "\n",
    "print(fibonacci(7))  "
   ]
  },
  {
   "cell_type": "markdown",
   "id": "f4ed73bc-95f3-4773-bb12-52a7573c9a6e",
   "metadata": {},
   "source": [
    "***"
   ]
  },
  {
   "cell_type": "markdown",
   "id": "10e6165d-7181-4f39-9703-37e3c8ccab3c",
   "metadata": {},
   "source": [
    "***"
   ]
  },
  {
   "cell_type": "markdown",
   "id": "b40206fb-6731-46dc-9302-0b9bc348b89b",
   "metadata": {},
   "source": [
    "# Some Excercises"
   ]
  },
  {
   "cell_type": "markdown",
   "id": "088d38a8-866c-48a9-a9b5-40df9d99ae4b",
   "metadata": {},
   "source": [
    "**1.** Write a function **calculate_area** that:\n",
    "- Takes length (float) and width (float) as arguments.\n",
    "- Returns the area (float).\n",
    "- Includes a docstring explaining the function.\n",
    "- Uses type hints for parameters and return value."
   ]
  },
  {
   "cell_type": "markdown",
   "id": "b486b7b8-307c-4eb7-8c14-a1dd72eb2e46",
   "metadata": {},
   "source": [
    "___"
   ]
  },
  {
   "cell_type": "markdown",
   "id": "5c32b073-bab0-451e-8fd7-a294020f71c6",
   "metadata": {},
   "source": [
    "**2.** Write a function **greet_user** that:\n",
    "- Takes a name (str or None).\n",
    "- If name is None, returns \"Hello, Guest!\".\n",
    "- Otherwise, returns \"Hello, {name}!\".\n",
    "- Uses Union/Optional type hints."
   ]
  },
  {
   "cell_type": "markdown",
   "id": "489da9fe-be18-487a-bcc7-e5d6672698ba",
   "metadata": {},
   "source": [
    "---"
   ]
  },
  {
   "cell_type": "markdown",
   "id": "bf117f39-fa94-453e-bca9-2ccd7b507496",
   "metadata": {},
   "source": [
    "**3.** Write a recursive function **count_down** that:\n",
    "- Takes an integer n (must be ≥ 0).\n",
    "- Prints numbers from n down to 0.\n",
    "- Uses type hints and a docstring."
   ]
  },
  {
   "cell_type": "markdown",
   "id": "02e59887-780b-4321-9382-ef4c85ec9684",
   "metadata": {},
   "source": [
    "---"
   ]
  },
  {
   "cell_type": "markdown",
   "id": "1b32e2d5-3ed7-4865-b63e-21c5cc156f67",
   "metadata": {},
   "source": [
    "**4.**  Write a function **apply_operation** that:\n",
    "- Takes a function (Callable), a value (int), and returns the result (int).\n",
    "- The function should apply the given operation (e.g., square, double) to value.\n",
    "- Use Callable type hints."
   ]
  },
  {
   "cell_type": "markdown",
   "id": "8dcb22a4-aff7-4377-b09a-a39fa4a3b2a7",
   "metadata": {},
   "source": [
    "***"
   ]
  },
  {
   "cell_type": "markdown",
   "id": "17511368-bcb2-4413-87ab-450ca9a64ff2",
   "metadata": {},
   "source": [
    "**5.** Declare a variable **dynamic_data** that can hold any type (Any).\n",
    "- Assign it a string, then an integer, then a list.\n",
    "- Use type hints to indicate it accepts any type."
   ]
  },
  {
   "cell_type": "markdown",
   "id": "af3414ed-8ba7-485b-954f-69bb05f37262",
   "metadata": {},
   "source": [
    "***"
   ]
  },
  {
   "cell_type": "markdown",
   "id": "8f5ff722-c584-476e-82c7-c99d48dcae2a",
   "metadata": {},
   "source": [
    "**6.** Write a function parse_input that:\n",
    "- Takes input_data (str, int, or float).\n",
    "- Returns it as a float if possible, otherwise as a string.\n",
    "- Uses Union type hints and includes a docstring."
   ]
  },
  {
   "cell_type": "markdown",
   "id": "2257cad9-b203-4fcf-bd40-26e519626647",
   "metadata": {},
   "source": [
    "***"
   ]
  },
  {
   "cell_type": "markdown",
   "id": "18a3029c-0bac-4193-a5c0-cff1c5cc1cfa",
   "metadata": {},
   "source": [
    "**7.** Write a recursive function recursive_sum that:\n",
    "- Takes a list of numbers (int/float).\n",
    "- Returns the sum of all elements.\n",
    "- Uses type hints and list recursion."
   ]
  },
  {
   "cell_type": "markdown",
   "id": "4b9cae2d-e35a-49a6-8e8b-cf96f638ddd0",
   "metadata": {},
   "source": [
    "***"
   ]
  },
  {
   "cell_type": "markdown",
   "id": "7cc97f26-cf68-4d50-82a1-ae7dcdfa95ac",
   "metadata": {},
   "source": [
    "#                                                        🌞 https://github.com/AI-Planet 🌞"
   ]
  }
 ],
 "metadata": {
  "kernelspec": {
   "display_name": "Python 3 (ipykernel)",
   "language": "python",
   "name": "python3"
  },
  "language_info": {
   "codemirror_mode": {
    "name": "ipython",
    "version": 3
   },
   "file_extension": ".py",
   "mimetype": "text/x-python",
   "name": "python",
   "nbconvert_exporter": "python",
   "pygments_lexer": "ipython3",
   "version": "3.9.12"
  }
 },
 "nbformat": 4,
 "nbformat_minor": 5
}
