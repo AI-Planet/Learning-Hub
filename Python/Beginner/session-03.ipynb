{
 "cells": [
  {
   "cell_type": "markdown",
   "id": "355b5f03-d2a5-4aa3-a77c-776ccfcb35d5",
   "metadata": {},
   "source": [
    "# Session 3 🐍"
   ]
  },
  {
   "cell_type": "markdown",
   "id": "45efc9ec-fb9c-458c-b1de-d961145e8449",
   "metadata": {},
   "source": [
    "☀️☀️☀️☀️☀️☀️☀️☀️☀️☀️☀️☀️☀️☀️☀️☀️☀️☀️☀️☀️☀️☀️☀️☀️☀️☀️☀️☀️☀️☀️☀️☀️☀️☀️☀️☀️☀️☀️☀️☀️☀️☀️☀️☀️☀️"
   ]
  },
  {
   "cell_type": "markdown",
   "id": "2c7a6ce5-4cd2-45cd-a3b8-9ac277170654",
   "metadata": {},
   "source": [
    "***"
   ]
  },
  {
   "cell_type": "markdown",
   "id": "f47542a8-416d-4a3f-8c9d-99781dc53bd8",
   "metadata": {},
   "source": [
    "# 12. Comparison Operators\n",
    "The following operators are known as comparison operators:\n"
   ]
  },
  {
   "cell_type": "markdown",
   "id": "be660306-1fa1-48ae-8e38-92fbec86c248",
   "metadata": {},
   "source": [
    "Greater than ( > ), less than ( < ), greater than or equal to ( >= ), less than or equal to ( <= ), assignment operator ( = ), relational operator ( == ), and inequality (!= )."
   ]
  },
  {
   "cell_type": "markdown",
   "id": "f83ed664-8c3e-43fe-8acb-6ed7259fc473",
   "metadata": {},
   "source": [
    "**Note:** Do not confuse the = operator with the == operator. The former is used for assignment, while the latter is used for comparison."
   ]
  },
  {
   "cell_type": "code",
   "execution_count": 1,
   "id": "e5dd4970-69c7-48c7-a33b-46fdcf05068d",
   "metadata": {},
   "outputs": [
    {
     "data": {
      "text/plain": [
       "True"
      ]
     },
     "execution_count": 1,
     "metadata": {},
     "output_type": "execute_result"
    }
   ],
   "source": [
    "5 > 3"
   ]
  },
  {
   "cell_type": "code",
   "execution_count": 2,
   "id": "4333c190-85fe-4ed3-8bc5-af090a818d82",
   "metadata": {},
   "outputs": [
    {
     "data": {
      "text/plain": [
       "False"
      ]
     },
     "execution_count": 2,
     "metadata": {},
     "output_type": "execute_result"
    }
   ],
   "source": [
    "5 < 3"
   ]
  },
  {
   "cell_type": "code",
   "execution_count": 3,
   "id": "79a88b79-4b33-40cb-8c1a-851e7055f1ba",
   "metadata": {},
   "outputs": [
    {
     "data": {
      "text/plain": [
       "True"
      ]
     },
     "execution_count": 3,
     "metadata": {},
     "output_type": "execute_result"
    }
   ],
   "source": [
    "5 == 5"
   ]
  },
  {
   "cell_type": "markdown",
   "id": "640163bb-fa3a-46ba-b745-5397096c4c6b",
   "metadata": {},
   "source": [
    "**Note:** You can not assign to literals:"
   ]
  },
  {
   "cell_type": "code",
   "execution_count": 4,
   "id": "6e98aa23-04e7-4439-b245-9ab8f0bb6630",
   "metadata": {},
   "outputs": [
    {
     "ename": "SyntaxError",
     "evalue": "cannot assign to literal (3619573732.py, line 1)",
     "output_type": "error",
     "traceback": [
      "\u001b[1;36m  Cell \u001b[1;32mIn [4], line 1\u001b[1;36m\u001b[0m\n\u001b[1;33m    5 = 5\u001b[0m\n\u001b[1;37m    ^\u001b[0m\n\u001b[1;31mSyntaxError\u001b[0m\u001b[1;31m:\u001b[0m cannot assign to literal\n"
     ]
    }
   ],
   "source": [
    "5 = 5"
   ]
  },
  {
   "cell_type": "code",
   "execution_count": 5,
   "id": "c4ba7708-8e59-4ebd-9341-a65855f0b6e4",
   "metadata": {},
   "outputs": [
    {
     "data": {
      "text/plain": [
       "True"
      ]
     },
     "execution_count": 5,
     "metadata": {},
     "output_type": "execute_result"
    }
   ],
   "source": [
    "6 != 7"
   ]
  },
  {
   "cell_type": "markdown",
   "id": "8cef48cd-ae75-4983-b82e-00b9380deec8",
   "metadata": {},
   "source": [
    "***"
   ]
  },
  {
   "cell_type": "markdown",
   "id": "355cbb46-e85d-481b-93c5-a40d8dda1bc1",
   "metadata": {},
   "source": [
    "# 13. Assignment Operators\n",
    "With the help of these operators, we store a value in a variable. These variables are:"
   ]
  },
  {
   "cell_type": "raw",
   "id": "3084f052-c5f8-45b5-af4e-faca2c9c0391",
   "metadata": {},
   "source": [
    "=  ,  +=  ,  *=  ,  /=  ,  %=  ,  //=  ,  **= "
   ]
  },
  {
   "cell_type": "code",
   "execution_count": 6,
   "id": "fd85d261-ab95-4921-978d-5193494dd886",
   "metadata": {},
   "outputs": [
    {
     "name": "stdout",
     "output_type": "stream",
     "text": [
      "7\n"
     ]
    }
   ],
   "source": [
    "x = 5\n",
    "x += 2\n",
    "print(x)"
   ]
  },
  {
   "cell_type": "markdown",
   "id": "f2167106-abbc-4134-bccc-ffcfcfcb44bb",
   "metadata": {},
   "source": [
    "***"
   ]
  },
  {
   "cell_type": "markdown",
   "id": "f93da5b9-7e3e-4e34-9af4-a61141548671",
   "metadata": {},
   "source": [
    "# 14. Boolean\n",
    "In Boolean algebra, every value has a value of either True or False. The type of these two values is **bool**:"
   ]
  },
  {
   "cell_type": "code",
   "execution_count": 7,
   "id": "2fd1e406-1813-4e63-82f6-5b22558b5588",
   "metadata": {},
   "outputs": [
    {
     "name": "stdout",
     "output_type": "stream",
     "text": [
      "<class 'bool'>\n"
     ]
    }
   ],
   "source": [
    "print(type(True))"
   ]
  },
  {
   "cell_type": "code",
   "execution_count": 8,
   "id": "9051f72f-ffea-4eab-8ccb-2a94bb15d821",
   "metadata": {},
   "outputs": [
    {
     "name": "stdout",
     "output_type": "stream",
     "text": [
      "<class 'bool'>\n"
     ]
    }
   ],
   "source": [
    "print(type(False))"
   ]
  },
  {
   "cell_type": "code",
   "execution_count": 9,
   "id": "26763fbd-83f3-42df-bd74-1b731befabb2",
   "metadata": {},
   "outputs": [
    {
     "name": "stdout",
     "output_type": "stream",
     "text": [
      "False\n"
     ]
    }
   ],
   "source": [
    "print(5>10)"
   ]
  },
  {
   "cell_type": "markdown",
   "id": "f62f4182-5a01-458c-8271-045ca7556a66",
   "metadata": {},
   "source": [
    "**Note:** Any non-zero value is True:"
   ]
  },
  {
   "cell_type": "code",
   "execution_count": 10,
   "id": "58795d33-e892-4968-973a-02555975edfa",
   "metadata": {},
   "outputs": [
    {
     "data": {
      "text/plain": [
       "True"
      ]
     },
     "execution_count": 10,
     "metadata": {},
     "output_type": "execute_result"
    }
   ],
   "source": [
    "bool(5)"
   ]
  },
  {
   "cell_type": "code",
   "execution_count": 11,
   "id": "5e850137-6eca-4ae5-9010-704ef25b35e4",
   "metadata": {},
   "outputs": [
    {
     "data": {
      "text/plain": [
       "False"
      ]
     },
     "execution_count": 11,
     "metadata": {},
     "output_type": "execute_result"
    }
   ],
   "source": [
    "bool(0)"
   ]
  },
  {
   "cell_type": "code",
   "execution_count": 12,
   "id": "3cf295ef-ec1f-422b-9ebd-d481d17b3423",
   "metadata": {},
   "outputs": [
    {
     "data": {
      "text/plain": [
       "False"
      ]
     },
     "execution_count": 12,
     "metadata": {},
     "output_type": "execute_result"
    }
   ],
   "source": [
    "bool('')"
   ]
  },
  {
   "cell_type": "code",
   "execution_count": 13,
   "id": "ad327cf8-8bda-477b-96e8-8d503828698d",
   "metadata": {},
   "outputs": [
    {
     "data": {
      "text/plain": [
       "True"
      ]
     },
     "execution_count": 13,
     "metadata": {},
     "output_type": "execute_result"
    }
   ],
   "source": [
    "bool(' ')"
   ]
  },
  {
   "cell_type": "code",
   "execution_count": 14,
   "id": "00cdbfb6-fd97-40bd-afb6-5143b13d78e4",
   "metadata": {},
   "outputs": [
    {
     "name": "stdout",
     "output_type": "stream",
     "text": [
      "True\n",
      "False\n"
     ]
    }
   ],
   "source": [
    "a = 3\n",
    "print(a==3)\n",
    "print(a==4)"
   ]
  },
  {
   "cell_type": "markdown",
   "id": "8d257824-68f7-49f8-accf-1217f59bd678",
   "metadata": {},
   "source": [
    "***"
   ]
  },
  {
   "cell_type": "markdown",
   "id": "6004f9cd-c84a-4e54-84ea-bc02572e59b7",
   "metadata": {},
   "source": [
    "# 15. Logical Operators\n",
    "The main logical operators used in Boolean logic are: **And**, **Or**, and **Not**."
   ]
  },
  {
   "cell_type": "markdown",
   "id": "aae6c08b-70bf-4c98-9fc7-c8d421ef2193",
   "metadata": {},
   "source": [
    "To learn them take a look at the table below:"
   ]
  },
  {
   "cell_type": "markdown",
   "id": "813fe685-18b7-4853-9b0b-e920dbf230d6",
   "metadata": {},
   "source": [
    "|P|Q|P and Q|P or Q|not P|\n",
    "|-|-|-------|------|-----|\n",
    "|T|T|T|T|F|\n",
    "|T|F|F|T|F|\n",
    "|F|T|F|T|T|\n",
    "|F|F|F|F|T|"
   ]
  },
  {
   "cell_type": "code",
   "execution_count": 15,
   "id": "b338b07e-9288-45c2-b998-65bfc4751128",
   "metadata": {},
   "outputs": [
    {
     "data": {
      "text/plain": [
       "False"
      ]
     },
     "execution_count": 15,
     "metadata": {},
     "output_type": "execute_result"
    }
   ],
   "source": [
    "(3>4) and (4>1)"
   ]
  },
  {
   "cell_type": "code",
   "execution_count": 16,
   "id": "b7c91344-96af-4e89-8176-e7ee3d292c0d",
   "metadata": {},
   "outputs": [
    {
     "data": {
      "text/plain": [
       "True"
      ]
     },
     "execution_count": 16,
     "metadata": {},
     "output_type": "execute_result"
    }
   ],
   "source": [
    "(3>4) or (4>1)"
   ]
  },
  {
   "cell_type": "code",
   "execution_count": 17,
   "id": "650876de-d2a7-4e55-8d02-9ad506e877f7",
   "metadata": {},
   "outputs": [
    {
     "name": "stdout",
     "output_type": "stream",
     "text": [
      "True\n",
      "False\n"
     ]
    }
   ],
   "source": [
    "a = 6\n",
    "b = 7\n",
    "print(a != b)\n",
    "print(not a != b)"
   ]
  },
  {
   "cell_type": "markdown",
   "id": "ace1596d-23fb-4505-8bc9-d9be0c790f64",
   "metadata": {},
   "source": [
    "***"
   ]
  },
  {
   "cell_type": "markdown",
   "id": "3d6f7d9e-f4b7-46cd-afb6-f823e126cccc",
   "metadata": {},
   "source": [
    "# 16. ZeroDivisionError  \n",
    "A ZeroDivisionError occurs in Python when you try to divide a number by zero, which is mathematically undefined."
   ]
  },
  {
   "cell_type": "code",
   "execution_count": 18,
   "id": "df3e107b-12d9-4ad8-914a-16236d97889f",
   "metadata": {},
   "outputs": [
    {
     "ename": "ZeroDivisionError",
     "evalue": "division by zero",
     "output_type": "error",
     "traceback": [
      "\u001b[1;31m---------------------------------------------------------------------------\u001b[0m",
      "\u001b[1;31mZeroDivisionError\u001b[0m                         Traceback (most recent call last)",
      "Cell \u001b[1;32mIn [18], line 1\u001b[0m\n\u001b[1;32m----> 1\u001b[0m result \u001b[38;5;241m=\u001b[39m \u001b[38;5;241;43m10\u001b[39;49m\u001b[43m \u001b[49m\u001b[38;5;241;43m/\u001b[39;49m\u001b[43m \u001b[49m\u001b[38;5;241;43m0\u001b[39;49m\n",
      "\u001b[1;31mZeroDivisionError\u001b[0m: division by zero"
     ]
    }
   ],
   "source": [
    "result = 10 / 0  # Raises ZeroDivisionError"
   ]
  },
  {
   "cell_type": "markdown",
   "id": "88ec2052-55cc-44b8-9384-92adc3252936",
   "metadata": {},
   "source": [
    "**Important note:** If the left-hand side of the **and** is False, Python will not execute the right-hand side of it. Consider the following example:"
   ]
  },
  {
   "cell_type": "code",
   "execution_count": 19,
   "id": "b84f1169-b149-4fba-b732-ed30a4109871",
   "metadata": {},
   "outputs": [
    {
     "data": {
      "text/plain": [
       "False"
      ]
     },
     "execution_count": 19,
     "metadata": {},
     "output_type": "execute_result"
    }
   ],
   "source": [
    "(1 >= 2) and ((2/0) > 2)"
   ]
  },
  {
   "cell_type": "markdown",
   "id": "819ca097-12e3-4264-8130-f1b09ca6c70d",
   "metadata": {},
   "source": [
    "This means that we do not receive an error message (because we know that we should receive a ZeroDivisionError for the expression (2/0), but the reality is that Python remains unaware of the existence of this expression and only the expression on the left of the and is checked because it has the value False. If it had the value True, then Python would also check the expression on the right of the and and an error message would be received."
   ]
  },
  {
   "cell_type": "code",
   "execution_count": 20,
   "id": "73c99de4-a56f-40c0-8430-a7a7b4b6f455",
   "metadata": {},
   "outputs": [
    {
     "ename": "ZeroDivisionError",
     "evalue": "division by zero",
     "output_type": "error",
     "traceback": [
      "\u001b[1;31m---------------------------------------------------------------------------\u001b[0m",
      "\u001b[1;31mZeroDivisionError\u001b[0m                         Traceback (most recent call last)",
      "Cell \u001b[1;32mIn [20], line 1\u001b[0m\n\u001b[1;32m----> 1\u001b[0m (\u001b[38;5;241m3\u001b[39m \u001b[38;5;241m>\u001b[39m\u001b[38;5;241m=\u001b[39m \u001b[38;5;241m2\u001b[39m) \u001b[38;5;129;01mand\u001b[39;00m ((\u001b[38;5;241;43m2\u001b[39;49m\u001b[38;5;241;43m/\u001b[39;49m\u001b[38;5;241;43m0\u001b[39;49m) \u001b[38;5;241m>\u001b[39m \u001b[38;5;241m2\u001b[39m)\n",
      "\u001b[1;31mZeroDivisionError\u001b[0m: division by zero"
     ]
    }
   ],
   "source": [
    "(3 >= 2) and ((2/0) > 2)"
   ]
  },
  {
   "cell_type": "markdown",
   "id": "3b902d97-3935-4f22-ad2f-fbbf616645c2",
   "metadata": {},
   "source": [
    "***"
   ]
  },
  {
   "cell_type": "markdown",
   "id": "1b5ff85c-2adc-4628-b88a-d8a21b7b6c5b",
   "metadata": {},
   "source": [
    "# 17. Membership Operators\n",
    "These operators are **in** and **not in**. Suppose we have a list and we want to see if the number we want is in this list or not:"
   ]
  },
  {
   "cell_type": "code",
   "execution_count": 21,
   "id": "9a65827f-e0d2-4e01-ac03-484be495b8b8",
   "metadata": {},
   "outputs": [
    {
     "data": {
      "text/plain": [
       "True"
      ]
     },
     "execution_count": 21,
     "metadata": {},
     "output_type": "execute_result"
    }
   ],
   "source": [
    "x = [1, 2, 3, 4, 5]\n",
    "3 in x                                                     "
   ]
  },
  {
   "cell_type": "code",
   "execution_count": 22,
   "id": "ba7164cd-7de2-4c8a-a086-cb14e6597915",
   "metadata": {},
   "outputs": [
    {
     "data": {
      "text/plain": [
       "False"
      ]
     },
     "execution_count": 22,
     "metadata": {},
     "output_type": "execute_result"
    }
   ],
   "source": [
    "6 in x"
   ]
  },
  {
   "cell_type": "code",
   "execution_count": 23,
   "id": "16db7a56-b1b0-448d-ad17-074a28d0d136",
   "metadata": {},
   "outputs": [
    {
     "data": {
      "text/plain": [
       "True"
      ]
     },
     "execution_count": 23,
     "metadata": {},
     "output_type": "execute_result"
    }
   ],
   "source": [
    "9 not in x"
   ]
  },
  {
   "cell_type": "markdown",
   "id": "bd233204-cc9b-4a59-84bc-6fa1eeade336",
   "metadata": {},
   "source": [
    "***"
   ]
  },
  {
   "cell_type": "markdown",
   "id": "f5613403-141e-4e18-a713-6df06c831ad3",
   "metadata": {},
   "source": [
    "# 18. Conditional Execution\n",
    "Conditional execution allows you to run different blocks of code based on whether a condition is True or False."
   ]
  },
  {
   "cell_type": "markdown",
   "id": "127743df-4c0b-46bd-9207-78f2f466363a",
   "metadata": {},
   "source": [
    "***"
   ]
  },
  {
   "cell_type": "markdown",
   "id": "3ba55c6a-2aa1-4659-900b-b71a1e92c152",
   "metadata": {},
   "source": [
    "## 18-1. if Statement\n",
    "Executes a block only if the condition is True."
   ]
  },
  {
   "cell_type": "code",
   "execution_count": 24,
   "id": "65ea47c0-3430-484c-aaaf-0b12374bb990",
   "metadata": {},
   "outputs": [
    {
     "name": "stdout",
     "output_type": "stream",
     "text": [
      "x is greater than 5\n"
     ]
    }
   ],
   "source": [
    "x = 10\n",
    "if x > 5:\n",
    "    print(\"x is greater than 5\")  # This runs"
   ]
  },
  {
   "cell_type": "code",
   "execution_count": 25,
   "id": "08bffee7-9f45-4991-ac9e-53764acd3a88",
   "metadata": {},
   "outputs": [],
   "source": [
    "x = 1\n",
    "if x > 5:\n",
    "    print(\"x is greater than 5\")  # This one does not run"
   ]
  },
  {
   "cell_type": "markdown",
   "id": "3cfd0165-a4d1-4c7d-8cc9-b06e3e47c0dd",
   "metadata": {},
   "source": [
    "***"
   ]
  },
  {
   "cell_type": "markdown",
   "id": "01a23111-2669-47dc-ba32-7aa94b7037da",
   "metadata": {},
   "source": [
    "## 18-2. if-else Statement\n",
    "Chooses between two paths based on a condition."
   ]
  },
  {
   "cell_type": "code",
   "execution_count": 26,
   "id": "a2089733-14a6-48c5-858f-25f112f443d5",
   "metadata": {},
   "outputs": [
    {
     "name": "stdout",
     "output_type": "stream",
     "text": [
      "You are a minor.\n"
     ]
    }
   ],
   "source": [
    "age = 17\n",
    "if age >= 18:\n",
    "    print(\"You are an adult.\")\n",
    "else:\n",
    "    print(\"You are a minor.\")  # This runs"
   ]
  },
  {
   "cell_type": "markdown",
   "id": "4e0aab24-9618-4622-ba2a-c6dc6e39f2dd",
   "metadata": {},
   "source": [
    "***"
   ]
  },
  {
   "cell_type": "markdown",
   "id": "8a4a4d94-9c06-499d-8d0f-61d7c3daf107",
   "metadata": {},
   "source": [
    "## 18-3. if-elif-else Statement\n",
    "Handles multiple conditions in order."
   ]
  },
  {
   "cell_type": "code",
   "execution_count": 27,
   "id": "98634052-7f26-4269-8bc9-1ce966b524e6",
   "metadata": {},
   "outputs": [
    {
     "name": "stdout",
     "output_type": "stream",
     "text": [
      "Grade: B\n"
     ]
    }
   ],
   "source": [
    "score = 85\n",
    "if score >= 90:\n",
    "    print(\"Grade: A\")\n",
    "elif score >= 80:  # Checks if the first condition fails\n",
    "    print(\"Grade: B\")  # This runs\n",
    "else:\n",
    "    print(\"Grade: C or below\")"
   ]
  },
  {
   "cell_type": "markdown",
   "id": "ab0cf4d7-4c43-4f9a-b150-8208fab078a2",
   "metadata": {},
   "source": [
    "***"
   ]
  },
  {
   "cell_type": "markdown",
   "id": "35f77b56-0a8d-475a-9564-305aa34099ef",
   "metadata": {},
   "source": [
    "## 18-4. Ternary Operator (Short if-else)\n",
    "A compact way to assign values conditionally."
   ]
  },
  {
   "cell_type": "code",
   "execution_count": 28,
   "id": "4ea81d27-3642-435f-b45b-76019210047f",
   "metadata": {},
   "outputs": [
    {
     "name": "stdout",
     "output_type": "stream",
     "text": [
      "Even\n"
     ]
    }
   ],
   "source": [
    "x = 10\n",
    "result = \"Even\" if x % 2 == 0 else \"Odd\"\n",
    "print(result)  # Output: \"Even\""
   ]
  },
  {
   "cell_type": "markdown",
   "id": "5489a999-84b3-4be7-8bd3-858421ff65b2",
   "metadata": {},
   "source": [
    "***"
   ]
  },
  {
   "cell_type": "markdown",
   "id": "b17d4fb6-40aa-4830-98cb-42297c2719dd",
   "metadata": {},
   "source": [
    "## 18-5. match-case (Python 3.10+)\n",
    "Like switch-case in other languages."
   ]
  },
  {
   "cell_type": "code",
   "execution_count": null,
   "id": "2511b9b1-0e16-499e-8685-910f9a46338c",
   "metadata": {},
   "outputs": [],
   "source": [
    "day = \"Mon\"\n",
    "match day:\n",
    "    case \"Mon\":\n",
    "        print(\"Monday\")\n",
    "    case \"Tue\":\n",
    "        print(\"Tuesday\")\n",
    "    case _:  # Default case\n",
    "        print(\"Other day\")"
   ]
  },
  {
   "cell_type": "markdown",
   "id": "28feece9-b0c4-46bd-8726-70f64bed2819",
   "metadata": {},
   "source": [
    "***"
   ]
  },
  {
   "cell_type": "markdown",
   "id": "7cc97f26-cf68-4d50-82a1-ae7dcdfa95ac",
   "metadata": {},
   "source": [
    "#                                                        🌞 https://github.com/AI-Planet 🌞"
   ]
  }
 ],
 "metadata": {
  "kernelspec": {
   "display_name": "Python 3 (ipykernel)",
   "language": "python",
   "name": "python3"
  },
  "language_info": {
   "codemirror_mode": {
    "name": "ipython",
    "version": 3
   },
   "file_extension": ".py",
   "mimetype": "text/x-python",
   "name": "python",
   "nbconvert_exporter": "python",
   "pygments_lexer": "ipython3",
   "version": "3.9.12"
  }
 },
 "nbformat": 4,
 "nbformat_minor": 5
}
