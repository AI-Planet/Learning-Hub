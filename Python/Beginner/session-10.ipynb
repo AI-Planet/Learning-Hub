{
 "cells": [
  {
   "cell_type": "markdown",
   "id": "355b5f03-d2a5-4aa3-a77c-776ccfcb35d5",
   "metadata": {},
   "source": [
    "# Session 10 🐍"
   ]
  },
  {
   "cell_type": "markdown",
   "id": "45efc9ec-fb9c-458c-b1de-d961145e8449",
   "metadata": {},
   "source": [
    "☀️☀️☀️☀️☀️☀️☀️☀️☀️☀️☀️☀️☀️☀️☀️☀️☀️☀️☀️☀️☀️☀️☀️☀️☀️☀️☀️☀️☀️☀️☀️☀️☀️☀️☀️☀️☀️☀️☀️☀️☀️☀️☀️☀️☀️"
   ]
  },
  {
   "cell_type": "markdown",
   "id": "2c7a6ce5-4cd2-45cd-a3b8-9ac277170654",
   "metadata": {},
   "source": [
    "***"
   ]
  },
  {
   "cell_type": "markdown",
   "id": "f47542a8-416d-4a3f-8c9d-99781dc53bd8",
   "metadata": {},
   "source": [
    "# 53. Tuples \n",
    "Tuples are one of Python's built-in data structures used to store collections of items. They are similar to lists but with key differences in mutability and use cases."
   ]
  },
  {
   "cell_type": "markdown",
   "id": "d516f58d-fe78-4946-82e9-99e5102f64c8",
   "metadata": {},
   "source": [
    "Basic Characteristics\n",
    "- **Ordered:** Elements have a fixed position (indexed like lists).\n",
    "- **Immutable:** Cannot be modified after creation (unlike lists).\n",
    "- **Heterogeneous:** Can store different data types.\n",
    "- **Duplicability:** Allows Duplicates\tCan have repeated values."
   ]
  },
  {
   "cell_type": "markdown",
   "id": "a35384c2-ea49-4613-b074-ef3b571f756e",
   "metadata": {},
   "source": [
    "***"
   ]
  },
  {
   "cell_type": "markdown",
   "id": "91b2d653-7b83-4f11-87c7-394277442253",
   "metadata": {},
   "source": [
    "# 54. Creating Tuples\n",
    "**Method 1:** Using Parentheses ()"
   ]
  },
  {
   "cell_type": "code",
   "execution_count": 4,
   "id": "31e5e69c-e962-4aa5-a8a3-3b4f6cf60c13",
   "metadata": {},
   "outputs": [
    {
     "name": "stdout",
     "output_type": "stream",
     "text": [
      "(1, 2, 3)\n",
      "('a', 'b', 'c')\n"
     ]
    }
   ],
   "source": [
    "tuple1 = (1, 2, 3)\n",
    "tuple2 = (\"a\", \"b\", \"c\")\n",
    "print(tuple1)\n",
    "print(tuple2)"
   ]
  },
  {
   "cell_type": "markdown",
   "id": "c5df47f0-ba73-46ca-ba95-a941fadc74c3",
   "metadata": {},
   "source": [
    "***"
   ]
  },
  {
   "cell_type": "markdown",
   "id": "7271a30e-0d82-493a-b86f-488308299f1e",
   "metadata": {},
   "source": [
    "**Method 2:** Without Parentheses (Comma-Separated)"
   ]
  },
  {
   "cell_type": "code",
   "execution_count": 5,
   "id": "e4d6d284-35e8-4add-9194-52f86b89714e",
   "metadata": {},
   "outputs": [
    {
     "name": "stdout",
     "output_type": "stream",
     "text": [
      "(4, 5, 6)\n"
     ]
    }
   ],
   "source": [
    "tuple3 = 4, 5, 6 \n",
    "print(tuple3)"
   ]
  },
  {
   "cell_type": "markdown",
   "id": "9a8fb70e-b17f-444e-86b5-dbf081e59200",
   "metadata": {},
   "source": [
    "***"
   ]
  },
  {
   "cell_type": "markdown",
   "id": "4a660e2a-2d02-405a-83d2-b1146fc19682",
   "metadata": {},
   "source": [
    "**Method 3:** Single-Element Tuple **(Requires a Comma)**"
   ]
  },
  {
   "cell_type": "code",
   "execution_count": 7,
   "id": "1f3bf271-31c7-4866-9213-77e3dd557ab3",
   "metadata": {},
   "outputs": [
    {
     "name": "stdout",
     "output_type": "stream",
     "text": [
      "(7,)\n",
      "(7,)\n"
     ]
    }
   ],
   "source": [
    "tuple4 = (7,)  \n",
    "tuple5 = 7,   \n",
    "print(tuple4)\n",
    "print(tuple5)"
   ]
  },
  {
   "cell_type": "markdown",
   "id": "e0492755-963c-4b7a-ac4e-2f1f915fc6c4",
   "metadata": {},
   "source": [
    "***"
   ]
  },
  {
   "cell_type": "markdown",
   "id": "3f31ad0c-b65f-4828-a6fd-1b7476163f01",
   "metadata": {},
   "source": [
    "**Method 4:** Using tuple() Constructor (Changes List to Tuple)"
   ]
  },
  {
   "cell_type": "code",
   "execution_count": 9,
   "id": "936daf6d-4aa2-4715-a553-a6cbbeb93065",
   "metadata": {},
   "outputs": [
    {
     "name": "stdout",
     "output_type": "stream",
     "text": [
      "(1, 2, 3)\n"
     ]
    }
   ],
   "source": [
    "tuple6 = tuple([1, 2, 3])  \n",
    "print(tuple6)"
   ]
  },
  {
   "cell_type": "code",
   "execution_count": 10,
   "id": "4f740a57-944f-4402-be1b-092527c2d77e",
   "metadata": {},
   "outputs": [
    {
     "name": "stdout",
     "output_type": "stream",
     "text": [
      "()\n",
      "<class 'tuple'>\n"
     ]
    }
   ],
   "source": [
    "tuple7 = tuple()\n",
    "print(tuple7)\n",
    "print(type(tuple7))"
   ]
  },
  {
   "cell_type": "markdown",
   "id": "ae3dec4c-5e60-488c-8133-c047e7e6934e",
   "metadata": {},
   "source": [
    "***"
   ]
  },
  {
   "cell_type": "markdown",
   "id": "878d62da-f7c1-4faf-a77a-b971f01fa9cc",
   "metadata": {},
   "source": [
    "**Note:** If the argument of the tuple function is a sequence (string, list, or tuple), the result is a tuple with the elements of the sequence."
   ]
  },
  {
   "cell_type": "code",
   "execution_count": 11,
   "id": "804b78f0-853e-494c-bec7-51edc6a6c330",
   "metadata": {},
   "outputs": [
    {
     "data": {
      "text/plain": [
       "('e', 'n', 'g', 'i', 'n', 'e', 'e', 'r', 'i', 'n', 'g')"
      ]
     },
     "execution_count": 11,
     "metadata": {},
     "output_type": "execute_result"
    }
   ],
   "source": [
    "tuple('engineering')"
   ]
  },
  {
   "cell_type": "code",
   "execution_count": 12,
   "id": "4404fe97-86ba-41eb-aa6b-da1681602774",
   "metadata": {},
   "outputs": [
    {
     "data": {
      "text/plain": [
       "('John Lennon', 'Amy Winehouse', 'Adele', 'Bon Jovi', 'The Rolling Stones')"
      ]
     },
     "execution_count": 12,
     "metadata": {},
     "output_type": "execute_result"
    }
   ],
   "source": [
    "artists = ['John Lennon', 'Amy Winehouse', 'Adele', 'Bon Jovi', 'The Rolling Stones']\n",
    "tuple(artists)"
   ]
  },
  {
   "cell_type": "markdown",
   "id": "0382a403-d2c7-4fcf-813d-8ddfb2aa99a6",
   "metadata": {},
   "source": [
    "***"
   ]
  },
  {
   "cell_type": "markdown",
   "id": "f88f63a4-a56a-4a89-b2ae-e70005b53f29",
   "metadata": {},
   "source": [
    "# 55. Accessing Tuple Elements"
   ]
  },
  {
   "cell_type": "markdown",
   "id": "7e1fdabf-716d-460f-8f2a-b5d9112db95a",
   "metadata": {},
   "source": [
    "## 55-1. Indexing (Zero-Based)"
   ]
  },
  {
   "cell_type": "code",
   "execution_count": 13,
   "id": "c6518b25-d712-4bc8-a90b-dc503f6a75d2",
   "metadata": {},
   "outputs": [
    {
     "name": "stdout",
     "output_type": "stream",
     "text": [
      "10\n",
      "40\n"
     ]
    }
   ],
   "source": [
    "my_tuple = (10, 20, 30, 40)\n",
    "print(my_tuple[0])   \n",
    "print(my_tuple[-1])  "
   ]
  },
  {
   "cell_type": "markdown",
   "id": "d97443db-1f5f-4bd7-a4c8-41df2a565dc4",
   "metadata": {},
   "source": [
    "***"
   ]
  },
  {
   "cell_type": "markdown",
   "id": "4bbee395-fe24-4a53-84b1-0c0e82a63ebe",
   "metadata": {},
   "source": [
    "## 55-2. Slicing (Extract a Subset)"
   ]
  },
  {
   "cell_type": "code",
   "execution_count": 15,
   "id": "00a13c5c-15e9-498a-982c-7eee24fa95b5",
   "metadata": {},
   "outputs": [
    {
     "name": "stdout",
     "output_type": "stream",
     "text": [
      "(20, 30)\n"
     ]
    }
   ],
   "source": [
    "print(my_tuple[1:3])  "
   ]
  },
  {
   "cell_type": "markdown",
   "id": "449ffe1b-9448-4a0f-89d1-f216097d8507",
   "metadata": {},
   "source": [
    "***"
   ]
  },
  {
   "cell_type": "markdown",
   "id": "778dd47c-1173-4bdd-9c50-b261819042f4",
   "metadata": {},
   "source": [
    "# 56. Immutability (Cannot Modify)\n",
    "- Tuples cannot be changed after creation (unlike lists).\n",
    "- Attempting to modify raises a TypeError."
   ]
  },
  {
   "cell_type": "code",
   "execution_count": 17,
   "id": "3c8a6c31-d1c0-4006-bf69-127d8557eebb",
   "metadata": {},
   "outputs": [
    {
     "ename": "TypeError",
     "evalue": "'tuple' object does not support item assignment",
     "output_type": "error",
     "traceback": [
      "\u001b[1;31m---------------------------------------------------------------------------\u001b[0m",
      "\u001b[1;31mTypeError\u001b[0m                                 Traceback (most recent call last)",
      "Cell \u001b[1;32mIn [17], line 2\u001b[0m\n\u001b[0;32m      1\u001b[0m my_tuple \u001b[38;5;241m=\u001b[39m (\u001b[38;5;241m1\u001b[39m, \u001b[38;5;241m2\u001b[39m, \u001b[38;5;241m3\u001b[39m)\n\u001b[1;32m----> 2\u001b[0m \u001b[43mmy_tuple\u001b[49m\u001b[43m[\u001b[49m\u001b[38;5;241;43m0\u001b[39;49m\u001b[43m]\u001b[49m \u001b[38;5;241m=\u001b[39m \u001b[38;5;241m99\u001b[39m\n",
      "\u001b[1;31mTypeError\u001b[0m: 'tuple' object does not support item assignment"
     ]
    }
   ],
   "source": [
    "my_tuple = (1, 2, 3)\n",
    "my_tuple[0] = 99  "
   ]
  },
  {
   "cell_type": "markdown",
   "id": "88d556e3-5780-46cb-95b9-7952cf023857",
   "metadata": {},
   "source": [
    "***"
   ]
  },
  {
   "cell_type": "markdown",
   "id": "291a5aad-7d95-4c3c-bce5-c73538e8efce",
   "metadata": {},
   "source": [
    "**Workaround:** Convert to List, Modify, Convert Back"
   ]
  },
  {
   "cell_type": "code",
   "execution_count": 19,
   "id": "f140379b-810f-47ec-86dd-00fabd15ffc1",
   "metadata": {},
   "outputs": [
    {
     "data": {
      "text/plain": [
       "(99, 2, 3)"
      ]
     },
     "execution_count": 19,
     "metadata": {},
     "output_type": "execute_result"
    }
   ],
   "source": [
    "temp_list = list(my_tuple)\n",
    "temp_list[0] = 99\n",
    "my_tuple = tuple(temp_list) \n",
    "my_tuple"
   ]
  },
  {
   "cell_type": "markdown",
   "id": "8fa357e2-70b0-43cf-8c93-1cf3d75237ea",
   "metadata": {},
   "source": [
    "***"
   ]
  },
  {
   "cell_type": "markdown",
   "id": "e67a11e2-d118-4289-8a94-f452154a853f",
   "metadata": {},
   "source": [
    "# 57. Tuple Operations"
   ]
  },
  {
   "cell_type": "markdown",
   "id": "be62c920-5cc0-4287-bb4e-d907a23a507e",
   "metadata": {},
   "source": [
    "## 57-1. Concatenation (+)\n",
    "Combines two tuples."
   ]
  },
  {
   "cell_type": "code",
   "execution_count": 20,
   "id": "a240e67d-d51d-41c0-b4f4-8b0611c1c968",
   "metadata": {},
   "outputs": [
    {
     "data": {
      "text/plain": [
       "(1, 2, 3, 4)"
      ]
     },
     "execution_count": 20,
     "metadata": {},
     "output_type": "execute_result"
    }
   ],
   "source": [
    "(1, 2) + (3, 4)"
   ]
  },
  {
   "cell_type": "markdown",
   "id": "8e9d6f32-5766-4c4b-bb53-ea459804f0f6",
   "metadata": {},
   "source": [
    "***"
   ]
  },
  {
   "cell_type": "markdown",
   "id": "4b31e74b-a19c-4e54-96db-76da01ca1bed",
   "metadata": {},
   "source": [
    "## 57-2. Repetition (*)\t \t\n",
    "Repeats a tuple."
   ]
  },
  {
   "cell_type": "code",
   "execution_count": 21,
   "id": "7e8e0097-c0be-4bec-aff3-ed8cf4b773d5",
   "metadata": {},
   "outputs": [
    {
     "data": {
      "text/plain": [
       "(1, 2, 1, 2, 1, 2)"
      ]
     },
     "execution_count": 21,
     "metadata": {},
     "output_type": "execute_result"
    }
   ],
   "source": [
    "(1, 2) * 3"
   ]
  },
  {
   "cell_type": "markdown",
   "id": "69ba303a-ac1a-4e9b-b45d-f504080a4f2a",
   "metadata": {},
   "source": [
    "***"
   ]
  },
  {
   "cell_type": "markdown",
   "id": "7f5802b9-2e40-4688-ba1f-01ea774c1208",
   "metadata": {},
   "source": [
    "## 57-3. len\n",
    "Returns number of elements."
   ]
  },
  {
   "cell_type": "code",
   "execution_count": 22,
   "id": "43d86f6e-3c02-4273-9345-bb12cfd52ea2",
   "metadata": {},
   "outputs": [
    {
     "data": {
      "text/plain": [
       "3"
      ]
     },
     "execution_count": 22,
     "metadata": {},
     "output_type": "execute_result"
    }
   ],
   "source": [
    "len((1, 2, 3))"
   ]
  },
  {
   "cell_type": "markdown",
   "id": "9c10ee1a-f1b9-4aae-b324-593ffee68e33",
   "metadata": {},
   "source": [
    "***"
   ]
  },
  {
   "cell_type": "markdown",
   "id": "cdf6ee30-c21d-4fcf-8810-1a518935907f",
   "metadata": {},
   "source": [
    "# 58. Membership (in & not in)"
   ]
  },
  {
   "cell_type": "code",
   "execution_count": 23,
   "id": "30388331-7a92-4675-b2c2-7efc71438af1",
   "metadata": {},
   "outputs": [
    {
     "data": {
      "text/plain": [
       "True"
      ]
     },
     "execution_count": 23,
     "metadata": {},
     "output_type": "execute_result"
    }
   ],
   "source": [
    "2 in (1, 2, 3)"
   ]
  },
  {
   "cell_type": "code",
   "execution_count": 24,
   "id": "03f07097-fe82-4eea-b201-3f07ed82b756",
   "metadata": {},
   "outputs": [
    {
     "data": {
      "text/plain": [
       "False"
      ]
     },
     "execution_count": 24,
     "metadata": {},
     "output_type": "execute_result"
    }
   ],
   "source": [
    "2 not in (1, 2, 3)"
   ]
  },
  {
   "cell_type": "markdown",
   "id": "1c26ff1c-9f2c-4419-b268-66fb24cc2abe",
   "metadata": {},
   "source": [
    "***"
   ]
  },
  {
   "cell_type": "markdown",
   "id": "b10833a1-a33a-4eb6-a262-7c72fa6513cf",
   "metadata": {},
   "source": [
    "# 59. Tuple Packing & Unpacking"
   ]
  },
  {
   "cell_type": "markdown",
   "id": "e8051394-8ef8-4b8a-8011-6d0b7aaf536f",
   "metadata": {},
   "source": [
    "## 59-1. Packing: Assigning Multiple Values to a Tuple"
   ]
  },
  {
   "cell_type": "code",
   "execution_count": 26,
   "id": "3c603bb4-b2ca-4d2a-bb45-80f6c25cf577",
   "metadata": {},
   "outputs": [
    {
     "data": {
      "text/plain": [
       "(1, 2, 3)"
      ]
     },
     "execution_count": 26,
     "metadata": {},
     "output_type": "execute_result"
    }
   ],
   "source": [
    "packed = 1, 2, 3 \n",
    "packed"
   ]
  },
  {
   "cell_type": "markdown",
   "id": "2b503f35-a456-4c4b-bce9-b189986d907d",
   "metadata": {},
   "source": [
    "***"
   ]
  },
  {
   "cell_type": "markdown",
   "id": "d129d551-108f-4d8b-99c2-c625d73f4274",
   "metadata": {},
   "source": [
    "## 59-2. Unpacking: Assigning Tuple Elements to Variables"
   ]
  },
  {
   "cell_type": "code",
   "execution_count": 27,
   "id": "ac46765e-ce3a-4a79-9e5e-56c8724c22d4",
   "metadata": {},
   "outputs": [
    {
     "name": "stdout",
     "output_type": "stream",
     "text": [
      "10\n",
      "20\n"
     ]
    }
   ],
   "source": [
    "a, b, c = (10, 20, 30)\n",
    "print(a)  \n",
    "print(b)  "
   ]
  },
  {
   "cell_type": "markdown",
   "id": "c8e6b6a5-550a-4979-b891-faa49c27961b",
   "metadata": {},
   "source": [
    "***"
   ]
  },
  {
   "cell_type": "markdown",
   "id": "1d5d94ce-deed-4093-b0a3-51c20941d3e1",
   "metadata": {},
   "source": [
    "## 59-3. Extended Unpacking (Python 3+)"
   ]
  },
  {
   "cell_type": "code",
   "execution_count": 28,
   "id": "833e3bdd-405d-4465-882b-a3870bbec8c4",
   "metadata": {},
   "outputs": [
    {
     "name": "stdout",
     "output_type": "stream",
     "text": [
      "1\n",
      "[2, 3, 4]\n"
     ]
    }
   ],
   "source": [
    "first, *rest = (1, 2, 3, 4)\n",
    "print(first)  \n",
    "print(rest)   "
   ]
  },
  {
   "cell_type": "markdown",
   "id": "2dc505c1-a0d6-4f33-944c-efe80f2d2769",
   "metadata": {},
   "source": [
    "***"
   ]
  },
  {
   "cell_type": "markdown",
   "id": "c99c167d-a677-4552-b6a9-984133ebda0b",
   "metadata": {},
   "source": [
    "# 60. Common Tuple Methods\n",
    "Since tuples are immutable, they have fewer methods than lists."
   ]
  },
  {
   "cell_type": "markdown",
   "id": "da67694a-5c41-4066-95b0-95646db7cef5",
   "metadata": {},
   "source": [
    "***"
   ]
  },
  {
   "cell_type": "markdown",
   "id": "fb974519-5786-4ed4-a902-7f3310e1254a",
   "metadata": {},
   "source": [
    "## 60-1. count()\n",
    "Counts occurrences of a value."
   ]
  },
  {
   "cell_type": "code",
   "execution_count": 29,
   "id": "ee5645c6-6d30-42c6-a315-ae272191ddcf",
   "metadata": {},
   "outputs": [
    {
     "data": {
      "text/plain": [
       "2"
      ]
     },
     "execution_count": 29,
     "metadata": {},
     "output_type": "execute_result"
    }
   ],
   "source": [
    "(1, 2, 2, 3).count(2)"
   ]
  },
  {
   "cell_type": "markdown",
   "id": "640163bb-fa3a-46ba-b745-5397096c4c6b",
   "metadata": {},
   "source": [
    "***"
   ]
  },
  {
   "cell_type": "markdown",
   "id": "e0a0febe-768d-478e-8a85-d06412868bc2",
   "metadata": {},
   "source": [
    "## 60-2. index()\n",
    "Returns first index of a value."
   ]
  },
  {
   "cell_type": "code",
   "execution_count": 30,
   "id": "68e2d084-5126-40c5-8159-82551fe2ec72",
   "metadata": {},
   "outputs": [
    {
     "data": {
      "text/plain": [
       "1"
      ]
     },
     "execution_count": 30,
     "metadata": {},
     "output_type": "execute_result"
    }
   ],
   "source": [
    "(1, 2, 3).index(2)"
   ]
  },
  {
   "cell_type": "markdown",
   "id": "0d652817-3807-4f93-a3c7-18bf2a880484",
   "metadata": {},
   "source": [
    "***"
   ]
  },
  {
   "cell_type": "markdown",
   "id": "0690962b-d109-43b2-99bf-38e4a724cc5e",
   "metadata": {},
   "source": [
    "## 60-3. sort()\n",
    "Sorts by first element."
   ]
  },
  {
   "cell_type": "code",
   "execution_count": 41,
   "id": "f8a791d5-a647-4f86-8239-3951a4856fa3",
   "metadata": {},
   "outputs": [
    {
     "name": "stdout",
     "output_type": "stream",
     "text": [
      "[('Alice', 23), ('Bob', 19), ('Charlie', 20)]\n"
     ]
    }
   ],
   "source": [
    "students = [(\"Charlie\", 20), (\"Alice\", 23), (\"Bob\", 19)]\n",
    "students.sort()  \n",
    "print(students)  "
   ]
  },
  {
   "cell_type": "markdown",
   "id": "b1b49e34-46ab-460a-9c5f-7a4526e68585",
   "metadata": {},
   "source": [
    "***"
   ]
  },
  {
   "cell_type": "markdown",
   "id": "d0dcf465-2477-47de-b653-68eeff9dc616",
   "metadata": {},
   "source": [
    "## 60-4. min & max()"
   ]
  },
  {
   "cell_type": "code",
   "execution_count": 45,
   "id": "83892015-1db4-4048-98d5-f2ad0cc57fde",
   "metadata": {},
   "outputs": [
    {
     "data": {
      "text/plain": [
       "22"
      ]
     },
     "execution_count": 45,
     "metadata": {},
     "output_type": "execute_result"
    }
   ],
   "source": [
    "max(1, 5, 10, 3, 22, 0)"
   ]
  },
  {
   "cell_type": "markdown",
   "id": "0e438407-959b-47c0-9b7c-a0775aa5e257",
   "metadata": {},
   "source": [
    "***"
   ]
  },
  {
   "cell_type": "markdown",
   "id": "e46645bc-3c78-43e4-9b78-d6dc412a8a75",
   "metadata": {},
   "source": [
    "## 60-5. sum()"
   ]
  },
  {
   "cell_type": "code",
   "execution_count": 47,
   "id": "d917fb52-4c70-4617-974c-99c390e0c81f",
   "metadata": {},
   "outputs": [
    {
     "data": {
      "text/plain": [
       "10"
      ]
     },
     "execution_count": 47,
     "metadata": {},
     "output_type": "execute_result"
    }
   ],
   "source": [
    "sum((1, 2, 3), 4)"
   ]
  },
  {
   "cell_type": "markdown",
   "id": "41e5526e-8009-4bc8-9490-b4c122e5e305",
   "metadata": {},
   "source": [
    "***"
   ]
  },
  {
   "cell_type": "markdown",
   "id": "b7dca37d-96e3-47f8-bc75-c0b47f0f71d5",
   "metadata": {},
   "source": [
    "# 61. Comparing Tuples in Python\n",
    "Tuples can be compared using standard comparison operators (==, !=, <, <=, >, >=). Python compares them element-wise (like strings or lists)."
   ]
  },
  {
   "cell_type": "markdown",
   "id": "13e5e40f-7a70-415b-8556-53569387d3d2",
   "metadata": {},
   "source": [
    "***"
   ]
  },
  {
   "cell_type": "markdown",
   "id": "16e6af94-9419-4b94-af63-73c13c19bb36",
   "metadata": {},
   "source": [
    "## 61-1. Basic Comparisons\n",
    "**Equality (==, !=)**\n",
    "\n",
    "Checks if all elements are equal in the same order."
   ]
  },
  {
   "cell_type": "code",
   "execution_count": 31,
   "id": "8f03c3fe-c4f3-4d32-aecc-a42c807ae4cf",
   "metadata": {},
   "outputs": [
    {
     "name": "stdout",
     "output_type": "stream",
     "text": [
      "True\n",
      "False\n",
      "True\n"
     ]
    }
   ],
   "source": [
    "print( (1, 2) == (1, 2) )   \n",
    "print( (1, 2) == (2, 1) )   \n",
    "print( (1, 2) != (3, 4) )   "
   ]
  },
  {
   "cell_type": "markdown",
   "id": "ec2ba0c5-eb5f-42f6-bf0a-98f15f4b3450",
   "metadata": {},
   "source": [
    "***"
   ]
  },
  {
   "cell_type": "markdown",
   "id": "9f0748c2-be15-4a36-8af5-9a9a82081f69",
   "metadata": {},
   "source": [
    "## 61-2. Inequality (<, <=, >, >=)\n",
    "Compares elements one by one until a difference is found.\n",
    "\n",
    "Uses lexicographical order (like dictionary sorting)."
   ]
  },
  {
   "cell_type": "code",
   "execution_count": 33,
   "id": "b720c8bb-e363-4654-aed5-dff025331448",
   "metadata": {},
   "outputs": [
    {
     "name": "stdout",
     "output_type": "stream",
     "text": [
      "True\n",
      "True\n",
      "True\n"
     ]
    }
   ],
   "source": [
    "print( (1, 2) < (1, 3) )     # True (2<3)\n",
    "print( (1, 2) < (1, 2, 0) )  # True (shorter tuple is \"smaller\")\n",
    "print( (2, 0) > (1, 999) )   # True (2 > 1, skips rest)"
   ]
  },
  {
   "cell_type": "code",
   "execution_count": 42,
   "id": "3a06acff-29e1-4ad8-a624-345ffc567f8d",
   "metadata": {},
   "outputs": [
    {
     "name": "stdout",
     "output_type": "stream",
     "text": [
      "True\n"
     ]
    }
   ],
   "source": [
    "print( () < (1,) )  # True (empty is \"smallest\")"
   ]
  },
  {
   "cell_type": "code",
   "execution_count": 43,
   "id": "9f08d447-c538-4d28-bb8e-3515329b406e",
   "metadata": {},
   "outputs": [
    {
     "name": "stdout",
     "output_type": "stream",
     "text": [
      "True\n"
     ]
    }
   ],
   "source": [
    "print( (1, (2, 3)) < (1, (2, 4)) )  # True (3 < 4)"
   ]
  },
  {
   "cell_type": "markdown",
   "id": "95a262c9-6396-411b-a3d9-94022b6b88a4",
   "metadata": {},
   "source": [
    "***"
   ]
  },
  {
   "cell_type": "markdown",
   "id": "f245c60c-f4b1-4159-935d-93ef1c42e35b",
   "metadata": {},
   "source": [
    "## 61-3. Key Rules for Comparison"
   ]
  },
  {
   "cell_type": "markdown",
   "id": "08116ae9-5b2e-427b-9987-7bf73bc28daf",
   "metadata": {},
   "source": [
    "### 61-3-1. Element-wise comparison:\n",
    "Stops at the first unequal pair. The rest will be ignored."
   ]
  },
  {
   "cell_type": "code",
   "execution_count": 36,
   "id": "f40a485a-3f2c-4471-b141-aabffd8ebb55",
   "metadata": {},
   "outputs": [
    {
     "data": {
      "text/plain": [
       "True"
      ]
     },
     "execution_count": 36,
     "metadata": {},
     "output_type": "execute_result"
    }
   ],
   "source": [
    "(1, 100) < (2, 0)   "
   ]
  },
  {
   "cell_type": "markdown",
   "id": "c5d93d90-0f43-4500-8bad-6004a108dd18",
   "metadata": {},
   "source": [
    "***"
   ]
  },
  {
   "cell_type": "markdown",
   "id": "c7831563-0d97-456e-be50-ce0a6e9d2267",
   "metadata": {},
   "source": [
    "### 61-3-2. Different lengths:\n",
    "The shorter tuple is \"smaller\" if all preceding elements are equal."
   ]
  },
  {
   "cell_type": "code",
   "execution_count": 37,
   "id": "4cd5d564-4a67-4447-accb-36396c4582a5",
   "metadata": {},
   "outputs": [
    {
     "data": {
      "text/plain": [
       "True"
      ]
     },
     "execution_count": 37,
     "metadata": {},
     "output_type": "execute_result"
    }
   ],
   "source": [
    "(1, 2) < (1, 2, 3) "
   ]
  },
  {
   "cell_type": "code",
   "execution_count": 39,
   "id": "779f75e4-efe3-44c6-ad3e-9d2e7aebd73b",
   "metadata": {},
   "outputs": [
    {
     "data": {
      "text/plain": [
       "True"
      ]
     },
     "execution_count": 39,
     "metadata": {},
     "output_type": "execute_result"
    }
   ],
   "source": [
    "(1, 3) > (1, 2, 3) "
   ]
  },
  {
   "cell_type": "markdown",
   "id": "9430e963-8b6d-4b04-8770-89613ec509d9",
   "metadata": {},
   "source": [
    "***"
   ]
  },
  {
   "cell_type": "markdown",
   "id": "6ace6c22-3ef5-4c7b-aa1c-d7fce0a96a67",
   "metadata": {},
   "source": [
    "### 61-3-3. Mixed data types:\n",
    "Works if elements are comparable (e.g., int vs float).\n",
    "\n",
    "Fails if types are incompatible (e.g., int vs str)."
   ]
  },
  {
   "cell_type": "code",
   "execution_count": 40,
   "id": "418f2498-972f-421e-98f7-62ce0312be89",
   "metadata": {},
   "outputs": [
    {
     "name": "stdout",
     "output_type": "stream",
     "text": [
      "True\n"
     ]
    },
    {
     "ename": "TypeError",
     "evalue": "'<' not supported between instances of 'str' and 'int'",
     "output_type": "error",
     "traceback": [
      "\u001b[1;31m---------------------------------------------------------------------------\u001b[0m",
      "\u001b[1;31mTypeError\u001b[0m                                 Traceback (most recent call last)",
      "Cell \u001b[1;32mIn [40], line 2\u001b[0m\n\u001b[0;32m      1\u001b[0m \u001b[38;5;28mprint\u001b[39m( (\u001b[38;5;241m1\u001b[39m, \u001b[38;5;124m\"\u001b[39m\u001b[38;5;124ma\u001b[39m\u001b[38;5;124m\"\u001b[39m) \u001b[38;5;241m<\u001b[39m (\u001b[38;5;241m2\u001b[39m, \u001b[38;5;124m\"\u001b[39m\u001b[38;5;124mb\u001b[39m\u001b[38;5;124m\"\u001b[39m) )  \u001b[38;5;66;03m# True (1 < 2)\u001b[39;00m\n\u001b[1;32m----> 2\u001b[0m \u001b[38;5;28mprint\u001b[39m( \u001b[43m(\u001b[49m\u001b[38;5;241;43m1\u001b[39;49m\u001b[43m,\u001b[49m\u001b[43m \u001b[49m\u001b[38;5;124;43m\"\u001b[39;49m\u001b[38;5;124;43ma\u001b[39;49m\u001b[38;5;124;43m\"\u001b[39;49m\u001b[43m)\u001b[49m\u001b[43m \u001b[49m\u001b[38;5;241;43m<\u001b[39;49m\u001b[43m \u001b[49m\u001b[43m(\u001b[49m\u001b[38;5;241;43m1\u001b[39;49m\u001b[43m,\u001b[49m\u001b[43m \u001b[49m\u001b[38;5;241;43m2\u001b[39;49m\u001b[43m)\u001b[49m )\n",
      "\u001b[1;31mTypeError\u001b[0m: '<' not supported between instances of 'str' and 'int'"
     ]
    }
   ],
   "source": [
    "print( (1, \"a\") < (2, \"b\") )  # True (1 < 2)\n",
    "print( (1, \"a\") < (1, 2) )    # TypeError (str vs int)"
   ]
  },
  {
   "cell_type": "markdown",
   "id": "6e44c80b-6384-48e6-84ad-97d7080fb213",
   "metadata": {},
   "source": [
    "***"
   ]
  },
  {
   "cell_type": "markdown",
   "id": "40176c07-75a8-48ec-bf45-644ac1ae3dc5",
   "metadata": {},
   "source": [
    "# 62. zip function\n",
    "zip is a built-in function that takes two or more sequences and returns a list of tuples where each tuple contains one element from each sequence."
   ]
  },
  {
   "cell_type": "markdown",
   "id": "1983baeb-e93e-42a6-bb2d-a03acf84c03d",
   "metadata": {},
   "source": [
    "**Syntax:**"
   ]
  },
  {
   "cell_type": "markdown",
   "id": "77f6fb21-a8ca-4401-bb86-3075427ef511",
   "metadata": {},
   "source": [
    "zip(iterable1, iterable2, ...)"
   ]
  },
  {
   "cell_type": "code",
   "execution_count": 49,
   "id": "88c8ea9c-da21-447d-95ca-47793f53dffc",
   "metadata": {},
   "outputs": [
    {
     "name": "stdout",
     "output_type": "stream",
     "text": [
      "[('Alice', 25), ('Bob', 30), ('Charlie', 35)]\n"
     ]
    }
   ],
   "source": [
    "names = [\"Alice\", \"Bob\", \"Charlie\"]\n",
    "ages = [25, 30, 35]\n",
    "\n",
    "zipped = zip(names, ages)\n",
    "print(list(zipped))  "
   ]
  },
  {
   "cell_type": "markdown",
   "id": "20d74824-58d7-4d35-b47c-d3aac24557c7",
   "metadata": {},
   "source": [
    "***"
   ]
  },
  {
   "cell_type": "code",
   "execution_count": 50,
   "id": "1d13565f-7b32-441c-ae3c-a9f377b56ee2",
   "metadata": {},
   "outputs": [
    {
     "data": {
      "text/plain": [
       "[('a', 0), ('b', 1), ('c', 2)]"
      ]
     },
     "execution_count": 50,
     "metadata": {},
     "output_type": "execute_result"
    }
   ],
   "source": [
    "s = 'abc'\n",
    "t = [0, 1, 2]\n",
    "\n",
    "z = zip(s, t)\n",
    "list(z)"
   ]
  },
  {
   "cell_type": "markdown",
   "id": "3b9e595d-2fb6-490f-88c6-21b660b0d1a4",
   "metadata": {},
   "source": [
    "**Note:** Instead of **list**, you can use for loop:"
   ]
  },
  {
   "cell_type": "code",
   "execution_count": 51,
   "id": "1ad90257-d5e7-44db-9547-351fe2ab28cc",
   "metadata": {},
   "outputs": [
    {
     "name": "stdout",
     "output_type": "stream",
     "text": [
      "('a', 0)\n",
      "('b', 1)\n",
      "('c', 2)\n"
     ]
    }
   ],
   "source": [
    "for pair in zip(s, t):\n",
    "    print(pair)"
   ]
  },
  {
   "cell_type": "markdown",
   "id": "c72dbba8-1a3b-464b-a2c0-3d0f83e4a308",
   "metadata": {},
   "source": [
    "***"
   ]
  },
  {
   "cell_type": "markdown",
   "id": "427c0e87-4efa-4e28-9c70-8055e1c31b28",
   "metadata": {},
   "source": [
    "## 62-1. Common Use Cases"
   ]
  },
  {
   "cell_type": "markdown",
   "id": "eb22757a-8094-4c60-bbb8-ec98e91da64c",
   "metadata": {},
   "source": [
    "### 62-1-1. Looping Over Multiple Lists"
   ]
  },
  {
   "cell_type": "code",
   "execution_count": 53,
   "id": "0d7527fe-1a42-444a-a76d-201e0f08988e",
   "metadata": {},
   "outputs": [
    {
     "name": "stdout",
     "output_type": "stream",
     "text": [
      "Alice is 25 years old\n",
      "Bob is 30 years old\n",
      "Charlie is 35 years old\n"
     ]
    }
   ],
   "source": [
    "names = [\"Alice\", \"Bob\", \"Charlie\"]\n",
    "ages = [25, 30, 35]\n",
    "\n",
    "for name, age in zip(names, ages):\n",
    "    print(f\"{name} is {age} years old\")"
   ]
  },
  {
   "cell_type": "markdown",
   "id": "69387564-474e-4689-aa42-5a92740ca4bf",
   "metadata": {},
   "source": [
    "***"
   ]
  },
  {
   "cell_type": "markdown",
   "id": "1013687e-d555-4fc6-8604-47d17b3dbf23",
   "metadata": {},
   "source": [
    "### 62-1-2. Creating Dictionaries\n",
    "**Note:** Dictionaries will be explained in Session 11."
   ]
  },
  {
   "cell_type": "code",
   "execution_count": 54,
   "id": "f3ab2f2e-14b8-402c-a1bb-ed29e553fc36",
   "metadata": {},
   "outputs": [
    {
     "name": "stdout",
     "output_type": "stream",
     "text": [
      "{'Alice': 25, 'Bob': 30, 'Charlie': 35}\n"
     ]
    }
   ],
   "source": [
    "person_dict = dict(zip(names, ages))\n",
    "print(person_dict)  "
   ]
  },
  {
   "cell_type": "markdown",
   "id": "0874392d-61a8-4d45-ad43-5195f1683e40",
   "metadata": {},
   "source": [
    "***"
   ]
  },
  {
   "cell_type": "markdown",
   "id": "86745c04-a4e6-492f-bc58-d6a2c6c6070f",
   "metadata": {},
   "source": [
    "### 62-1-3. Transposing a Matrix"
   ]
  },
  {
   "cell_type": "code",
   "execution_count": 55,
   "id": "33f21b30-6fab-45bc-90e8-dd806a240c78",
   "metadata": {},
   "outputs": [
    {
     "name": "stdout",
     "output_type": "stream",
     "text": [
      "[(1, 4), (2, 5), (3, 6)]\n"
     ]
    }
   ],
   "source": [
    "matrix = [[1, 2, 3], [4, 5, 6]]\n",
    "transposed = list(zip(*matrix))\n",
    "print(transposed)  "
   ]
  },
  {
   "cell_type": "markdown",
   "id": "a5d00c30-c260-43a3-ae8b-4689f10508db",
   "metadata": {},
   "source": [
    "***"
   ]
  },
  {
   "cell_type": "markdown",
   "id": "7fe66744-a224-41a6-868c-f7262e5356ef",
   "metadata": {},
   "source": [
    "### 62-1-4. Unzipping (Reverse zip)"
   ]
  },
  {
   "cell_type": "code",
   "execution_count": 56,
   "id": "c7b5fb35-41d0-4875-8d4c-0741c4f6b39c",
   "metadata": {},
   "outputs": [
    {
     "name": "stdout",
     "output_type": "stream",
     "text": [
      "('Alice', 'Bob')\n",
      "(25, 30)\n"
     ]
    }
   ],
   "source": [
    "zipped_data = [('Alice', 25), ('Bob', 30)]\n",
    "names, ages = zip(*zipped_data)\n",
    "print(names)  \n",
    "print(ages)    "
   ]
  },
  {
   "cell_type": "markdown",
   "id": "58499f2d-d9fb-4c83-a026-49e87c78ac2b",
   "metadata": {},
   "source": [
    "***"
   ]
  },
  {
   "cell_type": "markdown",
   "id": "10e6165d-7181-4f39-9703-37e3c8ccab3c",
   "metadata": {},
   "source": [
    "***"
   ]
  },
  {
   "cell_type": "markdown",
   "id": "b40206fb-6731-46dc-9302-0b9bc348b89b",
   "metadata": {},
   "source": [
    "# Some Excercises"
   ]
  },
  {
   "cell_type": "markdown",
   "id": "088d38a8-866c-48a9-a9b5-40df9d99ae4b",
   "metadata": {},
   "source": [
    "**1.** Create three different tuples:\n",
    "- A tuple containing mixed data types (int, string, float)\n",
    "- A single-element tuple\n",
    "- A tuple without using parentheses\n",
    "- Print each tuple and its type."
   ]
  },
  {
   "cell_type": "markdown",
   "id": "b486b7b8-307c-4eb7-8c14-a1dd72eb2e46",
   "metadata": {},
   "source": [
    "___"
   ]
  },
  {
   "cell_type": "markdown",
   "id": "5c32b073-bab0-451e-8fd7-a294020f71c6",
   "metadata": {},
   "source": [
    "**2.** Given the tuple **colors** = ('red', 'green', 'blue', 'yellow', 'purple'):\n",
    "- Print the second element\n",
    "- Print the last element using negative indexing\n",
    "- Slice and print elements from index 1 to 3\n",
    "- Try to modify the first element (demonstrate immutability)"
   ]
  },
  {
   "cell_type": "markdown",
   "id": "489da9fe-be18-487a-bcc7-e5d6672698ba",
   "metadata": {},
   "source": [
    "---"
   ]
  },
  {
   "cell_type": "markdown",
   "id": "bf117f39-fa94-453e-bca9-2ccd7b507496",
   "metadata": {},
   "source": [
    "**3.** Given t1 = (1, 2, 3) and t2 = (4, 5, 6):\n",
    "- Concatenate them and print the result\n",
    "- Repeat t1 three times\n",
    "- Check if 5 exists in t2\n",
    "- Compare if t1 is equal to (1, 2, 3)"
   ]
  },
  {
   "cell_type": "markdown",
   "id": "02e59887-780b-4321-9382-ef4c85ec9684",
   "metadata": {},
   "source": [
    "---"
   ]
  },
  {
   "cell_type": "markdown",
   "id": "1b32e2d5-3ed7-4865-b63e-21c5cc156f67",
   "metadata": {},
   "source": [
    "**4.** For **nums** = (10, 20, 30, 20, 40, 20):\n",
    "- Use count() to find how many times 20 appears\n",
    "- Use index() to find the position of 40\n",
    "- Check if 50 exists using membership operators\n",
    "- Try to sort the tuple"
   ]
  },
  {
   "cell_type": "markdown",
   "id": "8dcb22a4-aff7-4377-b09a-a39fa4a3b2a7",
   "metadata": {},
   "source": [
    "***"
   ]
  },
  {
   "cell_type": "markdown",
   "id": "17511368-bcb2-4413-87ab-450ca9a64ff2",
   "metadata": {},
   "source": [
    "**5.** Pack three variables into a tuple without parentheses\n",
    "- Unpack a tuple (7, 8, 9) into three variables\n",
    "- Given coordinates = (4.5, 9.2), unpack into x and y and calculate the distance from origin (√(x² + y²))\n",
    "- Use extended unpacking: first, *rest = (1, 2, 3, 4, 5)"
   ]
  },
  {
   "cell_type": "markdown",
   "id": "af3414ed-8ba7-485b-954f-69bb05f37262",
   "metadata": {},
   "source": [
    "***"
   ]
  },
  {
   "cell_type": "markdown",
   "id": "8f5ff722-c584-476e-82c7-c99d48dcae2a",
   "metadata": {},
   "source": [
    "**6.** Compare (1, 2, 3) and (1, 5, 3) using >\n",
    "- Explain why ('a', 'b') > ('A', 'B') returns True\n",
    "- Sort the list of tuples [(3, 'a'), (1, 'c'), (2, 'b')] by their first element\n",
    "- Check if (1, 2) appears in [(1, 2), (3, 4)]"
   ]
  },
  {
   "cell_type": "markdown",
   "id": "2257cad9-b203-4fcf-bd40-26e519626647",
   "metadata": {},
   "source": [
    "***"
   ]
  },
  {
   "cell_type": "markdown",
   "id": "18a3029c-0bac-4193-a5c0-cff1c5cc1cfa",
   "metadata": {},
   "source": [
    "**7.** Zip names = ('Alice', 'Bob') and scores = (85, 92) into pairs\n",
    "- Convert the zipped object to a list and print\n",
    "- Use zip to transpose matrix = [(1, 2), (3, 4), (5, 6)]\n",
    "- Unzip the result back to two tuples"
   ]
  },
  {
   "cell_type": "markdown",
   "id": "4b9cae2d-e35a-49a6-8e8b-cf96f638ddd0",
   "metadata": {},
   "source": [
    "***"
   ]
  },
  {
   "cell_type": "markdown",
   "id": "1eb0bcb5-401a-4e8f-9c0c-937e8d7d75ab",
   "metadata": {},
   "source": [
    "**8.** Create a tuple representing a RGB color (red=255, green=0, blue=0)\n",
    "- Simulate a function returning multiple values (e.g., min_max() that returns both min and max of a tuple)\n",
    "- Use a tuple as a dictionary key (demonstrate why lists can't be used)\n",
    "- Store student records as tuples in a list: [('Alice', 20, 'A'), ('Bob', 22, 'B')] and:\n",
    "    - Access Bob's age\n",
    "    - Add a new student\n",
    "    - Try to modify Alice's grade (what happens?)"
   ]
  },
  {
   "cell_type": "markdown",
   "id": "0fad2a07-f947-48b4-9cac-2bfdeba81665",
   "metadata": {},
   "source": [
    "***"
   ]
  },
  {
   "cell_type": "markdown",
   "id": "7cc97f26-cf68-4d50-82a1-ae7dcdfa95ac",
   "metadata": {},
   "source": [
    "#                                                        🌞 https://github.com/AI-Planet 🌞"
   ]
  }
 ],
 "metadata": {
  "kernelspec": {
   "display_name": "Python 3 (ipykernel)",
   "language": "python",
   "name": "python3"
  },
  "language_info": {
   "codemirror_mode": {
    "name": "ipython",
    "version": 3
   },
   "file_extension": ".py",
   "mimetype": "text/x-python",
   "name": "python",
   "nbconvert_exporter": "python",
   "pygments_lexer": "ipython3",
   "version": "3.9.12"
  }
 },
 "nbformat": 4,
 "nbformat_minor": 5
}
