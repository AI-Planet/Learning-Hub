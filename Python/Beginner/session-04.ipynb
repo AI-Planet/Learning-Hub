{
 "cells": [
  {
   "cell_type": "markdown",
   "id": "355b5f03-d2a5-4aa3-a77c-776ccfcb35d5",
   "metadata": {},
   "source": [
    "# Session 4 🐍"
   ]
  },
  {
   "cell_type": "markdown",
   "id": "45efc9ec-fb9c-458c-b1de-d961145e8449",
   "metadata": {},
   "source": [
    "☀️☀️☀️☀️☀️☀️☀️☀️☀️☀️☀️☀️☀️☀️☀️☀️☀️☀️☀️☀️☀️☀️☀️☀️☀️☀️☀️☀️☀️☀️☀️☀️☀️☀️☀️☀️☀️☀️☀️☀️☀️☀️☀️☀️☀️"
   ]
  },
  {
   "cell_type": "markdown",
   "id": "2c7a6ce5-4cd2-45cd-a3b8-9ac277170654",
   "metadata": {},
   "source": [
    "***"
   ]
  },
  {
   "cell_type": "markdown",
   "id": "f47542a8-416d-4a3f-8c9d-99781dc53bd8",
   "metadata": {},
   "source": [
    "# 19. Catching Exceptions (try-except)\n",
    "The try-except block in Python is used to handle exceptions (errors) gracefully.\n",
    "\n",
    "We use the try-except statement when we know that a sequence of instructions might introduce an error (placed in the **try** section) and you want to execute other sequence in case the problem rises (placed in the **except** section). If no error appears, the except section is ignored.\n",
    "\n",
    "**Catching** is the action of handling an exception."
   ]
  },
  {
   "cell_type": "raw",
   "id": "f5bf97d4-ebd9-4370-8956-963e1ab2b185",
   "metadata": {},
   "source": [
    "try:\n",
    "    # Code that might raise an exception\n",
    "except SomeError:\n",
    "    # What to do if the exception occurs"
   ]
  },
  {
   "cell_type": "code",
   "execution_count": 2,
   "id": "e5dd4970-69c7-48c7-a33b-46fdcf05068d",
   "metadata": {},
   "outputs": [
    {
     "name": "stdout",
     "output_type": "stream",
     "text": [
      "Cannot divide by zero!\n"
     ]
    }
   ],
   "source": [
    "try:\n",
    "    print(10 / 0)  # Division by zero → raises ZeroDivisionError\n",
    "except ZeroDivisionError:\n",
    "    print(\"Cannot divide by zero!\")"
   ]
  },
  {
   "cell_type": "code",
   "execution_count": 6,
   "id": "4333c190-85fe-4ed3-8bc5-af090a818d82",
   "metadata": {},
   "outputs": [
    {
     "name": "stdin",
     "output_type": "stream",
     "text": [
      "Enter your age:  John\n"
     ]
    },
    {
     "name": "stdout",
     "output_type": "stream",
     "text": [
      "Invalid input! Please enter a number.\n"
     ]
    }
   ],
   "source": [
    "try:\n",
    "    age = int(input(\"Enter your age: \"))  # Convert input to integer\n",
    "    print(\"Your age is:\",age)\n",
    "except ValueError:\n",
    "    print(\"Invalid input! Please enter a number.\")"
   ]
  },
  {
   "cell_type": "markdown",
   "id": "640163bb-fa3a-46ba-b745-5397096c4c6b",
   "metadata": {},
   "source": [
    "***"
   ]
  },
  {
   "cell_type": "markdown",
   "id": "355cbb46-e85d-481b-93c5-a40d8dda1bc1",
   "metadata": {},
   "source": [
    "# 20. Short-Ciruit & Guard Pattern\n",
    "As I explained in session 3, Python processes a logical expression from left to right. If one of the expression of an **and** is **False**, the whole expression will be also False. Python avoids processing extra expressions when the result is already known. This is known as **Short-Circuiting** the evaluation."
   ]
  },
  {
   "cell_type": "code",
   "execution_count": 8,
   "id": "fd85d261-ab95-4921-978d-5193494dd886",
   "metadata": {},
   "outputs": [
    {
     "data": {
      "text/plain": [
       "False"
      ]
     },
     "execution_count": 8,
     "metadata": {},
     "output_type": "execute_result"
    }
   ],
   "source": [
    "x = -12\n",
    "y = 0\n",
    "x>0 and x/y ==2"
   ]
  },
  {
   "cell_type": "markdown",
   "id": "acf6dc3c-658d-47d5-b4c5-4431290f7349",
   "metadata": {},
   "source": [
    "But if x = +12, we will receive a Zerodivision error:"
   ]
  },
  {
   "cell_type": "code",
   "execution_count": 9,
   "id": "3601b780-f690-4a93-8854-4e9ab8bbfa03",
   "metadata": {},
   "outputs": [
    {
     "ename": "ZeroDivisionError",
     "evalue": "division by zero",
     "output_type": "error",
     "traceback": [
      "\u001b[1;31m---------------------------------------------------------------------------\u001b[0m",
      "\u001b[1;31mZeroDivisionError\u001b[0m                         Traceback (most recent call last)",
      "Cell \u001b[1;32mIn [9], line 3\u001b[0m\n\u001b[0;32m      1\u001b[0m x \u001b[38;5;241m=\u001b[39m \u001b[38;5;241m12\u001b[39m\n\u001b[0;32m      2\u001b[0m y \u001b[38;5;241m=\u001b[39m \u001b[38;5;241m0\u001b[39m\n\u001b[1;32m----> 3\u001b[0m x\u001b[38;5;241m>\u001b[39m\u001b[38;5;241m0\u001b[39m \u001b[38;5;129;01mand\u001b[39;00m \u001b[43mx\u001b[49m\u001b[38;5;241;43m/\u001b[39;49m\u001b[43my\u001b[49m \u001b[38;5;241m==\u001b[39m\u001b[38;5;241m2\u001b[39m\n",
      "\u001b[1;31mZeroDivisionError\u001b[0m: division by zero"
     ]
    }
   ],
   "source": [
    "x = 12\n",
    "y = 0\n",
    "x>0 and x/y ==2"
   ]
  },
  {
   "cell_type": "markdown",
   "id": "b783ed14-a629-4801-aad7-d09f961de0a7",
   "metadata": {},
   "source": [
    "To solve the error, we can use the **Guard Pattern** to place a guard expression:"
   ]
  },
  {
   "cell_type": "code",
   "execution_count": 12,
   "id": "d8e52988-61bb-48dd-b56a-edee5d27f337",
   "metadata": {},
   "outputs": [
    {
     "data": {
      "text/plain": [
       "False"
      ]
     },
     "execution_count": 12,
     "metadata": {},
     "output_type": "execute_result"
    }
   ],
   "source": [
    "x = 12\n",
    "y = 0\n",
    "x>0 and y != 0 and x/y ==2"
   ]
  },
  {
   "cell_type": "markdown",
   "id": "3ec2072b-d7eb-4722-a6b8-8af6cd827cc8",
   "metadata": {},
   "source": [
    "No errors appear now because Python stops evaluating expressions when it notices that y!=0 is False, and this is the beauty of using the guard pattern."
   ]
  },
  {
   "cell_type": "markdown",
   "id": "f2167106-abbc-4134-bccc-ffcfcfcb44bb",
   "metadata": {},
   "source": [
    "***"
   ]
  },
  {
   "cell_type": "markdown",
   "id": "f93da5b9-7e3e-4e34-9af4-a61141548671",
   "metadata": {},
   "source": [
    "# 21. Function:\n",
    "Function is used to facilitate programming. In fact, instead of a series of commands (code) being repeated many times in different places of a program, a function is used to represent those commands and wherever those codes are needed, we just need to write the desired function. That is, those codes are written once and in the future whenever needed, we just need to call that function."
   ]
  },
  {
   "cell_type": "markdown",
   "id": "f5800a44-1aab-409d-8edd-a945c7712757",
   "metadata": {},
   "source": [
    "***"
   ]
  },
  {
   "cell_type": "markdown",
   "id": "71a3bd60-9761-4bd9-aa58-a33b717bc322",
   "metadata": {},
   "source": [
    "## 21-1. Built-in Functions\n",
    "In Python, there are a number of **built-in** functions, meaning these functions already exist in Python, such as the **print**, **int**, **str**, etc. functions. And we create a number of functions ourselves, and I will discuss them later."
   ]
  },
  {
   "cell_type": "markdown",
   "id": "fe700153-ee47-4e81-96ed-87e8bc0f6e09",
   "metadata": {},
   "source": [
    "***"
   ]
  },
  {
   "cell_type": "markdown",
   "id": "783fe7b6-7031-4ca6-89ff-91826d222c22",
   "metadata": {},
   "source": [
    "### 21-1-1. The min and max functions:\n",
    "Return the smaller and larger value between two numbers, respectively, and if the value is a string, return the smallest and largest letter in order of precedence and backtrace:"
   ]
  },
  {
   "cell_type": "code",
   "execution_count": 13,
   "id": "26763fbd-83f3-42df-bd74-1b731befabb2",
   "metadata": {},
   "outputs": [
    {
     "data": {
      "text/plain": [
       "2"
      ]
     },
     "execution_count": 13,
     "metadata": {},
     "output_type": "execute_result"
    }
   ],
   "source": [
    "min(2, 3)"
   ]
  },
  {
   "cell_type": "code",
   "execution_count": 14,
   "id": "58795d33-e892-4968-973a-02555975edfa",
   "metadata": {},
   "outputs": [
    {
     "data": {
      "text/plain": [
       "4"
      ]
     },
     "execution_count": 14,
     "metadata": {},
     "output_type": "execute_result"
    }
   ],
   "source": [
    "max(2.3, 4)"
   ]
  },
  {
   "cell_type": "code",
   "execution_count": 15,
   "id": "5e850137-6eca-4ae5-9010-704ef25b35e4",
   "metadata": {},
   "outputs": [
    {
     "data": {
      "text/plain": [
       "'d'"
      ]
     },
     "execution_count": 15,
     "metadata": {},
     "output_type": "execute_result"
    }
   ],
   "source": [
    "min('mehdi')"
   ]
  },
  {
   "cell_type": "code",
   "execution_count": 16,
   "id": "3cf295ef-ec1f-422b-9ebd-d481d17b3423",
   "metadata": {},
   "outputs": [
    {
     "data": {
      "text/plain": [
       "'m'"
      ]
     },
     "execution_count": 16,
     "metadata": {},
     "output_type": "execute_result"
    }
   ],
   "source": [
    "max('mehdi')"
   ]
  },
  {
   "cell_type": "markdown",
   "id": "8d257824-68f7-49f8-accf-1217f59bd678",
   "metadata": {},
   "source": [
    "***"
   ]
  },
  {
   "cell_type": "markdown",
   "id": "6004f9cd-c84a-4e54-84ea-bc02572e59b7",
   "metadata": {},
   "source": [
    "### 21-1-2. round function:\n",
    "This function rounds the input decimal number to the first integer if the second argument is zero."
   ]
  },
  {
   "cell_type": "code",
   "execution_count": 17,
   "id": "b338b07e-9288-45c2-b998-65bfc4751128",
   "metadata": {},
   "outputs": [
    {
     "data": {
      "text/plain": [
       "2"
      ]
     },
     "execution_count": 17,
     "metadata": {},
     "output_type": "execute_result"
    }
   ],
   "source": [
    "round(2.5)"
   ]
  },
  {
   "cell_type": "code",
   "execution_count": 18,
   "id": "b7c91344-96af-4e89-8176-e7ee3d292c0d",
   "metadata": {},
   "outputs": [
    {
     "data": {
      "text/plain": [
       "3"
      ]
     },
     "execution_count": 18,
     "metadata": {},
     "output_type": "execute_result"
    }
   ],
   "source": [
    "round(2.6)"
   ]
  },
  {
   "cell_type": "code",
   "execution_count": 19,
   "id": "650876de-d2a7-4e55-8d02-9ad506e877f7",
   "metadata": {},
   "outputs": [
    {
     "data": {
      "text/plain": [
       "2.3"
      ]
     },
     "execution_count": 19,
     "metadata": {},
     "output_type": "execute_result"
    }
   ],
   "source": [
    "round(2.345, 1)"
   ]
  },
  {
   "cell_type": "code",
   "execution_count": 20,
   "id": "3de01151-af5f-4ff4-b46e-95e6eb9f31a0",
   "metadata": {},
   "outputs": [
    {
     "data": {
      "text/plain": [
       "2.35"
      ]
     },
     "execution_count": 20,
     "metadata": {},
     "output_type": "execute_result"
    }
   ],
   "source": [
    "round(2.345, 2)                          "
   ]
  },
  {
   "cell_type": "markdown",
   "id": "ace1596d-23fb-4505-8bc9-d9be0c790f64",
   "metadata": {},
   "source": [
    "***"
   ]
  },
  {
   "cell_type": "markdown",
   "id": "3d6f7d9e-f4b7-46cd-afb6-f823e126cccc",
   "metadata": {},
   "source": [
    "### 21-1-3. abs function: \n",
    "This function displays the absolute value of any number."
   ]
  },
  {
   "cell_type": "code",
   "execution_count": 21,
   "id": "df3e107b-12d9-4ad8-914a-16236d97889f",
   "metadata": {},
   "outputs": [
    {
     "data": {
      "text/plain": [
       "2"
      ]
     },
     "execution_count": 21,
     "metadata": {},
     "output_type": "execute_result"
    }
   ],
   "source": [
    "abs(-2)"
   ]
  },
  {
   "cell_type": "markdown",
   "id": "88ec2052-55cc-44b8-9384-92adc3252936",
   "metadata": {},
   "source": [
    "***"
   ]
  },
  {
   "cell_type": "markdown",
   "id": "819ca097-12e3-4264-8130-f1b09ca6c70d",
   "metadata": {},
   "source": [
    "### 21-1-4. pow function: \n",
    "This function can be used to raise numbers to powers."
   ]
  },
  {
   "cell_type": "code",
   "execution_count": 22,
   "id": "73c99de4-a56f-40c0-8430-a7a7b4b6f455",
   "metadata": {},
   "outputs": [
    {
     "data": {
      "text/plain": [
       "8"
      ]
     },
     "execution_count": 22,
     "metadata": {},
     "output_type": "execute_result"
    }
   ],
   "source": [
    "pow(2, 3)"
   ]
  },
  {
   "cell_type": "markdown",
   "id": "3b902d97-3935-4f22-ad2f-fbbf616645c2",
   "metadata": {},
   "source": [
    "***"
   ]
  },
  {
   "cell_type": "markdown",
   "id": "9e31ac3e-dd1b-4828-abcd-33f40cf150eb",
   "metadata": {},
   "source": [
    "### 21-1-5. isinstance function:\n",
    "It checks if an object is an instance of a specific class (or a group of classes)."
   ]
  },
  {
   "cell_type": "markdown",
   "id": "34b8db27-ee64-43e4-8d0f-c87ce4762bbb",
   "metadata": {},
   "source": [
    "Returns:\n",
    "- **True** if the object is an instance of the given class (or any subclass).\n",
    "- **False** otherwise."
   ]
  },
  {
   "cell_type": "code",
   "execution_count": 47,
   "id": "6fb86107-f8a7-4e31-b440-ca9aad19e53a",
   "metadata": {},
   "outputs": [
    {
     "name": "stdout",
     "output_type": "stream",
     "text": [
      "True\n",
      "False\n"
     ]
    }
   ],
   "source": [
    "x = 10\n",
    "print(isinstance(x, int))        \n",
    "print(isinstance(x, float)) "
   ]
  },
  {
   "cell_type": "code",
   "execution_count": 49,
   "id": "26a80089-0b90-4c1c-a5e6-9178a4529564",
   "metadata": {},
   "outputs": [
    {
     "name": "stdout",
     "output_type": "stream",
     "text": [
      "True\n"
     ]
    }
   ],
   "source": [
    "name = \"Sara\"\n",
    "print(isinstance(name, str)) "
   ]
  },
  {
   "cell_type": "code",
   "execution_count": 48,
   "id": "31b9ca8a-5f25-4d2c-9d2c-f518fb256ca9",
   "metadata": {},
   "outputs": [
    {
     "name": "stdout",
     "output_type": "stream",
     "text": [
      "True\n"
     ]
    }
   ],
   "source": [
    "x = 3.14\n",
    "print(isinstance(x, (int, float)))"
   ]
  },
  {
   "cell_type": "markdown",
   "id": "2318ccb2-1424-416b-9e3f-82ae1c4cabc7",
   "metadata": {},
   "source": [
    "***"
   ]
  },
  {
   "cell_type": "markdown",
   "id": "1b5ff85c-2adc-4628-b88a-d8a21b7b6c5b",
   "metadata": {},
   "source": [
    "## 21-2. Library Functions:\n",
    "There are a number of library functions. Python has a large library and to use this type of functions, we have to **import** them. For example, in normal mode, Python cannot calculate the sine of an angle and gives an error message, but if we import the **math** library, it can easily calculate the sine of any value. The way it works is as follows:"
   ]
  },
  {
   "cell_type": "code",
   "execution_count": 24,
   "id": "9a65827f-e0d2-4e01-ac03-484be495b8b8",
   "metadata": {},
   "outputs": [
    {
     "data": {
      "text/plain": [
       "0.5646424733950354"
      ]
     },
     "execution_count": 24,
     "metadata": {},
     "output_type": "execute_result"
    }
   ],
   "source": [
    "import math\n",
    "math.sin(0.6)                                                    "
   ]
  },
  {
   "cell_type": "markdown",
   "id": "4e000a72-5c87-44dd-9bbc-ae4ee95d042c",
   "metadata": {},
   "source": [
    "Another library that is very popular with programmers is the **random** library. This library can generate random numbers. For example, the random function from the random library returns a new number between zero and one each time the program is run:"
   ]
  },
  {
   "cell_type": "code",
   "execution_count": 25,
   "id": "16db7a56-b1b0-448d-ad17-074a28d0d136",
   "metadata": {},
   "outputs": [
    {
     "data": {
      "text/plain": [
       "0.8516241795113866"
      ]
     },
     "execution_count": 25,
     "metadata": {},
     "output_type": "execute_result"
    }
   ],
   "source": [
    "import random\n",
    "random.random()"
   ]
  },
  {
   "cell_type": "markdown",
   "id": "4dc9ff71-5d98-4306-874e-a2ea1d51d3fc",
   "metadata": {},
   "source": [
    "Or, for example, suppose a professor wants to randomly grade his students between 8 and 16. For this purpose, he can use the **randint** function in the random library:"
   ]
  },
  {
   "cell_type": "code",
   "execution_count": 26,
   "id": "8ed665be-1668-4d9a-a6cd-78b06d9d9fc4",
   "metadata": {},
   "outputs": [
    {
     "data": {
      "text/plain": [
       "15"
      ]
     },
     "execution_count": 26,
     "metadata": {},
     "output_type": "execute_result"
    }
   ],
   "source": [
    "import random\n",
    "random.randint(8, 16)"
   ]
  },
  {
   "cell_type": "markdown",
   "id": "bd233204-cc9b-4a59-84bc-6fa1eeade336",
   "metadata": {},
   "source": [
    "***"
   ]
  },
  {
   "cell_type": "markdown",
   "id": "f5613403-141e-4e18-a713-6df06c831ad3",
   "metadata": {},
   "source": [
    "## 21-3. Creating Functions  \n",
    "Just follow the steps:\n",
    "- Define the Function by using the **def** keyword followed by the function **name** and **parentheses**.\n",
    "- Add Parameters (Inputs). Place inputs inside the parentheses (optional).\n",
    "- Write the Function Body. Indent the code block under the function.\n",
    "- Add a Return Statement (Optional). Use return to send back a result (if no return, it defaults to None).\n",
    "- Call the Function. Execute the function by its name with arguments (if needed)."
   ]
  },
  {
   "cell_type": "code",
   "execution_count": 27,
   "id": "a1ef8db8-8540-4281-8ba0-60850f758434",
   "metadata": {},
   "outputs": [
    {
     "name": "stdout",
     "output_type": "stream",
     "text": [
      "Area: 20\n"
     ]
    }
   ],
   "source": [
    "def calculate_area(length, width):    # def + function name + parentheses + parameteres + :\n",
    "    area = length * width             # function body + indentation\n",
    "    return area                       # return statement + indentation\n",
    "\n",
    "result = calculate_area(4, 5)\n",
    "print(\"Area:\", result)  "
   ]
  },
  {
   "cell_type": "markdown",
   "id": "d9eb72aa-5904-4ffd-abbf-5c8c5d240040",
   "metadata": {},
   "source": [
    "**Note:** A function can call another function."
   ]
  },
  {
   "cell_type": "code",
   "execution_count": 28,
   "id": "d0c62916-e812-43fc-acab-71e33c4d1433",
   "metadata": {},
   "outputs": [
    {
     "name": "stdout",
     "output_type": "stream",
     "text": [
      "30\n"
     ]
    }
   ],
   "source": [
    "def add (x, y):\n",
    "\treturn x + y\n",
    "\n",
    "def do_twice (func, x, y) :\n",
    "\treturn func (func (x, y), func(x, y))\n",
    "\n",
    "a=5\n",
    "b=10\n",
    "print (do_twice(add, a, b))                                                              "
   ]
  },
  {
   "cell_type": "markdown",
   "id": "e1159260-a80f-4530-ade8-a9ca823c5451",
   "metadata": {},
   "source": [
    "Using a function call, we write a function that gives us a maximum of three numbers (without using **max** function)."
   ]
  },
  {
   "cell_type": "code",
   "execution_count": 37,
   "id": "484b33cc-d93d-4b58-b11b-a656ddc40eaa",
   "metadata": {},
   "outputs": [
    {
     "name": "stdout",
     "output_type": "stream",
     "text": [
      "5\n"
     ]
    }
   ],
   "source": [
    "def f(x,y):\n",
    "    if x>y:\n",
    "        return x\n",
    "    return y\n",
    "\n",
    "def g(x,y,z):\n",
    "    return f(x,f(y,z))\n",
    "\n",
    "print(g(2,5,3))              "
   ]
  },
  {
   "cell_type": "markdown",
   "id": "0b700280-18b3-4ca3-bcc5-13bb76261840",
   "metadata": {},
   "source": [
    "**Note:** We can change the name of a function very easily. In other words, we can make a copy of the function but with a different name. Consider the following example:"
   ]
  },
  {
   "cell_type": "code",
   "execution_count": 31,
   "id": "e1528a9c-8a50-4817-b7c1-b2001f947f6b",
   "metadata": {},
   "outputs": [
    {
     "name": "stdout",
     "output_type": "stream",
     "text": [
      "64\n"
     ]
    }
   ],
   "source": [
    "def x(n):\n",
    "\tprint(n**2)\n",
    "\n",
    "y=x\n",
    "y(8)"
   ]
  },
  {
   "cell_type": "code",
   "execution_count": 32,
   "id": "61a13c68-aa4a-4492-9aae-fe1949be939a",
   "metadata": {},
   "outputs": [
    {
     "name": "stdout",
     "output_type": "stream",
     "text": [
      "shout!\n"
     ]
    }
   ],
   "source": [
    "def shout (word):\n",
    "\treturn word + \"!\"\n",
    "speak = shout\n",
    "output = speak (\"shout\")\n",
    "print(output)                                                                      "
   ]
  },
  {
   "cell_type": "markdown",
   "id": "2a6a87bd-a397-465e-b217-013a127e43b5",
   "metadata": {},
   "source": [
    "***"
   ]
  },
  {
   "cell_type": "markdown",
   "id": "32834754-d106-4e32-8357-4b14ed2ac371",
   "metadata": {},
   "source": [
    "## 21-4. fruitful function & void function\n",
    "**Fruitful** Functions are functions that return a value using the **return** statement.\n",
    "\n",
    "**Void** Functions are functions that do not return a value (or return **None** implicitly).\n",
    "They perform actions (e.g., print, modify data) without returning a result."
   ]
  },
  {
   "cell_type": "markdown",
   "id": "e48459da-c12f-41c2-b38a-75a776d4057d",
   "metadata": {},
   "source": [
    "In fact, the first function has output, but the second function does not.\n",
    "Consider the following examples:"
   ]
  },
  {
   "cell_type": "code",
   "execution_count": 33,
   "id": "0601e90d-dde1-4205-a106-f14790073540",
   "metadata": {},
   "outputs": [
    {
     "name": "stdout",
     "output_type": "stream",
     "text": [
      "hello world!\n",
      "None\n"
     ]
    }
   ],
   "source": [
    "def hello_1():\n",
    "    print('hello world!')\n",
    "\n",
    "s=hello_1()\n",
    "print(s)                     "
   ]
  },
  {
   "cell_type": "code",
   "execution_count": 34,
   "id": "98ded104-5e46-4b37-acaf-080126ba1afe",
   "metadata": {},
   "outputs": [
    {
     "name": "stdout",
     "output_type": "stream",
     "text": [
      "hello world!\n"
     ]
    }
   ],
   "source": [
    "def hello_2():\n",
    "    return 'hello world!'\n",
    "\n",
    "s=hello_2()\n",
    "print(s)                     "
   ]
  },
  {
   "cell_type": "code",
   "execution_count": 35,
   "id": "09ac2fe6-0e99-4ee2-b0bb-561f5cd9410f",
   "metadata": {},
   "outputs": [
    {
     "name": "stdout",
     "output_type": "stream",
     "text": [
      "hello world!\n"
     ]
    }
   ],
   "source": [
    "def hello_3(p):\n",
    "    print(p)\n",
    "\n",
    "s='hello world!'\n",
    "hello_3(s)                   "
   ]
  },
  {
   "cell_type": "markdown",
   "id": "84387a98-c404-4dd3-bc58-5a9e7409a173",
   "metadata": {},
   "source": [
    "The first function ☝️ has neither input nor output. The second function ☝️ has no input but has output, and the third function ☝️ has both input and output."
   ]
  },
  {
   "cell_type": "markdown",
   "id": "127743df-4c0b-46bd-9207-78f2f466363a",
   "metadata": {},
   "source": [
    "***"
   ]
  },
  {
   "cell_type": "markdown",
   "id": "3cfd0165-a4d1-4c7d-8cc9-b06e3e47c0dd",
   "metadata": {},
   "source": [
    "## 21-5. Boolean Function\n",
    "Fruitful functions that return booleans:"
   ]
  },
  {
   "cell_type": "code",
   "execution_count": 39,
   "id": "701aeb1b-041d-4531-b33a-6712e1b72e31",
   "metadata": {},
   "outputs": [
    {
     "data": {
      "text/plain": [
       "True"
      ]
     },
     "execution_count": 39,
     "metadata": {},
     "output_type": "execute_result"
    }
   ],
   "source": [
    "def is_divisable(x, y):\n",
    "    if x % y == 0:\n",
    "        return True\n",
    "    else:\n",
    "        return False\n",
    "\n",
    "is_divisable(6, 3)"
   ]
  },
  {
   "cell_type": "markdown",
   "id": "ff78d8ec-cd49-433b-816b-82378403d193",
   "metadata": {},
   "source": [
    "**Note:** The result of **==** operator is a boolean, so we can rewrite the above function more concisely:"
   ]
  },
  {
   "cell_type": "code",
   "execution_count": 40,
   "id": "506b37a4-2ba3-4f40-97d7-74f893b7548b",
   "metadata": {},
   "outputs": [
    {
     "data": {
      "text/plain": [
       "True"
      ]
     },
     "execution_count": 40,
     "metadata": {},
     "output_type": "execute_result"
    }
   ],
   "source": [
    "def is_divisable(x, y):\n",
    "    return x % y == 0\n",
    "\n",
    "is_divisable(6, 3)"
   ]
  },
  {
   "cell_type": "markdown",
   "id": "4e0aab24-9618-4622-ba2a-c6dc6e39f2dd",
   "metadata": {},
   "source": [
    "***"
   ]
  },
  {
   "cell_type": "markdown",
   "id": "ab0cf4d7-4c43-4f9a-b150-8208fab078a2",
   "metadata": {},
   "source": [
    "# 22. Local and global variables\n",
    "To understand the concept of these two variables, consider the following example."
   ]
  },
  {
   "cell_type": "code",
   "execution_count": 42,
   "id": "79508932-60ca-45b8-b8e1-9c94a60eea19",
   "metadata": {},
   "outputs": [
    {
     "name": "stdout",
     "output_type": "stream",
     "text": [
      "2\n",
      "1\n"
     ]
    }
   ],
   "source": [
    "x=1\n",
    "def f():\n",
    "    x=2\t\n",
    "    print(x)\n",
    "\n",
    "f()                          \n",
    "print(x)"
   ]
  },
  {
   "cell_type": "markdown",
   "id": "9c10d80a-0e4d-4643-b967-454aaafc7f39",
   "metadata": {},
   "source": [
    "x=1 is considered a global variable, but x=2 is a local variable that is only defined inside the function and cannot be accessed outside the function."
   ]
  },
  {
   "cell_type": "markdown",
   "id": "f58bb7f0-31cd-4c25-8eda-7e9eb5c02d0f",
   "metadata": {},
   "source": [
    "## 22-1. global statement"
   ]
  },
  {
   "cell_type": "markdown",
   "id": "5489a999-84b3-4be7-8bd3-858421ff65b2",
   "metadata": {},
   "source": [
    "In order to access the variable inside the function, we must include the **global** x statement inside the function:"
   ]
  },
  {
   "cell_type": "code",
   "execution_count": 43,
   "id": "8bc19528-e34a-451f-a02f-2dbfd836610c",
   "metadata": {},
   "outputs": [
    {
     "name": "stdout",
     "output_type": "stream",
     "text": [
      "2\n",
      "2\n"
     ]
    }
   ],
   "source": [
    "x=1\n",
    "def f():\n",
    "    global x\n",
    "    x=2\n",
    "    print(x)\n",
    "\n",
    "f()                          \n",
    "print(x)"
   ]
  },
  {
   "cell_type": "code",
   "execution_count": 46,
   "id": "3402cc6e-2bb3-425b-8e08-657c1bb9e4db",
   "metadata": {},
   "outputs": [
    {
     "name": "stdout",
     "output_type": "stream",
     "text": [
      "5\n",
      "8\n",
      "8\n"
     ]
    }
   ],
   "source": [
    "x=5\n",
    "def func():\n",
    "    global x\n",
    "    print(x)\n",
    "    x=8\n",
    "    print(x)\n",
    "\n",
    "func()                              \n",
    "print(x)                       "
   ]
  },
  {
   "cell_type": "markdown",
   "id": "28feece9-b0c4-46bd-8726-70f64bed2819",
   "metadata": {},
   "source": [
    "***"
   ]
  },
  {
   "cell_type": "markdown",
   "id": "b40206fb-6731-46dc-9302-0b9bc348b89b",
   "metadata": {},
   "source": [
    "# Some Excercises"
   ]
  },
  {
   "cell_type": "markdown",
   "id": "456b9d5a-ba47-432f-8378-4f7a46f1dde1",
   "metadata": {},
   "source": [
    "**1.** Write a function **safe_divide(a, b)** that:\n",
    "\n",
    "- Takes two numbers a and b.\n",
    "\n",
    "- Returns a / b if possible.\n",
    "\n",
    "- Catches ZeroDivisionError and returns \"Cannot divide by zero\".\n",
    "\n",
    "- Catches TypeError (if inputs are not numbers) and returns \"Invalid input\"."
   ]
  },
  {
   "cell_type": "markdown",
   "id": "088d38a8-866c-48a9-a9b5-40df9d99ae4b",
   "metadata": {},
   "source": [
    "-------------------------------------------------------------------------------------------------------------------------------------------------------"
   ]
  },
  {
   "cell_type": "markdown",
   "id": "b3a22bee-5f94-4b38-8dfa-f844ade21067",
   "metadata": {},
   "source": [
    "**2.** Write a function **is_positive_even(num)** that:\n",
    "\n",
    "- Returns True if num is a positive even number.\n",
    "\n",
    "- Uses short-circuiting to immediately return False if num is not an integer or is negative.\n",
    "\n",
    "- Avoid nested if statements using guards."
   ]
  },
  {
   "cell_type": "markdown",
   "id": "b486b7b8-307c-4eb7-8c14-a1dd72eb2e46",
   "metadata": {},
   "source": [
    "___"
   ]
  },
  {
   "cell_type": "markdown",
   "id": "14c8b4e9-3bd5-4c09-9f87-2f0163cc1206",
   "metadata": {},
   "source": [
    "**3.** Write a function **is_palindrome(word)** that:\n",
    "\n",
    "- Checks if a given string word is a palindrome (reads the same backward).\n",
    "\n",
    "- Uses local variables for intermediate steps.\n",
    "\n",
    "- Returns True or False."
   ]
  },
  {
   "cell_type": "markdown",
   "id": "5c32b073-bab0-451e-8fd7-a294020f71c6",
   "metadata": {},
   "source": [
    "_____"
   ]
  },
  {
   "cell_type": "markdown",
   "id": "3d8771a1-bed5-4325-920a-f591b8905af3",
   "metadata": {},
   "source": [
    "**4.** Write a void function **update_counter()** that:\n",
    "\n",
    "- Uses a global variable counter (initialize it to 0 outside the function).\n",
    "\n",
    "- Increments counter by 1 each time the function is called.\n",
    "\n",
    "- Prints the updated value."
   ]
  },
  {
   "cell_type": "markdown",
   "id": "489da9fe-be18-487a-bcc7-e5d6672698ba",
   "metadata": {},
   "source": [
    "---"
   ]
  },
  {
   "cell_type": "markdown",
   "id": "d9ca1f28-a179-476e-8d8e-b63cec174851",
   "metadata": {},
   "source": [
    "**5.** Write a function **count_vowels(text)** that:\n",
    "\n",
    "- Takes a string text.\n",
    "\n",
    "- Uses lower() and count() to count vowels (a, e, i, o, u).\n",
    "\n",
    "- Returns the total count."
   ]
  },
  {
   "cell_type": "markdown",
   "id": "bf117f39-fa94-453e-bca9-2ccd7b507496",
   "metadata": {},
   "source": [
    "---"
   ]
  },
  {
   "cell_type": "markdown",
   "id": "52b740e5-6334-4a0a-9daa-ab43c69ee767",
   "metadata": {},
   "source": [
    "**6.** Write a function **analyze_number(num)** that:\n",
    "\n",
    "- Returns \"Zero\" if num is 0.\n",
    "\n",
    "- Returns \"Positive and even\" if num is positive and even.\n",
    "\n",
    "- Returns \"Positive and odd\" if num is positive and odd.\n",
    "\n",
    "- Returns \"Negative\" if num is negative."
   ]
  },
  {
   "cell_type": "markdown",
   "id": "02e59887-780b-4321-9382-ef4c85ec9684",
   "metadata": {},
   "source": [
    "---"
   ]
  },
  {
   "cell_type": "markdown",
   "id": "5a06f590-e2ab-4122-a01a-546d6e00eb9c",
   "metadata": {},
   "source": [
    "**7.** Write a function **is_weekend(day)** that:\n",
    "\n",
    "- Takes a day name (e.g., \"Monday\").\n",
    "\n",
    "- Returns True if the day is \"Saturday\" or \"Sunday\".\n",
    "\n",
    "- Uses membership operators (in) and boolean logic."
   ]
  },
  {
   "cell_type": "markdown",
   "id": "1b32e2d5-3ed7-4865-b63e-21c5cc156f67",
   "metadata": {},
   "source": [
    "---"
   ]
  },
  {
   "cell_type": "markdown",
   "id": "ee0fa7dd-e400-4f08-8161-276bf6234599",
   "metadata": {},
   "source": [
    "**8.** Write a function **describe_value(value)** that:\n",
    "\n",
    "- Uses **type()** or **isinstance()** to check the type of value.\n",
    "\n",
    "- Returns:\n",
    "\n",
    "    - \"Integer\" if it's an int.\n",
    "\n",
    "    - \"Floating-point\" if it's a float.\n",
    "\n",
    "    - \"String\" if it's a str.\n",
    "\n",
    "    - \"Boolean\" if it's a bool.\n",
    "\n",
    "    - \"Unknown\" otherwise."
   ]
  },
  {
   "cell_type": "markdown",
   "id": "8dcb22a4-aff7-4377-b09a-a39fa4a3b2a7",
   "metadata": {},
   "source": [
    "***"
   ]
  },
  {
   "cell_type": "markdown",
   "id": "7cc97f26-cf68-4d50-82a1-ae7dcdfa95ac",
   "metadata": {},
   "source": [
    "#                                                        🌞 https://github.com/AI-Planet 🌞"
   ]
  }
 ],
 "metadata": {
  "kernelspec": {
   "display_name": "Python 3 (ipykernel)",
   "language": "python",
   "name": "python3"
  },
  "language_info": {
   "codemirror_mode": {
    "name": "ipython",
    "version": 3
   },
   "file_extension": ".py",
   "mimetype": "text/x-python",
   "name": "python",
   "nbconvert_exporter": "python",
   "pygments_lexer": "ipython3",
   "version": "3.9.12"
  }
 },
 "nbformat": 4,
 "nbformat_minor": 5
}
