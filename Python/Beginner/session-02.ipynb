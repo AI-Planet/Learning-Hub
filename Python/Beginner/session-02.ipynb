{
 "cells": [
  {
   "cell_type": "markdown",
   "id": "355b5f03-d2a5-4aa3-a77c-776ccfcb35d5",
   "metadata": {},
   "source": [
    "# Session 2 🐍"
   ]
  },
  {
   "cell_type": "markdown",
   "id": "45efc9ec-fb9c-458c-b1de-d961145e8449",
   "metadata": {},
   "source": [
    "☀️☀️☀️☀️☀️☀️☀️☀️☀️☀️☀️☀️☀️☀️☀️☀️☀️☀️☀️☀️☀️☀️☀️☀️☀️☀️☀️☀️☀️☀️☀️☀️☀️☀️☀️☀️☀️☀️☀️☀️☀️☀️☀️☀️☀️"
   ]
  },
  {
   "cell_type": "markdown",
   "id": "2c7a6ce5-4cd2-45cd-a3b8-9ac277170654",
   "metadata": {},
   "source": [
    "***"
   ]
  },
  {
   "cell_type": "markdown",
   "id": "f93da5b9-7e3e-4e34-9af4-a61141548671",
   "metadata": {},
   "source": [
    "# 4. Statement"
   ]
  },
  {
   "cell_type": "markdown",
   "id": "3ae7d18e-77e5-486c-9cf8-340755614c9d",
   "metadata": {},
   "source": [
    "Any executable part in Python is a statement. Like x=1 or x=x+1 or print(x) ."
   ]
  },
  {
   "cell_type": "markdown",
   "id": "8d257824-68f7-49f8-accf-1217f59bd678",
   "metadata": {},
   "source": [
    "***"
   ]
  },
  {
   "cell_type": "markdown",
   "id": "6004f9cd-c84a-4e54-84ea-bc02572e59b7",
   "metadata": {},
   "source": [
    "# 5. Arithmetic Operator\n",
    "The operators are: **+**, **-**, * (multiplication), **/** (division), ** (power), **//** (floor division), and **%** (returns the remainder of division)."
   ]
  },
  {
   "cell_type": "code",
   "execution_count": 1,
   "id": "d51e6bfa-d250-4387-9392-52a68479f028",
   "metadata": {},
   "outputs": [
    {
     "data": {
      "text/plain": [
       "5"
      ]
     },
     "execution_count": 1,
     "metadata": {},
     "output_type": "execute_result"
    }
   ],
   "source": [
    "2+3"
   ]
  },
  {
   "cell_type": "code",
   "execution_count": 2,
   "id": "b338b07e-9288-45c2-b998-65bfc4751128",
   "metadata": {},
   "outputs": [
    {
     "data": {
      "text/plain": [
       "5"
      ]
     },
     "execution_count": 2,
     "metadata": {},
     "output_type": "execute_result"
    }
   ],
   "source": [
    "7-2"
   ]
  },
  {
   "cell_type": "code",
   "execution_count": 3,
   "id": "b7c91344-96af-4e89-8176-e7ee3d292c0d",
   "metadata": {},
   "outputs": [
    {
     "data": {
      "text/plain": [
       "6"
      ]
     },
     "execution_count": 3,
     "metadata": {},
     "output_type": "execute_result"
    }
   ],
   "source": [
    "2*3"
   ]
  },
  {
   "cell_type": "markdown",
   "id": "824cd3a5-0459-4adf-be44-f7d117172900",
   "metadata": {},
   "source": [
    "**Note:** The result of the division operator is a float number."
   ]
  },
  {
   "cell_type": "code",
   "execution_count": 4,
   "id": "650876de-d2a7-4e55-8d02-9ad506e877f7",
   "metadata": {},
   "outputs": [
    {
     "data": {
      "text/plain": [
       "2.0"
      ]
     },
     "execution_count": 4,
     "metadata": {},
     "output_type": "execute_result"
    }
   ],
   "source": [
    "8/4"
   ]
  },
  {
   "cell_type": "markdown",
   "id": "2514c5ff-2049-4db6-a17f-e6c9a7dbc049",
   "metadata": {},
   "source": [
    "**Note:** The floor division operator // divides two numbers and rounds down to an integer."
   ]
  },
  {
   "cell_type": "code",
   "execution_count": 11,
   "id": "15ae1caf-336e-4661-b9f5-6545b29bfe7e",
   "metadata": {},
   "outputs": [
    {
     "data": {
      "text/plain": [
       "1"
      ]
     },
     "execution_count": 11,
     "metadata": {},
     "output_type": "execute_result"
    }
   ],
   "source": [
    "7//4"
   ]
  },
  {
   "cell_type": "markdown",
   "id": "5ed0137d-6a09-4559-9ad3-7b8d99c592cc",
   "metadata": {},
   "source": [
    "**Note:** Using the // operator, you can get the tens place of a two-digit number from the command x//10 and the hundreds place of a three-digit number from the command x//100."
   ]
  },
  {
   "cell_type": "code",
   "execution_count": 45,
   "id": "31aca0c0-e26d-4101-aa62-8534f6429a9d",
   "metadata": {},
   "outputs": [
    {
     "data": {
      "text/plain": [
       "5"
      ]
     },
     "execution_count": 45,
     "metadata": {},
     "output_type": "execute_result"
    }
   ],
   "source": [
    "56//10"
   ]
  },
  {
   "cell_type": "code",
   "execution_count": 44,
   "id": "e9e4d519-480a-418c-8be5-4d55c34dde6d",
   "metadata": {},
   "outputs": [
    {
     "data": {
      "text/plain": [
       "1"
      ]
     },
     "execution_count": 44,
     "metadata": {},
     "output_type": "execute_result"
    }
   ],
   "source": [
    "123//100"
   ]
  },
  {
   "cell_type": "markdown",
   "id": "b2eebcb7-5549-48e8-bc9c-82af7b09e056",
   "metadata": {},
   "source": [
    "**Note:** The Modulus operator % works on integer values. It computes the remainder when dividing the first integer by the second one."
   ]
  },
  {
   "cell_type": "code",
   "execution_count": 6,
   "id": "cc095cb0-72a8-43ae-87f9-1cb3bbd1bf2d",
   "metadata": {},
   "outputs": [
    {
     "data": {
      "text/plain": [
       "3"
      ]
     },
     "execution_count": 6,
     "metadata": {},
     "output_type": "execute_result"
    }
   ],
   "source": [
    "7%4"
   ]
  },
  {
   "cell_type": "markdown",
   "id": "47f1699b-e3de-48af-b1a5-6adc70267b88",
   "metadata": {},
   "source": [
    "**Note:** The % operator is very useful. For example, to get the right most digit of a number like x, we just need to write: x%10. "
   ]
  },
  {
   "cell_type": "code",
   "execution_count": 7,
   "id": "dd8560c4-7de2-4d8e-83f9-278ebd5b58f1",
   "metadata": {},
   "outputs": [
    {
     "data": {
      "text/plain": [
       "3"
      ]
     },
     "execution_count": 7,
     "metadata": {},
     "output_type": "execute_result"
    }
   ],
   "source": [
    "123%10"
   ]
  },
  {
   "cell_type": "markdown",
   "id": "ace1596d-23fb-4505-8bc9-d9be0c790f64",
   "metadata": {},
   "source": [
    "***"
   ]
  },
  {
   "cell_type": "markdown",
   "id": "3d6f7d9e-f4b7-46cd-afb6-f823e126cccc",
   "metadata": {},
   "source": [
    "# 6. Operand\n",
    "In the expression x+1, x and 1 are operands and + is considered an operator."
   ]
  },
  {
   "cell_type": "markdown",
   "id": "3b902d97-3935-4f22-ad2f-fbbf616645c2",
   "metadata": {},
   "source": [
    "***"
   ]
  },
  {
   "cell_type": "markdown",
   "id": "1b5ff85c-2adc-4628-b88a-d8a21b7b6c5b",
   "metadata": {},
   "source": [
    "# 7. Expression\n",
    "Any combination of values (like 2), variables (like x), and operators (like +) gives us an expression, such as: 2+x or x=x+1 or 17%3 or 17//3 or x*3+6/89**2."
   ]
  },
  {
   "cell_type": "markdown",
   "id": "bd233204-cc9b-4a59-84bc-6fa1eeade336",
   "metadata": {},
   "source": [
    "***"
   ]
  },
  {
   "cell_type": "markdown",
   "id": "6b517750-2399-431f-9831-98f9eed608a2",
   "metadata": {},
   "source": [
    "## 7-1. PEMDAS\n",
    "When writing expressions, you must consider some rules regarding the priority of calculations: first **p**arentheses, second **e**xponents, third **m**ultiplication and **d**ivision, and finally **a**ddition and **s**ubtraction."
   ]
  },
  {
   "cell_type": "code",
   "execution_count": 8,
   "id": "b62362e1-5840-469f-b4c7-6e71c7868723",
   "metadata": {},
   "outputs": [
    {
     "data": {
      "text/plain": [
       "-1"
      ]
     },
     "execution_count": 8,
     "metadata": {},
     "output_type": "execute_result"
    }
   ],
   "source": [
    "5-3*2"
   ]
  },
  {
   "cell_type": "markdown",
   "id": "afc52bde-2312-421a-8b02-ceb533421b79",
   "metadata": {},
   "source": [
    "Try to use parentheses and don't get carried away with these priorities. This way the program will be more readable:"
   ]
  },
  {
   "cell_type": "code",
   "execution_count": 9,
   "id": "2b3b20d7-c9eb-4d91-bb67-abcc218057c2",
   "metadata": {},
   "outputs": [
    {
     "data": {
      "text/plain": [
       "-1"
      ]
     },
     "execution_count": 9,
     "metadata": {},
     "output_type": "execute_result"
    }
   ],
   "source": [
    "5-(3*2)"
   ]
  },
  {
   "cell_type": "markdown",
   "id": "9754f643-cb52-4007-bfef-1731e757691a",
   "metadata": {},
   "source": [
    "**Note:** If we have multiple operators with the same priority, Python starts applying them from **left** to right. Of course, we have an exception for the **exponent** operator:"
   ]
  },
  {
   "cell_type": "code",
   "execution_count": 10,
   "id": "9aea91ec-61a6-42bf-aacc-0ae6983bf809",
   "metadata": {},
   "outputs": [
    {
     "data": {
      "text/plain": [
       "256"
      ]
     },
     "execution_count": 10,
     "metadata": {},
     "output_type": "execute_result"
    }
   ],
   "source": [
    "2**2**3"
   ]
  },
  {
   "cell_type": "markdown",
   "id": "1a3318d6-1b83-4646-b067-d2d881dcc912",
   "metadata": {},
   "source": [
    "***"
   ]
  },
  {
   "cell_type": "markdown",
   "id": "795b183e-c63b-4689-8476-aecb5d1dc29d",
   "metadata": {},
   "source": [
    "# 8. String operations\n",
    "In general, you cannot perform mathematical operations on strings, even if they look like numbers.\n",
    "The following operations are illegal:"
   ]
  },
  {
   "cell_type": "raw",
   "id": "cf8aa16e-11c4-43d6-b352-fde1a3e8e868",
   "metadata": {},
   "source": [
    "'5'-'3' , '4'/'2' , '4'*'2' , '4'**'2' , '4'//'2' , '4'%'2'"
   ]
  },
  {
   "cell_type": "markdown",
   "id": "7c878622-279f-4349-a3b8-b4144c16db07",
   "metadata": {},
   "source": [
    "But there are two exceptions, **+** and __*__. \n",
    "\n",
    "The **+** operator performs string **Concatenation**, which means it joins the strings by linking them end-to-end."
   ]
  },
  {
   "cell_type": "code",
   "execution_count": 15,
   "id": "be3f28e0-cfda-44e4-bba5-45927a73ec32",
   "metadata": {},
   "outputs": [
    {
     "name": "stdout",
     "output_type": "stream",
     "text": [
      "123\n"
     ]
    }
   ],
   "source": [
    "x = '1'\n",
    "y = '2'\n",
    "z = '3'\n",
    "print(x+y+z)"
   ]
  },
  {
   "cell_type": "code",
   "execution_count": 16,
   "id": "920b7aa0-5690-4618-ba18-879e5855c02b",
   "metadata": {},
   "outputs": [
    {
     "name": "stdout",
     "output_type": "stream",
     "text": [
      "Mehdi Jalali\n"
     ]
    }
   ],
   "source": [
    "x = 'Mehdi'\n",
    "y = ' '\n",
    "z = 'Jalali'\n",
    "print(x+y+z)"
   ]
  },
  {
   "cell_type": "markdown",
   "id": "ee67bad1-d127-4221-91fe-d61bc55bae0c",
   "metadata": {},
   "source": [
    "The __*__ operator works on strings too. It performs repetition."
   ]
  },
  {
   "cell_type": "code",
   "execution_count": 17,
   "id": "cf66ac69-54bb-423b-b564-88dd00383635",
   "metadata": {},
   "outputs": [
    {
     "name": "stdout",
     "output_type": "stream",
     "text": [
      "222\n"
     ]
    }
   ],
   "source": [
    "print('2'*3)"
   ]
  },
  {
   "cell_type": "markdown",
   "id": "0593c4d2-0de7-429e-a237-c47c0ddd1abf",
   "metadata": {},
   "source": [
    "**Note:** A space is considered a character."
   ]
  },
  {
   "cell_type": "code",
   "execution_count": 23,
   "id": "e7240f9f-ef22-4af7-bc48-6ed025987f93",
   "metadata": {},
   "outputs": [
    {
     "name": "stdout",
     "output_type": "stream",
     "text": [
      "ha ha ha ha \n"
     ]
    }
   ],
   "source": [
    "print(('ha'+' ')*4)"
   ]
  },
  {
   "cell_type": "markdown",
   "id": "cc8d0b19-7052-4ef4-b66a-624a624e2c6d",
   "metadata": {},
   "source": [
    "**Note:** We cannot multiply non-integer values in a string."
   ]
  },
  {
   "cell_type": "code",
   "execution_count": 24,
   "id": "27a42bbb-cf0f-4a73-b5bf-5210db16664c",
   "metadata": {},
   "outputs": [
    {
     "ename": "TypeError",
     "evalue": "can't multiply sequence by non-int of type 'float'",
     "output_type": "error",
     "traceback": [
      "\u001b[1;31m---------------------------------------------------------------------------\u001b[0m",
      "\u001b[1;31mTypeError\u001b[0m                                 Traceback (most recent call last)",
      "Cell \u001b[1;32mIn [24], line 1\u001b[0m\n\u001b[1;32m----> 1\u001b[0m \u001b[38;5;28mprint\u001b[39m(\u001b[38;5;124;43m'\u001b[39;49m\u001b[38;5;124;43m2\u001b[39;49m\u001b[38;5;124;43m'\u001b[39;49m\u001b[38;5;241;43m*\u001b[39;49m\u001b[38;5;241;43m3.14\u001b[39;49m)\n",
      "\u001b[1;31mTypeError\u001b[0m: can't multiply sequence by non-int of type 'float'"
     ]
    }
   ],
   "source": [
    "print('2'*3.14)"
   ]
  },
  {
   "cell_type": "markdown",
   "id": "4edef2f3-0d5e-40ae-8e6d-8a38cf315ff1",
   "metadata": {},
   "source": [
    "***"
   ]
  },
  {
   "cell_type": "markdown",
   "id": "b0cc432a-ff52-48d2-9aab-71a618e10bef",
   "metadata": {},
   "source": [
    "# 9. Type Casting \n",
    "Some variables can be converted to another type using functions such as **int**, **float**, **str**, or **complex**."
   ]
  },
  {
   "cell_type": "markdown",
   "id": "b2908345-f134-48c3-9af0-dd40ec859010",
   "metadata": {},
   "source": [
    "## 9-1. int( ) command:\n",
    "With the help of this command, the type of a decimal numeric value or a string value can be converted to an integer value, if possible."
   ]
  },
  {
   "cell_type": "code",
   "execution_count": 25,
   "id": "e1cf928c-49cc-431c-a35a-36341b4fa0e6",
   "metadata": {},
   "outputs": [
    {
     "data": {
      "text/plain": [
       "4"
      ]
     },
     "execution_count": 25,
     "metadata": {},
     "output_type": "execute_result"
    }
   ],
   "source": [
    "int(4.12)"
   ]
  },
  {
   "cell_type": "code",
   "execution_count": 26,
   "id": "f35994b1-e00b-435c-9236-89c50cdf1a92",
   "metadata": {},
   "outputs": [
    {
     "data": {
      "text/plain": [
       "4"
      ]
     },
     "execution_count": 26,
     "metadata": {},
     "output_type": "execute_result"
    }
   ],
   "source": [
    "int('4')"
   ]
  },
  {
   "cell_type": "code",
   "execution_count": 27,
   "id": "e7132d36-a0e3-4342-8dfa-8ec700e580af",
   "metadata": {},
   "outputs": [
    {
     "ename": "ValueError",
     "evalue": "invalid literal for int() with base 10: '4.12'",
     "output_type": "error",
     "traceback": [
      "\u001b[1;31m---------------------------------------------------------------------------\u001b[0m",
      "\u001b[1;31mValueError\u001b[0m                                Traceback (most recent call last)",
      "Cell \u001b[1;32mIn [27], line 1\u001b[0m\n\u001b[1;32m----> 1\u001b[0m \u001b[38;5;28;43mint\u001b[39;49m\u001b[43m(\u001b[49m\u001b[38;5;124;43m'\u001b[39;49m\u001b[38;5;124;43m4.12\u001b[39;49m\u001b[38;5;124;43m'\u001b[39;49m\u001b[43m)\u001b[49m\n",
      "\u001b[1;31mValueError\u001b[0m: invalid literal for int() with base 10: '4.12'"
     ]
    }
   ],
   "source": [
    "int('4.12')"
   ]
  },
  {
   "cell_type": "markdown",
   "id": "e5707d0b-e547-453e-8953-2a5a8e96f4bb",
   "metadata": {},
   "source": [
    "***"
   ]
  },
  {
   "cell_type": "markdown",
   "id": "0f839feb-677c-4128-bb9f-177793a36358",
   "metadata": {},
   "source": [
    "## 9-2. float() command:\n",
    "With the help of this command, you can convert an integer value or a string value to a decimal value, if possible."
   ]
  },
  {
   "cell_type": "code",
   "execution_count": 28,
   "id": "ea6bf5b4-097f-463a-9df1-9cd0fb2749c7",
   "metadata": {},
   "outputs": [
    {
     "data": {
      "text/plain": [
       "4.0"
      ]
     },
     "execution_count": 28,
     "metadata": {},
     "output_type": "execute_result"
    }
   ],
   "source": [
    "float(4)"
   ]
  },
  {
   "cell_type": "code",
   "execution_count": 29,
   "id": "ece34d5a-b9ac-4481-a18c-fd08369605d9",
   "metadata": {},
   "outputs": [
    {
     "data": {
      "text/plain": [
       "4.0"
      ]
     },
     "execution_count": 29,
     "metadata": {},
     "output_type": "execute_result"
    }
   ],
   "source": [
    "float('04')"
   ]
  },
  {
   "cell_type": "markdown",
   "id": "9b88ef84-9ead-41e9-a8f6-e4b9ef5ae4a5",
   "metadata": {},
   "source": [
    "***"
   ]
  },
  {
   "cell_type": "markdown",
   "id": "aae15c3e-4790-476d-8c3a-2aa67f1dd063",
   "metadata": {},
   "source": [
    "## 9-3. str( ) command:\n",
    "With the help of this command, you can convert an integer or decimal value to a string value."
   ]
  },
  {
   "cell_type": "code",
   "execution_count": 30,
   "id": "da5ec7c7-e7d6-4952-819f-2af7bea57ad5",
   "metadata": {},
   "outputs": [
    {
     "data": {
      "text/plain": [
       "5"
      ]
     },
     "execution_count": 30,
     "metadata": {},
     "output_type": "execute_result"
    }
   ],
   "source": [
    "2+3"
   ]
  },
  {
   "cell_type": "code",
   "execution_count": 31,
   "id": "6faf82b1-7c4e-4bd1-95f2-11cbad5c5204",
   "metadata": {},
   "outputs": [
    {
     "data": {
      "text/plain": [
       "'23'"
      ]
     },
     "execution_count": 31,
     "metadata": {},
     "output_type": "execute_result"
    }
   ],
   "source": [
    "str(2)+str(3)"
   ]
  },
  {
   "cell_type": "code",
   "execution_count": 32,
   "id": "1ff1112b-be3d-43e1-9c27-ba949cf9e23d",
   "metadata": {},
   "outputs": [
    {
     "data": {
      "text/plain": [
       "'4.5'"
      ]
     },
     "execution_count": 32,
     "metadata": {},
     "output_type": "execute_result"
    }
   ],
   "source": [
    "str(4.5)"
   ]
  },
  {
   "cell_type": "markdown",
   "id": "3a8da091-3796-4c06-8dcd-e280f47aba42",
   "metadata": {},
   "source": [
    "***"
   ]
  },
  {
   "cell_type": "markdown",
   "id": "c8598b05-ad7a-4cd6-bfb6-5f81e91ada14",
   "metadata": {},
   "source": [
    "## 9-4. complex command:\n",
    "This command can be used to convert integers, decimals, or strings to complex numbers."
   ]
  },
  {
   "cell_type": "code",
   "execution_count": 33,
   "id": "12c3ff8a-b4fa-43ff-8194-defb9eee75ac",
   "metadata": {},
   "outputs": [
    {
     "data": {
      "text/plain": [
       "(2+0j)"
      ]
     },
     "execution_count": 33,
     "metadata": {},
     "output_type": "execute_result"
    }
   ],
   "source": [
    "complex(2)"
   ]
  },
  {
   "cell_type": "code",
   "execution_count": 34,
   "id": "60265be1-e8c2-4a10-8c85-640af06cec63",
   "metadata": {},
   "outputs": [
    {
     "data": {
      "text/plain": [
       "(2.6+0j)"
      ]
     },
     "execution_count": 34,
     "metadata": {},
     "output_type": "execute_result"
    }
   ],
   "source": [
    "complex(' 2.6 ')"
   ]
  },
  {
   "cell_type": "markdown",
   "id": "966ec6cc-8cec-476d-ab7c-2317f9d446d3",
   "metadata": {},
   "source": [
    "***"
   ]
  },
  {
   "cell_type": "markdown",
   "id": "ce645b81-d505-448b-b212-00075a36dff3",
   "metadata": {},
   "source": [
    "# 10. Comment"
   ]
  },
  {
   "cell_type": "markdown",
   "id": "9cc10ae3-d19e-4e02-9ed0-b0a1a53c02f4",
   "metadata": {},
   "source": [
    "**Comments** are used to explain code, make notes, or temporarily disable parts of the code without deleting them. Comments are ignored by the Python interpreter and are only meant for human readability."
   ]
  },
  {
   "cell_type": "markdown",
   "id": "98029521-5706-49c6-a371-23f72c53dadf",
   "metadata": {},
   "source": [
    "***"
   ]
  },
  {
   "cell_type": "markdown",
   "id": "91ca1130-80eb-4c24-9d43-c89715a94821",
   "metadata": {},
   "source": [
    "## Types of Comments in Python"
   ]
  },
  {
   "cell_type": "markdown",
   "id": "25640650-8a0d-4739-8a45-04de0292957d",
   "metadata": {},
   "source": [
    "### 10-1. Single-line Comments (using #):\n",
    "\n",
    "Anything after # on that line is considered a comment."
   ]
  },
  {
   "cell_type": "code",
   "execution_count": 35,
   "id": "26776f53-8749-442e-81a0-2865695ae808",
   "metadata": {},
   "outputs": [
    {
     "name": "stdout",
     "output_type": "stream",
     "text": [
      "Hello, World!\n"
     ]
    }
   ],
   "source": [
    "# This is a single-line comment\n",
    "print(\"Hello, World!\")  # This comment is after code"
   ]
  },
  {
   "cell_type": "markdown",
   "id": "9b41089b-b9eb-4809-92c3-af76c0d92865",
   "metadata": {},
   "source": [
    "***"
   ]
  },
  {
   "cell_type": "markdown",
   "id": "9e4be07e-bdee-4e28-9adf-10fc15839d33",
   "metadata": {},
   "source": [
    "### 10-2. Multi-line Comments (using triple quotes ''' or \"\"\"):\n",
    "\n",
    "Python does not have an official multi-line comment syntax, but triple-quoted strings (docstrings) can be used for this purpose.\n",
    "\n",
    "If a string is not assigned to a variable, Python ignores it, effectively making it a comment."
   ]
  },
  {
   "cell_type": "code",
   "execution_count": 36,
   "id": "48a0a1fa-7f06-44cc-8b14-c0690dc21ae9",
   "metadata": {},
   "outputs": [
    {
     "name": "stdout",
     "output_type": "stream",
     "text": [
      "Hello again!\n"
     ]
    }
   ],
   "source": [
    "'''\n",
    "This is a multi-line comment.\n",
    "It spans multiple lines.\n",
    "'''\n",
    "print(\"Hello again!\")"
   ]
  },
  {
   "cell_type": "markdown",
   "id": "b7264564-8d61-4399-9c29-29de5efe24f7",
   "metadata": {},
   "source": [
    "***"
   ]
  },
  {
   "cell_type": "markdown",
   "id": "b911fd01-6ec5-4c4d-848c-fec5df79faa3",
   "metadata": {},
   "source": [
    "# 11. input( ) function\n",
    "In order to get data from the user through the Python prompt, we can use the built-in function **input**.\n",
    "\n",
    "When **input** is called, your whole program stops and waits for the user to enter the required data. Once the user types the value and presses **Enter**, the function returns the input value as a **string** and the program continues with its execution."
   ]
  },
  {
   "cell_type": "code",
   "execution_count": 37,
   "id": "3b83afa9-a93c-45e4-a01b-e052e7626aeb",
   "metadata": {},
   "outputs": [
    {
     "name": "stdin",
     "output_type": "stream",
     "text": [
      " 23\n"
     ]
    },
    {
     "name": "stdout",
     "output_type": "stream",
     "text": [
      "232323\n"
     ]
    }
   ],
   "source": [
    "x = input()\n",
    "print(x*3)"
   ]
  },
  {
   "cell_type": "markdown",
   "id": "6c947ee9-2b9d-408a-9608-e6d973779681",
   "metadata": {},
   "source": [
    "You can also print a message to clarify the purpose of the required input as follows:"
   ]
  },
  {
   "cell_type": "code",
   "execution_count": 38,
   "id": "64d94bd8-03f2-4daf-9b78-65a144f13886",
   "metadata": {},
   "outputs": [
    {
     "name": "stdin",
     "output_type": "stream",
     "text": [
      "What is your favorite car? \n",
      " BMW\n"
     ]
    },
    {
     "name": "stdout",
     "output_type": "stream",
     "text": [
      "I love BMW\n"
     ]
    }
   ],
   "source": [
    "car = input('What is your favorite car? \\n')\n",
    "print('I love '+ car)"
   ]
  },
  {
   "cell_type": "markdown",
   "id": "ba81e255-2159-4df4-b6d6-089c98cd31e9",
   "metadata": {},
   "source": [
    "The resulting string can be later be translated to a different type, like an integer or a float."
   ]
  },
  {
   "cell_type": "code",
   "execution_count": 41,
   "id": "451517c7-f745-4309-83fb-a69a5805329f",
   "metadata": {},
   "outputs": [
    {
     "name": "stdin",
     "output_type": "stream",
     "text": [
      "How old are you?  23\n"
     ]
    },
    {
     "name": "stdout",
     "output_type": "stream",
     "text": [
      "<class 'str'>\n",
      "23232323\n",
      "<class 'int'>\n",
      "92\n"
     ]
    }
   ],
   "source": [
    "age = input(\"How old are you? \")\n",
    "print(type(age))\n",
    "print(age*4)\n",
    "age = int(age)\n",
    "print(type(age))\n",
    "print(age*4)"
   ]
  },
  {
   "cell_type": "markdown",
   "id": "e71c1125-f001-4f95-945d-5473dd434a6a",
   "metadata": {},
   "source": [
    "***"
   ]
  },
  {
   "cell_type": "markdown",
   "id": "7ed94334-2292-48ef-9dc8-d2c21dc5d891",
   "metadata": {},
   "source": [
    "# Some exercises"
   ]
  },
  {
   "cell_type": "markdown",
   "id": "13acafce-d58b-4e2c-aa0c-df3a1e8779ed",
   "metadata": {},
   "source": [
    "**1.** Swap the values of a and b without using a third variable."
   ]
  },
  {
   "cell_type": "markdown",
   "id": "a36bdedf-202e-419b-bf96-ad5b90571117",
   "metadata": {},
   "source": [
    "**2.** If we are sure that the variable var is a two-digit number, write a program that swaps its ones and tens places (for example, if var is equal to 23, print 32 in the output)."
   ]
  },
  {
   "cell_type": "markdown",
   "id": "0e31eac9-777e-4050-a4f3-38a5522eda3a",
   "metadata": {},
   "source": [
    "**3.** If we are sure that the variable var is a three-digit number, write a program that prints the middle digit of this number."
   ]
  },
  {
   "cell_type": "markdown",
   "id": "7cc97f26-cf68-4d50-82a1-ae7dcdfa95ac",
   "metadata": {},
   "source": [
    "#                                                        🌞 https://github.com/AI-Planet 🌞"
   ]
  }
 ],
 "metadata": {
  "kernelspec": {
   "display_name": "Python 3 (ipykernel)",
   "language": "python",
   "name": "python3"
  },
  "language_info": {
   "codemirror_mode": {
    "name": "ipython",
    "version": 3
   },
   "file_extension": ".py",
   "mimetype": "text/x-python",
   "name": "python",
   "nbconvert_exporter": "python",
   "pygments_lexer": "ipython3",
   "version": "3.9.12"
  }
 },
 "nbformat": 4,
 "nbformat_minor": 5
}
