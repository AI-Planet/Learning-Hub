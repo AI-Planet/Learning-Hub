{
 "cells": [
  {
   "cell_type": "markdown",
   "id": "355b5f03-d2a5-4aa3-a77c-776ccfcb35d5",
   "metadata": {},
   "source": [
    "# Session 11 🐍"
   ]
  },
  {
   "cell_type": "markdown",
   "id": "45efc9ec-fb9c-458c-b1de-d961145e8449",
   "metadata": {},
   "source": [
    "☀️☀️☀️☀️☀️☀️☀️☀️☀️☀️☀️☀️☀️☀️☀️☀️☀️☀️☀️☀️☀️☀️☀️☀️☀️☀️☀️☀️☀️☀️☀️☀️☀️☀️☀️☀️☀️☀️☀️☀️☀️☀️☀️☀️☀️"
   ]
  },
  {
   "cell_type": "markdown",
   "id": "2c7a6ce5-4cd2-45cd-a3b8-9ac277170654",
   "metadata": {},
   "source": [
    "***"
   ]
  },
  {
   "cell_type": "markdown",
   "id": "f47542a8-416d-4a3f-8c9d-99781dc53bd8",
   "metadata": {},
   "source": [
    "# 63. Dictionary\n",
    "A dictionary in Python is a built-in data structure that stores data in key-value pairs. "
   ]
  },
  {
   "cell_type": "markdown",
   "id": "d516f58d-fe78-4946-82e9-99e5102f64c8",
   "metadata": {},
   "source": [
    "Basic Characteristics\n",
    "- **Unordered:** Before Python 3.7, dictionaries were unordered. From Python 3.7+, they maintain insertion order.\n",
    "- **Mutable:** You can change, add, or remove items after creation.\n",
    "- **Keys must be unique:** No duplicate keys allowed (if you assign a value to an existing key, it overwrites the old value).\n",
    "- **Keys must be immutable:** Keys can be strings, numbers, or tuples (but not lists or other dictionaries)."
   ]
  },
  {
   "cell_type": "markdown",
   "id": "a35384c2-ea49-4613-b074-ef3b571f756e",
   "metadata": {},
   "source": [
    "***"
   ]
  },
  {
   "cell_type": "markdown",
   "id": "91b2d653-7b83-4f11-87c7-394277442253",
   "metadata": {},
   "source": [
    "# 64. Creating a Dictionary"
   ]
  },
  {
   "cell_type": "code",
   "execution_count": 2,
   "id": "31e5e69c-e962-4aa5-a8a3-3b4f6cf60c13",
   "metadata": {},
   "outputs": [
    {
     "name": "stdout",
     "output_type": "stream",
     "text": [
      "{}\n",
      "{'name': 'John Doe', 'age': 21, 'courses': ['Math', 'Physics']}\n",
      "{'name': 'Alice', 'age': 25}\n"
     ]
    }
   ],
   "source": [
    "empty_dict = {}\n",
    "# or\n",
    "empty_dict = dict()\n",
    "\n",
    "student = {\n",
    "    \"name\": \"John Doe\",\n",
    "    \"age\": 21,\n",
    "    \"courses\": [\"Math\", \"Physics\"]\n",
    "}\n",
    "\n",
    "another_dict = dict(name=\"Alice\", age=25)\n",
    "\n",
    "print(empty_dict)\n",
    "print(student)\n",
    "print(another_dict)"
   ]
  },
  {
   "cell_type": "markdown",
   "id": "c5df47f0-ba73-46ca-ba95-a941fadc74c3",
   "metadata": {},
   "source": [
    "***"
   ]
  },
  {
   "cell_type": "markdown",
   "id": "7271a30e-0d82-493a-b86f-488308299f1e",
   "metadata": {},
   "source": [
    "# 65. Accessing Elements"
   ]
  },
  {
   "cell_type": "code",
   "execution_count": 7,
   "id": "e4d6d284-35e8-4add-9194-52f86b89714e",
   "metadata": {},
   "outputs": [
    {
     "name": "stdout",
     "output_type": "stream",
     "text": [
      "{'name': 'Alice', 'age': 30, 'city': 'New York'}\n",
      "Alice\n",
      "30\n"
     ]
    }
   ],
   "source": [
    "person = dict(name=\"Alice\", age=30, city=\"New York\")\n",
    "print(person)\n",
    "\n",
    "print(person[\"name\"])   \n",
    "print(person[\"age\"])   "
   ]
  },
  {
   "cell_type": "markdown",
   "id": "9a8fb70e-b17f-444e-86b5-dbf081e59200",
   "metadata": {},
   "source": [
    "***"
   ]
  },
  {
   "cell_type": "markdown",
   "id": "4a660e2a-2d02-405a-83d2-b1146fc19682",
   "metadata": {},
   "source": [
    "# 66. Adding and Modifying a Dictionary"
   ]
  },
  {
   "cell_type": "code",
   "execution_count": 8,
   "id": "1f3bf271-31c7-4866-9213-77e3dd557ab3",
   "metadata": {},
   "outputs": [
    {
     "name": "stdout",
     "output_type": "stream",
     "text": [
      "{'name': 'Anna', 'age': 30, 'city': 'New York', 'email': 'Anna@gmail.com'}\n"
     ]
    }
   ],
   "source": [
    "person['email'] = 'Anna@gmail.com'\n",
    "person['name'] = 'Anna'\n",
    "\n",
    "print(person)"
   ]
  },
  {
   "cell_type": "markdown",
   "id": "e0492755-963c-4b7a-ac4e-2f1f915fc6c4",
   "metadata": {},
   "source": [
    "***"
   ]
  },
  {
   "cell_type": "markdown",
   "id": "3f31ad0c-b65f-4828-a6fd-1b7476163f01",
   "metadata": {},
   "source": [
    "# 67. Dictionary Methods"
   ]
  },
  {
   "cell_type": "markdown",
   "id": "5d05f93a-0099-42e7-8a65-0a29448662f4",
   "metadata": {},
   "source": [
    "## 67-1. keys()\n",
    "It returns a view of all keys."
   ]
  },
  {
   "cell_type": "code",
   "execution_count": 15,
   "id": "355aeb5d-ddcf-4f3d-bc83-4b94ee344057",
   "metadata": {},
   "outputs": [
    {
     "data": {
      "text/plain": [
       "dict_keys(['name', 'age', 'city', 'email'])"
      ]
     },
     "execution_count": 15,
     "metadata": {},
     "output_type": "execute_result"
    }
   ],
   "source": [
    "person.keys()"
   ]
  },
  {
   "cell_type": "markdown",
   "id": "5489ac54-822e-4414-83d3-810dba3dafb6",
   "metadata": {},
   "source": [
    "It's better to use it like below to have a better appearance: "
   ]
  },
  {
   "cell_type": "code",
   "execution_count": 16,
   "id": "f0871fc8-45f0-4528-8005-249058880611",
   "metadata": {},
   "outputs": [
    {
     "data": {
      "text/plain": [
       "['name', 'age', 'city', 'email']"
      ]
     },
     "execution_count": 16,
     "metadata": {},
     "output_type": "execute_result"
    }
   ],
   "source": [
    "list(person.keys())"
   ]
  },
  {
   "cell_type": "markdown",
   "id": "9a56cdc7-b10f-4390-8a00-3e1b42c1f02c",
   "metadata": {},
   "source": [
    "***"
   ]
  },
  {
   "cell_type": "markdown",
   "id": "77a0237e-f5c8-41fc-a779-793447375c45",
   "metadata": {},
   "source": [
    "## 67-2. values()\n",
    "It returns a view of all values."
   ]
  },
  {
   "cell_type": "code",
   "execution_count": 17,
   "id": "df5e5807-d42c-4835-82b3-d8c513c51948",
   "metadata": {},
   "outputs": [
    {
     "data": {
      "text/plain": [
       "dict_values(['Anna', 30, 'New York', 'Anna@gmail.com'])"
      ]
     },
     "execution_count": 17,
     "metadata": {},
     "output_type": "execute_result"
    }
   ],
   "source": [
    "person.values()"
   ]
  },
  {
   "cell_type": "markdown",
   "id": "ed098ef6-bc04-4445-a9c3-b768130f90c7",
   "metadata": {},
   "source": [
    "And by using **list**, we will have:"
   ]
  },
  {
   "cell_type": "code",
   "execution_count": 18,
   "id": "eb70f547-7a19-4e5c-a8a6-ffebe8e17e2b",
   "metadata": {},
   "outputs": [
    {
     "data": {
      "text/plain": [
       "['Anna', 30, 'New York', 'Anna@gmail.com']"
      ]
     },
     "execution_count": 18,
     "metadata": {},
     "output_type": "execute_result"
    }
   ],
   "source": [
    "list(person.values())"
   ]
  },
  {
   "cell_type": "markdown",
   "id": "3abb83cb-d7cc-472d-9671-dff15b3f69fc",
   "metadata": {},
   "source": [
    "***"
   ]
  },
  {
   "cell_type": "markdown",
   "id": "deb4adee-46f6-458c-97eb-982b4eddce2b",
   "metadata": {},
   "source": [
    "## 67-3. items()"
   ]
  },
  {
   "cell_type": "markdown",
   "id": "203a3ece-9691-4547-b809-3d38af02c7a0",
   "metadata": {},
   "source": [
    "It returns a view of all key-value pairs as tuples."
   ]
  },
  {
   "cell_type": "code",
   "execution_count": 19,
   "id": "bf26d9db-d423-4a3e-b472-db08dc4e7799",
   "metadata": {},
   "outputs": [
    {
     "data": {
      "text/plain": [
       "dict_items([('name', 'Anna'), ('age', 30), ('city', 'New York'), ('email', 'Anna@gmail.com')])"
      ]
     },
     "execution_count": 19,
     "metadata": {},
     "output_type": "execute_result"
    }
   ],
   "source": [
    "person.items()"
   ]
  },
  {
   "cell_type": "markdown",
   "id": "631be588-15e1-46ac-b8ef-0b31dba44adb",
   "metadata": {},
   "source": [
    "And again by using **list** we will have:"
   ]
  },
  {
   "cell_type": "code",
   "execution_count": 21,
   "id": "5251ae42-0543-4a36-ba9e-a5da227015b2",
   "metadata": {},
   "outputs": [
    {
     "data": {
      "text/plain": [
       "[('name', 'Anna'),\n",
       " ('age', 30),\n",
       " ('city', 'New York'),\n",
       " ('email', 'Anna@gmail.com')]"
      ]
     },
     "execution_count": 21,
     "metadata": {},
     "output_type": "execute_result"
    }
   ],
   "source": [
    "list(person.items())"
   ]
  },
  {
   "cell_type": "markdown",
   "id": "1c748210-8e30-490a-8db7-b53a30225066",
   "metadata": {},
   "source": [
    "***"
   ]
  },
  {
   "cell_type": "markdown",
   "id": "2a488797-37ea-4942-a101-5ac937f91b17",
   "metadata": {},
   "source": [
    "## 67-4. get(x, 'Not found')\n",
    "It returns \"Not found\" if key doesn't exist."
   ]
  },
  {
   "cell_type": "code",
   "execution_count": 11,
   "id": "4f740a57-944f-4402-be1b-092527c2d77e",
   "metadata": {},
   "outputs": [
    {
     "name": "stdout",
     "output_type": "stream",
     "text": [
      "30\n",
      "Not found\n"
     ]
    }
   ],
   "source": [
    "print(person.get(\"age\"))\n",
    "print(person.get(\"address\", 'Not found'))"
   ]
  },
  {
   "cell_type": "markdown",
   "id": "d68cee98-e48b-4129-8bc8-a5328a4951af",
   "metadata": {},
   "source": [
    "Or just for simplicity if we don't write 'Not found', we will receive **None**:"
   ]
  },
  {
   "cell_type": "code",
   "execution_count": 12,
   "id": "a0a75b49-b39f-4acd-a681-5b8d0a0e47a3",
   "metadata": {},
   "outputs": [
    {
     "name": "stdout",
     "output_type": "stream",
     "text": [
      "None\n"
     ]
    }
   ],
   "source": [
    "print(person.get(\"address\"))"
   ]
  },
  {
   "cell_type": "markdown",
   "id": "570f11c4-d6ef-45a3-b435-4f901f712032",
   "metadata": {},
   "source": [
    "And if we don't use **get** method:"
   ]
  },
  {
   "cell_type": "code",
   "execution_count": 14,
   "id": "a43dc5ad-67b3-4403-95af-c3c1fa1b5a4d",
   "metadata": {},
   "outputs": [
    {
     "ename": "KeyError",
     "evalue": "'address'",
     "output_type": "error",
     "traceback": [
      "\u001b[1;31m---------------------------------------------------------------------------\u001b[0m",
      "\u001b[1;31mKeyError\u001b[0m                                  Traceback (most recent call last)",
      "Cell \u001b[1;32mIn [14], line 1\u001b[0m\n\u001b[1;32m----> 1\u001b[0m \u001b[38;5;28mprint\u001b[39m(\u001b[43mperson\u001b[49m\u001b[43m[\u001b[49m\u001b[38;5;124;43m\"\u001b[39;49m\u001b[38;5;124;43maddress\u001b[39;49m\u001b[38;5;124;43m\"\u001b[39;49m\u001b[43m]\u001b[49m)\n",
      "\u001b[1;31mKeyError\u001b[0m: 'address'"
     ]
    }
   ],
   "source": [
    "print(person[\"address\"])"
   ]
  },
  {
   "cell_type": "markdown",
   "id": "ae3dec4c-5e60-488c-8133-c047e7e6934e",
   "metadata": {},
   "source": [
    "***"
   ]
  },
  {
   "cell_type": "markdown",
   "id": "878d62da-f7c1-4faf-a77a-b971f01fa9cc",
   "metadata": {},
   "source": [
    "## 67-5. clear()\n",
    "It removes all items."
   ]
  },
  {
   "cell_type": "code",
   "execution_count": 22,
   "id": "804b78f0-853e-494c-bec7-51edc6a6c330",
   "metadata": {},
   "outputs": [
    {
     "name": "stdout",
     "output_type": "stream",
     "text": [
      "{}\n"
     ]
    }
   ],
   "source": [
    "person.clear()\n",
    "print(person)"
   ]
  },
  {
   "cell_type": "markdown",
   "id": "0382a403-d2c7-4fcf-813d-8ddfb2aa99a6",
   "metadata": {},
   "source": [
    "***"
   ]
  },
  {
   "cell_type": "markdown",
   "id": "f88f63a4-a56a-4a89-b2ae-e70005b53f29",
   "metadata": {},
   "source": [
    "## 67-6. copy( )\n",
    "It returns a shallow copy."
   ]
  },
  {
   "cell_type": "code",
   "execution_count": 30,
   "id": "c6518b25-d712-4bc8-a90b-dc503f6a75d2",
   "metadata": {},
   "outputs": [
    {
     "name": "stdout",
     "output_type": "stream",
     "text": [
      "{'a': 1, 'b': 2, 'c': 3}\n",
      "1\n",
      "10\n"
     ]
    }
   ],
   "source": [
    "original = {\"a\": 1, \"b\": 2, \"c\": 3}\n",
    "shallow_copy = original.copy()\n",
    "print(shallow_copy)\n",
    "\n",
    "shallow_copy['a'] = 10\n",
    "print(original['a'])\n",
    "print(shallow_copy['a'])"
   ]
  },
  {
   "cell_type": "markdown",
   "id": "d97443db-1f5f-4bd7-a4c8-41df2a565dc4",
   "metadata": {},
   "source": [
    "***"
   ]
  },
  {
   "cell_type": "markdown",
   "id": "f4be59e9-d809-4a5e-8977-5bc989f04d21",
   "metadata": {},
   "source": [
    "## 67-7. update( )\n",
    "It updates dictionary with key/value pairs."
   ]
  },
  {
   "cell_type": "code",
   "execution_count": 33,
   "id": "2aa1f0f9-2e57-4a65-9ba5-bd3d7ecf8206",
   "metadata": {},
   "outputs": [
    {
     "data": {
      "text/plain": [
       "{'a': 5, 'b': 2, 'c': 3, 'd': 4}"
      ]
     },
     "execution_count": 33,
     "metadata": {},
     "output_type": "execute_result"
    }
   ],
   "source": [
    "original = {\"a\": 1, \"b\": 2, \"c\": 3}\n",
    "original.update({\"a\": 5, \"d\": 4})\n",
    "original"
   ]
  },
  {
   "cell_type": "markdown",
   "id": "b1d94cc8-680b-4dcc-9993-0723746d3813",
   "metadata": {},
   "source": [
    "***"
   ]
  },
  {
   "cell_type": "markdown",
   "id": "2da8aecf-743b-4276-ba48-4d05c1f0eaae",
   "metadata": {},
   "source": [
    "## 67-8. pop( )\n",
    "It removes and returns value."
   ]
  },
  {
   "cell_type": "code",
   "execution_count": 35,
   "id": "939c0c50-bb7f-4214-a763-9e7bdb0af931",
   "metadata": {},
   "outputs": [
    {
     "data": {
      "text/plain": [
       "5"
      ]
     },
     "execution_count": 35,
     "metadata": {},
     "output_type": "execute_result"
    }
   ],
   "source": [
    "original.pop('a')"
   ]
  },
  {
   "cell_type": "code",
   "execution_count": 36,
   "id": "a8273c67-9e5b-44f7-a821-689660869d7f",
   "metadata": {},
   "outputs": [
    {
     "name": "stdout",
     "output_type": "stream",
     "text": [
      "{'b': 2, 'c': 3, 'd': 4}\n"
     ]
    }
   ],
   "source": [
    "print(original)"
   ]
  },
  {
   "cell_type": "markdown",
   "id": "e42812bb-7412-48ec-9b21-7995ad713531",
   "metadata": {},
   "source": [
    "***"
   ]
  },
  {
   "cell_type": "markdown",
   "id": "2bc13910-0888-40a7-837e-55c5d808e430",
   "metadata": {},
   "source": [
    "## 67-9. popitem( )\n",
    "It removes and returns last inserted item."
   ]
  },
  {
   "cell_type": "code",
   "execution_count": 37,
   "id": "e762f89c-8062-48bf-a742-67d2eae7b11e",
   "metadata": {},
   "outputs": [
    {
     "data": {
      "text/plain": [
       "('d', 4)"
      ]
     },
     "execution_count": 37,
     "metadata": {},
     "output_type": "execute_result"
    }
   ],
   "source": [
    "original.popitem()"
   ]
  },
  {
   "cell_type": "markdown",
   "id": "8a81f125-4f63-4b2b-be70-9921a3252f4f",
   "metadata": {},
   "source": [
    "Or"
   ]
  },
  {
   "cell_type": "code",
   "execution_count": 38,
   "id": "6ee321c1-8c34-4248-9e9d-7b13cd8486e5",
   "metadata": {},
   "outputs": [
    {
     "name": "stdout",
     "output_type": "stream",
     "text": [
      "c\n",
      "3\n"
     ]
    }
   ],
   "source": [
    "k, v = original.popitem()\n",
    "print(k)\n",
    "print(v)"
   ]
  },
  {
   "cell_type": "markdown",
   "id": "7faf5890-a18d-4038-81a5-d955e1c976f4",
   "metadata": {},
   "source": [
    "***"
   ]
  },
  {
   "cell_type": "markdown",
   "id": "4bbee395-fe24-4a53-84b1-0c0e82a63ebe",
   "metadata": {},
   "source": [
    "# 68. Membership (in & not in)"
   ]
  },
  {
   "cell_type": "code",
   "execution_count": 26,
   "id": "00a13c5c-15e9-498a-982c-7eee24fa95b5",
   "metadata": {},
   "outputs": [
    {
     "data": {
      "text/plain": [
       "True"
      ]
     },
     "execution_count": 26,
     "metadata": {},
     "output_type": "execute_result"
    }
   ],
   "source": [
    "original = {\"a\": 1, \"b\": 2, \"c\": 3}\n",
    "'a' in original"
   ]
  },
  {
   "cell_type": "code",
   "execution_count": 27,
   "id": "36efded4-1d71-4b8e-b290-6b87f5c3615f",
   "metadata": {},
   "outputs": [
    {
     "data": {
      "text/plain": [
       "False"
      ]
     },
     "execution_count": 27,
     "metadata": {},
     "output_type": "execute_result"
    }
   ],
   "source": [
    "'b' not in original"
   ]
  },
  {
   "cell_type": "markdown",
   "id": "449ffe1b-9448-4a0f-89d1-f216097d8507",
   "metadata": {},
   "source": [
    "***"
   ]
  },
  {
   "cell_type": "markdown",
   "id": "778dd47c-1173-4bdd-9c50-b261819042f4",
   "metadata": {},
   "source": [
    "# 69. Dictionary Functions\n",
    "The most commonly used functions and methods for working with dictionaries in Python:"
   ]
  },
  {
   "cell_type": "markdown",
   "id": "d1294725-78a6-46ee-912a-198b02ab2c6f",
   "metadata": {},
   "source": [
    "## 69-1. len( )\n",
    "It returns the number of key-value pairs."
   ]
  },
  {
   "cell_type": "code",
   "execution_count": 28,
   "id": "3c8a6c31-d1c0-4006-bf69-127d8557eebb",
   "metadata": {},
   "outputs": [
    {
     "name": "stdout",
     "output_type": "stream",
     "text": [
      "3\n"
     ]
    }
   ],
   "source": [
    "original = {\"a\": 1, \"b\": 2, \"c\": 3}\n",
    "print(len(original))  "
   ]
  },
  {
   "cell_type": "markdown",
   "id": "88d556e3-5780-46cb-95b9-7952cf023857",
   "metadata": {},
   "source": [
    "***"
   ]
  },
  {
   "cell_type": "markdown",
   "id": "291a5aad-7d95-4c3c-bce5-c73538e8efce",
   "metadata": {},
   "source": [
    "## 69-2. sorted( )\n",
    "It returns a sorted list of keys."
   ]
  },
  {
   "cell_type": "code",
   "execution_count": 29,
   "id": "f140379b-810f-47ec-86dd-00fabd15ffc1",
   "metadata": {},
   "outputs": [
    {
     "name": "stdout",
     "output_type": "stream",
     "text": [
      "['a', 'b', 'c', 'd']\n"
     ]
    }
   ],
   "source": [
    "dic = {'d':1, 'a':2, 'b':0, 'c':4}\n",
    "print(sorted(dic))"
   ]
  },
  {
   "cell_type": "markdown",
   "id": "8fa357e2-70b0-43cf-8c93-1cf3d75237ea",
   "metadata": {},
   "source": [
    "***"
   ]
  },
  {
   "cell_type": "markdown",
   "id": "85cc49cd-1be0-4453-8c9d-a7152e1f5d3a",
   "metadata": {},
   "source": [
    "## 69-3. zip function"
   ]
  },
  {
   "cell_type": "code",
   "execution_count": 42,
   "id": "51862919-80f2-4d2f-ae37-1ac5820866a1",
   "metadata": {},
   "outputs": [
    {
     "data": {
      "text/plain": [
       "{'a': 0, 'b': 1, 'c': 2, 'd': 3, 'e': 4, 'f': 5}"
      ]
     },
     "execution_count": 42,
     "metadata": {},
     "output_type": "execute_result"
    }
   ],
   "source": [
    "dic = dict(zip('abcdef', range(6)))\n",
    "dic"
   ]
  },
  {
   "cell_type": "markdown",
   "id": "29bfe113-cc1c-49b6-84dd-0bef2a454524",
   "metadata": {},
   "source": [
    "***"
   ]
  },
  {
   "cell_type": "markdown",
   "id": "e67a11e2-d118-4289-8a94-f452154a853f",
   "metadata": {},
   "source": [
    "# 70. Dictionary Comprehension"
   ]
  },
  {
   "cell_type": "code",
   "execution_count": 39,
   "id": "a240e67d-d51d-41c0-b4f4-8b0611c1c968",
   "metadata": {},
   "outputs": [
    {
     "data": {
      "text/plain": [
       "{0: 0, 1: 1, 2: 4, 3: 9, 4: 16}"
      ]
     },
     "execution_count": 39,
     "metadata": {},
     "output_type": "execute_result"
    }
   ],
   "source": [
    "squares = {x: x*x for x in range(5)}\n",
    "squares"
   ]
  },
  {
   "cell_type": "markdown",
   "id": "8e9d6f32-5766-4c4b-bb53-ea459804f0f6",
   "metadata": {},
   "source": [
    "***"
   ]
  },
  {
   "cell_type": "markdown",
   "id": "4b31e74b-a19c-4e54-96db-76da01ca1bed",
   "metadata": {},
   "source": [
    "# 71. Merging Dictionaries"
   ]
  },
  {
   "cell_type": "code",
   "execution_count": 40,
   "id": "7e8e0097-c0be-4bec-aff3-ed8cf4b773d5",
   "metadata": {},
   "outputs": [
    {
     "data": {
      "text/plain": [
       "{'a': 1, 'b': 2}"
      ]
     },
     "execution_count": 40,
     "metadata": {},
     "output_type": "execute_result"
    }
   ],
   "source": [
    "dict1 = {'a': 1}\n",
    "dict2 = {'b': 2}\n",
    "merged = dict1 | dict2\n",
    "merged"
   ]
  },
  {
   "cell_type": "markdown",
   "id": "69ba303a-ac1a-4e9b-b45d-f504080a4f2a",
   "metadata": {},
   "source": [
    "***"
   ]
  },
  {
   "cell_type": "markdown",
   "id": "8a7da084-d01b-452b-b9ea-b4696dcbcc1f",
   "metadata": {},
   "source": [
    "# 72. Dictionaries & Tuples\n",
    "If you have a list of tuples, you can create a dictionary."
   ]
  },
  {
   "cell_type": "code",
   "execution_count": 41,
   "id": "d98173e0-cd21-4466-9b09-e600afaef528",
   "metadata": {},
   "outputs": [
    {
     "data": {
      "text/plain": [
       "{'a': 1, 'b': 2, 'c': 3}"
      ]
     },
     "execution_count": 41,
     "metadata": {},
     "output_type": "execute_result"
    }
   ],
   "source": [
    "lst = [('a', 1), ('b', 2), ('c', 3)]\n",
    "dic = dict(lst)\n",
    "dic"
   ]
  },
  {
   "cell_type": "markdown",
   "id": "58499f2d-d9fb-4c83-a026-49e87c78ac2b",
   "metadata": {},
   "source": [
    "***"
   ]
  },
  {
   "cell_type": "markdown",
   "id": "75cc122c-ec0d-4394-84c8-323096cbe01f",
   "metadata": {},
   "source": [
    "# 73. Dictionary Use cases\n",
    "Dictionaries have so many use cases but one of the most important ones is **Frequency Counting**."
   ]
  },
  {
   "cell_type": "markdown",
   "id": "7e92ccf0-8e9c-4c71-a092-6f0d0365f26c",
   "metadata": {},
   "source": [
    "Suppose you are given a string and you want to count how many times each letter appears."
   ]
  },
  {
   "cell_type": "code",
   "execution_count": 43,
   "id": "604564ce-de1b-4e43-aeba-739dab6f7b72",
   "metadata": {},
   "outputs": [
    {
     "name": "stdout",
     "output_type": "stream",
     "text": [
      "{'A': 1, 'r': 1, 't': 2, 'i': 4, 'f': 1, 'c': 2, 'a': 1, 'l': 3, ' ': 1, 'I': 1, 'n': 2, 'e': 3, 'g': 1}\n"
     ]
    }
   ],
   "source": [
    "def histogram(word):\n",
    "    dic = dict()\n",
    "    for i in word:\n",
    "        if i not in dic:\n",
    "            dic[i] = 1\n",
    "        else:\n",
    "            dic[i] += 1\n",
    "    return dic\n",
    "\n",
    "print(histogram('Artificial Intelligence'))"
   ]
  },
  {
   "cell_type": "markdown",
   "id": "c15010a0-10fb-4cfc-8588-f1a8f5c75091",
   "metadata": {},
   "source": [
    "***"
   ]
  },
  {
   "cell_type": "markdown",
   "id": "10e6165d-7181-4f39-9703-37e3c8ccab3c",
   "metadata": {},
   "source": [
    "***"
   ]
  },
  {
   "cell_type": "markdown",
   "id": "b40206fb-6731-46dc-9302-0b9bc348b89b",
   "metadata": {},
   "source": [
    "# Some Excercises"
   ]
  },
  {
   "cell_type": "markdown",
   "id": "088d38a8-866c-48a9-a9b5-40df9d99ae4b",
   "metadata": {},
   "source": [
    "**1.** Create a dictionary called student with the following key-value pairs:\n",
    "- \"name\": \"Alice\"\n",
    "- \"age\": 20\n",
    "- \"courses\": [\"Math\", \"Physics\"]\n",
    "- \"grade\": \"A\"\n",
    "\n",
    "Print the dictionary."
   ]
  },
  {
   "cell_type": "markdown",
   "id": "b486b7b8-307c-4eb7-8c14-a1dd72eb2e46",
   "metadata": {},
   "source": [
    "___"
   ]
  },
  {
   "cell_type": "markdown",
   "id": "5c32b073-bab0-451e-8fd7-a294020f71c6",
   "metadata": {},
   "source": [
    "**2.** Given the dictionary:"
   ]
  },
  {
   "cell_type": "code",
   "execution_count": 45,
   "id": "f91a0c3e-042a-4d2c-a721-562f279a5352",
   "metadata": {},
   "outputs": [],
   "source": [
    "inventory = {\n",
    "    101: {\"name\": \"Keyboard\", \"price\": 29.99, \"stock\": 42},\n",
    "    102: {\"name\": \"Mouse\", \"price\": 19.99, \"stock\": 76}\n",
    "}"
   ]
  },
  {
   "cell_type": "markdown",
   "id": "4607233c-de0c-4826-9f72-df6bc45783d4",
   "metadata": {},
   "source": [
    "- Access and print the name of product with ID 102.\n",
    "- Safely check if product ID 103 exists (return \"Not Found\" if it doesn’t)."
   ]
  },
  {
   "cell_type": "markdown",
   "id": "489da9fe-be18-487a-bcc7-e5d6672698ba",
   "metadata": {},
   "source": [
    "---"
   ]
  },
  {
   "cell_type": "markdown",
   "id": "bf117f39-fa94-453e-bca9-2ccd7b507496",
   "metadata": {},
   "source": [
    "**3.** Add a new key \"email\" with value \"alice@example.com\" to the student dictionary.\n",
    "- Update \"age\" to 21.\n",
    "- Remove the \"grade\" key.\n",
    "\n",
    "Print the modified dictionary."
   ]
  },
  {
   "cell_type": "markdown",
   "id": "02e59887-780b-4321-9382-ef4c85ec9684",
   "metadata": {},
   "source": [
    "---"
   ]
  },
  {
   "cell_type": "markdown",
   "id": "1b32e2d5-3ed7-4865-b63e-21c5cc156f67",
   "metadata": {},
   "source": [
    "**4.** Given:"
   ]
  },
  {
   "cell_type": "code",
   "execution_count": 46,
   "id": "c74e92ed-a9da-470a-967f-3addaa1e64f9",
   "metadata": {},
   "outputs": [],
   "source": [
    "data = {\"a\": 1, \"b\": 2, \"c\": 3}"
   ]
  },
  {
   "cell_type": "markdown",
   "id": "31a3e283-4dbf-4ff5-ae66-9b72181b7b41",
   "metadata": {},
   "source": [
    "- Get all keys as a list.\n",
    "- Get all values as a list.\n",
    "- Use .popitem() to remove the last inserted item and print it."
   ]
  },
  {
   "cell_type": "markdown",
   "id": "8dcb22a4-aff7-4377-b09a-a39fa4a3b2a7",
   "metadata": {},
   "source": [
    "***"
   ]
  },
  {
   "cell_type": "markdown",
   "id": "17511368-bcb2-4413-87ab-450ca9a64ff2",
   "metadata": {},
   "source": [
    "**5.** Check if \"Physics\" is in the student[\"courses\"] list.\n",
    "- Create a dictionary of squares for numbers 1 to 5 using comprehension:\n",
    "- Keys: numbers\n",
    "- Values: their squares"
   ]
  },
  {
   "cell_type": "markdown",
   "id": "af3414ed-8ba7-485b-954f-69bb05f37262",
   "metadata": {},
   "source": [
    "***"
   ]
  },
  {
   "cell_type": "markdown",
   "id": "8f5ff722-c584-476e-82c7-c99d48dcae2a",
   "metadata": {},
   "source": [
    "**6.** Merge these two dictionaries into one:\n",
    "- dict1 = {\"a\": 1, \"b\": 2}\n",
    "- dict2 = {\"c\": 3, \"b\": 20}  # Note the duplicate key \"b\"\n",
    "- Keep the value from dict2 for duplicate keys."
   ]
  },
  {
   "cell_type": "markdown",
   "id": "2257cad9-b203-4fcf-bd40-26e519626647",
   "metadata": {},
   "source": [
    "***"
   ]
  },
  {
   "cell_type": "markdown",
   "id": "18a3029c-0bac-4193-a5c0-cff1c5cc1cfa",
   "metadata": {},
   "source": [
    "**7.** Convert this list of tuples into a dictionary:\n",
    "\n",
    "pairs = [(\"name\", \"Bob\"), (\"age\", 25), (\"job\", \"Developer\")]"
   ]
  },
  {
   "cell_type": "markdown",
   "id": "4b9cae2d-e35a-49a6-8e8b-cf96f638ddd0",
   "metadata": {},
   "source": [
    "***"
   ]
  },
  {
   "cell_type": "markdown",
   "id": "1eb0bcb5-401a-4e8f-9c0c-937e8d7d75ab",
   "metadata": {},
   "source": [
    "**8.** Write a function **count_chars(text)** that returns a dictionary where:\n",
    "- Keys: Characters in text\n",
    "- Values: Their frequency"
   ]
  },
  {
   "cell_type": "markdown",
   "id": "09694541-5094-4f4d-a46f-452c54744a6f",
   "metadata": {},
   "source": [
    "***"
   ]
  },
  {
   "cell_type": "markdown",
   "id": "d3e39b34-4a16-4a91-86b8-3475540d04ea",
   "metadata": {},
   "source": [
    "**9.** Given a list of dictionaries:"
   ]
  },
  {
   "cell_type": "code",
   "execution_count": 47,
   "id": "62951b36-120b-486f-8036-2864f249f418",
   "metadata": {},
   "outputs": [],
   "source": [
    "students = [\n",
    "    {\"name\": \"Alice\", \"grade\": 85},\n",
    "    {\"name\": \"Bob\", \"grade\": 72},\n",
    "    {\"name\": \"Charlie\", \"grade\": 90}\n",
    "]"
   ]
  },
  {
   "cell_type": "markdown",
   "id": "209e5d9b-0aa2-4d30-a8f7-f9d5d56e317d",
   "metadata": {},
   "source": [
    "Create a new dictionary where:\n",
    "- Keys: Student names\n",
    "- Values: \"Pass\" if grade ≥ 75, else \"Fail\""
   ]
  },
  {
   "cell_type": "markdown",
   "id": "0fad2a07-f947-48b4-9cac-2bfdeba81665",
   "metadata": {},
   "source": [
    "***"
   ]
  },
  {
   "cell_type": "markdown",
   "id": "7cc97f26-cf68-4d50-82a1-ae7dcdfa95ac",
   "metadata": {},
   "source": [
    "#                                                        🌞 https://github.com/AI-Planet 🌞"
   ]
  }
 ],
 "metadata": {
  "kernelspec": {
   "display_name": "Python 3 (ipykernel)",
   "language": "python",
   "name": "python3"
  },
  "language_info": {
   "codemirror_mode": {
    "name": "ipython",
    "version": 3
   },
   "file_extension": ".py",
   "mimetype": "text/x-python",
   "name": "python",
   "nbconvert_exporter": "python",
   "pygments_lexer": "ipython3",
   "version": "3.9.12"
  }
 },
 "nbformat": 4,
 "nbformat_minor": 5
}
