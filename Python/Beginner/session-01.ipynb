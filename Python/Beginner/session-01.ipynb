{
 "cells": [
  {
   "cell_type": "markdown",
   "id": "355b5f03-d2a5-4aa3-a77c-776ccfcb35d5",
   "metadata": {},
   "source": [
    "# Session 1 🐍"
   ]
  },
  {
   "cell_type": "markdown",
   "id": "45efc9ec-fb9c-458c-b1de-d961145e8449",
   "metadata": {},
   "source": [
    "☀️☀️☀️☀️☀️☀️☀️☀️☀️☀️☀️☀️☀️☀️☀️☀️☀️☀️☀️☀️☀️☀️☀️☀️☀️☀️☀️☀️☀️☀️☀️☀️☀️☀️☀️☀️☀️☀️☀️☀️☀️☀️☀️☀️☀️"
   ]
  },
  {
   "cell_type": "markdown",
   "id": "2c7a6ce5-4cd2-45cd-a3b8-9ac277170654",
   "metadata": {},
   "source": [
    "***"
   ]
  },
  {
   "cell_type": "markdown",
   "id": "f93da5b9-7e3e-4e34-9af4-a61141548671",
   "metadata": {},
   "source": [
    "# 1. Value"
   ]
  },
  {
   "cell_type": "markdown",
   "id": "3ae7d18e-77e5-486c-9cf8-340755614c9d",
   "metadata": {},
   "source": [
    "In Python, everything is an object, and every object has a value and a type. Values can be categorized based on their mutability (whether they can be changed) and their data type."
   ]
  },
  {
   "cell_type": "markdown",
   "id": "8d257824-68f7-49f8-accf-1217f59bd678",
   "metadata": {},
   "source": [
    "***"
   ]
  },
  {
   "cell_type": "markdown",
   "id": "6004f9cd-c84a-4e54-84ea-bc02572e59b7",
   "metadata": {},
   "source": [
    "## 1-1. Basic Kinds of Values in Python\n",
    "Python values can be grouped into 4 main categories:"
   ]
  },
  {
   "cell_type": "markdown",
   "id": "ace1596d-23fb-4505-8bc9-d9be0c790f64",
   "metadata": {},
   "source": [
    "***"
   ]
  },
  {
   "cell_type": "markdown",
   "id": "3d6f7d9e-f4b7-46cd-afb6-f823e126cccc",
   "metadata": {},
   "source": [
    "### 1-1-1. Numbers (Numeric Types)\n",
    "Used for calculations.\n",
    "\n",
    "- **int (Integer)** → Whole numbers (5, -3, 1000)\n",
    "\n",
    "- **float (Floating-point)** → Decimals (3.14, -0.001)\n",
    "\n",
    "- **complex** → Complex numbers (3 + 4j)"
   ]
  },
  {
   "cell_type": "markdown",
   "id": "3b902d97-3935-4f22-ad2f-fbbf616645c2",
   "metadata": {},
   "source": [
    "***"
   ]
  },
  {
   "cell_type": "markdown",
   "id": "1b5ff85c-2adc-4628-b88a-d8a21b7b6c5b",
   "metadata": {},
   "source": [
    "### 1-1-2. Strings\n",
    "Used for storing text.\n",
    "\n",
    "strings are enclosed in double quotation marks or single quotation marks without any difference.\n",
    "- **\" \"** → \"Hello\" \n",
    "- **' '** → 'Hi there!'\n",
    "\n",
    "If you put a number inside a quotation marks, the type of that number will be changed. It will be a string not a number → \"2\" is different than 2."
   ]
  },
  {
   "cell_type": "markdown",
   "id": "bd233204-cc9b-4a59-84bc-6fa1eeade336",
   "metadata": {},
   "source": [
    "***"
   ]
  },
  {
   "cell_type": "markdown",
   "id": "6b517750-2399-431f-9831-98f9eed608a2",
   "metadata": {},
   "source": [
    "### 1-1-3. Collections (Group of Values)\n",
    "Used to store multiple values:\n",
    "- **Lists:** [1, 2, 3]\n",
    "- **Tuples:** (1, 2, 3)\n",
    "- **Sets:** {1, 2, 3}\n",
    "- **Dictionaries:** {name: \"Ali\", age: 25}\n",
    "\n",
    "Just **Tuples** are immutable, the others are mutable."
   ]
  },
  {
   "cell_type": "markdown",
   "id": "1a3318d6-1b83-4646-b067-d2d881dcc912",
   "metadata": {},
   "source": [
    "***"
   ]
  },
  {
   "cell_type": "markdown",
   "id": "795b183e-c63b-4689-8476-aecb5d1dc29d",
   "metadata": {},
   "source": [
    "### 1-1-4. Boolean (bool)\n",
    "Used for logical operations (True or False)."
   ]
  },
  {
   "cell_type": "markdown",
   "id": "3563e391-8570-4033-b931-07eac330f19a",
   "metadata": {},
   "source": [
    "***"
   ]
  },
  {
   "cell_type": "markdown",
   "id": "05bc6dc9-3997-425d-9aa5-abde99acfc55",
   "metadata": {},
   "source": [
    "## 1-2. Mutable vs Immutable Values\n",
    "- **Mutable** → Can be changed after creation (e.g., list, dict, set).\n",
    "\n",
    "- **Immutable** → Cannot be changed after creation (e.g., int, str, tuple)."
   ]
  },
  {
   "cell_type": "markdown",
   "id": "7c878622-279f-4349-a3b8-b4144c16db07",
   "metadata": {},
   "source": [
    "***"
   ]
  },
  {
   "cell_type": "markdown",
   "id": "05d7be05-7d96-482c-bc08-bebc456eb3d1",
   "metadata": {},
   "source": [
    "## 1-3. Special Values\n",
    "- **None** → Represents \"no value\" (like null in other languages).\n",
    "  \n",
    "- **Ellipsis** (...) → Used in slicing (rare)."
   ]
  },
  {
   "cell_type": "markdown",
   "id": "714e88c6-e87a-4f86-a4b0-56dfcc964788",
   "metadata": {},
   "source": [
    "***"
   ]
  },
  {
   "cell_type": "markdown",
   "id": "e9316da3-0f30-4809-ad2d-859245400419",
   "metadata": {},
   "source": [
    "## 1-4. Checking a Value’s Type\n",
    "Use **type( )** to find out what kind of value something is:"
   ]
  },
  {
   "cell_type": "raw",
   "id": "24670dc5-9281-4f59-ad3c-8c9d533bead6",
   "metadata": {},
   "source": [
    "type(12) → <class 'int'>\n",
    "type(4.4) → <class 'float'>\n",
    "type(2+3j) → <class 'complex'>\n",
    "type('Mehdi') → <class 'str'>\n",
    "type([1, 2, 3]) → <class 'list'>\n",
    "type((1,2,3)) → <class 'tuple'>\n",
    "type(s={'a', 'e', 'i', 'o', 'u'}) → <class 'set'>\n",
    "type({'id':'123', 'name':'Mehdi'}) → <class 'dict'>\n",
    "type(2>3) → <class 'bool'>"
   ]
  },
  {
   "cell_type": "markdown",
   "id": "94317996-6791-48b3-b630-c57223a205ec",
   "metadata": {},
   "source": [
    "***"
   ]
  },
  {
   "cell_type": "markdown",
   "id": "e46eb702-aa41-4ca6-be83-93efb67b3238",
   "metadata": {},
   "source": [
    "# 2. Variable\n",
    "In Python, a variable is like a named container that stores a value (like numbers, text, lists, etc.)."
   ]
  },
  {
   "cell_type": "markdown",
   "id": "ee67bad1-d127-4221-91fe-d61bc55bae0c",
   "metadata": {},
   "source": [
    "***"
   ]
  },
  {
   "cell_type": "markdown",
   "id": "254eb62d-238e-403e-8ca8-a1fe0476f6d2",
   "metadata": {},
   "source": [
    "### 2-1. How Variables Work\n",
    "- Variables hold values (e.g., x = 5 means x stores the value 5).\n",
    "- They can change (unless they’re constants, which we write in UPPER_CASE by convention)."
   ]
  },
  {
   "cell_type": "raw",
   "id": "7ae88386-0f9f-41ae-a055-2d2fafa27fce",
   "metadata": {},
   "source": [
    "age = 25            → Variable 'age' stores the integer 25  \n",
    "name = \"Alice\"      → Variable 'name' stores the string \"Alice\"  \n",
    "is_student = True   → Variable 'is_student' stores the boolean True  "
   ]
  },
  {
   "cell_type": "markdown",
   "id": "dd032489-93fd-4ea1-b86a-77deeaa6c025",
   "metadata": {},
   "source": [
    "***"
   ]
  },
  {
   "cell_type": "markdown",
   "id": "903d5ced-84ef-4cd7-a9a3-bd1e4161400b",
   "metadata": {},
   "source": [
    "### 2-2. Rules for Naming Variables\n",
    "- You are allowed to use **Letters (a-z, A-Z)**.\n",
    "- You are allowed to use **Digits (0-9, but not at the start)**.\n",
    "- You are allowed to use**Underscore (_)**.\n",
    "- You are **not** allowed to use **Spaces (my var)**.\n",
    "- You are **not** allowed to use **Special chars (@, #, $)**.\n",
    "- You are **not** allowed to use **Python keywords (if, for, while, etc)**."
   ]
  },
  {
   "cell_type": "raw",
   "id": "2ffdc498-955f-40ee-a07d-5d18627ce51d",
   "metadata": {},
   "source": [
    "Good examples:\n",
    "\n",
    "user_name = \"John\"  \n",
    "total_number = 100  \n",
    "_is_valid = True \n",
    "\n",
    "Bad examples:\n",
    "\n",
    "1st_place = \"Me\"     ❌ Starts with a digit  \n",
    "first name = \"Ali\"   ❌ Contains space  \n",
    "if = 5               ❌ Uses keyword 'if'  "
   ]
  },
  {
   "cell_type": "markdown",
   "id": "08e64143-62d6-4246-8fd0-bbca6b3701ee",
   "metadata": {},
   "source": [
    "A compelete list of **Keywords**:\n",
    "\n",
    "    return\tnot\tif\texec\tdef\tand\n",
    "    try\tor\timport\tfinally\tdel\tassert\n",
    "    while\tpass\tin\tfor\telif\tbreak\n",
    "\tprint\tis\tfrom\telse\tclass\n",
    "\traise\tlambda\tglobal\texcept\tcontinue\n",
    "\n",
    "\ttype\topen\tInt\tFloat\tarray\n",
    "\twrite\tOxphys\tint\tfloat\tclose\n",
    "\tzeros\trange\tNumeric\tinput\tData\n",
    "\n",
    "\tsqrt\tlog10\tfabs\tcos\tacos\n",
    "\ttan\tpi\tfloor\te\tasin\n",
    "\t\tsin\tlog\texp\tatan\n"
   ]
  },
  {
   "cell_type": "markdown",
   "id": "46d9499c-96e5-4320-b118-280fdba30af7",
   "metadata": {},
   "source": [
    "***"
   ]
  },
  {
   "cell_type": "markdown",
   "id": "27284fef-08f9-4c12-a542-735f7468445b",
   "metadata": {},
   "source": [
    "### 2-3. Assigning & Reassigning Variables\n",
    "Assign: Give a variable a value (x = 10).\n",
    "\n",
    "Reassign: Change its value later (x = 20)."
   ]
  },
  {
   "cell_type": "raw",
   "id": "68ac8465-d004-49a1-a589-6b2b72af586b",
   "metadata": {},
   "source": [
    "score = 80       # Assign  \n",
    "score            → Output: 80  \n",
    "\n",
    "score = 95       # Reassign  \n",
    "score            → Output: 95  "
   ]
  },
  {
   "cell_type": "markdown",
   "id": "cc8d0b19-7052-4ef4-b66a-624a624e2c6d",
   "metadata": {},
   "source": [
    "***"
   ]
  },
  {
   "cell_type": "markdown",
   "id": "46d493ee-d0ff-4ee8-af9f-7d7bdc042891",
   "metadata": {},
   "source": [
    "### 2-4. Multiple Assignments\n",
    "You can assign multiple variables at once:\n",
    "\n",
    "**Method 1:** Same Value"
   ]
  },
  {
   "cell_type": "code",
   "execution_count": 4,
   "id": "190a349d-b66c-4e31-9777-65e20fe8c096",
   "metadata": {},
   "outputs": [],
   "source": [
    "x = y = z = 10   # All get the value 10  "
   ]
  },
  {
   "cell_type": "markdown",
   "id": "42be7e5d-5f94-4172-adb0-9b37d1d7477e",
   "metadata": {},
   "source": [
    "**Method 2:** Different Values"
   ]
  },
  {
   "cell_type": "code",
   "execution_count": 5,
   "id": "7386adc0-4369-4e16-8aff-decc102c424c",
   "metadata": {},
   "outputs": [],
   "source": [
    "a, b, c = 1, 2, 3   # a=1, b=2, c=3  "
   ]
  },
  {
   "cell_type": "markdown",
   "id": "6049a45f-ff3f-4e5b-9330-e25be465db89",
   "metadata": {},
   "source": [
    "***"
   ]
  },
  {
   "cell_type": "markdown",
   "id": "00c03bcd-dfab-4e99-89f8-a82007f02292",
   "metadata": {},
   "source": [
    "### 2-5. Variable Types are Dynamic\n",
    "Python automatically detects the type of a variable."
   ]
  },
  {
   "cell_type": "code",
   "execution_count": 6,
   "id": "59b1d36a-054c-46eb-a6c2-b3f0bdcd3732",
   "metadata": {},
   "outputs": [],
   "source": [
    "x = 5      # x is an integer  \n",
    "x = \"Hi\"   # Now x is a string (no error!)  "
   ]
  },
  {
   "cell_type": "markdown",
   "id": "4edef2f3-0d5e-40ae-8e6d-8a38cf315ff1",
   "metadata": {},
   "source": [
    "***"
   ]
  },
  {
   "cell_type": "markdown",
   "id": "9998aa14-d922-45b6-990b-75bb8f85ae2c",
   "metadata": {},
   "source": [
    "### 2-6. Constants (By Convention)\n",
    "Python doesn’t have real constants, but we use UPPER_CASE to indicate \"don’t change this.\""
   ]
  },
  {
   "cell_type": "code",
   "execution_count": 7,
   "id": "12d0b692-5e8f-4761-a75b-d7303d8849b2",
   "metadata": {},
   "outputs": [],
   "source": [
    "PI = 3.14159  \n",
    "MAX_USERS = 100  "
   ]
  },
  {
   "cell_type": "markdown",
   "id": "b0cc432a-ff52-48d2-9aab-71a618e10bef",
   "metadata": {},
   "source": [
    "***"
   ]
  },
  {
   "cell_type": "markdown",
   "id": "59e787b6-68c9-4f0e-9eb8-b04d724c9035",
   "metadata": {},
   "source": [
    "### 2-7. Deleting Variables\n",
    "Use **del** to remove a variable:"
   ]
  },
  {
   "cell_type": "code",
   "execution_count": 8,
   "id": "58df549b-4430-4100-911a-ff75d382b64f",
   "metadata": {},
   "outputs": [],
   "source": [
    "x = 10  \n",
    "del x      # Deletes x (using it now gives an error)  "
   ]
  },
  {
   "cell_type": "code",
   "execution_count": 9,
   "id": "a696f154-2ee5-4172-a79b-88c47211b6e1",
   "metadata": {},
   "outputs": [
    {
     "ename": "NameError",
     "evalue": "name 'x' is not defined",
     "output_type": "error",
     "traceback": [
      "\u001b[1;31m---------------------------------------------------------------------------\u001b[0m",
      "\u001b[1;31mNameError\u001b[0m                                 Traceback (most recent call last)",
      "Cell \u001b[1;32mIn [9], line 1\u001b[0m\n\u001b[1;32m----> 1\u001b[0m \u001b[43mx\u001b[49m\n",
      "\u001b[1;31mNameError\u001b[0m: name 'x' is not defined"
     ]
    }
   ],
   "source": [
    "x"
   ]
  },
  {
   "cell_type": "markdown",
   "id": "c88b7f6e-b5f4-4bff-b1e9-6ba0ee8af122",
   "metadata": {},
   "source": [
    "***"
   ]
  },
  {
   "cell_type": "markdown",
   "id": "8f95b4aa-ebf7-4a61-bc07-5db69b5eaae7",
   "metadata": {},
   "source": [
    "### 2-8. Variable Scope (Global vs Local)\n",
    "- Global: Defined outside functions (accessible everywhere).\n",
    "\n",
    "- Local: Defined inside functions (accessible only inside).\n",
    "\n",
    "Functions will be explained later."
   ]
  },
  {
   "cell_type": "code",
   "execution_count": 10,
   "id": "1a1dfe36-f9b9-4499-8362-f2e91a11ab16",
   "metadata": {},
   "outputs": [
    {
     "name": "stdout",
     "output_type": "stream",
     "text": [
      "I'm global\n",
      "I'm local\n"
     ]
    },
    {
     "ename": "NameError",
     "evalue": "name 'local_var' is not defined",
     "output_type": "error",
     "traceback": [
      "\u001b[1;31m---------------------------------------------------------------------------\u001b[0m",
      "\u001b[1;31mNameError\u001b[0m                                 Traceback (most recent call last)",
      "Cell \u001b[1;32mIn [10], line 9\u001b[0m\n\u001b[0;32m      6\u001b[0m     \u001b[38;5;28mprint\u001b[39m(local_var)   \u001b[38;5;66;03m# ✅ Works  \u001b[39;00m\n\u001b[0;32m      8\u001b[0m my_func()  \n\u001b[1;32m----> 9\u001b[0m \u001b[38;5;28mprint\u001b[39m(\u001b[43mlocal_var\u001b[49m)\n",
      "\u001b[1;31mNameError\u001b[0m: name 'local_var' is not defined"
     ]
    }
   ],
   "source": [
    "global_var = \"I'm global\"  \n",
    "\n",
    "def my_func():  \n",
    "    local_var = \"I'm local\"  \n",
    "    print(global_var)  # ✅ Works  \n",
    "    print(local_var)   # ✅ Works  \n",
    "\n",
    "my_func()  \n",
    "print(local_var)       # ❌ Error (not defined outside)  "
   ]
  },
  {
   "cell_type": "markdown",
   "id": "e5707d0b-e547-453e-8953-2a5a8e96f4bb",
   "metadata": {},
   "source": [
    "***"
   ]
  },
  {
   "cell_type": "markdown",
   "id": "baa6a871-f34b-4c3e-97df-94dfade3ae6b",
   "metadata": {},
   "source": [
    "### 2-9. isidentifier method\n",
    "To check if a variable name is valid, we can use this method as follows:"
   ]
  },
  {
   "cell_type": "code",
   "execution_count": 28,
   "id": "ffb3b43b-f89c-4cc5-bb68-90a9560f5e09",
   "metadata": {},
   "outputs": [
    {
     "data": {
      "text/plain": [
       "True"
      ]
     },
     "execution_count": 28,
     "metadata": {},
     "output_type": "execute_result"
    }
   ],
   "source": [
    "'a2' . isidentifier()"
   ]
  },
  {
   "cell_type": "code",
   "execution_count": 29,
   "id": "b327b06f-501e-40b4-a92d-e14117983965",
   "metadata": {},
   "outputs": [
    {
     "data": {
      "text/plain": [
       "False"
      ]
     },
     "execution_count": 29,
     "metadata": {},
     "output_type": "execute_result"
    }
   ],
   "source": [
    "'2a' . isidentifier()"
   ]
  },
  {
   "cell_type": "markdown",
   "id": "0f839feb-677c-4128-bb9f-177793a36358",
   "metadata": {},
   "source": [
    "***"
   ]
  },
  {
   "cell_type": "markdown",
   "id": "7f58e7a1-c9a8-4c20-94cd-44b72d1b2469",
   "metadata": {},
   "source": [
    "# 3. print( ) Function\n",
    "The **print( )** function displays output in Python. It’s one of the most basic and useful tools for debugging and showing results."
   ]
  },
  {
   "cell_type": "markdown",
   "id": "9589f3b8-c6ab-44a2-9608-55701aa33da3",
   "metadata": {},
   "source": [
    "***"
   ]
  },
  {
   "cell_type": "markdown",
   "id": "81f6dc4a-5a32-44e5-a7d0-565253b19e93",
   "metadata": {},
   "source": [
    "### 3-1. Basic Usage"
   ]
  },
  {
   "cell_type": "code",
   "execution_count": 15,
   "id": "6b0a7aa2-3e7c-4f56-a75f-0a0f44f623f8",
   "metadata": {},
   "outputs": [
    {
     "name": "stdout",
     "output_type": "stream",
     "text": [
      "3.14\n"
     ]
    }
   ],
   "source": [
    "print(3.14)"
   ]
  },
  {
   "cell_type": "code",
   "execution_count": 16,
   "id": "0aeba3d0-14db-4276-8c1e-d7156bb4a49a",
   "metadata": {},
   "outputs": [
    {
     "name": "stdout",
     "output_type": "stream",
     "text": [
      "Hello, World!\n"
     ]
    }
   ],
   "source": [
    "print(\"Hello, World!\")  "
   ]
  },
  {
   "cell_type": "code",
   "execution_count": 17,
   "id": "cde0c12f-9531-4bad-bf8e-e572c335645e",
   "metadata": {},
   "outputs": [
    {
     "name": "stdout",
     "output_type": "stream",
     "text": [
      "Ali\n"
     ]
    }
   ],
   "source": [
    "name = \"Ali\"  \n",
    "print(name)"
   ]
  },
  {
   "cell_type": "code",
   "execution_count": 18,
   "id": "1a2b2ef7-0f3f-49c9-991d-3d4402cc3e93",
   "metadata": {},
   "outputs": [
    {
     "name": "stdout",
     "output_type": "stream",
     "text": [
      "False\n"
     ]
    }
   ],
   "source": [
    "print(2>3)"
   ]
  },
  {
   "cell_type": "markdown",
   "id": "9b88ef84-9ead-41e9-a8f6-e4b9ef5ae4a5",
   "metadata": {},
   "source": [
    "***"
   ]
  },
  {
   "cell_type": "markdown",
   "id": "c4e40fb7-1c43-4871-904f-e6a017e14172",
   "metadata": {},
   "source": [
    "### 3-2. Printing Multiple Values\n",
    "Separate values with commas ( **,** ), and **print( )** adds a **space** by default."
   ]
  },
  {
   "cell_type": "code",
   "execution_count": 19,
   "id": "6b59cbf1-b8b2-4373-88aa-b37f614393f6",
   "metadata": {},
   "outputs": [
    {
     "name": "stdout",
     "output_type": "stream",
     "text": [
      "Name: Ali Age: 28\n"
     ]
    }
   ],
   "source": [
    "name = \"Ali\"  \n",
    "age = 28  \n",
    "print(\"Name:\", name, \"Age:\", age)  "
   ]
  },
  {
   "cell_type": "markdown",
   "id": "aae15c3e-4790-476d-8c3a-2aa67f1dd063",
   "metadata": {},
   "source": [
    "***"
   ]
  },
  {
   "cell_type": "markdown",
   "id": "5f847024-e6e5-4d63-b402-eff3061e41c0",
   "metadata": {},
   "source": [
    "### 3-3. Custom Separator (sep)\n",
    "Change the separator between values (default is space \" \")."
   ]
  },
  {
   "cell_type": "code",
   "execution_count": 20,
   "id": "1c1191cf-179e-4bb2-a01e-08cac1a3fcdb",
   "metadata": {},
   "outputs": [
    {
     "name": "stdout",
     "output_type": "stream",
     "text": [
      "Python-is-awesome\n"
     ]
    }
   ],
   "source": [
    "print(\"Python\", \"is\", \"awesome\", sep=\"-\")  "
   ]
  },
  {
   "cell_type": "code",
   "execution_count": 21,
   "id": "07b55f3f-8afa-4951-b19a-fccb50526f1c",
   "metadata": {},
   "outputs": [
    {
     "name": "stdout",
     "output_type": "stream",
     "text": [
      "Python is awesome\n"
     ]
    }
   ],
   "source": [
    "print(\"Python\", \"is\", \"awesome\")  "
   ]
  },
  {
   "cell_type": "markdown",
   "id": "3a8da091-3796-4c06-8dcd-e280f47aba42",
   "metadata": {},
   "source": [
    "***"
   ]
  },
  {
   "cell_type": "markdown",
   "id": "9ed41757-8bad-4552-85a0-1d9307569c3b",
   "metadata": {},
   "source": [
    "### 3-4. Preventing Newline (end)\n",
    "By default, print() ends with **\\n** (newline). Change it with **end**."
   ]
  },
  {
   "cell_type": "code",
   "execution_count": 22,
   "id": "4366c48d-f28d-4970-a606-ba43c80af42d",
   "metadata": {},
   "outputs": [
    {
     "name": "stdout",
     "output_type": "stream",
     "text": [
      "Hello World!\n"
     ]
    }
   ],
   "source": [
    "print(\"Hello\", end=\" \")  \n",
    "print(\"World!\")  "
   ]
  },
  {
   "cell_type": "code",
   "execution_count": 23,
   "id": "5e35c987-0258-4472-8bf3-4715aa5dbc56",
   "metadata": {},
   "outputs": [
    {
     "name": "stdout",
     "output_type": "stream",
     "text": [
      "Hello\n",
      "World!\n"
     ]
    }
   ],
   "source": [
    "print(\"Hello\")  \n",
    "print(\"World!\")  "
   ]
  },
  {
   "cell_type": "markdown",
   "id": "966ec6cc-8cec-476d-ab7c-2317f9d446d3",
   "metadata": {},
   "source": [
    "***"
   ]
  },
  {
   "cell_type": "markdown",
   "id": "2b87a452-2e75-47d5-b8b8-6102302e9c9a",
   "metadata": {},
   "source": [
    "### 3-5. Printing Special Characters\n",
    "Use escape sequences like **\\n** (newline) and **\\t** (tab)."
   ]
  },
  {
   "cell_type": "code",
   "execution_count": 27,
   "id": "e87303ba-7e87-4666-810b-9184c0231c09",
   "metadata": {},
   "outputs": [
    {
     "name": "stdout",
     "output_type": "stream",
     "text": [
      "First line\n",
      "Second line\tIndented\n"
     ]
    }
   ],
   "source": [
    "print(\"First line\\nSecond line\\tIndented\")  "
   ]
  },
  {
   "cell_type": "markdown",
   "id": "9b41089b-b9eb-4809-92c3-af76c0d92865",
   "metadata": {},
   "source": [
    "***"
   ]
  },
  {
   "cell_type": "markdown",
   "id": "7cc97f26-cf68-4d50-82a1-ae7dcdfa95ac",
   "metadata": {},
   "source": [
    "#                                                        🌞 https://github.com/AI-Planet 🌞"
   ]
  }
 ],
 "metadata": {
  "kernelspec": {
   "display_name": "Python 3 (ipykernel)",
   "language": "python",
   "name": "python3"
  },
  "language_info": {
   "codemirror_mode": {
    "name": "ipython",
    "version": 3
   },
   "file_extension": ".py",
   "mimetype": "text/x-python",
   "name": "python",
   "nbconvert_exporter": "python",
   "pygments_lexer": "ipython3",
   "version": "3.9.12"
  }
 },
 "nbformat": 4,
 "nbformat_minor": 5
}
