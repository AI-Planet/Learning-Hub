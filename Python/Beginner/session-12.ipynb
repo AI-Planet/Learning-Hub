{
 "cells": [
  {
   "cell_type": "markdown",
   "id": "355b5f03-d2a5-4aa3-a77c-776ccfcb35d5",
   "metadata": {},
   "source": [
    "# Session 12 🐍"
   ]
  },
  {
   "cell_type": "markdown",
   "id": "45efc9ec-fb9c-458c-b1de-d961145e8449",
   "metadata": {},
   "source": [
    "☀️☀️☀️☀️☀️☀️☀️☀️☀️☀️☀️☀️☀️☀️☀️☀️☀️☀️☀️☀️☀️☀️☀️☀️☀️☀️☀️☀️☀️☀️☀️☀️☀️☀️☀️☀️☀️☀️☀️☀️☀️☀️☀️☀️☀️"
   ]
  },
  {
   "cell_type": "markdown",
   "id": "2c7a6ce5-4cd2-45cd-a3b8-9ac277170654",
   "metadata": {},
   "source": [
    "***"
   ]
  },
  {
   "cell_type": "markdown",
   "id": "f47542a8-416d-4a3f-8c9d-99781dc53bd8",
   "metadata": {},
   "source": [
    "# 74. Sets\n",
    "Sets in Python are unordered collections of unique elements that are mutable (changeable) and optimized for fast membership testing."
   ]
  },
  {
   "cell_type": "markdown",
   "id": "d516f58d-fe78-4946-82e9-99e5102f64c8",
   "metadata": {},
   "source": [
    "Basic characterestics:\n",
    "- **Unordered** – No indexing (cannot access elements by position).\n",
    "- **Mutable** – Can add/remove elements.\n",
    "- **Unique Elements** – Duplicates are ignored.\n",
    "- **Fast Lookups** – Optimized for in checks (O(1) time complexity)."
   ]
  },
  {
   "cell_type": "markdown",
   "id": "a35384c2-ea49-4613-b074-ef3b571f756e",
   "metadata": {},
   "source": [
    "***"
   ]
  },
  {
   "cell_type": "markdown",
   "id": "91b2d653-7b83-4f11-87c7-394277442253",
   "metadata": {},
   "source": [
    "# 75. Creating a Set\n",
    "- Defined with curly braces {} or the set() constructor.\n",
    "- Duplicates are automatically removed."
   ]
  },
  {
   "cell_type": "code",
   "execution_count": 2,
   "id": "31e5e69c-e962-4aa5-a8a3-3b4f6cf60c13",
   "metadata": {},
   "outputs": [
    {
     "name": "stdout",
     "output_type": "stream",
     "text": [
      "{'apple', 'banana', 'cherry'}\n",
      "{1, 2, 3}\n",
      "set()\n"
     ]
    }
   ],
   "source": [
    "# Using curly braces\n",
    "fruits = {\"apple\", \"banana\", \"cherry\"}\n",
    "print(fruits)  \n",
    "\n",
    "# Using set() constructor\n",
    "numbers = set([1, 2, 3, 2, 1])  \n",
    "print(numbers)  \n",
    "\n",
    "empty_set = set()\n",
    "print(empty_set)"
   ]
  },
  {
   "cell_type": "markdown",
   "id": "49506faf-a675-4abc-86f1-fc97475c888c",
   "metadata": {},
   "source": [
    "**Note:** Empty set cannot use be created by **{ }**, as it creates a dictionary."
   ]
  },
  {
   "cell_type": "markdown",
   "id": "c5df47f0-ba73-46ca-ba95-a941fadc74c3",
   "metadata": {},
   "source": [
    "***"
   ]
  },
  {
   "cell_type": "markdown",
   "id": "7271a30e-0d82-493a-b86f-488308299f1e",
   "metadata": {},
   "source": [
    "# 76. Accessing Elements\n",
    "Since sets are unordered collections, you cannot access elements by index (like lists or tuples). However, you can still interact with their elements in these ways:"
   ]
  },
  {
   "cell_type": "markdown",
   "id": "4e693b12-4787-458d-828b-cef8edbfe9e4",
   "metadata": {},
   "source": [
    "## 76-1. Check if an Element Exists (in Operator)\n",
    "The fastest way to verify membership."
   ]
  },
  {
   "cell_type": "code",
   "execution_count": 12,
   "id": "e4d6d284-35e8-4add-9194-52f86b89714e",
   "metadata": {},
   "outputs": [
    {
     "name": "stdout",
     "output_type": "stream",
     "text": [
      "True\n",
      "False\n"
     ]
    }
   ],
   "source": [
    "fruits = {\"apple\", \"banana\", \"cherry\"}\n",
    "print(\"banana\" in fruits) \n",
    "print(\"mango\" in fruits)   "
   ]
  },
  {
   "cell_type": "markdown",
   "id": "9a8fb70e-b17f-444e-86b5-dbf081e59200",
   "metadata": {},
   "source": [
    "***"
   ]
  },
  {
   "cell_type": "markdown",
   "id": "4a660e2a-2d02-405a-83d2-b1146fc19682",
   "metadata": {},
   "source": [
    "## 76-2. Loop Through All Elements\n",
    "Use a for loop to iterate over items (order not guaranteed)."
   ]
  },
  {
   "cell_type": "code",
   "execution_count": 4,
   "id": "1f3bf271-31c7-4866-9213-77e3dd557ab3",
   "metadata": {},
   "outputs": [
    {
     "name": "stdout",
     "output_type": "stream",
     "text": [
      "apple\n",
      "banana\n",
      "cherry\n"
     ]
    }
   ],
   "source": [
    "for fruit in fruits:\n",
    "    print(fruit)"
   ]
  },
  {
   "cell_type": "markdown",
   "id": "e0492755-963c-4b7a-ac4e-2f1f915fc6c4",
   "metadata": {},
   "source": [
    "***"
   ]
  },
  {
   "cell_type": "markdown",
   "id": "5d05f93a-0099-42e7-8a65-0a29448662f4",
   "metadata": {},
   "source": [
    "## 76-3. Convert to a List/Tuple for Indexing\n",
    "If you must access elements by position, convert the set to a list (but order is still arbitrary)."
   ]
  },
  {
   "cell_type": "code",
   "execution_count": 8,
   "id": "355aeb5d-ddcf-4f3d-bc83-4b94ee344057",
   "metadata": {},
   "outputs": [
    {
     "name": "stdout",
     "output_type": "stream",
     "text": [
      "apple\n"
     ]
    }
   ],
   "source": [
    "fruit_list = list(fruits)\n",
    "print(fruit_list[0])  "
   ]
  },
  {
   "cell_type": "markdown",
   "id": "9a56cdc7-b10f-4390-8a00-3e1b42c1f02c",
   "metadata": {},
   "source": [
    "***"
   ]
  },
  {
   "cell_type": "markdown",
   "id": "77a0237e-f5c8-41fc-a779-793447375c45",
   "metadata": {},
   "source": [
    "## 76-4. Access with Unpacking \n",
    "Assign set elements to variables (if size is known)."
   ]
  },
  {
   "cell_type": "code",
   "execution_count": 9,
   "id": "df5e5807-d42c-4835-82b3-d8c513c51948",
   "metadata": {},
   "outputs": [
    {
     "name": "stdout",
     "output_type": "stream",
     "text": [
      "apple banana cherry\n"
     ]
    }
   ],
   "source": [
    "a, b, c = fruits\n",
    "print(a, b, c)"
   ]
  },
  {
   "cell_type": "markdown",
   "id": "3abb83cb-d7cc-472d-9671-dff15b3f69fc",
   "metadata": {},
   "source": [
    "***"
   ]
  },
  {
   "cell_type": "markdown",
   "id": "deb4adee-46f6-458c-97eb-982b4eddce2b",
   "metadata": {},
   "source": [
    "# 77. Set Methods"
   ]
  },
  {
   "cell_type": "markdown",
   "id": "203a3ece-9691-4547-b809-3d38af02c7a0",
   "metadata": {},
   "source": [
    "## 77-1. add( )\n",
    "It is used to add  a single element."
   ]
  },
  {
   "cell_type": "code",
   "execution_count": 13,
   "id": "bf26d9db-d423-4a3e-b472-db08dc4e7799",
   "metadata": {},
   "outputs": [
    {
     "name": "stdout",
     "output_type": "stream",
     "text": [
      "{'apple', 'orange', 'banana', 'cherry'}\n"
     ]
    }
   ],
   "source": [
    "fruits.add(\"orange\") \n",
    "print(fruits)"
   ]
  },
  {
   "cell_type": "markdown",
   "id": "1c748210-8e30-490a-8db7-b53a30225066",
   "metadata": {},
   "source": [
    "***"
   ]
  },
  {
   "cell_type": "markdown",
   "id": "631be588-15e1-46ac-b8ef-0b31dba44adb",
   "metadata": {},
   "source": [
    "## 77-2. update( )\n",
    "It is used to add multiple elements."
   ]
  },
  {
   "cell_type": "code",
   "execution_count": 14,
   "id": "5251ae42-0543-4a36-ba9e-a5da227015b2",
   "metadata": {},
   "outputs": [
    {
     "name": "stdout",
     "output_type": "stream",
     "text": [
      "{'orange', 'cherry', 'apple', 'kiwi', 'banana', 'mango'}\n"
     ]
    }
   ],
   "source": [
    "fruits.update([\"mango\", \"kiwi\"])  \n",
    "print(fruits)"
   ]
  },
  {
   "cell_type": "markdown",
   "id": "54e1f46d-775a-4284-9810-5cf47a047ea1",
   "metadata": {},
   "source": [
    "***"
   ]
  },
  {
   "cell_type": "markdown",
   "id": "2a488797-37ea-4942-a101-5ac937f91b17",
   "metadata": {},
   "source": [
    "## 77-3. remove( )\n",
    "It is used to remove an element. Raises KeyError if the element not found."
   ]
  },
  {
   "cell_type": "code",
   "execution_count": 15,
   "id": "4f740a57-944f-4402-be1b-092527c2d77e",
   "metadata": {},
   "outputs": [
    {
     "name": "stdout",
     "output_type": "stream",
     "text": [
      "{'orange', 'cherry', 'apple', 'kiwi', 'mango'}\n"
     ]
    }
   ],
   "source": [
    "fruits.remove(\"banana\")\n",
    "print(fruits)"
   ]
  },
  {
   "cell_type": "markdown",
   "id": "211a6667-f7b5-4186-b146-cda8260bb394",
   "metadata": {},
   "source": [
    "***"
   ]
  },
  {
   "cell_type": "markdown",
   "id": "d68cee98-e48b-4129-8bc8-a5328a4951af",
   "metadata": {},
   "source": [
    "## 77-4. discard( )\n",
    "It is used to remove an element. No error if missing."
   ]
  },
  {
   "cell_type": "code",
   "execution_count": 16,
   "id": "a0a75b49-b39f-4acd-a681-5b8d0a0e47a3",
   "metadata": {},
   "outputs": [
    {
     "name": "stdout",
     "output_type": "stream",
     "text": [
      "{'orange', 'apple', 'kiwi', 'mango'}\n"
     ]
    }
   ],
   "source": [
    "fruits.discard(\"cherry\")\n",
    "print(fruits)"
   ]
  },
  {
   "cell_type": "markdown",
   "id": "1e5bdc38-bd2d-423a-99b2-8441f517a61d",
   "metadata": {},
   "source": [
    "***"
   ]
  },
  {
   "cell_type": "markdown",
   "id": "570f11c4-d6ef-45a3-b435-4f901f712032",
   "metadata": {},
   "source": [
    "## 77-5. pop( )\n",
    "It removes and returns a random item."
   ]
  },
  {
   "cell_type": "code",
   "execution_count": 19,
   "id": "a43dc5ad-67b3-4403-95af-c3c1fa1b5a4d",
   "metadata": {},
   "outputs": [
    {
     "data": {
      "text/plain": [
       "'kiwi'"
      ]
     },
     "execution_count": 19,
     "metadata": {},
     "output_type": "execute_result"
    }
   ],
   "source": [
    "popped_item = fruits.pop()\n",
    "popped_item "
   ]
  },
  {
   "cell_type": "markdown",
   "id": "ae3dec4c-5e60-488c-8133-c047e7e6934e",
   "metadata": {},
   "source": [
    "***"
   ]
  },
  {
   "cell_type": "markdown",
   "id": "878d62da-f7c1-4faf-a77a-b971f01fa9cc",
   "metadata": {},
   "source": [
    "## 77-6. clear( )\n",
    "It removes all elements."
   ]
  },
  {
   "cell_type": "code",
   "execution_count": 20,
   "id": "804b78f0-853e-494c-bec7-51edc6a6c330",
   "metadata": {},
   "outputs": [
    {
     "name": "stdout",
     "output_type": "stream",
     "text": [
      "set()\n"
     ]
    }
   ],
   "source": [
    "fruits.clear()\n",
    "print(fruits)"
   ]
  },
  {
   "cell_type": "markdown",
   "id": "0382a403-d2c7-4fcf-813d-8ddfb2aa99a6",
   "metadata": {},
   "source": [
    "***"
   ]
  },
  {
   "cell_type": "markdown",
   "id": "4bbee395-fe24-4a53-84b1-0c0e82a63ebe",
   "metadata": {},
   "source": [
    "# 78. Membership (in & not in)"
   ]
  },
  {
   "cell_type": "code",
   "execution_count": 21,
   "id": "00a13c5c-15e9-498a-982c-7eee24fa95b5",
   "metadata": {},
   "outputs": [
    {
     "data": {
      "text/plain": [
       "True"
      ]
     },
     "execution_count": 21,
     "metadata": {},
     "output_type": "execute_result"
    }
   ],
   "source": [
    "fruits = {\"apple\", \"banana\", \"cherry\"}\n",
    "'apple' in fruits"
   ]
  },
  {
   "cell_type": "code",
   "execution_count": 23,
   "id": "36efded4-1d71-4b8e-b290-6b87f5c3615f",
   "metadata": {},
   "outputs": [
    {
     "data": {
      "text/plain": [
       "False"
      ]
     },
     "execution_count": 23,
     "metadata": {},
     "output_type": "execute_result"
    }
   ],
   "source": [
    "'banana' not in fruits"
   ]
  },
  {
   "cell_type": "markdown",
   "id": "449ffe1b-9448-4a0f-89d1-f216097d8507",
   "metadata": {},
   "source": [
    "***"
   ]
  },
  {
   "cell_type": "markdown",
   "id": "778dd47c-1173-4bdd-9c50-b261819042f4",
   "metadata": {},
   "source": [
    "# 79. Set Functions\n",
    "The most commonly used functions for working with sets in Python:"
   ]
  },
  {
   "cell_type": "markdown",
   "id": "d1294725-78a6-46ee-912a-198b02ab2c6f",
   "metadata": {},
   "source": [
    "## 79-1. len( )\n",
    "It returns the number of elements."
   ]
  },
  {
   "cell_type": "code",
   "execution_count": 24,
   "id": "3c8a6c31-d1c0-4006-bf69-127d8557eebb",
   "metadata": {},
   "outputs": [
    {
     "name": "stdout",
     "output_type": "stream",
     "text": [
      "3\n"
     ]
    }
   ],
   "source": [
    "fruits = {\"apple\", \"banana\", \"cherry\"}\n",
    "print(len(fruits))  "
   ]
  },
  {
   "cell_type": "markdown",
   "id": "88d556e3-5780-46cb-95b9-7952cf023857",
   "metadata": {},
   "source": [
    "***"
   ]
  },
  {
   "cell_type": "markdown",
   "id": "291a5aad-7d95-4c3c-bce5-c73538e8efce",
   "metadata": {},
   "source": [
    "## 79-2. sorted( )\n",
    "It returns a sorted list (but original set remains unordered)."
   ]
  },
  {
   "cell_type": "code",
   "execution_count": 25,
   "id": "f140379b-810f-47ec-86dd-00fabd15ffc1",
   "metadata": {},
   "outputs": [
    {
     "data": {
      "text/plain": [
       "[1, 2, 3]"
      ]
     },
     "execution_count": 25,
     "metadata": {},
     "output_type": "execute_result"
    }
   ],
   "source": [
    "sorted({3, 1, 2})"
   ]
  },
  {
   "cell_type": "markdown",
   "id": "8fa357e2-70b0-43cf-8c93-1cf3d75237ea",
   "metadata": {},
   "source": [
    "***"
   ]
  },
  {
   "cell_type": "markdown",
   "id": "85cc49cd-1be0-4453-8c9d-a7152e1f5d3a",
   "metadata": {},
   "source": [
    "## 79-3. max( )\n",
    "It returns largest element of a set."
   ]
  },
  {
   "cell_type": "code",
   "execution_count": 26,
   "id": "51862919-80f2-4d2f-ae37-1ac5820866a1",
   "metadata": {},
   "outputs": [
    {
     "data": {
      "text/plain": [
       "3"
      ]
     },
     "execution_count": 26,
     "metadata": {},
     "output_type": "execute_result"
    }
   ],
   "source": [
    "max({1, 2, 3})"
   ]
  },
  {
   "cell_type": "markdown",
   "id": "29bfe113-cc1c-49b6-84dd-0bef2a454524",
   "metadata": {},
   "source": [
    "***"
   ]
  },
  {
   "cell_type": "markdown",
   "id": "e67a11e2-d118-4289-8a94-f452154a853f",
   "metadata": {},
   "source": [
    "## 79-4. min( )\n",
    "It returns smallest element of a set."
   ]
  },
  {
   "cell_type": "code",
   "execution_count": 27,
   "id": "a240e67d-d51d-41c0-b4f4-8b0611c1c968",
   "metadata": {},
   "outputs": [
    {
     "data": {
      "text/plain": [
       "1"
      ]
     },
     "execution_count": 27,
     "metadata": {},
     "output_type": "execute_result"
    }
   ],
   "source": [
    "min({1, 2, 3})"
   ]
  },
  {
   "cell_type": "markdown",
   "id": "8e9d6f32-5766-4c4b-bb53-ea459804f0f6",
   "metadata": {},
   "source": [
    "***"
   ]
  },
  {
   "cell_type": "markdown",
   "id": "4b31e74b-a19c-4e54-96db-76da01ca1bed",
   "metadata": {},
   "source": [
    "## 79-5. sum( )\n",
    "It sums all elements (numeric sets)."
   ]
  },
  {
   "cell_type": "code",
   "execution_count": 28,
   "id": "7e8e0097-c0be-4bec-aff3-ed8cf4b773d5",
   "metadata": {},
   "outputs": [
    {
     "data": {
      "text/plain": [
       "6"
      ]
     },
     "execution_count": 28,
     "metadata": {},
     "output_type": "execute_result"
    }
   ],
   "source": [
    "sum({1, 2, 3})"
   ]
  },
  {
   "cell_type": "markdown",
   "id": "69ba303a-ac1a-4e9b-b45d-f504080a4f2a",
   "metadata": {},
   "source": [
    "***"
   ]
  },
  {
   "cell_type": "markdown",
   "id": "8a7da084-d01b-452b-b9ea-b4696dcbcc1f",
   "metadata": {},
   "source": [
    "# 80. Set Operations (Mathematical Functions)"
   ]
  },
  {
   "cell_type": "markdown",
   "id": "d4fce69b-54e5-4199-b470-8be179930b11",
   "metadata": {},
   "source": [
    "## 80-1. union( ) or S1 | S2\n",
    "It returns a new set with all elements from all sets"
   ]
  },
  {
   "cell_type": "code",
   "execution_count": 29,
   "id": "d98173e0-cd21-4466-9b09-e600afaef528",
   "metadata": {},
   "outputs": [
    {
     "data": {
      "text/plain": [
       "{1, 2, 3, 4, 5}"
      ]
     },
     "execution_count": 29,
     "metadata": {},
     "output_type": "execute_result"
    }
   ],
   "source": [
    "S1 = {1, 2, 3}\n",
    "S2 = {3, 4, 5}\n",
    "S1.union(S2)"
   ]
  },
  {
   "cell_type": "code",
   "execution_count": 30,
   "id": "12f3d287-ec1a-4ed0-a0ac-c05993045f11",
   "metadata": {},
   "outputs": [
    {
     "data": {
      "text/plain": [
       "{1, 2, 3, 4, 5}"
      ]
     },
     "execution_count": 30,
     "metadata": {},
     "output_type": "execute_result"
    }
   ],
   "source": [
    "S1 | S2"
   ]
  },
  {
   "cell_type": "markdown",
   "id": "58499f2d-d9fb-4c83-a026-49e87c78ac2b",
   "metadata": {},
   "source": [
    "***"
   ]
  },
  {
   "cell_type": "markdown",
   "id": "75cc122c-ec0d-4394-84c8-323096cbe01f",
   "metadata": {},
   "source": [
    "# 80-2. intersection( ) or S1 & S2\n",
    "It returns common elements."
   ]
  },
  {
   "cell_type": "code",
   "execution_count": 31,
   "id": "604564ce-de1b-4e43-aeba-739dab6f7b72",
   "metadata": {},
   "outputs": [
    {
     "data": {
      "text/plain": [
       "{3}"
      ]
     },
     "execution_count": 31,
     "metadata": {},
     "output_type": "execute_result"
    }
   ],
   "source": [
    "S1.intersection(S2)"
   ]
  },
  {
   "cell_type": "code",
   "execution_count": 32,
   "id": "baaa9b58-27d2-48f0-8826-506d596abb1a",
   "metadata": {},
   "outputs": [
    {
     "data": {
      "text/plain": [
       "{3}"
      ]
     },
     "execution_count": 32,
     "metadata": {},
     "output_type": "execute_result"
    }
   ],
   "source": [
    "S1 & S2"
   ]
  },
  {
   "cell_type": "markdown",
   "id": "c15010a0-10fb-4cfc-8588-f1a8f5c75091",
   "metadata": {},
   "source": [
    "***"
   ]
  },
  {
   "cell_type": "markdown",
   "id": "99e0ca16-e13c-486a-9ef1-4d051656e655",
   "metadata": {},
   "source": [
    "## 80-3. difference( ) or S1 - S2\n",
    "Returns elements in s1 but not in s2."
   ]
  },
  {
   "cell_type": "code",
   "execution_count": 33,
   "id": "9488a369-0e43-443c-869c-f78af0f878fd",
   "metadata": {},
   "outputs": [
    {
     "data": {
      "text/plain": [
       "{1, 2}"
      ]
     },
     "execution_count": 33,
     "metadata": {},
     "output_type": "execute_result"
    }
   ],
   "source": [
    "S1.difference(S2)"
   ]
  },
  {
   "cell_type": "code",
   "execution_count": 34,
   "id": "81b21858-07e2-4ad7-b487-33358604b6e7",
   "metadata": {},
   "outputs": [
    {
     "data": {
      "text/plain": [
       "{1, 2}"
      ]
     },
     "execution_count": 34,
     "metadata": {},
     "output_type": "execute_result"
    }
   ],
   "source": [
    "S1 - S2"
   ]
  },
  {
   "cell_type": "markdown",
   "id": "1f4a21e5-0ed3-4e20-95b9-3763b33488ff",
   "metadata": {},
   "source": [
    "***"
   ]
  },
  {
   "cell_type": "markdown",
   "id": "0aafabb0-1849-4e2f-aa06-81e5476234b1",
   "metadata": {},
   "source": [
    "## 80-4. symmetric_difference( ) or S1 ^ S2\n",
    "It returns elements in either set, but not both."
   ]
  },
  {
   "cell_type": "code",
   "execution_count": 35,
   "id": "467421a9-376a-4ce5-8560-0e36d263a164",
   "metadata": {},
   "outputs": [
    {
     "data": {
      "text/plain": [
       "{1, 2, 4, 5}"
      ]
     },
     "execution_count": 35,
     "metadata": {},
     "output_type": "execute_result"
    }
   ],
   "source": [
    "S1.symmetric_difference(S2)"
   ]
  },
  {
   "cell_type": "code",
   "execution_count": 36,
   "id": "9736d1ce-8a5b-468b-8b88-05dfb5b0167a",
   "metadata": {},
   "outputs": [
    {
     "data": {
      "text/plain": [
       "{1, 2, 4, 5}"
      ]
     },
     "execution_count": 36,
     "metadata": {},
     "output_type": "execute_result"
    }
   ],
   "source": [
    "S1 ^ S2"
   ]
  },
  {
   "cell_type": "markdown",
   "id": "62f2a3c9-a8fe-4b65-b02f-7ee3e6491115",
   "metadata": {},
   "source": [
    "***"
   ]
  },
  {
   "cell_type": "markdown",
   "id": "c796c8da-d09b-4cb9-9614-079cf4264a46",
   "metadata": {},
   "source": [
    "## 80-5. issubset( ) or <=\t\n",
    "It checks if all elements of s1 are in s2."
   ]
  },
  {
   "cell_type": "code",
   "execution_count": 39,
   "id": "935e56ae-68cd-4560-a5ad-54ab76ab663c",
   "metadata": {},
   "outputs": [],
   "source": [
    "S1 = {1, 2, 3, 4}\n",
    "S2 = {3, 4}"
   ]
  },
  {
   "cell_type": "code",
   "execution_count": 40,
   "id": "1a1849a9-6ab7-4504-b47d-9a17079b5368",
   "metadata": {},
   "outputs": [
    {
     "data": {
      "text/plain": [
       "False"
      ]
     },
     "execution_count": 40,
     "metadata": {},
     "output_type": "execute_result"
    }
   ],
   "source": [
    "S1.issubset(S2)"
   ]
  },
  {
   "cell_type": "code",
   "execution_count": 41,
   "id": "0c17938c-a630-46bb-8e4c-87e70574394c",
   "metadata": {},
   "outputs": [
    {
     "data": {
      "text/plain": [
       "True"
      ]
     },
     "execution_count": 41,
     "metadata": {},
     "output_type": "execute_result"
    }
   ],
   "source": [
    "S2.issubset(S1)"
   ]
  },
  {
   "cell_type": "code",
   "execution_count": 45,
   "id": "0af4110c-94e9-491a-9cde-8da5645c074b",
   "metadata": {},
   "outputs": [
    {
     "data": {
      "text/plain": [
       "True"
      ]
     },
     "execution_count": 45,
     "metadata": {},
     "output_type": "execute_result"
    }
   ],
   "source": [
    "S2 <= S1"
   ]
  },
  {
   "cell_type": "markdown",
   "id": "fe1e6944-1ed0-4390-ac82-31a4d1dea654",
   "metadata": {},
   "source": [
    "***"
   ]
  },
  {
   "cell_type": "markdown",
   "id": "4f2dd2be-e96f-4dab-8377-2936155abc5f",
   "metadata": {},
   "source": [
    "## 80-6. issuperset( ) or >=\t\n",
    "It checks if s1 contains all elements of s2."
   ]
  },
  {
   "cell_type": "code",
   "execution_count": 43,
   "id": "531e872c-2e96-4481-87df-dd747fbed32c",
   "metadata": {},
   "outputs": [
    {
     "data": {
      "text/plain": [
       "True"
      ]
     },
     "execution_count": 43,
     "metadata": {},
     "output_type": "execute_result"
    }
   ],
   "source": [
    "S1.issuperset(S2)"
   ]
  },
  {
   "cell_type": "code",
   "execution_count": 44,
   "id": "39c21cad-3ff7-4ef3-aa7a-cefd49988783",
   "metadata": {},
   "outputs": [
    {
     "data": {
      "text/plain": [
       "False"
      ]
     },
     "execution_count": 44,
     "metadata": {},
     "output_type": "execute_result"
    }
   ],
   "source": [
    "S2.issuperset(S1)"
   ]
  },
  {
   "cell_type": "code",
   "execution_count": 46,
   "id": "d4389474-61d9-4f41-b3ce-46acb69ee4af",
   "metadata": {},
   "outputs": [
    {
     "data": {
      "text/plain": [
       "False"
      ]
     },
     "execution_count": 46,
     "metadata": {},
     "output_type": "execute_result"
    }
   ],
   "source": [
    "S2 >= S1"
   ]
  },
  {
   "cell_type": "markdown",
   "id": "ca0bf360-1a17-425c-b0f4-7e4eff1f1197",
   "metadata": {},
   "source": [
    "***"
   ]
  },
  {
   "cell_type": "markdown",
   "id": "8aedbd85-2177-4e31-99a6-51e2b3d8b72e",
   "metadata": {},
   "source": [
    "## 80-7. isdisjoint( )\t\n",
    "It returns True if sets have no common elements."
   ]
  },
  {
   "cell_type": "code",
   "execution_count": 47,
   "id": "058dc95e-a003-48c1-a99c-16812ddd8832",
   "metadata": {},
   "outputs": [
    {
     "data": {
      "text/plain": [
       "False"
      ]
     },
     "execution_count": 47,
     "metadata": {},
     "output_type": "execute_result"
    }
   ],
   "source": [
    "S1 = {1, 2, 3, 4}\n",
    "S2 = {3, 4}\n",
    "S1.isdisjoint(S2)"
   ]
  },
  {
   "cell_type": "code",
   "execution_count": 48,
   "id": "38fc59f9-645b-4f99-8364-0d4185ab84bf",
   "metadata": {},
   "outputs": [
    {
     "data": {
      "text/plain": [
       "True"
      ]
     },
     "execution_count": 48,
     "metadata": {},
     "output_type": "execute_result"
    }
   ],
   "source": [
    "S3 = {1, 2, 3}\n",
    "S4 = {4, 5, 6}\n",
    "S3.isdisjoint(S4)"
   ]
  },
  {
   "cell_type": "markdown",
   "id": "c82b7927-1d38-4173-b7fb-68b49cabb0f1",
   "metadata": {},
   "source": [
    "# 81. Set Use cases"
   ]
  },
  {
   "cell_type": "markdown",
   "id": "f18a8058-8e31-46c4-9736-96b9059fa13c",
   "metadata": {},
   "source": [
    "One of the most important use cases is removing Duplicates from a List."
   ]
  },
  {
   "cell_type": "code",
   "execution_count": 51,
   "id": "0a6f96b3-f514-40c6-9169-a52a36861f9e",
   "metadata": {},
   "outputs": [
    {
     "data": {
      "text/plain": [
       "['Bob', 'Charlie', 'Alice']"
      ]
     },
     "execution_count": 51,
     "metadata": {},
     "output_type": "execute_result"
    }
   ],
   "source": [
    "names = [\"Alice\", \"Bob\", \"Alice\", \"Charlie\"]\n",
    "unique_names = set(names) \n",
    "list(unique_names)"
   ]
  },
  {
   "cell_type": "markdown",
   "id": "bb3250bb-9b6e-4435-bf5d-d23a35c282d0",
   "metadata": {},
   "source": [
    "***"
   ]
  },
  {
   "cell_type": "markdown",
   "id": "3ef8bc02-8b65-4723-be7e-60dc53243913",
   "metadata": {},
   "source": [
    "# 82. Frozen Sets (Immutable Sets)\n",
    "Immutable version of sets (cannot modify after creation).\n",
    "\n",
    "Created with frozenset()."
   ]
  },
  {
   "cell_type": "code",
   "execution_count": 52,
   "id": "0e41362b-d7f5-459e-940e-c202bec89402",
   "metadata": {},
   "outputs": [
    {
     "name": "stdout",
     "output_type": "stream",
     "text": [
      "frozenset({1, 2, 3})\n"
     ]
    },
    {
     "ename": "AttributeError",
     "evalue": "'frozenset' object has no attribute 'add'",
     "output_type": "error",
     "traceback": [
      "\u001b[1;31m---------------------------------------------------------------------------\u001b[0m",
      "\u001b[1;31mAttributeError\u001b[0m                            Traceback (most recent call last)",
      "Cell \u001b[1;32mIn [52], line 3\u001b[0m\n\u001b[0;32m      1\u001b[0m immutable_set \u001b[38;5;241m=\u001b[39m \u001b[38;5;28mfrozenset\u001b[39m([\u001b[38;5;241m1\u001b[39m, \u001b[38;5;241m2\u001b[39m, \u001b[38;5;241m3\u001b[39m])\n\u001b[0;32m      2\u001b[0m \u001b[38;5;28mprint\u001b[39m(immutable_set)\n\u001b[1;32m----> 3\u001b[0m \u001b[43mimmutable_set\u001b[49m\u001b[38;5;241;43m.\u001b[39;49m\u001b[43madd\u001b[49m(\u001b[38;5;241m4\u001b[39m)\n",
      "\u001b[1;31mAttributeError\u001b[0m: 'frozenset' object has no attribute 'add'"
     ]
    }
   ],
   "source": [
    "immutable_set = frozenset([1, 2, 3])\n",
    "print(immutable_set)\n",
    "immutable_set.add(4) "
   ]
  },
  {
   "cell_type": "markdown",
   "id": "441799a8-c761-44d5-acf8-00c21887f337",
   "metadata": {},
   "source": [
    "***"
   ]
  },
  {
   "cell_type": "markdown",
   "id": "10e6165d-7181-4f39-9703-37e3c8ccab3c",
   "metadata": {},
   "source": [
    "***"
   ]
  },
  {
   "cell_type": "markdown",
   "id": "b40206fb-6731-46dc-9302-0b9bc348b89b",
   "metadata": {},
   "source": [
    "# Some Excercises"
   ]
  },
  {
   "cell_type": "markdown",
   "id": "088d38a8-866c-48a9-a9b5-40df9d99ae4b",
   "metadata": {},
   "source": [
    "**1.** Create three different sets containing:\n",
    "- Mixed data types (integers, strings)\n",
    "- From a list with duplicates [1, 2, 2, 3, 4, 4, 4]\n",
    "- Using set() constructor with a string \"hello\"\n",
    "\n",
    "Print all sets and observe how duplicates are handled"
   ]
  },
  {
   "cell_type": "markdown",
   "id": "b486b7b8-307c-4eb7-8c14-a1dd72eb2e46",
   "metadata": {},
   "source": [
    "___"
   ]
  },
  {
   "cell_type": "markdown",
   "id": "5c32b073-bab0-451e-8fd7-a294020f71c6",
   "metadata": {},
   "source": [
    "**2.** colors = {'red', 'green', 'blue'}\n",
    "- Check if 'yellow' exists in the set using 'in' operator\n",
    "- Write a function that takes a set and value, returns \"Found\" or \"Not Found\"\n",
    "- Convert the set to a list and print the first element"
   ]
  },
  {
   "cell_type": "markdown",
   "id": "489da9fe-be18-487a-bcc7-e5d6672698ba",
   "metadata": {},
   "source": [
    "---"
   ]
  },
  {
   "cell_type": "markdown",
   "id": "bf117f39-fa94-453e-bca9-2ccd7b507496",
   "metadata": {},
   "source": [
    "**3.** nums = {1, 2, 3}\n",
    "- Add numbers 4 and 5 (use both add() and update())\n",
    "- Remove number 3 (use both remove() and discard())\n",
    "- Clear all elements, then verify the set is empty"
   ]
  },
  {
   "cell_type": "markdown",
   "id": "02e59887-780b-4321-9382-ef4c85ec9684",
   "metadata": {},
   "source": [
    "---"
   ]
  },
  {
   "cell_type": "markdown",
   "id": "1b32e2d5-3ed7-4865-b63e-21c5cc156f67",
   "metadata": {},
   "source": [
    "**4.**  A = {1, 2, 3, 4} , B = {3, 4, 5, 6}\n",
    "- Find union using | operator and union() method\n",
    "- Find intersection using & operator\n",
    "- Find difference (A-B) and symmetric difference (A^B)"
   ]
  },
  {
   "cell_type": "markdown",
   "id": "8dcb22a4-aff7-4377-b09a-a39fa4a3b2a7",
   "metadata": {},
   "source": [
    "***"
   ]
  },
  {
   "cell_type": "markdown",
   "id": "17511368-bcb2-4413-87ab-450ca9a64ff2",
   "metadata": {},
   "source": [
    "**5.** grades = {85, 92, 78, 90}\n",
    "- Find highest/lowest grade using max()/min()\n",
    "- Calculate average grade using sum() and len()\n",
    "- Create a sorted list of grades without changing the original set"
   ]
  },
  {
   "cell_type": "markdown",
   "id": "af3414ed-8ba7-485b-954f-69bb05f37262",
   "metadata": {},
   "source": [
    "***"
   ]
  },
  {
   "cell_type": "markdown",
   "id": "8f5ff722-c584-476e-82c7-c99d48dcae2a",
   "metadata": {},
   "source": [
    "**6.** Write a program that:\n",
    "- Takes user input of 5 favorite fruits (store in set)\n",
    "- Asks user to guess a fruit\n",
    "- Uses membership operators to check if guessed fruit exists\n",
    "- Prints appropriate message (use short-circuit evaluation)"
   ]
  },
  {
   "cell_type": "markdown",
   "id": "2257cad9-b203-4fcf-bd40-26e519626647",
   "metadata": {},
   "source": [
    "***"
   ]
  },
  {
   "cell_type": "markdown",
   "id": "18a3029c-0bac-4193-a5c0-cff1c5cc1cfa",
   "metadata": {},
   "source": [
    "**7.** Remove duplicates from list [1, 2, 2, 3, 3, 3]\n",
    "- Find common friends between two sets:\n",
    "- my_friends = {'Alice', 'Bob', 'Charlie'}\n",
    "- their_friends = {'Bob', 'David', 'Alice'}\n",
    "- Check if all required courses {'Math', 'Physics'} are in taken_courses = {'Math', 'Physics', 'Chemistry'}"
   ]
  },
  {
   "cell_type": "markdown",
   "id": "4b9cae2d-e35a-49a6-8e8b-cf96f638ddd0",
   "metadata": {},
   "source": [
    "***"
   ]
  },
  {
   "cell_type": "markdown",
   "id": "1eb0bcb5-401a-4e8f-9c0c-937e8d7d75ab",
   "metadata": {},
   "source": [
    "**8.** Create a frozenset from tuple (1, 2, 3, 3, 2)\n",
    "- Try to add/remove elements (observe error)\n",
    "- Perform union with regular set {3, 4, 5}\n",
    "- Verify frozenset can be used as dictionary key (unlike regular set)"
   ]
  },
  {
   "cell_type": "markdown",
   "id": "09694541-5094-4f4d-a46f-452c54744a6f",
   "metadata": {},
   "source": [
    "***"
   ]
  },
  {
   "cell_type": "markdown",
   "id": "7cc97f26-cf68-4d50-82a1-ae7dcdfa95ac",
   "metadata": {},
   "source": [
    "#                                                        🌞 https://github.com/AI-Planet 🌞"
   ]
  }
 ],
 "metadata": {
  "kernelspec": {
   "display_name": "Python 3 (ipykernel)",
   "language": "python",
   "name": "python3"
  },
  "language_info": {
   "codemirror_mode": {
    "name": "ipython",
    "version": 3
   },
   "file_extension": ".py",
   "mimetype": "text/x-python",
   "name": "python",
   "nbconvert_exporter": "python",
   "pygments_lexer": "ipython3",
   "version": "3.9.12"
  }
 },
 "nbformat": 4,
 "nbformat_minor": 5
}
