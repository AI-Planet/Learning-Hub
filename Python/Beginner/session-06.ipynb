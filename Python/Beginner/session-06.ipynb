{
 "cells": [
  {
   "cell_type": "markdown",
   "id": "355b5f03-d2a5-4aa3-a77c-776ccfcb35d5",
   "metadata": {},
   "source": [
    "# Session 6 🐍"
   ]
  },
  {
   "cell_type": "markdown",
   "id": "45efc9ec-fb9c-458c-b1de-d961145e8449",
   "metadata": {},
   "source": [
    "☀️☀️☀️☀️☀️☀️☀️☀️☀️☀️☀️☀️☀️☀️☀️☀️☀️☀️☀️☀️☀️☀️☀️☀️☀️☀️☀️☀️☀️☀️☀️☀️☀️☀️☀️☀️☀️☀️☀️☀️☀️☀️☀️☀️☀️"
   ]
  },
  {
   "cell_type": "markdown",
   "id": "2c7a6ce5-4cd2-45cd-a3b8-9ac277170654",
   "metadata": {},
   "source": [
    "***"
   ]
  },
  {
   "cell_type": "markdown",
   "id": "f47542a8-416d-4a3f-8c9d-99781dc53bd8",
   "metadata": {},
   "source": [
    "# 27. Loop & Iteration\n",
    "Computers are good in repeating boring tasks, they do this faster and more accurate than people. A block of code that is executed several times is called a **Loop**. Eacxh repetition of instructions within a loop is called an **Iteration**. One of loop statements we can use in Python is called the **while** loop."
   ]
  },
  {
   "cell_type": "markdown",
   "id": "a35384c2-ea49-4613-b074-ef3b571f756e",
   "metadata": {},
   "source": [
    "***"
   ]
  },
  {
   "cell_type": "markdown",
   "id": "878d62da-f7c1-4faf-a77a-b971f01fa9cc",
   "metadata": {},
   "source": [
    "# 28. While Loop\n",
    "A while loop is a fundamental control structure in programming that allows a block of code to be executed repeatedly as long as a specified condition remains **true**. It is used when the number of iterations is **not known** beforehand and depends on a dynamic condition."
   ]
  },
  {
   "cell_type": "markdown",
   "id": "4e2120e8-64ed-4aba-afa8-af9eebd99983",
   "metadata": {},
   "source": [
    "Syntax of While Loop"
   ]
  },
  {
   "cell_type": "raw",
   "id": "0108a49f-9d5a-44c2-be68-b122a9b6f6b5",
   "metadata": {},
   "source": [
    "while (condition):\n",
    "    # Code to execute while the condition is true\n",
    "    # Update condition variable (to avoid infinite loop)"
   ]
  },
  {
   "cell_type": "markdown",
   "id": "e317aa0d-8565-43c1-9eee-43a75935da19",
   "metadata": {},
   "source": [
    "The flow of execution for a **while** loop is as follows:\n",
    "- Check Condition: The loop first checks if the condition is True.\n",
    "- Execute Code: If the condition is True, the code inside the loop runs.\n",
    "- Update Condition Variable: The loop variable must be modified (e.g., incremented) to eventually make the condition False.\n",
    "- Repeat: The loop repeats steps 1-3 until the condition becomes False."
   ]
  },
  {
   "cell_type": "code",
   "execution_count": 1,
   "id": "f140379b-810f-47ec-86dd-00fabd15ffc1",
   "metadata": {},
   "outputs": [
    {
     "name": "stdout",
     "output_type": "stream",
     "text": [
      "Count is: 0\n",
      "Count is: 1\n",
      "Count is: 2\n",
      "Count is: 3\n",
      "Count is: 4\n"
     ]
    }
   ],
   "source": [
    "count = 0\n",
    "while count < 5:\n",
    "    print(\"Count is:\", count)\n",
    "    count += 1  # Increment to avoid infinite loop"
   ]
  },
  {
   "cell_type": "markdown",
   "id": "8fa357e2-70b0-43cf-8c93-1cf3d75237ea",
   "metadata": {},
   "source": [
    "***"
   ]
  },
  {
   "cell_type": "markdown",
   "id": "e67a11e2-d118-4289-8a94-f452154a853f",
   "metadata": {},
   "source": [
    "## 28-1. Infinite Loop"
   ]
  },
  {
   "cell_type": "code",
   "execution_count": null,
   "id": "2599b3d4-51be-44ce-b820-bc9a2d15be95",
   "metadata": {},
   "outputs": [],
   "source": [
    "while True:\n",
    "    print(\"This runs forever!\")"
   ]
  },
  {
   "cell_type": "markdown",
   "id": "71d980d2-0acb-44bc-85f8-39dfb52fad9f",
   "metadata": {},
   "source": [
    "***"
   ]
  },
  {
   "cell_type": "markdown",
   "id": "7f5802b9-2e40-4688-ba1f-01ea774c1208",
   "metadata": {},
   "source": [
    "## 28-2. Use Cases of While Loop"
   ]
  },
  {
   "cell_type": "markdown",
   "id": "9808f29f-9a66-4956-9130-ced3f752b5dc",
   "metadata": {},
   "source": [
    "### 28-2-1. \n",
    "When the number of iterations is unknown (e.g., reading input until a valid entry is given)."
   ]
  },
  {
   "cell_type": "code",
   "execution_count": 2,
   "id": "30388331-7a92-4675-b2c2-7efc71438af1",
   "metadata": {},
   "outputs": [
    {
     "name": "stdin",
     "output_type": "stream",
     "text": [
      "Enter 'quit' to exit:  hi\n",
      "Enter 'quit' to exit:  quit\n"
     ]
    }
   ],
   "source": [
    "user_input = \"\"\n",
    "while user_input != \"quit\":\n",
    "    user_input = input(\"Enter 'quit' to exit: \")"
   ]
  },
  {
   "cell_type": "markdown",
   "id": "640163bb-fa3a-46ba-b745-5397096c4c6b",
   "metadata": {},
   "source": [
    "***"
   ]
  },
  {
   "cell_type": "markdown",
   "id": "355cbb46-e85d-481b-93c5-a40d8dda1bc1",
   "metadata": {},
   "source": [
    "### 28-2-2.\n",
    "Processing data until a condition is met (e.g., searching for an item in a list)."
   ]
  },
  {
   "cell_type": "markdown",
   "id": "9ad42f3a-f9a3-4359-916d-831e24b1fc0b",
   "metadata": {},
   "source": [
    "## 24-1. Using .format( )\n",
    "The **.format()** method replaces placeholders in a string with specified values."
   ]
  },
  {
   "cell_type": "code",
   "execution_count": 3,
   "id": "3601b780-f690-4a93-8854-4e9ab8bbfa03",
   "metadata": {},
   "outputs": [
    {
     "name": "stdout",
     "output_type": "stream",
     "text": [
      "My name is Alice and I am 25 years old.\n"
     ]
    }
   ],
   "source": [
    "name = \"Alice\"\n",
    "age = 25\n",
    "print(\"My name is {} and I am {} years old.\".format(name, age))"
   ]
  },
  {
   "cell_type": "markdown",
   "id": "b783ed14-a629-4801-aad7-d09f961de0a7",
   "metadata": {},
   "source": [
    "**You can use indexes:**"
   ]
  },
  {
   "cell_type": "code",
   "execution_count": 4,
   "id": "d8e52988-61bb-48dd-b56a-edee5d27f337",
   "metadata": {},
   "outputs": [
    {
     "name": "stdout",
     "output_type": "stream",
     "text": [
      "I am 25 years old and my name is Alice.\n"
     ]
    }
   ],
   "source": [
    "print(\"I am {1} years old and my name is {0}.\".format(name, age))"
   ]
  },
  {
   "cell_type": "markdown",
   "id": "3ec2072b-d7eb-4722-a6b8-8af6cd827cc8",
   "metadata": {},
   "source": [
    "**Or named placeholders:**"
   ]
  },
  {
   "cell_type": "code",
   "execution_count": 5,
   "id": "6df9a962-f85c-46f9-8dc5-82b9d2d531e4",
   "metadata": {},
   "outputs": [
    {
     "name": "stdout",
     "output_type": "stream",
     "text": [
      "Name: Alice, Age: 25\n"
     ]
    }
   ],
   "source": [
    "print(\"Name: {n}, Age: {a}\".format(n=name, a=age))"
   ]
  },
  {
   "cell_type": "markdown",
   "id": "b5d99668-fd04-4d3d-a27d-5e21d39bdfbb",
   "metadata": {},
   "source": [
    "**Formatting numbers:**"
   ]
  },
  {
   "cell_type": "code",
   "execution_count": 6,
   "id": "2debd61b-1e69-4341-950f-33c2ee71a4b4",
   "metadata": {},
   "outputs": [
    {
     "name": "stdout",
     "output_type": "stream",
     "text": [
      "Pi to 2 decimal places: 3.14\n"
     ]
    }
   ],
   "source": [
    "pi = 3.1415926\n",
    "print(\"Pi to 2 decimal places: {:.2f}\".format(pi))"
   ]
  },
  {
   "cell_type": "markdown",
   "id": "f2167106-abbc-4134-bccc-ffcfcfcb44bb",
   "metadata": {},
   "source": [
    "***"
   ]
  },
  {
   "cell_type": "markdown",
   "id": "afed0fa7-1b8f-4d84-a981-36639fe69823",
   "metadata": {},
   "source": [
    "## 24-2. Using f-strings (Python 3.6+)\n",
    "f-strings are a cleaner, faster way to embed variables or expressions directly in strings by prefixing the string with f."
   ]
  },
  {
   "cell_type": "code",
   "execution_count": 7,
   "id": "573ecb9b-af0f-454a-ab6f-1563810e0778",
   "metadata": {},
   "outputs": [
    {
     "name": "stdout",
     "output_type": "stream",
     "text": [
      "My name is Alice and I am 25 years old.\n"
     ]
    }
   ],
   "source": [
    "name = \"Alice\"\n",
    "age = 25\n",
    "print(f\"My name is {name} and I am {age} years old.\")"
   ]
  },
  {
   "cell_type": "markdown",
   "id": "7f9aa51f-06e5-46ed-8b4e-ab03fdd9295b",
   "metadata": {},
   "source": [
    "**Supports expressions:**"
   ]
  },
  {
   "cell_type": "code",
   "execution_count": 8,
   "id": "9ad511c3-f09d-487c-be14-4167e7a9b5c6",
   "metadata": {},
   "outputs": [
    {
     "name": "stdout",
     "output_type": "stream",
     "text": [
      "In five years, I will be 30.\n"
     ]
    }
   ],
   "source": [
    "print(f\"In five years, I will be {age + 5}.\")"
   ]
  },
  {
   "cell_type": "markdown",
   "id": "1fdfd50d-859a-4db1-9716-8360473874a0",
   "metadata": {},
   "source": [
    "**Formatting numbers in f-strings:**"
   ]
  },
  {
   "cell_type": "code",
   "execution_count": 9,
   "id": "807189c5-c82c-450c-898f-8f5a09dd5e31",
   "metadata": {},
   "outputs": [
    {
     "name": "stdout",
     "output_type": "stream",
     "text": [
      "Price: $49.99\n"
     ]
    }
   ],
   "source": [
    "price = 49.99\n",
    "print(f\"Price: ${price:.2f}\")"
   ]
  },
  {
   "cell_type": "markdown",
   "id": "110a6cfb-e56e-42ca-853d-3b87daf2b6eb",
   "metadata": {},
   "source": [
    "**Dates with f-strings:**"
   ]
  },
  {
   "cell_type": "code",
   "execution_count": 10,
   "id": "afa74219-cb59-40b9-91d7-110b8604567f",
   "metadata": {},
   "outputs": [
    {
     "name": "stdout",
     "output_type": "stream",
     "text": [
      "Today's date is July 10, 2025\n"
     ]
    }
   ],
   "source": [
    "import datetime\n",
    "today = datetime.date.today()\n",
    "print(f\"Today's date is {today:%B %d, %Y}\")"
   ]
  },
  {
   "cell_type": "markdown",
   "id": "9f5cd715-9ef2-44fa-90de-4635cc890154",
   "metadata": {},
   "source": [
    "***"
   ]
  },
  {
   "cell_type": "code",
   "execution_count": 11,
   "id": "b9cc91ee-eb3c-4496-bf0b-cbbffa060137",
   "metadata": {},
   "outputs": [
    {
     "name": "stdout",
     "output_type": "stream",
     "text": [
      "ok\n",
      "ok\n",
      "ok\n"
     ]
    }
   ],
   "source": [
    "found = False\n",
    "index = 0\n",
    "items = [10, 20, 30, 40, 50]\n",
    "while not found and index < len(items):\n",
    "    if items[index] == 30:\n",
    "        found = True\n",
    "    index += 1\n",
    "    print('ok')"
   ]
  },
  {
   "cell_type": "markdown",
   "id": "4f0b1f67-e1b6-4983-84db-ca822a6abe1a",
   "metadata": {},
   "source": [
    "**Note:** One of the useful built-in functions is **len( )** that is used to get the number (length) of items in a string, list, set, etc. which will be explained soon."
   ]
  },
  {
   "cell_type": "code",
   "execution_count": 12,
   "id": "f5039ea6-1bc5-4b84-95ae-893e3551bbd1",
   "metadata": {},
   "outputs": [
    {
     "name": "stdout",
     "output_type": "stream",
     "text": [
      "5\n",
      "4\n",
      "3\n"
     ]
    }
   ],
   "source": [
    "x = 'Hello'\n",
    "y = [1, 2 , 3, 4]\n",
    "z = {1, 2, 3}\n",
    "print(len(x))\n",
    "print(len(y))\n",
    "print(len(z))"
   ]
  },
  {
   "cell_type": "markdown",
   "id": "718e43b7-be62-4225-bdc6-7b80dd92dfed",
   "metadata": {},
   "source": [
    "***"
   ]
  },
  {
   "cell_type": "markdown",
   "id": "8270066f-ef98-4e6d-aafe-ee18b2a1d9d5",
   "metadata": {},
   "source": [
    "### 28-2-3.\n",
    "Game loops (e.g., running until the player loses). Here's a very good example:"
   ]
  },
  {
   "cell_type": "code",
   "execution_count": 13,
   "id": "64054d1a-9e04-47a8-8460-43924e5a569e",
   "metadata": {},
   "outputs": [
    {
     "name": "stdout",
     "output_type": "stream",
     "text": [
      "Welcome to the Simple Adventure Game!\n",
      "Try to survive as long as you can!\n",
      "------------------------------\n",
      "\n",
      "Your current health: 100\n",
      "Your current score: 0\n",
      "\n",
      "What do you want to do?\n",
      "1. Explore (might gain or lose health)\n",
      "2. Rest (gain a little health)\n",
      "3. Quit game\n"
     ]
    },
    {
     "name": "stdin",
     "output_type": "stream",
     "text": [
      "Enter your choice (1, 2, or 3):  1\n"
     ]
    },
    {
     "name": "stdout",
     "output_type": "stream",
     "text": [
      "Oh no! You encountered a hazard! Lost 5 health.\n",
      "\n",
      "Your current health: 95\n",
      "Your current score: 0\n",
      "\n",
      "What do you want to do?\n",
      "1. Explore (might gain or lose health)\n",
      "2. Rest (gain a little health)\n",
      "3. Quit game\n"
     ]
    },
    {
     "name": "stdin",
     "output_type": "stream",
     "text": [
      "Enter your choice (1, 2, or 3):  1\n"
     ]
    },
    {
     "name": "stdout",
     "output_type": "stream",
     "text": [
      "You explored and found something good! Gained 15 health.\n",
      "\n",
      "Your current health: 110\n",
      "Your current score: 10\n",
      "\n",
      "What do you want to do?\n",
      "1. Explore (might gain or lose health)\n",
      "2. Rest (gain a little health)\n",
      "3. Quit game\n"
     ]
    },
    {
     "name": "stdin",
     "output_type": "stream",
     "text": [
      "Enter your choice (1, 2, or 3):  2\n"
     ]
    },
    {
     "name": "stdout",
     "output_type": "stream",
     "text": [
      "You rested and recovered 13 health.\n",
      "\n",
      "Your current health: 100\n",
      "Your current score: 10\n",
      "\n",
      "What do you want to do?\n",
      "1. Explore (might gain or lose health)\n",
      "2. Rest (gain a little health)\n",
      "3. Quit game\n"
     ]
    },
    {
     "name": "stdin",
     "output_type": "stream",
     "text": [
      "Enter your choice (1, 2, or 3):  3\n"
     ]
    },
    {
     "name": "stdout",
     "output_type": "stream",
     "text": [
      "You decided to quit the game.\n",
      "\n",
      "==============================\n",
      "Game Summary:\n",
      "Final Score: 10\n",
      "Thanks for playing!\n",
      "==============================\n"
     ]
    }
   ],
   "source": [
    "import time\n",
    "import random\n",
    "\n",
    "def play_game():\n",
    "    player_health = 100\n",
    "    score = 0\n",
    "    game_over = False\n",
    "\n",
    "    print(\"Welcome to the Simple Adventure Game!\")\n",
    "    print(\"Try to survive as long as you can!\")\n",
    "    print(\"-\" * 30)\n",
    "\n",
    "    # Game loop continues as long as the player has health and hasn't explicitly quit\n",
    "    while player_health > 0 and not game_over:\n",
    "        print(f\"\\nYour current health: {player_health}\")\n",
    "        print(f\"Your current score: {score}\")\n",
    "        print(\"\\nWhat do you want to do?\")\n",
    "        print(\"1. Explore (might gain or lose health)\")\n",
    "        print(\"2. Rest (gain a little health)\")\n",
    "        print(\"3. Quit game\")\n",
    "\n",
    "        choice = input(\"Enter your choice (1, 2, or 3): \")\n",
    "\n",
    "        if choice == '1':\n",
    "            event_outcome = random.randint(-20, 15) # Random health change\n",
    "            if event_outcome >= 0:\n",
    "                print(f\"You explored and found something good! Gained {event_outcome} health.\")\n",
    "                player_health += event_outcome\n",
    "                score += 10 # Reward for exploring\n",
    "            else:\n",
    "                print(f\"Oh no! You encountered a hazard! Lost {-event_outcome} health.\")\n",
    "                player_health += event_outcome\n",
    "                score = max(0, score - 5) # Penalize score, but not below zero\n",
    "            time.sleep(1) # Pause for readability\n",
    "\n",
    "        elif choice == '2':\n",
    "            heal_amount = random.randint(5, 15)\n",
    "            player_health += heal_amount\n",
    "            print(f\"You rested and recovered {heal_amount} health.\")\n",
    "            player_health = min(100, player_health) # Cap health at 100\n",
    "            time.sleep(1)\n",
    "\n",
    "        elif choice == '3':\n",
    "            print(\"You decided to quit the game.\")\n",
    "            game_over = True\n",
    "            break # Exit the loop immediately\n",
    "\n",
    "        else:\n",
    "            print(\"Invalid choice. Please choose 1, 2, or 3.\")\n",
    "\n",
    "        # Ensure health doesn't go below zero for display purposes, even if it conceptually did\n",
    "        player_health = max(0, player_health)\n",
    "\n",
    "        # Check for game over condition within the loop\n",
    "        if player_health <= 0:\n",
    "            print(\"\\n!!! Your health has dropped to zero! Game Over !!!\")\n",
    "            game_over = True\n",
    "\n",
    "    print(\"\\n\" + \"=\" * 30)\n",
    "    print(\"Game Summary:\")\n",
    "    print(f\"Final Score: {score}\")\n",
    "    if player_health > 0: # If the player quit but didn't lose all health\n",
    "        print(\"Thanks for playing!\")\n",
    "    print(\"=\" * 30)\n",
    "\n",
    "# Run the game\n",
    "if __name__ == \"__main__\":\n",
    "    play_game()"
   ]
  },
  {
   "cell_type": "markdown",
   "id": "c7dd7f95-95cd-4e89-b482-b45d7ec16c17",
   "metadata": {},
   "source": [
    "***"
   ]
  },
  {
   "cell_type": "markdown",
   "id": "f75de6c8-057d-4f50-bb48-fe22681e0555",
   "metadata": {},
   "source": [
    "# 29. Break Statement\n",
    "It's possible to enforce the termination of a loop via the break statement. Once your program flow reaches the **break** statement, all the code following the statement within the loop body won't be executed."
   ]
  },
  {
   "cell_type": "code",
   "execution_count": 15,
   "id": "29689c42-a73f-4674-82af-bff5797290e9",
   "metadata": {},
   "outputs": [
    {
     "name": "stdin",
     "output_type": "stream",
     "text": [
      "Enter 'exit' to stop:  hi\n",
      "Enter 'exit' to stop:  exit\n"
     ]
    }
   ],
   "source": [
    "while True:\n",
    "    user_input = input(\"Enter 'exit' to stop: \")\n",
    "    if user_input == \"exit\":\n",
    "        break"
   ]
  },
  {
   "cell_type": "code",
   "execution_count": 16,
   "id": "420c431a-9a50-4526-a078-a75a2684fe44",
   "metadata": {},
   "outputs": [
    {
     "name": "stdout",
     "output_type": "stream",
     "text": [
      "Print once!\n"
     ]
    }
   ],
   "source": [
    "while True:\n",
    "    print('Print once!')\n",
    "    break\n",
    "    print(\"The rest won't be printed.\")"
   ]
  },
  {
   "cell_type": "markdown",
   "id": "ff18a013-6b5f-4ef5-a668-a29c20a2b744",
   "metadata": {},
   "source": [
    "Suppose you are processing the user's input. The user enters any string and as soon as you get the string value **done**, you need to terminate the program."
   ]
  },
  {
   "cell_type": "code",
   "execution_count": 17,
   "id": "a34a74a0-62e6-4f82-9c03-3ae229b9bb5e",
   "metadata": {},
   "outputs": [
    {
     "name": "stdin",
     "output_type": "stream",
     "text": [
      "> pen\n",
      "> pencil\n",
      "> book\n",
      "> done\n"
     ]
    },
    {
     "name": "stdout",
     "output_type": "stream",
     "text": [
      "The number of words is: 3\n"
     ]
    }
   ],
   "source": [
    "count = 0\n",
    "\n",
    "while True:\n",
    "    line = input('>')\n",
    "    if line == 'done':\n",
    "        break\n",
    "    count += 1\n",
    "\n",
    "print('The number of words is:', count)"
   ]
  },
  {
   "cell_type": "markdown",
   "id": "2a6a87bd-a397-465e-b217-013a127e43b5",
   "metadata": {},
   "source": [
    "***"
   ]
  },
  {
   "cell_type": "markdown",
   "id": "4e0aab24-9618-4622-ba2a-c6dc6e39f2dd",
   "metadata": {},
   "source": [
    "# 30. Continue Statement\n",
    "Sometimes you want to finish the execution of the loop body for specific iterations. In that case, you want to stop the current iteration and continue with the next one. To do so, you can use the **continue** statement."
   ]
  },
  {
   "cell_type": "code",
   "execution_count": 18,
   "id": "bc1b479b-b52f-42c7-a9b2-7db33b97843f",
   "metadata": {},
   "outputs": [
    {
     "name": "stdout",
     "output_type": "stream",
     "text": [
      "1\n",
      "2\n",
      "4\n",
      "5\n"
     ]
    }
   ],
   "source": [
    "x = 0\n",
    "while x < 5:\n",
    "    x += 1\n",
    "    if x == 3:\n",
    "        continue  # Skip printing 3\n",
    "    print(x)"
   ]
  },
  {
   "cell_type": "code",
   "execution_count": 19,
   "id": "6bc713d3-10f5-4317-b918-8ecc62e6efc3",
   "metadata": {},
   "outputs": [
    {
     "name": "stdout",
     "output_type": "stream",
     "text": [
      "Iteration 1\n",
      "Iteration 3\n",
      "Iteration 4\n",
      "Iteration 5\n",
      "Iteration 6\n"
     ]
    }
   ],
   "source": [
    "iteration = 0\n",
    "\n",
    "while iteration <= 5:\n",
    "    iteration += 1\n",
    "\n",
    "    # Do not print anything in iteration 2\n",
    "    if iteration == 2:\n",
    "        continue\n",
    "        print('Skip this text!')\n",
    "\n",
    "    print(f'Iteration {iteration}')"
   ]
  },
  {
   "cell_type": "markdown",
   "id": "f9c66180-374c-48eb-99f8-663fd8f09eeb",
   "metadata": {},
   "source": [
    "***"
   ]
  },
  {
   "cell_type": "markdown",
   "id": "4f6d389e-8daa-477b-95fb-d2af80582284",
   "metadata": {},
   "source": [
    "🎁 Combination of both **break** and **continue** statements in one example:"
   ]
  },
  {
   "cell_type": "code",
   "execution_count": 21,
   "id": "738d1a0d-f3d1-4765-94ac-adf514e27e1c",
   "metadata": {},
   "outputs": [
    {
     "name": "stdin",
     "output_type": "stream",
     "text": [
      "What to do next? reading\n"
     ]
    },
    {
     "name": "stdout",
     "output_type": "stream",
     "text": [
      "Your instruction is reading\n"
     ]
    },
    {
     "name": "stdin",
     "output_type": "stream",
     "text": [
      "What to do next? writting\n"
     ]
    },
    {
     "name": "stdout",
     "output_type": "stream",
     "text": [
      "Your instruction is writting\n"
     ]
    },
    {
     "name": "stdin",
     "output_type": "stream",
     "text": [
      "What to do next? skip\n",
      "What to do next? quit\n"
     ]
    }
   ],
   "source": [
    "while True:\n",
    "    instruction = input('What to do next?')\n",
    "\n",
    "    if instruction == 'quit':\n",
    "        break\n",
    "\n",
    "    if instruction == 'skip':\n",
    "        continue\n",
    "        print('Skip this line')\n",
    "\n",
    "    print('Your instruction is ' + instruction)"
   ]
  },
  {
   "cell_type": "markdown",
   "id": "28feece9-b0c4-46bd-8726-70f64bed2819",
   "metadata": {},
   "source": [
    "***"
   ]
  },
  {
   "cell_type": "markdown",
   "id": "606f6b1d-8255-4438-9d10-67e85824993a",
   "metadata": {},
   "source": [
    "***"
   ]
  },
  {
   "cell_type": "markdown",
   "id": "b40206fb-6731-46dc-9302-0b9bc348b89b",
   "metadata": {},
   "source": [
    "# Some Excercises"
   ]
  },
  {
   "cell_type": "markdown",
   "id": "088d38a8-866c-48a9-a9b5-40df9d99ae4b",
   "metadata": {},
   "source": [
    "**1.** Write a program that prints numbers from 1 to 10 using a while loop."
   ]
  },
  {
   "cell_type": "markdown",
   "id": "b486b7b8-307c-4eb7-8c14-a1dd72eb2e46",
   "metadata": {},
   "source": [
    "___"
   ]
  },
  {
   "cell_type": "markdown",
   "id": "5c32b073-bab0-451e-8fd7-a294020f71c6",
   "metadata": {},
   "source": [
    "**2.** Ask the user to enter a number n and print all numbers from 1 to n using a while loop."
   ]
  },
  {
   "cell_type": "markdown",
   "id": "489da9fe-be18-487a-bcc7-e5d6672698ba",
   "metadata": {},
   "source": [
    "---"
   ]
  },
  {
   "cell_type": "markdown",
   "id": "bf117f39-fa94-453e-bca9-2ccd7b507496",
   "metadata": {},
   "source": [
    "**3.** Write a program that calculates the sum of all numbers from 1 to n (user input) using a while loop."
   ]
  },
  {
   "cell_type": "markdown",
   "id": "02e59887-780b-4321-9382-ef4c85ec9684",
   "metadata": {},
   "source": [
    "---"
   ]
  },
  {
   "cell_type": "markdown",
   "id": "1b32e2d5-3ed7-4865-b63e-21c5cc156f67",
   "metadata": {},
   "source": [
    "**4.** The following code is an infinite loop. Fix it so that it stops when count reaches 5."
   ]
  },
  {
   "cell_type": "code",
   "execution_count": null,
   "id": "5e3bd50f-f53c-4b7b-b61a-b4c212788567",
   "metadata": {},
   "outputs": [],
   "source": [
    "count = 0  \n",
    "while count < 5:  \n",
    "    print(\"Infinite?\")  "
   ]
  },
  {
   "cell_type": "markdown",
   "id": "8dcb22a4-aff7-4377-b09a-a39fa4a3b2a7",
   "metadata": {},
   "source": [
    "***"
   ]
  },
  {
   "cell_type": "markdown",
   "id": "17511368-bcb2-4413-87ab-450ca9a64ff2",
   "metadata": {},
   "source": [
    "**5.** Ask the user to enter a password. If the password is \"secret123\", print \"Access granted\" and exit the loop. Otherwise, keep asking."
   ]
  },
  {
   "cell_type": "markdown",
   "id": "af3414ed-8ba7-485b-954f-69bb05f37262",
   "metadata": {},
   "source": [
    "***"
   ]
  },
  {
   "cell_type": "markdown",
   "id": "7f9870ab-b5e8-420a-a827-89861412defc",
   "metadata": {},
   "source": [
    "**6.** Print all even numbers between 1 and 10 using a while loop with continue to skip odd numbers."
   ]
  },
  {
   "cell_type": "markdown",
   "id": "1710666b-d6b6-41f9-bc4a-920604984ab3",
   "metadata": {},
   "source": [
    "***"
   ]
  },
  {
   "cell_type": "markdown",
   "id": "54eee1dc-9f0f-4b19-a2e6-d124829c4482",
   "metadata": {},
   "source": [
    "**7.** Create a guessing game where the user must guess a secret number (e.g., 7).\n",
    "- If the guess is correct, print \"You win!\" and exit.\n",
    "- If wrong, keep asking."
   ]
  },
  {
   "cell_type": "markdown",
   "id": "c292f89e-e171-4779-9cd2-77486ff59653",
   "metadata": {},
   "source": [
    "***"
   ]
  },
  {
   "cell_type": "markdown",
   "id": "6007f526-4467-4578-9efd-6a14d5b6264d",
   "metadata": {},
   "source": [
    "**8.** Ask the user to enter a number between 1 and 10.\n",
    "- If valid, print \"Valid number!\" and exit.\n",
    "- If invalid, keep asking."
   ]
  },
  {
   "cell_type": "markdown",
   "id": "b41338ea-200a-4e1e-be46-7f52837ba730",
   "metadata": {},
   "source": [
    "***"
   ]
  },
  {
   "cell_type": "markdown",
   "id": "61b66d96-462c-4d24-a93d-28ad1359cf85",
   "metadata": {},
   "source": [
    "**9.** Modify Exercise 5 to allow only 3 attempts. If the user fails 3 times, print \"Access denied\" and exit."
   ]
  },
  {
   "cell_type": "markdown",
   "id": "d0dcd54d-2e64-4c92-a26d-d1bac2a293f0",
   "metadata": {},
   "source": [
    "***"
   ]
  },
  {
   "cell_type": "markdown",
   "id": "7cc97f26-cf68-4d50-82a1-ae7dcdfa95ac",
   "metadata": {},
   "source": [
    "#                                                        🌞 https://github.com/AI-Planet 🌞"
   ]
  }
 ],
 "metadata": {
  "kernelspec": {
   "display_name": "Python 3 (ipykernel)",
   "language": "python",
   "name": "python3"
  },
  "language_info": {
   "codemirror_mode": {
    "name": "ipython",
    "version": 3
   },
   "file_extension": ".py",
   "mimetype": "text/x-python",
   "name": "python",
   "nbconvert_exporter": "python",
   "pygments_lexer": "ipython3",
   "version": "3.9.12"
  }
 },
 "nbformat": 4,
 "nbformat_minor": 5
}
