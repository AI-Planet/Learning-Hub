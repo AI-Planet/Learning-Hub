{
 "cells": [
  {
   "cell_type": "markdown",
   "id": "355b5f03-d2a5-4aa3-a77c-776ccfcb35d5",
   "metadata": {},
   "source": [
    "# Session 14 🐍"
   ]
  },
  {
   "cell_type": "markdown",
   "id": "45efc9ec-fb9c-458c-b1de-d961145e8449",
   "metadata": {},
   "source": [
    "☀️☀️☀️☀️☀️☀️☀️☀️☀️☀️☀️☀️☀️☀️☀️☀️☀️☀️☀️☀️☀️☀️☀️☀️☀️☀️☀️☀️☀️☀️☀️☀️☀️☀️☀️☀️☀️☀️☀️☀️☀️☀️☀️☀️☀️"
   ]
  },
  {
   "cell_type": "markdown",
   "id": "2c7a6ce5-4cd2-45cd-a3b8-9ac277170654",
   "metadata": {},
   "source": [
    "***"
   ]
  },
  {
   "cell_type": "markdown",
   "id": "f47542a8-416d-4a3f-8c9d-99781dc53bd8",
   "metadata": {},
   "source": [
    "# 87. File Persistence Concepts\n",
    "**Persistence** refers to saving data between program executions. Files provide persistent storage that survives after your program ends."
   ]
  },
  {
   "cell_type": "markdown",
   "id": "a35384c2-ea49-4613-b074-ef3b571f756e",
   "metadata": {},
   "source": [
    "***"
   ]
  },
  {
   "cell_type": "markdown",
   "id": "91b2d653-7b83-4f11-87c7-394277442253",
   "metadata": {},
   "source": [
    "# 88. Opening Files\n",
    "The fundamental function for file operations is **open( )**:\n",
    "\n",
    "Syntax:"
   ]
  },
  {
   "cell_type": "markdown",
   "id": "8b64279b-9f01-49f9-8c70-1465c73ce281",
   "metadata": {},
   "source": [
    "file_object = **open**(filename, mode)"
   ]
  },
  {
   "cell_type": "markdown",
   "id": "4dd5acb4-3c41-4b09-a37d-18d020b688eb",
   "metadata": {},
   "source": [
    "**File Modes:**\n",
    "\n",
    "'r' - Read (default)\n",
    "\n",
    "'w' - Write (truncates existing file)\n",
    "\n",
    "'a' - Append\n",
    "\n",
    "'x' - Exclusive creation (fails if exists)\n",
    "\n",
    "'b' - Binary mode\n",
    "\n",
    "'t' - Text mode (default)\n",
    "\n",
    "'+' - Updating (read/write)"
   ]
  },
  {
   "cell_type": "markdown",
   "id": "3f3c6bb6-e140-4385-b1a4-07af380f88ba",
   "metadata": {},
   "source": [
    "***"
   ]
  },
  {
   "cell_type": "markdown",
   "id": "2a4bb6e9-7b3a-41e6-a0cc-25b6f556fca7",
   "metadata": {},
   "source": [
    "## 88-1. Reading a File"
   ]
  },
  {
   "cell_type": "markdown",
   "id": "313c1fe0-88e1-4681-9f7e-90a6e8daa599",
   "metadata": {},
   "source": [
    "Assume we have a file called data.txt."
   ]
  },
  {
   "cell_type": "code",
   "execution_count": null,
   "id": "b8f66716-edc7-45da-9ec7-16e82a0570af",
   "metadata": {},
   "outputs": [],
   "source": [
    "file = open(\"data.txt\", \"r\")  # opens for reading\n",
    "content = file.read()\n",
    "print(content)\n",
    "file.close()"
   ]
  },
  {
   "cell_type": "markdown",
   "id": "c6dcb584-b59f-4d8f-b783-1493756ab0de",
   "metadata": {},
   "source": [
    "**Note:** After reading the file, you have to close it by using the built-in function **close( )**."
   ]
  },
  {
   "cell_type": "markdown",
   "id": "a4bb5edf-3034-4d79-8edf-8f0740ea0e27",
   "metadata": {},
   "source": [
    "***"
   ]
  },
  {
   "cell_type": "markdown",
   "id": "cb5cc52c-9d10-47ad-baeb-0900ab6358ff",
   "metadata": {},
   "source": [
    "## 88-2. Best Practice: Using Context Managers\n",
    "In this way, File is closed automatically. "
   ]
  },
  {
   "cell_type": "code",
   "execution_count": null,
   "id": "3dfa100a-b67d-4ad2-a3ef-e3ed188b4eb4",
   "metadata": {},
   "outputs": [],
   "source": [
    "with open('example.txt', 'r') as file:\n",
    "    content = file.read()\n",
    "    print(content)"
   ]
  },
  {
   "cell_type": "markdown",
   "id": "f9d34ed7-9c13-4948-ac9a-bcaad250362e",
   "metadata": {},
   "source": [
    "***"
   ]
  },
  {
   "cell_type": "markdown",
   "id": "1ebf8740-3e4e-4456-acb8-abc93730902a",
   "metadata": {},
   "source": [
    "## 88-3. Writing to a File\n",
    "This will overwrite new_file.txt if it exists, or create it if it doesn’t. We use **write( )** method."
   ]
  },
  {
   "cell_type": "code",
   "execution_count": null,
   "id": "316de79f-fac8-43b4-8130-9759e7122e59",
   "metadata": {},
   "outputs": [],
   "source": [
    "with open(\"new_file.txt\", \"w\") as file:\n",
    "    file.write(\"Hello, world!\\n\")\n",
    "    file.write(\"This will overwrite any existing content.\")"
   ]
  },
  {
   "cell_type": "markdown",
   "id": "d42a8f4d-6336-471b-81f3-1857ecb2a9a6",
   "metadata": {},
   "source": [
    "***"
   ]
  },
  {
   "cell_type": "markdown",
   "id": "8bd7dba2-6ba7-4284-a092-43176553e91b",
   "metadata": {},
   "source": [
    "## 88-4. Appending to a File"
   ]
  },
  {
   "cell_type": "code",
   "execution_count": null,
   "id": "31e5e69c-e962-4aa5-a8a3-3b4f6cf60c13",
   "metadata": {},
   "outputs": [],
   "source": [
    "with open(\"new_file.txt\", \"a\") as file:\n",
    "    file.write(\"\\nThis is a new line appended to the file.\")"
   ]
  },
  {
   "cell_type": "markdown",
   "id": "c5df47f0-ba73-46ca-ba95-a941fadc74c3",
   "metadata": {},
   "source": [
    "***"
   ]
  },
  {
   "cell_type": "markdown",
   "id": "7271a30e-0d82-493a-b86f-488308299f1e",
   "metadata": {},
   "source": [
    "## 88-5. Reading Line by Line"
   ]
  },
  {
   "cell_type": "code",
   "execution_count": null,
   "id": "e4d6d284-35e8-4add-9194-52f86b89714e",
   "metadata": {},
   "outputs": [],
   "source": [
    "with open(\"data.txt\", \"r\") as file:\n",
    "    for line in file:\n",
    "        print(line.strip())  "
   ]
  },
  {
   "cell_type": "markdown",
   "id": "9a8fb70e-b17f-444e-86b5-dbf081e59200",
   "metadata": {},
   "source": [
    "***"
   ]
  },
  {
   "cell_type": "markdown",
   "id": "4a660e2a-2d02-405a-83d2-b1146fc19682",
   "metadata": {},
   "source": [
    "## 88-6. Reading from Files – Extended Methods\n",
    "Let’s assume you have a file example.txt that looks like this:"
   ]
  },
  {
   "cell_type": "raw",
   "id": "9d2b65c3-d66c-494a-a932-80a0e26b5df5",
   "metadata": {},
   "source": [
    "Line 1: Hello\n",
    "Line 2: World\n",
    "Line 3: Python"
   ]
  },
  {
   "cell_type": "markdown",
   "id": "25a2f75b-f729-4698-b52d-edeef5d44afc",
   "metadata": {},
   "source": [
    "### 88-6-1. **read()** — Reads the whole file as a single string"
   ]
  },
  {
   "cell_type": "code",
   "execution_count": null,
   "id": "3863f37a-2f53-429e-b6d9-9de18acbfbac",
   "metadata": {},
   "outputs": [],
   "source": [
    "with open(\"example.txt\", \"r\") as file:\n",
    "    content = file.read()\n",
    "    print(content)"
   ]
  },
  {
   "cell_type": "code",
   "execution_count": null,
   "id": "ae71bdee-eba4-46de-9bb3-6a88a0156fd2",
   "metadata": {},
   "outputs": [],
   "source": [
    "Output:\n",
    "\n",
    "Line 1: Hello\n",
    "Line 2: World\n",
    "Line 3: Python"
   ]
  },
  {
   "cell_type": "markdown",
   "id": "e0492755-963c-4b7a-ac4e-2f1f915fc6c4",
   "metadata": {},
   "source": [
    "***"
   ]
  },
  {
   "cell_type": "markdown",
   "id": "9e56901e-de70-49c6-8738-aee16b9130f6",
   "metadata": {},
   "source": [
    "### 88-6-2. readline( ) \n",
    "Reads one line at a time."
   ]
  },
  {
   "cell_type": "code",
   "execution_count": null,
   "id": "aa181993-a13b-4938-8301-89ea31c00bef",
   "metadata": {},
   "outputs": [],
   "source": [
    "with open(\"example.txt\", \"r\") as file:\n",
    "    line1 = file.readline()\n",
    "    line2 = file.readline()\n",
    "    print(\"First:\", line1.strip())\n",
    "    print(\"Second:\", line2.strip())"
   ]
  },
  {
   "cell_type": "code",
   "execution_count": null,
   "id": "2a1cf0cd-5043-47a3-8131-dcdc47e70a4c",
   "metadata": {},
   "outputs": [],
   "source": [
    "Output:\n",
    "\n",
    "First: Line 1: Hello\n",
    "Second: Line 2: World"
   ]
  },
  {
   "cell_type": "markdown",
   "id": "a2387f65-5dd8-4209-835c-a2e5911fdeee",
   "metadata": {},
   "source": [
    "**Note:** You can keep calling **.readline()** again and again to read the next line, until it returns an empty string (''), which means the end of file (EOF)."
   ]
  },
  {
   "cell_type": "markdown",
   "id": "4e23d53f-3f55-4216-b193-742608a4559b",
   "metadata": {},
   "source": [
    "***"
   ]
  },
  {
   "cell_type": "markdown",
   "id": "649e5a17-7bfa-4e2b-8558-a98745acd001",
   "metadata": {},
   "source": [
    "### 88-6-3. readlines( ) \n",
    "Reads all lines into a list."
   ]
  },
  {
   "cell_type": "code",
   "execution_count": null,
   "id": "4b76769e-06ec-4b24-b2b5-4f7fb95dc85c",
   "metadata": {},
   "outputs": [],
   "source": [
    "with open(\"example.txt\", \"r\") as file:\n",
    "    lines = file.readlines()\n",
    "    print(lines)  "
   ]
  },
  {
   "cell_type": "code",
   "execution_count": null,
   "id": "232db98f-536b-43f2-8380-87709b671636",
   "metadata": {},
   "outputs": [],
   "source": [
    "Output:\n",
    "\n",
    "['Line 1: Hello\\n', 'Line 2: World\\n', 'Line 3: Python\\n']"
   ]
  },
  {
   "cell_type": "markdown",
   "id": "e6eea806-8bc2-48fb-b217-1caf8e354036",
   "metadata": {},
   "source": [
    "***"
   ]
  },
  {
   "cell_type": "markdown",
   "id": "03d1fc4e-5b75-444a-9a94-237f2b24a7d1",
   "metadata": {},
   "source": [
    "# 89. Searching in Files"
   ]
  },
  {
   "cell_type": "markdown",
   "id": "6fdac7fe-56b1-4a94-b028-16d9b987e86e",
   "metadata": {},
   "source": [
    "## 89-1. Basic Search"
   ]
  },
  {
   "cell_type": "code",
   "execution_count": null,
   "id": "539a4991-b202-4345-bcfa-9fd0fb7944f2",
   "metadata": {},
   "outputs": [],
   "source": [
    "search_term = 'error'\n",
    "with open('log.txt', 'r') as file:\n",
    "    for line_number, line in enumerate(file, 1):\n",
    "        if search_term in line:\n",
    "            print(f\"Found '{search_term}' at line {line_number}: {line.strip()}\")"
   ]
  },
  {
   "cell_type": "markdown",
   "id": "03ee5a2a-661e-4913-8706-6019da1f15ba",
   "metadata": {},
   "source": [
    "***"
   ]
  },
  {
   "cell_type": "markdown",
   "id": "857793e4-c243-4747-85c7-beb16637a9f2",
   "metadata": {},
   "source": [
    "## 89-2. Regular Expression Search"
   ]
  },
  {
   "cell_type": "code",
   "execution_count": null,
   "id": "bb6ad205-81c1-4ff3-a232-b58f880b71f0",
   "metadata": {},
   "outputs": [],
   "source": [
    "import re\n",
    "\n",
    "pattern = re.compile(r'\\b\\d{3}-\\d{2}-\\d{4}\\b')  # Social security number pattern\n",
    "with open('data.txt', 'r') as file:\n",
    "    for line in file:\n",
    "        if pattern.search(line):\n",
    "            print(\"Found SSN:\", line.strip()) "
   ]
  },
  {
   "cell_type": "markdown",
   "id": "241c62cd-b2ba-436d-926d-9ba59779cc16",
   "metadata": {},
   "source": [
    "***"
   ]
  },
  {
   "cell_type": "markdown",
   "id": "b86236a7-b5c6-411e-a1ba-1ee4aeb9e5ae",
   "metadata": {},
   "source": [
    "# 90. Regular expression\n",
    "Regular expressions (regex) are powerful tools for pattern matching and text manipulation in Python. They allow you to search, extract, and modify text based on patterns rather than exact matches.\n",
    "Python exposes this through the built-in module **re**."
   ]
  },
  {
   "cell_type": "markdown",
   "id": "eddd2652-22da-4f52-a1b5-3f5489642585",
   "metadata": {},
   "source": [
    "***"
   ]
  },
  {
   "cell_type": "markdown",
   "id": "0074858f-8cee-484a-9fae-599cedcac12a",
   "metadata": {},
   "source": [
    "# 91. Common Regex Methods"
   ]
  },
  {
   "cell_type": "markdown",
   "id": "edae4fdf-c875-4751-b949-fc1774c48ca7",
   "metadata": {},
   "source": [
    "## 91-1. re.search( )\n",
    "Finds the first match of a pattern in a string."
   ]
  },
  {
   "cell_type": "code",
   "execution_count": null,
   "id": "392ce6b8-9106-44da-9f2a-d1306f9570a8",
   "metadata": {},
   "outputs": [],
   "source": [
    "import re\n",
    "\n",
    "match = re.search(r'pattern', 'string to search')\n",
    "if match:\n",
    "    print(\"Found:\", match.group())"
   ]
  },
  {
   "cell_type": "markdown",
   "id": "ebbd1125-c57f-40d6-960d-d2ad2259509e",
   "metadata": {},
   "source": [
    "***"
   ]
  },
  {
   "cell_type": "markdown",
   "id": "b12440b6-f7c9-4431-b650-7dc9348ff2a3",
   "metadata": {},
   "source": [
    "## 91-2. re.match( )\n",
    "Checks if the pattern matches at the beginning of the string."
   ]
  },
  {
   "cell_type": "code",
   "execution_count": null,
   "id": "8341b829-85ba-48de-a75c-eae75668ca0d",
   "metadata": {},
   "outputs": [],
   "source": [
    "match = re.match(r'pattern', 'string to check')"
   ]
  },
  {
   "cell_type": "markdown",
   "id": "47e08b41-3c4e-4436-901e-daff704fb1ca",
   "metadata": {},
   "source": [
    "***"
   ]
  },
  {
   "cell_type": "markdown",
   "id": "227be190-f96d-4406-8c5f-1830cae0203d",
   "metadata": {},
   "source": [
    "## 91-3. re.findall()\n",
    "Returns all non-overlapping matches as a list."
   ]
  },
  {
   "cell_type": "code",
   "execution_count": null,
   "id": "ae496f70-6098-4cb4-81eb-212d7fd14cba",
   "metadata": {},
   "outputs": [],
   "source": [
    "matches = re.findall(r'\\d+', 'Find 123 all 456 numbers')"
   ]
  },
  {
   "cell_type": "markdown",
   "id": "a66d3498-4ff9-4279-9a32-9cf948f6e156",
   "metadata": {},
   "source": [
    "***"
   ]
  },
  {
   "cell_type": "markdown",
   "id": "50cd22a8-8a28-40a8-afaa-d920080035db",
   "metadata": {},
   "source": [
    "## 91-4. re.sub( )\n",
    "Replaces matches with replacement text."
   ]
  },
  {
   "cell_type": "code",
   "execution_count": null,
   "id": "eafdd6c4-5c2a-4fd4-9bf6-77b06c331cad",
   "metadata": {},
   "outputs": [],
   "source": [
    "new_text = re.sub(r'\\d+', 'X', 'Replace 123 and 456')"
   ]
  },
  {
   "cell_type": "markdown",
   "id": "a3f32674-813c-4dc7-bad0-9411f85b55ec",
   "metadata": {},
   "source": [
    "***"
   ]
  },
  {
   "cell_type": "markdown",
   "id": "d239abed-f119-4c70-a755-ba71855ba3fd",
   "metadata": {},
   "source": [
    "## 91-5. re.split( )\n",
    "Splits string by occurrences of pattern."
   ]
  },
  {
   "cell_type": "code",
   "execution_count": null,
   "id": "148462d7-88f8-45fc-9287-d5b998323252",
   "metadata": {},
   "outputs": [],
   "source": [
    "parts = re.split(r'\\s+', 'Split   by   whitespace')"
   ]
  },
  {
   "cell_type": "markdown",
   "id": "147d52be-d853-451b-8873-7ec093efa01b",
   "metadata": {},
   "source": [
    "***"
   ]
  },
  {
   "cell_type": "markdown",
   "id": "305e7b1d-ebfc-48ed-81a8-2a0caf4a7fae",
   "metadata": {},
   "source": [
    "# 92. Some Examples:"
   ]
  },
  {
   "cell_type": "markdown",
   "id": "0671ec14-2081-4929-a6be-b604c5d8ede8",
   "metadata": {},
   "source": [
    "### Checking Email Validity."
   ]
  },
  {
   "cell_type": "code",
   "execution_count": 2,
   "id": "a99d5804-95dd-4574-9458-18e545e83d74",
   "metadata": {},
   "outputs": [
    {
     "name": "stdout",
     "output_type": "stream",
     "text": [
      "Valid email\n"
     ]
    }
   ],
   "source": [
    "import re\n",
    "\n",
    "pattern = r'^[a-zA-Z0-9._%+-]+@[a-zA-Z0-9.-]+\\.[a-zA-Z]{2,}$'\n",
    "if re.match(pattern, 'example@email.com'):\n",
    "    print(\"Valid email\")"
   ]
  },
  {
   "cell_type": "markdown",
   "id": "b2808522-35cb-4a13-9559-5872b5174548",
   "metadata": {},
   "source": [
    "### Extracting phone numbers"
   ]
  },
  {
   "cell_type": "code",
   "execution_count": 4,
   "id": "42117eef-5b72-45b3-8ae0-3d34be60f4d4",
   "metadata": {},
   "outputs": [
    {
     "data": {
      "text/plain": [
       "['123-456-7890', '(987) 654-3210']"
      ]
     },
     "execution_count": 4,
     "metadata": {},
     "output_type": "execute_result"
    }
   ],
   "source": [
    "import re\n",
    "\n",
    "text = \"Call me at 123-456-7890 or (987) 654-3210\"\n",
    "phones = re.findall(r'\\(?\\d{3}\\)?[-.\\s]?\\d{3}[-.\\s]?\\d{4}', text)\n",
    "phones"
   ]
  },
  {
   "cell_type": "markdown",
   "id": "0aaca1ec-4c6a-4166-bf92-7146250693dc",
   "metadata": {},
   "source": [
    "### Finding words"
   ]
  },
  {
   "cell_type": "code",
   "execution_count": 5,
   "id": "a0b7c6a7-5031-4755-ae7f-1f2e09d0bff2",
   "metadata": {},
   "outputs": [
    {
     "data": {
      "text/plain": [
       "['Find', 'words', 'with', 'four', 'more', 'letters']"
      ]
     },
     "execution_count": 5,
     "metadata": {},
     "output_type": "execute_result"
    }
   ],
   "source": [
    "words = re.findall(r'\\b\\w{4,}\\b', 'Find all words with four or more letters')\n",
    "words"
   ]
  },
  {
   "cell_type": "markdown",
   "id": "fef3e0a3-0e55-460f-a4fa-cb4a88731e8f",
   "metadata": {},
   "source": [
    "***"
   ]
  },
  {
   "cell_type": "markdown",
   "id": "10e6165d-7181-4f39-9703-37e3c8ccab3c",
   "metadata": {},
   "source": [
    "***"
   ]
  },
  {
   "cell_type": "markdown",
   "id": "b40206fb-6731-46dc-9302-0b9bc348b89b",
   "metadata": {},
   "source": [
    "# Some Excercises"
   ]
  },
  {
   "cell_type": "markdown",
   "id": "088d38a8-866c-48a9-a9b5-40df9d99ae4b",
   "metadata": {},
   "source": [
    "**1.** Create a new file named **students.txt**.\n",
    "\n",
    "Write the following names into the file, each on a new line:"
   ]
  },
  {
   "cell_type": "raw",
   "id": "a3ebf62c-ff7e-4cb3-9028-17995716f6cc",
   "metadata": {},
   "source": [
    "Alice\n",
    "Bob\n",
    "Charlie\n",
    "David\n",
    "Eve"
   ]
  },
  {
   "cell_type": "markdown",
   "id": "d0290fc1-b478-455b-91d7-c5ae6df836c8",
   "metadata": {},
   "source": [
    "Ensure the file is properly closed after writing."
   ]
  },
  {
   "cell_type": "markdown",
   "id": "b486b7b8-307c-4eb7-8c14-a1dd72eb2e46",
   "metadata": {},
   "source": [
    "___"
   ]
  },
  {
   "cell_type": "markdown",
   "id": "5c32b073-bab0-451e-8fd7-a294020f71c6",
   "metadata": {},
   "source": [
    "**2.** Open students.txt (from Exercise 1) in read mode.\n",
    "\n",
    "Read and print each line one by one.\n",
    "\n",
    "Count and print the total number of students."
   ]
  },
  {
   "cell_type": "markdown",
   "id": "489da9fe-be18-487a-bcc7-e5d6672698ba",
   "metadata": {},
   "source": [
    "---"
   ]
  },
  {
   "cell_type": "markdown",
   "id": "bf117f39-fa94-453e-bca9-2ccd7b507496",
   "metadata": {},
   "source": [
    "**3.** Open students.txt in append mode.\n",
    "\n",
    "Add two more names: Frank and Grace.\n",
    "\n",
    "Read the file again and print all names to verify the changes."
   ]
  },
  {
   "cell_type": "markdown",
   "id": "02e59887-780b-4321-9382-ef4c85ec9684",
   "metadata": {},
   "source": [
    "---"
   ]
  },
  {
   "cell_type": "markdown",
   "id": "1b32e2d5-3ed7-4865-b63e-21c5cc156f67",
   "metadata": {},
   "source": [
    "**4.**  Open students.txt and search for a name entered by the user.\n",
    "\n",
    "Print whether the name exists in the file or not.\n",
    "\n",
    "(If the name is not found, print: Name not found.)"
   ]
  },
  {
   "cell_type": "markdown",
   "id": "8dcb22a4-aff7-4377-b09a-a39fa4a3b2a7",
   "metadata": {},
   "source": [
    "***"
   ]
  },
  {
   "cell_type": "markdown",
   "id": "17511368-bcb2-4413-87ab-450ca9a64ff2",
   "metadata": {},
   "source": [
    "**5.** Read the entire content of students.txt using read().\n",
    "\n",
    "Split the content into a list of names.\n",
    "\n",
    "Print the list in reverse order."
   ]
  },
  {
   "cell_type": "markdown",
   "id": "af3414ed-8ba7-485b-954f-69bb05f37262",
   "metadata": {},
   "source": [
    "***"
   ]
  },
  {
   "cell_type": "markdown",
   "id": "8f5ff722-c584-476e-82c7-c99d48dcae2a",
   "metadata": {},
   "source": [
    "**6.** Given a string:\n",
    "\n",
    "text = \"Contact emails: alice@example.com, bob123@gmail.com, charlie.doe@yahoo.com\"\n",
    "\n",
    "Use regex to extract all email addresses.\n",
    "\n",
    "Print the extracted emails."
   ]
  },
  {
   "cell_type": "markdown",
   "id": "2257cad9-b203-4fcf-bd40-26e519626647",
   "metadata": {},
   "source": [
    "***"
   ]
  },
  {
   "cell_type": "markdown",
   "id": "18a3029c-0bac-4193-a5c0-cff1c5cc1cfa",
   "metadata": {},
   "source": [
    "**7.** Given a string:\n",
    "\n",
    "text = \"Order #1234, Price $50.99, Date: 2023-10-05\"\n",
    "\n",
    "Use re.sub() to replace all digits with X.\n",
    "\n",
    "Use re.findall() to extract all words starting with a capital letter."
   ]
  },
  {
   "cell_type": "markdown",
   "id": "4b9cae2d-e35a-49a6-8e8b-cf96f638ddd0",
   "metadata": {},
   "source": [
    "***"
   ]
  },
  {
   "cell_type": "markdown",
   "id": "1eb0bcb5-401a-4e8f-9c0c-937e8d7d75ab",
   "metadata": {},
   "source": [
    "**8.** Open students.txt and use regex to find all names that:\n",
    "\n",
    "Start with a vowel (A, E, I, O, U).\n",
    "\n",
    "Have exactly 5 letters.\n",
    "\n",
    "Print the matching names."
   ]
  },
  {
   "cell_type": "markdown",
   "id": "4b44a03c-0a15-4f3c-9f49-bb63dace2184",
   "metadata": {},
   "source": [
    "***"
   ]
  },
  {
   "cell_type": "markdown",
   "id": "7cc97f26-cf68-4d50-82a1-ae7dcdfa95ac",
   "metadata": {},
   "source": [
    "#                                                        🌞 https://github.com/AI-Planet 🌞"
   ]
  }
 ],
 "metadata": {
  "kernelspec": {
   "display_name": "Python 3 (ipykernel)",
   "language": "python",
   "name": "python3"
  },
  "language_info": {
   "codemirror_mode": {
    "name": "ipython",
    "version": 3
   },
   "file_extension": ".py",
   "mimetype": "text/x-python",
   "name": "python",
   "nbconvert_exporter": "python",
   "pygments_lexer": "ipython3",
   "version": "3.9.12"
  }
 },
 "nbformat": 4,
 "nbformat_minor": 5
}
