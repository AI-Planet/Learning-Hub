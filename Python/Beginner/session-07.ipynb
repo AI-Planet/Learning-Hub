{
 "cells": [
  {
   "cell_type": "markdown",
   "id": "355b5f03-d2a5-4aa3-a77c-776ccfcb35d5",
   "metadata": {},
   "source": [
    "# Session 7 🐍"
   ]
  },
  {
   "cell_type": "markdown",
   "id": "45efc9ec-fb9c-458c-b1de-d961145e8449",
   "metadata": {},
   "source": [
    "☀️☀️☀️☀️☀️☀️☀️☀️☀️☀️☀️☀️☀️☀️☀️☀️☀️☀️☀️☀️☀️☀️☀️☀️☀️☀️☀️☀️☀️☀️☀️☀️☀️☀️☀️☀️☀️☀️☀️☀️☀️☀️☀️☀️☀️"
   ]
  },
  {
   "cell_type": "markdown",
   "id": "2c7a6ce5-4cd2-45cd-a3b8-9ac277170654",
   "metadata": {},
   "source": [
    "***"
   ]
  },
  {
   "cell_type": "markdown",
   "id": "f47542a8-416d-4a3f-8c9d-99781dc53bd8",
   "metadata": {},
   "source": [
    "# 31. For Loop "
   ]
  },
  {
   "cell_type": "markdown",
   "id": "ec8eb8f0-015c-4bcb-a70c-88b7c9efd906",
   "metadata": {},
   "source": [
    "A **for** loop is typically used when:\n",
    "- You want to iterate over a sequence (list, tuple, string, dictionary, etc.) or any iterable object.\n",
    "- The number of iterations is determined by the length of the sequence, not necessarily known beforehand (unless the sequence itself is fixed in size).\n",
    "- It is **not** strictly dependent on a dynamic condition (unlike while loops)."
   ]
  },
  {
   "cell_type": "markdown",
   "id": "a35384c2-ea49-4613-b074-ef3b571f756e",
   "metadata": {},
   "source": [
    "***"
   ]
  },
  {
   "cell_type": "markdown",
   "id": "878d62da-f7c1-4faf-a77a-b971f01fa9cc",
   "metadata": {},
   "source": [
    "# 32. Basic Syntax"
   ]
  },
  {
   "cell_type": "raw",
   "id": "0108a49f-9d5a-44c2-be68-b122a9b6f6b5",
   "metadata": {},
   "source": [
    "for item in sequence:\n",
    "    # code to execute for each item"
   ]
  },
  {
   "cell_type": "markdown",
   "id": "e317aa0d-8565-43c1-9eee-43a75935da19",
   "metadata": {},
   "source": [
    "The flow of execution for a **for** loop is as follows:\n",
    "- The loop takes each item in the sequence one by one\n",
    "- Assigns the current item to the loop variable (in the example above, item)\n",
    "- Executes the code block for that item\n",
    "- Moves to the next item in the sequence\n",
    "- The loop ends when there are no more items in the sequence"
   ]
  },
  {
   "cell_type": "markdown",
   "id": "0382a403-d2c7-4fcf-813d-8ddfb2aa99a6",
   "metadata": {},
   "source": [
    "***"
   ]
  },
  {
   "cell_type": "markdown",
   "id": "4232144c-203f-4875-b483-9930f0d4fc4c",
   "metadata": {},
   "source": [
    "## 32-1. Looping through a list"
   ]
  },
  {
   "cell_type": "code",
   "execution_count": 1,
   "id": "f140379b-810f-47ec-86dd-00fabd15ffc1",
   "metadata": {},
   "outputs": [
    {
     "name": "stdout",
     "output_type": "stream",
     "text": [
      "apple\n",
      "banana\n",
      "cherry\n"
     ]
    }
   ],
   "source": [
    "fruits = [\"apple\", \"banana\", \"cherry\"]\n",
    "for fruit in fruits:\n",
    "    print(fruit)"
   ]
  },
  {
   "cell_type": "markdown",
   "id": "8fa357e2-70b0-43cf-8c93-1cf3d75237ea",
   "metadata": {},
   "source": [
    "***"
   ]
  },
  {
   "cell_type": "markdown",
   "id": "e67a11e2-d118-4289-8a94-f452154a853f",
   "metadata": {},
   "source": [
    "## 32-2. Looping through a string"
   ]
  },
  {
   "cell_type": "code",
   "execution_count": 2,
   "id": "2599b3d4-51be-44ce-b820-bc9a2d15be95",
   "metadata": {},
   "outputs": [
    {
     "name": "stdout",
     "output_type": "stream",
     "text": [
      "H\n",
      "e\n",
      "l\n",
      "l\n",
      "o\n"
     ]
    }
   ],
   "source": [
    "for char in \"Hello\":\n",
    "    print(char)"
   ]
  },
  {
   "cell_type": "markdown",
   "id": "69ba303a-ac1a-4e9b-b45d-f504080a4f2a",
   "metadata": {},
   "source": [
    "***"
   ]
  },
  {
   "cell_type": "markdown",
   "id": "7f5802b9-2e40-4688-ba1f-01ea774c1208",
   "metadata": {},
   "source": [
    "# 33. Using the range() function"
   ]
  },
  {
   "cell_type": "markdown",
   "id": "cdf6ee30-c21d-4fcf-8810-1a518935907f",
   "metadata": {},
   "source": [
    "## 33-1. The range() Function in Python\n",
    "The **range()** function is a built-in Python function that generates a sequence of numbers. It's commonly used in for loops to iterate a specific number of times."
   ]
  },
  {
   "cell_type": "markdown",
   "id": "5944a45d-faf3-4ba3-a22a-841737293e95",
   "metadata": {},
   "source": [
    "**Basic Syntax**"
   ]
  },
  {
   "cell_type": "raw",
   "id": "6c89b827-4609-44f5-87c8-412fa466588d",
   "metadata": {},
   "source": [
    "range(stop)\n",
    "range(start, stop)\n",
    "range(start, stop, step)"
   ]
  },
  {
   "cell_type": "markdown",
   "id": "c0d63877-7c27-4cab-9e0c-689d19dd8ce5",
   "metadata": {},
   "source": [
    "**Parameters**\n",
    "- start (optional): Starting number of the sequence (default is 0)\n",
    "- stop: The sequence stops before this number (exclusive)\n",
    "- step (optional): The difference between each number (default is 1)"
   ]
  },
  {
   "cell_type": "markdown",
   "id": "71d980d2-0acb-44bc-85f8-39dfb52fad9f",
   "metadata": {},
   "source": [
    "***"
   ]
  },
  {
   "cell_type": "markdown",
   "id": "7a708f29-8dc4-4dff-909a-7843785e74b8",
   "metadata": {},
   "source": [
    "**Basic range (0 to stop-1)**"
   ]
  },
  {
   "cell_type": "code",
   "execution_count": 6,
   "id": "30388331-7a92-4675-b2c2-7efc71438af1",
   "metadata": {},
   "outputs": [
    {
     "name": "stdout",
     "output_type": "stream",
     "text": [
      "0\n",
      "1\n",
      "2\n",
      "3\n",
      "4\n"
     ]
    }
   ],
   "source": [
    "for i in range(5):   \n",
    "    print(i)"
   ]
  },
  {
   "cell_type": "markdown",
   "id": "1c26ff1c-9f2c-4419-b268-66fb24cc2abe",
   "metadata": {},
   "source": [
    "**Specifying start and stop**"
   ]
  },
  {
   "cell_type": "code",
   "execution_count": 7,
   "id": "1fa72918-04aa-44c1-adb9-ee26fa123e2c",
   "metadata": {},
   "outputs": [
    {
     "name": "stdout",
     "output_type": "stream",
     "text": [
      "2\n",
      "3\n",
      "4\n",
      "5\n"
     ]
    }
   ],
   "source": [
    "for i in range(2, 6):\n",
    "    print(i)   "
   ]
  },
  {
   "cell_type": "markdown",
   "id": "55be25cd-1b9e-4906-b0f0-6b0d14bf1712",
   "metadata": {},
   "source": [
    "**Using a step value**"
   ]
  },
  {
   "cell_type": "code",
   "execution_count": 8,
   "id": "a42f166a-75e0-4327-9de4-26efe6f05fe5",
   "metadata": {},
   "outputs": [
    {
     "name": "stdout",
     "output_type": "stream",
     "text": [
      "0\n",
      "2\n",
      "4\n",
      "6\n",
      "8\n"
     ]
    }
   ],
   "source": [
    "for i in range(0, 10, 2):\n",
    "    print(i)   "
   ]
  },
  {
   "cell_type": "markdown",
   "id": "d129d551-108f-4d8b-99c2-c625d73f4274",
   "metadata": {},
   "source": [
    "**Negative step (counting down)**"
   ]
  },
  {
   "cell_type": "code",
   "execution_count": 10,
   "id": "ac46765e-ce3a-4a79-9e5e-56c8724c22d4",
   "metadata": {},
   "outputs": [
    {
     "name": "stdout",
     "output_type": "stream",
     "text": [
      "5\n",
      "4\n",
      "3\n",
      "2\n",
      "1\n"
     ]
    }
   ],
   "source": [
    "for i in range(5, 0, -1):\n",
    "    print(i)   "
   ]
  },
  {
   "cell_type": "markdown",
   "id": "c8e6b6a5-550a-4979-b891-faa49c27961b",
   "metadata": {},
   "source": [
    "**Converting range to a list**"
   ]
  },
  {
   "cell_type": "code",
   "execution_count": 12,
   "id": "c8cd0619-68ee-4fd8-b370-aa8647a72d51",
   "metadata": {},
   "outputs": [
    {
     "name": "stdout",
     "output_type": "stream",
     "text": [
      "[1, 3, 5, 7]\n"
     ]
    }
   ],
   "source": [
    "numbers = list(range(1, 8, 2))\n",
    "print(numbers)   "
   ]
  },
  {
   "cell_type": "markdown",
   "id": "19754f3a-7ba7-4c89-be60-eff54164d6c9",
   "metadata": {},
   "source": [
    "**Accessing list elements by index**"
   ]
  },
  {
   "cell_type": "code",
   "execution_count": 13,
   "id": "833e3bdd-405d-4465-882b-a3870bbec8c4",
   "metadata": {},
   "outputs": [
    {
     "name": "stdout",
     "output_type": "stream",
     "text": [
      "0 apple\n",
      "1 banana\n",
      "2 cherry\n"
     ]
    }
   ],
   "source": [
    "fruits = ['apple', 'banana', 'cherry']\n",
    "for i in range(len(fruits)):\n",
    "    print(i, fruits[i])"
   ]
  },
  {
   "cell_type": "markdown",
   "id": "ec69dc05-ba37-44b0-8fa2-81450d6f23c7",
   "metadata": {},
   "source": [
    "***"
   ]
  },
  {
   "cell_type": "markdown",
   "id": "c99c167d-a677-4552-b6a9-984133ebda0b",
   "metadata": {},
   "source": [
    "# 34. Can a for Loop Depend on a Dynamic Condition?\n",
    "Yes, but indirectly (e.g., using range() with a variable):"
   ]
  },
  {
   "cell_type": "code",
   "execution_count": 4,
   "id": "c2f30019-0f85-4e67-91b6-f99479056f25",
   "metadata": {},
   "outputs": [
    {
     "name": "stdin",
     "output_type": "stream",
     "text": [
      "Enter a number:  5\n"
     ]
    },
    {
     "name": "stdout",
     "output_type": "stream",
     "text": [
      "0\n",
      "1\n",
      "2\n",
      "3\n",
      "4\n"
     ]
    }
   ],
   "source": [
    "n = int(input(\"Enter a number: \"))  # Dynamic value\n",
    "for i in range(n):  # Runs 'n' times\n",
    "    print(i)"
   ]
  },
  {
   "cell_type": "markdown",
   "id": "640163bb-fa3a-46ba-b745-5397096c4c6b",
   "metadata": {},
   "source": [
    "***"
   ]
  },
  {
   "cell_type": "markdown",
   "id": "e0a0febe-768d-478e-8a85-d06412868bc2",
   "metadata": {},
   "source": [
    "# 35. Looping with index and value (using enumerate)"
   ]
  },
  {
   "cell_type": "code",
   "execution_count": 14,
   "id": "68e2d084-5126-40c5-8159-82551fe2ec72",
   "metadata": {},
   "outputs": [
    {
     "name": "stdout",
     "output_type": "stream",
     "text": [
      "0 apple\n",
      "1 banana\n",
      "2 cherry\n"
     ]
    }
   ],
   "source": [
    "fruits = [\"apple\", \"banana\", \"cherry\"]\n",
    "for index, fruit in enumerate(fruits):\n",
    "    print(index, fruit)"
   ]
  },
  {
   "cell_type": "markdown",
   "id": "0d652817-3807-4f93-a3c7-18bf2a880484",
   "metadata": {},
   "source": [
    "***"
   ]
  },
  {
   "cell_type": "markdown",
   "id": "b7dca37d-96e3-47f8-bc75-c0b47f0f71d5",
   "metadata": {},
   "source": [
    "# 36. Looping through a dictionary"
   ]
  },
  {
   "cell_type": "code",
   "execution_count": 15,
   "id": "8f03c3fe-c4f3-4d32-aecc-a42c807ae4cf",
   "metadata": {},
   "outputs": [
    {
     "name": "stdout",
     "output_type": "stream",
     "text": [
      "name : John\n",
      "age : 30\n",
      "city : New York\n"
     ]
    }
   ],
   "source": [
    "person = {\"name\": \"John\", \"age\": 30, \"city\": \"New York\"}\n",
    "for key, value in person.items():\n",
    "    print(key, \":\", value)"
   ]
  },
  {
   "cell_type": "markdown",
   "id": "13e5e40f-7a70-415b-8556-53569387d3d2",
   "metadata": {},
   "source": [
    "***"
   ]
  },
  {
   "cell_type": "markdown",
   "id": "9f0748c2-be15-4a36-8af5-9a9a82081f69",
   "metadata": {},
   "source": [
    "# 37. Control Statements with for loops\n",
    "**break:** Exit the loop completely\n",
    "\n",
    "**continue:** Skip the current iteration\n",
    "\n",
    "**else:** Execute code when the loop finishes normally (without a break)"
   ]
  },
  {
   "cell_type": "markdown",
   "id": "95a262c9-6396-411b-a3d9-94022b6b88a4",
   "metadata": {},
   "source": [
    "***"
   ]
  },
  {
   "cell_type": "code",
   "execution_count": 16,
   "id": "7dc8059a-13fb-4482-be29-8133c78a1ea9",
   "metadata": {},
   "outputs": [
    {
     "name": "stdout",
     "output_type": "stream",
     "text": [
      "Checking 1...\n",
      "Checking 3...\n",
      "Checking 5...\n",
      "Checking 7...\n",
      "Found 7! Exiting loop.\n",
      "7 is in the list.\n"
     ]
    }
   ],
   "source": [
    "numbers = [1, 3, 5, 7, 9, 11, 13]\n",
    "\n",
    "search_num = 7\n",
    "found = False\n",
    "\n",
    "for num in numbers:\n",
    "    print(f\"Checking {num}...\")\n",
    "    if num == search_num:\n",
    "        found = True\n",
    "        print(f\"Found {search_num}! Exiting loop.\")\n",
    "        break  # Exit the loop immediately\n",
    "\n",
    "if found:\n",
    "    print(f\"{search_num} is in the list.\")\n",
    "else:\n",
    "    print(f\"{search_num} is not in the list.\")"
   ]
  },
  {
   "cell_type": "markdown",
   "id": "c5d93d90-0f43-4500-8bad-6004a108dd18",
   "metadata": {},
   "source": [
    "***"
   ]
  },
  {
   "cell_type": "code",
   "execution_count": 17,
   "id": "ead2c53c-b8e1-4406-8952-5dacc2a61b05",
   "metadata": {},
   "outputs": [
    {
     "name": "stdout",
     "output_type": "stream",
     "text": [
      "1\n",
      "3\n",
      "5\n",
      "7\n",
      "9\n"
     ]
    }
   ],
   "source": [
    "for num in range(1, 10):   \n",
    "    if num % 2 == 0:   \n",
    "        continue      \n",
    "    print(num)         "
   ]
  },
  {
   "cell_type": "markdown",
   "id": "cc712709-749c-49d1-8964-3b3570bf52f4",
   "metadata": {},
   "source": [
    "***"
   ]
  },
  {
   "cell_type": "code",
   "execution_count": 24,
   "id": "8950e7a7-e81c-40d4-9d90-03ae4f4f5724",
   "metadata": {},
   "outputs": [
    {
     "name": "stdout",
     "output_type": "stream",
     "text": [
      "All numbers are even!\n"
     ]
    }
   ],
   "source": [
    "numbers = [2, 4, 6, 8, 10]\n",
    "all_even = True  \n",
    "\n",
    "for num in numbers:\n",
    "    if num % 2 != 0:\n",
    "        all_even = False  \n",
    "\n",
    "else:  # This else block runs after the loop finishes\n",
    "    if all_even:\n",
    "        print(\"All numbers are even!\")\n",
    "    else:\n",
    "        print(\"At least one odd number found.\")"
   ]
  },
  {
   "cell_type": "markdown",
   "id": "844d02aa-8469-4087-a354-23cb8ff034ea",
   "metadata": {},
   "source": [
    "***"
   ]
  },
  {
   "cell_type": "markdown",
   "id": "355cbb46-e85d-481b-93c5-a40d8dda1bc1",
   "metadata": {},
   "source": [
    "# 38. Comparison with while Loop\n",
    "\n",
    "|Feature|\tfor Loop|\twhile Loop|\n",
    "|-------|-----------|-------------|\n",
    "|Iteration Control|\tIterates over a sequence|\tRuns until a condition is False|\n",
    "|Number of Iterations|\tDepends on the length of the iterable|\tCan be unknown (depends on dynamic condition)|\n",
    "|Termination|\tAutomatically stops after the sequence ends|\tRequires explicit condition to stop (or break)\n",
    "|Use Case|\tBest for iterating over collections|\tBest for looping until a condition changes|\n"
   ]
  },
  {
   "cell_type": "markdown",
   "id": "f2167106-abbc-4134-bccc-ffcfcfcb44bb",
   "metadata": {},
   "source": [
    "***"
   ]
  },
  {
   "cell_type": "markdown",
   "id": "606f6b1d-8255-4438-9d10-67e85824993a",
   "metadata": {},
   "source": [
    "***"
   ]
  },
  {
   "cell_type": "markdown",
   "id": "b40206fb-6731-46dc-9302-0b9bc348b89b",
   "metadata": {},
   "source": [
    "# Some Excercises"
   ]
  },
  {
   "cell_type": "markdown",
   "id": "088d38a8-866c-48a9-a9b5-40df9d99ae4b",
   "metadata": {},
   "source": [
    "**1.** Write a program that prints numbers from 10 to 1 (descending order) using a for loop and the range() function."
   ]
  },
  {
   "cell_type": "markdown",
   "id": "b486b7b8-307c-4eb7-8c14-a1dd72eb2e46",
   "metadata": {},
   "source": [
    "___"
   ]
  },
  {
   "cell_type": "markdown",
   "id": "5c32b073-bab0-451e-8fd7-a294020f71c6",
   "metadata": {},
   "source": [
    "**2.** Use a for loop to calculate the sum of all even numbers between 1 and 50 (inclusive).\n",
    "\n",
    "**Bonus:** Solve it using a while loop and compare the two approaches."
   ]
  },
  {
   "cell_type": "markdown",
   "id": "489da9fe-be18-487a-bcc7-e5d6672698ba",
   "metadata": {},
   "source": [
    "---"
   ]
  },
  {
   "cell_type": "markdown",
   "id": "bf117f39-fa94-453e-bca9-2ccd7b507496",
   "metadata": {},
   "source": [
    "**3.** Write a program that:\n",
    "- Iterates through numbers 1 to 20.\n",
    "- Skips multiples of 3 (using continue).\n",
    "- Stops the loop if it encounters 15 (using break).\n",
    "- Prints numbers that meet neither condition."
   ]
  },
  {
   "cell_type": "markdown",
   "id": "02e59887-780b-4321-9382-ef4c85ec9684",
   "metadata": {},
   "source": [
    "---"
   ]
  },
  {
   "cell_type": "markdown",
   "id": "1b32e2d5-3ed7-4865-b63e-21c5cc156f67",
   "metadata": {},
   "source": [
    "**4.** Write a program that searches for the number 7 in a list [1, 5, 8, 3].\n",
    "- Use a for loop with an else clause to print \"7 not found\" if the loop completes without finding 7.\n",
    "- Modify the list to include 7 and observe the difference."
   ]
  },
  {
   "cell_type": "markdown",
   "id": "8dcb22a4-aff7-4377-b09a-a39fa4a3b2a7",
   "metadata": {},
   "source": [
    "***"
   ]
  },
  {
   "cell_type": "markdown",
   "id": "17511368-bcb2-4413-87ab-450ca9a64ff2",
   "metadata": {},
   "source": [
    "**5.** Print a 5x5 multiplication table using nested for loops.\n",
    "\n",
    "Example output (first few lines):"
   ]
  },
  {
   "cell_type": "raw",
   "id": "891a9d85-ad81-41b7-8851-2205637166ea",
   "metadata": {},
   "source": [
    "1  2  3  4  5  \n",
    "2  4  6  8 10  \n",
    "3  6  9 12 15  \n",
    "..."
   ]
  },
  {
   "cell_type": "markdown",
   "id": "af3414ed-8ba7-485b-954f-69bb05f37262",
   "metadata": {},
   "source": [
    "***"
   ]
  },
  {
   "cell_type": "markdown",
   "id": "7f9870ab-b5e8-420a-a827-89861412defc",
   "metadata": {},
   "source": [
    "**6.** Solve the same problem with both loops:\n",
    "- Task: Ask the user to enter numbers until they type \"stop\". Calculate the sum of all entered numbers.\n",
    "- Implement once with a while loop and once with a for loop (using iter() and a sentinel)."
   ]
  },
  {
   "cell_type": "markdown",
   "id": "1710666b-d6b6-41f9-bc4a-920604984ab3",
   "metadata": {},
   "source": [
    "***"
   ]
  },
  {
   "cell_type": "markdown",
   "id": "54eee1dc-9f0f-4b19-a2e6-d124829c4482",
   "metadata": {},
   "source": [
    "**7.** Simulate a login system:\n",
    "- Use a for loop to give the user 3 attempts to enter a correct password (\"python123\").\n",
    "- If correct, print \"Access granted\" and exit.\n",
    "- If all attempts fail, use the else clause to print \"Account locked\"."
   ]
  },
  {
   "cell_type": "markdown",
   "id": "c292f89e-e171-4779-9cd2-77486ff59653",
   "metadata": {},
   "source": [
    "***"
   ]
  },
  {
   "cell_type": "markdown",
   "id": "6007f526-4467-4578-9efd-6a14d5b6264d",
   "metadata": {},
   "source": [
    "**8.** Write a program that prints all odd numbers between 30 and 50 (inclusive) using range() with a step.\n",
    "\n",
    "**Bonus:** Solve without range() (e.g., using a while loop or conditional checks in a for loop)."
   ]
  },
  {
   "cell_type": "markdown",
   "id": "b41338ea-200a-4e1e-be46-7f52837ba730",
   "metadata": {},
   "source": [
    "***"
   ]
  },
  {
   "cell_type": "markdown",
   "id": "7cc97f26-cf68-4d50-82a1-ae7dcdfa95ac",
   "metadata": {},
   "source": [
    "#                                                        🌞 https://github.com/AI-Planet 🌞"
   ]
  }
 ],
 "metadata": {
  "kernelspec": {
   "display_name": "Python 3 (ipykernel)",
   "language": "python",
   "name": "python3"
  },
  "language_info": {
   "codemirror_mode": {
    "name": "ipython",
    "version": 3
   },
   "file_extension": ".py",
   "mimetype": "text/x-python",
   "name": "python",
   "nbconvert_exporter": "python",
   "pygments_lexer": "ipython3",
   "version": "3.9.12"
  }
 },
 "nbformat": 4,
 "nbformat_minor": 5
}
