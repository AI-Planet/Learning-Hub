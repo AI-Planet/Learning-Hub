{
 "cells": [
  {
   "cell_type": "markdown",
   "id": "355b5f03-d2a5-4aa3-a77c-776ccfcb35d5",
   "metadata": {},
   "source": [
    "# Session 8 🐍"
   ]
  },
  {
   "cell_type": "markdown",
   "id": "45efc9ec-fb9c-458c-b1de-d961145e8449",
   "metadata": {},
   "source": [
    "☀️☀️☀️☀️☀️☀️☀️☀️☀️☀️☀️☀️☀️☀️☀️☀️☀️☀️☀️☀️☀️☀️☀️☀️☀️☀️☀️☀️☀️☀️☀️☀️☀️☀️☀️☀️☀️☀️☀️☀️☀️☀️☀️☀️☀️"
   ]
  },
  {
   "cell_type": "markdown",
   "id": "2c7a6ce5-4cd2-45cd-a3b8-9ac277170654",
   "metadata": {},
   "source": [
    "***"
   ]
  },
  {
   "cell_type": "markdown",
   "id": "f47542a8-416d-4a3f-8c9d-99781dc53bd8",
   "metadata": {},
   "source": [
    "# 39. Encapsulation: The Lunchbox Principle \n",
    "In short it means: Keeping Things Together and Protected. Think of encapsulation like packing a lunchbox:\n",
    "- You put all your food items inside the box\n",
    "- You don't need to know exactly how the sandwich was made to eat it\n",
    "- You interact with it through simple actions (open, take food, close)"
   ]
  },
  {
   "cell_type": "code",
   "execution_count": 8,
   "id": "3d645f2d-ee48-47b0-bb1e-0fcfe8f71e68",
   "metadata": {},
   "outputs": [
    {
     "name": "stdout",
     "output_type": "stream",
     "text": [
      "1500\n",
      "1300\n"
     ]
    }
   ],
   "source": [
    "balance = 1000  \n",
    "\n",
    "def deposit(amount):\n",
    "    global balance\n",
    "    if amount > 0:\n",
    "        balance += amount\n",
    "\n",
    "def withdraw(amount):\n",
    "    global balance\n",
    "    if 0 < amount <= balance:\n",
    "        balance -= amount\n",
    "    return 0\n",
    "\n",
    "def get_balance():\n",
    "    return balance\n",
    "\n",
    "# Example Usage\n",
    "deposit(500)\n",
    "print(get_balance())  \n",
    "withdraw(200)\n",
    "print(get_balance())  "
   ]
  },
  {
   "cell_type": "markdown",
   "id": "d516f58d-fe78-4946-82e9-99e5102f64c8",
   "metadata": {},
   "source": [
    "As you can see in the example above:\n",
    "- The balance variable isn't accessed directly\n",
    "- We only use the functions to interact with it\n",
    "- The inner workings are protected"
   ]
  },
  {
   "cell_type": "markdown",
   "id": "a35384c2-ea49-4613-b074-ef3b571f756e",
   "metadata": {},
   "source": [
    "***"
   ]
  },
  {
   "cell_type": "code",
   "execution_count": 12,
   "id": "e5bdcb2d-4de5-4b24-a647-bfe781bb19a1",
   "metadata": {},
   "outputs": [
    {
     "name": "stdout",
     "output_type": "stream",
     "text": [
      "Starting health: 100\n",
      "After damage: 70\n",
      "After healing: 80\n"
     ]
    }
   ],
   "source": [
    "_health = 100  # The underscore hints \"don't touch this directly\"\n",
    "\n",
    "def get_health():\n",
    "    return _health\n",
    "\n",
    "def take_damage(amount):\n",
    "    global _health\n",
    "    if amount > 0:\n",
    "        _health -= amount\n",
    "        if _health < 0:\n",
    "            _health = 0  # Never goes below 0\n",
    "\n",
    "def heal(amount):\n",
    "    global _health\n",
    "    if amount > 0:\n",
    "        _health += amount\n",
    "        if _health > 100:\n",
    "            _health = 100  # Never goes above 100\n",
    "\n",
    "\n",
    "# Example Usage\n",
    "print(f\"Starting health: {get_health()}\")  \n",
    "\n",
    "take_damage(30)\n",
    "print(f\"After damage: {get_health()}\")  \n",
    "\n",
    "heal(10)\n",
    "print(f\"After healing: {get_health()}\")  "
   ]
  },
  {
   "cell_type": "markdown",
   "id": "dab2d71e-c0ab-4a4d-8737-8c2e2f300d12",
   "metadata": {},
   "source": [
    "This is good because:\n",
    "- Health can only be changed through specific functions.\n",
    "- We enforce health stays between 0-100\n",
    "- We have No accidental changes from other parts of code\n",
    "- Can change how health works later without breaking other code"
   ]
  },
  {
   "cell_type": "markdown",
   "id": "79d1bd34-b0a3-470d-b639-d63638f2f87c",
   "metadata": {},
   "source": [
    "***"
   ]
  },
  {
   "cell_type": "markdown",
   "id": "878d62da-f7c1-4faf-a77a-b971f01fa9cc",
   "metadata": {},
   "source": [
    "# 40. Generalization (Making Things Work for Many Cases)\n",
    "Generalization is like writing one recipe that works for many dishes:\n",
    "- Instead of separate recipes for \"chocolate cake\" and \"vanilla cake\", you make one \"basic cake\" recipe.\n",
    "- The basic recipe works for many variations."
   ]
  },
  {
   "cell_type": "code",
   "execution_count": 9,
   "id": "804b78f0-853e-494c-bec7-51edc6a6c330",
   "metadata": {},
   "outputs": [
    {
     "name": "stdout",
     "output_type": "stream",
     "text": [
      "Hello, Alice!\n",
      "Hello, Bob!\n"
     ]
    }
   ],
   "source": [
    "# Specific functions (not generalized)\n",
    "def greet_john():\n",
    "    print(\"Hello, John!\")\n",
    "\n",
    "def greet_sarah():\n",
    "    print(\"Hello, Sarah!\")\n",
    "\n",
    "# Generalized version\n",
    "def greet(name):\n",
    "    print(f\"Hello, {name}!\")\n",
    "\n",
    "# Now works for any name\n",
    "greet(\"Alice\")  \n",
    "greet(\"Bob\")    "
   ]
  },
  {
   "cell_type": "markdown",
   "id": "0382a403-d2c7-4fcf-813d-8ddfb2aa99a6",
   "metadata": {},
   "source": [
    "***"
   ]
  },
  {
   "cell_type": "code",
   "execution_count": 10,
   "id": "4a5fd16c-25c7-4abc-bfcc-7d89881a1c41",
   "metadata": {},
   "outputs": [
    {
     "name": "stdout",
     "output_type": "stream",
     "text": [
      "10\n",
      "15\n",
      "50\n"
     ]
    }
   ],
   "source": [
    "# Specific functions\n",
    "def double_number(x):\n",
    "    return x * 2\n",
    "\n",
    "def triple_number(x):\n",
    "    return x * 3\n",
    "\n",
    "# Generalized version\n",
    "def multiply_number(x, factor):\n",
    "    return x * factor\n",
    "\n",
    "# Now works for any multiplication\n",
    "print(multiply_number(5, 2))  \n",
    "print(multiply_number(5, 3))  \n",
    "print(multiply_number(5, 10))  "
   ]
  },
  {
   "cell_type": "markdown",
   "id": "d97443db-1f5f-4bd7-a4c8-41df2a565dc4",
   "metadata": {},
   "source": [
    "***"
   ]
  },
  {
   "cell_type": "markdown",
   "id": "4232144c-203f-4875-b483-9930f0d4fc4c",
   "metadata": {},
   "source": [
    "# 41. Strings \n",
    "A **string** in Python is a sequence of characters enclosed in quotes. It is an **immutable** (unchangeable) data type used to represent text. Python treats strings as sequences, meaning you can access individual characters using indexing."
   ]
  },
  {
   "cell_type": "code",
   "execution_count": 1,
   "id": "f140379b-810f-47ec-86dd-00fabd15ffc1",
   "metadata": {},
   "outputs": [
    {
     "name": "stdout",
     "output_type": "stream",
     "text": [
      "apple\n",
      "banana\n",
      "cherry\n"
     ]
    }
   ],
   "source": [
    "fruits = [\"apple\", \"banana\", \"cherry\"]\n",
    "for fruit in fruits:\n",
    "    print(fruit)"
   ]
  },
  {
   "cell_type": "markdown",
   "id": "8fa357e2-70b0-43cf-8c93-1cf3d75237ea",
   "metadata": {},
   "source": [
    "***"
   ]
  },
  {
   "cell_type": "markdown",
   "id": "e67a11e2-d118-4289-8a94-f452154a853f",
   "metadata": {},
   "source": [
    "## 41-1. Creating Strings\n",
    "Strings can be created using:\n",
    "- Single quotes ( ' ' )\n",
    "- Double quotes ( \" \" )\n",
    "- Triple quotes ( ''' ''' or \"\"\" \"\"\" ) for multi-line strings."
   ]
  },
  {
   "cell_type": "code",
   "execution_count": 14,
   "id": "2599b3d4-51be-44ce-b820-bc9a2d15be95",
   "metadata": {},
   "outputs": [],
   "source": [
    "str1 = 'Hello'          # Single quotes\n",
    "str2 = \"Python\"         # Double quotes\n",
    "str3 = '''This is a \n",
    "multi-line string'''    # Triple quotes (multi-line)\n",
    "str4 = \"\"\"Another\n",
    "multi-line string\"\"\""
   ]
  },
  {
   "cell_type": "markdown",
   "id": "69ba303a-ac1a-4e9b-b45d-f504080a4f2a",
   "metadata": {},
   "source": [
    "***"
   ]
  },
  {
   "cell_type": "markdown",
   "id": "7f5802b9-2e40-4688-ba1f-01ea774c1208",
   "metadata": {},
   "source": [
    "## 41-2. Accessing Characters in a String (Indexing)\n",
    "Strings are indexed, meaning each character has a position number (starting from 0). The value of the index, must be an integer. "
   ]
  },
  {
   "cell_type": "code",
   "execution_count": 15,
   "id": "43d86f6e-3c02-4273-9345-bb12cfd52ea2",
   "metadata": {},
   "outputs": [
    {
     "name": "stdout",
     "output_type": "stream",
     "text": [
      "P\n",
      "h\n",
      "n\n"
     ]
    }
   ],
   "source": [
    "text = \"Python\"\n",
    "print(text[0])    \n",
    "print(text[3])    \n",
    "print(text[-1])   "
   ]
  },
  {
   "cell_type": "markdown",
   "id": "9c10ee1a-f1b9-4aae-b324-593ffee68e33",
   "metadata": {},
   "source": [
    "***"
   ]
  },
  {
   "cell_type": "markdown",
   "id": "cdf6ee30-c21d-4fcf-8810-1a518935907f",
   "metadata": {},
   "source": [
    "## 41-3. Accessing Characters in a String (Slicing)\n",
    "Extract a substring using **[start:stop:step]**:"
   ]
  },
  {
   "cell_type": "code",
   "execution_count": 16,
   "id": "30388331-7a92-4675-b2c2-7efc71438af1",
   "metadata": {},
   "outputs": [
    {
     "name": "stdout",
     "output_type": "stream",
     "text": [
      "Python\n",
      "Programming\n",
      "Python\n",
      "Pto rgamn\n",
      "gnimmargorP nohtyP\n"
     ]
    }
   ],
   "source": [
    "text = \"Python Programming\"\n",
    "print(text[0:6])    # (from 0 to 5)\n",
    "print(text[7:])     # (from 7 to end)\n",
    "print(text[:6])     # (from start to 5)\n",
    "print(text[::2])    # (every 2nd character)\n",
    "print(text[::-1])   # (reverse)"
   ]
  },
  {
   "cell_type": "markdown",
   "id": "1c26ff1c-9f2c-4419-b268-66fb24cc2abe",
   "metadata": {},
   "source": [
    "***"
   ]
  },
  {
   "cell_type": "markdown",
   "id": "b10833a1-a33a-4eb6-a262-7c72fa6513cf",
   "metadata": {},
   "source": [
    "## 41-4. String Operations"
   ]
  },
  {
   "cell_type": "markdown",
   "id": "55be25cd-1b9e-4906-b0f0-6b0d14bf1712",
   "metadata": {},
   "source": [
    "### 41-4-1. Concatenation ( + )"
   ]
  },
  {
   "cell_type": "code",
   "execution_count": 19,
   "id": "a42f166a-75e0-4327-9de4-26efe6f05fe5",
   "metadata": {},
   "outputs": [
    {
     "name": "stdout",
     "output_type": "stream",
     "text": [
      "Hello World!\n"
     ]
    }
   ],
   "source": [
    "str1 = \"Hello\"\n",
    "str2 = \"World!\"\n",
    "result = str1 + \" \" + str2 \n",
    "print(result)"
   ]
  },
  {
   "cell_type": "markdown",
   "id": "2b503f35-a456-4c4b-bce9-b189986d907d",
   "metadata": {},
   "source": [
    "***"
   ]
  },
  {
   "cell_type": "markdown",
   "id": "d129d551-108f-4d8b-99c2-c625d73f4274",
   "metadata": {},
   "source": [
    "### 41-4-2. Repetition ( * )"
   ]
  },
  {
   "cell_type": "code",
   "execution_count": 20,
   "id": "ac46765e-ce3a-4a79-9e5e-56c8724c22d4",
   "metadata": {},
   "outputs": [
    {
     "name": "stdout",
     "output_type": "stream",
     "text": [
      "HiHiHi\n"
     ]
    }
   ],
   "source": [
    "text = \"Hi\"\n",
    "repeated = text * 3  \n",
    "print(repeated)"
   ]
  },
  {
   "cell_type": "markdown",
   "id": "c8e6b6a5-550a-4979-b891-faa49c27961b",
   "metadata": {},
   "source": [
    "***"
   ]
  },
  {
   "cell_type": "markdown",
   "id": "1d5d94ce-deed-4093-b0a3-51c20941d3e1",
   "metadata": {},
   "source": [
    "### 41-4-3. Membership (in & not in)\n",
    "Check if a substring exists:"
   ]
  },
  {
   "cell_type": "code",
   "execution_count": 21,
   "id": "833e3bdd-405d-4465-882b-a3870bbec8c4",
   "metadata": {},
   "outputs": [
    {
     "name": "stdout",
     "output_type": "stream",
     "text": [
      "True\n",
      "True\n"
     ]
    }
   ],
   "source": [
    "text = \"Python\"\n",
    "print(\"th\" in text)    \n",
    "print(\"java\" not in text)  "
   ]
  },
  {
   "cell_type": "markdown",
   "id": "ec69dc05-ba37-44b0-8fa2-81450d6f23c7",
   "metadata": {},
   "source": [
    "***"
   ]
  },
  {
   "cell_type": "markdown",
   "id": "c99c167d-a677-4552-b6a9-984133ebda0b",
   "metadata": {},
   "source": [
    "## 41-5. String Methods\n",
    "Python provides many built-in string methods:"
   ]
  },
  {
   "cell_type": "markdown",
   "id": "fb974519-5786-4ed4-a902-7f3310e1254a",
   "metadata": {},
   "source": [
    "### 41-5-1. len()\n",
    "It returns length"
   ]
  },
  {
   "cell_type": "code",
   "execution_count": 22,
   "id": "ee5645c6-6d30-42c6-a315-ae272191ddcf",
   "metadata": {},
   "outputs": [
    {
     "data": {
      "text/plain": [
       "2"
      ]
     },
     "execution_count": 22,
     "metadata": {},
     "output_type": "execute_result"
    }
   ],
   "source": [
    "len(\"Hi\")"
   ]
  },
  {
   "cell_type": "markdown",
   "id": "640163bb-fa3a-46ba-b745-5397096c4c6b",
   "metadata": {},
   "source": [
    "***"
   ]
  },
  {
   "cell_type": "markdown",
   "id": "e0a0febe-768d-478e-8a85-d06412868bc2",
   "metadata": {},
   "source": [
    "### 41-5-2. lower()\n",
    "It converts to lowercase"
   ]
  },
  {
   "cell_type": "code",
   "execution_count": 23,
   "id": "68e2d084-5126-40c5-8159-82551fe2ec72",
   "metadata": {},
   "outputs": [
    {
     "data": {
      "text/plain": [
       "'hello'"
      ]
     },
     "execution_count": 23,
     "metadata": {},
     "output_type": "execute_result"
    }
   ],
   "source": [
    "\"HELLO\".lower()"
   ]
  },
  {
   "cell_type": "markdown",
   "id": "0d652817-3807-4f93-a3c7-18bf2a880484",
   "metadata": {},
   "source": [
    "***"
   ]
  },
  {
   "cell_type": "markdown",
   "id": "b7dca37d-96e3-47f8-bc75-c0b47f0f71d5",
   "metadata": {},
   "source": [
    "### 41-5-3. upper()\n",
    "It converts to uppercase"
   ]
  },
  {
   "cell_type": "code",
   "execution_count": 24,
   "id": "8f03c3fe-c4f3-4d32-aecc-a42c807ae4cf",
   "metadata": {},
   "outputs": [
    {
     "data": {
      "text/plain": [
       "'HELLO'"
      ]
     },
     "execution_count": 24,
     "metadata": {},
     "output_type": "execute_result"
    }
   ],
   "source": [
    "\"hello\".upper()"
   ]
  },
  {
   "cell_type": "markdown",
   "id": "13e5e40f-7a70-415b-8556-53569387d3d2",
   "metadata": {},
   "source": [
    "***"
   ]
  },
  {
   "cell_type": "markdown",
   "id": "9f0748c2-be15-4a36-8af5-9a9a82081f69",
   "metadata": {},
   "source": [
    "### 41-5-4. strip()\n",
    "It removes whitespace"
   ]
  },
  {
   "cell_type": "code",
   "execution_count": 25,
   "id": "b720c8bb-e363-4654-aed5-dff025331448",
   "metadata": {},
   "outputs": [
    {
     "data": {
      "text/plain": [
       "'Hi'"
      ]
     },
     "execution_count": 25,
     "metadata": {},
     "output_type": "execute_result"
    }
   ],
   "source": [
    "\" Hi \".strip() "
   ]
  },
  {
   "cell_type": "markdown",
   "id": "95a262c9-6396-411b-a3d9-94022b6b88a4",
   "metadata": {},
   "source": [
    "***"
   ]
  },
  {
   "cell_type": "markdown",
   "id": "f245c60c-f4b1-4159-935d-93ef1c42e35b",
   "metadata": {},
   "source": [
    "### 41-5-5. split()\n",
    "It splits into a list"
   ]
  },
  {
   "cell_type": "code",
   "execution_count": 26,
   "id": "f40a485a-3f2c-4471-b141-aabffd8ebb55",
   "metadata": {},
   "outputs": [
    {
     "data": {
      "text/plain": [
       "['a', 'b', 'c']"
      ]
     },
     "execution_count": 26,
     "metadata": {},
     "output_type": "execute_result"
    }
   ],
   "source": [
    "\"a,b,c\".split(\",\")"
   ]
  },
  {
   "cell_type": "code",
   "execution_count": 28,
   "id": "6e0bb565-616a-476f-bd6a-631677c68f3b",
   "metadata": {},
   "outputs": [
    {
     "data": {
      "text/plain": [
       "['ab', 'cd']"
      ]
     },
     "execution_count": 28,
     "metadata": {},
     "output_type": "execute_result"
    }
   ],
   "source": [
    "\"ab cd\".split()  # By default it splits string wherever that there is whitespaces"
   ]
  },
  {
   "cell_type": "markdown",
   "id": "c5d93d90-0f43-4500-8bad-6004a108dd18",
   "metadata": {},
   "source": [
    "***"
   ]
  },
  {
   "cell_type": "markdown",
   "id": "02132586-0c53-4a9b-aa0b-fad2604d54aa",
   "metadata": {},
   "source": [
    "### 41-5-6. join()\n",
    "It joins list into string"
   ]
  },
  {
   "cell_type": "code",
   "execution_count": 29,
   "id": "ead2c53c-b8e1-4406-8952-5dacc2a61b05",
   "metadata": {},
   "outputs": [
    {
     "data": {
      "text/plain": [
       "'a b'"
      ]
     },
     "execution_count": 29,
     "metadata": {},
     "output_type": "execute_result"
    }
   ],
   "source": [
    "\" \".join([\"a\", \"b\"])        "
   ]
  },
  {
   "cell_type": "markdown",
   "id": "cc712709-749c-49d1-8964-3b3570bf52f4",
   "metadata": {},
   "source": [
    "***"
   ]
  },
  {
   "cell_type": "markdown",
   "id": "d7af91c9-ea69-4981-9002-d643d9e147bd",
   "metadata": {},
   "source": [
    "### 41-5-7. replace()\n",
    "It replaces substring"
   ]
  },
  {
   "cell_type": "code",
   "execution_count": 30,
   "id": "8950e7a7-e81c-40d4-9d90-03ae4f4f5724",
   "metadata": {},
   "outputs": [
    {
     "data": {
      "text/plain": [
       "'Jello'"
      ]
     },
     "execution_count": 30,
     "metadata": {},
     "output_type": "execute_result"
    }
   ],
   "source": [
    "\"Hello\".replace(\"H\", \"J\")"
   ]
  },
  {
   "cell_type": "markdown",
   "id": "844d02aa-8469-4087-a354-23cb8ff034ea",
   "metadata": {},
   "source": [
    "***"
   ]
  },
  {
   "cell_type": "markdown",
   "id": "355cbb46-e85d-481b-93c5-a40d8dda1bc1",
   "metadata": {},
   "source": [
    "### 41-5-8. find()\n",
    "It finds substring index"
   ]
  },
  {
   "cell_type": "code",
   "execution_count": 31,
   "id": "984b8d21-0bec-4e2b-b714-4d2cc6535956",
   "metadata": {},
   "outputs": [
    {
     "data": {
      "text/plain": [
       "2"
      ]
     },
     "execution_count": 31,
     "metadata": {},
     "output_type": "execute_result"
    }
   ],
   "source": [
    "\"Python\".find(\"th\")"
   ]
  },
  {
   "cell_type": "markdown",
   "id": "f2167106-abbc-4134-bccc-ffcfcfcb44bb",
   "metadata": {},
   "source": [
    "***"
   ]
  },
  {
   "cell_type": "markdown",
   "id": "00ac5f84-ce09-4261-94c2-cf3a97b6fd70",
   "metadata": {},
   "source": [
    "### 41-5-9. startswith()\n",
    "It checks starting substring"
   ]
  },
  {
   "cell_type": "code",
   "execution_count": 32,
   "id": "afcc5c7e-a35c-46f4-8bf6-c2bd450c132e",
   "metadata": {},
   "outputs": [
    {
     "data": {
      "text/plain": [
       "True"
      ]
     },
     "execution_count": 32,
     "metadata": {},
     "output_type": "execute_result"
    }
   ],
   "source": [
    "\"Hello\".startswith(\"He\")"
   ]
  },
  {
   "cell_type": "markdown",
   "id": "606f6b1d-8255-4438-9d10-67e85824993a",
   "metadata": {},
   "source": [
    "***"
   ]
  },
  {
   "cell_type": "markdown",
   "id": "6aefd57b-81ed-40a7-a3aa-1ea8f4c2b260",
   "metadata": {},
   "source": [
    "### 41-5-10. endswith()\n",
    "It checks ending substring"
   ]
  },
  {
   "cell_type": "code",
   "execution_count": 33,
   "id": "6aba599c-1109-4d8a-8fd7-5897733a31cb",
   "metadata": {},
   "outputs": [
    {
     "data": {
      "text/plain": [
       "True"
      ]
     },
     "execution_count": 33,
     "metadata": {},
     "output_type": "execute_result"
    }
   ],
   "source": [
    "\"Hello\".endswith(\"lo\")"
   ]
  },
  {
   "cell_type": "markdown",
   "id": "add61eed-da59-4142-8d4c-7f31533bd827",
   "metadata": {},
   "source": [
    "***"
   ]
  },
  {
   "cell_type": "markdown",
   "id": "40176c07-75a8-48ec-bf45-644ac1ae3dc5",
   "metadata": {},
   "source": [
    "## 41-6. String Formatting"
   ]
  },
  {
   "cell_type": "markdown",
   "id": "d72edf4a-9f0b-4150-b01b-880eff9a2edc",
   "metadata": {},
   "source": [
    "### 41-6-1. f-strings (Python 3.6+) - Recommended"
   ]
  },
  {
   "cell_type": "code",
   "execution_count": 34,
   "id": "1d13565f-7b32-441c-ae3c-a9f377b56ee2",
   "metadata": {},
   "outputs": [
    {
     "name": "stdout",
     "output_type": "stream",
     "text": [
      "My name is Alice and I am 25 years old.\n"
     ]
    }
   ],
   "source": [
    "name = \"Alice\"\n",
    "age = 25\n",
    "print(f\"My name is {name} and I am {age} years old.\")"
   ]
  },
  {
   "cell_type": "markdown",
   "id": "c72dbba8-1a3b-464b-a2c0-3d0f83e4a308",
   "metadata": {},
   "source": [
    "***"
   ]
  },
  {
   "cell_type": "markdown",
   "id": "427c0e87-4efa-4e28-9c70-8055e1c31b28",
   "metadata": {},
   "source": [
    "### 41-6-2. format() Method"
   ]
  },
  {
   "cell_type": "code",
   "execution_count": 35,
   "id": "0d7527fe-1a42-444a-a76d-201e0f08988e",
   "metadata": {},
   "outputs": [
    {
     "name": "stdout",
     "output_type": "stream",
     "text": [
      "My name is Alice and I am 25 years old.\n"
     ]
    }
   ],
   "source": [
    "print(\"My name is {} and I am {} years old.\".format(name, age))"
   ]
  },
  {
   "cell_type": "markdown",
   "id": "69387564-474e-4689-aa42-5a92740ca4bf",
   "metadata": {},
   "source": [
    "***"
   ]
  },
  {
   "cell_type": "markdown",
   "id": "c02bdc4c-b299-4aa8-a109-53669bf9edc2",
   "metadata": {},
   "source": [
    "### 41-6-3. % Formatting (Old Style)"
   ]
  },
  {
   "cell_type": "code",
   "execution_count": 36,
   "id": "dd0633e5-ee03-4515-b4f1-bd9d5bf381a7",
   "metadata": {},
   "outputs": [
    {
     "name": "stdout",
     "output_type": "stream",
     "text": [
      "My name is Alice and I am 25 years old.\n"
     ]
    }
   ],
   "source": [
    "print(\"My name is %s and I am %d years old.\" % (name, age))"
   ]
  },
  {
   "cell_type": "markdown",
   "id": "7fe2e4be-e82a-43c0-9f6f-7fab0d1d683b",
   "metadata": {},
   "source": [
    "***"
   ]
  },
  {
   "cell_type": "markdown",
   "id": "0e73fd24-63d9-4b8a-900e-3add4e236475",
   "metadata": {},
   "source": [
    "## 41-7. Escape Sequences\n",
    "Special characters in strings:"
   ]
  },
  {
   "cell_type": "markdown",
   "id": "b7ea8ac1-75a3-45a6-90b6-d592f857e67d",
   "metadata": {},
   "source": [
    "| **Escape**  |**Meaning**       |\n",
    "|-------------|------------------|\n",
    "|    \\n       |New Line          |\n",
    "|    \\t       |Tab               |\n",
    "|    \\\\      |Backslash         |\n",
    "|    \\\"       |Double quote      |\n",
    "|    \\'       |Single quote      |"
   ]
  },
  {
   "cell_type": "code",
   "execution_count": 37,
   "id": "edb1e46b-805b-4d77-8cfe-9b5956710bd7",
   "metadata": {},
   "outputs": [
    {
     "name": "stdout",
     "output_type": "stream",
     "text": [
      "Hello\n",
      "World\n",
      "He said, \"Hi\"\n"
     ]
    }
   ],
   "source": [
    "print(\"Hello\\nWorld\")  \n",
    "print(\"He said, \\\"Hi\\\"\")  "
   ]
  },
  {
   "cell_type": "markdown",
   "id": "0874392d-61a8-4d45-ad43-5195f1683e40",
   "metadata": {},
   "source": [
    "***"
   ]
  },
  {
   "cell_type": "markdown",
   "id": "1013687e-d555-4fc6-8604-47d17b3dbf23",
   "metadata": {},
   "source": [
    "## 41-8. Immutability of Strings\n",
    "Strings cannot be modified after creation. Instead, operations return new strings."
   ]
  },
  {
   "cell_type": "code",
   "execution_count": 38,
   "id": "30e2e5b5-4223-40c7-a584-895cdf7688c1",
   "metadata": {},
   "outputs": [
    {
     "ename": "TypeError",
     "evalue": "'str' object does not support item assignment",
     "output_type": "error",
     "traceback": [
      "\u001b[1;31m---------------------------------------------------------------------------\u001b[0m",
      "\u001b[1;31mTypeError\u001b[0m                                 Traceback (most recent call last)",
      "Cell \u001b[1;32mIn [38], line 2\u001b[0m\n\u001b[0;32m      1\u001b[0m text \u001b[38;5;241m=\u001b[39m \u001b[38;5;124m\"\u001b[39m\u001b[38;5;124mPython\u001b[39m\u001b[38;5;124m\"\u001b[39m\n\u001b[1;32m----> 2\u001b[0m \u001b[43mtext\u001b[49m\u001b[43m[\u001b[49m\u001b[38;5;241;43m0\u001b[39;49m\u001b[43m]\u001b[49m \u001b[38;5;241m=\u001b[39m \u001b[38;5;124m\"\u001b[39m\u001b[38;5;124mJ\u001b[39m\u001b[38;5;124m\"\u001b[39m  \n\u001b[0;32m      3\u001b[0m new_text \u001b[38;5;241m=\u001b[39m \u001b[38;5;124m\"\u001b[39m\u001b[38;5;124mJ\u001b[39m\u001b[38;5;124m\"\u001b[39m \u001b[38;5;241m+\u001b[39m text[\u001b[38;5;241m1\u001b[39m:]\n",
      "\u001b[1;31mTypeError\u001b[0m: 'str' object does not support item assignment"
     ]
    }
   ],
   "source": [
    "text = \"Python\"\n",
    "text[0] = \"J\"  "
   ]
  },
  {
   "cell_type": "code",
   "execution_count": 40,
   "id": "fe18d7f7-ca8e-4577-bdef-82720e275be4",
   "metadata": {},
   "outputs": [
    {
     "data": {
      "text/plain": [
       "'Jython'"
      ]
     },
     "execution_count": 40,
     "metadata": {},
     "output_type": "execute_result"
    }
   ],
   "source": [
    "new_text = \"J\" + text[1:] \n",
    "new_text"
   ]
  },
  {
   "cell_type": "markdown",
   "id": "5df9d894-6bc6-452d-994e-f344b940aaf4",
   "metadata": {},
   "source": [
    "***"
   ]
  },
  {
   "cell_type": "markdown",
   "id": "23e52cd8-9099-4604-9fd1-db34c957b261",
   "metadata": {},
   "source": [
    "## 41-9. Raw Strings (Ignore Escape Sequences)\n",
    "Use r or R before a string to treat escape sequences as normal text."
   ]
  },
  {
   "cell_type": "code",
   "execution_count": 43,
   "id": "b734ea82-b7ef-46d3-b3d7-bc432131ae13",
   "metadata": {},
   "outputs": [
    {
     "name": "stdout",
     "output_type": "stream",
     "text": [
      "C:\\new_folder\\file.txt\n"
     ]
    }
   ],
   "source": [
    "path = r\"C:\\new_folder\\file.txt\"\n",
    "print(path)  "
   ]
  },
  {
   "cell_type": "markdown",
   "id": "0865cae1-3129-4675-8c5b-95284f856244",
   "metadata": {},
   "source": [
    "Without r or R:"
   ]
  },
  {
   "cell_type": "code",
   "execution_count": 44,
   "id": "e1d28b1b-2a77-4b29-9520-09929deb8811",
   "metadata": {},
   "outputs": [
    {
     "name": "stdout",
     "output_type": "stream",
     "text": [
      "C:\n",
      "ew_folder\f",
      "ile.txt\n"
     ]
    }
   ],
   "source": [
    "path = \"C:\\new_folder\\file.txt\"\n",
    "print(path)  # Prints as-is: C:\\new_folder\\file.txt"
   ]
  },
  {
   "cell_type": "markdown",
   "id": "b3371c4f-490e-49b7-b8ea-95c1819ac19b",
   "metadata": {},
   "source": [
    "***"
   ]
  },
  {
   "cell_type": "markdown",
   "id": "449d6831-03bd-474e-a75c-171c7f2c93f7",
   "metadata": {},
   "source": [
    "## 41-10. String Traversal in Python\n",
    "String traversal refers to the process of accessing and processing each character in a string one by one. This is a fundamental operation in Python programming and can be done in several ways."
   ]
  },
  {
   "cell_type": "markdown",
   "id": "749b314f-e17d-4fde-b2c2-d3381358d0b2",
   "metadata": {},
   "source": [
    "***"
   ]
  },
  {
   "cell_type": "markdown",
   "id": "f8995708-61eb-4baa-86b8-6a639eebc738",
   "metadata": {},
   "source": [
    "### 41-10-1. Traversal Using a for Loop\n",
    "The most common and Pythonic way to traverse a string."
   ]
  },
  {
   "cell_type": "code",
   "execution_count": 45,
   "id": "55de9857-afae-4146-9307-5e0b06dd97cd",
   "metadata": {},
   "outputs": [
    {
     "name": "stdout",
     "output_type": "stream",
     "text": [
      "H\n",
      "e\n",
      "l\n",
      "l\n",
      "o\n"
     ]
    }
   ],
   "source": [
    "text = \"Hello\"\n",
    "for char in text:\n",
    "    print(char)"
   ]
  },
  {
   "cell_type": "markdown",
   "id": "e2ee18a9-3dd8-4cb8-aefa-1a1ecff45f38",
   "metadata": {},
   "source": [
    "***"
   ]
  },
  {
   "cell_type": "code",
   "execution_count": 46,
   "id": "fafb71c9-5e2d-4a2c-af42-8fb6b8f3abb5",
   "metadata": {},
   "outputs": [
    {
     "name": "stdout",
     "output_type": "stream",
     "text": [
      "Total vowels: 6\n"
     ]
    }
   ],
   "source": [
    "# Count Vowels\n",
    "vowels = \"aeiouAEIOU\"\n",
    "count = 0\n",
    "text = \"Python is awesome\"\n",
    "\n",
    "for char in text:\n",
    "    if char in vowels:\n",
    "        count += 1\n",
    "\n",
    "print(f\"Total vowels: {count}\")  "
   ]
  },
  {
   "cell_type": "markdown",
   "id": "b865deec-8dac-48c7-ad88-2d0606d47b13",
   "metadata": {},
   "source": [
    "***"
   ]
  },
  {
   "cell_type": "code",
   "execution_count": 48,
   "id": "39bd869c-4922-438c-bf4d-817618741a0b",
   "metadata": {},
   "outputs": [
    {
     "name": "stdout",
     "output_type": "stream",
     "text": [
      "Character at index 0: P\n",
      "Character at index 1: y\n",
      "Character at index 2: t\n",
      "Character at index 3: h\n",
      "Character at index 4: o\n",
      "Character at index 5: n\n"
     ]
    }
   ],
   "source": [
    "text = \"Python\"\n",
    "for i in range(len(text)):\n",
    "    print(f\"Character at index {i}: {text[i]}\")"
   ]
  },
  {
   "cell_type": "markdown",
   "id": "ba521d18-bbbe-4303-bfad-7d6679f51424",
   "metadata": {},
   "source": [
    "***"
   ]
  },
  {
   "cell_type": "markdown",
   "id": "34a97ca3-c6cd-4f3d-a76e-aa63c1506bc7",
   "metadata": {},
   "source": [
    "### 41-10-2. Traversal Using Indexing (while Loop)\n",
    "If you need the index position, use a while loop or range()."
   ]
  },
  {
   "cell_type": "code",
   "execution_count": 47,
   "id": "df8a70ff-0c86-41a1-90c4-0c6ea00f8375",
   "metadata": {},
   "outputs": [
    {
     "name": "stdout",
     "output_type": "stream",
     "text": [
      "P\n",
      "y\n",
      "t\n",
      "h\n",
      "o\n",
      "n\n"
     ]
    }
   ],
   "source": [
    "text = \"Python\"\n",
    "i = 0\n",
    "while i < len(text):\n",
    "    print(text[i])\n",
    "    i += 1"
   ]
  },
  {
   "cell_type": "markdown",
   "id": "0bae9917-e2ce-4b30-ba0e-766486b73faf",
   "metadata": {},
   "source": [
    "***"
   ]
  },
  {
   "cell_type": "markdown",
   "id": "ee570c3c-b221-4f87-9e7c-da3988930d82",
   "metadata": {},
   "source": [
    "### 41-10-3. Reverse Traversal\n",
    "Traverse a string backward using slicing ([::-1])."
   ]
  },
  {
   "cell_type": "code",
   "execution_count": 50,
   "id": "5c40a040-6621-4daf-b209-49b9c5dad9aa",
   "metadata": {},
   "outputs": [
    {
     "name": "stdout",
     "output_type": "stream",
     "text": [
      "nohtyP\n",
      "n\n",
      "o\n",
      "h\n",
      "t\n",
      "y\n",
      "P\n"
     ]
    }
   ],
   "source": [
    "text = \"Python\"\n",
    "reversed_text = text[::-1]  \n",
    "print(reversed_text)  \n",
    "\n",
    "# Using a loop\n",
    "for char in reversed(text):\n",
    "    print(char)"
   ]
  },
  {
   "cell_type": "markdown",
   "id": "f8c15882-aec7-436b-8766-258e1e0ba148",
   "metadata": {},
   "source": [
    "***"
   ]
  },
  {
   "cell_type": "markdown",
   "id": "59bed3de-2047-47bd-a1d2-203611dc7fb7",
   "metadata": {},
   "source": [
    "### 41-10-4. Traversal with enumerate() (Get Index & Character)\n",
    "If you need both the index and the character, use enumerate()."
   ]
  },
  {
   "cell_type": "code",
   "execution_count": 51,
   "id": "8bc6bd27-e339-4779-b3d5-2c6e90865e73",
   "metadata": {},
   "outputs": [
    {
     "name": "stdout",
     "output_type": "stream",
     "text": [
      "Index 0: H\n",
      "Index 1: e\n",
      "Index 2: l\n",
      "Index 3: l\n",
      "Index 4: o\n"
     ]
    }
   ],
   "source": [
    "text = \"Hello\"\n",
    "for index, char in enumerate(text):\n",
    "    print(f\"Index {index}: {char}\")"
   ]
  },
  {
   "cell_type": "markdown",
   "id": "6d77495b-f67d-4793-bfa2-f705f51d96c6",
   "metadata": {},
   "source": [
    "***"
   ]
  },
  {
   "cell_type": "markdown",
   "id": "1459053a-4b62-44a9-bb47-ec56b9a310f5",
   "metadata": {},
   "source": [
    "### 41-10-5. Traversal with String Methods\n",
    "Some string methods (split(), join()) can help in traversing Words"
   ]
  },
  {
   "cell_type": "code",
   "execution_count": 52,
   "id": "1265f51b-0d33-4b1a-81fd-9f23f30c609d",
   "metadata": {},
   "outputs": [
    {
     "name": "stdout",
     "output_type": "stream",
     "text": [
      "Python\n",
      "is\n",
      "fun\n"
     ]
    }
   ],
   "source": [
    "sentence = \"Python is fun\"\n",
    "words = sentence.split()  # Splits into [\"Python\", \"is\", \"fun\"]\n",
    "\n",
    "for word in words:\n",
    "    print(word)"
   ]
  },
  {
   "cell_type": "markdown",
   "id": "298bc9fd-5e61-4dc0-be37-da30adf64ef5",
   "metadata": {},
   "source": [
    "***"
   ]
  },
  {
   "cell_type": "markdown",
   "id": "10e6165d-7181-4f39-9703-37e3c8ccab3c",
   "metadata": {},
   "source": [
    "***"
   ]
  },
  {
   "cell_type": "markdown",
   "id": "b40206fb-6731-46dc-9302-0b9bc348b89b",
   "metadata": {},
   "source": [
    "# Some Excercises"
   ]
  },
  {
   "cell_type": "markdown",
   "id": "088d38a8-866c-48a9-a9b5-40df9d99ae4b",
   "metadata": {},
   "source": [
    "**1.** Write a function **is_strong_password(password)** that checks if a password:\n",
    "- Has ≥ 8 characters.\n",
    "- Contains at least one digit (use .isdigit()).\n",
    "- Contains at least one uppercase letter (use .isupper())."
   ]
  },
  {
   "cell_type": "markdown",
   "id": "b486b7b8-307c-4eb7-8c14-a1dd72eb2e46",
   "metadata": {},
   "source": [
    "___"
   ]
  },
  {
   "cell_type": "markdown",
   "id": "5c32b073-bab0-451e-8fd7-a294020f71c6",
   "metadata": {},
   "source": [
    "**2.** Use f-strings to format a receipt:\n",
    "- Variables: item = \"Coffee\", price = 3.5, quantity = 2.\n",
    "- Print: \"2 x Coffee = $7.00\" (total calculated, 2 decimal places)."
   ]
  },
  {
   "cell_type": "markdown",
   "id": "489da9fe-be18-487a-bcc7-e5d6672698ba",
   "metadata": {},
   "source": [
    "---"
   ]
  },
  {
   "cell_type": "markdown",
   "id": "bf117f39-fa94-453e-bca9-2ccd7b507496",
   "metadata": {},
   "source": [
    "**3.** Print a Windows file path C:\\new_folder\\file.txt (using escape sequences).\n",
    "\n",
    "Print the same path as a raw string."
   ]
  },
  {
   "cell_type": "markdown",
   "id": "02e59887-780b-4321-9382-ef4c85ec9684",
   "metadata": {},
   "source": [
    "---"
   ]
  },
  {
   "cell_type": "markdown",
   "id": "1b32e2d5-3ed7-4865-b63e-21c5cc156f67",
   "metadata": {},
   "source": [
    "**4.** Write a function **is_palindrome(s)** that checks if a string is the same forwards and backwards (e.g., \"madam\"). Use slicing ([::-1])."
   ]
  },
  {
   "cell_type": "markdown",
   "id": "8dcb22a4-aff7-4377-b09a-a39fa4a3b2a7",
   "metadata": {},
   "source": [
    "***"
   ]
  },
  {
   "cell_type": "markdown",
   "id": "17511368-bcb2-4413-87ab-450ca9a64ff2",
   "metadata": {},
   "source": [
    "**5.** Write a function **is_valid_email(email)** that checks if:\n",
    "- The email contains \"@\".\n",
    "- The domain ends with \".com\" (use .endswith())."
   ]
  },
  {
   "cell_type": "markdown",
   "id": "af3414ed-8ba7-485b-954f-69bb05f37262",
   "metadata": {},
   "source": [
    "***"
   ]
  },
  {
   "cell_type": "markdown",
   "id": "d2f4137e-c8e2-4f4d-8d8c-29eb3d71f7a9",
   "metadata": {},
   "source": [
    "**6.** Write a Python function **reverse_string(s)** that takes a string s and returns it in reverse order without using slicing ([::-1]). Use a loop to traverse the string backward."
   ]
  },
  {
   "cell_type": "markdown",
   "id": "2cde585e-4f53-4fb6-aebc-3fa6e9f2f3c9",
   "metadata": {},
   "source": [
    "***"
   ]
  },
  {
   "cell_type": "markdown",
   "id": "e77b5065-47d3-483f-8cc6-52a45d5a6b31",
   "metadata": {},
   "source": [
    "**7.** Write a function **find_vowel_positions(s)** that takes a string s and returns a list of tuples containing each vowel and its index. Use **enumerate()** for traversal.\n",
    "\n",
    "Vowels: 'a', 'e', 'i', 'o', 'u' (case-insensitive)."
   ]
  },
  {
   "cell_type": "markdown",
   "id": "8e4ec022-cdb1-4ac9-8099-910887b3c1b8",
   "metadata": {},
   "source": [
    "***"
   ]
  },
  {
   "cell_type": "markdown",
   "id": "7cc97f26-cf68-4d50-82a1-ae7dcdfa95ac",
   "metadata": {},
   "source": [
    "#                                                        🌞 https://github.com/AI-Planet 🌞"
   ]
  }
 ],
 "metadata": {
  "kernelspec": {
   "display_name": "Python 3 (ipykernel)",
   "language": "python",
   "name": "python3"
  },
  "language_info": {
   "codemirror_mode": {
    "name": "ipython",
    "version": 3
   },
   "file_extension": ".py",
   "mimetype": "text/x-python",
   "name": "python",
   "nbconvert_exporter": "python",
   "pygments_lexer": "ipython3",
   "version": "3.9.12"
  }
 },
 "nbformat": 4,
 "nbformat_minor": 5
}
