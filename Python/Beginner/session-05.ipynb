{
 "cells": [
  {
   "cell_type": "markdown",
   "id": "355b5f03-d2a5-4aa3-a77c-776ccfcb35d5",
   "metadata": {},
   "source": [
    "# Session 5 🐍"
   ]
  },
  {
   "cell_type": "markdown",
   "id": "45efc9ec-fb9c-458c-b1de-d961145e8449",
   "metadata": {},
   "source": [
    "☀️☀️☀️☀️☀️☀️☀️☀️☀️☀️☀️☀️☀️☀️☀️☀️☀️☀️☀️☀️☀️☀️☀️☀️☀️☀️☀️☀️☀️☀️☀️☀️☀️☀️☀️☀️☀️☀️☀️☀️☀️☀️☀️☀️☀️"
   ]
  },
  {
   "cell_type": "markdown",
   "id": "2c7a6ce5-4cd2-45cd-a3b8-9ac277170654",
   "metadata": {},
   "source": [
    "***"
   ]
  },
  {
   "cell_type": "markdown",
   "id": "f47542a8-416d-4a3f-8c9d-99781dc53bd8",
   "metadata": {},
   "source": [
    "# 23. Keyword-only arguments\n",
    "Keyword-only arguments are arguments in a function that must be passed using their names (keywords) — not just by position.\n",
    "\n",
    "They’re used when you want to:\n",
    "- Avoid confusion in function calls\n",
    "- Make your function clearer and safer\n",
    "- Force the caller to specify argument names"
   ]
  },
  {
   "cell_type": "markdown",
   "id": "a35384c2-ea49-4613-b074-ef3b571f756e",
   "metadata": {},
   "source": [
    "In order to Define Them:\n",
    "- You place a __*__ in the function parameters.\n",
    "- Any argument after the __*__ must be passed using a keyword."
   ]
  },
  {
   "cell_type": "raw",
   "id": "81153793-7f9a-4cf9-8fe8-4ea68452e561",
   "metadata": {},
   "source": [
    "Syntax:\n",
    "\n",
    "def func(a, b, *, c, d):\n",
    "    # c and d are keyword-only\n",
    "    ..."
   ]
  },
  {
   "cell_type": "markdown",
   "id": "4e2120e8-64ed-4aba-afa8-af9eebd99983",
   "metadata": {},
   "source": [
    "In the below example, **age** and **country** must be passed as keyword arguments.\n",
    "Only **username** is positional."
   ]
  },
  {
   "cell_type": "code",
   "execution_count": 3,
   "id": "4333c190-85fe-4ed3-8bc5-af090a818d82",
   "metadata": {},
   "outputs": [],
   "source": [
    "def register_user(username, *, age, country):\n",
    "    print(\"Username:\", username)\n",
    "    print(\"Age:\", age)\n",
    "    print(\"Country:\", country)"
   ]
  },
  {
   "cell_type": "code",
   "execution_count": 4,
   "id": "f140379b-810f-47ec-86dd-00fabd15ffc1",
   "metadata": {},
   "outputs": [
    {
     "name": "stdout",
     "output_type": "stream",
     "text": [
      "Username: sara\n",
      "Age: 25\n",
      "Country: Iran\n"
     ]
    }
   ],
   "source": [
    "register_user(\"sara\", age=25, country=\"Iran\")"
   ]
  },
  {
   "cell_type": "code",
   "execution_count": 5,
   "id": "68fdc528-de57-475a-b037-0e018dc07e23",
   "metadata": {},
   "outputs": [
    {
     "ename": "TypeError",
     "evalue": "register_user() takes 1 positional argument but 3 were given",
     "output_type": "error",
     "traceback": [
      "\u001b[1;31m---------------------------------------------------------------------------\u001b[0m",
      "\u001b[1;31mTypeError\u001b[0m                                 Traceback (most recent call last)",
      "Cell \u001b[1;32mIn [5], line 1\u001b[0m\n\u001b[1;32m----> 1\u001b[0m \u001b[43mregister_user\u001b[49m\u001b[43m(\u001b[49m\u001b[38;5;124;43m\"\u001b[39;49m\u001b[38;5;124;43msara\u001b[39;49m\u001b[38;5;124;43m\"\u001b[39;49m\u001b[43m,\u001b[49m\u001b[43m \u001b[49m\u001b[38;5;241;43m25\u001b[39;49m\u001b[43m,\u001b[49m\u001b[43m \u001b[49m\u001b[38;5;124;43m\"\u001b[39;49m\u001b[38;5;124;43mIran\u001b[39;49m\u001b[38;5;124;43m\"\u001b[39;49m\u001b[43m)\u001b[49m\n",
      "\u001b[1;31mTypeError\u001b[0m: register_user() takes 1 positional argument but 3 were given"
     ]
    }
   ],
   "source": [
    "register_user(\"sara\", 25, \"Iran\")"
   ]
  },
  {
   "cell_type": "code",
   "execution_count": 6,
   "id": "2599b3d4-51be-44ce-b820-bc9a2d15be95",
   "metadata": {},
   "outputs": [],
   "source": [
    "def resize_image(image_name, width, *, height):\n",
    "    print(\"Resizing\", image_name)\n",
    "    print(\"New width:\", width)\n",
    "    print(\"New height:\", height)"
   ]
  },
  {
   "cell_type": "code",
   "execution_count": 7,
   "id": "63906ec7-4754-4b97-abbb-6cc437a9bcfa",
   "metadata": {},
   "outputs": [
    {
     "name": "stdout",
     "output_type": "stream",
     "text": [
      "Resizing photo.jpg\n",
      "New width: 800\n",
      "New height: 600\n"
     ]
    }
   ],
   "source": [
    "resize_image(\"photo.jpg\", 800, height=600)"
   ]
  },
  {
   "cell_type": "code",
   "execution_count": 8,
   "id": "339a336d-579f-4de6-827c-dfef18a4bfdf",
   "metadata": {},
   "outputs": [
    {
     "ename": "TypeError",
     "evalue": "resize_image() takes 2 positional arguments but 3 were given",
     "output_type": "error",
     "traceback": [
      "\u001b[1;31m---------------------------------------------------------------------------\u001b[0m",
      "\u001b[1;31mTypeError\u001b[0m                                 Traceback (most recent call last)",
      "Cell \u001b[1;32mIn [8], line 1\u001b[0m\n\u001b[1;32m----> 1\u001b[0m \u001b[43mresize_image\u001b[49m\u001b[43m(\u001b[49m\u001b[38;5;124;43m\"\u001b[39;49m\u001b[38;5;124;43mphoto.jpg\u001b[39;49m\u001b[38;5;124;43m\"\u001b[39;49m\u001b[43m,\u001b[49m\u001b[43m \u001b[49m\u001b[38;5;241;43m800\u001b[39;49m\u001b[43m,\u001b[49m\u001b[43m \u001b[49m\u001b[38;5;241;43m600\u001b[39;49m\u001b[43m)\u001b[49m\n",
      "\u001b[1;31mTypeError\u001b[0m: resize_image() takes 2 positional arguments but 3 were given"
     ]
    }
   ],
   "source": [
    "resize_image(\"photo.jpg\", 800, 600)"
   ]
  },
  {
   "cell_type": "markdown",
   "id": "640163bb-fa3a-46ba-b745-5397096c4c6b",
   "metadata": {},
   "source": [
    "***"
   ]
  },
  {
   "cell_type": "markdown",
   "id": "355cbb46-e85d-481b-93c5-a40d8dda1bc1",
   "metadata": {},
   "source": [
    "# 24. String Formatting\n",
    "These are tools that help you insert variables, values, or expressions inside a string in a clean and readable way."
   ]
  },
  {
   "cell_type": "markdown",
   "id": "acf6dc3c-658d-47d5-b4c5-4431290f7349",
   "metadata": {},
   "source": [
    "The two most commonly used and powerful methods:\n",
    "- .format() method\n",
    "- f-strings (formatted string literals)"
   ]
  },
  {
   "cell_type": "markdown",
   "id": "9ad42f3a-f9a3-4359-916d-831e24b1fc0b",
   "metadata": {},
   "source": [
    "## 24-1. Using .format( )\n",
    "The **.format()** method replaces placeholders in a string with specified values."
   ]
  },
  {
   "cell_type": "code",
   "execution_count": 9,
   "id": "3601b780-f690-4a93-8854-4e9ab8bbfa03",
   "metadata": {},
   "outputs": [
    {
     "name": "stdout",
     "output_type": "stream",
     "text": [
      "My name is Alice and I am 25 years old.\n"
     ]
    }
   ],
   "source": [
    "name = \"Alice\"\n",
    "age = 25\n",
    "print(\"My name is {} and I am {} years old.\".format(name, age))"
   ]
  },
  {
   "cell_type": "markdown",
   "id": "b783ed14-a629-4801-aad7-d09f961de0a7",
   "metadata": {},
   "source": [
    "**You can use indexes:**"
   ]
  },
  {
   "cell_type": "code",
   "execution_count": 10,
   "id": "d8e52988-61bb-48dd-b56a-edee5d27f337",
   "metadata": {},
   "outputs": [
    {
     "name": "stdout",
     "output_type": "stream",
     "text": [
      "I am 25 years old and my name is Alice.\n"
     ]
    }
   ],
   "source": [
    "print(\"I am {1} years old and my name is {0}.\".format(name, age))"
   ]
  },
  {
   "cell_type": "markdown",
   "id": "3ec2072b-d7eb-4722-a6b8-8af6cd827cc8",
   "metadata": {},
   "source": [
    "**Or named placeholders:**"
   ]
  },
  {
   "cell_type": "code",
   "execution_count": 11,
   "id": "6df9a962-f85c-46f9-8dc5-82b9d2d531e4",
   "metadata": {},
   "outputs": [
    {
     "name": "stdout",
     "output_type": "stream",
     "text": [
      "Name: Alice, Age: 25\n"
     ]
    }
   ],
   "source": [
    "print(\"Name: {n}, Age: {a}\".format(n=name, a=age))"
   ]
  },
  {
   "cell_type": "markdown",
   "id": "b5d99668-fd04-4d3d-a27d-5e21d39bdfbb",
   "metadata": {},
   "source": [
    "**Formatting numbers:**"
   ]
  },
  {
   "cell_type": "code",
   "execution_count": 13,
   "id": "2debd61b-1e69-4341-950f-33c2ee71a4b4",
   "metadata": {},
   "outputs": [
    {
     "name": "stdout",
     "output_type": "stream",
     "text": [
      "Pi to 2 decimal places: 3.14\n"
     ]
    }
   ],
   "source": [
    "pi = 3.1415926\n",
    "print(\"Pi to 2 decimal places: {:.2f}\".format(pi))"
   ]
  },
  {
   "cell_type": "markdown",
   "id": "f2167106-abbc-4134-bccc-ffcfcfcb44bb",
   "metadata": {},
   "source": [
    "***"
   ]
  },
  {
   "cell_type": "markdown",
   "id": "afed0fa7-1b8f-4d84-a981-36639fe69823",
   "metadata": {},
   "source": [
    "## 24-2. Using f-strings (Python 3.6+)\n",
    "f-strings are a cleaner, faster way to embed variables or expressions directly in strings by prefixing the string with f."
   ]
  },
  {
   "cell_type": "code",
   "execution_count": 14,
   "id": "573ecb9b-af0f-454a-ab6f-1563810e0778",
   "metadata": {},
   "outputs": [
    {
     "name": "stdout",
     "output_type": "stream",
     "text": [
      "My name is Alice and I am 25 years old.\n"
     ]
    }
   ],
   "source": [
    "name = \"Alice\"\n",
    "age = 25\n",
    "print(f\"My name is {name} and I am {age} years old.\")"
   ]
  },
  {
   "cell_type": "markdown",
   "id": "7f9aa51f-06e5-46ed-8b4e-ab03fdd9295b",
   "metadata": {},
   "source": [
    "**Supports expressions:**"
   ]
  },
  {
   "cell_type": "code",
   "execution_count": 15,
   "id": "9ad511c3-f09d-487c-be14-4167e7a9b5c6",
   "metadata": {},
   "outputs": [
    {
     "name": "stdout",
     "output_type": "stream",
     "text": [
      "In five years, I will be 30.\n"
     ]
    }
   ],
   "source": [
    "print(f\"In five years, I will be {age + 5}.\")"
   ]
  },
  {
   "cell_type": "markdown",
   "id": "1fdfd50d-859a-4db1-9716-8360473874a0",
   "metadata": {},
   "source": [
    "**Formatting numbers in f-strings:**"
   ]
  },
  {
   "cell_type": "code",
   "execution_count": 16,
   "id": "807189c5-c82c-450c-898f-8f5a09dd5e31",
   "metadata": {},
   "outputs": [
    {
     "name": "stdout",
     "output_type": "stream",
     "text": [
      "Price: $49.99\n"
     ]
    }
   ],
   "source": [
    "price = 49.99\n",
    "print(f\"Price: ${price:.2f}\")"
   ]
  },
  {
   "cell_type": "markdown",
   "id": "110a6cfb-e56e-42ca-853d-3b87daf2b6eb",
   "metadata": {},
   "source": [
    "**Dates with f-strings:**"
   ]
  },
  {
   "cell_type": "code",
   "execution_count": 17,
   "id": "afa74219-cb59-40b9-91d7-110b8604567f",
   "metadata": {},
   "outputs": [
    {
     "name": "stdout",
     "output_type": "stream",
     "text": [
      "Today's date is July 08, 2025\n"
     ]
    }
   ],
   "source": [
    "import datetime\n",
    "today = datetime.date.today()\n",
    "print(f\"Today's date is {today:%B %d, %Y}\")"
   ]
  },
  {
   "cell_type": "markdown",
   "id": "9f5cd715-9ef2-44fa-90de-4635cc890154",
   "metadata": {},
   "source": [
    "***"
   ]
  },
  {
   "cell_type": "markdown",
   "id": "f93da5b9-7e3e-4e34-9af4-a61141548671",
   "metadata": {},
   "source": [
    "# 25. Variable positional arguments (*args)\n",
    "*args allows your function to accept any number of positional arguments (like x, y, z...) as a tuple."
   ]
  },
  {
   "cell_type": "code",
   "execution_count": 18,
   "id": "b9cc91ee-eb3c-4496-bf0b-cbbffa060137",
   "metadata": {},
   "outputs": [
    {
     "name": "stdout",
     "output_type": "stream",
     "text": [
      "Hello, Alice!\n",
      "Hello, Bob!\n",
      "Hello, Charlie!\n"
     ]
    }
   ],
   "source": [
    "def greet_all(*names):\n",
    "    for name in names:\n",
    "        print(f\"Hello, {name}!\")\n",
    "\n",
    "greet_all(\"Alice\", \"Bob\", \"Charlie\")"
   ]
  },
  {
   "cell_type": "markdown",
   "id": "f5800a44-1aab-409d-8edd-a945c7712757",
   "metadata": {},
   "source": [
    "Here, __*names__ collects all the extra arguments into a tuple: (\"Alice\", \"Bob\", \"Charlie\")."
   ]
  },
  {
   "cell_type": "markdown",
   "id": "718e43b7-be62-4225-bdc6-7b80dd92dfed",
   "metadata": {},
   "source": [
    "***"
   ]
  },
  {
   "cell_type": "markdown",
   "id": "8270066f-ef98-4e6d-aafe-ee18b2a1d9d5",
   "metadata": {},
   "source": [
    "In the following function, when a set of inputs is given to the function, the first two are replaced in **a** and **b** and the rest in **more**, the total sum of all inputs is printed as output."
   ]
  },
  {
   "cell_type": "code",
   "execution_count": 21,
   "id": "64054d1a-9e04-47a8-8460-43924e5a569e",
   "metadata": {},
   "outputs": [],
   "source": [
    "def add(a,b, *more):\n",
    "    r=a+b+sum(more)\n",
    "    print(r)"
   ]
  },
  {
   "cell_type": "code",
   "execution_count": 22,
   "id": "1c1bc63c-d17a-49f9-a834-0a1cdda0ce41",
   "metadata": {},
   "outputs": [
    {
     "name": "stdout",
     "output_type": "stream",
     "text": [
      "6\n",
      "13\n",
      "37\n"
     ]
    }
   ],
   "source": [
    "add(1,2,3)                      \n",
    "add(5,8)                        \n",
    "add(4,5,7,9,12)                 "
   ]
  },
  {
   "cell_type": "markdown",
   "id": "c7dd7f95-95cd-4e89-b482-b45d7ec16c17",
   "metadata": {},
   "source": [
    "***"
   ]
  },
  {
   "cell_type": "markdown",
   "id": "c1bbe7be-1434-4bb1-b140-6191f2785e63",
   "metadata": {},
   "source": [
    "This function replaces the first two inputs in **a** and **b** and prints the remaining inputs."
   ]
  },
  {
   "cell_type": "code",
   "execution_count": 23,
   "id": "fe3a6a81-8b7f-4c37-ba31-bd4e3122d1de",
   "metadata": {},
   "outputs": [],
   "source": [
    "def f(a,b, *more):\n",
    "    print(more)"
   ]
  },
  {
   "cell_type": "code",
   "execution_count": 24,
   "id": "b6bf62d2-82d0-4426-836a-304f9a191c5b",
   "metadata": {},
   "outputs": [
    {
     "name": "stdout",
     "output_type": "stream",
     "text": [
      "(3, 4, 5)\n",
      "()\n"
     ]
    },
    {
     "ename": "TypeError",
     "evalue": "f() missing 1 required positional argument: 'b'",
     "output_type": "error",
     "traceback": [
      "\u001b[1;31m---------------------------------------------------------------------------\u001b[0m",
      "\u001b[1;31mTypeError\u001b[0m                                 Traceback (most recent call last)",
      "Cell \u001b[1;32mIn [24], line 3\u001b[0m\n\u001b[0;32m      1\u001b[0m f(\u001b[38;5;241m1\u001b[39m,\u001b[38;5;241m2\u001b[39m,\u001b[38;5;241m3\u001b[39m,\u001b[38;5;241m4\u001b[39m,\u001b[38;5;241m5\u001b[39m)                   \n\u001b[0;32m      2\u001b[0m f(\u001b[38;5;241m1\u001b[39m,\u001b[38;5;241m2\u001b[39m)                         \n\u001b[1;32m----> 3\u001b[0m \u001b[43mf\u001b[49m\u001b[43m(\u001b[49m\u001b[38;5;241;43m1\u001b[39;49m\u001b[43m)\u001b[49m\n",
      "\u001b[1;31mTypeError\u001b[0m: f() missing 1 required positional argument: 'b'"
     ]
    }
   ],
   "source": [
    "f(1,2,3,4,5)                   \n",
    "f(1,2)                         \n",
    "f(1)                            "
   ]
  },
  {
   "cell_type": "markdown",
   "id": "fe700153-ee47-4e81-96ed-87e8bc0f6e09",
   "metadata": {},
   "source": [
    "***"
   ]
  },
  {
   "cell_type": "markdown",
   "id": "f75de6c8-057d-4f50-bb48-fe22681e0555",
   "metadata": {},
   "source": [
    "# 26. Variable keyword arguments (**kwargs)\n",
    "**kwargs lets your function accept any number of named arguments (like key=value) as a dictionary."
   ]
  },
  {
   "cell_type": "code",
   "execution_count": 19,
   "id": "29689c42-a73f-4674-82af-bff5797290e9",
   "metadata": {},
   "outputs": [
    {
     "name": "stdout",
     "output_type": "stream",
     "text": [
      "Math: 90\n",
      "English: 85\n",
      "Science: 92\n"
     ]
    }
   ],
   "source": [
    "def print_scores(**scores):\n",
    "    for subject, score in scores.items():\n",
    "        print(f\"{subject}: {score}\")\n",
    "\n",
    "print_scores(Math=90, English=85, Science=92)"
   ]
  },
  {
   "cell_type": "code",
   "execution_count": 25,
   "id": "420c431a-9a50-4526-a078-a75a2684fe44",
   "metadata": {},
   "outputs": [
    {
     "name": "stdout",
     "output_type": "stream",
     "text": [
      "3 4 {'x': 5, 'y': 9}\n"
     ]
    }
   ],
   "source": [
    "def f(a,b,**c):\n",
    "    print(a,b,c)\n",
    "\n",
    "f(3,4,x=5,y=9)"
   ]
  },
  {
   "cell_type": "markdown",
   "id": "2a6a87bd-a397-465e-b217-013a127e43b5",
   "metadata": {},
   "source": [
    "***"
   ]
  },
  {
   "cell_type": "markdown",
   "id": "4e0aab24-9618-4622-ba2a-c6dc6e39f2dd",
   "metadata": {},
   "source": [
    "🎁 **You can use both together:**"
   ]
  },
  {
   "cell_type": "code",
   "execution_count": 20,
   "id": "bc1b479b-b52f-42c7-a9b2-7db33b97843f",
   "metadata": {},
   "outputs": [
    {
     "name": "stdout",
     "output_type": "stream",
     "text": [
      "Positional arguments: ('John', 'Doe')\n",
      "Keyword arguments: {'age': 30, 'city': 'New York'}\n"
     ]
    }
   ],
   "source": [
    "def show_info(*args, **kwargs):\n",
    "    print(\"Positional arguments:\", args)\n",
    "    print(\"Keyword arguments:\", kwargs)\n",
    "\n",
    "show_info(\"John\", \"Doe\", age=30, city=\"New York\")"
   ]
  },
  {
   "cell_type": "code",
   "execution_count": 26,
   "id": "6bc713d3-10f5-4317-b918-8ecc62e6efc3",
   "metadata": {},
   "outputs": [
    {
     "name": "stdout",
     "output_type": "stream",
     "text": [
      "3\n",
      "4\n",
      "(7, 1, 6)\n",
      "{'x': 5, 'y': 7, 'z': 9}\n"
     ]
    }
   ],
   "source": [
    "def f(a,b,*c,**d):\n",
    "    print(a)\n",
    "    print(b)\n",
    "    print(c)\n",
    "    print(d)\n",
    "\n",
    "f(3,4,7,1,6,x=5,y=7,z=9)                            "
   ]
  },
  {
   "cell_type": "markdown",
   "id": "28feece9-b0c4-46bd-8726-70f64bed2819",
   "metadata": {},
   "source": [
    "***"
   ]
  },
  {
   "cell_type": "markdown",
   "id": "606f6b1d-8255-4438-9d10-67e85824993a",
   "metadata": {},
   "source": [
    "***"
   ]
  },
  {
   "cell_type": "markdown",
   "id": "b40206fb-6731-46dc-9302-0b9bc348b89b",
   "metadata": {},
   "source": [
    "# Some Excercises"
   ]
  },
  {
   "cell_type": "markdown",
   "id": "088d38a8-866c-48a9-a9b5-40df9d99ae4b",
   "metadata": {},
   "source": [
    "**1.** Write a function **calculate_discount()** that takes:\n",
    "- A mandatory positional argument price (float).\n",
    "- A keyword-only argument discount (float, default=0.1).\n",
    "The function should return the discounted price (price * (1 - discount))."
   ]
  },
  {
   "cell_type": "markdown",
   "id": "b486b7b8-307c-4eb7-8c14-a1dd72eb2e46",
   "metadata": {},
   "source": [
    "___"
   ]
  },
  {
   "cell_type": "markdown",
   "id": "5c32b073-bab0-451e-8fd7-a294020f71c6",
   "metadata": {},
   "source": [
    "**2.** Write a function **format_user_info()** that takes:\n",
    "- name (str),\n",
    "- age (int), and\n",
    "- country (str, default=\"Unknown\").\n",
    "\n",
    "Return a formatted string: \"<name> is <age> years old and lives in <country>.\" using f-strings."
   ]
  },
  {
   "cell_type": "markdown",
   "id": "489da9fe-be18-487a-bcc7-e5d6672698ba",
   "metadata": {},
   "source": [
    "---"
   ]
  },
  {
   "cell_type": "markdown",
   "id": "bf117f39-fa94-453e-bca9-2ccd7b507496",
   "metadata": {},
   "source": [
    "**3.** Write a function **sum_numbers()** that accepts any number of positional arguments (ints/floats) and returns their sum. Use *args."
   ]
  },
  {
   "cell_type": "markdown",
   "id": "02e59887-780b-4321-9382-ef4c85ec9684",
   "metadata": {},
   "source": [
    "---"
   ]
  },
  {
   "cell_type": "markdown",
   "id": "1b32e2d5-3ed7-4865-b63e-21c5cc156f67",
   "metadata": {},
   "source": [
    "**4.** Write a function **print_person_details()** that accepts arbitrary keyword arguments (**kwargs) and prints each key-value pair in the format \"<key>: <value>\"."
   ]
  },
  {
   "cell_type": "markdown",
   "id": "8dcb22a4-aff7-4377-b09a-a39fa4a3b2a7",
   "metadata": {},
   "source": [
    "***"
   ]
  },
  {
   "cell_type": "markdown",
   "id": "17511368-bcb2-4413-87ab-450ca9a64ff2",
   "metadata": {},
   "source": [
    "**5.** Write a function **log_message()** that:\n",
    "- Takes a positional argument level (str, e.g., \"INFO\", \"ERROR\").\n",
    "- Accepts variable positional arguments (*args) for message parts.\n",
    "- Accepts variable keyword arguments (**kwargs) for metadata."
   ]
  },
  {
   "cell_type": "markdown",
   "id": "af3414ed-8ba7-485b-954f-69bb05f37262",
   "metadata": {},
   "source": [
    "***"
   ]
  },
  {
   "cell_type": "markdown",
   "id": "7f9870ab-b5e8-420a-a827-89861412defc",
   "metadata": {},
   "source": [
    "**6.** Write a function **format_phone_number()** that takes:\n",
    "- A country code (keyword-only, default=\"+1\").\n",
    "- A variable number of digits (as *args).\n",
    "\n",
    "Return the phone number formatted as: \"<country_code>-<first 3 digits>-<next 3 digits>-<last 4 digits>\" using .format()."
   ]
  },
  {
   "cell_type": "markdown",
   "id": "1710666b-d6b6-41f9-bc4a-920604984ab3",
   "metadata": {},
   "source": [
    "***"
   ]
  },
  {
   "cell_type": "markdown",
   "id": "54eee1dc-9f0f-4b19-a2e6-d124829c4482",
   "metadata": {},
   "source": [
    "**7.** Write a function **safe_divide()** that:\n",
    "- Accepts variable positional arguments (*args).\n",
    "- Returns the division of the first two arguments (args[0] / args[1]).\n",
    "- Uses a guard pattern to handle cases where:\n",
    "- Fewer than 2 args are passed (return \"Not enough arguments\").\n",
    "\n",
    "Division by zero occurs (return \"Cannot divide by zero\")."
   ]
  },
  {
   "cell_type": "markdown",
   "id": "c292f89e-e171-4779-9cd2-77486ff59653",
   "metadata": {},
   "source": [
    "***"
   ]
  },
  {
   "cell_type": "markdown",
   "id": "6007f526-4467-4578-9efd-6a14d5b6264d",
   "metadata": {},
   "source": [
    "**8.** Write a function **create_profile()** that:\n",
    "- Accepts **kwargs (e.g., name, age, job).\n",
    "- Returns a dictionary with valid keys (ignoring invalid keys like keys that are not Python identifiers, checked using str.isidentifier())."
   ]
  },
  {
   "cell_type": "markdown",
   "id": "b41338ea-200a-4e1e-be46-7f52837ba730",
   "metadata": {},
   "source": [
    "***"
   ]
  },
  {
   "cell_type": "markdown",
   "id": "7cc97f26-cf68-4d50-82a1-ae7dcdfa95ac",
   "metadata": {},
   "source": [
    "#                                                        🌞 https://github.com/AI-Planet 🌞"
   ]
  }
 ],
 "metadata": {
  "kernelspec": {
   "display_name": "Python 3 (ipykernel)",
   "language": "python",
   "name": "python3"
  },
  "language_info": {
   "codemirror_mode": {
    "name": "ipython",
    "version": 3
   },
   "file_extension": ".py",
   "mimetype": "text/x-python",
   "name": "python",
   "nbconvert_exporter": "python",
   "pygments_lexer": "ipython3",
   "version": "3.9.12"
  }
 },
 "nbformat": 4,
 "nbformat_minor": 5
}
