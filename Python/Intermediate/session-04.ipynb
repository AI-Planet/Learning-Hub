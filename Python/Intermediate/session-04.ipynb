{
 "cells": [
  {
   "cell_type": "markdown",
   "id": "355b5f03-d2a5-4aa3-a77c-776ccfcb35d5",
   "metadata": {},
   "source": [
    "# Session 4 🐍"
   ]
  },
  {
   "cell_type": "markdown",
   "id": "45efc9ec-fb9c-458c-b1de-d961145e8449",
   "metadata": {},
   "source": [
    "☀️☀️☀️☀️☀️☀️☀️☀️☀️☀️☀️☀️☀️☀️☀️☀️☀️☀️☀️☀️☀️☀️☀️☀️☀️☀️☀️☀️☀️☀️☀️☀️☀️☀️☀️☀️☀️☀️☀️☀️☀️☀️☀️☀️☀️"
   ]
  },
  {
   "cell_type": "markdown",
   "id": "2c7a6ce5-4cd2-45cd-a3b8-9ac277170654",
   "metadata": {},
   "source": [
    "***"
   ]
  },
  {
   "cell_type": "markdown",
   "id": "f47542a8-416d-4a3f-8c9d-99781dc53bd8",
   "metadata": {},
   "source": [
    "# 24. Exploratory Data Analysis (EDA) \n",
    "**EDA** is the critical first step in any data science project where you investigate, visualize, and summarize datasets to understand their main characteristics, patterns, and potential issues before applying formal modeling techniques."
   ]
  },
  {
   "cell_type": "markdown",
   "id": "a35384c2-ea49-4613-b074-ef3b571f756e",
   "metadata": {},
   "source": [
    "***"
   ]
  },
  {
   "cell_type": "markdown",
   "id": "5e4dbbf4-88e4-4a78-b9a0-fd722e1aa1c0",
   "metadata": {},
   "source": [
    "# 25. Python's Role in EDA\n",
    "Python has become the dominant language for EDA due to its rich ecosystem of data analysis libraries and its intuitive syntax. The key advantages include **Core Libraries**:\n",
    "- **Pandas** - Data manipulation and analysis, providing DataFrames for structured data handling\n",
    "- **NumPy** - Numerical computing and array operations\n",
    "- **Matplotlib** - Basic plotting and visualization\n",
    "- **Seaborn** - Statistical visualizations with attractive defaults\n",
    "- **Plotly** - Interactive visualizations\n",
    "- **Scipy** - Statistical functions and tests"
   ]
  },
  {
   "cell_type": "markdown",
   "id": "a4bb5edf-3034-4d79-8edf-8f0740ea0e27",
   "metadata": {},
   "source": [
    "***"
   ]
  },
  {
   "cell_type": "markdown",
   "id": "cb5cc52c-9d10-47ad-baeb-0900ab6358ff",
   "metadata": {},
   "source": [
    "# 26. Pandas \n",
    "Pandas is the most widely used Python library for data manipulation and analysis. It provides DataFrame and Series structures to handle structured data efficiently. "
   ]
  },
  {
   "cell_type": "markdown",
   "id": "0414a2f0-fb76-43e5-bc5f-a92e6bf5ab7b",
   "metadata": {},
   "source": [
    "***"
   ]
  },
  {
   "cell_type": "markdown",
   "id": "7528c824-0f13-4c5d-aa16-25b5deb65b5f",
   "metadata": {},
   "source": [
    "# 27. Creating DataFrames"
   ]
  },
  {
   "cell_type": "markdown",
   "id": "ca343a02-ff74-4e67-b618-4c7d8d5b6eee",
   "metadata": {},
   "source": [
    "## 27-1. From a Dictionary"
   ]
  },
  {
   "cell_type": "code",
   "execution_count": 1,
   "id": "66011969-2676-4540-9344-9aa0f53b5e0a",
   "metadata": {},
   "outputs": [
    {
     "name": "stdout",
     "output_type": "stream",
     "text": [
      "      Name  Age      City\n",
      "0    Alice   25  New York\n",
      "1      Bob   30    London\n",
      "2  Charlie   35     Paris\n"
     ]
    }
   ],
   "source": [
    "data = {\n",
    "    \"Name\": [\"Alice\", \"Bob\", \"Charlie\"],\n",
    "    \"Age\": [25, 30, 35],\n",
    "    \"City\": [\"New York\", \"London\", \"Paris\"]\n",
    "}\n",
    "\n",
    "import pandas as pd\n",
    "df = pd.DataFrame(data)\n",
    "print(df)"
   ]
  },
  {
   "cell_type": "markdown",
   "id": "89d79214-4d24-4f11-bff3-2a5c092c85e7",
   "metadata": {},
   "source": [
    "***"
   ]
  },
  {
   "cell_type": "markdown",
   "id": "a6266616-28d3-4a6b-8338-acbbc49c5d85",
   "metadata": {},
   "source": [
    "## 27-2. From a CSV File"
   ]
  },
  {
   "cell_type": "code",
   "execution_count": 2,
   "id": "7193352d-f309-4188-9c30-42cbecf1bc83",
   "metadata": {},
   "outputs": [
    {
     "data": {
      "text/html": [
       "<div>\n",
       "<style scoped>\n",
       "    .dataframe tbody tr th:only-of-type {\n",
       "        vertical-align: middle;\n",
       "    }\n",
       "\n",
       "    .dataframe tbody tr th {\n",
       "        vertical-align: top;\n",
       "    }\n",
       "\n",
       "    .dataframe thead th {\n",
       "        text-align: right;\n",
       "    }\n",
       "</style>\n",
       "<table border=\"1\" class=\"dataframe\">\n",
       "  <thead>\n",
       "    <tr style=\"text-align: right;\">\n",
       "      <th></th>\n",
       "      <th>title</th>\n",
       "      <th>author</th>\n",
       "      <th>year</th>\n",
       "      <th>art_type</th>\n",
       "    </tr>\n",
       "  </thead>\n",
       "  <tbody>\n",
       "    <tr>\n",
       "      <th>0</th>\n",
       "      <td>The Starry Night</td>\n",
       "      <td>Vincent van Gogh</td>\n",
       "      <td>1889</td>\n",
       "      <td>painting</td>\n",
       "    </tr>\n",
       "    <tr>\n",
       "      <th>1</th>\n",
       "      <td>Mona Lisa</td>\n",
       "      <td>Leonardo da Vinci</td>\n",
       "      <td>1503</td>\n",
       "      <td>painting</td>\n",
       "    </tr>\n",
       "    <tr>\n",
       "      <th>2</th>\n",
       "      <td>David</td>\n",
       "      <td>Michelangelo</td>\n",
       "      <td>1504</td>\n",
       "      <td>sculpture</td>\n",
       "    </tr>\n",
       "    <tr>\n",
       "      <th>3</th>\n",
       "      <td>The Thinker</td>\n",
       "      <td>Auguste Rodin</td>\n",
       "      <td>1902</td>\n",
       "      <td>sculpture</td>\n",
       "    </tr>\n",
       "  </tbody>\n",
       "</table>\n",
       "</div>"
      ],
      "text/plain": [
       "              title             author  year   art_type\n",
       "0  The Starry Night   Vincent van Gogh  1889   painting\n",
       "1         Mona Lisa  Leonardo da Vinci  1503   painting\n",
       "2             David       Michelangelo  1504  sculpture\n",
       "3       The Thinker      Auguste Rodin  1902  sculpture"
      ]
     },
     "execution_count": 2,
     "metadata": {},
     "output_type": "execute_result"
    }
   ],
   "source": [
    "import pandas as pd\n",
    "df = pd.read_csv(\"data.csv\")  \n",
    "df.head()  # Displays first 5 rows"
   ]
  },
  {
   "cell_type": "markdown",
   "id": "f9d34ed7-9c13-4948-ac9a-bcaad250362e",
   "metadata": {},
   "source": [
    "***"
   ]
  },
  {
   "cell_type": "markdown",
   "id": "bf39d426-3474-4bce-8d6d-0723d842e5d2",
   "metadata": {},
   "source": [
    "## 27-3. From Excel"
   ]
  },
  {
   "cell_type": "code",
   "execution_count": null,
   "id": "d6f85f68-d36d-4de2-ae2e-ef9e7b2176f8",
   "metadata": {},
   "outputs": [],
   "source": [
    "import pandas as pd\n",
    "df = pd.read_excel(\"data.xlsx\", sheet_name=\"SalesOrders\")\n",
    "print(df.head())"
   ]
  },
  {
   "cell_type": "markdown",
   "id": "61509d46-260d-48e0-afc0-a8c62cf186c3",
   "metadata": {},
   "source": [
    "***"
   ]
  },
  {
   "cell_type": "markdown",
   "id": "0f1d10bf-ebfc-4558-bdf9-704fc062e6a6",
   "metadata": {},
   "source": [
    "# 28. Basic DataFrame Operations"
   ]
  },
  {
   "cell_type": "markdown",
   "id": "60f819ce-76e3-40ab-bbc2-edfdfcd1275c",
   "metadata": {},
   "source": [
    "***"
   ]
  },
  {
   "cell_type": "markdown",
   "id": "0053667b-3b61-446e-867d-dd363a38b018",
   "metadata": {},
   "source": [
    "## 28-1. Viewing Data"
   ]
  },
  {
   "cell_type": "code",
   "execution_count": null,
   "id": "b16dddc4-ad80-4600-b50e-a3aa5a4f159a",
   "metadata": {},
   "outputs": [],
   "source": [
    "df.head()      # First 5 rows\n",
    "df.tail(3)     # Last 3 rows\n",
    "df.sample(2)   # Random 2 rows\n",
    "df.shape       # (rows, columns)\n",
    "df.columns     # List of column names\n",
    "df.info()      # Data types & memory usage\n",
    "df.describe()  # Summary statistics for numeric columns"
   ]
  },
  {
   "cell_type": "markdown",
   "id": "bd0fc210-8321-431a-a21a-d1947ff5c995",
   "metadata": {},
   "source": [
    "***"
   ]
  },
  {
   "cell_type": "markdown",
   "id": "56a53e4b-48b1-4ac5-ac4e-7d7797a6751e",
   "metadata": {},
   "source": [
    "## 28-2. Selecting Columns"
   ]
  },
  {
   "cell_type": "code",
   "execution_count": null,
   "id": "57c30afc-70c7-47ae-a09e-c537955ff271",
   "metadata": {},
   "outputs": [],
   "source": [
    "df[\"Name\"]           # Single column (returns Series)\n",
    "df[[\"Name\", \"Age\"]]  # Multiple columns (returns DataFrame)"
   ]
  },
  {
   "cell_type": "markdown",
   "id": "a58a681a-f4db-4edc-a18b-29febf321362",
   "metadata": {},
   "source": [
    "***"
   ]
  },
  {
   "cell_type": "markdown",
   "id": "85ec2151-65c0-4cd4-9692-f61b1c52d4a3",
   "metadata": {},
   "source": [
    "## 28-3. Filtering Rows"
   ]
  },
  {
   "cell_type": "code",
   "execution_count": null,
   "id": "fd0be97e-cb95-4e35-bccb-8810049c2dd3",
   "metadata": {},
   "outputs": [],
   "source": [
    "df[df[\"Age\"] > 30]                                # Age > 30\n",
    "df[(df[\"Age\"] > 25) & (df[\"City\"] == \"London\")]   # Multiple conditions\n",
    "df.query(\"Age > 25 and City == 'London'\")         # SQL-like query"
   ]
  },
  {
   "cell_type": "markdown",
   "id": "f48fb0ca-746a-4f59-aeef-e658e4f91b5e",
   "metadata": {},
   "source": [
    "***"
   ]
  },
  {
   "cell_type": "markdown",
   "id": "2244868e-5a8d-464f-9676-ccf37110c009",
   "metadata": {},
   "source": [
    "# 29. Data Cleaning & Preprocessing"
   ]
  },
  {
   "cell_type": "markdown",
   "id": "8328683a-e785-48fc-b6a2-eebd8f3a45d3",
   "metadata": {},
   "source": [
    "***"
   ]
  },
  {
   "cell_type": "markdown",
   "id": "9e67b155-17c4-40da-8740-dab43134a487",
   "metadata": {},
   "source": [
    "## 29-1. Handling Missing Data (NaN)"
   ]
  },
  {
   "cell_type": "code",
   "execution_count": null,
   "id": "6ce6ab2d-d166-494f-99ce-c81662736d60",
   "metadata": {},
   "outputs": [],
   "source": [
    "df.isna().sum()                                       # Count missing values per column\n",
    "df.dropna()                                           # Drop rows with missing values\n",
    "df.fillna(0)                                          # Replace NaN with 0\n",
    "df[\"Age\"].fillna(df[\"Age\"].mean(), inplace=True)      # Fill with mean"
   ]
  },
  {
   "cell_type": "markdown",
   "id": "4da92f22-261c-4488-b4f0-fe2cbae76e78",
   "metadata": {},
   "source": [
    "***"
   ]
  },
  {
   "cell_type": "markdown",
   "id": "345a71e6-b4b9-4ba8-9bd3-55c7fb6622c9",
   "metadata": {},
   "source": [
    "## 29-2. Removing Duplicates"
   ]
  },
  {
   "cell_type": "code",
   "execution_count": null,
   "id": "303abdb5-f350-4664-92c2-c6f360ad4e11",
   "metadata": {},
   "outputs": [],
   "source": [
    "df.drop_duplicates()  # Removes duplicate rows"
   ]
  },
  {
   "cell_type": "markdown",
   "id": "628b7c76-68cd-4186-8d68-d3891e47349c",
   "metadata": {},
   "source": [
    "***"
   ]
  },
  {
   "cell_type": "markdown",
   "id": "cd8cf86e-6f11-4a72-8ccf-d944f70e5c4f",
   "metadata": {},
   "source": [
    "## 29-3. Renaming Columns"
   ]
  },
  {
   "cell_type": "code",
   "execution_count": null,
   "id": "46110597-3942-43ec-bc27-87cdfcee0bdf",
   "metadata": {},
   "outputs": [],
   "source": [
    "df.rename(columns={\"Name\": \"Full Name\", \"Age\": \"Years\"}, inplace=True)"
   ]
  },
  {
   "cell_type": "markdown",
   "id": "33f0f6be-bc70-4fe0-a63a-632c433caefc",
   "metadata": {},
   "source": [
    "***"
   ]
  },
  {
   "cell_type": "markdown",
   "id": "b01a0ef8-b164-4766-a216-a9dcd71248f4",
   "metadata": {},
   "source": [
    "## 29-4. Changing Data Types"
   ]
  },
  {
   "cell_type": "code",
   "execution_count": null,
   "id": "a1bf2613-ba6e-4b06-8fd6-0f6601d6c0a2",
   "metadata": {},
   "outputs": [],
   "source": [
    "df[\"Age\"] = df[\"Age\"].astype(\"float\")  # Convert to float"
   ]
  },
  {
   "cell_type": "markdown",
   "id": "a687c7e8-7ec9-4e96-b4ed-313169be230d",
   "metadata": {},
   "source": [
    "***"
   ]
  },
  {
   "cell_type": "markdown",
   "id": "ca5fa759-2354-49e3-8c7e-19e2f25eba98",
   "metadata": {},
   "source": [
    "# 30. Data Manipulation"
   ]
  },
  {
   "cell_type": "markdown",
   "id": "f4649704-3a2d-435d-a96d-ba13756574f0",
   "metadata": {},
   "source": [
    "***"
   ]
  },
  {
   "cell_type": "markdown",
   "id": "a5f76316-f498-4b98-9d59-3144dde7b830",
   "metadata": {},
   "source": [
    "## 30-1. Adding New Columns"
   ]
  },
  {
   "cell_type": "code",
   "execution_count": null,
   "id": "aed0a58e-62dc-4eef-bee8-75a8379a5ae7",
   "metadata": {},
   "outputs": [],
   "source": [
    "df[\"Age_Next_Year\"] = df[\"Age\"] + 1"
   ]
  },
  {
   "cell_type": "markdown",
   "id": "e29d85e3-e81c-4c4f-bbd7-01f3e4678fe0",
   "metadata": {},
   "source": [
    "***"
   ]
  },
  {
   "cell_type": "markdown",
   "id": "034e5694-828f-40a0-a9d9-e0e290db7474",
   "metadata": {},
   "source": [
    "## 30-2. Applying Functions to Columns"
   ]
  },
  {
   "cell_type": "code",
   "execution_count": null,
   "id": "dcfa1342-32f1-4cf2-88f0-2d20c9b15f06",
   "metadata": {},
   "outputs": [],
   "source": [
    "df[\"Name_Length\"] = df[\"Name\"].apply(len)  # Apply a function\n",
    "df[\"Age_Group\"] = df[\"Age\"].apply(lambda x: \"Young\" if x < 30 else \"Old\")"
   ]
  },
  {
   "cell_type": "markdown",
   "id": "4b5b4840-fdee-4fe5-b227-19363576a310",
   "metadata": {},
   "source": [
    "***"
   ]
  },
  {
   "cell_type": "markdown",
   "id": "30f1e8c1-cb23-4894-be8f-65c5c4655d95",
   "metadata": {},
   "source": [
    "## 30-3. Sorting Data"
   ]
  },
  {
   "cell_type": "code",
   "execution_count": null,
   "id": "e9c6bffe-92c4-498e-b46f-fee761d05fa9",
   "metadata": {},
   "outputs": [],
   "source": [
    "df.sort_values(\"Age\", ascending=False)  # Sort by Age (descending)"
   ]
  },
  {
   "cell_type": "markdown",
   "id": "b06bf888-b6ab-43a4-ba10-0e620e6cf8ef",
   "metadata": {},
   "source": [
    "***"
   ]
  },
  {
   "cell_type": "markdown",
   "id": "14561362-5eb9-4267-ae32-4a4498202e72",
   "metadata": {},
   "source": [
    "## 30-4. Grouping & Aggregation"
   ]
  },
  {
   "cell_type": "code",
   "execution_count": null,
   "id": "9de69794-9d29-40c5-bfe5-61c226a36769",
   "metadata": {},
   "outputs": [],
   "source": [
    "df.groupby(\"City\")[\"Age\"].mean()  # Average age per city\n",
    "df.groupby(\"City\").agg({\"Age\": [\"mean\", \"max\"], \"Name\": \"count\"})  # Multiple aggregations"
   ]
  },
  {
   "cell_type": "markdown",
   "id": "af7d730b-0360-467e-8562-0152d50d7214",
   "metadata": {},
   "source": [
    "***"
   ]
  },
  {
   "cell_type": "markdown",
   "id": "3a8a15ef-1f06-464b-92c0-f418955852e4",
   "metadata": {},
   "source": [
    "# 31. Merging & Joining DataFrames"
   ]
  },
  {
   "cell_type": "markdown",
   "id": "4aadfcfa-f703-4c32-bc51-d249246f1a09",
   "metadata": {},
   "source": [
    "***"
   ]
  },
  {
   "cell_type": "markdown",
   "id": "58649baa-084f-411a-bd07-483ac8b22220",
   "metadata": {},
   "source": [
    "## 31-1. Concatenation"
   ]
  },
  {
   "cell_type": "code",
   "execution_count": null,
   "id": "8dc0dab5-1ffb-4387-9e59-128acb2823b2",
   "metadata": {},
   "outputs": [],
   "source": [
    "df1 = pd.DataFrame({\"A\": [1, 2], \"B\": [3, 4]})\n",
    "df2 = pd.DataFrame({\"A\": [5, 6], \"B\": [7, 8]})\n",
    "pd.concat([df1, df2], axis=0)  # Stack vertically (rows)"
   ]
  },
  {
   "cell_type": "markdown",
   "id": "b373736d-9cb2-4a0b-8f4f-d20bc3021275",
   "metadata": {},
   "source": [
    "***"
   ]
  },
  {
   "cell_type": "markdown",
   "id": "7c136d35-8c84-49b5-83b8-7b138220e4ad",
   "metadata": {},
   "source": [
    "## 31-2. Joining (Like SQL)"
   ]
  },
  {
   "cell_type": "code",
   "execution_count": null,
   "id": "7f9947b4-2c16-4126-b185-68358fac120e",
   "metadata": {},
   "outputs": [],
   "source": [
    "left = pd.DataFrame({\"key\": [\"A\", \"B\"], \"value\": [1, 2]})\n",
    "right = pd.DataFrame({\"key\": [\"A\", \"B\"], \"value\": [3, 4]})\n",
    "pd.merge(left, right, on=\"key\", how=\"inner\")  # Inner join"
   ]
  },
  {
   "cell_type": "markdown",
   "id": "6e1cde0f-1447-4f97-823a-2fbe4126082d",
   "metadata": {},
   "source": [
    "***"
   ]
  },
  {
   "cell_type": "markdown",
   "id": "8258689a-69db-40a3-9b4c-2d97135c6e49",
   "metadata": {},
   "source": [
    "# 32. Time Series Handling"
   ]
  },
  {
   "cell_type": "markdown",
   "id": "0b4ea1e0-4a22-4dbf-84d3-25017130fa82",
   "metadata": {},
   "source": [
    "***"
   ]
  },
  {
   "cell_type": "markdown",
   "id": "19d56464-4e60-4fd6-bdc1-5714125f22ab",
   "metadata": {},
   "source": [
    "## 32-1. Working with Dates"
   ]
  },
  {
   "cell_type": "code",
   "execution_count": null,
   "id": "ad1d8335-e7a8-4140-87f7-3abbc2630a06",
   "metadata": {},
   "outputs": [],
   "source": [
    "df[\"Date\"] = pd.to_datetime(df[\"Date\"])  # Convert to datetime\n",
    "df[\"Year\"] = df[\"Date\"].dt.year          # Extract year\n",
    "df[\"Month\"] = df[\"Date\"].dt.month        # Extract month"
   ]
  },
  {
   "cell_type": "markdown",
   "id": "403dd525-17b8-4399-8f8e-42a64bd1b5b8",
   "metadata": {},
   "source": [
    "***"
   ]
  },
  {
   "cell_type": "markdown",
   "id": "bf2a72b1-b5e9-4aae-9e31-9070cb83be6f",
   "metadata": {},
   "source": [
    "## 32-2. Resampling (Aggregating Over Time)"
   ]
  },
  {
   "cell_type": "code",
   "execution_count": null,
   "id": "12adcf29-5863-4182-aba9-de9b340daf59",
   "metadata": {},
   "outputs": [],
   "source": [
    "df.set_index(\"Date\", inplace=True)\n",
    "df.resample(\"M\").mean()  # Monthly average"
   ]
  },
  {
   "cell_type": "markdown",
   "id": "6d08918f-e4a6-4c4c-ae26-c3a01f1154e7",
   "metadata": {},
   "source": [
    "***"
   ]
  },
  {
   "cell_type": "markdown",
   "id": "0025c004-bc1c-437c-8c19-18c5e18a2823",
   "metadata": {},
   "source": [
    "# 33. Exporting Data"
   ]
  },
  {
   "cell_type": "code",
   "execution_count": null,
   "id": "00d77f04-6f08-43b7-a011-02a1e0cf0aa0",
   "metadata": {},
   "outputs": [],
   "source": [
    "df.to_csv(\"output.csv\", index=False)  # Save to CSV\n",
    "df.to_excel(\"output.xlsx\", sheet_name=\"Data\")  # Save to Excel"
   ]
  },
  {
   "cell_type": "markdown",
   "id": "0f9c64b7-5f85-4a56-8223-81c36203e7ac",
   "metadata": {},
   "source": [
    "***"
   ]
  },
  {
   "cell_type": "markdown",
   "id": "ea0f17e3-be0f-49d5-bc62-9d02fc29324a",
   "metadata": {},
   "source": [
    "# 34. Advanced Features"
   ]
  },
  {
   "cell_type": "markdown",
   "id": "60565a72-2608-4659-a7ed-be7cae660735",
   "metadata": {},
   "source": [
    "***"
   ]
  },
  {
   "cell_type": "markdown",
   "id": "111ec7ca-b533-41bf-ade6-b904b9fdf52d",
   "metadata": {},
   "source": [
    "## 34-1. Pivot Tables"
   ]
  },
  {
   "cell_type": "code",
   "execution_count": null,
   "id": "5dd7a592-5c68-4431-9b2e-501d868b4c06",
   "metadata": {},
   "outputs": [],
   "source": [
    "df.pivot_table(index=\"City\", columns=\"Age_Group\", values=\"Age\", aggfunc=\"mean\")"
   ]
  },
  {
   "cell_type": "markdown",
   "id": "594731c4-81b9-4947-8616-692a409c40ee",
   "metadata": {},
   "source": [
    "***"
   ]
  },
  {
   "cell_type": "markdown",
   "id": "8cf8ece9-c504-4a73-88fd-6c47c0704aab",
   "metadata": {},
   "source": [
    "## 34-2. Handling Categorical Data"
   ]
  },
  {
   "cell_type": "code",
   "execution_count": null,
   "id": "c0234b13-2697-4310-a37c-5d49c688adef",
   "metadata": {},
   "outputs": [],
   "source": [
    "df[\"City\"] = df[\"City\"].astype(\"category\")  # More memory-efficient"
   ]
  },
  {
   "cell_type": "markdown",
   "id": "d1ab61f6-f965-4a09-b715-997e9cc3c6b1",
   "metadata": {},
   "source": [
    "***"
   ]
  },
  {
   "cell_type": "markdown",
   "id": "e44d233e-9ab2-457a-8af2-b2c0182686ee",
   "metadata": {},
   "source": [
    "## 34-3. String Operations"
   ]
  },
  {
   "cell_type": "code",
   "execution_count": null,
   "id": "636fc8f8-1a66-4b7d-a64a-d4bdc138d1c4",
   "metadata": {},
   "outputs": [],
   "source": [
    "df[\"Name\"].str.upper()       # Convert to uppercase\n",
    "df[\"Name\"].str.contains(\"A\") # Check if name contains \"A\""
   ]
  },
  {
   "cell_type": "markdown",
   "id": "6e3f3de0-10e7-4ac9-a452-a82352463920",
   "metadata": {},
   "source": [
    "***"
   ]
  },
  {
   "cell_type": "markdown",
   "id": "32c17cf6-51ae-411a-88ff-3f6533d45a40",
   "metadata": {},
   "source": [
    "# 35. Performance Optimization"
   ]
  },
  {
   "cell_type": "markdown",
   "id": "99f81242-03a1-492f-a436-c8f45e43b0f7",
   "metadata": {},
   "source": [
    "***"
   ]
  },
  {
   "cell_type": "markdown",
   "id": "5eebf7d8-b9ad-4a53-aefc-99acbef1903d",
   "metadata": {},
   "source": [
    "## 35-1. Vectorized Operations (Faster Than Loops)"
   ]
  },
  {
   "cell_type": "code",
   "execution_count": null,
   "id": "7aabc0b5-db61-418e-b268-0712127e3fc7",
   "metadata": {},
   "outputs": [],
   "source": [
    "df[\"Age_Squared\"] = df[\"Age\"] ** 2  # Much faster than looping"
   ]
  },
  {
   "cell_type": "markdown",
   "id": "f9baf9de-b323-4aa3-817a-6317bbc359ac",
   "metadata": {},
   "source": [
    "***"
   ]
  },
  {
   "cell_type": "markdown",
   "id": "344a0a4a-b6f1-4b58-bd01-4c508e0a780f",
   "metadata": {},
   "source": [
    "## 35-2. Using .loc & .iloc for Indexing"
   ]
  },
  {
   "cell_type": "code",
   "execution_count": null,
   "id": "26f240fa-3309-442e-8384-101f07dcb154",
   "metadata": {},
   "outputs": [],
   "source": [
    "df.loc[0, \"Name\"]    # Access by label\n",
    "df.iloc[0, 1]        # Access by position"
   ]
  },
  {
   "cell_type": "markdown",
   "id": "383ba4d3-fcd3-4737-9ecb-10fb261f1cc4",
   "metadata": {},
   "source": [
    "***"
   ]
  },
  {
   "cell_type": "markdown",
   "id": "4791dc93-9804-44d8-a3e3-fdb759b321a1",
   "metadata": {},
   "source": [
    "***"
   ]
  },
  {
   "cell_type": "markdown",
   "id": "b40206fb-6731-46dc-9302-0b9bc348b89b",
   "metadata": {},
   "source": [
    "# Some Excercises"
   ]
  },
  {
   "cell_type": "markdown",
   "id": "088d38a8-866c-48a9-a9b5-40df9d99ae4b",
   "metadata": {},
   "source": [
    "**1.**  Create a DataFrame from three different sources using pandas:\n",
    "- A Python dictionary of student grades\n",
    "- A CSV file of weather data\n",
    "- A list of dictionaries containing product information"
   ]
  },
  {
   "cell_type": "markdown",
   "id": "b486b7b8-307c-4eb7-8c14-a1dd72eb2e46",
   "metadata": {},
   "source": [
    "___"
   ]
  },
  {
   "cell_type": "markdown",
   "id": "5c32b073-bab0-451e-8fd7-a294020f71c6",
   "metadata": {},
   "source": [
    "**2.** Given a messy dataset with:\n",
    "- Missing values in age column\n",
    "- Inconsistent capitalization in city names\n",
    "- Duplicate records\n",
    "- Invalid date formats\n",
    "\n",
    "Write a cleaning pipeline using pandas."
   ]
  },
  {
   "cell_type": "markdown",
   "id": "489da9fe-be18-487a-bcc7-e5d6672698ba",
   "metadata": {},
   "source": [
    "---"
   ]
  },
  {
   "cell_type": "markdown",
   "id": "bf117f39-fa94-453e-bca9-2ccd7b507496",
   "metadata": {},
   "source": [
    "**3.**  Using pandas analyze the Titanic dataset to:\n",
    "- Calculate survival rates by passenger class\n",
    "- Find age distribution differences between survivors/non-survivors\n",
    "- Identify any correlations between fare price and survival"
   ]
  },
  {
   "cell_type": "markdown",
   "id": "02e59887-780b-4321-9382-ef4c85ec9684",
   "metadata": {},
   "source": [
    "---"
   ]
  },
  {
   "cell_type": "markdown",
   "id": "1b32e2d5-3ed7-4865-b63e-21c5cc156f67",
   "metadata": {},
   "source": [
    "**4.**  Using pandas transform a sales DataFrame to:\n",
    "- Create a new \"profit\" column (revenue - cost)\n",
    "- Group sales by month\n",
    "- Find the 3 best-selling products\n",
    "- Calculate rolling 7-day averages"
   ]
  },
  {
   "cell_type": "markdown",
   "id": "8dcb22a4-aff7-4377-b09a-a39fa4a3b2a7",
   "metadata": {},
   "source": [
    "***"
   ]
  },
  {
   "cell_type": "markdown",
   "id": "17511368-bcb2-4413-87ab-450ca9a64ff2",
   "metadata": {},
   "source": [
    "**5.** Using pandas combine three datasets:\n",
    "- Customer information (name, ID)\n",
    "- Purchase history (transaction logs)\n",
    "- Product catalog (item details)\n",
    "- Create a unified view showing customer purchase patterns."
   ]
  },
  {
   "cell_type": "markdown",
   "id": "1d682728-1f0e-4594-a1d3-30793e3f0751",
   "metadata": {},
   "source": [
    "***"
   ]
  },
  {
   "cell_type": "markdown",
   "id": "25f7d348-8fc5-49e9-a3e0-db0d0374a954",
   "metadata": {},
   "source": [
    "**6.** Using pandas analyze stock price data to:\n",
    "- Resample daily prices to weekly averages\n",
    "- Calculate 30-day moving volatility\n",
    "- Identify days with abnormal price movements (>2 std deviations)"
   ]
  },
  {
   "cell_type": "markdown",
   "id": "56db6a03-fcd5-4229-aa81-132e3f4cb731",
   "metadata": {},
   "source": [
    "***"
   ]
  },
  {
   "cell_type": "markdown",
   "id": "3208864f-ffdb-4b05-b0b1-f6b67683a174",
   "metadata": {},
   "source": [
    "**7.** Using a large e-commerce dataset:\n",
    "- Create a pivot table of sales by category and region\n",
    "- Use pd.cut() to bin continuous variables\n",
    "- Implement a memory optimization strategy"
   ]
  },
  {
   "cell_type": "markdown",
   "id": "31370a8b-cd74-4371-9450-8ce4248412e6",
   "metadata": {},
   "source": [
    "***"
   ]
  },
  {
   "cell_type": "markdown",
   "id": "94bafa50-5d10-40db-97d3-71bdc1821b11",
   "metadata": {},
   "source": [
    "**8.** Build an end-to-end data pipeline:\n",
    "- Import JSON API data\n",
    "- Clean and validate the data\n",
    "- Perform exploratory analysis\n",
    "- Export to both Excel and SQLite\n",
    "- Create summary statistics report"
   ]
  },
  {
   "cell_type": "markdown",
   "id": "af3414ed-8ba7-485b-954f-69bb05f37262",
   "metadata": {},
   "source": [
    "***"
   ]
  },
  {
   "cell_type": "markdown",
   "id": "7cc97f26-cf68-4d50-82a1-ae7dcdfa95ac",
   "metadata": {},
   "source": [
    "#                                                        🌞 https://github.com/AI-Planet 🌞"
   ]
  }
 ],
 "metadata": {
  "kernelspec": {
   "display_name": "Python 3 (ipykernel)",
   "language": "python",
   "name": "python3"
  },
  "language_info": {
   "codemirror_mode": {
    "name": "ipython",
    "version": 3
   },
   "file_extension": ".py",
   "mimetype": "text/x-python",
   "name": "python",
   "nbconvert_exporter": "python",
   "pygments_lexer": "ipython3",
   "version": "3.9.12"
  }
 },
 "nbformat": 4,
 "nbformat_minor": 5
}
