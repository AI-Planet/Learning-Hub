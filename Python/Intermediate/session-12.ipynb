{
 "cells": [
  {
   "cell_type": "markdown",
   "id": "355b5f03-d2a5-4aa3-a77c-776ccfcb35d5",
   "metadata": {},
   "source": [
    "# Session 12 🐍"
   ]
  },
  {
   "cell_type": "markdown",
   "id": "45efc9ec-fb9c-458c-b1de-d961145e8449",
   "metadata": {},
   "source": [
    "☀️☀️☀️☀️☀️☀️☀️☀️☀️☀️☀️☀️☀️☀️☀️☀️☀️☀️☀️☀️☀️☀️☀️☀️☀️☀️☀️☀️☀️☀️☀️☀️☀️☀️☀️☀️☀️☀️☀️☀️☀️☀️☀️☀️☀️"
   ]
  },
  {
   "cell_type": "markdown",
   "id": "2c7a6ce5-4cd2-45cd-a3b8-9ac277170654",
   "metadata": {},
   "source": [
    "***"
   ]
  },
  {
   "cell_type": "markdown",
   "id": "f47542a8-416d-4a3f-8c9d-99781dc53bd8",
   "metadata": {},
   "source": [
    "# 91. PyTorch \n",
    "PyTorch is an open-source deep learning framework developed by Facebook's AI Research Lab (FAIR). It is widely used for machine learning (ML) and deep learning (DL) applications due to its flexibility, dynamic computation graph, and strong GPU acceleration support."
   ]
  },
  {
   "cell_type": "markdown",
   "id": "a35384c2-ea49-4613-b074-ef3b571f756e",
   "metadata": {},
   "source": [
    "***"
   ]
  },
  {
   "cell_type": "markdown",
   "id": "5e4dbbf4-88e4-4a78-b9a0-fd722e1aa1c0",
   "metadata": {},
   "source": [
    "# 92. Important Features of PyTorch\n",
    "- Dynamic Computation Graph (Define-by-Run): Unlike TensorFlow (which uses static graphs), PyTorch builds graphs on-the-fly, making debugging easier.\n",
    "\n",
    "- GPU Acceleration: Supports CUDA for fast tensor computations on NVIDIA GPUs.\n",
    "\n",
    "- Autograd: Automatic differentiation for gradient computation in neural networks.\n",
    "\n",
    "- TorchScript: Allows models to be optimized and deployed in production.\n",
    "\n",
    "- Rich Ecosystem: Integrates with libraries like TorchVision (CV), TorchText (NLP), and TorchAudio (speech processing).\n",
    "\n",
    "- Pythonic & Easy to Debug: Works seamlessly with Python and supports NumPy-like operations."
   ]
  },
  {
   "cell_type": "markdown",
   "id": "a4bb5edf-3034-4d79-8edf-8f0740ea0e27",
   "metadata": {},
   "source": [
    "***"
   ]
  },
  {
   "cell_type": "markdown",
   "id": "cb5cc52c-9d10-47ad-baeb-0900ab6358ff",
   "metadata": {},
   "source": [
    "# 93. PyTorch Basics"
   ]
  },
  {
   "cell_type": "markdown",
   "id": "5d2de8aa-11c8-4023-a19b-77faa03c14af",
   "metadata": {},
   "source": [
    "***"
   ]
  },
  {
   "cell_type": "markdown",
   "id": "7951e259-8fce-4827-8f9a-0d2d1012d417",
   "metadata": {},
   "source": [
    "## 93-1. Tensors (Like NumPy but with GPU Support)\n",
    "Tensors are the fundamental data structure in PyTorch (similar to NumPy arrays but optimized for deep learning)."
   ]
  },
  {
   "cell_type": "code",
   "execution_count": null,
   "id": "e0033bfb-e1e6-4b4b-b9a3-7fcdc69f1f2e",
   "metadata": {},
   "outputs": [],
   "source": [
    "import torch\n",
    "\n",
    "# Create a tensor\n",
    "x = torch.tensor([1, 2, 3])  # 1D tensor\n",
    "y = torch.tensor([[1, 2], [3, 4]])  # 2D tensor (matrix)\n",
    "\n",
    "# Tensor operations (similar to NumPy)\n",
    "z = x + y  # Element-wise addition\n",
    "m = torch.matmul(y, x)  # Matrix multiplication\n",
    "\n",
    "# Move tensor to GPU (if available)\n",
    "if torch.cuda.is_available():\n",
    "    x = x.to(\"cuda\")"
   ]
  },
  {
   "cell_type": "markdown",
   "id": "0414a2f0-fb76-43e5-bc5f-a92e6bf5ab7b",
   "metadata": {},
   "source": [
    "***"
   ]
  },
  {
   "cell_type": "markdown",
   "id": "7528c824-0f13-4c5d-aa16-25b5deb65b5f",
   "metadata": {},
   "source": [
    "## 92-2. Autograd (Automatic Differentiation)\n",
    "PyTorch tracks operations on tensors and computes gradients automatically."
   ]
  },
  {
   "cell_type": "code",
   "execution_count": 2,
   "id": "673aef08-0164-4233-aee1-49b023db4fb8",
   "metadata": {},
   "outputs": [
    {
     "name": "stdout",
     "output_type": "stream",
     "text": [
      "tensor(4.)\n"
     ]
    }
   ],
   "source": [
    "x = torch.tensor(2.0, requires_grad=True)\n",
    "y = x ** 2  # y = x²\n",
    "y.backward()  # Compute gradient (dy/dx)\n",
    "print(x.grad)  # Output: 4.0 (since dy/dx = 2x)"
   ]
  },
  {
   "cell_type": "markdown",
   "id": "89d79214-4d24-4f11-bff3-2a5c092c85e7",
   "metadata": {},
   "source": [
    "***"
   ]
  },
  {
   "cell_type": "markdown",
   "id": "ed49c288-5889-4c9a-971a-26efff710603",
   "metadata": {},
   "source": [
    "# 93. Building Neural Networks\n",
    "PyTorch provides torch.nn for defining neural networks."
   ]
  },
  {
   "cell_type": "markdown",
   "id": "15316d1c-0544-472d-b319-3caebcd1bb96",
   "metadata": {},
   "source": [
    "***"
   ]
  },
  {
   "cell_type": "markdown",
   "id": "d78187cc-be37-4780-af75-09adb0339955",
   "metadata": {},
   "source": [
    "## 93-1. Defining a Simple Neural Network"
   ]
  },
  {
   "cell_type": "code",
   "execution_count": 3,
   "id": "ed29fa3c-8d60-4963-a142-d20db1035fd8",
   "metadata": {},
   "outputs": [],
   "source": [
    "import torch.nn as nn\n",
    "import torch.nn.functional as F\n",
    "\n",
    "class NeuralNet(nn.Module):\n",
    "    def __init__(self):\n",
    "        super().__init__()\n",
    "        self.fc1 = nn.Linear(784, 128)  # Input layer (784 → 128)\n",
    "        self.fc2 = nn.Linear(128, 10)    # Output layer (128 → 10)\n",
    "\n",
    "    def forward(self, x):\n",
    "        x = F.relu(self.fc1(x))  # Activation function\n",
    "        x = self.fc2(x)\n",
    "        return x\n",
    "\n",
    "model = NeuralNet()"
   ]
  },
  {
   "cell_type": "markdown",
   "id": "e5d2ee3a-efa5-4cc4-a34a-77e00ce9a9a4",
   "metadata": {},
   "source": [
    "***"
   ]
  },
  {
   "cell_type": "markdown",
   "id": "6054fd00-b5cb-4760-84ea-8f2798c54d08",
   "metadata": {},
   "source": [
    "## 93-2. Training a Model"
   ]
  },
  {
   "cell_type": "code",
   "execution_count": null,
   "id": "d7e58fd4-6968-4ba4-9418-62ea0b1b5062",
   "metadata": {},
   "outputs": [],
   "source": [
    "import torch.optim as optim\n",
    "\n",
    "# Loss function & optimizer\n",
    "criterion = nn.CrossEntropyLoss()\n",
    "optimizer = optim.SGD(model.parameters(), lr=0.01)\n",
    "\n",
    "# Training loop\n",
    "for epoch in range(10):\n",
    "    optimizer.zero_grad()  # Clear gradients\n",
    "    outputs = model(inputs)  # Forward pass\n",
    "    loss = criterion(outputs, labels)  # Compute loss\n",
    "    loss.backward()  # Backpropagation\n",
    "    optimizer.step()  # Update weights"
   ]
  },
  {
   "cell_type": "markdown",
   "id": "c35849ce-db53-48f1-b820-b6b449c16c3f",
   "metadata": {},
   "source": [
    "***"
   ]
  },
  {
   "cell_type": "markdown",
   "id": "f2480e08-e095-4ccb-a6a2-dc6c664c7fba",
   "metadata": {},
   "source": [
    "# 94. GPU Acceleration\n",
    "PyTorch seamlessly supports GPU computation."
   ]
  },
  {
   "cell_type": "code",
   "execution_count": null,
   "id": "200c1d0e-788f-4a21-ab58-81d665e83931",
   "metadata": {},
   "outputs": [],
   "source": [
    "device = torch.device(\"cuda\" if torch.cuda.is_available() else \"cpu\")\n",
    "model = model.to(device)  # Move model to GPU\n",
    "inputs, labels = inputs.to(device), labels.to(device)  # Move data to GPU"
   ]
  },
  {
   "cell_type": "markdown",
   "id": "fe0063a1-2cac-4bfa-a13f-4cbd6cb3a6bb",
   "metadata": {},
   "source": [
    "***"
   ]
  },
  {
   "cell_type": "markdown",
   "id": "0bb62053-7ce4-4d68-9823-871c17b605f1",
   "metadata": {},
   "source": [
    "# 95. Saving & Loading Models"
   ]
  },
  {
   "cell_type": "code",
   "execution_count": null,
   "id": "4bd62a87-e384-4f4c-9447-04739d426360",
   "metadata": {},
   "outputs": [],
   "source": [
    "# Save model\n",
    "torch.save(model.state_dict(), \"model.pth\")\n",
    "\n",
    "# Load model\n",
    "model = NeuralNet()\n",
    "model.load_state_dict(torch.load(\"model.pth\"))\n",
    "model.eval()  # Set to evaluation mode"
   ]
  },
  {
   "cell_type": "markdown",
   "id": "1c09ac45-5e81-447f-b587-98d7369e9afa",
   "metadata": {},
   "source": [
    "***"
   ]
  },
  {
   "cell_type": "markdown",
   "id": "a6266616-28d3-4a6b-8338-acbbc49c5d85",
   "metadata": {},
   "source": [
    "# 96. PyTorch Ecosystem\n",
    "- **TorchVision:**\tComputer Vision (datasets, models like ResNet)\n",
    "- **TorchText:**\tNLP (text preprocessing, embeddings)\n",
    "- **TorchAudio:**\tSpeech & audio processing\n",
    "- **TorchRL:**\tReinforcement learning\n",
    "- **ONNX:**\tExport models to other frameworks"
   ]
  },
  {
   "cell_type": "markdown",
   "id": "b75c8d7c-6e2d-4726-aa39-9dc00e9fe89e",
   "metadata": {},
   "source": [
    "***"
   ]
  },
  {
   "cell_type": "markdown",
   "id": "3fdac9a4-9085-4539-81d0-609b98b49c87",
   "metadata": {},
   "source": [
    "# 97. Using PyTorch\n",
    "- Research & Prototyping (dynamic graphs make debugging easy)\n",
    "- Custom Neural Networks (flexible architecture design)\n",
    "- GPU-Accelerated Deep Learning (seamless CUDA support)\n",
    "- Deployment (via TorchScript or ONNX)\n",
    "- Not ideal for pure CPU-based small-scale ML (use scikit-learn or NumPy instead)."
   ]
  },
  {
   "cell_type": "markdown",
   "id": "f9d34ed7-9c13-4948-ac9a-bcaad250362e",
   "metadata": {},
   "source": [
    "***"
   ]
  },
  {
   "cell_type": "markdown",
   "id": "4791dc93-9804-44d8-a3e3-fdb759b321a1",
   "metadata": {},
   "source": [
    "***"
   ]
  },
  {
   "cell_type": "markdown",
   "id": "b40206fb-6731-46dc-9302-0b9bc348b89b",
   "metadata": {},
   "source": [
    "# Some Excercises"
   ]
  },
  {
   "cell_type": "markdown",
   "id": "088d38a8-866c-48a9-a9b5-40df9d99ae4b",
   "metadata": {},
   "source": [
    "**1.**  Create two random tensors of shape (3, 3).\n",
    "\n",
    "Perform:\n",
    "- Element-wise addition.\n",
    "- Matrix multiplication.\n",
    "- Reshape one tensor to (9,).\n",
    "- Print results and verify with NumPy."
   ]
  },
  {
   "cell_type": "markdown",
   "id": "b486b7b8-307c-4eb7-8c14-a1dd72eb2e46",
   "metadata": {},
   "source": [
    "___"
   ]
  },
  {
   "cell_type": "markdown",
   "id": "5c32b073-bab0-451e-8fd7-a294020f71c6",
   "metadata": {},
   "source": [
    "**2.** Define a tensor x = torch.tensor(3.0, requires_grad=True).\n",
    "- Compute y = x^3 + 2x^2.\n",
    "- Use .backward() to find dy/dx at x=3.\n",
    "- Print the gradient."
   ]
  },
  {
   "cell_type": "markdown",
   "id": "489da9fe-be18-487a-bcc7-e5d6672698ba",
   "metadata": {},
   "source": [
    "---"
   ]
  },
  {
   "cell_type": "markdown",
   "id": "bf117f39-fa94-453e-bca9-2ccd7b507496",
   "metadata": {},
   "source": [
    "**3.**  Define a neural network with:\n",
    "- Input layer (784 units, for MNIST-like data).\n",
    "- Hidden layer (128 units, ReLU activation).\n",
    "- Output layer (10 units, for classification).\n",
    "- Print the model architecture."
   ]
  },
  {
   "cell_type": "markdown",
   "id": "02e59887-780b-4321-9382-ef4c85ec9684",
   "metadata": {},
   "source": [
    "---"
   ]
  },
  {
   "cell_type": "markdown",
   "id": "1b32e2d5-3ed7-4865-b63e-21c5cc156f67",
   "metadata": {},
   "source": [
    "**4.**  Simulate dummy data (inputs = torch.randn(100, 784), labels = torch.randint(0, 10, (100,))).\n",
    "- Train the model from Exercise 3 for 5 epochs using:\n",
    "- Loss: CrossEntropyLoss.\n",
    "- Optimizer: SGD with lr=0.01.\n",
    "- Print loss every epoch."
   ]
  },
  {
   "cell_type": "markdown",
   "id": "8dcb22a4-aff7-4377-b09a-a39fa4a3b2a7",
   "metadata": {},
   "source": [
    "***"
   ]
  },
  {
   "cell_type": "markdown",
   "id": "17511368-bcb2-4413-87ab-450ca9a64ff2",
   "metadata": {},
   "source": [
    "**5.** Modify Exercise 4 to run on GPU if available.\n",
    "- Move model, inputs, and labels to GPU.\n",
    "- Print the device being used."
   ]
  },
  {
   "cell_type": "markdown",
   "id": "1d682728-1f0e-4594-a1d3-30793e3f0751",
   "metadata": {},
   "source": [
    "***"
   ]
  },
  {
   "cell_type": "markdown",
   "id": "25f7d348-8fc5-49e9-a3e0-db0d0374a954",
   "metadata": {},
   "source": [
    "**6.** Save the trained model from Exercise 4 as mnist_model.pth.\n",
    "- Load it into a new instance of Net.\n",
    "- Verify by making a prediction on a random input."
   ]
  },
  {
   "cell_type": "markdown",
   "id": "56db6a03-fcd5-4229-aa81-132e3f4cb731",
   "metadata": {},
   "source": [
    "***"
   ]
  },
  {
   "cell_type": "markdown",
   "id": "3208864f-ffdb-4b05-b0b1-f6b67683a174",
   "metadata": {},
   "source": [
    "**7.** Load the MNIST dataset using torchvision.datasets.MNIST.\n",
    "- Create a DataLoader with batch size 32.\n",
    "- Print the shape of one batch."
   ]
  },
  {
   "cell_type": "markdown",
   "id": "31370a8b-cd74-4371-9450-8ce4248412e6",
   "metadata": {},
   "source": [
    "***"
   ]
  },
  {
   "cell_type": "markdown",
   "id": "94bafa50-5d10-40db-97d3-71bdc1821b11",
   "metadata": {},
   "source": [
    "**8.** Implement a custom loss function: Mean Absolute Error (MAE) without using nn.L1Loss.\n",
    "- Compute MAE between predictions y_pred and targets y_true.\n",
    "- Test with random tensors."
   ]
  },
  {
   "cell_type": "markdown",
   "id": "af3414ed-8ba7-485b-954f-69bb05f37262",
   "metadata": {},
   "source": [
    "***"
   ]
  },
  {
   "cell_type": "markdown",
   "id": "7cc97f26-cf68-4d50-82a1-ae7dcdfa95ac",
   "metadata": {},
   "source": [
    "#                                                        🌞 https://github.com/AI-Planet 🌞"
   ]
  }
 ],
 "metadata": {
  "kernelspec": {
   "display_name": "Python 3 (ipykernel)",
   "language": "python",
   "name": "python3"
  },
  "language_info": {
   "codemirror_mode": {
    "name": "ipython",
    "version": 3
   },
   "file_extension": ".py",
   "mimetype": "text/x-python",
   "name": "python",
   "nbconvert_exporter": "python",
   "pygments_lexer": "ipython3",
   "version": "3.9.12"
  }
 },
 "nbformat": 4,
 "nbformat_minor": 5
}
