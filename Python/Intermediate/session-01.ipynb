{
 "cells": [
  {
   "cell_type": "markdown",
   "id": "355b5f03-d2a5-4aa3-a77c-776ccfcb35d5",
   "metadata": {},
   "source": [
    "# Session 1 🐍"
   ]
  },
  {
   "cell_type": "markdown",
   "id": "45efc9ec-fb9c-458c-b1de-d961145e8449",
   "metadata": {},
   "source": [
    "☀️☀️☀️☀️☀️☀️☀️☀️☀️☀️☀️☀️☀️☀️☀️☀️☀️☀️☀️☀️☀️☀️☀️☀️☀️☀️☀️☀️☀️☀️☀️☀️☀️☀️☀️☀️☀️☀️☀️☀️☀️☀️☀️☀️☀️"
   ]
  },
  {
   "cell_type": "markdown",
   "id": "2c7a6ce5-4cd2-45cd-a3b8-9ac277170654",
   "metadata": {},
   "source": [
    "***"
   ]
  },
  {
   "cell_type": "markdown",
   "id": "f47542a8-416d-4a3f-8c9d-99781dc53bd8",
   "metadata": {},
   "source": [
    "# 1. Object-Oriented Programming (OOP)\n",
    "Classes and objects are the foundation of Object-Oriented Programming (OOP) in Python. They help organize code into reusable, modular structures."
   ]
  },
  {
   "cell_type": "markdown",
   "id": "a35384c2-ea49-4613-b074-ef3b571f756e",
   "metadata": {},
   "source": [
    "***"
   ]
  },
  {
   "cell_type": "markdown",
   "id": "313c1fe0-88e1-4681-9f7e-90a6e8daa599",
   "metadata": {},
   "source": [
    "# 2. What is a Class?\n",
    "A class is a blueprint for creating objects. It defines:\n",
    "- Attributes (data/variables) → Properties an object has.\n",
    "- Methods (functions) → Actions an object can perform.\n",
    "\n",
    "Syntax:"
   ]
  },
  {
   "cell_type": "code",
   "execution_count": 1,
   "id": "7e9217c9-620b-4286-b095-7b160e381770",
   "metadata": {},
   "outputs": [],
   "source": [
    "class ClassName:\n",
    "    # Class attributes (shared by all objects)\n",
    "    class_attribute = \"Some value\"\n",
    "\n",
    "    # Constructor (initializes object attributes)\n",
    "    def __init__(self, param1, param2):\n",
    "        self.param1 = param1  # Instance attribute\n",
    "        self.param2 = param2\n",
    "\n",
    "    # Method (function inside a class)\n",
    "    def some_method(self):\n",
    "        print(f\"Doing something with {self.param1}\")"
   ]
  },
  {
   "cell_type": "markdown",
   "id": "a4bb5edf-3034-4d79-8edf-8f0740ea0e27",
   "metadata": {},
   "source": [
    "***"
   ]
  },
  {
   "cell_type": "markdown",
   "id": "cb5cc52c-9d10-47ad-baeb-0900ab6358ff",
   "metadata": {},
   "source": [
    "# 3. init: Constructor Method\n",
    "- Purpose: Initializes an object when it’s created.\n",
    "- Usage: Set up attributes for the object."
   ]
  },
  {
   "cell_type": "code",
   "execution_count": 2,
   "id": "6231eb47-04d6-465a-ae48-72c1076086f8",
   "metadata": {},
   "outputs": [
    {
     "name": "stdout",
     "output_type": "stream",
     "text": [
      "Alice\n",
      "30\n"
     ]
    }
   ],
   "source": [
    "class Person:\n",
    "    def __init__(self, name, age):\n",
    "        self.name = name\n",
    "        self.age = age\n",
    "\n",
    "p = Person(\"Alice\", 30)  # Initializes name and age for object p\n",
    "print(p.name)\n",
    "print(p.age)"
   ]
  },
  {
   "cell_type": "markdown",
   "id": "5c1e214b-7b8d-4698-911e-4e487c7e3f07",
   "metadata": {},
   "source": [
    "***"
   ]
  },
  {
   "cell_type": "markdown",
   "id": "7528c824-0f13-4c5d-aa16-25b5deb65b5f",
   "metadata": {},
   "source": [
    "# 4. str: String Representation\n",
    "- Purpose: Defines how the object is displayed as a string (e.g., with print()).\n",
    "- Usage: Return a user-friendly string representation of the object."
   ]
  },
  {
   "cell_type": "code",
   "execution_count": 3,
   "id": "6112f310-900c-4acd-b23b-8149ddba47c8",
   "metadata": {},
   "outputs": [
    {
     "name": "stdout",
     "output_type": "stream",
     "text": [
      "Alice is 30 years old\n"
     ]
    }
   ],
   "source": [
    "class Person:\n",
    "    def __init__(self, name, age):\n",
    "        self.name = name\n",
    "        self.age = age\n",
    "\n",
    "    def __str__(self):\n",
    "        return f\"{self.name} is {self.age} years old\"\n",
    "\n",
    "p=Person(\"Alice\", 30)\n",
    "print(p)  "
   ]
  },
  {
   "cell_type": "markdown",
   "id": "f9d34ed7-9c13-4948-ac9a-bcaad250362e",
   "metadata": {},
   "source": [
    "***"
   ]
  },
  {
   "cell_type": "markdown",
   "id": "77a04002-bb5f-40c4-a2cf-0fffedc13078",
   "metadata": {},
   "source": [
    "# 5. Custom Methods\n",
    "- Purpose: Add specific behaviors or operations.\n",
    "- Usage: Define any functionality needed for the class."
   ]
  },
  {
   "cell_type": "code",
   "execution_count": 4,
   "id": "316de79f-fac8-43b4-8130-9759e7122e59",
   "metadata": {},
   "outputs": [
    {
     "name": "stdout",
     "output_type": "stream",
     "text": [
      "8\n"
     ]
    }
   ],
   "source": [
    "class Calculator:\n",
    "    def add(self, a, b):\n",
    "        return a + b\n",
    "\n",
    "calc = Calculator()\n",
    "print(calc.add(3, 5))  "
   ]
  },
  {
   "cell_type": "markdown",
   "id": "d42a8f4d-6336-471b-81f3-1857ecb2a9a6",
   "metadata": {},
   "source": [
    "***"
   ]
  },
  {
   "cell_type": "markdown",
   "id": "af15eb2f-75c7-49a1-910b-c9a9e6877447",
   "metadata": {},
   "source": [
    "### Example: A Car Class"
   ]
  },
  {
   "cell_type": "code",
   "execution_count": 6,
   "id": "c6e49d64-87f0-4717-9761-11be660d1ee6",
   "metadata": {},
   "outputs": [],
   "source": [
    "class Car:\n",
    "    # Class attribute (shared by all cars)\n",
    "    wheels = 4\n",
    "\n",
    "    # Constructor (runs when creating an object)\n",
    "    def __init__(self, brand, model):\n",
    "        self.brand = brand  # Instance attribute\n",
    "        self.model = model\n",
    "\n",
    "    # Method (function inside the class)\n",
    "    def drive(self):\n",
    "        print(f\"{self.brand} {self.model} is driving!\")"
   ]
  },
  {
   "cell_type": "markdown",
   "id": "fef3e0a3-0e55-460f-a4fa-cb4a88731e8f",
   "metadata": {},
   "source": [
    "***"
   ]
  },
  {
   "cell_type": "markdown",
   "id": "6aba38bb-1d25-47bd-a6f6-27952665f631",
   "metadata": {},
   "source": [
    "# 6. What is an Object?\n",
    "An object is an instance of a class. It represents a real-world entity with:\n",
    "- State (attributes) → Variables that store data.\n",
    "- Behavior (methods) → Functions that define actions."
   ]
  },
  {
   "cell_type": "markdown",
   "id": "3093cb24-c129-43db-89ec-6997aafc3e7e",
   "metadata": {},
   "source": [
    "***"
   ]
  },
  {
   "cell_type": "markdown",
   "id": "4e476783-0e3f-45ec-9a33-f2289768ac6a",
   "metadata": {},
   "source": [
    "# 7. Creating an Object"
   ]
  },
  {
   "cell_type": "code",
   "execution_count": 7,
   "id": "49a13603-f78c-42ae-9d7f-376b1f5d781a",
   "metadata": {},
   "outputs": [
    {
     "name": "stdout",
     "output_type": "stream",
     "text": [
      "Tesla\n",
      "4\n",
      "Tesla Model S is driving!\n"
     ]
    }
   ],
   "source": [
    "# Create a Car object\n",
    "my_car = Car(\"Tesla\", \"Model S\")\n",
    "\n",
    "# Access attributes\n",
    "print(my_car.brand)  # Output: Tesla\n",
    "print(my_car.wheels) # Output: 4 (class attribute)\n",
    "\n",
    "# Call methods\n",
    "my_car.drive()  "
   ]
  },
  {
   "cell_type": "markdown",
   "id": "71a8a9e2-f582-4f64-9072-d5b9a8da26c7",
   "metadata": {},
   "source": [
    "***"
   ]
  },
  {
   "cell_type": "markdown",
   "id": "c4a97df4-804a-42e1-ba34-e4c32b03deca",
   "metadata": {},
   "source": [
    "# 8. Key Concepts in Classes & Objects\n",
    "(A) **self** Keyword\n",
    "- Refers to the current object instance.\n",
    "- Used to access attributes and methods inside the class.\n",
    "\n",
    "(B) __init__ Method (Constructor)\n",
    "- Automatically called when an object is created.\n",
    "- Used to initialize object attributes.\n",
    "\n",
    "(C) Class vs. Instance Attributes"
   ]
  },
  {
   "cell_type": "markdown",
   "id": "67f8a041-893d-42c8-aacc-00ed272f8302",
   "metadata": {},
   "source": [
    "|**Class Attribute** | **Instance Attribute**|\n",
    "|---------------|------------------|\n",
    "|Shared by **all objects**|Unique to **each object**|\n",
    "|Defined outside **__init__**|Defined inside **__init__**|\n",
    "|Example: **wheels = 4**|Example: **self.brand = brand**|"
   ]
  },
  {
   "cell_type": "markdown",
   "id": "8a59ab85-5d27-4db0-85d2-ebb64d8353ba",
   "metadata": {},
   "source": [
    "(D) Modifying Attributes"
   ]
  },
  {
   "cell_type": "code",
   "execution_count": 8,
   "id": "a1726ae9-c102-4ab8-b8c3-a455180294a8",
   "metadata": {},
   "outputs": [
    {
     "name": "stdout",
     "output_type": "stream",
     "text": [
      "Model X\n"
     ]
    }
   ],
   "source": [
    "my_car.model = \"Model X\"  # Change attribute\n",
    "print(my_car.model)  "
   ]
  },
  {
   "cell_type": "markdown",
   "id": "a0ae0cc4-7e57-42fd-8430-d2fe9c05b289",
   "metadata": {},
   "source": [
    "(E) Deleting Objects & Attributes"
   ]
  },
  {
   "cell_type": "code",
   "execution_count": 9,
   "id": "ad8b854d-f920-49ed-8d43-22d208f2bce8",
   "metadata": {},
   "outputs": [],
   "source": [
    "del my_car.model  # Delete an attribute\n",
    "del my_car  # Delete the entire object"
   ]
  },
  {
   "cell_type": "markdown",
   "id": "f4ed73bc-95f3-4773-bb12-52a7573c9a6e",
   "metadata": {},
   "source": [
    "***"
   ]
  },
  {
   "cell_type": "markdown",
   "id": "608512a1-4b70-4c2f-8f1a-e873f6218fcc",
   "metadata": {},
   "source": [
    "# Practice makes perfect"
   ]
  },
  {
   "cell_type": "code",
   "execution_count": 40,
   "id": "bf734f67-649e-4afc-bbe7-e181368b3f91",
   "metadata": {},
   "outputs": [],
   "source": [
    "class Point:\n",
    "    \"\"\"Represents a point in 2-D space.\"\"\"\n",
    "\n",
    "    def __init__(self, x: int = 0, y: int = 0):\n",
    "        \"\"\"Creates a new point object and initializes it.\"\"\"\n",
    "        self.x = x\n",
    "        self.y = y\n",
    "\n",
    "\n",
    "class Rectangle:\n",
    "    \"\"\"Represents a rectangle. \n",
    "       Attributes: width, height, corner.\"\"\"\n",
    "\n",
    "    def __init__(self, w: float = 0, h: float = 0, x: int = 0, y: int = 0):\n",
    "        \"\"\"Creates a new rectangle object and initializes it.\"\"\"\n",
    "        self.width = w\n",
    "        self.height = h\n",
    "        self.corner = Point(x, y)  \n",
    "        \n",
    "    def find_center(self) -> Point:\n",
    "        \"\"\"Calculates the center of a rectangle.\"\"\"\n",
    "        p = Point()\n",
    "        p.x = self.corner.x + self.width / 2\n",
    "        p.y = self.corner.y + self.height / 2\n",
    "        return p"
   ]
  },
  {
   "cell_type": "code",
   "execution_count": 43,
   "id": "024d1995-102c-4a39-99ca-bf2124d23e2b",
   "metadata": {},
   "outputs": [
    {
     "name": "stdout",
     "output_type": "stream",
     "text": [
      "Center at (7.0, 5.5)\n"
     ]
    }
   ],
   "source": [
    "rect = Rectangle(10.0, 5.0, 2, 3)\n",
    "center = rect.find_center()\n",
    "print(f\"Center at ({center.x}, {center.y})\")   "
   ]
  },
  {
   "cell_type": "markdown",
   "id": "355dab3f-e678-4f58-8389-18ffb3ed9762",
   "metadata": {},
   "source": [
    "***"
   ]
  },
  {
   "cell_type": "markdown",
   "id": "4b9d6f49-7d0e-4f06-827d-4a114ee78fd4",
   "metadata": {},
   "source": [
    "# 9. Inheritance (Extending Classes)\n",
    "A class can inherit attributes and methods from another class."
   ]
  },
  {
   "cell_type": "markdown",
   "id": "c9681fad-b2e2-4287-84c7-b952498e28f3",
   "metadata": {},
   "source": [
    "Inheritance is the ability to define a new class that is a modified version of an existing class. To define a new class that inherits from an existing class, you put the name of the existing class in parentheses.\n",
    "\n",
    "The new class is called **derived or child class** and the one from which it inherits is called the **base or parent class**."
   ]
  },
  {
   "cell_type": "markdown",
   "id": "acf740c8-7fe8-4f79-884e-94bf3b34ed7e",
   "metadata": {},
   "source": [
    "***"
   ]
  },
  {
   "cell_type": "markdown",
   "id": "1ffe0787-e34d-4726-81ef-81bcf9374c5a",
   "metadata": {},
   "source": [
    "### Example: ElectricCar Inherits from Car"
   ]
  },
  {
   "cell_type": "code",
   "execution_count": 10,
   "id": "16c28431-3089-47da-9140-c27f5f075c20",
   "metadata": {},
   "outputs": [
    {
     "name": "stdout",
     "output_type": "stream",
     "text": [
      "Tesla Model 3 is driving!\n",
      "Charging Tesla Model 3\n"
     ]
    }
   ],
   "source": [
    "class ElectricCar(Car):  # Inherits from Car\n",
    "    def __init__(self, brand, model, battery_size):\n",
    "        super().__init__(brand, model)  # Call parent constructor\n",
    "        self.battery_size = battery_size\n",
    "\n",
    "    def charge(self):\n",
    "        print(f\"Charging {self.brand} {self.model}\")\n",
    "\n",
    "# Create an ElectricCar object\n",
    "tesla = ElectricCar(\"Tesla\", \"Model 3\", 75)\n",
    "tesla.drive()  # Inherited from Car\n",
    "tesla.charge()  # New method"
   ]
  },
  {
   "cell_type": "markdown",
   "id": "143b108e-bd4e-4c80-b36c-aafc59e924e7",
   "metadata": {},
   "source": [
    "***"
   ]
  },
  {
   "cell_type": "markdown",
   "id": "9ce0781d-fe4c-4686-b95d-1b5a525cb4b4",
   "metadata": {},
   "source": [
    "### Another Example"
   ]
  },
  {
   "cell_type": "code",
   "execution_count": 49,
   "id": "db35a590-c863-41f8-b89d-e81023048d5e",
   "metadata": {},
   "outputs": [],
   "source": [
    "class Polygon:\n",
    "    def __init__(self, sides):\n",
    "        self.n = sides\n",
    "        sides_list = []\n",
    "        for i in range(sides):\n",
    "            sides_list.append(0)\n",
    "        self.sides_list = sides_list\n",
    "\n",
    "    def input_sides(self):\n",
    "        self.sides_list = [float(input(\"Enter side \" + str(i+1) + \" : \")) for i in range(self.n)]\n",
    "\n",
    "    def display_sides(self):\n",
    "        for i in range(self.n):\n",
    "            print(\"Side\", i+1, \"is\", self.sides_list[i])"
   ]
  },
  {
   "cell_type": "code",
   "execution_count": 51,
   "id": "cf86fd24-64c1-40d2-b7d0-f58bf64db647",
   "metadata": {},
   "outputs": [
    {
     "name": "stdin",
     "output_type": "stream",
     "text": [
      "Enter side 1 :  3\n",
      "Enter side 2 :  4\n",
      "Enter side 3 :  5\n"
     ]
    },
    {
     "name": "stdout",
     "output_type": "stream",
     "text": [
      "Side 1 is 3.0\n",
      "Side 2 is 4.0\n",
      "Side 3 is 5.0\n"
     ]
    }
   ],
   "source": [
    "triangle = Polygon(3)\n",
    "triangle.input_sides()\n",
    "triangle.display_sides()"
   ]
  },
  {
   "cell_type": "code",
   "execution_count": 54,
   "id": "dcb923f2-7302-452f-b31d-e96a59451a75",
   "metadata": {},
   "outputs": [],
   "source": [
    "class Triangle(Polygon):\n",
    "    def __init__(self):\n",
    "        Polygon.__init__(self,3)\n",
    "\n",
    "    def area(self):\n",
    "        a, b, c = self.sides_list\n",
    "        p = (a + b + c)\n",
    "        s = p / 2\n",
    "        a = (s * (s-a) * (s-b) * (s-c)) ** 0.5\n",
    "        print('The area of the triangle is %0.2f' % a)"
   ]
  },
  {
   "cell_type": "code",
   "execution_count": 55,
   "id": "6532819d-7d6b-4496-8122-6af37dd42459",
   "metadata": {},
   "outputs": [
    {
     "name": "stdin",
     "output_type": "stream",
     "text": [
      "Enter side 1 :  2\n",
      "Enter side 2 :  2\n",
      "Enter side 3 :  2\n"
     ]
    },
    {
     "name": "stdout",
     "output_type": "stream",
     "text": [
      "The area of the triangle is 1.73\n"
     ]
    }
   ],
   "source": [
    "t = Triangle()\n",
    "t.input_sides()\n",
    "t.area()"
   ]
  },
  {
   "cell_type": "markdown",
   "id": "22267c7d-f425-49fd-9e7c-9dea0494ee8d",
   "metadata": {},
   "source": [
    "***"
   ]
  },
  {
   "cell_type": "code",
   "execution_count": 63,
   "id": "7c86fc02-f5f7-40b1-a5d9-10952627a275",
   "metadata": {},
   "outputs": [],
   "source": [
    "class Person():\n",
    "    \"\"\"Representing a person.\"\"\"\n",
    "\n",
    "    def __init__(self, name: str, idnumber: int):\n",
    "        self.name: str = name\n",
    "        self.idnumber: int = idnumber\n",
    "\n",
    "    def display(self) -> None:\n",
    "        return f\"Name: {self.name}, with ID number: {self.idnumber}\"\n",
    "\n",
    "\n",
    "class Employee(Person):\n",
    "    \"\"\"Representing an employee.\"\"\"\n",
    "\n",
    "    def __init__(self, name: str, idnumber: int, salary: int, function: str):\n",
    "        self.salary: int = salary\n",
    "        self.function: str = function\n",
    "        super().__init__(name, idnumber)"
   ]
  },
  {
   "cell_type": "code",
   "execution_count": 66,
   "id": "c8a6c3f0-cc0a-4458-b652-a775dc5bb69b",
   "metadata": {},
   "outputs": [
    {
     "name": "stdout",
     "output_type": "stream",
     "text": [
      "Mehdi\n",
      "653100\n",
      "Name: Mehdi, with ID number: 653100\n",
      "10000\n",
      "Professor\n"
     ]
    }
   ],
   "source": [
    "man: Employee = Employee('Mehdi', 653100, 10000, \"Professor\")\n",
    "print(man.name)\n",
    "print(man.idnumber)\n",
    "print(man.display())\n",
    "print(man.salary)\n",
    "print(man.function)"
   ]
  },
  {
   "cell_type": "markdown",
   "id": "f7a714c4-8b7a-4774-895a-7c7495bfc1ac",
   "metadata": {},
   "source": [
    "***"
   ]
  },
  {
   "cell_type": "markdown",
   "id": "8134cf5d-2d1c-4f03-a80d-e5c268830e49",
   "metadata": {},
   "source": [
    "# 10. Different forms of Inheritance\n",
    "- **Single inheritance**: When a child class inherits from only one parent class. We saw some examples above.\n",
    "- **Multiple inheritance**: When a child class inherits from multiple parent classes. We specify all parent classes as a comma-seperated list in the bracket."
   ]
  },
  {
   "cell_type": "markdown",
   "id": "b971d3cf-6fe0-43c8-803c-39f013c96947",
   "metadata": {},
   "source": [
    "***"
   ]
  },
  {
   "cell_type": "code",
   "execution_count": 67,
   "id": "a365e363-0eeb-4d0e-b054-0104b4817a27",
   "metadata": {},
   "outputs": [],
   "source": [
    "class Person():\n",
    "    \"\"\"Representing a person.\"\"\"\n",
    "\n",
    "    def __init__(self, name: str, idnumber: int):\n",
    "        self.idname: str = name\n",
    "        self.idnumber: int = idnumber\n",
    "\n",
    "    def display(self) -> None:\n",
    "        return f\"Name: {self.idname}, with ID number: {self.idnumber}\"\n",
    "\n",
    "\n",
    "class Organization():\n",
    "    \"\"\"Representing an organization.\"\"\"\n",
    "\n",
    "    def __init__(self, name: str, tp_of_organ: str):\n",
    "        self.orgname: str = name\n",
    "        self.orgtype: str = tp_of_organ\n",
    "\n",
    "\n",
    "class Employee(Person, Organization):\n",
    "    \"\"\"Representing an employee.\"\"\"\n",
    "\n",
    "    def __init__(self, idname: str, idnumber: int, salary: int, function: str, orgname: str, orgtype: str):\n",
    "        self.salary: int = salary\n",
    "        self.function: str = function\n",
    "        Person.__init__(self, idname, idnumber)\n",
    "        Organization.__init__(self, orgname, orgtype)"
   ]
  },
  {
   "cell_type": "code",
   "execution_count": 76,
   "id": "ff3fbff2-8107-4f40-b33d-3997ae5a6b60",
   "metadata": {},
   "outputs": [
    {
     "name": "stdout",
     "output_type": "stream",
     "text": [
      "Mehdi\n",
      "653100\n",
      "Name: Mehdi, with ID number: 653100\n",
      "UVA\n",
      "University\n",
      "10000\n",
      "Professor\n"
     ]
    }
   ],
   "source": [
    "man: Employee = Employee('Mehdi', 653100, 10000, 'Professor', 'UVA', 'University')\n",
    "print(man.idname)\n",
    "print(man.idnumber)\n",
    "print(man.display())\n",
    "print(man.orgname)\n",
    "print(man.orgtype)\n",
    "print(man.salary)\n",
    "print(man.function)"
   ]
  },
  {
   "cell_type": "markdown",
   "id": "c84e35d3-c9a7-42ba-b673-1b7124aab71a",
   "metadata": {},
   "source": [
    "***"
   ]
  },
  {
   "cell_type": "markdown",
   "id": "26db36b9-1e74-4e2f-94eb-e034b5029240",
   "metadata": {},
   "source": [
    "# 11. Multi-level inheritance\n",
    "When we have a child and grandchild relationship."
   ]
  },
  {
   "cell_type": "markdown",
   "id": "9e77a2c6-d9a5-4f51-8d7e-ed659daefd96",
   "metadata": {},
   "source": [
    "***"
   ]
  },
  {
   "cell_type": "code",
   "execution_count": 86,
   "id": "cd28cc43-d3c0-415f-bc6f-1a329769d33c",
   "metadata": {},
   "outputs": [],
   "source": [
    "class Person:\n",
    "    \"\"\"Representing a person.\"\"\"\n",
    "\n",
    "    def __init__(self, name: str, idnumber: int):\n",
    "        self.name: str = name  # Changed from idname to name for consistency\n",
    "        self.idnumber: int = idnumber\n",
    "\n",
    "    def display(self) -> str:  # Changed return type to str\n",
    "        return f\"Name: {self.name}, with ID number: {self.idnumber}\"\n",
    "\n",
    "\n",
    "class Organization:\n",
    "    \"\"\"Representing an organization.\"\"\"\n",
    "\n",
    "    def __init__(self, name: str, org_type: str):  # More descriptive parameter name\n",
    "        self.orgname: str = name\n",
    "        self.orgtype: str = org_type\n",
    "\n",
    "\n",
    "class Employee(Person, Organization):\n",
    "    \"\"\"Representing an employee.\"\"\"\n",
    "\n",
    "    def __init__(self, name: str, idnumber: int, salary: int, function: str, orgname: str, orgtype: str):\n",
    "        Person.__init__(self, name, idnumber)\n",
    "        Organization.__init__(self, orgname, orgtype)\n",
    "        self.salary: int = salary\n",
    "        self.function: str = function\n",
    "\n",
    "\n",
    "class Scientific(Employee):\n",
    "    \"\"\"Representing a scientific employee.\"\"\"\n",
    "\n",
    "    def __init__(self, name: str, idnumber: int, salary: int, function: str, orgname: str, orgtype: str, level: str):\n",
    "        super().__init__(name, idnumber, salary, function, orgname, orgtype)\n",
    "        self.level: str = level"
   ]
  },
  {
   "cell_type": "code",
   "execution_count": 99,
   "id": "18e81aeb-5d7f-4bad-be98-174addc69f31",
   "metadata": {},
   "outputs": [
    {
     "name": "stdout",
     "output_type": "stream",
     "text": [
      "Mehdi\n",
      "653100\n",
      "Name: Mehdi, with ID number: 653100\n",
      "UVA\n",
      "University\n",
      "10000\n",
      "professor\n",
      "AI\n"
     ]
    }
   ],
   "source": [
    "man: Scientific = Scientific('Mehdi', 653100, 10000, 'professor', 'UVA', 'University', 'AI')\n",
    "print(man.name)\n",
    "print(man.idnumber)\n",
    "print(man.display())\n",
    "print(man.orgname)\n",
    "print(man.orgtype)\n",
    "print(man.salary)\n",
    "print(man.function)\n",
    "print(man.level)"
   ]
  },
  {
   "cell_type": "markdown",
   "id": "96063ef3-2ddd-4ccd-846a-7aacbe0ea6a9",
   "metadata": {},
   "source": [
    "***"
   ]
  },
  {
   "cell_type": "markdown",
   "id": "886e3b33-871c-4414-bd6a-73d3a714e06b",
   "metadata": {},
   "source": [
    "# 12. Hierarchical inheritance\n",
    "When more than one derived classes are created from a single base, this type of inheritance is called hierarchical inheritance. In this program, we have a parent (base) class and two children (derived) classes."
   ]
  },
  {
   "cell_type": "code",
   "execution_count": 100,
   "id": "efb021e4-58eb-4b4a-8a3a-e54a375671b9",
   "metadata": {},
   "outputs": [],
   "source": [
    "class Person():\n",
    "    \"\"\"Representing a person.\"\"\"\n",
    "\n",
    "    def __init__(self, name: str, idnumber: int):\n",
    "        self.idname: str = name\n",
    "        self.idnumber: int = idnumber\n",
    "\n",
    "    def display(self):\n",
    "        print(self.idname)\n",
    "        print(self.idnumber)\n",
    "\n",
    "\n",
    "class Organization():\n",
    "    \"\"\"Representing an organization.\"\"\"\n",
    "\n",
    "    def __init__(self, name: str, tp_of_organ: str):\n",
    "        self.orgname: str = name\n",
    "        self.orgtype: str = tp_of_organ\n",
    "\n",
    "\n",
    "class Employee(Person, Organization):\n",
    "    \"\"\"Representing an employee.\"\"\"\n",
    "\n",
    "    def __init__(self, idname: str, idnumber: int, salary: int, orgname: str, orgtype: str):\n",
    "        self.salary: int = salary\n",
    "        Person.__init__(self, idname, idnumber)\n",
    "        Organization.__init__(self, orgname, orgtype)\n",
    "\n",
    "\n",
    "class Scientific(Employee):\n",
    "    \"\"\"Representing a specific scientific function.\"\"\"\n",
    "\n",
    "    def __init__(self, idname: str, idnumber: int, salary: int, level: str, orgname: str, orgtype: str):\n",
    "        self.level: str = level\n",
    "        Employee.__init__(self, idname, idnumber, salary, orgname, orgtype)\n",
    "\n",
    "\n",
    "class Support(Employee):\n",
    "    \"\"\"Representing a specific support function.\"\"\"\n",
    "\n",
    "    def __init__(self, idname: str, idnumber: int, salary: int, suptype: str, orgname: str, orgtype: str):\n",
    "        self.suptype = suptype\n",
    "        Employee.__init__(self, idname, idnumber, salary, orgname, orgtype)"
   ]
  },
  {
   "cell_type": "code",
   "execution_count": 101,
   "id": "6a5096b0-63c9-4381-b29c-2baaaf9d48ad",
   "metadata": {},
   "outputs": [
    {
     "name": "stdout",
     "output_type": "stream",
     "text": [
      "Mehdi\n",
      "653100\n",
      "None\n",
      "Majid\n",
      "853100\n",
      "None\n"
     ]
    }
   ],
   "source": [
    "a = Scientific('Mehdi', 653100, 10000, 'Professor', 'UVA', 'University')\n",
    "b = Support('Majid', 853100, 15000, 'Engineer', 'BMW', 'Company')\n",
    "\n",
    "print(a.display())\n",
    "print(b.display())"
   ]
  },
  {
   "cell_type": "markdown",
   "id": "5cff5f91-2e4c-4fab-8fe5-c14a9521ff61",
   "metadata": {},
   "source": [
    "***"
   ]
  },
  {
   "cell_type": "markdown",
   "id": "ca80b953-6ef3-48ba-9b86-39593d0f758f",
   "metadata": {},
   "source": [
    "# 13. Checking inheritance\n",
    "Two built-in functions **isinstance()** and **issubclass()** are used to check inheritances."
   ]
  },
  {
   "cell_type": "markdown",
   "id": "606aec46-e27b-4e68-bffa-8ed72c2a0841",
   "metadata": {},
   "source": [
    "## 13-1. isinstance( )\n",
    "The function isinstance() returns **True** if the object is an instance of the class or other classes derived from it."
   ]
  },
  {
   "cell_type": "code",
   "execution_count": 110,
   "id": "dbf16a1e-eae4-49e7-9725-e14dc3efb54b",
   "metadata": {},
   "outputs": [
    {
     "name": "stdout",
     "output_type": "stream",
     "text": [
      "True\n",
      "True\n",
      "True\n",
      "True\n"
     ]
    }
   ],
   "source": [
    "a = Scientific('Mehdi', 653100, 10000, 'Professor', 'UVA', 'University')\n",
    "print(isinstance(a, Person))\n",
    "print(isinstance(a, Organization))\n",
    "print(isinstance(a, Employee))\n",
    "print(isinstance(a, Scientific))"
   ]
  },
  {
   "cell_type": "code",
   "execution_count": 112,
   "id": "39101b0c-c4e6-4ce9-92ac-adf999ffbf85",
   "metadata": {},
   "outputs": [
    {
     "name": "stdout",
     "output_type": "stream",
     "text": [
      "True\n",
      "False\n"
     ]
    }
   ],
   "source": [
    "print(isinstance(a, object))\n",
    "print(isinstance(Scientific, Person))"
   ]
  },
  {
   "cell_type": "markdown",
   "id": "7c9fd764-f2d1-4fcf-8b48-d70ce2cafa93",
   "metadata": {},
   "source": [
    "## 13-2. issubclass( )\n",
    "In the same way, issubclass() is used to check for class inheritance."
   ]
  },
  {
   "cell_type": "code",
   "execution_count": 116,
   "id": "1c6681f4-d6d5-4288-a3da-508d3ae49958",
   "metadata": {},
   "outputs": [
    {
     "name": "stdout",
     "output_type": "stream",
     "text": [
      "True\n",
      "False\n"
     ]
    }
   ],
   "source": [
    "print(issubclass(Scientific, Person))\n",
    "print(issubclass(Person, Scientific))"
   ]
  },
  {
   "cell_type": "code",
   "execution_count": 118,
   "id": "468562b4-a3f8-47f8-af77-18c92b9f7b5e",
   "metadata": {},
   "outputs": [
    {
     "name": "stdout",
     "output_type": "stream",
     "text": [
      "True\n",
      "False\n"
     ]
    }
   ],
   "source": [
    "print(issubclass(bool, int))\n",
    "print(issubclass(int, bool))"
   ]
  },
  {
   "cell_type": "markdown",
   "id": "53963a53-0b12-4f8c-98c3-c0824c94594f",
   "metadata": {},
   "source": [
    "***"
   ]
  },
  {
   "cell_type": "markdown",
   "id": "10e6165d-7181-4f39-9703-37e3c8ccab3c",
   "metadata": {},
   "source": [
    "***"
   ]
  },
  {
   "cell_type": "markdown",
   "id": "b40206fb-6731-46dc-9302-0b9bc348b89b",
   "metadata": {},
   "source": [
    "# Some Excercises"
   ]
  },
  {
   "cell_type": "markdown",
   "id": "088d38a8-866c-48a9-a9b5-40df9d99ae4b",
   "metadata": {},
   "source": [
    "**1.** Create a class **Book** with:\n",
    "- A constructor (__init__) that takes title (str), author (str), and pages (int).\n",
    "- A __str__ method to return: \"{title} by {author}, {pages} pages\".\n",
    "- A method is_long() that returns True if the book has > 300 pages."
   ]
  },
  {
   "cell_type": "markdown",
   "id": "b486b7b8-307c-4eb7-8c14-a1dd72eb2e46",
   "metadata": {},
   "source": [
    "___"
   ]
  },
  {
   "cell_type": "markdown",
   "id": "5c32b073-bab0-451e-8fd7-a294020f71c6",
   "metadata": {},
   "source": [
    "**2.** Extend the **Book** class to create an **EBook** subclass with:\n",
    "- Additional attribute file_size (float, in MB).\n",
    "- Override __str__ to include: \"[E-Book] {title} by {author}, {file_size}MB\"."
   ]
  },
  {
   "cell_type": "markdown",
   "id": "489da9fe-be18-487a-bcc7-e5d6672698ba",
   "metadata": {},
   "source": [
    "---"
   ]
  },
  {
   "cell_type": "markdown",
   "id": "bf117f39-fa94-453e-bca9-2ccd7b507496",
   "metadata": {},
   "source": [
    "**3.** Create two classes:\n",
    "- **Audio**: Constructor takes duration (minutes).\n",
    "- **Streamable**: Has a method can_stream() returning True.\n",
    "\n",
    "Now, create a Podcast class that inherits from both Audio and Book (from Exercise 1). Resolve conflicts (e.g., __str__) to prioritize Audio’s attributes."
   ]
  },
  {
   "cell_type": "markdown",
   "id": "02e59887-780b-4321-9382-ef4c85ec9684",
   "metadata": {},
   "source": [
    "---"
   ]
  },
  {
   "cell_type": "markdown",
   "id": "1b32e2d5-3ed7-4865-b63e-21c5cc156f67",
   "metadata": {},
   "source": [
    "**4.**  Create a base class **Shape** with:\n",
    "- A method **area()** that raises NotImplementedError.\n",
    "- Subclasses **Circle** (radius) and **Square** (side) that override area()."
   ]
  },
  {
   "cell_type": "markdown",
   "id": "8dcb22a4-aff7-4377-b09a-a39fa4a3b2a7",
   "metadata": {},
   "source": [
    "***"
   ]
  },
  {
   "cell_type": "markdown",
   "id": "17511368-bcb2-4413-87ab-450ca9a64ff2",
   "metadata": {},
   "source": [
    "**5.** Create a **Library** class that:\n",
    "- Accepts a list of Book objects in its constructor.\n",
    "- Has a method **add_book(book)** and **find_books_by_author(author)** (returns matching books)."
   ]
  },
  {
   "cell_type": "markdown",
   "id": "af3414ed-8ba7-485b-954f-69bb05f37262",
   "metadata": {},
   "source": [
    "***"
   ]
  },
  {
   "cell_type": "markdown",
   "id": "8f5ff722-c584-476e-82c7-c99d48dcae2a",
   "metadata": {},
   "source": [
    "**6.** Write a function **is_subclass(cls, parent)** that returns True if **cls** is a subclass of **parent** (without using issubclass()).\n",
    "\n",
    "Hint: Use cls.__bases__ to check parent classes recursively."
   ]
  },
  {
   "cell_type": "markdown",
   "id": "2257cad9-b203-4fcf-bd40-26e519626647",
   "metadata": {},
   "source": [
    "***"
   ]
  },
  {
   "cell_type": "markdown",
   "id": "18a3029c-0bac-4193-a5c0-cff1c5cc1cfa",
   "metadata": {},
   "source": [
    "**7.** Extend Book to create a **Textbook** subclass that:\n",
    "- Adds subject (str).\n",
    "- Overrides is_long() to return True if pages > 500."
   ]
  },
  {
   "cell_type": "markdown",
   "id": "4b9cae2d-e35a-49a6-8e8b-cf96f638ddd0",
   "metadata": {},
   "source": [
    "***"
   ]
  },
  {
   "cell_type": "markdown",
   "id": "5ed41cc7-ee76-474d-b2a9-a60c8a457351",
   "metadata": {},
   "source": [
    "**8.** Add a static method **get_default_book()** to the Book class that returns a predefined Book instance (e.g., \"Untitled\" by \"Anonymous\", 0 pages)."
   ]
  },
  {
   "cell_type": "markdown",
   "id": "7cc885bd-d362-4b38-b25f-89be1844f53c",
   "metadata": {},
   "source": [
    "***"
   ]
  },
  {
   "cell_type": "markdown",
   "id": "7cc97f26-cf68-4d50-82a1-ae7dcdfa95ac",
   "metadata": {},
   "source": [
    "#                                                        🌞 https://github.com/AI-Planet 🌞"
   ]
  }
 ],
 "metadata": {
  "kernelspec": {
   "display_name": "Python 3 (ipykernel)",
   "language": "python",
   "name": "python3"
  },
  "language_info": {
   "codemirror_mode": {
    "name": "ipython",
    "version": 3
   },
   "file_extension": ".py",
   "mimetype": "text/x-python",
   "name": "python",
   "nbconvert_exporter": "python",
   "pygments_lexer": "ipython3",
   "version": "3.9.12"
  }
 },
 "nbformat": 4,
 "nbformat_minor": 5
}
