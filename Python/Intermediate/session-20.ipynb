{
 "cells": [
  {
   "cell_type": "markdown",
   "id": "355b5f03-d2a5-4aa3-a77c-776ccfcb35d5",
   "metadata": {},
   "source": [
    "# Session 20 🐍"
   ]
  },
  {
   "cell_type": "markdown",
   "id": "45efc9ec-fb9c-458c-b1de-d961145e8449",
   "metadata": {},
   "source": [
    "☀️☀️☀️☀️☀️☀️☀️☀️☀️☀️☀️☀️☀️☀️☀️☀️☀️☀️☀️☀️☀️☀️☀️☀️☀️☀️☀️☀️☀️☀️☀️☀️☀️☀️☀️☀️☀️☀️☀️☀️☀️☀️☀️☀️☀️"
   ]
  },
  {
   "cell_type": "markdown",
   "id": "2c7a6ce5-4cd2-45cd-a3b8-9ac277170654",
   "metadata": {},
   "source": [
    "***"
   ]
  },
  {
   "cell_type": "markdown",
   "id": "f47542a8-416d-4a3f-8c9d-99781dc53bd8",
   "metadata": {},
   "source": [
    "# 157. Polars \n",
    "Polars is a blazingly fast DataFrame library implemented in Rust with Python bindings. It's designed for efficient data manipulation and analysis, offering performance that often surpasses pandas, especially for large datasets."
   ]
  },
  {
   "cell_type": "markdown",
   "id": "a35384c2-ea49-4613-b074-ef3b571f756e",
   "metadata": {},
   "source": [
    "***"
   ]
  },
  {
   "cell_type": "markdown",
   "id": "5e4dbbf4-88e4-4a78-b9a0-fd722e1aa1c0",
   "metadata": {},
   "source": [
    "# 158. Important Features\n",
    "- Lazy and eager execution modes\n",
    "- Multi-threaded and vectorized query engine\n",
    "- Memory efficiency (zero-copy reads)\n",
    "- Expressive API similar to pandas but with some key differences\n",
    "- Out-of-core processing for datasets larger than memory"
   ]
  },
  {
   "cell_type": "markdown",
   "id": "a4bb5edf-3034-4d79-8edf-8f0740ea0e27",
   "metadata": {},
   "source": [
    "***"
   ]
  },
  {
   "cell_type": "markdown",
   "id": "cb5cc52c-9d10-47ad-baeb-0900ab6358ff",
   "metadata": {},
   "source": [
    "# 159. Basic Usage"
   ]
  },
  {
   "cell_type": "markdown",
   "id": "5d2de8aa-11c8-4023-a19b-77faa03c14af",
   "metadata": {},
   "source": [
    "***"
   ]
  },
  {
   "cell_type": "markdown",
   "id": "7951e259-8fce-4827-8f9a-0d2d1012d417",
   "metadata": {},
   "source": [
    "## 159-1. Creating DataFrames"
   ]
  },
  {
   "cell_type": "code",
   "execution_count": null,
   "id": "df2902fb-52c6-4862-9378-a930acdb9829",
   "metadata": {},
   "outputs": [],
   "source": [
    "import polars as pl\n",
    "\n",
    "# From a dictionary\n",
    "df = pl.DataFrame({\n",
    "    \"A\": [1, 2, 3, 4, 5],\n",
    "    \"B\": [\"a\", \"b\", \"c\", \"d\", \"e\"],\n",
    "    \"C\": [1.1, 2.2, 3.3, 4.4, 5.5]\n",
    "})\n",
    "\n",
    "# From a list of tuples\n",
    "df = pl.DataFrame([\n",
    "    (1, \"a\", 1.1),\n",
    "    (2, \"b\", 2.2),\n",
    "    (3, \"c\", 3.3),\n",
    "    (4, \"d\", 4.4),\n",
    "    (5, \"e\", 5.5)\n",
    "], schema=[\"A\", \"B\", \"C\"])\n",
    "\n",
    "# From a pandas DataFrame\n",
    "import pandas as pd\n",
    "pdf = pd.DataFrame({\"A\": [1, 2], \"B\": [\"x\", \"y\"]})\n",
    "df = pl.from_pandas(pdf)"
   ]
  },
  {
   "cell_type": "markdown",
   "id": "0414a2f0-fb76-43e5-bc5f-a92e6bf5ab7b",
   "metadata": {},
   "source": [
    "***"
   ]
  },
  {
   "cell_type": "markdown",
   "id": "7528c824-0f13-4c5d-aa16-25b5deb65b5f",
   "metadata": {},
   "source": [
    "## 159-2. Basic Operations"
   ]
  },
  {
   "cell_type": "code",
   "execution_count": null,
   "id": "3e390a33-4241-4879-8d1c-e61489274e70",
   "metadata": {},
   "outputs": [],
   "source": [
    "# Selecting columns\n",
    "df.select([\"A\", \"B\"])\n",
    "\n",
    "# Filtering\n",
    "df.filter(pl.col(\"A\") > 3)\n",
    "\n",
    "# Adding columns\n",
    "df.with_columns((pl.col(\"A\") * 10).alias(\"A_times_10\"))\n",
    "\n",
    "# Grouping and aggregating\n",
    "df.group_by(\"B\").agg(\n",
    "    pl.col(\"A\").sum(),\n",
    "    pl.col(\"C\").mean()\n",
    ")\n",
    "\n",
    "# Sorting\n",
    "df.sort(\"A\", descending=True)"
   ]
  },
  {
   "cell_type": "markdown",
   "id": "89d79214-4d24-4f11-bff3-2a5c092c85e7",
   "metadata": {},
   "source": [
    "***"
   ]
  },
  {
   "cell_type": "markdown",
   "id": "d78187cc-be37-4780-af75-09adb0339955",
   "metadata": {},
   "source": [
    "# 160. Lazy API\n",
    "Polars' lazy API builds a query plan and executes it only when needed, allowing for optimizations:"
   ]
  },
  {
   "cell_type": "code",
   "execution_count": null,
   "id": "49e05f1b-864d-4878-8daf-c7ca191680b0",
   "metadata": {},
   "outputs": [],
   "source": [
    "# Lazy evaluation\n",
    "lf = pl.scan_csv(\"large_file.csv\")  # Creates a LazyFrame\n",
    "\n",
    "query = (lf\n",
    "    .filter(pl.col(\"value\") > 100)\n",
    "    .group_by(\"category\")\n",
    "    .agg(pl.col(\"value\").sum())\n",
    "    \n",
    "# Execution happens here\n",
    "result = query.collect()"
   ]
  },
  {
   "cell_type": "markdown",
   "id": "e5d2ee3a-efa5-4cc4-a34a-77e00ce9a9a4",
   "metadata": {},
   "source": [
    "***"
   ]
  },
  {
   "cell_type": "markdown",
   "id": "6054fd00-b5cb-4760-84ea-8f2798c54d08",
   "metadata": {},
   "source": [
    "# 161. Advanced Features"
   ]
  },
  {
   "cell_type": "markdown",
   "id": "c35849ce-db53-48f1-b820-b6b449c16c3f",
   "metadata": {},
   "source": [
    "***"
   ]
  },
  {
   "cell_type": "markdown",
   "id": "6c13dc0b-bbbc-471b-a3d3-cc017ce9e55a",
   "metadata": {},
   "source": [
    "## 161-1. Expressions\n",
    "Polars uses a powerful expression syntax:"
   ]
  },
  {
   "cell_type": "code",
   "execution_count": null,
   "id": "66a3620f-9ee9-43b4-9818-1193ff8f8b6d",
   "metadata": {},
   "outputs": [],
   "source": [
    "df.select([\n",
    "    pl.col(\"A\"),\n",
    "    pl.col(\"B\").str.to_uppercase().alias(\"B_upper\"),\n",
    "    (pl.col(\"A\") * pl.col(\"C\")).alias(\"A_times_C\"),\n",
    "    pl.when(pl.col(\"A\") > 3).then(1).otherwise(0).alias(\"flag\")\n",
    "])"
   ]
  },
  {
   "cell_type": "markdown",
   "id": "b26ecb54-1af7-4366-99ef-2847acd60eaf",
   "metadata": {},
   "source": [
    "***"
   ]
  },
  {
   "cell_type": "markdown",
   "id": "c76a44f1-692e-4da9-86ea-7f2afc53dd72",
   "metadata": {},
   "source": [
    "## 161-2. Joins"
   ]
  },
  {
   "cell_type": "code",
   "execution_count": null,
   "id": "5ea7374c-2550-4079-8fa1-864a02512942",
   "metadata": {},
   "outputs": [],
   "source": [
    "df1 = pl.DataFrame({\"key\": [\"a\", \"b\", \"c\"], \"value1\": [1, 2, 3]})\n",
    "df2 = pl.DataFrame({\"key\": [\"a\", \"b\", \"d\"], \"value2\": [4, 5, 6]})\n",
    "\n",
    "# Inner join\n",
    "df1.join(df2, on=\"key\", how=\"inner\")\n",
    "\n",
    "# Left join\n",
    "df1.join(df2, on=\"key\", how=\"left\")"
   ]
  },
  {
   "cell_type": "markdown",
   "id": "a32c3b8c-fb2e-4b58-b285-4758c3bda4ae",
   "metadata": {},
   "source": [
    "***"
   ]
  },
  {
   "cell_type": "markdown",
   "id": "94453016-a572-440b-85dd-8b0c73bcca14",
   "metadata": {},
   "source": [
    "## 161-3. Temporal Data"
   ]
  },
  {
   "cell_type": "code",
   "execution_count": null,
   "id": "517695c0-0606-44fa-9c70-82fa495e754b",
   "metadata": {},
   "outputs": [],
   "source": [
    "df = pl.DataFrame({\n",
    "    \"date\": [\"2022-01-01\", \"2022-01-02\", \"2022-01-03\"],\n",
    "    \"value\": [1, 2, 3]\n",
    "}).with_columns(pl.col(\"date\").str.strptime(pl.Date, \"%Y-%m-%d\"))\n",
    "\n",
    "# Date operations\n",
    "df.with_columns(\n",
    "    pl.col(\"date\").dt.year().alias(\"year\"),\n",
    "    pl.col(\"date\").dt.month().alias(\"month\")\n",
    ")"
   ]
  },
  {
   "cell_type": "markdown",
   "id": "e35774f0-9e03-4fbb-885d-6ceb387e03e6",
   "metadata": {},
   "source": [
    "***"
   ]
  },
  {
   "cell_type": "markdown",
   "id": "24a71f69-16c2-48ee-951b-5aba967ddc20",
   "metadata": {},
   "source": [
    "## 161-4. Missing Data"
   ]
  },
  {
   "cell_type": "code",
   "execution_count": null,
   "id": "761fe801-bbe0-4e89-ac98-9bd8d45e387d",
   "metadata": {},
   "outputs": [],
   "source": [
    "df = pl.DataFrame({\n",
    "    \"A\": [1, None, 3],\n",
    "    \"B\": [\"x\", None, \"z\"]\n",
    "})\n",
    "\n",
    "# Fill nulls\n",
    "df.fill_null(0)  # For numeric columns\n",
    "df.fill_null(\"missing\")  # For string columns\n",
    "\n",
    "# Drop nulls\n",
    "df.drop_nulls()"
   ]
  },
  {
   "cell_type": "markdown",
   "id": "5dcecdb5-706d-4939-91cc-b187bef80e9b",
   "metadata": {},
   "source": [
    "***"
   ]
  },
  {
   "cell_type": "markdown",
   "id": "f9c00b91-6303-404b-9333-b1eb893b09fb",
   "metadata": {},
   "source": [
    "# 162. Performance Considerations\n",
    "- Use the lazy API for large datasets and complex operations\n",
    "- Prefer expressions over iterative operations\n",
    "- Use proper data types (e.g., categoricals for strings with low cardinality)\n",
    "- Avoid converting to pandas unless necessary"
   ]
  },
  {
   "cell_type": "markdown",
   "id": "84c32d56-f1b3-4f4d-8381-b80bfd3d43a8",
   "metadata": {},
   "source": [
    "***"
   ]
  },
  {
   "cell_type": "markdown",
   "id": "3a8402fa-654f-4431-be7c-f0f0f6aaad9c",
   "metadata": {},
   "source": [
    "# 163. Comparison with pandas\n",
    "|Feature\t|Polars\t|pandas|\n",
    "|-----------|-------|------|\n",
    "|Backend\t|Rust\t|C (mostly)|\n",
    "|Execution\t|Lazy and eager\t|Eager only|\n",
    "|Memory\t|More efficient\t|Less efficient|\n",
    "|Parallelism\t|Multi-threaded by default\t|Mostly single-threaded|\n",
    "|API\t|Expression-based\t|Method-chaining|\n",
    "|Out-of-core\t|Supported\t|Limited support|"
   ]
  },
  {
   "cell_type": "markdown",
   "id": "66851a4e-e878-4f66-a983-046d29d7f74b",
   "metadata": {},
   "source": [
    "***"
   ]
  },
  {
   "cell_type": "markdown",
   "id": "ba39139b-037b-43c9-aa24-df7dc541ef1b",
   "metadata": {},
   "source": [
    "# 164. Polars VS Pandas\n",
    "Polars is good for:\n",
    "- Working with large datasets (GBs to TBs)\n",
    "- Need for high-performance operations\n",
    "- Complex data transformations\n",
    "- Memory efficiency is important\n",
    "\n",
    "pandas is good for:\n",
    "- Small to medium datasets\n",
    "- Need for mature ecosystem (more integrations)\n",
    "- Interactive analysis where immediate feedback is valuable\n",
    "- Legacy codebase"
   ]
  },
  {
   "cell_type": "markdown",
   "id": "535258be-5cd3-4e28-852d-d4e539b71fc6",
   "metadata": {},
   "source": [
    "***"
   ]
  },
  {
   "cell_type": "markdown",
   "id": "97aef20a-775f-464b-b30f-56ec6b09b442",
   "metadata": {},
   "source": [
    "# 165. Integration\n",
    "Polars works well with:\n",
    "- Arrow (zero-copy conversion)\n",
    "- NumPy (zero-copy conversion)\n",
    "- pandas (conversion available)\n",
    "- Connectors (SQL, Parquet, CSV, etc.)"
   ]
  },
  {
   "cell_type": "code",
   "execution_count": null,
   "id": "ed82252c-fe71-4d74-b064-f5b963177a61",
   "metadata": {},
   "outputs": [],
   "source": [
    "# Convert to pandas\n",
    "pd_df = df.to_pandas()\n",
    "\n",
    "# Convert to numpy\n",
    "array = df[\"A\"].to_numpy()\n",
    "\n",
    "# Read from SQL\n",
    "df = pl.read_database(\"SELECT * FROM table\", connection_uri)"
   ]
  },
  {
   "cell_type": "markdown",
   "id": "7c33b0a6-9e4d-440c-8ce1-ba8819628615",
   "metadata": {},
   "source": [
    "***"
   ]
  },
  {
   "cell_type": "markdown",
   "id": "4791dc93-9804-44d8-a3e3-fdb759b321a1",
   "metadata": {},
   "source": [
    "***"
   ]
  },
  {
   "cell_type": "markdown",
   "id": "b40206fb-6731-46dc-9302-0b9bc348b89b",
   "metadata": {},
   "source": [
    "# Some Excercises"
   ]
  },
  {
   "cell_type": "markdown",
   "id": "088d38a8-866c-48a9-a9b5-40df9d99ae4b",
   "metadata": {},
   "source": [
    "**1.** Create a Polars DataFrame with:\n",
    "- A column \"names\" containing 5 country names\n",
    "- A column \"population\" with their populations in millions\n",
    "- A column \"continent\" specifying their continent\n",
    "- Convert this DataFrame from a dictionary and from a list of tuples (two separate implementations)."
   ]
  },
  {
   "cell_type": "markdown",
   "id": "b486b7b8-307c-4eb7-8c14-a1dd72eb2e46",
   "metadata": {},
   "source": [
    "___"
   ]
  },
  {
   "cell_type": "markdown",
   "id": "5c32b073-bab0-451e-8fd7-a294020f71c6",
   "metadata": {},
   "source": [
    "**2.** Using the DataFrame from Exercise 1:\n",
    "- Select only the \"names\" and \"population\" columns\n",
    "- Filter countries with population greater than 50 million\n",
    "- Add a new column \"population_double\" with doubled population values\n",
    "- Sort the DataFrame by population in descending order"
   ]
  },
  {
   "cell_type": "markdown",
   "id": "489da9fe-be18-487a-bcc7-e5d6672698ba",
   "metadata": {},
   "source": [
    "---"
   ]
  },
  {
   "cell_type": "markdown",
   "id": "bf117f39-fa94-453e-bca9-2ccd7b507496",
   "metadata": {},
   "source": [
    "**3.** Create a LazyFrame by scanning a CSV file (or create one programmatically)\n",
    "\n",
    "Build a query that:\n",
    "\n",
    "- Filters rows based on a condition\n",
    "\n",
    "- Groups by a categorical column\n",
    "\n",
    "- Aggregates with at least two different operations\n",
    "\n",
    "Explain the query plan before executing it\n",
    "\n",
    "Finally collect the results"
   ]
  },
  {
   "cell_type": "markdown",
   "id": "02e59887-780b-4321-9382-ef4c85ec9684",
   "metadata": {},
   "source": [
    "---"
   ]
  },
  {
   "cell_type": "markdown",
   "id": "1b32e2d5-3ed7-4865-b63e-21c5cc156f67",
   "metadata": {},
   "source": [
    "**4.** Create a DataFrame with:\n",
    "\n",
    "- \"product\" (5 items)\n",
    "\n",
    "- \"price\" (numeric values)\n",
    "\n",
    "- \"category\" (strings)\n",
    "\n",
    "Write a single expression that:\n",
    "\n",
    "Creates a \"discounted_price\" (10% off)\n",
    "\n",
    "Flags \"premium\" products (price > 100)\n",
    "\n",
    "Calculates price per character of product name\n",
    "\n",
    "Returns only products from a specific category"
   ]
  },
  {
   "cell_type": "markdown",
   "id": "8dcb22a4-aff7-4377-b09a-a39fa4a3b2a7",
   "metadata": {},
   "source": [
    "***"
   ]
  },
  {
   "cell_type": "markdown",
   "id": "17511368-bcb2-4413-87ab-450ca9a64ff2",
   "metadata": {},
   "source": [
    "**5.** Create two DataFrames:\n",
    "\n",
    "- DF1: Employee data (id, name, hire_date)\n",
    "\n",
    "- DF2: Department data (id, dept_name, manager_id)\n",
    "\n",
    "Perform various joins (inner, left, outer) between them\n",
    "\n",
    "Add a column showing years of service (from hire_date to today)\n",
    "\n",
    "Filter employees hired before 2020"
   ]
  },
  {
   "cell_type": "markdown",
   "id": "1d682728-1f0e-4594-a1d3-30793e3f0751",
   "metadata": {},
   "source": [
    "***"
   ]
  },
  {
   "cell_type": "markdown",
   "id": "25f7d348-8fc5-49e9-a3e0-db0d0374a954",
   "metadata": {},
   "source": [
    "**6.** Create a DataFrame with:\n",
    "\n",
    "- Some missing values in numeric columns\n",
    "\n",
    "- Some missing values in string columns\n",
    "\n",
    "Then:\n",
    "\n",
    "Show different strategies for handling nulls (fill, drop, interpolate)\n",
    "\n",
    "Count nulls per column\n",
    "\n",
    "Create a boolean mask indicating rows with any null values\n",
    "\n",
    "Replace nulls in string columns with \"Unknown\" and in numeric columns with the column mean"
   ]
  },
  {
   "cell_type": "markdown",
   "id": "56db6a03-fcd5-4229-aa81-132e3f4cb731",
   "metadata": {},
   "source": [
    "***"
   ]
  },
  {
   "cell_type": "markdown",
   "id": "3208864f-ffdb-4b05-b0b1-f6b67683a174",
   "metadata": {},
   "source": [
    "**7.** Create a large DataFrame (>1M rows) with mixed data types\n",
    "\n",
    "Time operations in Polars (eager and lazy) vs pandas for:\n",
    "\n",
    "- Groupby-aggregate\n",
    "\n",
    "- Complex filtering\n",
    "\n",
    "- Multi-column operations\n",
    "\n",
    "Compare memory usage between Polars and pandas for the same DataFrame\n",
    "\n",
    "Experiment with categorical data types in both libraries"
   ]
  },
  {
   "cell_type": "markdown",
   "id": "31370a8b-cd74-4371-9450-8ce4248412e6",
   "metadata": {},
   "source": [
    "***"
   ]
  },
  {
   "cell_type": "markdown",
   "id": "94bafa50-5d10-40db-97d3-71bdc1821b11",
   "metadata": {},
   "source": [
    "**8.** Create a Polars DataFrame and convert it to:\n",
    "\n",
    "- pandas DataFrame\n",
    "\n",
    "- NumPy array (for a numeric column)\n",
    "\n",
    "- Arrow Table\n",
    "\n",
    "Read the DataFrame from/to:\n",
    "\n",
    "- Parquet file\n",
    "\n",
    "- CSV file\n",
    "\n",
    "- SQL database (if available)\n",
    "\n",
    "Create a function that accepts either Polars or pandas DataFrame and processes it appropriately\n",
    "\n",
    "Demonstrate zero-copy conversion between Polars and Arrow"
   ]
  },
  {
   "cell_type": "markdown",
   "id": "af3414ed-8ba7-485b-954f-69bb05f37262",
   "metadata": {},
   "source": [
    "***"
   ]
  },
  {
   "cell_type": "markdown",
   "id": "7cc97f26-cf68-4d50-82a1-ae7dcdfa95ac",
   "metadata": {},
   "source": [
    "#                                                        🌞 https://github.com/AI-Planet 🌞"
   ]
  }
 ],
 "metadata": {
  "kernelspec": {
   "display_name": "Python 3 (ipykernel)",
   "language": "python",
   "name": "python3"
  },
  "language_info": {
   "codemirror_mode": {
    "name": "ipython",
    "version": 3
   },
   "file_extension": ".py",
   "mimetype": "text/x-python",
   "name": "python",
   "nbconvert_exporter": "python",
   "pygments_lexer": "ipython3",
   "version": "3.9.12"
  }
 },
 "nbformat": 4,
 "nbformat_minor": 5
}
