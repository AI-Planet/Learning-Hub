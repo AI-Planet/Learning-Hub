{
 "cells": [
  {
   "cell_type": "markdown",
   "id": "355b5f03-d2a5-4aa3-a77c-776ccfcb35d5",
   "metadata": {},
   "source": [
    "# Session 17 🐍"
   ]
  },
  {
   "cell_type": "markdown",
   "id": "45efc9ec-fb9c-458c-b1de-d961145e8449",
   "metadata": {},
   "source": [
    "☀️☀️☀️☀️☀️☀️☀️☀️☀️☀️☀️☀️☀️☀️☀️☀️☀️☀️☀️☀️☀️☀️☀️☀️☀️☀️☀️☀️☀️☀️☀️☀️☀️☀️☀️☀️☀️☀️☀️☀️☀️☀️☀️☀️☀️"
   ]
  },
  {
   "cell_type": "markdown",
   "id": "2c7a6ce5-4cd2-45cd-a3b8-9ac277170654",
   "metadata": {},
   "source": [
    "***"
   ]
  },
  {
   "cell_type": "markdown",
   "id": "f47542a8-416d-4a3f-8c9d-99781dc53bd8",
   "metadata": {},
   "source": [
    "# 132. pytest \n",
    "`pytest` is a powerful, mature testing framework for Python that makes it easy to write small, readable tests while scaling to support complex functional testing. "
   ]
  },
  {
   "cell_type": "markdown",
   "id": "a35384c2-ea49-4613-b074-ef3b571f756e",
   "metadata": {},
   "source": [
    "***"
   ]
  },
  {
   "cell_type": "markdown",
   "id": "5e4dbbf4-88e4-4a78-b9a0-fd722e1aa1c0",
   "metadata": {},
   "source": [
    "# 133. Important Features\n",
    "- No boilerplate: No need for test classes (unlike unittest)\n",
    "- Fixtures: Dependency injection system\n",
    "- Parametrized testing: Run same test with different inputs\n",
    "- Rich plugin ecosystem: 1000+ plugins available\n",
    "- Detailed failure reports: Pinpoints exactly where failures occur\n",
    "- Test discovery: Automatically finds and runs tests"
   ]
  },
  {
   "cell_type": "markdown",
   "id": "a4bb5edf-3034-4d79-8edf-8f0740ea0e27",
   "metadata": {},
   "source": [
    "***"
   ]
  },
  {
   "cell_type": "markdown",
   "id": "cb5cc52c-9d10-47ad-baeb-0900ab6358ff",
   "metadata": {},
   "source": [
    "# 134. Basic Test Structure"
   ]
  },
  {
   "cell_type": "markdown",
   "id": "5d2de8aa-11c8-4023-a19b-77faa03c14af",
   "metadata": {},
   "source": [
    "***"
   ]
  },
  {
   "cell_type": "markdown",
   "id": "7951e259-8fce-4827-8f9a-0d2d1012d417",
   "metadata": {},
   "source": [
    "**Simple Test Example**"
   ]
  },
  {
   "cell_type": "code",
   "execution_count": 1,
   "id": "5b8febed-3dfe-4a6c-9d0b-52fd6f4e0d6e",
   "metadata": {},
   "outputs": [],
   "source": [
    "# test_example.py\n",
    "def add(a, b):\n",
    "    return a + b\n",
    "\n",
    "def test_add():\n",
    "    assert add(2, 3) == 5\n",
    "    assert add(-1, 1) == 0"
   ]
  },
  {
   "cell_type": "markdown",
   "id": "be15ca4b-cbf8-441d-b06d-fbc967b2573e",
   "metadata": {},
   "source": [
    "Run tests:"
   ]
  },
  {
   "cell_type": "code",
   "execution_count": null,
   "id": "ed7c6703-0a5f-4696-8f36-94b11af65191",
   "metadata": {},
   "outputs": [],
   "source": [
    "pytest test_example.py"
   ]
  },
  {
   "cell_type": "markdown",
   "id": "0414a2f0-fb76-43e5-bc5f-a92e6bf5ab7b",
   "metadata": {},
   "source": [
    "***"
   ]
  },
  {
   "cell_type": "markdown",
   "id": "7528c824-0f13-4c5d-aa16-25b5deb65b5f",
   "metadata": {},
   "source": [
    "# 135. Test Discovery Rules\n",
    "pytest automatically finds tests using these conventions:\n",
    "\n",
    "Files named test_*.py or *_test.py\n",
    "\n",
    "Functions prefixed with test_\n",
    "\n",
    "Classes prefixed with Test (containing test_ methods)"
   ]
  },
  {
   "cell_type": "markdown",
   "id": "89d79214-4d24-4f11-bff3-2a5c092c85e7",
   "metadata": {},
   "source": [
    "***"
   ]
  },
  {
   "cell_type": "markdown",
   "id": "a2961acb-cca2-4f71-85c0-88db04885e01",
   "metadata": {},
   "source": [
    "# 136. Assertions\n",
    "pytest uses Python's native assert statement with enhanced reporting:"
   ]
  },
  {
   "cell_type": "code",
   "execution_count": 2,
   "id": "9840230a-2a65-4a2c-aee6-2c9580a361c7",
   "metadata": {},
   "outputs": [],
   "source": [
    "def test_assertions():\n",
    "    assert \"hello\".upper() == \"HELLO\"\n",
    "    assert 1 in [1, 2, 3]\n",
    "    assert True is not False\n",
    "    assert 5 > 3\n",
    "    assert not None"
   ]
  },
  {
   "cell_type": "markdown",
   "id": "e6e318ae-2518-48a4-8cf1-c12b2d893d20",
   "metadata": {},
   "source": [
    "**Special assertions:**"
   ]
  },
  {
   "cell_type": "code",
   "execution_count": null,
   "id": "76bd35c7-eb48-4cb0-ac9b-ba0407a33062",
   "metadata": {},
   "outputs": [],
   "source": [
    "with pytest.raises(ValueError):  # Test exceptions\n",
    "    int(\"invalid\")"
   ]
  },
  {
   "cell_type": "markdown",
   "id": "15316d1c-0544-472d-b319-3caebcd1bb96",
   "metadata": {},
   "source": [
    "***"
   ]
  },
  {
   "cell_type": "markdown",
   "id": "d78187cc-be37-4780-af75-09adb0339955",
   "metadata": {},
   "source": [
    "# 137. Fixtures (Dependency Injection)\n",
    "Fixtures provide reusable setup/teardown functionality:"
   ]
  },
  {
   "cell_type": "code",
   "execution_count": null,
   "id": "93f05167-7cbf-401f-9959-7fd4afbfe766",
   "metadata": {},
   "outputs": [],
   "source": [
    "import pytest\n",
    "\n",
    "@pytest.fixture\n",
    "def sample_data():\n",
    "    return [1, 2, 3, 4, 5]\n",
    "\n",
    "def test_sum(sample_data):\n",
    "    assert sum(sample_data) == 15"
   ]
  },
  {
   "cell_type": "markdown",
   "id": "a995d633-8e55-4095-a961-c7ec1921fc80",
   "metadata": {},
   "source": [
    "Fixture scopes:\n",
    "\n",
    "`function` (default): Run once per test\n",
    "\n",
    "`class`: Run once per test class\n",
    "\n",
    "`module`: Run once per module\n",
    "\n",
    "`session`: Run once per test session"
   ]
  },
  {
   "cell_type": "markdown",
   "id": "e5d2ee3a-efa5-4cc4-a34a-77e00ce9a9a4",
   "metadata": {},
   "source": [
    "***"
   ]
  },
  {
   "cell_type": "markdown",
   "id": "6054fd00-b5cb-4760-84ea-8f2798c54d08",
   "metadata": {},
   "source": [
    "# 138. Parametrized Testing\n",
    "Run the same test with different inputs:"
   ]
  },
  {
   "cell_type": "code",
   "execution_count": null,
   "id": "d7e58fd4-6968-4ba4-9418-62ea0b1b5062",
   "metadata": {},
   "outputs": [],
   "source": [
    "import pytest\n",
    "\n",
    "@pytest.mark.parametrize(\"a,b,expected\", [\n",
    "    (1, 2, 3),\n",
    "    (5, -1, 4),\n",
    "    (0, 0, 0),\n",
    "])\n",
    "def test_add_parametrized(a, b, expected):\n",
    "    assert a + b == expected"
   ]
  },
  {
   "cell_type": "markdown",
   "id": "c35849ce-db53-48f1-b820-b6b449c16c3f",
   "metadata": {},
   "source": [
    "***"
   ]
  },
  {
   "cell_type": "markdown",
   "id": "6c13dc0b-bbbc-471b-a3d3-cc017ce9e55a",
   "metadata": {},
   "source": [
    "# 139. Markers\n",
    "Classify tests with metadata:"
   ]
  },
  {
   "cell_type": "code",
   "execution_count": null,
   "id": "66a3620f-9ee9-43b4-9818-1193ff8f8b6d",
   "metadata": {},
   "outputs": [],
   "source": [
    "@pytest.mark.slow\n",
    "def test_long_running():\n",
    "    import time\n",
    "    time.sleep(5)\n",
    "    assert True\n",
    "\n",
    "@pytest.mark.skip(reason=\"Not implemented yet\")\n",
    "def test_unimplemented():\n",
    "    assert False"
   ]
  },
  {
   "cell_type": "markdown",
   "id": "846d3601-d96b-4504-8a1b-2ab2561bd63b",
   "metadata": {},
   "source": [
    "Common built-in markers:\n",
    "\n",
    "`@pytest.mark.skip`: Skip a test\n",
    "\n",
    "`@pytest.mark.xfail`: Expected to fail\n",
    "\n",
    "`@pytest.mark.parametrize`: Parameterize tests\n",
    "\n",
    "`@pytest.mark.timeout`: Fail if test runs too long"
   ]
  },
  {
   "cell_type": "markdown",
   "id": "b26ecb54-1af7-4366-99ef-2847acd60eaf",
   "metadata": {},
   "source": [
    "***"
   ]
  },
  {
   "cell_type": "markdown",
   "id": "c76a44f1-692e-4da9-86ea-7f2afc53dd72",
   "metadata": {},
   "source": [
    "# 140. Configuration (pytest.ini)\n",
    "Create a configuration file:"
   ]
  },
  {
   "cell_type": "code",
   "execution_count": null,
   "id": "5ea7374c-2550-4079-8fa1-864a02512942",
   "metadata": {},
   "outputs": [],
   "source": [
    "[pytest]\n",
    "testpaths = tests\n",
    "python_files = test_*.py\n",
    "python_functions = test_*\n",
    "addopts = -v --tb=native"
   ]
  },
  {
   "cell_type": "markdown",
   "id": "a32c3b8c-fb2e-4b58-b285-4758c3bda4ae",
   "metadata": {},
   "source": [
    "***"
   ]
  },
  {
   "cell_type": "markdown",
   "id": "94453016-a572-440b-85dd-8b0c73bcca14",
   "metadata": {},
   "source": [
    "# 141. Plugins\n",
    "Extend pytest with popular plugins:"
   ]
  },
  {
   "cell_type": "code",
   "execution_count": null,
   "id": "517695c0-0606-44fa-9c70-82fa495e754b",
   "metadata": {},
   "outputs": [],
   "source": [
    "pip install pytest-cov pytest-mock pytest-xdist"
   ]
  },
  {
   "cell_type": "markdown",
   "id": "3731c8c1-4052-4735-b109-9e7291883fc9",
   "metadata": {},
   "source": [
    "Useful plugins:\n",
    "\n",
    "`pytest-cov`: Coverage reporting\n",
    "\n",
    "`pytest-mock`: Mocking integration\n",
    "\n",
    "`pytest-xdist`: Parallel test execution\n",
    "\n",
    "`pytest-django`: Django integration\n",
    "\n",
    "`pytest-asyncio`: Async test support"
   ]
  },
  {
   "cell_type": "markdown",
   "id": "e35774f0-9e03-4fbb-885d-6ceb387e03e6",
   "metadata": {},
   "source": [
    "***"
   ]
  },
  {
   "cell_type": "markdown",
   "id": "24a71f69-16c2-48ee-951b-5aba967ddc20",
   "metadata": {},
   "source": [
    "# 142. Advanced Features"
   ]
  },
  {
   "cell_type": "markdown",
   "id": "5dcecdb5-706d-4939-91cc-b187bef80e9b",
   "metadata": {},
   "source": [
    "***"
   ]
  },
  {
   "cell_type": "markdown",
   "id": "f9c00b91-6303-404b-9333-b1eb893b09fb",
   "metadata": {},
   "source": [
    "## 142-1. Temporary Directories"
   ]
  },
  {
   "cell_type": "code",
   "execution_count": null,
   "id": "2d12a104-388c-413f-a959-3be2dc0b8bb3",
   "metadata": {},
   "outputs": [],
   "source": [
    "def test_create_file(tmp_path):\n",
    "    d = tmp_path / \"sub\"\n",
    "    d.mkdir()\n",
    "    p = d / \"hello.txt\"\n",
    "    p.write_text(\"content\")\n",
    "    assert p.read_text() == \"content\""
   ]
  },
  {
   "cell_type": "markdown",
   "id": "84c32d56-f1b3-4f4d-8381-b80bfd3d43a8",
   "metadata": {},
   "source": [
    "***"
   ]
  },
  {
   "cell_type": "markdown",
   "id": "60acc4f4-a309-4f97-97aa-fc9e047b64ca",
   "metadata": {},
   "source": [
    "## 142-2. Mocking with monkeypatch"
   ]
  },
  {
   "cell_type": "code",
   "execution_count": null,
   "id": "b2776e6b-ff5d-4fc5-99c6-1cbbeecb3e91",
   "metadata": {},
   "outputs": [],
   "source": [
    "def test_mocking(monkeypatch):\n",
    "    monkeypatch.setattr(\"os.getcwd\", lambda: \"/fake/dir\")\n",
    "    assert os.getcwd() == \"/fake/dir\""
   ]
  },
  {
   "cell_type": "markdown",
   "id": "fc657257-2b51-40de-85f4-b03ccc99b254",
   "metadata": {},
   "source": [
    "***"
   ]
  },
  {
   "cell_type": "markdown",
   "id": "3a8402fa-654f-4431-be7c-f0f0f6aaad9c",
   "metadata": {},
   "source": [
    "## 142-3. Test Classes"
   ]
  },
  {
   "cell_type": "code",
   "execution_count": null,
   "id": "da047fd2-c80e-4bfa-9abd-58cc6afe0896",
   "metadata": {},
   "outputs": [],
   "source": [
    "class TestClass:\n",
    "    def test_one(self):\n",
    "        assert 1 == 1\n",
    "\n",
    "    def test_two(self):\n",
    "        assert 2 == 2"
   ]
  },
  {
   "cell_type": "markdown",
   "id": "66851a4e-e878-4f66-a983-046d29d7f74b",
   "metadata": {},
   "source": [
    "***"
   ]
  },
  {
   "cell_type": "markdown",
   "id": "0ca0e092-e0ad-4cda-9916-3f14344f04e3",
   "metadata": {},
   "source": [
    "# 143. Running Tests"
   ]
  },
  {
   "cell_type": "markdown",
   "id": "1307dd3a-7b26-4eff-a803-331439aa418b",
   "metadata": {},
   "source": [
    "***"
   ]
  },
  {
   "cell_type": "markdown",
   "id": "ba39139b-037b-43c9-aa24-df7dc541ef1b",
   "metadata": {},
   "source": [
    "## 143-1. Basic commands:"
   ]
  },
  {
   "cell_type": "code",
   "execution_count": null,
   "id": "b3e2ae54-eadb-44e9-b76b-ccb357f32c52",
   "metadata": {},
   "outputs": [],
   "source": [
    "pytest                  # Run all tests\n",
    "pytest path/to/test.py  # Run specific file\n",
    "pytest -k \"pattern\"     # Run tests matching pattern\n",
    "pytest -v               # Verbose output\n",
    "pytest -x               # Stop after first failure\n",
    "pytest --lf             # Run last failed tests only"
   ]
  },
  {
   "cell_type": "markdown",
   "id": "535258be-5cd3-4e28-852d-d4e539b71fc6",
   "metadata": {},
   "source": [
    "***"
   ]
  },
  {
   "cell_type": "markdown",
   "id": "0c22f321-a591-4b25-9988-56abe3eef424",
   "metadata": {},
   "source": [
    "## 143-2. Parallel execution:"
   ]
  },
  {
   "cell_type": "code",
   "execution_count": null,
   "id": "e460df6b-083a-41fd-b488-f997e7b4293a",
   "metadata": {},
   "outputs": [],
   "source": [
    "pytest -n 4  # Run tests with 4 workers"
   ]
  },
  {
   "cell_type": "markdown",
   "id": "260ef2dc-3922-436c-95f9-72ae52279873",
   "metadata": {},
   "source": [
    "***"
   ]
  },
  {
   "cell_type": "markdown",
   "id": "97aef20a-775f-464b-b30f-56ec6b09b442",
   "metadata": {},
   "source": [
    "## 143-3. Coverage reporting:"
   ]
  },
  {
   "cell_type": "code",
   "execution_count": null,
   "id": "c5a668cb-29f0-4b4e-bb20-5396a994a995",
   "metadata": {},
   "outputs": [],
   "source": [
    "pytest --cov=myproject"
   ]
  },
  {
   "cell_type": "markdown",
   "id": "7c33b0a6-9e4d-440c-8ce1-ba8819628615",
   "metadata": {},
   "source": [
    "***"
   ]
  },
  {
   "cell_type": "markdown",
   "id": "26cb8300-4db3-4938-910b-19fa1e1197ff",
   "metadata": {},
   "source": [
    "# 144. Debugging Tests\n",
    "Use --pdb to drop into debugger on failure:"
   ]
  },
  {
   "cell_type": "code",
   "execution_count": null,
   "id": "e0a23398-5d8d-47e1-912c-a9fdd9d33414",
   "metadata": {},
   "outputs": [],
   "source": [
    "pytest --pdb"
   ]
  },
  {
   "cell_type": "markdown",
   "id": "21d39d96-9eac-4fea-b40d-6c51f371e17b",
   "metadata": {},
   "source": [
    "Print output from passing tests:"
   ]
  },
  {
   "cell_type": "code",
   "execution_count": null,
   "id": "4a1ccfee-873d-4e6c-8297-b72633ebadd6",
   "metadata": {},
   "outputs": [],
   "source": [
    "pytest -s"
   ]
  },
  {
   "cell_type": "markdown",
   "id": "3dc20fc0-1df9-4a5d-bc75-8611ac5e4c33",
   "metadata": {},
   "source": [
    "***"
   ]
  },
  {
   "cell_type": "markdown",
   "id": "4791dc93-9804-44d8-a3e3-fdb759b321a1",
   "metadata": {},
   "source": [
    "***"
   ]
  },
  {
   "cell_type": "markdown",
   "id": "b40206fb-6731-46dc-9302-0b9bc348b89b",
   "metadata": {},
   "source": [
    "# Some Excercises"
   ]
  },
  {
   "cell_type": "markdown",
   "id": "088d38a8-866c-48a9-a9b5-40df9d99ae4b",
   "metadata": {},
   "source": [
    "**1.**   Create a file test_math_operations.py\n",
    "\n",
    "- Write a function divide(a, b) that returns a/b\n",
    "\n",
    "- Write tests for:\n",
    "\n",
    "    - Normal division (6/3 == 2)\n",
    "\n",
    "    - Division by zero (should raise ValueError)\n",
    "\n",
    "    - Floating point results (5/2 == 2.5)\n",
    "\n",
    "- Use both simple asserts and pytest.raises"
   ]
  },
  {
   "cell_type": "markdown",
   "id": "b486b7b8-307c-4eb7-8c14-a1dd72eb2e46",
   "metadata": {},
   "source": [
    "___"
   ]
  },
  {
   "cell_type": "markdown",
   "id": "5c32b073-bab0-451e-8fd7-a294020f71c6",
   "metadata": {},
   "source": [
    "**2.** Create a fixture @pytest.fixture that returns a dictionary of sample user data\n",
    "\n",
    "- Create another fixture that uses the first fixture and adds an 'id' field\n",
    "\n",
    "- Write tests verifying:\n",
    "\n",
    "    - The dictionary contains required keys\n",
    "\n",
    "    - The 'id' field is a positive integer\n",
    "\n",
    "    - The modified dictionary has one more key than the original"
   ]
  },
  {
   "cell_type": "markdown",
   "id": "489da9fe-be18-487a-bcc7-e5d6672698ba",
   "metadata": {},
   "source": [
    "---"
   ]
  },
  {
   "cell_type": "markdown",
   "id": "bf117f39-fa94-453e-bca9-2ccd7b507496",
   "metadata": {},
   "source": [
    "**3.**  Create a function is_palindrome(s) that checks if a string is a palindrome\n",
    "\n",
    "- Write a parametrized test with these cases:\n",
    "\n",
    "    - \"madam\" (True)\n",
    "\n",
    "    - \"racecar\" (True)\n",
    "\n",
    "    - \"python\" (False)\n",
    "\n",
    "    - \"\" (empty string, True)\n",
    "\n",
    "    - \"A man a plan\" (False)\n",
    "\n",
    "- Include IDs for each test case"
   ]
  },
  {
   "cell_type": "markdown",
   "id": "02e59887-780b-4321-9382-ef4c85ec9684",
   "metadata": {},
   "source": [
    "---"
   ]
  },
  {
   "cell_type": "markdown",
   "id": "1b32e2d5-3ed7-4865-b63e-21c5cc156f67",
   "metadata": {},
   "source": [
    "**4.**  Create 3 test functions:\n",
    "\n",
    "    - test_fast() (simple assert)\n",
    "\n",
    "    - test_slow() (with time.sleep(2), mark as @pytest.mark.slow\n",
    "\n",
    "    - test_unstable() (mark as @pytest.mark.xfail)\n",
    "\n",
    "- Configure pytest.ini to:\n",
    "\n",
    "    - Register the 'slow' marker\n",
    "\n",
    "    - Set default timeout to 1 second\n",
    "\n",
    "- Verify you can run:\n",
    "\n",
    "    - Only fast tests (-m \"not slow\")\n",
    "\n",
    "    - Only slow tests (-m \"slow\")"
   ]
  },
  {
   "cell_type": "markdown",
   "id": "8dcb22a4-aff7-4377-b09a-a39fa4a3b2a7",
   "metadata": {},
   "source": [
    "***"
   ]
  },
  {
   "cell_type": "markdown",
   "id": "17511368-bcb2-4413-87ab-450ca9a64ff2",
   "metadata": {},
   "source": [
    "**5.** Create a function get_os_info() that returns platform.system()\n",
    "\n",
    "- Write tests that:\n",
    "\n",
    "    - Use monkeypatch to mock Windows/Mac/Linux outputs\n",
    "\n",
    "    - Verify the function returns expected values\n",
    "\n",
    "- Add a test mocking datetime.datetime.now() to return a fixed date"
   ]
  },
  {
   "cell_type": "markdown",
   "id": "1d682728-1f0e-4594-a1d3-30793e3f0751",
   "metadata": {},
   "source": [
    "***"
   ]
  },
  {
   "cell_type": "markdown",
   "id": "25f7d348-8fc5-49e9-a3e0-db0d0374a954",
   "metadata": {},
   "source": [
    "**6.** Create a fixture that generates a temporary CSV file with test data\n",
    "\n",
    "- Write a function read_csv_data(filename) that returns the row count\n",
    "\n",
    "- Test:\n",
    "\n",
    "    - Empty CSV file\n",
    "\n",
    "    - CSV with 5 rows\n",
    "\n",
    "    - Non-existent file (should raise FileNotFoundError)\n",
    "\n",
    "- Use tmp_path fixture for file operations"
   ]
  },
  {
   "cell_type": "markdown",
   "id": "56db6a03-fcd5-4229-aa81-132e3f4cb731",
   "metadata": {},
   "source": [
    "***"
   ]
  },
  {
   "cell_type": "markdown",
   "id": "3208864f-ffdb-4b05-b0b1-f6b67683a174",
   "metadata": {},
   "source": [
    "**7.** Install pytest-cov plugin\n",
    "\n",
    "- Create a small module with 3 functions (100% coverage goal)\n",
    "\n",
    "- Write tests to achieve:\n",
    "\n",
    "    - 100% line coverage\n",
    "\n",
    "    - 100% branch coverage (if/else paths)\n",
    "\n",
    "- Generate both console and HTML coverage reports\n",
    "\n",
    "- Configure coverage to ignore exception-only lines"
   ]
  },
  {
   "cell_type": "markdown",
   "id": "31370a8b-cd74-4371-9450-8ce4248412e6",
   "metadata": {},
   "source": [
    "***"
   ]
  },
  {
   "cell_type": "markdown",
   "id": "94bafa50-5d10-40db-97d3-71bdc1821b11",
   "metadata": {},
   "source": [
    "**8.** Create a test class TestStringOperations with:\n",
    "\n",
    "    - Setup method that creates a test string\n",
    "\n",
    "    - Teardown that clears it\n",
    "\n",
    "    - Tests for upper(), lower(), and isdigit()\n",
    "\n",
    "- Configure pytest.ini to:\n",
    "\n",
    "    - Set default verbosity\n",
    "\n",
    "    - Add custom markers ('unit', 'integration')\n",
    "\n",
    "    - Configure test paths\n",
    "\n",
    "- Run tests with:\n",
    "\n",
    "    - Parallel execution (2 workers)\n",
    "\n",
    "    - Last-failed-first mode\n",
    "\n",
    "    - Debug mode on failure"
   ]
  },
  {
   "cell_type": "markdown",
   "id": "af3414ed-8ba7-485b-954f-69bb05f37262",
   "metadata": {},
   "source": [
    "***"
   ]
  },
  {
   "cell_type": "markdown",
   "id": "7cc97f26-cf68-4d50-82a1-ae7dcdfa95ac",
   "metadata": {},
   "source": [
    "#                                                        🌞 https://github.com/AI-Planet 🌞"
   ]
  }
 ],
 "metadata": {
  "kernelspec": {
   "display_name": "Python 3 (ipykernel)",
   "language": "python",
   "name": "python3"
  },
  "language_info": {
   "codemirror_mode": {
    "name": "ipython",
    "version": 3
   },
   "file_extension": ".py",
   "mimetype": "text/x-python",
   "name": "python",
   "nbconvert_exporter": "python",
   "pygments_lexer": "ipython3",
   "version": "3.9.12"
  }
 },
 "nbformat": 4,
 "nbformat_minor": 5
}
