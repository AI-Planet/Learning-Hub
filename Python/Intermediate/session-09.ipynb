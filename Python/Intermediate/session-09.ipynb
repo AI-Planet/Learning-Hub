{
 "cells": [
  {
   "cell_type": "markdown",
   "id": "355b5f03-d2a5-4aa3-a77c-776ccfcb35d5",
   "metadata": {},
   "source": [
    "# Session 9 🐍"
   ]
  },
  {
   "cell_type": "markdown",
   "id": "45efc9ec-fb9c-458c-b1de-d961145e8449",
   "metadata": {},
   "source": [
    "☀️☀️☀️☀️☀️☀️☀️☀️☀️☀️☀️☀️☀️☀️☀️☀️☀️☀️☀️☀️☀️☀️☀️☀️☀️☀️☀️☀️☀️☀️☀️☀️☀️☀️☀️☀️☀️☀️☀️☀️☀️☀️☀️☀️☀️"
   ]
  },
  {
   "cell_type": "markdown",
   "id": "2c7a6ce5-4cd2-45cd-a3b8-9ac277170654",
   "metadata": {},
   "source": [
    "***"
   ]
  },
  {
   "cell_type": "markdown",
   "id": "f47542a8-416d-4a3f-8c9d-99781dc53bd8",
   "metadata": {},
   "source": [
    "# 73. SciPy \n",
    "SciPy (Scientific Python) is an open-source Python library used for scientific and technical computing. It builds on NumPy and provides a large number of higher-level functions that operate on NumPy arrays and are useful for different types of scientific and engineering applications."
   ]
  },
  {
   "cell_type": "markdown",
   "id": "a35384c2-ea49-4613-b074-ef3b571f756e",
   "metadata": {},
   "source": [
    "***"
   ]
  },
  {
   "cell_type": "markdown",
   "id": "5e4dbbf4-88e4-4a78-b9a0-fd722e1aa1c0",
   "metadata": {},
   "source": [
    "# 74. Important Features of SciPy\n",
    "- Built on NumPy: SciPy uses NumPy arrays as its basic data structure\n",
    "- Efficient: Implements efficient numerical routines\n",
    "- Modular: Organized into subpackages for different scientific computing domains\n",
    "- Open-source: Free to use with a BSD license"
   ]
  },
  {
   "cell_type": "markdown",
   "id": "a4bb5edf-3034-4d79-8edf-8f0740ea0e27",
   "metadata": {},
   "source": [
    "***"
   ]
  },
  {
   "cell_type": "markdown",
   "id": "cb5cc52c-9d10-47ad-baeb-0900ab6358ff",
   "metadata": {},
   "source": [
    "# 75. SciPy Submodules\n",
    "SciPy is organized into various submodules, each focusing on a specific area of scientific computing:"
   ]
  },
  {
   "cell_type": "markdown",
   "id": "5d2de8aa-11c8-4023-a19b-77faa03c14af",
   "metadata": {},
   "source": [
    "***"
   ]
  },
  {
   "cell_type": "markdown",
   "id": "7951e259-8fce-4827-8f9a-0d2d1012d417",
   "metadata": {},
   "source": [
    "## 75-1. scipy.cluster (Clustering algorithms)\n",
    "- Vector quantization / K-means\n",
    "- Hierarchical clustering"
   ]
  },
  {
   "cell_type": "code",
   "execution_count": 4,
   "id": "e0033bfb-e1e6-4b4b-b9a3-7fcdc69f1f2e",
   "metadata": {},
   "outputs": [],
   "source": [
    "import numpy as np\n",
    "from scipy.cluster.vq import kmeans, vq\n",
    "data = np.random.rand(100, 2)\n",
    "centroids, _ = kmeans(data, 3)  # 3 clusters\n",
    "cluster_assignment, _ = vq(data, centroids)"
   ]
  },
  {
   "cell_type": "markdown",
   "id": "0414a2f0-fb76-43e5-bc5f-a92e6bf5ab7b",
   "metadata": {},
   "source": [
    "***"
   ]
  },
  {
   "cell_type": "markdown",
   "id": "7528c824-0f13-4c5d-aa16-25b5deb65b5f",
   "metadata": {},
   "source": [
    "## 75-2. scipy.constants (Physical and mathematical constants)\n",
    "- Physical constants\n",
    "- Mathematical constants\n",
    "- Unit conversion"
   ]
  },
  {
   "cell_type": "code",
   "execution_count": 5,
   "id": "a5f09636-0682-4593-8e83-cbf19864b75f",
   "metadata": {},
   "outputs": [
    {
     "name": "stdout",
     "output_type": "stream",
     "text": [
      "299792458.0\n",
      "6.62607015e-34\n"
     ]
    }
   ],
   "source": [
    "from scipy import constants\n",
    "print(constants.c)  # speed of light\n",
    "print(constants.h)  # Planck constant"
   ]
  },
  {
   "cell_type": "markdown",
   "id": "89d79214-4d24-4f11-bff3-2a5c092c85e7",
   "metadata": {},
   "source": [
    "***"
   ]
  },
  {
   "cell_type": "markdown",
   "id": "ed49c288-5889-4c9a-971a-26efff710603",
   "metadata": {},
   "source": [
    "## 75-3. scipy.fft (Fast Fourier Transforms)\n",
    "- Discrete Fourier transforms\n",
    "- Helper functions"
   ]
  },
  {
   "cell_type": "code",
   "execution_count": 6,
   "id": "d8751537-a09a-43af-b0d4-2e45c38265c1",
   "metadata": {},
   "outputs": [],
   "source": [
    "import numpy as np\n",
    "from scipy.fft import fft, fftfreq\n",
    "signal = np.sin(2 * np.pi * 5 * np.linspace(0, 1, 100))\n",
    "fft_result = fft(signal)\n",
    "frequencies = fftfreq(len(signal))"
   ]
  },
  {
   "cell_type": "markdown",
   "id": "4cc0ed5e-517f-41b4-86c9-bb9c423b325c",
   "metadata": {},
   "source": [
    "***"
   ]
  },
  {
   "cell_type": "markdown",
   "id": "d78187cc-be37-4780-af75-09adb0339955",
   "metadata": {},
   "source": [
    "## 75-4. scipy.integrate (Integration and ODEs)\n",
    "- Numerical integration\n",
    "- Ordinary differential equations"
   ]
  },
  {
   "cell_type": "code",
   "execution_count": 7,
   "id": "99617368-8477-4dfb-bedb-4de79219fb3c",
   "metadata": {},
   "outputs": [],
   "source": [
    "from scipy.integrate import quad\n",
    "result, error = quad(lambda x: np.sin(x), 0, np.pi)"
   ]
  },
  {
   "cell_type": "markdown",
   "id": "e5d2ee3a-efa5-4cc4-a34a-77e00ce9a9a4",
   "metadata": {},
   "source": [
    "***"
   ]
  },
  {
   "cell_type": "markdown",
   "id": "6054fd00-b5cb-4760-84ea-8f2798c54d08",
   "metadata": {},
   "source": [
    "## 75-5. scipy.interpolate (Interpolation)\n",
    "- Spline interpolation\n",
    "- 1D and 2D interpolation"
   ]
  },
  {
   "cell_type": "code",
   "execution_count": 8,
   "id": "63bf3bc8-cb34-4a32-ba5b-d596970ff977",
   "metadata": {},
   "outputs": [],
   "source": [
    "from scipy.interpolate import interp1d\n",
    "x = np.linspace(0, 10, 10)\n",
    "y = np.sin(x)\n",
    "f = interp1d(x, y, kind='cubic')\n",
    "x_new = np.linspace(0, 10, 100)\n",
    "y_new = f(x_new)"
   ]
  },
  {
   "cell_type": "markdown",
   "id": "1c09ac45-5e81-447f-b587-98d7369e9afa",
   "metadata": {},
   "source": [
    "***"
   ]
  },
  {
   "cell_type": "markdown",
   "id": "a6266616-28d3-4a6b-8338-acbbc49c5d85",
   "metadata": {},
   "source": [
    "## 75-6. scipy.io (Input/Output)\n",
    "- MATLAB files\n",
    "- WAV files\n",
    "- Matrix Market files"
   ]
  },
  {
   "cell_type": "code",
   "execution_count": 9,
   "id": "f2f0dc11-3feb-4a46-a8a5-19a7c3f37e67",
   "metadata": {},
   "outputs": [],
   "source": [
    "from scipy.io import loadmat, savemat\n",
    "data = {'a': np.arange(10)}\n",
    "savemat('test.mat', data)\n",
    "mat_data = loadmat('test.mat')"
   ]
  },
  {
   "cell_type": "markdown",
   "id": "b75c8d7c-6e2d-4726-aa39-9dc00e9fe89e",
   "metadata": {},
   "source": [
    "***"
   ]
  },
  {
   "cell_type": "markdown",
   "id": "3fdac9a4-9085-4539-81d0-609b98b49c87",
   "metadata": {},
   "source": [
    "## 75-7. scipy.linalg (Linear algebra)\n",
    "- Matrix operations\n",
    "- Decompositions\n",
    "- Solvers"
   ]
  },
  {
   "cell_type": "code",
   "execution_count": 10,
   "id": "7193352d-f309-4188-9c30-42cbecf1bc83",
   "metadata": {},
   "outputs": [],
   "source": [
    "from scipy.linalg import lu, solve\n",
    "A = np.random.rand(3, 3)\n",
    "b = np.random.rand(3)\n",
    "P, L, U = lu(A)\n",
    "x = solve(A, b)"
   ]
  },
  {
   "cell_type": "markdown",
   "id": "f9d34ed7-9c13-4948-ac9a-bcaad250362e",
   "metadata": {},
   "source": [
    "***"
   ]
  },
  {
   "cell_type": "markdown",
   "id": "bf39d426-3474-4bce-8d6d-0723d842e5d2",
   "metadata": {},
   "source": [
    "## 75-8. scipy.ndimage (N-dimensional image processing)\n",
    "- Filtering\n",
    "- Morphology\n",
    "- Measurements"
   ]
  },
  {
   "cell_type": "code",
   "execution_count": 11,
   "id": "5ac4d438-d0e7-4812-a3b3-6b0c41f3409d",
   "metadata": {},
   "outputs": [],
   "source": [
    "from scipy.ndimage import gaussian_filter\n",
    "image = np.random.rand(100, 100)\n",
    "filtered = gaussian_filter(image, sigma=1)"
   ]
  },
  {
   "cell_type": "markdown",
   "id": "cca5e8df-5929-4cd1-a5d9-687a967d621f",
   "metadata": {},
   "source": [
    "***"
   ]
  },
  {
   "cell_type": "markdown",
   "id": "8669716a-babb-4ebe-8831-fd8acb4d89a4",
   "metadata": {},
   "source": [
    "## 75-9. scipy.optimize (Optimization and root finding)\n",
    "- Minimization\n",
    "- Curve fitting\n",
    "- Root finding"
   ]
  },
  {
   "cell_type": "code",
   "execution_count": null,
   "id": "fcb4f255-0fa2-4452-8f91-732775b9fcc5",
   "metadata": {},
   "outputs": [],
   "source": [
    "from scipy.optimize import minimize, curve_fit\n",
    "result = minimize(lambda x: x**2 + 2*x + 1, x0=0)\n",
    "def func(x, a, b): return a * np.exp(-b * x)\n",
    "popt, pcov = curve_fit(func, xdata, ydata)"
   ]
  },
  {
   "cell_type": "markdown",
   "id": "7bc1b6c3-153e-4fa5-8996-063e4c4beea8",
   "metadata": {},
   "source": [
    "***"
   ]
  },
  {
   "cell_type": "markdown",
   "id": "0f1d10bf-ebfc-4558-bdf9-704fc062e6a6",
   "metadata": {},
   "source": [
    "## 75-10. scipy.signal (Signal processing)\n",
    "- Convolution\n",
    "- Filter design\n",
    "- Waveforms"
   ]
  },
  {
   "cell_type": "code",
   "execution_count": 13,
   "id": "f2f23da1-3460-42a7-9b6b-0655a71cd408",
   "metadata": {},
   "outputs": [],
   "source": [
    "from scipy.signal import convolve, find_peaks\n",
    "x = np.linspace(0, 10, 100)\n",
    "y = np.sin(x) + np.random.randn(100) * 0.1\n",
    "peaks, _ = find_peaks(y, height=0.5)"
   ]
  },
  {
   "cell_type": "markdown",
   "id": "60f819ce-76e3-40ab-bbc2-edfdfcd1275c",
   "metadata": {},
   "source": [
    "***"
   ]
  },
  {
   "cell_type": "markdown",
   "id": "0053667b-3b61-446e-867d-dd363a38b018",
   "metadata": {},
   "source": [
    "## 75-11. scipy.sparse (Sparse matrices)\n",
    "- Sparse matrix classes\n",
    "- Linear algebra for sparse matrices"
   ]
  },
  {
   "cell_type": "code",
   "execution_count": 14,
   "id": "b16dddc4-ad80-4600-b50e-a3aa5a4f159a",
   "metadata": {},
   "outputs": [],
   "source": [
    "from scipy.sparse import csr_matrix\n",
    "A = csr_matrix([[1, 0, 2], [0, 3, 0]])"
   ]
  },
  {
   "cell_type": "markdown",
   "id": "bd0fc210-8321-431a-a21a-d1947ff5c995",
   "metadata": {},
   "source": [
    "***"
   ]
  },
  {
   "cell_type": "markdown",
   "id": "85ec2151-65c0-4cd4-9692-f61b1c52d4a3",
   "metadata": {},
   "source": [
    "## 75-12. scipy.spatial (Spatial data structures and algorithms)\n",
    "- KD-trees\n",
    "- Distance computations\n",
    "- Voronoi diagrams"
   ]
  },
  {
   "cell_type": "code",
   "execution_count": 15,
   "id": "18c2d1c3-a36d-40ff-8d29-32baa8fcecf1",
   "metadata": {},
   "outputs": [],
   "source": [
    "from scipy.spatial import KDTree, distance\n",
    "points = np.random.rand(10, 2)\n",
    "tree = KDTree(points)\n",
    "dist = distance.euclidean([0, 0], [1, 1])"
   ]
  },
  {
   "cell_type": "markdown",
   "id": "7da9409e-9602-491e-87ed-db2a12ccc54d",
   "metadata": {},
   "source": [
    "***"
   ]
  },
  {
   "cell_type": "markdown",
   "id": "59cc0780-b6f1-4127-9749-d73cdc8077ac",
   "metadata": {},
   "source": [
    "## 75-13. scipy.special (Special functions)\n",
    "- Bessel functions\n",
    "- Gamma functions\n",
    "- Error functions"
   ]
  },
  {
   "cell_type": "code",
   "execution_count": null,
   "id": "325278f2-87d7-40b2-85f3-a4ab02e1d932",
   "metadata": {},
   "outputs": [],
   "source": [
    "from scipy.special import gamma, erf\n",
    "print(gamma(5))  # factorial(4)\n",
    "print(erf(1))    # error function at 1"
   ]
  },
  {
   "cell_type": "markdown",
   "id": "01a6f56c-f957-4478-be8a-ed769b74d261",
   "metadata": {},
   "source": [
    "***"
   ]
  },
  {
   "cell_type": "markdown",
   "id": "57eb7e02-9643-4f50-85d9-aa9630368812",
   "metadata": {},
   "source": [
    "## 75-14. scipy.stats (Statistical functions)\n",
    "- Continuous and discrete distributions\n",
    "- Statistical tests\n",
    "- Descriptive statistics"
   ]
  },
  {
   "cell_type": "code",
   "execution_count": null,
   "id": "93df827e-a436-4335-b11a-8b0fef362134",
   "metadata": {},
   "outputs": [],
   "source": [
    "from scipy.stats import norm, ttest_ind\n",
    "rv = norm(loc=0, scale=1)\n",
    "print(rv.pdf(0))\n",
    "t_stat, p_val = ttest_ind(data1, data2)"
   ]
  },
  {
   "cell_type": "markdown",
   "id": "a4c3090c-402a-42fd-9ea0-915ea1c33e64",
   "metadata": {},
   "source": [
    "***"
   ]
  },
  {
   "cell_type": "markdown",
   "id": "4791dc93-9804-44d8-a3e3-fdb759b321a1",
   "metadata": {},
   "source": [
    "***"
   ]
  },
  {
   "cell_type": "markdown",
   "id": "b40206fb-6731-46dc-9302-0b9bc348b89b",
   "metadata": {},
   "source": [
    "# Some Excercises"
   ]
  },
  {
   "cell_type": "markdown",
   "id": "088d38a8-866c-48a9-a9b5-40df9d99ae4b",
   "metadata": {},
   "source": [
    "**1.**  Use K-means clustering to group 2D data points into 3 clusters and visualize them."
   ]
  },
  {
   "cell_type": "markdown",
   "id": "b486b7b8-307c-4eb7-8c14-a1dd72eb2e46",
   "metadata": {},
   "source": [
    "___"
   ]
  },
  {
   "cell_type": "markdown",
   "id": "5c32b073-bab0-451e-8fd7-a294020f71c6",
   "metadata": {},
   "source": [
    "**2.** Calculate the gravitational force between two masses using scipy.constants."
   ]
  },
  {
   "cell_type": "markdown",
   "id": "489da9fe-be18-487a-bcc7-e5d6672698ba",
   "metadata": {},
   "source": [
    "---"
   ]
  },
  {
   "cell_type": "markdown",
   "id": "bf117f39-fa94-453e-bca9-2ccd7b507496",
   "metadata": {},
   "source": [
    "**3.**  Analyze the frequency components of a noisy sine wave."
   ]
  },
  {
   "cell_type": "markdown",
   "id": "02e59887-780b-4321-9382-ef4c85ec9684",
   "metadata": {},
   "source": [
    "---"
   ]
  },
  {
   "cell_type": "markdown",
   "id": "1b32e2d5-3ed7-4865-b63e-21c5cc156f67",
   "metadata": {},
   "source": [
    "**4.**  Compute the integral of exp(-x^2) from 0 to ∞ (Gaussian integral)."
   ]
  },
  {
   "cell_type": "markdown",
   "id": "8dcb22a4-aff7-4377-b09a-a39fa4a3b2a7",
   "metadata": {},
   "source": [
    "***"
   ]
  },
  {
   "cell_type": "markdown",
   "id": "17511368-bcb2-4413-87ab-450ca9a64ff2",
   "metadata": {},
   "source": [
    "**5.** Interpolate a 1D dataset using cubic splines."
   ]
  },
  {
   "cell_type": "markdown",
   "id": "1d682728-1f0e-4594-a1d3-30793e3f0751",
   "metadata": {},
   "source": [
    "***"
   ]
  },
  {
   "cell_type": "markdown",
   "id": "25f7d348-8fc5-49e9-a3e0-db0d0374a954",
   "metadata": {},
   "source": [
    "**6.** Solve a system of linear equations Ax=b."
   ]
  },
  {
   "cell_type": "markdown",
   "id": "56db6a03-fcd5-4229-aa81-132e3f4cb731",
   "metadata": {},
   "source": [
    "***"
   ]
  },
  {
   "cell_type": "markdown",
   "id": "3208864f-ffdb-4b05-b0b1-f6b67683a174",
   "metadata": {},
   "source": [
    "**7.** Find the minimum of the function f(x)=x^2+4x+6."
   ]
  },
  {
   "cell_type": "markdown",
   "id": "31370a8b-cd74-4371-9450-8ce4248412e6",
   "metadata": {},
   "source": [
    "***"
   ]
  },
  {
   "cell_type": "markdown",
   "id": "94bafa50-5d10-40db-97d3-71bdc1821b11",
   "metadata": {},
   "source": [
    "**8.** Perform a t-test to compare two datasets."
   ]
  },
  {
   "cell_type": "markdown",
   "id": "af3414ed-8ba7-485b-954f-69bb05f37262",
   "metadata": {},
   "source": [
    "***"
   ]
  },
  {
   "cell_type": "markdown",
   "id": "7cc97f26-cf68-4d50-82a1-ae7dcdfa95ac",
   "metadata": {},
   "source": [
    "#                                                        🌞 https://github.com/AI-Planet 🌞"
   ]
  }
 ],
 "metadata": {
  "kernelspec": {
   "display_name": "Python 3 (ipykernel)",
   "language": "python",
   "name": "python3"
  },
  "language_info": {
   "codemirror_mode": {
    "name": "ipython",
    "version": 3
   },
   "file_extension": ".py",
   "mimetype": "text/x-python",
   "name": "python",
   "nbconvert_exporter": "python",
   "pygments_lexer": "ipython3",
   "version": "3.9.12"
  }
 },
 "nbformat": 4,
 "nbformat_minor": 5
}
