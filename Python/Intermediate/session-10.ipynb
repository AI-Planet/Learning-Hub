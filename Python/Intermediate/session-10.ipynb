{
 "cells": [
  {
   "cell_type": "markdown",
   "id": "355b5f03-d2a5-4aa3-a77c-776ccfcb35d5",
   "metadata": {},
   "source": [
    "# Session 10 🐍"
   ]
  },
  {
   "cell_type": "markdown",
   "id": "45efc9ec-fb9c-458c-b1de-d961145e8449",
   "metadata": {},
   "source": [
    "☀️☀️☀️☀️☀️☀️☀️☀️☀️☀️☀️☀️☀️☀️☀️☀️☀️☀️☀️☀️☀️☀️☀️☀️☀️☀️☀️☀️☀️☀️☀️☀️☀️☀️☀️☀️☀️☀️☀️☀️☀️☀️☀️☀️☀️"
   ]
  },
  {
   "cell_type": "markdown",
   "id": "2c7a6ce5-4cd2-45cd-a3b8-9ac277170654",
   "metadata": {},
   "source": [
    "***"
   ]
  },
  {
   "cell_type": "markdown",
   "id": "f47542a8-416d-4a3f-8c9d-99781dc53bd8",
   "metadata": {},
   "source": [
    "# 76. Scikit-learn\n",
    "Scikit-learn (or sklearn) is one of the most popular machine learning libraries in Python, providing simple and efficient tools for data mining, preprocessing, model training, and evaluation. It is built on NumPy, SciPy, and Matplotlib, making it highly efficient for numerical computations."
   ]
  },
  {
   "cell_type": "markdown",
   "id": "a35384c2-ea49-4613-b074-ef3b571f756e",
   "metadata": {},
   "source": [
    "***"
   ]
  },
  {
   "cell_type": "markdown",
   "id": "5e4dbbf4-88e4-4a78-b9a0-fd722e1aa1c0",
   "metadata": {},
   "source": [
    "# 77. Important Features of Scikit-learn\n",
    "- Supervised Learning (Classification, Regression)\n",
    "- Unsupervised Learning (Clustering, Dimensionality Reduction)\n",
    "- Model Selection & Evaluation (Cross-validation, Hyperparameter Tuning)\n",
    "- Data Preprocessing (Scaling, Encoding, Imputation)\n",
    "- Pipeline Construction (Chaining preprocessing & models)\n",
    "- Integration with NumPy & Pandas"
   ]
  },
  {
   "cell_type": "markdown",
   "id": "a4bb5edf-3034-4d79-8edf-8f0740ea0e27",
   "metadata": {},
   "source": [
    "***"
   ]
  },
  {
   "cell_type": "markdown",
   "id": "cb5cc52c-9d10-47ad-baeb-0900ab6358ff",
   "metadata": {},
   "source": [
    "# 78. Supervised Learning with Scikit-learn"
   ]
  },
  {
   "cell_type": "markdown",
   "id": "5d2de8aa-11c8-4023-a19b-77faa03c14af",
   "metadata": {},
   "source": [
    "***"
   ]
  },
  {
   "cell_type": "markdown",
   "id": "7951e259-8fce-4827-8f9a-0d2d1012d417",
   "metadata": {},
   "source": [
    "## 78-1. Classification (Predicting Categories)\n",
    "Logistic Regression (Binary Classification)"
   ]
  },
  {
   "cell_type": "code",
   "execution_count": null,
   "id": "e0033bfb-e1e6-4b4b-b9a3-7fcdc69f1f2e",
   "metadata": {},
   "outputs": [],
   "source": [
    "from sklearn.datasets import load_iris\n",
    "from sklearn.linear_model import LogisticRegression\n",
    "from sklearn.model_selection import train_test_split\n",
    "from sklearn.metrics import accuracy_score\n",
    "\n",
    "# Load dataset\n",
    "iris = load_iris()\n",
    "X, y = iris.data, iris.target\n",
    "\n",
    "# Split into train & test sets\n",
    "X_train, X_test, y_train, y_test = train_test_split(X, y, test_size=0.2)\n",
    "\n",
    "# Train model\n",
    "model = LogisticRegression()\n",
    "model.fit(X_train, y_train)\n",
    "\n",
    "# Predict & evaluate\n",
    "y_pred = model.predict(X_test)\n",
    "print(\"Accuracy:\", accuracy_score(y_test, y_pred))"
   ]
  },
  {
   "cell_type": "markdown",
   "id": "0414a2f0-fb76-43e5-bc5f-a92e6bf5ab7b",
   "metadata": {},
   "source": [
    "***"
   ]
  },
  {
   "cell_type": "markdown",
   "id": "7528c824-0f13-4c5d-aa16-25b5deb65b5f",
   "metadata": {},
   "source": [
    "### 78-1-1. Common Classification Algorithms\n",
    "- Algorithm\t**Class**\n",
    "- Logistic Regression\t**LogisticRegression**\n",
    "- Decision Tree\t**DecisionTreeClassifier**\n",
    "- Random Forest\t**RandomForestClassifier**\n",
    "- SVM\t**SVC**\n",
    "- K-Nearest Neighbors\t**KNeighborsClassifier**"
   ]
  },
  {
   "cell_type": "markdown",
   "id": "89d79214-4d24-4f11-bff3-2a5c092c85e7",
   "metadata": {},
   "source": [
    "***"
   ]
  },
  {
   "cell_type": "markdown",
   "id": "ed49c288-5889-4c9a-971a-26efff710603",
   "metadata": {},
   "source": [
    "## 78-2. Regression (Predicting Continuous Values)\n",
    "Linear Regression"
   ]
  },
  {
   "cell_type": "code",
   "execution_count": 2,
   "id": "d8751537-a09a-43af-b0d4-2e45c38265c1",
   "metadata": {},
   "outputs": [
    {
     "name": "stdout",
     "output_type": "stream",
     "text": [
      "Prediction: [8.]\n"
     ]
    }
   ],
   "source": [
    "from sklearn.linear_model import LinearRegression\n",
    "from sklearn.metrics import mean_squared_error\n",
    "\n",
    "# Generate data\n",
    "X = [[1], [2], [3]]\n",
    "y = [2, 4, 6]\n",
    "\n",
    "# Train model\n",
    "model = LinearRegression()\n",
    "model.fit(X, y)\n",
    "\n",
    "# Predict\n",
    "y_pred = model.predict([[4]])\n",
    "print(\"Prediction:\", y_pred)"
   ]
  },
  {
   "cell_type": "markdown",
   "id": "4cc0ed5e-517f-41b4-86c9-bb9c423b325c",
   "metadata": {},
   "source": [
    "***"
   ]
  },
  {
   "cell_type": "markdown",
   "id": "d78187cc-be37-4780-af75-09adb0339955",
   "metadata": {},
   "source": [
    "### 78-2-1. Common Regression Algorithms\n",
    "- Algorithm\t**Class**\n",
    "- Linear Regression\t**LinearRegression**\n",
    "- Ridge Regression\t**Ridge**\n",
    "- Lasso Regression\t**Lasso**\n",
    "- Decision Tree\t**DecisionTreeRegressor**\n",
    "- Random Forest\t**RandomForestRegressor**"
   ]
  },
  {
   "cell_type": "markdown",
   "id": "e5d2ee3a-efa5-4cc4-a34a-77e00ce9a9a4",
   "metadata": {},
   "source": [
    "***"
   ]
  },
  {
   "cell_type": "markdown",
   "id": "6054fd00-b5cb-4760-84ea-8f2798c54d08",
   "metadata": {},
   "source": [
    "# 79. Unsupervised Learning"
   ]
  },
  {
   "cell_type": "markdown",
   "id": "c35849ce-db53-48f1-b820-b6b449c16c3f",
   "metadata": {},
   "source": [
    "***"
   ]
  },
  {
   "cell_type": "markdown",
   "id": "f2480e08-e095-4ccb-a6a2-dc6c664c7fba",
   "metadata": {},
   "source": [
    "## 79-1. Clustering (Grouping Similar Data)\n",
    "K-Means Clustering"
   ]
  },
  {
   "cell_type": "code",
   "execution_count": null,
   "id": "b663a34d-5b3e-4217-981b-824db43a3499",
   "metadata": {},
   "outputs": [],
   "source": [
    "from sklearn.cluster import KMeans\n",
    "from sklearn.datasets import make_blobs\n",
    "\n",
    "# Generate synthetic data\n",
    "X, _ = make_blobs(n_samples=300, centers=3)\n",
    "\n",
    "# Apply K-Means\n",
    "kmeans = KMeans(n_clusters=3)\n",
    "kmeans.fit(X)\n",
    "\n",
    "# Get cluster labels\n",
    "labels = kmeans.labels_"
   ]
  },
  {
   "cell_type": "markdown",
   "id": "1c09ac45-5e81-447f-b587-98d7369e9afa",
   "metadata": {},
   "source": [
    "***"
   ]
  },
  {
   "cell_type": "markdown",
   "id": "a6266616-28d3-4a6b-8338-acbbc49c5d85",
   "metadata": {},
   "source": [
    "### 79-1-1. Common Clustering Algorithms\n",
    "- Algorithm\t**Class**\n",
    "- K-Means\t**KMeans**\n",
    "- DBSCAN\t**DBSCAN**\n",
    "- Agglomerative Clustering\t**AgglomerativeClustering**\n"
   ]
  },
  {
   "cell_type": "markdown",
   "id": "b75c8d7c-6e2d-4726-aa39-9dc00e9fe89e",
   "metadata": {},
   "source": [
    "***"
   ]
  },
  {
   "cell_type": "markdown",
   "id": "3fdac9a4-9085-4539-81d0-609b98b49c87",
   "metadata": {},
   "source": [
    "## 79-2. Dimensionality Reduction (Feature Extraction)\n",
    "PCA (Principal Component Analysis)"
   ]
  },
  {
   "cell_type": "code",
   "execution_count": 5,
   "id": "7193352d-f309-4188-9c30-42cbecf1bc83",
   "metadata": {},
   "outputs": [],
   "source": [
    "from sklearn.decomposition import PCA\n",
    "\n",
    "# Reduce to 2 dimensions\n",
    "pca = PCA(n_components=2)\n",
    "X_reduced = pca.fit_transform(X)"
   ]
  },
  {
   "cell_type": "markdown",
   "id": "f9d34ed7-9c13-4948-ac9a-bcaad250362e",
   "metadata": {},
   "source": [
    "***"
   ]
  },
  {
   "cell_type": "markdown",
   "id": "bf39d426-3474-4bce-8d6d-0723d842e5d2",
   "metadata": {},
   "source": [
    "# 80. Data Preprocessing"
   ]
  },
  {
   "cell_type": "markdown",
   "id": "cca5e8df-5929-4cd1-a5d9-687a967d621f",
   "metadata": {},
   "source": [
    "***"
   ]
  },
  {
   "cell_type": "markdown",
   "id": "8669716a-babb-4ebe-8831-fd8acb4d89a4",
   "metadata": {},
   "source": [
    "## 80-1. Feature Scaling"
   ]
  },
  {
   "cell_type": "code",
   "execution_count": 6,
   "id": "fcb4f255-0fa2-4452-8f91-732775b9fcc5",
   "metadata": {},
   "outputs": [],
   "source": [
    "from sklearn.preprocessing import StandardScaler\n",
    "\n",
    "scaler = StandardScaler()\n",
    "X_scaled = scaler.fit_transform(X)"
   ]
  },
  {
   "cell_type": "markdown",
   "id": "7bc1b6c3-153e-4fa5-8996-063e4c4beea8",
   "metadata": {},
   "source": [
    "***"
   ]
  },
  {
   "cell_type": "markdown",
   "id": "0f1d10bf-ebfc-4558-bdf9-704fc062e6a6",
   "metadata": {},
   "source": [
    "## 80-2. Handling Missing Values"
   ]
  },
  {
   "cell_type": "code",
   "execution_count": 7,
   "id": "f2f23da1-3460-42a7-9b6b-0655a71cd408",
   "metadata": {},
   "outputs": [],
   "source": [
    "from sklearn.impute import SimpleImputer\n",
    "\n",
    "imputer = SimpleImputer(strategy=\"mean\")\n",
    "X_imputed = imputer.fit_transform(X)"
   ]
  },
  {
   "cell_type": "markdown",
   "id": "60f819ce-76e3-40ab-bbc2-edfdfcd1275c",
   "metadata": {},
   "source": [
    "***"
   ]
  },
  {
   "cell_type": "markdown",
   "id": "0053667b-3b61-446e-867d-dd363a38b018",
   "metadata": {},
   "source": [
    "## 80-3. Categorical Encoding"
   ]
  },
  {
   "cell_type": "code",
   "execution_count": null,
   "id": "b16dddc4-ad80-4600-b50e-a3aa5a4f159a",
   "metadata": {},
   "outputs": [],
   "source": [
    "from sklearn.preprocessing import OneHotEncoder\n",
    "\n",
    "encoder = OneHotEncoder()\n",
    "X_encoded = encoder.fit_transform(X_categorical)"
   ]
  },
  {
   "cell_type": "markdown",
   "id": "bd0fc210-8321-431a-a21a-d1947ff5c995",
   "metadata": {},
   "source": [
    "***"
   ]
  },
  {
   "cell_type": "markdown",
   "id": "85ec2151-65c0-4cd4-9692-f61b1c52d4a3",
   "metadata": {},
   "source": [
    "# 81. Model Evaluation"
   ]
  },
  {
   "cell_type": "markdown",
   "id": "7da9409e-9602-491e-87ed-db2a12ccc54d",
   "metadata": {},
   "source": [
    "***"
   ]
  },
  {
   "cell_type": "markdown",
   "id": "59cc0780-b6f1-4127-9749-d73cdc8077ac",
   "metadata": {},
   "source": [
    "## 81-1. Classification Metrics"
   ]
  },
  {
   "cell_type": "code",
   "execution_count": null,
   "id": "325278f2-87d7-40b2-85f3-a4ab02e1d932",
   "metadata": {},
   "outputs": [],
   "source": [
    "from sklearn.metrics import (\n",
    "    accuracy_score,\n",
    "    precision_score,\n",
    "    recall_score,\n",
    "    f1_score,\n",
    "    confusion_matrix,\n",
    "    classification_report,\n",
    ")\n",
    "\n",
    "print(\"Accuracy:\", accuracy_score(y_test, y_pred))\n",
    "print(\"Confusion Matrix:\\n\", confusion_matrix(y_test, y_pred))\n",
    "print(classification_report(y_test, y_pred))"
   ]
  },
  {
   "cell_type": "markdown",
   "id": "01a6f56c-f957-4478-be8a-ed769b74d261",
   "metadata": {},
   "source": [
    "***"
   ]
  },
  {
   "cell_type": "markdown",
   "id": "57eb7e02-9643-4f50-85d9-aa9630368812",
   "metadata": {},
   "source": [
    "## 81-2. Regression Metrics"
   ]
  },
  {
   "cell_type": "code",
   "execution_count": null,
   "id": "93df827e-a436-4335-b11a-8b0fef362134",
   "metadata": {},
   "outputs": [],
   "source": [
    "from sklearn.metrics import (\n",
    "    mean_squared_error,\n",
    "    mean_absolute_error,\n",
    "    r2_score,\n",
    ")\n",
    "\n",
    "print(\"MSE:\", mean_squared_error(y_test, y_pred))\n",
    "print(\"R² Score:\", r2_score(y_test, y_pred))"
   ]
  },
  {
   "cell_type": "markdown",
   "id": "a4c3090c-402a-42fd-9ea0-915ea1c33e64",
   "metadata": {},
   "source": [
    "***"
   ]
  },
  {
   "cell_type": "markdown",
   "id": "202d081b-dba4-43b5-9d0b-34383aaa04cb",
   "metadata": {},
   "source": [
    "## 81-3. Cross-Validation"
   ]
  },
  {
   "cell_type": "code",
   "execution_count": null,
   "id": "aca5168a-7fd1-4a5d-9bb8-9c8a2481160e",
   "metadata": {},
   "outputs": [],
   "source": [
    "from sklearn.model_selection import cross_val_score\n",
    "\n",
    "scores = cross_val_score(model, X, y, cv=5)  # 5-fold CV\n",
    "print(\"Cross-validated Accuracy:\", scores.mean())"
   ]
  },
  {
   "cell_type": "markdown",
   "id": "8968755a-3cb5-4a90-8de4-5ebd1111cebd",
   "metadata": {},
   "source": [
    "***"
   ]
  },
  {
   "cell_type": "markdown",
   "id": "27ca60c8-c8fb-4e48-8b58-aabbe9d35b1c",
   "metadata": {},
   "source": [
    "# 82. Hyperparameter Tuning"
   ]
  },
  {
   "cell_type": "markdown",
   "id": "d8dc56c8-5af1-4c97-848d-f7c50424db66",
   "metadata": {},
   "source": [
    "***"
   ]
  },
  {
   "cell_type": "markdown",
   "id": "e5431ba0-8f62-49e6-bbdc-531bf4ed8404",
   "metadata": {},
   "source": [
    "## 82-1. Grid Search"
   ]
  },
  {
   "cell_type": "code",
   "execution_count": null,
   "id": "cc956c4a-ad69-4c6e-8fca-2c10fd08dcb6",
   "metadata": {},
   "outputs": [],
   "source": [
    "from sklearn.model_selection import GridSearchCV\n",
    "\n",
    "params = {'n_neighbors': [3, 5, 7]}\n",
    "grid = GridSearchCV(KNeighborsClassifier(), params, cv=5)\n",
    "grid.fit(X_train, y_train)\n",
    "\n",
    "print(\"Best Params:\", grid.best_params_)"
   ]
  },
  {
   "cell_type": "markdown",
   "id": "371dd493-2da1-46c1-b24e-8fbd548edd12",
   "metadata": {},
   "source": [
    "***"
   ]
  },
  {
   "cell_type": "markdown",
   "id": "049dc4ca-ef26-4d40-970d-35ecc91fd29c",
   "metadata": {},
   "source": [
    "## 82-2. Randomized Search"
   ]
  },
  {
   "cell_type": "code",
   "execution_count": null,
   "id": "ef5a50d9-eb25-42b2-aedd-e3edab3f970a",
   "metadata": {},
   "outputs": [],
   "source": [
    "from sklearn.model_selection import RandomizedSearchCV\n",
    "from scipy.stats import randint\n",
    "\n",
    "params = {'n_neighbors': randint(1, 10)}\n",
    "random_search = RandomizedSearchCV(KNeighborsClassifier(), params, n_iter=10, cv=5)\n",
    "random_search.fit(X_train, y_train)"
   ]
  },
  {
   "cell_type": "markdown",
   "id": "79341645-c7db-49e9-907f-701db1850b27",
   "metadata": {},
   "source": [
    "***"
   ]
  },
  {
   "cell_type": "markdown",
   "id": "b858182e-1dab-4180-b6c3-ed835d0cf990",
   "metadata": {},
   "source": [
    "# 83. Pipelines (Chaining Steps)"
   ]
  },
  {
   "cell_type": "code",
   "execution_count": null,
   "id": "a0cfeab8-292f-44d7-bd15-740b6dab1242",
   "metadata": {},
   "outputs": [],
   "source": [
    "from sklearn.pipeline import Pipeline\n",
    "from sklearn.preprocessing import StandardScaler\n",
    "from sklearn.ensemble import RandomForestClassifier\n",
    "\n",
    "pipeline = Pipeline([\n",
    "    ('scaler', StandardScaler()),\n",
    "    ('classifier', RandomForestClassifier())\n",
    "])\n",
    "\n",
    "pipeline.fit(X_train, y_train)\n",
    "y_pred = pipeline.predict(X_test)"
   ]
  },
  {
   "cell_type": "markdown",
   "id": "0d7946a9-9548-4e5b-86b1-f2702d7ba690",
   "metadata": {},
   "source": [
    "***"
   ]
  },
  {
   "cell_type": "markdown",
   "id": "4791dc93-9804-44d8-a3e3-fdb759b321a1",
   "metadata": {},
   "source": [
    "***"
   ]
  },
  {
   "cell_type": "markdown",
   "id": "b40206fb-6731-46dc-9302-0b9bc348b89b",
   "metadata": {},
   "source": [
    "# Some Excercises"
   ]
  },
  {
   "cell_type": "markdown",
   "id": "088d38a8-866c-48a9-a9b5-40df9d99ae4b",
   "metadata": {},
   "source": [
    "**1.**  Use the load_iris dataset to train a Logistic Regression model and evaluate its performance.\n",
    "\n",
    "Steps:\n",
    "- Load the Iris dataset.\n",
    "- Split into train/test sets (test_size=0.2).\n",
    "- Train a LogisticRegression model.\n",
    "- Predict on test data and compute accuracy.\n",
    "- Print the confusion matrix and classification report."
   ]
  },
  {
   "cell_type": "markdown",
   "id": "b486b7b8-307c-4eb7-8c14-a1dd72eb2e46",
   "metadata": {},
   "source": [
    "___"
   ]
  },
  {
   "cell_type": "markdown",
   "id": "5c32b073-bab0-451e-8fd7-a294020f71c6",
   "metadata": {},
   "source": [
    "**2.** Predict disease progression using load_diabetes and Linear Regression.\n",
    "\n",
    "Steps:\n",
    "- Load the dataset.\n",
    "- Split into train/test sets.\n",
    "- Train a LinearRegression model.\n",
    "- Predict on test data and compute MSE and R² score.\n",
    "- Plot predictions vs actual values using matplotlib."
   ]
  },
  {
   "cell_type": "markdown",
   "id": "489da9fe-be18-487a-bcc7-e5d6672698ba",
   "metadata": {},
   "source": [
    "---"
   ]
  },
  {
   "cell_type": "markdown",
   "id": "bf117f39-fa94-453e-bca9-2ccd7b507496",
   "metadata": {},
   "source": [
    "**3.**  Cluster synthetic data using KMeans and visualize the clusters.\n",
    "\n",
    "Steps:\n",
    "- Generate synthetic data with make_blobs(n_samples=300, centers=4).\n",
    "- Apply KMeans(n_clusters=4).\n",
    "- Plot the clusters (use different colors for each cluster).\n",
    "- Print the inertia (sum of squared distances to centroids)."
   ]
  },
  {
   "cell_type": "markdown",
   "id": "02e59887-780b-4321-9382-ef4c85ec9684",
   "metadata": {},
   "source": [
    "---"
   ]
  },
  {
   "cell_type": "markdown",
   "id": "1b32e2d5-3ed7-4865-b63e-21c5cc156f67",
   "metadata": {},
   "source": [
    "**4.**  Reduce the Iris dataset to 2D using PCA and visualize it.\n",
    "\n",
    "Steps:\n",
    "- Load the Iris dataset.\n",
    "- Apply PCA(n_components=2).\n",
    "- Transform the data and plot the reduced features.\n",
    "- Color points by their true class labels."
   ]
  },
  {
   "cell_type": "markdown",
   "id": "8dcb22a4-aff7-4377-b09a-a39fa4a3b2a7",
   "metadata": {},
   "source": [
    "***"
   ]
  },
  {
   "cell_type": "markdown",
   "id": "17511368-bcb2-4413-87ab-450ca9a64ff2",
   "metadata": {},
   "source": [
    "**5.** Preprocess a dataset with missing values and categorical features.\n",
    "\n",
    "Steps:\n",
    "\n",
    "- Create a synthetic dataset with:\n",
    "    - Numerical features (some missing values).\n",
    "    - Categorical features (text labels).\n",
    "- Build a Pipeline with:\n",
    "    - SimpleImputer (fill missing values).\n",
    "    - OneHotEncoder (encode categories).\n",
    "    - StandardScaler (scale features).\n",
    "- Fit and transform the data."
   ]
  },
  {
   "cell_type": "markdown",
   "id": "1d682728-1f0e-4594-a1d3-30793e3f0751",
   "metadata": {},
   "source": [
    "***"
   ]
  },
  {
   "cell_type": "markdown",
   "id": "25f7d348-8fc5-49e9-a3e0-db0d0374a954",
   "metadata": {},
   "source": [
    "**6.** Optimize a Random Forest classifier using grid search.\n",
    "\n",
    "Steps:\n",
    "- Load the Iris dataset.\n",
    "- Define a parameter grid: params = {'n_estimators': [50, 100, 200], 'max_depth': [None, 5, 10]}\n",
    "- Use GridSearchCV with RandomForestClassifier.\n",
    "- Fit and print the best parameters and best score."
   ]
  },
  {
   "cell_type": "markdown",
   "id": "56db6a03-fcd5-4229-aa81-132e3f4cb731",
   "metadata": {},
   "source": [
    "***"
   ]
  },
  {
   "cell_type": "markdown",
   "id": "3208864f-ffdb-4b05-b0b1-f6b67683a174",
   "metadata": {},
   "source": [
    "**7.** Evaluate a SVC model using 5-fold cross-validation.\n",
    "\n",
    "Steps:\n",
    "- Load the Iris dataset.\n",
    "- Use cross_val_score with SVC().\n",
    "- Print the mean accuracy and standard deviation."
   ]
  },
  {
   "cell_type": "markdown",
   "id": "31370a8b-cd74-4371-9450-8ce4248412e6",
   "metadata": {},
   "source": [
    "***"
   ]
  },
  {
   "cell_type": "markdown",
   "id": "94bafa50-5d10-40db-97d3-71bdc1821b11",
   "metadata": {},
   "source": [
    "**8.** Build a pipeline that preprocesses data and trains a classifier.\n",
    "\n",
    "Steps:\n",
    "- Load the Titanic dataset (or any dataset with mixed features).\n",
    "- Define a pipeline:\n",
    "    - Impute missing values.\n",
    "    - Scale numerical features.\n",
    "    - Encode categorical features.\n",
    "    - Train a RandomForestClassifier.\n",
    "- Evaluate using accuracy and classification report."
   ]
  },
  {
   "cell_type": "markdown",
   "id": "af3414ed-8ba7-485b-954f-69bb05f37262",
   "metadata": {},
   "source": [
    "***"
   ]
  },
  {
   "cell_type": "markdown",
   "id": "ef082834-4aea-474a-b8f5-d009f82d3b6c",
   "metadata": {},
   "source": [
    "**9.** Compare Logistic Regression, SVM, and Random Forest on the same dataset.\n",
    "\n",
    "Steps:\n",
    "- Train all 3 models on the Iris dataset.\n",
    "- Compare their accuracy, precision, and recall.\n",
    "- Visualize results in a bar plot."
   ]
  },
  {
   "cell_type": "markdown",
   "id": "4daf6aba-d7b7-401f-8edd-e48077a0383e",
   "metadata": {},
   "source": [
    "***"
   ]
  },
  {
   "cell_type": "markdown",
   "id": "7cc97f26-cf68-4d50-82a1-ae7dcdfa95ac",
   "metadata": {},
   "source": [
    "#                                                        🌞 https://github.com/AI-Planet 🌞"
   ]
  }
 ],
 "metadata": {
  "kernelspec": {
   "display_name": "Python 3 (ipykernel)",
   "language": "python",
   "name": "python3"
  },
  "language_info": {
   "codemirror_mode": {
    "name": "ipython",
    "version": 3
   },
   "file_extension": ".py",
   "mimetype": "text/x-python",
   "name": "python",
   "nbconvert_exporter": "python",
   "pygments_lexer": "ipython3",
   "version": "3.9.12"
  }
 },
 "nbformat": 4,
 "nbformat_minor": 5
}
