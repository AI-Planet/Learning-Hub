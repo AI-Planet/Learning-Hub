{
 "cells": [
  {
   "cell_type": "markdown",
   "id": "355b5f03-d2a5-4aa3-a77c-776ccfcb35d5",
   "metadata": {},
   "source": [
    "# Session 18 🐍"
   ]
  },
  {
   "cell_type": "markdown",
   "id": "45efc9ec-fb9c-458c-b1de-d961145e8449",
   "metadata": {},
   "source": [
    "☀️☀️☀️☀️☀️☀️☀️☀️☀️☀️☀️☀️☀️☀️☀️☀️☀️☀️☀️☀️☀️☀️☀️☀️☀️☀️☀️☀️☀️☀️☀️☀️☀️☀️☀️☀️☀️☀️☀️☀️☀️☀️☀️☀️☀️"
   ]
  },
  {
   "cell_type": "markdown",
   "id": "2c7a6ce5-4cd2-45cd-a3b8-9ac277170654",
   "metadata": {},
   "source": [
    "***"
   ]
  },
  {
   "cell_type": "markdown",
   "id": "f47542a8-416d-4a3f-8c9d-99781dc53bd8",
   "metadata": {},
   "source": [
    "# 145. FastAPI\n",
    "FastAPI is a modern, fast (high-performance), web framework for building APIs with Python 3.7+ based on standard Python type hints."
   ]
  },
  {
   "cell_type": "markdown",
   "id": "a35384c2-ea49-4613-b074-ef3b571f756e",
   "metadata": {},
   "source": [
    "***"
   ]
  },
  {
   "cell_type": "markdown",
   "id": "5e4dbbf4-88e4-4a78-b9a0-fd722e1aa1c0",
   "metadata": {},
   "source": [
    "# 146. Core Features\n",
    "- High Performance: One of the fastest Python frameworks available, rivaling NodeJS and Go (thanks to Starlette and Pydantic)\n",
    "- Fast to Code: Increases developer speed by 200-300%\n",
    "- Type Hints: Built-in support with Python's type hints\n",
    "- Automatic Docs: Interactive API documentation (Swagger UI and ReDoc)\n",
    "- Standards-based: Based on (and fully compatible with) OpenAPI and JSON Schema"
   ]
  },
  {
   "cell_type": "markdown",
   "id": "a4bb5edf-3034-4d79-8edf-8f0740ea0e27",
   "metadata": {},
   "source": [
    "***"
   ]
  },
  {
   "cell_type": "markdown",
   "id": "cb5cc52c-9d10-47ad-baeb-0900ab6358ff",
   "metadata": {},
   "source": [
    "# 147. Key Components"
   ]
  },
  {
   "cell_type": "markdown",
   "id": "5d2de8aa-11c8-4023-a19b-77faa03c14af",
   "metadata": {},
   "source": [
    "***"
   ]
  },
  {
   "cell_type": "markdown",
   "id": "7951e259-8fce-4827-8f9a-0d2d1012d417",
   "metadata": {},
   "source": [
    "## 147-1. Path Parameters"
   ]
  },
  {
   "cell_type": "code",
   "execution_count": 1,
   "id": "5b8febed-3dfe-4a6c-9d0b-52fd6f4e0d6e",
   "metadata": {},
   "outputs": [],
   "source": [
    "@app.get(\"/items/{item_id}\")\n",
    "def read_item(item_id: int):  # Type conversion and validation\n",
    "    return {\"item_id\": item_id}"
   ]
  },
  {
   "cell_type": "markdown",
   "id": "0414a2f0-fb76-43e5-bc5f-a92e6bf5ab7b",
   "metadata": {},
   "source": [
    "***"
   ]
  },
  {
   "cell_type": "markdown",
   "id": "7528c824-0f13-4c5d-aa16-25b5deb65b5f",
   "metadata": {},
   "source": [
    "## 147-2. Query Parameters"
   ]
  },
  {
   "cell_type": "code",
   "execution_count": null,
   "id": "3b726d93-c449-4145-9dfe-545f705c9622",
   "metadata": {},
   "outputs": [],
   "source": [
    "@app.get(\"/items/\")\n",
    "def read_items(skip: int = 0, limit: int = 10):  # Default values\n",
    "    return {\"skip\": skip, \"limit\": limit}"
   ]
  },
  {
   "cell_type": "markdown",
   "id": "89d79214-4d24-4f11-bff3-2a5c092c85e7",
   "metadata": {},
   "source": [
    "***"
   ]
  },
  {
   "cell_type": "markdown",
   "id": "a2961acb-cca2-4f71-85c0-88db04885e01",
   "metadata": {},
   "source": [
    "## 147-3. Request Body"
   ]
  },
  {
   "cell_type": "code",
   "execution_count": 2,
   "id": "9840230a-2a65-4a2c-aee6-2c9580a361c7",
   "metadata": {},
   "outputs": [],
   "source": [
    "from pydantic import BaseModel\n",
    "\n",
    "class Item(BaseModel):\n",
    "    name: str\n",
    "    description: str = None\n",
    "    price: float\n",
    "    tax: float = None\n",
    "\n",
    "@app.post(\"/items/\")\n",
    "def create_item(item: Item):  # Automatic JSON parsing\n",
    "    return item"
   ]
  },
  {
   "cell_type": "markdown",
   "id": "15316d1c-0544-472d-b319-3caebcd1bb96",
   "metadata": {},
   "source": [
    "***"
   ]
  },
  {
   "cell_type": "markdown",
   "id": "d78187cc-be37-4780-af75-09adb0339955",
   "metadata": {},
   "source": [
    "## 147-4. Response Model"
   ]
  },
  {
   "cell_type": "code",
   "execution_count": null,
   "id": "93f05167-7cbf-401f-9959-7fd4afbfe766",
   "metadata": {},
   "outputs": [],
   "source": [
    "@app.post(\"/items/\", response_model=Item)\n",
    "def create_item(item: Item):  # Filters response data\n",
    "    return item"
   ]
  },
  {
   "cell_type": "markdown",
   "id": "e5d2ee3a-efa5-4cc4-a34a-77e00ce9a9a4",
   "metadata": {},
   "source": [
    "***"
   ]
  },
  {
   "cell_type": "markdown",
   "id": "6054fd00-b5cb-4760-84ea-8f2798c54d08",
   "metadata": {},
   "source": [
    "## 147-5. Status Codes"
   ]
  },
  {
   "cell_type": "code",
   "execution_count": null,
   "id": "d7e58fd4-6968-4ba4-9418-62ea0b1b5062",
   "metadata": {},
   "outputs": [],
   "source": [
    "from fastapi import status\n",
    "\n",
    "@app.post(\"/items/\", status_code=status.HTTP_201_CREATED)\n",
    "def create_item(item: Item):\n",
    "    return item"
   ]
  },
  {
   "cell_type": "markdown",
   "id": "c35849ce-db53-48f1-b820-b6b449c16c3f",
   "metadata": {},
   "source": [
    "***"
   ]
  },
  {
   "cell_type": "markdown",
   "id": "6c13dc0b-bbbc-471b-a3d3-cc017ce9e55a",
   "metadata": {},
   "source": [
    "## 147-6. Form Data"
   ]
  },
  {
   "cell_type": "code",
   "execution_count": null,
   "id": "66a3620f-9ee9-43b4-9818-1193ff8f8b6d",
   "metadata": {},
   "outputs": [],
   "source": [
    "from fastapi import Form\n",
    "\n",
    "@app.post(\"/login/\")\n",
    "def login(username: str = Form(...), password: str = Form(...)):\n",
    "    return {\"username\": username}"
   ]
  },
  {
   "cell_type": "markdown",
   "id": "b26ecb54-1af7-4366-99ef-2847acd60eaf",
   "metadata": {},
   "source": [
    "***"
   ]
  },
  {
   "cell_type": "markdown",
   "id": "c76a44f1-692e-4da9-86ea-7f2afc53dd72",
   "metadata": {},
   "source": [
    "## 147-7. File Uploads"
   ]
  },
  {
   "cell_type": "code",
   "execution_count": null,
   "id": "5ea7374c-2550-4079-8fa1-864a02512942",
   "metadata": {},
   "outputs": [],
   "source": [
    "from fastapi import UploadFile, File\n",
    "\n",
    "@app.post(\"/upload/\")\n",
    "def upload_file(file: UploadFile = File(...)):\n",
    "    return {\"filename\": file.filename}"
   ]
  },
  {
   "cell_type": "markdown",
   "id": "a32c3b8c-fb2e-4b58-b285-4758c3bda4ae",
   "metadata": {},
   "source": [
    "***"
   ]
  },
  {
   "cell_type": "markdown",
   "id": "94453016-a572-440b-85dd-8b0c73bcca14",
   "metadata": {},
   "source": [
    "## 147-8. Dependencies"
   ]
  },
  {
   "cell_type": "code",
   "execution_count": null,
   "id": "517695c0-0606-44fa-9c70-82fa495e754b",
   "metadata": {},
   "outputs": [],
   "source": [
    "from fastapi import Depends\n",
    "\n",
    "def common_parameters(q: str = None, skip: int = 0, limit: int = 100):\n",
    "    return {\"q\": q, \"skip\": skip, \"limit\": limit}\n",
    "\n",
    "@app.get(\"/items/\")\n",
    "def read_items(commons: dict = Depends(common_parameters)):\n",
    "    return commons"
   ]
  },
  {
   "cell_type": "markdown",
   "id": "e35774f0-9e03-4fbb-885d-6ceb387e03e6",
   "metadata": {},
   "source": [
    "***"
   ]
  },
  {
   "cell_type": "markdown",
   "id": "24a71f69-16c2-48ee-951b-5aba967ddc20",
   "metadata": {},
   "source": [
    "## 147-9. Security"
   ]
  },
  {
   "cell_type": "code",
   "execution_count": null,
   "id": "7e335309-5f7c-4967-b683-8ebb9c1f8119",
   "metadata": {},
   "outputs": [],
   "source": [
    "from fastapi.security import OAuth2PasswordBearer\n",
    "\n",
    "oauth2_scheme = OAuth2PasswordBearer(tokenUrl=\"token\")\n",
    "\n",
    "@app.get(\"/items/\")\n",
    "def read_items(token: str = Depends(oauth2_scheme)):\n",
    "    return {\"token\": token}"
   ]
  },
  {
   "cell_type": "markdown",
   "id": "5dcecdb5-706d-4939-91cc-b187bef80e9b",
   "metadata": {},
   "source": [
    "***"
   ]
  },
  {
   "cell_type": "markdown",
   "id": "f9c00b91-6303-404b-9333-b1eb893b09fb",
   "metadata": {},
   "source": [
    "## 147-10. Background Tasks"
   ]
  },
  {
   "cell_type": "code",
   "execution_count": null,
   "id": "2d12a104-388c-413f-a959-3be2dc0b8bb3",
   "metadata": {},
   "outputs": [],
   "source": [
    "from fastapi import BackgroundTasks\n",
    "\n",
    "def write_notification(email: str, message=\"\"):\n",
    "    # Send email in background\n",
    "    pass\n",
    "\n",
    "@app.post(\"/send-notification/{email}\")\n",
    "def send_notification(email: str, background_tasks: BackgroundTasks):\n",
    "    background_tasks.add_task(write_notification, email, message=\"some notification\")\n",
    "    return {\"message\": \"Notification sent in the background\"}"
   ]
  },
  {
   "cell_type": "markdown",
   "id": "84c32d56-f1b3-4f4d-8381-b80bfd3d43a8",
   "metadata": {},
   "source": [
    "***"
   ]
  },
  {
   "cell_type": "markdown",
   "id": "60acc4f4-a309-4f97-97aa-fc9e047b64ca",
   "metadata": {},
   "source": [
    "# 148. Advanced Features"
   ]
  },
  {
   "cell_type": "markdown",
   "id": "fc657257-2b51-40de-85f4-b03ccc99b254",
   "metadata": {},
   "source": [
    "***"
   ]
  },
  {
   "cell_type": "markdown",
   "id": "3a8402fa-654f-4431-be7c-f0f0f6aaad9c",
   "metadata": {},
   "source": [
    "## 148-1. Middleware"
   ]
  },
  {
   "cell_type": "code",
   "execution_count": null,
   "id": "da047fd2-c80e-4bfa-9abd-58cc6afe0896",
   "metadata": {},
   "outputs": [],
   "source": [
    "from fastapi import Request\n",
    "\n",
    "@app.middleware(\"http\")\n",
    "async def add_process_time_header(request: Request, call_next):\n",
    "    start_time = time.time()\n",
    "    response = await call_next(request)\n",
    "    process_time = time.time() - start_time\n",
    "    response.headers[\"X-Process-Time\"] = str(process_time)\n",
    "    return response"
   ]
  },
  {
   "cell_type": "markdown",
   "id": "66851a4e-e878-4f66-a983-046d29d7f74b",
   "metadata": {},
   "source": [
    "***"
   ]
  },
  {
   "cell_type": "markdown",
   "id": "ba39139b-037b-43c9-aa24-df7dc541ef1b",
   "metadata": {},
   "source": [
    "## 148-2. CORS"
   ]
  },
  {
   "cell_type": "code",
   "execution_count": null,
   "id": "b3e2ae54-eadb-44e9-b76b-ccb357f32c52",
   "metadata": {},
   "outputs": [],
   "source": [
    "from fastapi.middleware.cors import CORSMiddleware\n",
    "\n",
    "app.add_middleware(\n",
    "    CORSMiddleware,\n",
    "    allow_origins=[\"*\"],\n",
    "    allow_credentials=True,\n",
    "    allow_methods=[\"*\"],\n",
    "    allow_headers=[\"*\"],\n",
    ")"
   ]
  },
  {
   "cell_type": "markdown",
   "id": "535258be-5cd3-4e28-852d-d4e539b71fc6",
   "metadata": {},
   "source": [
    "***"
   ]
  },
  {
   "cell_type": "markdown",
   "id": "0c22f321-a591-4b25-9988-56abe3eef424",
   "metadata": {},
   "source": [
    "## 148-3. WebSockets"
   ]
  },
  {
   "cell_type": "code",
   "execution_count": null,
   "id": "e460df6b-083a-41fd-b488-f997e7b4293a",
   "metadata": {},
   "outputs": [],
   "source": [
    "from fastapi import WebSocket\n",
    "\n",
    "@app.websocket(\"/ws\")\n",
    "async def websocket_endpoint(websocket: WebSocket):\n",
    "    await websocket.accept()\n",
    "    while True:\n",
    "        data = await websocket.receive_text()\n",
    "        await websocket.send_text(f\"Message text was: {data}\")"
   ]
  },
  {
   "cell_type": "markdown",
   "id": "260ef2dc-3922-436c-95f9-72ae52279873",
   "metadata": {},
   "source": [
    "***"
   ]
  },
  {
   "cell_type": "markdown",
   "id": "97aef20a-775f-464b-b30f-56ec6b09b442",
   "metadata": {},
   "source": [
    "## 148-4. Testing"
   ]
  },
  {
   "cell_type": "code",
   "execution_count": null,
   "id": "c5a668cb-29f0-4b4e-bb20-5396a994a995",
   "metadata": {},
   "outputs": [],
   "source": [
    "from fastapi.testclient import TestClient\n",
    "\n",
    "client = TestClient(app)\n",
    "\n",
    "def test_read_main():\n",
    "    response = client.get(\"/\")\n",
    "    assert response.status_code == 200\n",
    "    assert response.json() == {\"Hello\": \"World\"}"
   ]
  },
  {
   "cell_type": "markdown",
   "id": "7c33b0a6-9e4d-440c-8ce1-ba8819628615",
   "metadata": {},
   "source": [
    "***"
   ]
  },
  {
   "cell_type": "markdown",
   "id": "26cb8300-4db3-4938-910b-19fa1e1197ff",
   "metadata": {},
   "source": [
    "# 149. Deployment Options\n",
    "- Uvicorn: uvicorn main:app --host 0.0.0.0 --port 80\n",
    "- Gunicorn with Uvicorn Workers: gunicorn -k uvicorn.workers.UvicornWorker main:app\n",
    "- Docker:"
   ]
  },
  {
   "cell_type": "code",
   "execution_count": null,
   "id": "e0a23398-5d8d-47e1-912c-a9fdd9d33414",
   "metadata": {},
   "outputs": [],
   "source": [
    "FROM tiangolo/uvicorn-gunicorn-fastapi:python3.8\n",
    "COPY ./app /app"
   ]
  },
  {
   "cell_type": "markdown",
   "id": "a58512bf-a868-46d1-8558-7bc0906c2159",
   "metadata": {},
   "source": [
    "- Cloud Providers: AWS, Google Cloud, Azure, etc.\n",
    "- Platforms: Heroku, Docker Swarm, Kubernetes, etc."
   ]
  },
  {
   "cell_type": "markdown",
   "id": "3dc20fc0-1df9-4a5d-bc75-8611ac5e4c33",
   "metadata": {},
   "source": [
    "***"
   ]
  },
  {
   "cell_type": "markdown",
   "id": "4791dc93-9804-44d8-a3e3-fdb759b321a1",
   "metadata": {},
   "source": [
    "***"
   ]
  },
  {
   "cell_type": "markdown",
   "id": "b40206fb-6731-46dc-9302-0b9bc348b89b",
   "metadata": {},
   "source": [
    "# Some Excercises"
   ]
  },
  {
   "cell_type": "markdown",
   "id": "088d38a8-866c-48a9-a9b5-40df9d99ae4b",
   "metadata": {},
   "source": [
    "**1.** Create a FastAPI application with:\n",
    "- A root endpoint that returns a welcome message\n",
    "- An endpoint /items/{item_id} that takes a path parameter item_id (integer)\n",
    "- The same endpoint should also accept an optional query parameter color (string)\n",
    "- Return JSON with both values"
   ]
  },
  {
   "cell_type": "markdown",
   "id": "b486b7b8-307c-4eb7-8c14-a1dd72eb2e46",
   "metadata": {},
   "source": [
    "___"
   ]
  },
  {
   "cell_type": "markdown",
   "id": "5c32b073-bab0-451e-8fd7-a294020f71c6",
   "metadata": {},
   "source": [
    "**2.** Create an API for a bookstore with:\n",
    "- A Pydantic model Book with fields: title (str), author (str), year (int), isbn (str, optional)\n",
    "- A POST endpoint /books/ that accepts a Book in the request body\n",
    "- Use a response model to return the created book without the ISBN if it wasn't provided\n",
    "- Add proper status codes"
   ]
  },
  {
   "cell_type": "markdown",
   "id": "489da9fe-be18-487a-bcc7-e5d6672698ba",
   "metadata": {},
   "source": [
    "---"
   ]
  },
  {
   "cell_type": "markdown",
   "id": "bf117f39-fa94-453e-bca9-2ccd7b507496",
   "metadata": {},
   "source": [
    "**3.** Create a user profile endpoint that:\n",
    "- Accepts form data with username and password\n",
    "- Accepts an optional profile picture file upload\n",
    "- Returns a JSON response with the username and filename if a file was uploaded\n",
    "- Validate that the password is at least 8 characters long"
   ]
  },
  {
   "cell_type": "markdown",
   "id": "02e59887-780b-4321-9382-ef4c85ec9684",
   "metadata": {},
   "source": [
    "---"
   ]
  },
  {
   "cell_type": "markdown",
   "id": "1b32e2d5-3ed7-4865-b63e-21c5cc156f67",
   "metadata": {},
   "source": [
    "**4.** Implement a simple authentication system:\n",
    "- Create a dependency that checks for a header X-Token with value \"secret\"\n",
    "- Protect two endpoints with this dependency\n",
    "- One endpoint should be public (no dependency)\n",
    "- Return 403 if the token is missing or invalid"
   ]
  },
  {
   "cell_type": "markdown",
   "id": "8dcb22a4-aff7-4377-b09a-a39fa4a3b2a7",
   "metadata": {},
   "source": [
    "***"
   ]
  },
  {
   "cell_type": "markdown",
   "id": "17511368-bcb2-4413-87ab-450ca9a64ff2",
   "metadata": {},
   "source": [
    "**5.** Create a newsletter endpoint that:\n",
    "- Accepts email addresses and a message via POST\n",
    "- Uses a background task to \"send\" the email (just log it)\n",
    "- Returns immediately with a success message\n",
    "- Simulate a slow email sending process (2 second delay) in the background"
   ]
  },
  {
   "cell_type": "markdown",
   "id": "1d682728-1f0e-4594-a1d3-30793e3f0751",
   "metadata": {},
   "source": [
    "***"
   ]
  },
  {
   "cell_type": "markdown",
   "id": "25f7d348-8fc5-49e9-a3e0-db0d0374a954",
   "metadata": {},
   "source": [
    "**6.** Add to an existing FastAPI app:\n",
    "- Middleware that adds a custom header X-Process-Time showing request processing time\n",
    "- Configure CORS to allow requests from \"example.com\" and all localhost ports\n",
    "- Add a simple endpoint to test these features"
   ]
  },
  {
   "cell_type": "markdown",
   "id": "56db6a03-fcd5-4229-aa81-132e3f4cb731",
   "metadata": {},
   "source": [
    "***"
   ]
  },
  {
   "cell_type": "markdown",
   "id": "3208864f-ffdb-4b05-b0b1-f6b67683a174",
   "metadata": {},
   "source": [
    "**7.** Create a simple chat application with:\n",
    "- A WebSocket endpoint /chat\n",
    "- That maintains a count of connected clients\n",
    "- Broadcasts messages from any client to all connected clients\n",
    "- Sends a welcome message when a client connects"
   ]
  },
  {
   "cell_type": "markdown",
   "id": "31370a8b-cd74-4371-9450-8ce4248412e6",
   "metadata": {},
   "source": [
    "***"
   ]
  },
  {
   "cell_type": "markdown",
   "id": "94bafa50-5d10-40db-97d3-71bdc1821b11",
   "metadata": {},
   "source": [
    "**8.** For one of your previous exercises:\n",
    "- Write at least 3 test cases using TestClient\n",
    "- Create a Dockerfile for the application\n",
    "- Write a requirements.txt with all dependencies\n",
    "- Document how to run it locally and in production"
   ]
  },
  {
   "cell_type": "markdown",
   "id": "af3414ed-8ba7-485b-954f-69bb05f37262",
   "metadata": {},
   "source": [
    "***"
   ]
  },
  {
   "cell_type": "markdown",
   "id": "7cc97f26-cf68-4d50-82a1-ae7dcdfa95ac",
   "metadata": {},
   "source": [
    "#                                                        🌞 https://github.com/AI-Planet 🌞"
   ]
  }
 ],
 "metadata": {
  "kernelspec": {
   "display_name": "Python 3 (ipykernel)",
   "language": "python",
   "name": "python3"
  },
  "language_info": {
   "codemirror_mode": {
    "name": "ipython",
    "version": 3
   },
   "file_extension": ".py",
   "mimetype": "text/x-python",
   "name": "python",
   "nbconvert_exporter": "python",
   "pygments_lexer": "ipython3",
   "version": "3.9.12"
  }
 },
 "nbformat": 4,
 "nbformat_minor": 5
}
