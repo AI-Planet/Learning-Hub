{
 "cells": [
  {
   "cell_type": "markdown",
   "id": "355b5f03-d2a5-4aa3-a77c-776ccfcb35d5",
   "metadata": {},
   "source": [
    "# Session 11 🐍"
   ]
  },
  {
   "cell_type": "markdown",
   "id": "45efc9ec-fb9c-458c-b1de-d961145e8449",
   "metadata": {},
   "source": [
    "☀️☀️☀️☀️☀️☀️☀️☀️☀️☀️☀️☀️☀️☀️☀️☀️☀️☀️☀️☀️☀️☀️☀️☀️☀️☀️☀️☀️☀️☀️☀️☀️☀️☀️☀️☀️☀️☀️☀️☀️☀️☀️☀️☀️☀️"
   ]
  },
  {
   "cell_type": "markdown",
   "id": "2c7a6ce5-4cd2-45cd-a3b8-9ac277170654",
   "metadata": {},
   "source": [
    "***"
   ]
  },
  {
   "cell_type": "markdown",
   "id": "f47542a8-416d-4a3f-8c9d-99781dc53bd8",
   "metadata": {},
   "source": [
    "# 84. TensorFlow\n",
    "TensorFlow is an open-source machine learning (ML) and deep learning (DL) framework developed by Google Brain. It provides a comprehensive ecosystem for building, training, and deploying ML models, from research to production. It is:\n",
    "\n",
    "- A library for numerical computation (like NumPy but optimized for ML).\n",
    "- A framework for deep learning (supports neural networks, CNNs, RNNs, etc.).\n",
    "- A platform for scalable ML (works on CPUs, GPUs, TPUs, and distributed systems).\n",
    "- A deployment toolkit (for mobile, web, and edge devices)."
   ]
  },
  {
   "cell_type": "markdown",
   "id": "a35384c2-ea49-4613-b074-ef3b571f756e",
   "metadata": {},
   "source": [
    "***"
   ]
  },
  {
   "cell_type": "markdown",
   "id": "5e4dbbf4-88e4-4a78-b9a0-fd722e1aa1c0",
   "metadata": {},
   "source": [
    "# 85. Important Features:\n",
    "- Tensor-based computation (multi-dimensional arrays).\n",
    "- Automatic differentiation (for gradient descent).\n",
    "- High-level APIs (Keras) and low-level control (custom ops).\n",
    "- Distributed training (multi-GPU, TPU, clusters).\n",
    "- Model deployment (TensorFlow Lite, TensorFlow.js, TF Serving).\n",
    "- Visualization tools (TensorBoard)."
   ]
  },
  {
   "cell_type": "markdown",
   "id": "a4bb5edf-3034-4d79-8edf-8f0740ea0e27",
   "metadata": {},
   "source": [
    "***"
   ]
  },
  {
   "cell_type": "markdown",
   "id": "cb5cc52c-9d10-47ad-baeb-0900ab6358ff",
   "metadata": {},
   "source": [
    "# 86. Core Concepts in TensorFlow"
   ]
  },
  {
   "cell_type": "markdown",
   "id": "5d2de8aa-11c8-4023-a19b-77faa03c14af",
   "metadata": {},
   "source": [
    "***"
   ]
  },
  {
   "cell_type": "markdown",
   "id": "7951e259-8fce-4827-8f9a-0d2d1012d417",
   "metadata": {},
   "source": [
    "## 86-1. Tensors\n",
    "- Tensors are multi-dimensional arrays (like NumPy’s ndarray) but optimized for ML.\n",
    "- They can be:\n",
    "    - Scalars (0-D), Vectors (1-D), Matrices (2-D), or higher-dimensional arrays.\n",
    "    - Stored on CPU, GPU, or TPU for acceleration."
   ]
  },
  {
   "cell_type": "code",
   "execution_count": null,
   "id": "e0033bfb-e1e6-4b4b-b9a3-7fcdc69f1f2e",
   "metadata": {},
   "outputs": [],
   "source": [
    "import tensorflow as tf\n",
    "\n",
    "# Creating tensors\n",
    "scalar = tf.constant(5)                 # 0-D tensor\n",
    "vector = tf.constant([1, 2, 3])         # 1-D tensor\n",
    "matrix = tf.constant([[1, 2], [3, 4]])  # 2-D tensor"
   ]
  },
  {
   "cell_type": "markdown",
   "id": "0414a2f0-fb76-43e5-bc5f-a92e6bf5ab7b",
   "metadata": {},
   "source": [
    "***"
   ]
  },
  {
   "cell_type": "markdown",
   "id": "7528c824-0f13-4c5d-aa16-25b5deb65b5f",
   "metadata": {},
   "source": [
    "## 86-2. Computation Graph (Originally Static, Now Dynamic)\n",
    "- Older versions of TensorFlow used static computation graphs (define first, then run).\n",
    "- Now, eager execution (dynamic graphs) is the default (like PyTorch)."
   ]
  },
  {
   "cell_type": "code",
   "execution_count": null,
   "id": "673aef08-0164-4233-aee1-49b023db4fb8",
   "metadata": {},
   "outputs": [],
   "source": [
    "a = tf.constant(2)\n",
    "b = tf.constant(3)\n",
    "c = a + b  # Immediate computation (no graph needed)\n",
    "print(c)   # Output: tf.Tensor(5, shape=(), dtype=int32)"
   ]
  },
  {
   "cell_type": "markdown",
   "id": "89d79214-4d24-4f11-bff3-2a5c092c85e7",
   "metadata": {},
   "source": [
    "***"
   ]
  },
  {
   "cell_type": "markdown",
   "id": "ed49c288-5889-4c9a-971a-26efff710603",
   "metadata": {},
   "source": [
    "## 86-3. Automatic Differentiation (Autograd)\n",
    "- TensorFlow tracks operations and computes gradients automatically.\n",
    "- Used in backpropagation for training neural networks."
   ]
  },
  {
   "cell_type": "code",
   "execution_count": null,
   "id": "d8751537-a09a-43af-b0d4-2e45c38265c1",
   "metadata": {},
   "outputs": [],
   "source": [
    "x = tf.Variable(3.0)  # A trainable variable\n",
    "\n",
    "with tf.GradientTape() as tape:\n",
    "    y = x ** 2  # y = x²\n",
    "\n",
    "gradient = tape.gradient(y, x)  # dy/dx = 2x = 6.0\n",
    "print(gradient)  # Output: tf.Tensor(6.0, shape=(), dtype=float32)"
   ]
  },
  {
   "cell_type": "markdown",
   "id": "4cc0ed5e-517f-41b4-86c9-bb9c423b325c",
   "metadata": {},
   "source": [
    "***"
   ]
  },
  {
   "cell_type": "markdown",
   "id": "d78187cc-be37-4780-af75-09adb0339955",
   "metadata": {},
   "source": [
    "## 86-4. Layers and Models\n",
    "- TensorFlow provides pre-built layers (Dense, Conv2D, LSTM, etc.).\n",
    "- Models can be built using:\n",
    "    - Sequential API (simple stacks of layers).\n",
    "    - Functional API (for complex architectures).\n",
    "    - Subclassing API (full customization)."
   ]
  },
  {
   "cell_type": "code",
   "execution_count": null,
   "id": "ed29fa3c-8d60-4963-a142-d20db1035fd8",
   "metadata": {},
   "outputs": [],
   "source": [
    "model = tf.keras.Sequential([\n",
    "    tf.keras.layers.Dense(64, activation='relu', input_shape=(784,)),\n",
    "    tf.keras.layers.Dense(10, activation='softmax')\n",
    "])"
   ]
  },
  {
   "cell_type": "markdown",
   "id": "e5d2ee3a-efa5-4cc4-a34a-77e00ce9a9a4",
   "metadata": {},
   "source": [
    "***"
   ]
  },
  {
   "cell_type": "markdown",
   "id": "6054fd00-b5cb-4760-84ea-8f2798c54d08",
   "metadata": {},
   "source": [
    "# 87. TensorFlow Ecosystem\n",
    "TensorFlow is not just a library—it’s a complete ecosystem:\n",
    "\n",
    "- **TensorFlow Core:** For Low-level tensor operations\n",
    "- **Keras API:**\tFor High-level neural network building\n",
    "- **TensorFlow Lite:**\tFor mobile/embedded devices\n",
    "- **TensorFlow.js:**\tFor Run models in browsers\n",
    "- **TFX (TensorFlow Extended):**\tFor Production ML pipelines\n",
    "- **TensorFlow Serving:**\tFor Deploy models as microservices\n",
    "- **TensorBoard:**\tFor Visualization of training metrics\n",
    "- **TensorFlow Hub:**\tFor Pre-trained models"
   ]
  },
  {
   "cell_type": "markdown",
   "id": "c35849ce-db53-48f1-b820-b6b449c16c3f",
   "metadata": {},
   "source": [
    "***"
   ]
  },
  {
   "cell_type": "markdown",
   "id": "f2480e08-e095-4ccb-a6a2-dc6c664c7fba",
   "metadata": {},
   "source": [
    "# 88. Training a Neural Network in TensorFlow"
   ]
  },
  {
   "cell_type": "markdown",
   "id": "fe0063a1-2cac-4bfa-a13f-4cbd6cb3a6bb",
   "metadata": {},
   "source": [
    "***"
   ]
  },
  {
   "cell_type": "markdown",
   "id": "0bb62053-7ce4-4d68-9823-871c17b605f1",
   "metadata": {},
   "source": [
    "## 88-1. Step 1: \n",
    "Define the Model"
   ]
  },
  {
   "cell_type": "code",
   "execution_count": null,
   "id": "4bd62a87-e384-4f4c-9447-04739d426360",
   "metadata": {},
   "outputs": [],
   "source": [
    "model = tf.keras.Sequential([\n",
    "    tf.keras.layers.Flatten(input_shape=(28, 28)),  # For MNIST images\n",
    "    tf.keras.layers.Dense(128, activation='relu'),\n",
    "    tf.keras.layers.Dense(10, activation='softmax')\n",
    "])"
   ]
  },
  {
   "cell_type": "markdown",
   "id": "1c09ac45-5e81-447f-b587-98d7369e9afa",
   "metadata": {},
   "source": [
    "***"
   ]
  },
  {
   "cell_type": "markdown",
   "id": "a6266616-28d3-4a6b-8338-acbbc49c5d85",
   "metadata": {},
   "source": [
    "## 88-2. Step 2: \n",
    "Compile the Model"
   ]
  },
  {
   "cell_type": "code",
   "execution_count": null,
   "id": "deec60b7-0550-4cc3-8f14-8f454b97f179",
   "metadata": {},
   "outputs": [],
   "source": [
    "model.compile(\n",
    "    optimizer='adam',\n",
    "    loss='sparse_categorical_crossentropy',\n",
    "    metrics=['accuracy']\n",
    ")"
   ]
  },
  {
   "cell_type": "markdown",
   "id": "b75c8d7c-6e2d-4726-aa39-9dc00e9fe89e",
   "metadata": {},
   "source": [
    "***"
   ]
  },
  {
   "cell_type": "markdown",
   "id": "3fdac9a4-9085-4539-81d0-609b98b49c87",
   "metadata": {},
   "source": [
    "## 88-3. Step 3: \n",
    "Train the Model"
   ]
  },
  {
   "cell_type": "code",
   "execution_count": 5,
   "id": "7193352d-f309-4188-9c30-42cbecf1bc83",
   "metadata": {},
   "outputs": [],
   "source": [
    "model.fit(train_images, train_labels, epochs=5, batch_size=32)"
   ]
  },
  {
   "cell_type": "markdown",
   "id": "f9d34ed7-9c13-4948-ac9a-bcaad250362e",
   "metadata": {},
   "source": [
    "***"
   ]
  },
  {
   "cell_type": "markdown",
   "id": "8669716a-babb-4ebe-8831-fd8acb4d89a4",
   "metadata": {},
   "source": [
    "## 88-4. Step 4: \n",
    "Evaluate & Predict"
   ]
  },
  {
   "cell_type": "code",
   "execution_count": 6,
   "id": "fcb4f255-0fa2-4452-8f91-732775b9fcc5",
   "metadata": {},
   "outputs": [],
   "source": [
    "test_loss, test_acc = model.evaluate(test_images, test_labels)\n",
    "predictions = model.predict(new_data)"
   ]
  },
  {
   "cell_type": "markdown",
   "id": "7bc1b6c3-153e-4fa5-8996-063e4c4beea8",
   "metadata": {},
   "source": [
    "***"
   ]
  },
  {
   "cell_type": "markdown",
   "id": "0f1d10bf-ebfc-4558-bdf9-704fc062e6a6",
   "metadata": {},
   "source": [
    "# 89. Advanced TensorFlow Features"
   ]
  },
  {
   "cell_type": "markdown",
   "id": "60f819ce-76e3-40ab-bbc2-edfdfcd1275c",
   "metadata": {},
   "source": [
    "***"
   ]
  },
  {
   "cell_type": "markdown",
   "id": "0053667b-3b61-446e-867d-dd363a38b018",
   "metadata": {},
   "source": [
    "## 89-1. Distributed Training\n",
    "Train models across multiple GPUs/TPUs or even clusters."
   ]
  },
  {
   "cell_type": "code",
   "execution_count": null,
   "id": "b16dddc4-ad80-4600-b50e-a3aa5a4f159a",
   "metadata": {},
   "outputs": [],
   "source": [
    "strategy = tf.distribute.MirroredStrategy()\n",
    "with strategy.scope():\n",
    "    model = build_model()  # Model defined inside strategy scope"
   ]
  },
  {
   "cell_type": "markdown",
   "id": "bd0fc210-8321-431a-a21a-d1947ff5c995",
   "metadata": {},
   "source": [
    "***"
   ]
  },
  {
   "cell_type": "markdown",
   "id": "59cc0780-b6f1-4127-9749-d73cdc8077ac",
   "metadata": {},
   "source": [
    "## 89-2. Custom Training Loops\n",
    "For fine-grained control over training."
   ]
  },
  {
   "cell_type": "code",
   "execution_count": null,
   "id": "325278f2-87d7-40b2-85f3-a4ab02e1d932",
   "metadata": {},
   "outputs": [],
   "source": [
    "optimizer = tf.keras.optimizers.Adam()\n",
    "loss_fn = tf.keras.losses.SparseCategoricalCrossentropy()\n",
    "\n",
    "for epoch in range(epochs):\n",
    "    for batch in dataset:\n",
    "        with tf.GradientTape() as tape:\n",
    "            predictions = model(batch[0])\n",
    "            loss = loss_fn(batch[1], predictions)\n",
    "        gradients = tape.gradient(loss, model.trainable_variables)\n",
    "        optimizer.apply_gradients(zip(gradients, model.trainable_variables))"
   ]
  },
  {
   "cell_type": "markdown",
   "id": "01a6f56c-f957-4478-be8a-ed769b74d261",
   "metadata": {},
   "source": [
    "***"
   ]
  },
  {
   "cell_type": "markdown",
   "id": "57eb7e02-9643-4f50-85d9-aa9630368812",
   "metadata": {},
   "source": [
    "## 89-3. TensorFlow Serving (Deployment)\n",
    "Serve models via REST/gRPC APIs."
   ]
  },
  {
   "cell_type": "code",
   "execution_count": null,
   "id": "93df827e-a436-4335-b11a-8b0fef362134",
   "metadata": {},
   "outputs": [],
   "source": [
    "docker run -p 8501:8501 --name=tf_serving \\\n",
    "  --mount type=bind,source=/path/to/model,target=/models/model \\\n",
    "  -e MODEL_NAME=model -t tensorflow/serving"
   ]
  },
  {
   "cell_type": "markdown",
   "id": "a4c3090c-402a-42fd-9ea0-915ea1c33e64",
   "metadata": {},
   "source": [
    "***"
   ]
  },
  {
   "cell_type": "markdown",
   "id": "202d081b-dba4-43b5-9d0b-34383aaa04cb",
   "metadata": {},
   "source": [
    "# 90. TensorFlow vs. PyTorch"
   ]
  },
  {
   "cell_type": "markdown",
   "id": "fa032189-51dd-4010-ba5a-c82cf486621e",
   "metadata": {},
   "source": [
    "|Feature\t|TensorFlow\t|PyTorch|\n",
    "|-----------|-----------|-------|\n",
    "|Graph Type\t|Static (historically), now dynamic\t|Always dynamic|\n",
    "|Ease of Use\t|High-level (Keras) + Low-level\t|More Pythonic, research-friendly|\n",
    "|Deployment\t|Better (TF Lite, TF Serving)\t|Improving (TorchScript, ONNX)|\n",
    "|Community\t|Industry-focused\t|Research-focused|\n",
    "|Visualization\t|TensorBoard\t|TensorBoard + Weights & Biases|"
   ]
  },
  {
   "cell_type": "markdown",
   "id": "8968755a-3cb5-4a90-8de4-5ebd1111cebd",
   "metadata": {},
   "source": [
    "***"
   ]
  },
  {
   "cell_type": "markdown",
   "id": "4791dc93-9804-44d8-a3e3-fdb759b321a1",
   "metadata": {},
   "source": [
    "***"
   ]
  },
  {
   "cell_type": "markdown",
   "id": "b40206fb-6731-46dc-9302-0b9bc348b89b",
   "metadata": {},
   "source": [
    "# Some Excercises"
   ]
  },
  {
   "cell_type": "markdown",
   "id": "088d38a8-866c-48a9-a9b5-40df9d99ae4b",
   "metadata": {},
   "source": [
    "**1.**  Create tensors of different dimensions (scalar, vector, matrix).\n",
    "\n",
    "- Perform operations (addition, matrix multiplication).\n",
    "\n",
    "- Convert a NumPy array to a TensorFlow tensor."
   ]
  },
  {
   "cell_type": "markdown",
   "id": "b486b7b8-307c-4eb7-8c14-a1dd72eb2e46",
   "metadata": {},
   "source": [
    "___"
   ]
  },
  {
   "cell_type": "markdown",
   "id": "5c32b073-bab0-451e-8fd7-a294020f71c6",
   "metadata": {},
   "source": [
    "**2.** Define a function y = x² + 3x + 5.\n",
    "\n",
    "- Use tf.GradientTape to compute dy/dx at x = 2.0."
   ]
  },
  {
   "cell_type": "markdown",
   "id": "489da9fe-be18-487a-bcc7-e5d6672698ba",
   "metadata": {},
   "source": [
    "---"
   ]
  },
  {
   "cell_type": "markdown",
   "id": "bf117f39-fa94-453e-bca9-2ccd7b507496",
   "metadata": {},
   "source": [
    "**3.**  Create a model for MNIST classification with:\n",
    "    \n",
    "    - A Flatten layer.\n",
    "    - Two Dense layers (128 and 10 units).\n",
    "- Compile with adam optimizer and sparse_categorical_crossentropy."
   ]
  },
  {
   "cell_type": "markdown",
   "id": "02e59887-780b-4321-9382-ef4c85ec9684",
   "metadata": {},
   "source": [
    "---"
   ]
  },
  {
   "cell_type": "markdown",
   "id": "1b32e2d5-3ed7-4865-b63e-21c5cc156f67",
   "metadata": {},
   "source": [
    "**4.**  Load the MNIST dataset using tf.keras.datasets.\n",
    "- Train the model from Exercise 3 for 5 epochs.\n",
    "- Evaluate on test data."
   ]
  },
  {
   "cell_type": "markdown",
   "id": "8dcb22a4-aff7-4377-b09a-a39fa4a3b2a7",
   "metadata": {},
   "source": [
    "***"
   ]
  },
  {
   "cell_type": "markdown",
   "id": "17511368-bcb2-4413-87ab-450ca9a64ff2",
   "metadata": {},
   "source": [
    "**5.** Implement a custom training loop using GradientTape.\n",
    "\n",
    "Train a simple model on synthetic data."
   ]
  },
  {
   "cell_type": "markdown",
   "id": "1d682728-1f0e-4594-a1d3-30793e3f0751",
   "metadata": {},
   "source": [
    "***"
   ]
  },
  {
   "cell_type": "markdown",
   "id": "25f7d348-8fc5-49e9-a3e0-db0d0374a954",
   "metadata": {},
   "source": [
    "**6.** Use tf.distribute.MirroredStrategy to train a model on multiple GPUs (if available)."
   ]
  },
  {
   "cell_type": "markdown",
   "id": "56db6a03-fcd5-4229-aa81-132e3f4cb731",
   "metadata": {},
   "source": [
    "***"
   ]
  },
  {
   "cell_type": "markdown",
   "id": "3208864f-ffdb-4b05-b0b1-f6b67683a174",
   "metadata": {},
   "source": [
    "**7.** Save a trained model in SavedModel format.\n",
    "\n",
    "Serve it using TensorFlow Serving (Docker)."
   ]
  },
  {
   "cell_type": "markdown",
   "id": "31370a8b-cd74-4371-9450-8ce4248412e6",
   "metadata": {},
   "source": [
    "***"
   ]
  },
  {
   "cell_type": "markdown",
   "id": "94bafa50-5d10-40db-97d3-71bdc1821b11",
   "metadata": {},
   "source": [
    "**8.** Reimplement the same neural network in PyTorch and compare the code structure."
   ]
  },
  {
   "cell_type": "markdown",
   "id": "af3414ed-8ba7-485b-954f-69bb05f37262",
   "metadata": {},
   "source": [
    "***"
   ]
  },
  {
   "cell_type": "markdown",
   "id": "7cc97f26-cf68-4d50-82a1-ae7dcdfa95ac",
   "metadata": {},
   "source": [
    "#                                                        🌞 https://github.com/AI-Planet 🌞"
   ]
  }
 ],
 "metadata": {
  "kernelspec": {
   "display_name": "Python 3 (ipykernel)",
   "language": "python",
   "name": "python3"
  },
  "language_info": {
   "codemirror_mode": {
    "name": "ipython",
    "version": 3
   },
   "file_extension": ".py",
   "mimetype": "text/x-python",
   "name": "python",
   "nbconvert_exporter": "python",
   "pygments_lexer": "ipython3",
   "version": "3.9.12"
  }
 },
 "nbformat": 4,
 "nbformat_minor": 5
}
