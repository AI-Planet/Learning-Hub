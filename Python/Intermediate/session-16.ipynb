{
 "cells": [
  {
   "cell_type": "markdown",
   "id": "355b5f03-d2a5-4aa3-a77c-776ccfcb35d5",
   "metadata": {},
   "source": [
    "# Session 16 🐍"
   ]
  },
  {
   "cell_type": "markdown",
   "id": "45efc9ec-fb9c-458c-b1de-d961145e8449",
   "metadata": {},
   "source": [
    "☀️☀️☀️☀️☀️☀️☀️☀️☀️☀️☀️☀️☀️☀️☀️☀️☀️☀️☀️☀️☀️☀️☀️☀️☀️☀️☀️☀️☀️☀️☀️☀️☀️☀️☀️☀️☀️☀️☀️☀️☀️☀️☀️☀️☀️"
   ]
  },
  {
   "cell_type": "markdown",
   "id": "2c7a6ce5-4cd2-45cd-a3b8-9ac277170654",
   "metadata": {},
   "source": [
    "***"
   ]
  },
  {
   "cell_type": "markdown",
   "id": "f47542a8-416d-4a3f-8c9d-99781dc53bd8",
   "metadata": {},
   "source": [
    "# 121. SymPy\n",
    "SymPy is a Python library for symbolic mathematics. Unlike numerical libraries like NumPy that work with approximate numerical values, SymPy performs exact symbolic computations using variables, expressions, and mathematical symbols.\n",
    "\n",
    "SymPy is a powerful symbolic computation library that integrates well with Python's scientific ecosystem. It's particularly useful for:\n",
    "- Exact mathematical computations\n",
    "- Algebraic manipulations\n",
    "- Symbolic calculus\n",
    "- Theoretical mathematics\n",
    "- Educational purposes"
   ]
  },
  {
   "cell_type": "markdown",
   "id": "a35384c2-ea49-4613-b074-ef3b571f756e",
   "metadata": {},
   "source": [
    "***"
   ]
  },
  {
   "cell_type": "markdown",
   "id": "5e4dbbf4-88e4-4a78-b9a0-fd722e1aa1c0",
   "metadata": {},
   "source": [
    "# 122. Important Features of SymPy\n",
    "- Symbolic computation: Exact arithmetic with symbols\n",
    "- Computer algebra: Algebraic manipulations like expansion, simplification, etc.\n",
    "- Calculus: Derivatives, integrals, limits\n",
    "- Equation solving: Algebraic and differential equations\n",
    "- Discrete math: Combinatorics, number theory\n",
    "- Matrices: Symbolic linear algebra\n",
    "- Plotting: Basic 2D and 3D plotting\n",
    "- Physics: Physical units, quantum mechanics, classical mechanics"
   ]
  },
  {
   "cell_type": "markdown",
   "id": "a4bb5edf-3034-4d79-8edf-8f0740ea0e27",
   "metadata": {},
   "source": [
    "***"
   ]
  },
  {
   "cell_type": "markdown",
   "id": "cb5cc52c-9d10-47ad-baeb-0900ab6358ff",
   "metadata": {},
   "source": [
    "# 123. Basic Usage"
   ]
  },
  {
   "cell_type": "markdown",
   "id": "5d2de8aa-11c8-4023-a19b-77faa03c14af",
   "metadata": {},
   "source": [
    "***"
   ]
  },
  {
   "cell_type": "markdown",
   "id": "7951e259-8fce-4827-8f9a-0d2d1012d417",
   "metadata": {},
   "source": [
    "## 123-1. Symbols and Expressions"
   ]
  },
  {
   "cell_type": "code",
   "execution_count": null,
   "id": "5b8febed-3dfe-4a6c-9d0b-52fd6f4e0d6e",
   "metadata": {},
   "outputs": [],
   "source": [
    "from sympy import symbols, Eq, simplify, expand, factor\n",
    "\n",
    "# Define symbols\n",
    "x, y, z = symbols('x y z')\n",
    "\n",
    "# Create expressions\n",
    "expr = x**2 + 2*x*y + y**2\n",
    "\n",
    "# Equation\n",
    "equation = Eq(x**2 + y**2, z**2)"
   ]
  },
  {
   "cell_type": "markdown",
   "id": "0414a2f0-fb76-43e5-bc5f-a92e6bf5ab7b",
   "metadata": {},
   "source": [
    "***"
   ]
  },
  {
   "cell_type": "markdown",
   "id": "7528c824-0f13-4c5d-aa16-25b5deb65b5f",
   "metadata": {},
   "source": [
    "## 123-2. Simplification and Expansion"
   ]
  },
  {
   "cell_type": "code",
   "execution_count": null,
   "id": "e201cc47-b30e-4481-89f3-130b52915eff",
   "metadata": {},
   "outputs": [],
   "source": [
    "# Expand an expression\n",
    "expanded_expr = expand((x + y)**3)\n",
    "# x**3 + 3*x**2*y + 3*x*y**2 + y**3\n",
    "\n",
    "# Factor an expression\n",
    "factored_expr = factor(x**2 - y**2)\n",
    "# (x - y)*(x + y)\n",
    "\n",
    "# Simplify\n",
    "simplified_expr = simplify((x**2 - y**2)/(x - y))\n",
    "# x + y"
   ]
  },
  {
   "cell_type": "markdown",
   "id": "89d79214-4d24-4f11-bff3-2a5c092c85e7",
   "metadata": {},
   "source": [
    "***"
   ]
  },
  {
   "cell_type": "markdown",
   "id": "ed49c288-5889-4c9a-971a-26efff710603",
   "metadata": {},
   "source": [
    "## 123-3. Calculus"
   ]
  },
  {
   "cell_type": "markdown",
   "id": "50013e13-eaed-4a70-a548-6be80d3bcbda",
   "metadata": {},
   "source": [
    "***"
   ]
  },
  {
   "cell_type": "markdown",
   "id": "a2961acb-cca2-4f71-85c0-88db04885e01",
   "metadata": {},
   "source": [
    "### 123-3-1. Derivatives"
   ]
  },
  {
   "cell_type": "code",
   "execution_count": null,
   "id": "9840230a-2a65-4a2c-aee6-2c9580a361c7",
   "metadata": {},
   "outputs": [],
   "source": [
    "from sympy import diff\n",
    "\n",
    "# First derivative\n",
    "diff(x**3 + 2*x**2 + x, x)\n",
    "# 3*x**2 + 4*x + 1\n",
    "\n",
    "# Partial derivatives\n",
    "diff(x**2 * y**3, x, y)\n",
    "# 6*x*y**2\n",
    "\n",
    "# Higher order derivatives\n",
    "diff(x**4, x, x, x)  # Third derivative\n",
    "# 24*x"
   ]
  },
  {
   "cell_type": "markdown",
   "id": "15316d1c-0544-472d-b319-3caebcd1bb96",
   "metadata": {},
   "source": [
    "***"
   ]
  },
  {
   "cell_type": "markdown",
   "id": "d78187cc-be37-4780-af75-09adb0339955",
   "metadata": {},
   "source": [
    "### 123-3-2. Integrals"
   ]
  },
  {
   "cell_type": "code",
   "execution_count": null,
   "id": "93f05167-7cbf-401f-9959-7fd4afbfe766",
   "metadata": {},
   "outputs": [],
   "source": [
    "from sympy import integrate\n",
    "\n",
    "# Indefinite integral\n",
    "integrate(x**2, x)\n",
    "# x**3/3\n",
    "\n",
    "# Definite integral\n",
    "integrate(x**2, (x, 0, 2))\n",
    "# 8/3\n",
    "\n",
    "# Multiple integrals\n",
    "integrate(x**2*y, (x, 0, 1), (y, 0, 1))\n",
    "# 1/6"
   ]
  },
  {
   "cell_type": "markdown",
   "id": "e5d2ee3a-efa5-4cc4-a34a-77e00ce9a9a4",
   "metadata": {},
   "source": [
    "***"
   ]
  },
  {
   "cell_type": "markdown",
   "id": "6054fd00-b5cb-4760-84ea-8f2798c54d08",
   "metadata": {},
   "source": [
    "### 123-3-3. Limits"
   ]
  },
  {
   "cell_type": "code",
   "execution_count": null,
   "id": "d7e58fd4-6968-4ba4-9418-62ea0b1b5062",
   "metadata": {},
   "outputs": [],
   "source": [
    "from sympy import limit, sin, oo\n",
    "\n",
    "limit(sin(x)/x, x, 0)\n",
    "# 1\n",
    "\n",
    "limit(1/x, x, 0, '+')  # Right-hand limit\n",
    "# oo (infinity)\n",
    "\n",
    "limit(1/x, x, oo)\n",
    "# 0"
   ]
  },
  {
   "cell_type": "markdown",
   "id": "c35849ce-db53-48f1-b820-b6b449c16c3f",
   "metadata": {},
   "source": [
    "***"
   ]
  },
  {
   "cell_type": "markdown",
   "id": "3e0238df-87eb-42b4-80e5-3d704029734f",
   "metadata": {},
   "source": [
    "# 124. Equation Solving"
   ]
  },
  {
   "cell_type": "markdown",
   "id": "e5de71c7-fd8b-4daf-81af-97a811e8923b",
   "metadata": {},
   "source": [
    "***"
   ]
  },
  {
   "cell_type": "markdown",
   "id": "6c13dc0b-bbbc-471b-a3d3-cc017ce9e55a",
   "metadata": {},
   "source": [
    "## 124-1. Algebraic Equations"
   ]
  },
  {
   "cell_type": "code",
   "execution_count": null,
   "id": "66a3620f-9ee9-43b4-9818-1193ff8f8b6d",
   "metadata": {},
   "outputs": [],
   "source": [
    "from sympy import solve\n",
    "\n",
    "# Solve single equation\n",
    "solve(x**2 - 4, x)\n",
    "# [-2, 2]\n",
    "\n",
    "# Solve system of equations\n",
    "solve([x + y - 3, x - y - 1], [x, y])\n",
    "# {x: 2, y: 1}"
   ]
  },
  {
   "cell_type": "markdown",
   "id": "b26ecb54-1af7-4366-99ef-2847acd60eaf",
   "metadata": {},
   "source": [
    "***"
   ]
  },
  {
   "cell_type": "markdown",
   "id": "c76a44f1-692e-4da9-86ea-7f2afc53dd72",
   "metadata": {},
   "source": [
    "## 124-2. Differential Equations"
   ]
  },
  {
   "cell_type": "code",
   "execution_count": null,
   "id": "5ea7374c-2550-4079-8fa1-864a02512942",
   "metadata": {},
   "outputs": [],
   "source": [
    "from sympy import Function, dsolve, Derivative\n",
    "\n",
    "f = Function('f')\n",
    "# Solve f''(x) + f(x) = 0\n",
    "dsolve(Derivative(f(x), x, x) + f(x), f(x))\n",
    "# f(x) = C₁⋅sin(x) + C₂⋅cos(x)"
   ]
  },
  {
   "cell_type": "markdown",
   "id": "a32c3b8c-fb2e-4b58-b285-4758c3bda4ae",
   "metadata": {},
   "source": [
    "***"
   ]
  },
  {
   "cell_type": "markdown",
   "id": "94453016-a572-440b-85dd-8b0c73bcca14",
   "metadata": {},
   "source": [
    "# 125. Matrices"
   ]
  },
  {
   "cell_type": "code",
   "execution_count": null,
   "id": "517695c0-0606-44fa-9c70-82fa495e754b",
   "metadata": {},
   "outputs": [],
   "source": [
    "from sympy import Matrix\n",
    "\n",
    "# Create matrices\n",
    "M = Matrix([[1, 2], [3, 4]])\n",
    "N = Matrix([x, y])\n",
    "\n",
    "# Matrix operations\n",
    "M * N\n",
    "# Matrix([\n",
    "# [x + 2*y],\n",
    "# [3*x + 4*y]])\n",
    "\n",
    "# Determinant\n",
    "M.det()\n",
    "# -2\n",
    "\n",
    "# Eigenvalues\n",
    "M.eigenvals()\n",
    "# {5/2 - sqrt(33)/2: 1, 5/2 + sqrt(33)/2: 1}"
   ]
  },
  {
   "cell_type": "markdown",
   "id": "e35774f0-9e03-4fbb-885d-6ceb387e03e6",
   "metadata": {},
   "source": [
    "***"
   ]
  },
  {
   "cell_type": "markdown",
   "id": "24a71f69-16c2-48ee-951b-5aba967ddc20",
   "metadata": {},
   "source": [
    "# 126. Plotting"
   ]
  },
  {
   "cell_type": "code",
   "execution_count": null,
   "id": "ac3faad0-e589-43ad-a4da-f772bb84c367",
   "metadata": {},
   "outputs": [],
   "source": [
    "from sympy.plotting import plot\n",
    "\n",
    "# Basic 2D plot\n",
    "plot(x**2, (x, -5, 5))\n",
    "\n",
    "# Multiple plots\n",
    "plot(x, x**2, x**3, (x, -2, 2))"
   ]
  },
  {
   "cell_type": "markdown",
   "id": "e3343c7e-43b2-4a70-88f3-fa724d3129da",
   "metadata": {},
   "source": [
    "***"
   ]
  },
  {
   "cell_type": "markdown",
   "id": "f9c00b91-6303-404b-9333-b1eb893b09fb",
   "metadata": {},
   "source": [
    "# 127. Series Expansion"
   ]
  },
  {
   "cell_type": "code",
   "execution_count": null,
   "id": "2d12a104-388c-413f-a959-3be2dc0b8bb3",
   "metadata": {},
   "outputs": [],
   "source": [
    "from sympy import series\n",
    "\n",
    "# Taylor series expansion\n",
    "series(cos(x), x, 0, 6)\n",
    "# 1 - x**2/2 + x**4/24 + O(x**6)"
   ]
  },
  {
   "cell_type": "markdown",
   "id": "84c32d56-f1b3-4f4d-8381-b80bfd3d43a8",
   "metadata": {},
   "source": [
    "***"
   ]
  },
  {
   "cell_type": "markdown",
   "id": "60acc4f4-a309-4f97-97aa-fc9e047b64ca",
   "metadata": {},
   "source": [
    "# 128. Substitution and Evaluation"
   ]
  },
  {
   "cell_type": "code",
   "execution_count": null,
   "id": "b2776e6b-ff5d-4fc5-99c6-1cbbeecb3e91",
   "metadata": {},
   "outputs": [],
   "source": [
    "expr = x**2 + 2*x + 1\n",
    "\n",
    "# Substitute a value\n",
    "expr.subs(x, 2)\n",
    "# 9\n",
    "\n",
    "# Substitute multiple values\n",
    "expr.subs({x: y, y: z})\n",
    "\n",
    "# Numerical evaluation\n",
    "expr.evalf(subs={x: 3.14})\n",
    "# 15.1396"
   ]
  },
  {
   "cell_type": "markdown",
   "id": "fc657257-2b51-40de-85f4-b03ccc99b254",
   "metadata": {},
   "source": [
    "***"
   ]
  },
  {
   "cell_type": "markdown",
   "id": "3a8402fa-654f-4431-be7c-f0f0f6aaad9c",
   "metadata": {},
   "source": [
    "# 129. Special Functions"
   ]
  },
  {
   "cell_type": "code",
   "execution_count": null,
   "id": "da047fd2-c80e-4bfa-9abd-58cc6afe0896",
   "metadata": {},
   "outputs": [],
   "source": [
    "from sympy import sin, cos, tan, exp, log, gamma, erf\n",
    "\n",
    "# Trigonometric functions\n",
    "sin(x).series(x, 0, 6)\n",
    "# x - x**3/6 + x**5/120 + O(x**6)\n",
    "\n",
    "# Gamma function\n",
    "gamma(x).rewrite('factorial')\n",
    "# factorial(x - 1)\n",
    "\n",
    "# Error function\n",
    "erf(x).series(x, 0, 6)\n",
    "# 2*x/sqrt(pi) - 2*x**3/(3*sqrt(pi)) + x**5/(5*sqrt(pi)) + O(x**6)"
   ]
  },
  {
   "cell_type": "markdown",
   "id": "66851a4e-e878-4f66-a983-046d29d7f74b",
   "metadata": {},
   "source": [
    "***"
   ]
  },
  {
   "cell_type": "markdown",
   "id": "0ca0e092-e0ad-4cda-9916-3f14344f04e3",
   "metadata": {},
   "source": [
    "# 130. Number Theory"
   ]
  },
  {
   "cell_type": "code",
   "execution_count": null,
   "id": "8eb789ad-0ee6-4a8d-a048-7afea599b343",
   "metadata": {},
   "outputs": [],
   "source": [
    "from sympy import isprime, factorint, totient, primerange\n",
    "\n",
    "isprime(101)  # True\n",
    "factorint(100)  # {2: 2, 5: 2}\n",
    "totient(10)  # 4 (numbers coprime with 10)\n",
    "list(primerange(1, 10))  # [2, 3, 5, 7]"
   ]
  },
  {
   "cell_type": "markdown",
   "id": "1307dd3a-7b26-4eff-a803-331439aa418b",
   "metadata": {},
   "source": [
    "***"
   ]
  },
  {
   "cell_type": "markdown",
   "id": "ba39139b-037b-43c9-aa24-df7dc541ef1b",
   "metadata": {},
   "source": [
    "# 131. Advanced Features"
   ]
  },
  {
   "cell_type": "markdown",
   "id": "535258be-5cd3-4e28-852d-d4e539b71fc6",
   "metadata": {},
   "source": [
    "***"
   ]
  },
  {
   "cell_type": "markdown",
   "id": "0c22f321-a591-4b25-9988-56abe3eef424",
   "metadata": {},
   "source": [
    "## 131-1. Lambda Functions"
   ]
  },
  {
   "cell_type": "code",
   "execution_count": null,
   "id": "e460df6b-083a-41fd-b488-f997e7b4293a",
   "metadata": {},
   "outputs": [],
   "source": [
    "from sympy import lambdify\n",
    "\n",
    "f = lambdify(x, x**2, 'numpy')  # Convert to NumPy function\n",
    "import numpy as np\n",
    "f(np.array([1, 2, 3]))  # array([1, 4, 9])"
   ]
  },
  {
   "cell_type": "markdown",
   "id": "260ef2dc-3922-436c-95f9-72ae52279873",
   "metadata": {},
   "source": [
    "***"
   ]
  },
  {
   "cell_type": "markdown",
   "id": "97aef20a-775f-464b-b30f-56ec6b09b442",
   "metadata": {},
   "source": [
    "## 131-2. Physics Module"
   ]
  },
  {
   "cell_type": "code",
   "execution_count": null,
   "id": "c5a668cb-29f0-4b4e-bb20-5396a994a995",
   "metadata": {},
   "outputs": [],
   "source": [
    "from sympy.physics import units\n",
    "\n",
    "# Unit conversions\n",
    "meters = units.meter\n",
    "feet = units.foot\n",
    "(5 * meters).convert_to(feet)  # 5000000000000/381 foot"
   ]
  },
  {
   "cell_type": "markdown",
   "id": "7c33b0a6-9e4d-440c-8ce1-ba8819628615",
   "metadata": {},
   "source": [
    "***"
   ]
  },
  {
   "cell_type": "markdown",
   "id": "26cb8300-4db3-4938-910b-19fa1e1197ff",
   "metadata": {},
   "source": [
    "## 131-3. Printing"
   ]
  },
  {
   "cell_type": "code",
   "execution_count": null,
   "id": "e0a23398-5d8d-47e1-912c-a9fdd9d33414",
   "metadata": {},
   "outputs": [],
   "source": [
    "from sympy import pprint, latex\n",
    "\n",
    "# Pretty printing\n",
    "pprint(integrate(x**2, x))\n",
    "#  3\n",
    "# x\n",
    "# ──\n",
    "# 3\n",
    "\n",
    "# LaTeX output\n",
    "latex(integrate(x**2, x))\n",
    "# \\frac{x^{3}}{3}"
   ]
  },
  {
   "cell_type": "markdown",
   "id": "3dc20fc0-1df9-4a5d-bc75-8611ac5e4c33",
   "metadata": {},
   "source": [
    "***"
   ]
  },
  {
   "cell_type": "markdown",
   "id": "263aa9f3-caf2-4639-a9bc-ed6496edbd3b",
   "metadata": {},
   "source": [
    "## 131-4. Assumptions System"
   ]
  },
  {
   "cell_type": "code",
   "execution_count": null,
   "id": "27e71c78-20ea-49b9-b503-06b900cd8c25",
   "metadata": {},
   "outputs": [],
   "source": [
    "x = symbols('x', positive=True)  # x is positive\n",
    "sqrt(x**2)  # Returns x (not |x| since x is positive)"
   ]
  },
  {
   "cell_type": "markdown",
   "id": "8094dbe0-35ad-4324-bc90-7b72079f7247",
   "metadata": {},
   "source": [
    "***"
   ]
  },
  {
   "cell_type": "markdown",
   "id": "513f2980-a77b-45a1-bbe7-f25a8928c431",
   "metadata": {},
   "source": [
    "## 131-5. Solvers"
   ]
  },
  {
   "cell_type": "code",
   "execution_count": null,
   "id": "5ef39835-0fde-4c3c-9244-0756c99a5d28",
   "metadata": {},
   "outputs": [],
   "source": [
    "from sympy.solvers import solve_linear_system\n",
    "\n",
    "# Solve linear system\n",
    "system = Matrix([[1, 2, 3], [4, 5, 6]])\n",
    "solve_linear_system(system, x, y)\n",
    "# {x: -1, y: 2}"
   ]
  },
  {
   "cell_type": "markdown",
   "id": "f6ea3d71-40cd-4876-80f3-17c87247848b",
   "metadata": {},
   "source": [
    "***"
   ]
  },
  {
   "cell_type": "markdown",
   "id": "4791dc93-9804-44d8-a3e3-fdb759b321a1",
   "metadata": {},
   "source": [
    "***"
   ]
  },
  {
   "cell_type": "markdown",
   "id": "b40206fb-6731-46dc-9302-0b9bc348b89b",
   "metadata": {},
   "source": [
    "# Some Excercises"
   ]
  },
  {
   "cell_type": "markdown",
   "id": "088d38a8-866c-48a9-a9b5-40df9d99ae4b",
   "metadata": {},
   "source": [
    "**1.**   Define symbols x and y, then create and simplify the expression:\n",
    "\n",
    "(x + y)^3 - (x^3 + 3x^2y + 3xy^2 + y^3)"
   ]
  },
  {
   "cell_type": "markdown",
   "id": "b486b7b8-307c-4eb7-8c14-a1dd72eb2e46",
   "metadata": {},
   "source": [
    "___"
   ]
  },
  {
   "cell_type": "markdown",
   "id": "5c32b073-bab0-451e-8fd7-a294020f71c6",
   "metadata": {},
   "source": [
    "**2.** Compute:\n",
    "- The derivative of sin(x^2) with respect to x\n",
    "- The indefinite integral of x*e^x\n",
    "- The limit of (1 + 1/x)^x as x approaches infinity"
   ]
  },
  {
   "cell_type": "markdown",
   "id": "489da9fe-be18-487a-bcc7-e5d6672698ba",
   "metadata": {},
   "source": [
    "---"
   ]
  },
  {
   "cell_type": "markdown",
   "id": "bf117f39-fa94-453e-bca9-2ccd7b507496",
   "metadata": {},
   "source": [
    "**3.**  Solve:\n",
    "- The quadratic equation x^2 - 5x + 6 = 0\n",
    "- The system of equations:\n",
    "    - x + y = 5\n",
    "    - 2x - y = 1"
   ]
  },
  {
   "cell_type": "markdown",
   "id": "02e59887-780b-4321-9382-ef4c85ec9684",
   "metadata": {},
   "source": [
    "---"
   ]
  },
  {
   "cell_type": "markdown",
   "id": "1b32e2d5-3ed7-4865-b63e-21c5cc156f67",
   "metadata": {},
   "source": [
    "**4.**  Given matrices:"
   ]
  },
  {
   "cell_type": "raw",
   "id": "d7058b68-ddf4-4548-a114-c8db14fdc899",
   "metadata": {},
   "source": [
    "A = [1  2]    B = [x]\n",
    "    [3  4]        [y]"
   ]
  },
  {
   "cell_type": "markdown",
   "id": "34859c10-4808-480c-9342-e48d30e9bb78",
   "metadata": {},
   "source": [
    "Compute:\n",
    "- The determinant of A\n",
    "- The product A × B\n",
    "- The eigenvalues of A"
   ]
  },
  {
   "cell_type": "markdown",
   "id": "8dcb22a4-aff7-4377-b09a-a39fa4a3b2a7",
   "metadata": {},
   "source": [
    "***"
   ]
  },
  {
   "cell_type": "markdown",
   "id": "17511368-bcb2-4413-87ab-450ca9a64ff2",
   "metadata": {},
   "source": [
    "**5.** Expand cos(x) as a Taylor series around 0 up to the 6th order\n",
    "- Compute the value of the gamma function at 5\n",
    "- Simplify erf(∞) (error function at infinity)"
   ]
  },
  {
   "cell_type": "markdown",
   "id": "1d682728-1f0e-4594-a1d3-30793e3f0751",
   "metadata": {},
   "source": [
    "***"
   ]
  },
  {
   "cell_type": "markdown",
   "id": "25f7d348-8fc5-49e9-a3e0-db0d0374a954",
   "metadata": {},
   "source": [
    "**6.** Given the expression x^2 + 2xy + y^2:\n",
    "- Substitute x = 2 and y = 3\n",
    "- Substitute y with sin(z) and then evaluate at z = π/2 when x = 1"
   ]
  },
  {
   "cell_type": "markdown",
   "id": "56db6a03-fcd5-4229-aa81-132e3f4cb731",
   "metadata": {},
   "source": [
    "***"
   ]
  },
  {
   "cell_type": "markdown",
   "id": "3208864f-ffdb-4b05-b0b1-f6b67683a174",
   "metadata": {},
   "source": [
    "**7.** Solve:\n",
    "- The ordinary differential equation f''(x) + 4f(x) = 0\n",
    "- The initial value problem f'(x) = 2x, with f(0) = 1"
   ]
  },
  {
   "cell_type": "markdown",
   "id": "31370a8b-cd74-4371-9450-8ce4248412e6",
   "metadata": {},
   "source": [
    "***"
   ]
  },
  {
   "cell_type": "markdown",
   "id": "94bafa50-5d10-40db-97d3-71bdc1821b11",
   "metadata": {},
   "source": [
    "**8.** Convert the expression x^2 + sin(x) to a NumPy function using lambdify and evaluate it at x = π/2\n",
    "- Print the integral of 1/x using both pretty printing and LaTeX output\n",
    "- Define a symbol n that is positive and integer, then simplify sqrt(n^2)"
   ]
  },
  {
   "cell_type": "markdown",
   "id": "af3414ed-8ba7-485b-954f-69bb05f37262",
   "metadata": {},
   "source": [
    "***"
   ]
  },
  {
   "cell_type": "markdown",
   "id": "7cc97f26-cf68-4d50-82a1-ae7dcdfa95ac",
   "metadata": {},
   "source": [
    "#                                                        🌞 https://github.com/AI-Planet 🌞"
   ]
  }
 ],
 "metadata": {
  "kernelspec": {
   "display_name": "Python 3 (ipykernel)",
   "language": "python",
   "name": "python3"
  },
  "language_info": {
   "codemirror_mode": {
    "name": "ipython",
    "version": 3
   },
   "file_extension": ".py",
   "mimetype": "text/x-python",
   "name": "python",
   "nbconvert_exporter": "python",
   "pygments_lexer": "ipython3",
   "version": "3.9.12"
  }
 },
 "nbformat": 4,
 "nbformat_minor": 5
}
