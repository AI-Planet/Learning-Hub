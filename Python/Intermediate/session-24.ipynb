{
 "cells": [
  {
   "cell_type": "markdown",
   "id": "355b5f03-d2a5-4aa3-a77c-776ccfcb35d5",
   "metadata": {},
   "source": [
    "# Session 24 🐍"
   ]
  },
  {
   "cell_type": "markdown",
   "id": "45efc9ec-fb9c-458c-b1de-d961145e8449",
   "metadata": {},
   "source": [
    "☀️☀️☀️☀️☀️☀️☀️☀️☀️☀️☀️☀️☀️☀️☀️☀️☀️☀️☀️☀️☀️☀️☀️☀️☀️☀️☀️☀️☀️☀️☀️☀️☀️☀️☀️☀️☀️☀️☀️☀️☀️☀️☀️☀️☀️"
   ]
  },
  {
   "cell_type": "markdown",
   "id": "2c7a6ce5-4cd2-45cd-a3b8-9ac277170654",
   "metadata": {},
   "source": [
    "***"
   ]
  },
  {
   "cell_type": "markdown",
   "id": "f47542a8-416d-4a3f-8c9d-99781dc53bd8",
   "metadata": {},
   "source": [
    "# 191. Selenium \n",
    "`Selenium` is a powerful tool for automating web browsers, primarily used for testing web applications. In Python, Selenium provides a convenient API to interact with web browsers programmatically."
   ]
  },
  {
   "cell_type": "markdown",
   "id": "cccc2432-7d24-4f29-b7a2-300e65304cd8",
   "metadata": {},
   "source": [
    "# 192. Basic Setup"
   ]
  },
  {
   "cell_type": "code",
   "execution_count": null,
   "id": "d36d9dc2-1371-47fe-8269-44c3550dec1d",
   "metadata": {},
   "outputs": [],
   "source": [
    "from selenium import webdriver\n",
    "from selenium.webdriver.common.by import By\n",
    "from selenium.webdriver.common.keys import Keys\n",
    "\n",
    "# Initialize the driver (example for Chrome)\n",
    "driver = webdriver.Chrome()  # or specify path: webdriver.Chrome('/path/to/chromedriver')\n",
    "\n",
    "# Open a webpage\n",
    "driver.get(\"https://www.google.com\")"
   ]
  },
  {
   "cell_type": "markdown",
   "id": "a35384c2-ea49-4613-b074-ef3b571f756e",
   "metadata": {},
   "source": [
    "***"
   ]
  },
  {
   "cell_type": "markdown",
   "id": "5e4dbbf4-88e4-4a78-b9a0-fd722e1aa1c0",
   "metadata": {},
   "source": [
    "# 193. Core Features"
   ]
  },
  {
   "cell_type": "markdown",
   "id": "a4bb5edf-3034-4d79-8edf-8f0740ea0e27",
   "metadata": {},
   "source": [
    "***"
   ]
  },
  {
   "cell_type": "markdown",
   "id": "cb5cc52c-9d10-47ad-baeb-0900ab6358ff",
   "metadata": {},
   "source": [
    "## 193-1. Locating Elements\n",
    "Selenium provides several ways to locate elements:"
   ]
  },
  {
   "cell_type": "code",
   "execution_count": null,
   "id": "5c171aa0-494e-4e32-a42f-3644634470c7",
   "metadata": {},
   "outputs": [],
   "source": [
    "# By ID\n",
    "element = driver.find_element(By.ID, \"element_id\")\n",
    "\n",
    "# By name\n",
    "element = driver.find_element(By.NAME, \"element_name\")\n",
    "\n",
    "# By class name\n",
    "element = driver.find_element(By.CLASS_NAME, \"element_class\")\n",
    "\n",
    "# By tag name\n",
    "element = driver.find_element(By.TAG_NAME, \"h1\")\n",
    "\n",
    "# By link text\n",
    "element = driver.find_element(By.LINK_TEXT, \"Click Here\")\n",
    "\n",
    "# By partial link text\n",
    "element = driver.find_element(By.PARTIAL_LINK_TEXT, \"Click\")\n",
    "\n",
    "# By CSS selector\n",
    "element = driver.find_element(By.CSS_SELECTOR, \"div.class_name\")\n",
    "\n",
    "# By XPath\n",
    "element = driver.find_element(By.XPATH, \"//div[@id='element_id']\")"
   ]
  },
  {
   "cell_type": "markdown",
   "id": "5d2de8aa-11c8-4023-a19b-77faa03c14af",
   "metadata": {},
   "source": [
    "***"
   ]
  },
  {
   "cell_type": "markdown",
   "id": "7528c824-0f13-4c5d-aa16-25b5deb65b5f",
   "metadata": {},
   "source": [
    "## 193-2. Interacting with Elements"
   ]
  },
  {
   "cell_type": "code",
   "execution_count": null,
   "id": "3e390a33-4241-4879-8d1c-e61489274e70",
   "metadata": {},
   "outputs": [],
   "source": [
    "# Clicking elements\n",
    "element.click()\n",
    "\n",
    "# Typing text\n",
    "element.send_keys(\"text to input\")\n",
    "\n",
    "# Clearing input\n",
    "element.clear()\n",
    "\n",
    "# Submitting forms\n",
    "element.submit()"
   ]
  },
  {
   "cell_type": "markdown",
   "id": "89d79214-4d24-4f11-bff3-2a5c092c85e7",
   "metadata": {},
   "source": [
    "***"
   ]
  },
  {
   "cell_type": "markdown",
   "id": "d78187cc-be37-4780-af75-09adb0339955",
   "metadata": {},
   "source": [
    "## 193-3. Browser Navigation"
   ]
  },
  {
   "cell_type": "code",
   "execution_count": null,
   "id": "49e05f1b-864d-4878-8daf-c7ca191680b0",
   "metadata": {},
   "outputs": [],
   "source": [
    "# Navigate to URL\n",
    "driver.get(\"https://example.com\")\n",
    "\n",
    "# Back, forward, refresh\n",
    "driver.back()\n",
    "driver.forward()\n",
    "driver.refresh()\n",
    "\n",
    "# Get current URL\n",
    "current_url = driver.current_url\n",
    "\n",
    "# Get page title\n",
    "title = driver.title"
   ]
  },
  {
   "cell_type": "markdown",
   "id": "e5d2ee3a-efa5-4cc4-a34a-77e00ce9a9a4",
   "metadata": {},
   "source": [
    "***"
   ]
  },
  {
   "cell_type": "markdown",
   "id": "6054fd00-b5cb-4760-84ea-8f2798c54d08",
   "metadata": {},
   "source": [
    "## 193-4. Waiting for Elements"
   ]
  },
  {
   "cell_type": "code",
   "execution_count": null,
   "id": "7d83dc60-4902-4e04-bac9-c85ffd059dc8",
   "metadata": {},
   "outputs": [],
   "source": [
    "from selenium.webdriver.support.ui import WebDriverWait\n",
    "from selenium.webdriver.support import expected_conditions as EC\n",
    "\n",
    "# Implicit wait (waits a set amount of time for all elements)\n",
    "driver.implicitly_wait(10)  # seconds\n",
    "\n",
    "# Explicit wait (waits for specific condition)\n",
    "element = WebDriverWait(driver, 10).until(\n",
    "    EC.presence_of_element_located((By.ID, \"element_id\"))\n",
    ")"
   ]
  },
  {
   "cell_type": "markdown",
   "id": "c35849ce-db53-48f1-b820-b6b449c16c3f",
   "metadata": {},
   "source": [
    "***"
   ]
  },
  {
   "cell_type": "markdown",
   "id": "c76a44f1-692e-4da9-86ea-7f2afc53dd72",
   "metadata": {},
   "source": [
    "## 193-5. Handling Alerts"
   ]
  },
  {
   "cell_type": "code",
   "execution_count": null,
   "id": "6272074e-e3f5-4bc8-8bc8-155b6dcdab92",
   "metadata": {},
   "outputs": [],
   "source": [
    "alert = driver.switch_to.alert\n",
    "alert.accept()  # click OK\n",
    "alert.dismiss()  # click Cancel\n",
    "alert_text = alert.text"
   ]
  },
  {
   "cell_type": "markdown",
   "id": "a32c3b8c-fb2e-4b58-b285-4758c3bda4ae",
   "metadata": {},
   "source": [
    "***"
   ]
  },
  {
   "cell_type": "markdown",
   "id": "94453016-a572-440b-85dd-8b0c73bcca14",
   "metadata": {},
   "source": [
    "## 193-6. Working with Windows and Frames"
   ]
  },
  {
   "cell_type": "code",
   "execution_count": null,
   "id": "1c97467b-ea88-4d63-81fb-4f6ca57bcb46",
   "metadata": {},
   "outputs": [],
   "source": [
    "# Switch to frame\n",
    "driver.switch_to.frame(\"frame_name_or_id\")\n",
    "\n",
    "# Switch back to default content\n",
    "driver.switch_to.default_content()\n",
    "\n",
    "# Handle multiple windows\n",
    "main_window = driver.current_window_handle\n",
    "for handle in driver.window_handles:\n",
    "    if handle != main_window:\n",
    "        driver.switch_to.window(handle)"
   ]
  },
  {
   "cell_type": "markdown",
   "id": "2971b808-a8ee-4f11-a5bd-4ba24385d141",
   "metadata": {},
   "source": [
    "***"
   ]
  },
  {
   "cell_type": "markdown",
   "id": "24a71f69-16c2-48ee-951b-5aba967ddc20",
   "metadata": {},
   "source": [
    "## 193-7. Executing JavaScript"
   ]
  },
  {
   "cell_type": "code",
   "execution_count": null,
   "id": "761fe801-bbe0-4e89-ac98-9bd8d45e387d",
   "metadata": {},
   "outputs": [],
   "source": [
    "driver.execute_script(\"window.scrollTo(0, document.body.scrollHeight);\")"
   ]
  },
  {
   "cell_type": "markdown",
   "id": "5dcecdb5-706d-4939-91cc-b187bef80e9b",
   "metadata": {},
   "source": [
    "***"
   ]
  },
  {
   "cell_type": "markdown",
   "id": "90157b4a-fd9e-4aa7-9fa9-c1d00ad3d831",
   "metadata": {},
   "source": [
    "## 193-8. Taking Screenshots"
   ]
  },
  {
   "cell_type": "code",
   "execution_count": null,
   "id": "1cc17e77-013a-4731-a371-593902461d94",
   "metadata": {},
   "outputs": [],
   "source": [
    "driver.save_screenshot(\"screenshot.png\")"
   ]
  },
  {
   "cell_type": "markdown",
   "id": "c3aeb589-d66e-4d45-9727-4bd3e038b049",
   "metadata": {},
   "source": [
    "***"
   ]
  },
  {
   "cell_type": "markdown",
   "id": "f9c00b91-6303-404b-9333-b1eb893b09fb",
   "metadata": {},
   "source": [
    "# 194. Advanced Features"
   ]
  },
  {
   "cell_type": "markdown",
   "id": "84c32d56-f1b3-4f4d-8381-b80bfd3d43a8",
   "metadata": {},
   "source": [
    "***"
   ]
  },
  {
   "cell_type": "markdown",
   "id": "3a8402fa-654f-4431-be7c-f0f0f6aaad9c",
   "metadata": {},
   "source": [
    "## 194-1. Page Object Model (POM)\n",
    "A design pattern for better test maintenance:"
   ]
  },
  {
   "cell_type": "code",
   "execution_count": null,
   "id": "05ab03d2-bf73-4d94-a4d1-02c817f8007c",
   "metadata": {},
   "outputs": [],
   "source": [
    "class LoginPage:\n",
    "    def __init__(self, driver):\n",
    "        self.driver = driver\n",
    "        self.username_field = (By.ID, \"username\")\n",
    "        self.password_field = (By.ID, \"password\")\n",
    "        self.login_button = (By.ID, \"loginBtn\")\n",
    "    \n",
    "    def login(self, username, password):\n",
    "        self.driver.find_element(*self.username_field).send_keys(username)\n",
    "        self.driver.find_element(*self.password_field).send_keys(password)\n",
    "        self.driver.find_element(*self.login_button).click()"
   ]
  },
  {
   "cell_type": "markdown",
   "id": "66851a4e-e878-4f66-a983-046d29d7f74b",
   "metadata": {},
   "source": [
    "***"
   ]
  },
  {
   "cell_type": "markdown",
   "id": "ba39139b-037b-43c9-aa24-df7dc541ef1b",
   "metadata": {},
   "source": [
    "## 194-2. Headless Browsers\n",
    "Run browsers without GUI:"
   ]
  },
  {
   "cell_type": "code",
   "execution_count": null,
   "id": "4ae4055b-eb6f-45da-9176-66bce7bb1c5f",
   "metadata": {},
   "outputs": [],
   "source": [
    "from selenium.webdriver.chrome.options import Options\n",
    "\n",
    "options = Options()\n",
    "options.add_argument(\"--headless\")\n",
    "driver = webdriver.Chrome(options=options)"
   ]
  },
  {
   "cell_type": "markdown",
   "id": "535258be-5cd3-4e28-852d-d4e539b71fc6",
   "metadata": {},
   "source": [
    "***"
   ]
  },
  {
   "cell_type": "markdown",
   "id": "97aef20a-775f-464b-b30f-56ec6b09b442",
   "metadata": {},
   "source": [
    "## 194-3. Handling Cookies"
   ]
  },
  {
   "cell_type": "code",
   "execution_count": null,
   "id": "ed82252c-fe71-4d74-b064-f5b963177a61",
   "metadata": {},
   "outputs": [],
   "source": [
    "# Get all cookies\n",
    "cookies = driver.get_cookies()\n",
    "\n",
    "# Add cookie\n",
    "driver.add_cookie({\"name\": \"cookie_name\", \"value\": \"cookie_value\"})\n",
    "\n",
    "# Delete cookie\n",
    "driver.delete_cookie(\"cookie_name\")\n",
    "\n",
    "# Delete all cookies\n",
    "driver.delete_all_cookies()"
   ]
  },
  {
   "cell_type": "markdown",
   "id": "7c33b0a6-9e4d-440c-8ce1-ba8819628615",
   "metadata": {},
   "source": [
    "***"
   ]
  },
  {
   "cell_type": "markdown",
   "id": "25d8007e-8740-4a76-9a3b-315dc43925e2",
   "metadata": {},
   "source": [
    "# 195. Example: Complete Test Case"
   ]
  },
  {
   "cell_type": "code",
   "execution_count": null,
   "id": "e993866c-744d-4809-b94c-14a7388ae09e",
   "metadata": {},
   "outputs": [],
   "source": [
    "import unittest\n",
    "from selenium import webdriver\n",
    "from selenium.webdriver.common.by import By\n",
    "from selenium.webdriver.support.ui import WebDriverWait\n",
    "from selenium.webdriver.support import expected_conditions as EC\n",
    "\n",
    "class GoogleSearchTest(unittest.TestCase):\n",
    "    def setUp(self):\n",
    "        self.driver = webdriver.Chrome()\n",
    "        self.driver.get(\"https://www.google.com\")\n",
    "    \n",
    "    def test_search(self):\n",
    "        # Accept cookies if present\n",
    "        try:\n",
    "            accept_button = WebDriverWait(self.driver, 5).until(\n",
    "                EC.element_to_be_clickable((By.ID, \"L2AGLb\"))\n",
    "            accept_button.click()\n",
    "        except:\n",
    "            pass\n",
    "        \n",
    "        # Find search box and enter query\n",
    "        search_box = WebDriverWait(self.driver, 10).until(\n",
    "            EC.presence_of_element_located((By.NAME, \"q\"))\n",
    "        )\n",
    "        search_box.send_keys(\"Selenium Python\" + Keys.RETURN)\n",
    "        \n",
    "        # Verify results\n",
    "        WebDriverWait(self.driver, 10).until(\n",
    "            EC.title_contains(\"Selenium Python\")\n",
    "        )\n",
    "        self.assertIn(\"Selenium Python\", self.driver.title)\n",
    "    \n",
    "    def tearDown(self):\n",
    "        self.driver.quit()\n",
    "\n",
    "if __name__ == \"__main__\":\n",
    "    unittest.main()"
   ]
  },
  {
   "cell_type": "markdown",
   "id": "d01ea16c-d7a8-4263-9292-948326bebd0c",
   "metadata": {},
   "source": [
    "***"
   ]
  },
  {
   "cell_type": "markdown",
   "id": "eee50cbd-cf5d-4b59-b83d-c92c6fe72d5e",
   "metadata": {},
   "source": [
    "***"
   ]
  },
  {
   "cell_type": "markdown",
   "id": "b40206fb-6731-46dc-9302-0b9bc348b89b",
   "metadata": {},
   "source": [
    "# Some Excercises"
   ]
  },
  {
   "cell_type": "markdown",
   "id": "088d38a8-866c-48a9-a9b5-40df9d99ae4b",
   "metadata": {},
   "source": [
    "**1.** Open Chrome/Firefox and navigate to https://www.wikipedia.org.\n",
    "\n",
    "Locate the search box using By.NAME (\"search\").\n",
    "\n",
    "Enter \"Python (programming language)\" and submit.\n",
    "\n",
    "Verify that the title of the resulting page contains \"Python (programming language)\"."
   ]
  },
  {
   "cell_type": "markdown",
   "id": "b486b7b8-307c-4eb7-8c14-a1dd72eb2e46",
   "metadata": {},
   "source": [
    "___"
   ]
  },
  {
   "cell_type": "markdown",
   "id": "5c32b073-bab0-451e-8fd7-a294020f71c6",
   "metadata": {},
   "source": [
    "**2.** Go to https://demoqa.com/select-menu.\n",
    "\n",
    "Select \"Green\" from the \"Old Style Select Menu\" dropdown.\n",
    "\n",
    "Select \"Volvo\" from the \"Standard multi-select\" dropdown.\n",
    "\n",
    "Print the selected options."
   ]
  },
  {
   "cell_type": "markdown",
   "id": "489da9fe-be18-487a-bcc7-e5d6672698ba",
   "metadata": {},
   "source": [
    "---"
   ]
  },
  {
   "cell_type": "markdown",
   "id": "bf117f39-fa94-453e-bca9-2ccd7b507496",
   "metadata": {},
   "source": [
    "**3.** Navigate to https://demoqa.com/alerts.\n",
    "\n",
    "Click the button that triggers an alert after 5 seconds.\n",
    "\n",
    "Wait for the alert to appear and accept it.\n",
    "\n",
    "Verify that the alert was handled successfully."
   ]
  },
  {
   "cell_type": "markdown",
   "id": "02e59887-780b-4321-9382-ef4c85ec9684",
   "metadata": {},
   "source": [
    "---"
   ]
  },
  {
   "cell_type": "markdown",
   "id": "1b32e2d5-3ed7-4865-b63e-21c5cc156f67",
   "metadata": {},
   "source": [
    "**4.** Open https://demoqa.com/browser-windows.\n",
    "\n",
    "Click the \"New Tab\" button.\n",
    "\n",
    "Switch to the new tab and verify its URL (https://demoqa.com/sample).\n",
    "\n",
    "Close the new tab and return to the original window."
   ]
  },
  {
   "cell_type": "markdown",
   "id": "8dcb22a4-aff7-4377-b09a-a39fa4a3b2a7",
   "metadata": {},
   "source": [
    "***"
   ]
  },
  {
   "cell_type": "markdown",
   "id": "17511368-bcb2-4413-87ab-450ca9a64ff2",
   "metadata": {},
   "source": [
    "**5.** Visit https://demoqa.com/frames.\n",
    "\n",
    "Switch to frame1 and extract the text inside (This is a sample page).\n",
    "\n",
    "Switch back to the default content.\n",
    "\n",
    "Repeat for frame2."
   ]
  },
  {
   "cell_type": "markdown",
   "id": "1d682728-1f0e-4594-a1d3-30793e3f0751",
   "metadata": {},
   "source": [
    "***"
   ]
  },
  {
   "cell_type": "markdown",
   "id": "25f7d348-8fc5-49e9-a3e0-db0d0374a954",
   "metadata": {},
   "source": [
    "**6.** Go to https://demoqa.com/upload-download.\n",
    "\n",
    "Upload a sample file (e.g., test.txt).\n",
    "\n",
    "Verify that the file was uploaded successfully (check the file path in the UI)."
   ]
  },
  {
   "cell_type": "markdown",
   "id": "56db6a03-fcd5-4229-aa81-132e3f4cb731",
   "metadata": {},
   "source": [
    "***"
   ]
  },
  {
   "cell_type": "markdown",
   "id": "3208864f-ffdb-4b05-b0b1-f6b67683a174",
   "metadata": {},
   "source": [
    "**7.** Open https://www.amazon.com.\n",
    "\n",
    "Scroll to the bottom of the page using driver.execute_script().\n",
    "\n",
    "Scroll back to the top.\n",
    "\n",
    "Take a screenshot after each scroll."
   ]
  },
  {
   "cell_type": "markdown",
   "id": "31370a8b-cd74-4371-9450-8ce4248412e6",
   "metadata": {},
   "source": [
    "***"
   ]
  },
  {
   "cell_type": "markdown",
   "id": "94bafa50-5d10-40db-97d3-71bdc1821b11",
   "metadata": {},
   "source": [
    "**8.** Create a LoginPage class for https://demoqa.com/login with:\n",
    "\n",
    "- Username (userName) and password (password) fields.\n",
    "\n",
    "- Login button (login).\n",
    "\n",
    "Write a test that:\n",
    "\n",
    "- Logs in using credentials (testuser, Password@123).\n",
    "\n",
    "- Verifies successful login (check for logout button)."
   ]
  },
  {
   "cell_type": "markdown",
   "id": "af3414ed-8ba7-485b-954f-69bb05f37262",
   "metadata": {},
   "source": [
    "***"
   ]
  },
  {
   "cell_type": "markdown",
   "id": "7cc97f26-cf68-4d50-82a1-ae7dcdfa95ac",
   "metadata": {},
   "source": [
    "#                                                        🌞 https://github.com/AI-Planet 🌞"
   ]
  }
 ],
 "metadata": {
  "kernelspec": {
   "display_name": "Python 3 (ipykernel)",
   "language": "python",
   "name": "python3"
  },
  "language_info": {
   "codemirror_mode": {
    "name": "ipython",
    "version": 3
   },
   "file_extension": ".py",
   "mimetype": "text/x-python",
   "name": "python",
   "nbconvert_exporter": "python",
   "pygments_lexer": "ipython3",
   "version": "3.9.12"
  }
 },
 "nbformat": 4,
 "nbformat_minor": 5
}
