{
 "cells": [
  {
   "cell_type": "markdown",
   "id": "355b5f03-d2a5-4aa3-a77c-776ccfcb35d5",
   "metadata": {},
   "source": [
    "# Session 25 🐍"
   ]
  },
  {
   "cell_type": "markdown",
   "id": "45efc9ec-fb9c-458c-b1de-d961145e8449",
   "metadata": {},
   "source": [
    "☀️☀️☀️☀️☀️☀️☀️☀️☀️☀️☀️☀️☀️☀️☀️☀️☀️☀️☀️☀️☀️☀️☀️☀️☀️☀️☀️☀️☀️☀️☀️☀️☀️☀️☀️☀️☀️☀️☀️☀️☀️☀️☀️☀️☀️"
   ]
  },
  {
   "cell_type": "markdown",
   "id": "2c7a6ce5-4cd2-45cd-a3b8-9ac277170654",
   "metadata": {},
   "source": [
    "***"
   ]
  },
  {
   "cell_type": "markdown",
   "id": "f47542a8-416d-4a3f-8c9d-99781dc53bd8",
   "metadata": {},
   "source": [
    "# 196. Rich\n",
    "`Rich` is a Python library for rich text and beautiful formatting in the terminal. It makes it easy to add colors, styles, tables, progress bars, syntax highlighting, and more to your command-line applications."
   ]
  },
  {
   "cell_type": "markdown",
   "id": "39132e03-46bb-49e6-950c-4684c3e8bc0d",
   "metadata": {},
   "source": [
    "***"
   ]
  },
  {
   "cell_type": "markdown",
   "id": "cccc2432-7d24-4f29-b7a2-300e65304cd8",
   "metadata": {},
   "source": [
    "# 197. Basic Usage"
   ]
  },
  {
   "cell_type": "markdown",
   "id": "a35384c2-ea49-4613-b074-ef3b571f756e",
   "metadata": {},
   "source": [
    "***"
   ]
  },
  {
   "cell_type": "markdown",
   "id": "5e4dbbf4-88e4-4a78-b9a0-fd722e1aa1c0",
   "metadata": {},
   "source": [
    "## 197-1. Pretty Printing\n",
    "Rich can pretty print Python data structures with syntax highlighting:"
   ]
  },
  {
   "cell_type": "code",
   "execution_count": null,
   "id": "0387b542-f48a-4efd-94e8-546d5b426532",
   "metadata": {},
   "outputs": [],
   "source": [
    "from rich import print\n",
    "\n",
    "print([1, 2, 3])  # Pretty printed list\n",
    "print({\"a\": 1, \"b\": 2})  # Pretty printed dictionary\n",
    "print(\"Hello, [bold magenta]World[/bold magenta]!\")  # Formatted text"
   ]
  },
  {
   "cell_type": "markdown",
   "id": "a4bb5edf-3034-4d79-8edf-8f0740ea0e27",
   "metadata": {},
   "source": [
    "***"
   ]
  },
  {
   "cell_type": "markdown",
   "id": "cb5cc52c-9d10-47ad-baeb-0900ab6358ff",
   "metadata": {},
   "source": [
    "## 197-2. Console Output\n",
    "The Console class provides more control over terminal output:"
   ]
  },
  {
   "cell_type": "code",
   "execution_count": null,
   "id": "5c171aa0-494e-4e32-a42f-3644634470c7",
   "metadata": {},
   "outputs": [],
   "source": [
    "from rich.console import Console\n",
    "\n",
    "console = Console()\n",
    "console.print(\"This is\", style=\"bold red\", justify=\"center\")\n",
    "console.print(\":smiley: :vampire: :thumbs_up:\", emoji=True)"
   ]
  },
  {
   "cell_type": "markdown",
   "id": "5d2de8aa-11c8-4023-a19b-77faa03c14af",
   "metadata": {},
   "source": [
    "***"
   ]
  },
  {
   "cell_type": "markdown",
   "id": "7528c824-0f13-4c5d-aa16-25b5deb65b5f",
   "metadata": {},
   "source": [
    "# 198. Key Features"
   ]
  },
  {
   "cell_type": "markdown",
   "id": "96755e49-1296-4c80-b53d-afefe4655d39",
   "metadata": {},
   "source": [
    "***"
   ]
  },
  {
   "cell_type": "markdown",
   "id": "399eda62-3c8c-4602-bf86-0ed147b3d158",
   "metadata": {},
   "source": [
    "## 198-1. Text Formatting\n",
    "Rich uses a custom markup syntax for styling text:"
   ]
  },
  {
   "cell_type": "code",
   "execution_count": null,
   "id": "dc311f73-eed9-41a9-941a-989e3728de2d",
   "metadata": {},
   "outputs": [],
   "source": [
    "from rich.console import Console\n",
    "\n",
    "console = Console()\n",
    "console.print(\"Hello, [bold red]Rich[/bold red] world!\")\n",
    "console.print(\"Where there is a [underline]will[/underline] there is a [italic]way[/italic]\")"
   ]
  },
  {
   "cell_type": "markdown",
   "id": "89d79214-4d24-4f11-bff3-2a5c092c85e7",
   "metadata": {},
   "source": [
    "***"
   ]
  },
  {
   "cell_type": "markdown",
   "id": "d78187cc-be37-4780-af75-09adb0339955",
   "metadata": {},
   "source": [
    "## 198-2. Tables\n",
    "Create beautiful tables easily:"
   ]
  },
  {
   "cell_type": "code",
   "execution_count": null,
   "id": "49e05f1b-864d-4878-8daf-c7ca191680b0",
   "metadata": {},
   "outputs": [],
   "source": [
    "from rich.console import Console\n",
    "from rich.table import Table\n",
    "\n",
    "console = Console()\n",
    "\n",
    "table = Table(title=\"Star Wars Movies\")\n",
    "table.add_column(\"Released\", style=\"cyan\")\n",
    "table.add_column(\"Title\", style=\"magenta\")\n",
    "table.add_column(\"Box Office\", justify=\"right\", style=\"green\")\n",
    "\n",
    "table.add_row(\"Dec 20, 2019\", \"Star Wars: The Rise of Skywalker\", \"$952,110,690\")\n",
    "table.add_row(\"May 25, 2018\", \"Solo: A Star Wars Story\", \"$393,151,347\")\n",
    "\n",
    "console.print(table)"
   ]
  },
  {
   "cell_type": "markdown",
   "id": "e5d2ee3a-efa5-4cc4-a34a-77e00ce9a9a4",
   "metadata": {},
   "source": [
    "***"
   ]
  },
  {
   "cell_type": "markdown",
   "id": "6054fd00-b5cb-4760-84ea-8f2798c54d08",
   "metadata": {},
   "source": [
    "## 198-3. Progress Bars\n",
    "Track long-running operations:"
   ]
  },
  {
   "cell_type": "code",
   "execution_count": null,
   "id": "7d83dc60-4902-4e04-bac9-c85ffd059dc8",
   "metadata": {},
   "outputs": [],
   "source": [
    "from rich.progress import track\n",
    "import time\n",
    "\n",
    "for step in track(range(100)):\n",
    "    time.sleep(0.1)  # Simulate work"
   ]
  },
  {
   "cell_type": "markdown",
   "id": "c35849ce-db53-48f1-b820-b6b449c16c3f",
   "metadata": {},
   "source": [
    "***"
   ]
  },
  {
   "cell_type": "markdown",
   "id": "c76a44f1-692e-4da9-86ea-7f2afc53dd72",
   "metadata": {},
   "source": [
    "## 198-4. More advanced progress tracking:"
   ]
  },
  {
   "cell_type": "code",
   "execution_count": null,
   "id": "6272074e-e3f5-4bc8-8bc8-155b6dcdab92",
   "metadata": {},
   "outputs": [],
   "source": [
    "from rich.progress import Progress\n",
    "\n",
    "with Progress() as progress:\n",
    "    task1 = progress.add_task(\"[red]Downloading...\", total=100)\n",
    "    task2 = progress.add_task(\"[green]Processing...\", total=100)\n",
    "    \n",
    "    while not progress.finished:\n",
    "        progress.update(task1, advance=0.5)\n",
    "        progress.update(task2, advance=0.3)\n",
    "        time.sleep(0.02)"
   ]
  },
  {
   "cell_type": "markdown",
   "id": "a32c3b8c-fb2e-4b58-b285-4758c3bda4ae",
   "metadata": {},
   "source": [
    "***"
   ]
  },
  {
   "cell_type": "markdown",
   "id": "94453016-a572-440b-85dd-8b0c73bcca14",
   "metadata": {},
   "source": [
    "# 199. Syntax Highlighting\n",
    "Display code with syntax highlighting:"
   ]
  },
  {
   "cell_type": "code",
   "execution_count": null,
   "id": "1c97467b-ea88-4d63-81fb-4f6ca57bcb46",
   "metadata": {},
   "outputs": [],
   "source": [
    "from rich.console import Console\n",
    "from rich.syntax import Syntax\n",
    "\n",
    "console = Console()\n",
    "\n",
    "code = \"\"\"\n",
    "def hello(name):\n",
    "    print(f\"Hello, {name}!\")\n",
    "\"\"\"\n",
    "\n",
    "syntax = Syntax(code, \"python\", theme=\"monokai\", line_numbers=True)\n",
    "console.print(syntax)"
   ]
  },
  {
   "cell_type": "markdown",
   "id": "2971b808-a8ee-4f11-a5bd-4ba24385d141",
   "metadata": {},
   "source": [
    "***"
   ]
  },
  {
   "cell_type": "markdown",
   "id": "24a71f69-16c2-48ee-951b-5aba967ddc20",
   "metadata": {},
   "source": [
    "# 200. Trees\n",
    "Display hierarchical data:"
   ]
  },
  {
   "cell_type": "code",
   "execution_count": null,
   "id": "761fe801-bbe0-4e89-ac98-9bd8d45e387d",
   "metadata": {},
   "outputs": [],
   "source": [
    "from rich.tree import Tree\n",
    "from rich.console import Console\n",
    "\n",
    "console = Console()\n",
    "\n",
    "tree = Tree(\"Rich Tree\")\n",
    "python_tree = tree.add(\"Python\")\n",
    "python_tree.add(\"[green]Rich\")\n",
    "python_tree.add(\"[blue]Requests\")\n",
    "js_tree = tree.add(\"JavaScript\")\n",
    "js_tree.add(\"[yellow]React\")\n",
    "js_tree.add(\"[cyan]Vue\")\n",
    "\n",
    "console.print(tree)"
   ]
  },
  {
   "cell_type": "markdown",
   "id": "5dcecdb5-706d-4939-91cc-b187bef80e9b",
   "metadata": {},
   "source": [
    "***"
   ]
  },
  {
   "cell_type": "markdown",
   "id": "90157b4a-fd9e-4aa7-9fa9-c1d00ad3d831",
   "metadata": {},
   "source": [
    "# 201. Markdown Support\n",
    "Render markdown in the terminal:"
   ]
  },
  {
   "cell_type": "code",
   "execution_count": null,
   "id": "1cc17e77-013a-4731-a371-593902461d94",
   "metadata": {},
   "outputs": [],
   "source": [
    "from rich.console import Console\n",
    "from rich.markdown import Markdown\n",
    "\n",
    "console = Console()\n",
    "\n",
    "markdown = \"\"\"\n",
    "# Heading 1\n",
    "\n",
    "This is **bold** and this is *italic*.\n",
    "\n",
    "## Heading 2\n",
    "\n",
    "- Item 1\n",
    "- Item 2\n",
    "- Item 3\n",
    "\"\"\"\n",
    "\n",
    "md = Markdown(markdown)\n",
    "console.print(md)"
   ]
  },
  {
   "cell_type": "markdown",
   "id": "c3aeb589-d66e-4d45-9727-4bd3e038b049",
   "metadata": {},
   "source": [
    "***"
   ]
  },
  {
   "cell_type": "markdown",
   "id": "f9c00b91-6303-404b-9333-b1eb893b09fb",
   "metadata": {},
   "source": [
    "# 202. Panels and Layouts\n",
    "Create organized layouts:"
   ]
  },
  {
   "cell_type": "code",
   "execution_count": null,
   "id": "93de034e-4bfc-4c1e-9da1-e3b4ec477842",
   "metadata": {},
   "outputs": [],
   "source": [
    "from rich.console import Console\n",
    "from rich.panel import Panel\n",
    "from rich.layout import Layout\n",
    "\n",
    "console = Console()\n",
    "\n",
    "layout = Layout()\n",
    "layout.split(\n",
    "    Layout(name=\"header\", size=3),\n",
    "    Layout(name=\"body\", ratio=1),\n",
    "    Layout(name=\"footer\", size=3)\n",
    ")\n",
    "\n",
    "layout[\"header\"].update(Panel(\"Application Header\", style=\"on blue\"))\n",
    "layout[\"body\"].update(Panel(\"Main Content Area\", style=\"on green\"))\n",
    "layout[\"footer\"].update(Panel(\"Status: Ready\", style=\"on red\"))\n",
    "\n",
    "console.print(layout)"
   ]
  },
  {
   "cell_type": "markdown",
   "id": "84c32d56-f1b3-4f4d-8381-b80bfd3d43a8",
   "metadata": {},
   "source": [
    "***"
   ]
  },
  {
   "cell_type": "markdown",
   "id": "3a8402fa-654f-4431-be7c-f0f0f6aaad9c",
   "metadata": {},
   "source": [
    "# 203. Logging Integration\n",
    "Replace Python's standard logging with Rich:"
   ]
  },
  {
   "cell_type": "code",
   "execution_count": null,
   "id": "05ab03d2-bf73-4d94-a4d1-02c817f8007c",
   "metadata": {},
   "outputs": [],
   "source": [
    "from rich.logging import RichHandler\n",
    "import logging\n",
    "\n",
    "logging.basicConfig(\n",
    "    level=\"NOTSET\",\n",
    "    format=\"%(message)s\",\n",
    "    datefmt=\"[%X]\",\n",
    "    handlers=[RichHandler(rich_tracebacks=True)]\n",
    ")\n",
    "\n",
    "log = logging.getLogger(\"rich\")\n",
    "log.info(\"Hello, World!\")\n",
    "log.warning(\"This is a warning\")\n",
    "log.error(\"This is an error\")"
   ]
  },
  {
   "cell_type": "markdown",
   "id": "66851a4e-e878-4f66-a983-046d29d7f74b",
   "metadata": {},
   "source": [
    "***"
   ]
  },
  {
   "cell_type": "markdown",
   "id": "ba39139b-037b-43c9-aa24-df7dc541ef1b",
   "metadata": {},
   "source": [
    "# 204. Advanced Features"
   ]
  },
  {
   "cell_type": "markdown",
   "id": "535258be-5cd3-4e28-852d-d4e539b71fc6",
   "metadata": {},
   "source": [
    "***"
   ]
  },
  {
   "cell_type": "markdown",
   "id": "97aef20a-775f-464b-b30f-56ec6b09b442",
   "metadata": {},
   "source": [
    "## 204-1. Custom Themes"
   ]
  },
  {
   "cell_type": "code",
   "execution_count": null,
   "id": "ed82252c-fe71-4d74-b064-f5b963177a61",
   "metadata": {},
   "outputs": [],
   "source": [
    "from rich.console import Console\n",
    "from rich.theme import Theme\n",
    "\n",
    "custom_theme = Theme({\n",
    "    \"info\": \"dim cyan\",\n",
    "    \"warning\": \"magenta\",\n",
    "    \"danger\": \"bold red\"\n",
    "})\n",
    "\n",
    "console = Console(theme=custom_theme)\n",
    "console.print(\"This is information\", style=\"info\")\n",
    "console.print(\"[warning]This is a warning\")\n",
    "console.print(\"Danger!\", style=\"danger\")"
   ]
  },
  {
   "cell_type": "markdown",
   "id": "7c33b0a6-9e4d-440c-8ce1-ba8819628615",
   "metadata": {},
   "source": [
    "***"
   ]
  },
  {
   "cell_type": "markdown",
   "id": "25d8007e-8740-4a76-9a3b-315dc43925e2",
   "metadata": {},
   "source": [
    "## 204-2. Tracebacks\n",
    "Beautiful, readable tracebacks:"
   ]
  },
  {
   "cell_type": "code",
   "execution_count": null,
   "id": "e993866c-744d-4809-b94c-14a7388ae09e",
   "metadata": {},
   "outputs": [],
   "source": [
    "from rich.console import Console\n",
    "\n",
    "console = Console()\n",
    "\n",
    "def divide(a, b):\n",
    "    return a / b\n",
    "\n",
    "try:\n",
    "    divide(1, 0)\n",
    "except Exception:\n",
    "    console.print_exception(show_locals=True)"
   ]
  },
  {
   "cell_type": "markdown",
   "id": "d01ea16c-d7a8-4263-9292-948326bebd0c",
   "metadata": {},
   "source": [
    "***"
   ]
  },
  {
   "cell_type": "markdown",
   "id": "c0a7bc97-942d-43fe-8bbf-a54cb7513da5",
   "metadata": {},
   "source": [
    "## 204-3. Live Display\n",
    "Update content dynamically:"
   ]
  },
  {
   "cell_type": "code",
   "execution_count": null,
   "id": "9f619a81-3198-483a-9303-a9f1affa0372",
   "metadata": {},
   "outputs": [],
   "source": [
    "from rich.live import Live\n",
    "from rich.table import Table\n",
    "import time\n",
    "\n",
    "table = Table()\n",
    "table.add_column(\"Time\")\n",
    "table.add_column(\"Value\")\n",
    "\n",
    "with Live(table, refresh_per_second=4) as live:\n",
    "    for i in range(10):\n",
    "        time.sleep(0.5)\n",
    "        table.add_row(time.ctime(), str(i))\n",
    "        live.refresh()"
   ]
  },
  {
   "cell_type": "markdown",
   "id": "b43050c6-ad6f-4883-a49d-90c806075016",
   "metadata": {},
   "source": [
    "---"
   ]
  },
  {
   "cell_type": "markdown",
   "id": "8a5eb0a6-4dd0-43f9-a320-5050e3779ff7",
   "metadata": {},
   "source": [
    "## 204-4. Emoji Support"
   ]
  },
  {
   "cell_type": "code",
   "execution_count": null,
   "id": "ade1f6a7-f030-460f-8871-cad8ec80f25c",
   "metadata": {},
   "outputs": [],
   "source": [
    "from rich.console import Console\n",
    "\n",
    "console = Console()\n",
    "console.print(\":smile: :heart: :thumbs_up:\")"
   ]
  },
  {
   "cell_type": "markdown",
   "id": "54e27bcb-d3f7-4d4d-8573-eee810003677",
   "metadata": {},
   "source": [
    "---"
   ]
  },
  {
   "cell_type": "markdown",
   "id": "dc5426e8-383c-4933-a0b2-4d4896ca6df9",
   "metadata": {},
   "source": [
    "## 204-5. Inspect Any Object"
   ]
  },
  {
   "cell_type": "code",
   "execution_count": null,
   "id": "f910e5bc-d065-4a23-9e01-bfd35c1d74e4",
   "metadata": {},
   "outputs": [],
   "source": [
    "from rich import inspect\n",
    "from rich.console import Console\n",
    "\n",
    "console = Console()\n",
    "\n",
    "inspect(console, methods=True)"
   ]
  },
  {
   "cell_type": "markdown",
   "id": "bcd10027-2d79-4be3-9fe7-075892e48fa3",
   "metadata": {},
   "source": [
    "***"
   ]
  },
  {
   "cell_type": "markdown",
   "id": "eee50cbd-cf5d-4b59-b83d-c92c6fe72d5e",
   "metadata": {},
   "source": [
    "***"
   ]
  },
  {
   "cell_type": "markdown",
   "id": "b40206fb-6731-46dc-9302-0b9bc348b89b",
   "metadata": {},
   "source": [
    "# Some Excercises"
   ]
  },
  {
   "cell_type": "markdown",
   "id": "088d38a8-866c-48a9-a9b5-40df9d99ae4b",
   "metadata": {},
   "source": [
    "**1.** Create a script that prints your name in bold blue, your age in italic green, and your country underlined magenta, all on separate lines using Rich's print function."
   ]
  },
  {
   "cell_type": "markdown",
   "id": "b486b7b8-307c-4eb7-8c14-a1dd72eb2e46",
   "metadata": {},
   "source": [
    "___"
   ]
  },
  {
   "cell_type": "markdown",
   "id": "5c32b073-bab0-451e-8fd7-a294020f71c6",
   "metadata": {},
   "source": [
    "**2.** Create a table displaying 5 of your favorite books with columns for:\n",
    "\n",
    "- Title (magenta)\n",
    "- Author (cyan)\n",
    "- Year Published (right-aligned)\n",
    "- Genre (yellow)"
   ]
  },
  {
   "cell_type": "markdown",
   "id": "489da9fe-be18-487a-bcc7-e5d6672698ba",
   "metadata": {},
   "source": [
    "---"
   ]
  },
  {
   "cell_type": "markdown",
   "id": "bf117f39-fa94-453e-bca9-2ccd7b507496",
   "metadata": {},
   "source": [
    "**3.** Simulate a file download with:\n",
    "\n",
    "- A progress bar that takes 5 seconds to complete\n",
    "- A custom description (\"Downloading update...\")\n",
    "- Green color for the progress bar\n",
    "- Show percentage and elapsed time"
   ]
  },
  {
   "cell_type": "markdown",
   "id": "02e59887-780b-4321-9382-ef4c85ec9684",
   "metadata": {},
   "source": [
    "---"
   ]
  },
  {
   "cell_type": "markdown",
   "id": "1b32e2d5-3ed7-4865-b63e-21c5cc156f67",
   "metadata": {},
   "source": [
    "**4.** Create a Python script that:\n",
    "- Reads another Python file (e.g., a script you have)\n",
    "- Displays its contents with syntax highlighting\n",
    "- Shows line numbers\n",
    "- Uses the \"monokai\" theme"
   ]
  },
  {
   "cell_type": "markdown",
   "id": "8dcb22a4-aff7-4377-b09a-a39fa4a3b2a7",
   "metadata": {},
   "source": [
    "***"
   ]
  },
  {
   "cell_type": "markdown",
   "id": "17511368-bcb2-4413-87ab-450ca9a64ff2",
   "metadata": {},
   "source": [
    "**5.** Write a function that divides two numbers but uses Rich to:\n",
    "- Print a warning (yellow) if dividing by a number < 1\n",
    "- Print an error message (red panel) if attempting to divide by zero\n",
    "- Include a traceback if an error occurs\n",
    "- Print successful results in a green panel"
   ]
  },
  {
   "cell_type": "markdown",
   "id": "1d682728-1f0e-4594-a1d3-30793e3f0751",
   "metadata": {},
   "source": [
    "***"
   ]
  },
  {
   "cell_type": "markdown",
   "id": "25f7d348-8fc5-49e9-a3e0-db0d0374a954",
   "metadata": {},
   "source": [
    "**6.** Create a script that:\n",
    "\n",
    "- Takes a markdown file as input\n",
    "- Displays it with Rich's markdown rendering\n",
    "- Adds a blue border around the entire content\n",
    "- Highlights code blocks with syntax highlighting"
   ]
  },
  {
   "cell_type": "markdown",
   "id": "56db6a03-fcd5-4229-aa81-132e3f4cb731",
   "metadata": {},
   "source": [
    "***"
   ]
  },
  {
   "cell_type": "markdown",
   "id": "3208864f-ffdb-4b05-b0b1-f6b67683a174",
   "metadata": {},
   "source": [
    "**7.** Build an interactive organizational chart:\n",
    "\n",
    "- Start with a CEO node\n",
    "- Add at least 3 departments under it\n",
    "- Each department should have 2-3 employees\n",
    "- Make different levels different colors\n",
    "- Add emojis for different roles (e.g., 👔 for managers, 👩💻 for developers)"
   ]
  },
  {
   "cell_type": "markdown",
   "id": "31370a8b-cd74-4371-9450-8ce4248412e6",
   "metadata": {},
   "source": [
    "***"
   ]
  },
  {
   "cell_type": "markdown",
   "id": "94bafa50-5d10-40db-97d3-71bdc1821b11",
   "metadata": {},
   "source": [
    "**8.** Create a weather display console application that shows:\n",
    "\n",
    "- A header panel with the location and date\n",
    "- A main panel with:\n",
    "- Current temperature (red if > 30°C, blue if < 10°C)\n",
    "- Weather condition with appropriate emoji (☀️, 🌧️, etc.)\n",
    "- Humidity and wind speed\n",
    "- A footer with sunrise/sunset times\n",
    "- Use progress bars to represent humidity and wind speed"
   ]
  },
  {
   "cell_type": "markdown",
   "id": "af3414ed-8ba7-485b-954f-69bb05f37262",
   "metadata": {},
   "source": [
    "***"
   ]
  },
  {
   "cell_type": "markdown",
   "id": "7cc97f26-cf68-4d50-82a1-ae7dcdfa95ac",
   "metadata": {},
   "source": [
    "#                                                        🌞 https://github.com/AI-Planet 🌞"
   ]
  }
 ],
 "metadata": {
  "kernelspec": {
   "display_name": "Python 3 (ipykernel)",
   "language": "python",
   "name": "python3"
  },
  "language_info": {
   "codemirror_mode": {
    "name": "ipython",
    "version": 3
   },
   "file_extension": ".py",
   "mimetype": "text/x-python",
   "name": "python",
   "nbconvert_exporter": "python",
   "pygments_lexer": "ipython3",
   "version": "3.9.12"
  }
 },
 "nbformat": 4,
 "nbformat_minor": 5
}
