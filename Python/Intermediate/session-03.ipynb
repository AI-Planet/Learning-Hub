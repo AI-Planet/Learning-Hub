{
 "cells": [
  {
   "cell_type": "markdown",
   "id": "355b5f03-d2a5-4aa3-a77c-776ccfcb35d5",
   "metadata": {},
   "source": [
    "# Session 3 🐍"
   ]
  },
  {
   "cell_type": "markdown",
   "id": "45efc9ec-fb9c-458c-b1de-d961145e8449",
   "metadata": {},
   "source": [
    "☀️☀️☀️☀️☀️☀️☀️☀️☀️☀️☀️☀️☀️☀️☀️☀️☀️☀️☀️☀️☀️☀️☀️☀️☀️☀️☀️☀️☀️☀️☀️☀️☀️☀️☀️☀️☀️☀️☀️☀️☀️☀️☀️☀️☀️"
   ]
  },
  {
   "cell_type": "markdown",
   "id": "2c7a6ce5-4cd2-45cd-a3b8-9ac277170654",
   "metadata": {},
   "source": [
    "***"
   ]
  },
  {
   "cell_type": "markdown",
   "id": "f47542a8-416d-4a3f-8c9d-99781dc53bd8",
   "metadata": {},
   "source": [
    "# 18. Sorting Algorithms \n",
    "Sorting algorithms arrange elements in a specific order (ascending/descending). Now we explain the most important ones."
   ]
  },
  {
   "cell_type": "markdown",
   "id": "a35384c2-ea49-4613-b074-ef3b571f756e",
   "metadata": {},
   "source": [
    "***"
   ]
  },
  {
   "cell_type": "markdown",
   "id": "5e4dbbf4-88e4-4a78-b9a0-fd722e1aa1c0",
   "metadata": {},
   "source": [
    "# 19. Bubble Sort Algorithm  \n",
    "Bubble Sort is a simple comparison-based sorting algorithm that repeatedly steps through a list, compares adjacent elements, and swaps them if they are in the wrong order. This process repeats until the list is sorted."
   ]
  },
  {
   "cell_type": "markdown",
   "id": "a4bb5edf-3034-4d79-8edf-8f0740ea0e27",
   "metadata": {},
   "source": [
    "***"
   ]
  },
  {
   "cell_type": "markdown",
   "id": "cb5cc52c-9d10-47ad-baeb-0900ab6358ff",
   "metadata": {},
   "source": [
    "## 19-1. How Bubble Sort Works\n",
    "- Compare adjacent elements in the list.\n",
    "- Swap them if they are out of order (e.g., if the current element is greater than the next in ascending order).\n",
    "- Repeat this process for each pair until the largest unsorted element \"bubbles up\" to its correct position.\n",
    "- Reduce the range of comparison by one in each pass (since the largest element is already in place).\n",
    "- Stop when no swaps are needed in a full pass (indicating the list is sorted)."
   ]
  },
  {
   "cell_type": "markdown",
   "id": "0414a2f0-fb76-43e5-bc5f-a92e6bf5ab7b",
   "metadata": {},
   "source": [
    "***"
   ]
  },
  {
   "cell_type": "markdown",
   "id": "7528c824-0f13-4c5d-aa16-25b5deb65b5f",
   "metadata": {},
   "source": [
    "### Example: Sorting [5, 3, 8, 4, 2]\n",
    "Pass 1:\n",
    "- Compare 5 and 3 → Swap → [3, 5, 8, 4, 2]\n",
    "- Compare 5 and 8 → No swap → [3, 5, 8, 4, 2]\n",
    "- Compare 8 and 4 → Swap → [3, 5, 4, 8, 2]\n",
    "- Compare 8 and 2 → Swap → [3, 5, 4, 2, 8]\n",
    "(Largest element 8 is now in place.)\n",
    "\n",
    "Pass 2:\n",
    "- Compare 3 and 5 → No swap → [3, 5, 4, 2, 8]\n",
    "- Compare 5 and 4 → Swap → [3, 4, 5, 2, 8]\n",
    "- Compare 5 and 2 → Swap → [3, 4, 2, 5, 8]\n",
    "(5 is now in place.)\n",
    "\n",
    "Pass 3:\n",
    "- Compare 3 and 4 → No swap → [3, 4, 2, 5, 8]\n",
    "- Compare 4 and 2 → Swap → [3, 2, 4, 5, 8]\n",
    "(4 is now in place.)\n",
    "\n",
    "Pass 4:\n",
    "- Compare 3 and 2 → Swap → [2, 3, 4, 5, 8]\n",
    "(Now fully sorted.)"
   ]
  },
  {
   "cell_type": "markdown",
   "id": "f9d34ed7-9c13-4948-ac9a-bcaad250362e",
   "metadata": {},
   "source": [
    "***"
   ]
  },
  {
   "cell_type": "markdown",
   "id": "77a04002-bb5f-40c4-a2cf-0fffedc13078",
   "metadata": {},
   "source": [
    "## 19-2. Bubble Sort Implementation"
   ]
  },
  {
   "cell_type": "code",
   "execution_count": 1,
   "id": "316de79f-fac8-43b4-8130-9759e7122e59",
   "metadata": {},
   "outputs": [
    {
     "name": "stdout",
     "output_type": "stream",
     "text": [
      "[2, 3, 4, 5, 8]\n"
     ]
    }
   ],
   "source": [
    "def bubble_sort(arr):\n",
    "    n = len(arr)\n",
    "    for i in range(n):\n",
    "        swapped = False\n",
    "        for j in range(0, n-i-1):  # Last i elements are already sorted\n",
    "            if arr[j] > arr[j+1]:\n",
    "                arr[j], arr[j+1] = arr[j+1], arr[j]  # Swap\n",
    "                swapped = True\n",
    "        if not swapped:  # Early exit if no swaps (already sorted)\n",
    "            break\n",
    "    return arr\n",
    "\n",
    "print(bubble_sort([5, 3, 8, 4, 2]))  "
   ]
  },
  {
   "cell_type": "markdown",
   "id": "d42a8f4d-6336-471b-81f3-1857ecb2a9a6",
   "metadata": {},
   "source": [
    "***"
   ]
  },
  {
   "cell_type": "markdown",
   "id": "34f283d7-7f0a-4702-aff9-95a1a9dc9981",
   "metadata": {},
   "source": [
    "# 20. Insertion Sort \n",
    "Insertion sort is a simple sorting algorithm that builds the final sorted array (or list) one item at a time. It works similarly to how you might sort playing cards in your hands."
   ]
  },
  {
   "cell_type": "markdown",
   "id": "51f1b820-fd9b-45a5-9def-900886fff721",
   "metadata": {},
   "source": [
    "***"
   ]
  },
  {
   "cell_type": "markdown",
   "id": "b128327d-2101-4246-b0f2-278913ccb570",
   "metadata": {},
   "source": [
    "## 20-1. How Insertion Sort Works\n",
    "The algorithm divides the list into two parts: a **sorted** part and an **unsorted** part\n",
    "\n",
    "Initially, the sorted part contains just the first element of the list\n",
    "\n",
    "For each subsequent element, the algorithm takes it from the unsorted part and inserts it into its correct position in the sorted part\n",
    "\n",
    "This continues until all elements are in the sorted part."
   ]
  },
  {
   "cell_type": "markdown",
   "id": "40063198-4794-4ae5-b589-f218d7df5fb5",
   "metadata": {},
   "source": [
    "***"
   ]
  },
  {
   "cell_type": "markdown",
   "id": "88d667e6-c4c8-4c09-9e14-faceb3bab7db",
   "metadata": {},
   "source": [
    "## 20-2. Insertion Sort Implementation"
   ]
  },
  {
   "cell_type": "code",
   "execution_count": 3,
   "id": "559d78ef-e9ba-48d5-b5fc-7a9bd7689b2c",
   "metadata": {},
   "outputs": [
    {
     "name": "stdout",
     "output_type": "stream",
     "text": [
      "[2, 3, 4, 5, 8]\n"
     ]
    }
   ],
   "source": [
    "def insertion_sort(arr):\n",
    "\n",
    "    for i in range(1, len(arr)):\n",
    "        key = arr[i]   \n",
    "        \n",
    "        j = i - 1\n",
    "        while j >= 0 and key < arr[j]:\n",
    "            arr[j + 1] = arr[j]\n",
    "            j -= 1\n",
    "            \n",
    "        arr[j + 1] = key  \n",
    "    return arr\n",
    "\n",
    "\n",
    "print(insertion_sort([5, 3, 8, 4, 2])) "
   ]
  },
  {
   "cell_type": "markdown",
   "id": "a127524d-841b-4be3-b7b6-d478285415da",
   "metadata": {},
   "source": [
    "***"
   ]
  },
  {
   "cell_type": "markdown",
   "id": "62904e7c-1f79-4f8c-aa26-7b2b163ad5f0",
   "metadata": {},
   "source": [
    "# 21. Merge Sort \n",
    "Merge sort is an efficient, stable, comparison-based sorting algorithm that follows the divide-and-conquer approach. It works by recursively dividing the input array into smaller subarrays until each subarray contains a single element (which is inherently sorted), and then merging these subarrays back together in a sorted manner."
   ]
  },
  {
   "cell_type": "markdown",
   "id": "9e351b11-a279-4568-ad7b-c8d302825f36",
   "metadata": {},
   "source": [
    "***"
   ]
  },
  {
   "cell_type": "markdown",
   "id": "168a6081-7f30-4d83-a644-4d640c189c0f",
   "metadata": {},
   "source": [
    "## 21-1. How Merge Sort Works\n",
    "Divide: Split the unsorted list into two halves\n",
    "\n",
    "Conquer: Recursively sort each half\n",
    "\n",
    "Combine: Merge the two sorted halves back together"
   ]
  },
  {
   "cell_type": "markdown",
   "id": "4920e555-4252-42f1-a5b5-7c955feea739",
   "metadata": {},
   "source": [
    "***"
   ]
  },
  {
   "cell_type": "markdown",
   "id": "b5ab5778-7413-4a4d-b8d2-378358c589ad",
   "metadata": {},
   "source": [
    "## 21-2. Merge Sort Implementation"
   ]
  },
  {
   "cell_type": "code",
   "execution_count": 4,
   "id": "6327254f-4cb3-42d3-a8bf-9c97b5b50b65",
   "metadata": {},
   "outputs": [
    {
     "name": "stdout",
     "output_type": "stream",
     "text": [
      "[2, 3, 4, 5, 8]\n"
     ]
    }
   ],
   "source": [
    "def merge_sort(arr):\n",
    "     \n",
    "    if len(arr) <= 1:\n",
    "        return arr\n",
    "    \n",
    "    mid = len(arr) // 2\n",
    "    left_half = arr[:mid]\n",
    "    right_half = arr[mid:]\n",
    "    \n",
    "    left_half = merge_sort(left_half)\n",
    "    right_half = merge_sort(right_half)\n",
    "    \n",
    "    return merge(left_half, right_half)\n",
    "\n",
    "def merge(left, right):\n",
    "    result = []\n",
    "    left_idx, right_idx = 0, 0\n",
    "    \n",
    "    while left_idx < len(left) and right_idx < len(right):\n",
    "        if left[left_idx] < right[right_idx]:\n",
    "            result.append(left[left_idx])\n",
    "            left_idx += 1\n",
    "        else:\n",
    "            result.append(right[right_idx])\n",
    "            right_idx += 1\n",
    "    \n",
    "    result.extend(left[left_idx:])\n",
    "    result.extend(right[right_idx:])\n",
    "    \n",
    "    return result\n",
    "\n",
    "\n",
    "print(merge_sort([5, 3, 8, 4, 2])) "
   ]
  },
  {
   "cell_type": "markdown",
   "id": "c919ffce-6067-4d44-9f6f-a1055967e3eb",
   "metadata": {},
   "source": [
    "***"
   ]
  },
  {
   "cell_type": "markdown",
   "id": "70cb907d-bb50-446b-8705-0adcaeadbbfb",
   "metadata": {},
   "source": [
    "# 22. QuickSort \n",
    "QuickSort is a highly efficient, divide-and-conquer sorting algorithm that works by selecting a 'pivot' element and partitioning the array around the pivot, such that elements smaller than the pivot come before it and elements greater than the pivot come after it. This process is repeated recursively for the subarrays."
   ]
  },
  {
   "cell_type": "markdown",
   "id": "71a8a9e2-f582-4f64-9072-d5b9a8da26c7",
   "metadata": {},
   "source": [
    "***"
   ]
  },
  {
   "cell_type": "markdown",
   "id": "f042b4f8-ce3e-48c0-8ac2-732f14cb4782",
   "metadata": {},
   "source": [
    "## 22-1. How QuickSort Works\n",
    "Choose a pivot: Select an element from the array (commonly the last, first, or middle element, or a random one).\n",
    "\n",
    "Partitioning: Rearrange the array so that:\n",
    "\n",
    "Elements < pivot come before it.\n",
    "\n",
    "Elements > pivot come after it.\n",
    "\n",
    "Recursively sort: Apply the same process to the left and right subarrays."
   ]
  },
  {
   "cell_type": "markdown",
   "id": "59b33a52-8351-4d34-837d-9585df2b0515",
   "metadata": {},
   "source": [
    "***"
   ]
  },
  {
   "cell_type": "markdown",
   "id": "9e0e1e3a-d4a7-43ef-8c17-78531698d0c2",
   "metadata": {},
   "source": [
    "## 22-2. QuickSort Implementation"
   ]
  },
  {
   "cell_type": "code",
   "execution_count": 6,
   "id": "4bb26ebd-b2c7-432a-a237-3050ca9ccbd6",
   "metadata": {},
   "outputs": [
    {
     "name": "stdout",
     "output_type": "stream",
     "text": [
      "[2, 3, 4, 5, 8]\n"
     ]
    }
   ],
   "source": [
    "def quicksort(arr, low=0, high=None):\n",
    "    if high is None:\n",
    "        high = len(arr) - 1\n",
    "    \n",
    "    if low < high:\n",
    "        # Partition the array and get the pivot index\n",
    "        pivot_idx = partition(arr, low, high)\n",
    "        \n",
    "        # Recursively sort elements before and after partition\n",
    "        quicksort(arr, low, pivot_idx - 1)\n",
    "        quicksort(arr, pivot_idx + 1, high)\n",
    "    return arr\n",
    "\n",
    "def partition(arr, low, high):\n",
    "    # Choose the rightmost element as pivot\n",
    "    pivot = arr[high]\n",
    "    \n",
    "    # Pointer for greater element\n",
    "    i = low - 1\n",
    "    \n",
    "    for j in range(low, high):\n",
    "        # If current element is smaller than the pivot\n",
    "        if arr[j] <= pivot:\n",
    "            # Increment the pointer and swap\n",
    "            i += 1\n",
    "            arr[i], arr[j] = arr[j], arr[i]\n",
    "    \n",
    "    # Swap the pivot element with the greater element at i\n",
    "    arr[i + 1], arr[high] = arr[high], arr[i + 1]\n",
    "    \n",
    "    # Return the position from where partition is done\n",
    "    return i + 1\n",
    "\n",
    "\n",
    "print(quicksort([5, 3, 8, 4, 2])) "
   ]
  },
  {
   "cell_type": "markdown",
   "id": "e39f56bf-7129-4343-8558-7757b4b86955",
   "metadata": {},
   "source": [
    "***"
   ]
  },
  {
   "cell_type": "markdown",
   "id": "fd397f54-086d-4f92-80ef-599e7a418eb5",
   "metadata": {},
   "source": [
    "# 23. Heap Sort\n",
    "Heap Sort is a comparison-based sorting algorithm that uses a binary heap data structure to sort elements. It first builds a max-heap, then repeatedly extracts the largest element and rebuilds the heap."
   ]
  },
  {
   "cell_type": "markdown",
   "id": "c0de85f4-7c7e-4e3c-abef-4ae5f9396547",
   "metadata": {},
   "source": [
    "***"
   ]
  },
  {
   "cell_type": "markdown",
   "id": "78701596-25e8-49c7-ac59-485c9f52a4a0",
   "metadata": {},
   "source": [
    "## 23-1. How Heap Sort Works \n",
    "Initial Array: [4, 10, 3, 5, 1]\n",
    "\n",
    "Build Max-Heap:\n",
    "\n",
    "- Start from index 1 (last non-leaf node).\n",
    "\n",
    "- Heapify 10 → No change (10 > 5, 10 > 1).\n",
    "\n",
    "- Heapify 4 → Swap with 10 → [10, 4, 3, 5, 1].\n",
    "\n",
    "- Final heap: [10, 5, 3, 4, 1].\n",
    "\n",
    "Extract & Sort:\n",
    "\n",
    "- Swap 10 (root) with 1 (last element) → [1, 5, 3, 4, 10].\n",
    "\n",
    "- Heapify 1 → Swap with 5 → [5, 1, 3, 4, 10].\n",
    "\n",
    "- Next iteration: Swap 5 with 4 → [4, 1, 3, 5, 10].\n",
    "\n",
    "Continue until fully sorted."
   ]
  },
  {
   "cell_type": "markdown",
   "id": "7dc6b7a5-570f-4bb6-b7d1-4550c0839007",
   "metadata": {},
   "source": [
    "***"
   ]
  },
  {
   "cell_type": "markdown",
   "id": "dcf732e1-c13b-4a56-a2bc-ba8a878872ee",
   "metadata": {},
   "source": [
    "## 23-2. Heap Sort Implementation"
   ]
  },
  {
   "cell_type": "code",
   "execution_count": 7,
   "id": "423d8bcd-7c2c-48ed-b1ab-eed934c53ad3",
   "metadata": {},
   "outputs": [
    {
     "name": "stdout",
     "output_type": "stream",
     "text": [
      "[2, 3, 4, 5, 8]\n"
     ]
    }
   ],
   "source": [
    "def heapify(arr, n, i):\n",
    "    largest = i\n",
    "    left = 2 * i + 1\n",
    "    right = 2 * i + 2\n",
    "\n",
    "    if left < n and arr[left] > arr[largest]:\n",
    "        largest = left\n",
    "    if right < n and arr[right] > arr[largest]:\n",
    "        largest = right\n",
    "    if largest != i:\n",
    "        arr[i], arr[largest] = arr[largest], arr[i]\n",
    "        heapify(arr, n, largest)\n",
    "\n",
    "def heap_sort(arr):\n",
    "    n = len(arr)\n",
    "    # Build max-heap\n",
    "    for i in range(n//2 - 1, -1, -1):\n",
    "        heapify(arr, n, i)\n",
    "    # Extract elements one by one\n",
    "    for i in range(n-1, 0, -1):\n",
    "        arr[0], arr[i] = arr[i], arr[0]\n",
    "        heapify(arr, i, 0)\n",
    "    return arr\n",
    "\n",
    "\n",
    "print(heap_sort([5, 3, 8, 4, 2])) "
   ]
  },
  {
   "cell_type": "markdown",
   "id": "628b7c76-68cd-4186-8d68-d3891e47349c",
   "metadata": {},
   "source": [
    "***"
   ]
  },
  {
   "cell_type": "markdown",
   "id": "10e6165d-7181-4f39-9703-37e3c8ccab3c",
   "metadata": {},
   "source": [
    "***"
   ]
  },
  {
   "cell_type": "markdown",
   "id": "b40206fb-6731-46dc-9302-0b9bc348b89b",
   "metadata": {},
   "source": [
    "# Some Excercises"
   ]
  },
  {
   "cell_type": "markdown",
   "id": "088d38a8-866c-48a9-a9b5-40df9d99ae4b",
   "metadata": {},
   "source": [
    "**1.**  Implement Bubble Sort in Python and answer:\n",
    "\n",
    "Why is Bubble Sort inefficient for large datasets?\n",
    "\n",
    "Modify the code to optimize it (add early termination if no swaps occur)."
   ]
  },
  {
   "cell_type": "markdown",
   "id": "b486b7b8-307c-4eb7-8c14-a1dd72eb2e46",
   "metadata": {},
   "source": [
    "___"
   ]
  },
  {
   "cell_type": "markdown",
   "id": "5c32b073-bab0-451e-8fd7-a294020f71c6",
   "metadata": {},
   "source": [
    "**2.** Simulate Insertion Sort step-by-step on the array [5, 2, 4, 6, 1, 3] and show the array after each iteration.\n",
    "\n",
    "Steps:\n",
    "- Start with the second element (2).\n",
    "- Compare it with the previous elements and insert it in the correct position.\n",
    "- Repeat until the array is sorted."
   ]
  },
  {
   "cell_type": "markdown",
   "id": "489da9fe-be18-487a-bcc7-e5d6672698ba",
   "metadata": {},
   "source": [
    "---"
   ]
  },
  {
   "cell_type": "markdown",
   "id": "bf117f39-fa94-453e-bca9-2ccd7b507496",
   "metadata": {},
   "source": [
    "**3.**  Given the array [38, 27, 43, 3, 9, 82, 10], show:\n",
    "\n",
    "How Merge Sort divides the array into subarrays.\n",
    "\n",
    "How it merges them back in sorted order."
   ]
  },
  {
   "cell_type": "markdown",
   "id": "02e59887-780b-4321-9382-ef4c85ec9684",
   "metadata": {},
   "source": [
    "---"
   ]
  },
  {
   "cell_type": "markdown",
   "id": "1b32e2d5-3ed7-4865-b63e-21c5cc156f67",
   "metadata": {},
   "source": [
    "**4.**  Partition the array [10, 80, 30, 90, 40, 50, 70] using the last element (70) as the pivot. Show the array after each swap."
   ]
  },
  {
   "cell_type": "markdown",
   "id": "8dcb22a4-aff7-4377-b09a-a39fa4a3b2a7",
   "metadata": {},
   "source": [
    "***"
   ]
  },
  {
   "cell_type": "markdown",
   "id": "17511368-bcb2-4413-87ab-450ca9a64ff2",
   "metadata": {},
   "source": [
    "**5.** Convert the array [4, 10, 3, 5, 1] into a max-heap and show each step."
   ]
  },
  {
   "cell_type": "markdown",
   "id": "af3414ed-8ba7-485b-954f-69bb05f37262",
   "metadata": {},
   "source": [
    "***"
   ]
  },
  {
   "cell_type": "markdown",
   "id": "7cc97f26-cf68-4d50-82a1-ae7dcdfa95ac",
   "metadata": {},
   "source": [
    "#                                                        🌞 https://github.com/AI-Planet 🌞"
   ]
  }
 ],
 "metadata": {
  "kernelspec": {
   "display_name": "Python 3 (ipykernel)",
   "language": "python",
   "name": "python3"
  },
  "language_info": {
   "codemirror_mode": {
    "name": "ipython",
    "version": 3
   },
   "file_extension": ".py",
   "mimetype": "text/x-python",
   "name": "python",
   "nbconvert_exporter": "python",
   "pygments_lexer": "ipython3",
   "version": "3.9.12"
  }
 },
 "nbformat": 4,
 "nbformat_minor": 5
}
