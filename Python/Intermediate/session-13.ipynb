{
 "cells": [
  {
   "cell_type": "markdown",
   "id": "355b5f03-d2a5-4aa3-a77c-776ccfcb35d5",
   "metadata": {},
   "source": [
    "# Session 13 🐍"
   ]
  },
  {
   "cell_type": "markdown",
   "id": "45efc9ec-fb9c-458c-b1de-d961145e8449",
   "metadata": {},
   "source": [
    "☀️☀️☀️☀️☀️☀️☀️☀️☀️☀️☀️☀️☀️☀️☀️☀️☀️☀️☀️☀️☀️☀️☀️☀️☀️☀️☀️☀️☀️☀️☀️☀️☀️☀️☀️☀️☀️☀️☀️☀️☀️☀️☀️☀️☀️"
   ]
  },
  {
   "cell_type": "markdown",
   "id": "2c7a6ce5-4cd2-45cd-a3b8-9ac277170654",
   "metadata": {},
   "source": [
    "***"
   ]
  },
  {
   "cell_type": "markdown",
   "id": "f47542a8-416d-4a3f-8c9d-99781dc53bd8",
   "metadata": {},
   "source": [
    "# 98. Keras \n",
    "Keras is a high-level neural networks API, written in Python and capable of running on top of TensorFlow, Microsoft Cognitive Toolkit (CNTK), or Theano. It was developed to enable fast experimentation with deep neural networks."
   ]
  },
  {
   "cell_type": "markdown",
   "id": "a35384c2-ea49-4613-b074-ef3b571f756e",
   "metadata": {},
   "source": [
    "***"
   ]
  },
  {
   "cell_type": "markdown",
   "id": "5e4dbbf4-88e4-4a78-b9a0-fd722e1aa1c0",
   "metadata": {},
   "source": [
    "# 99. Important Features of Keras\n",
    "- User-friendly: Keras has a simple, consistent interface optimized for common use cases\n",
    "- Modular and composable: Models are made by connecting configurable building blocks\n",
    "- Easy extensibility: New layers, metrics, loss functions, etc. can be added easily\n",
    "- Works with Python: Native Python code, no separate model configuration files"
   ]
  },
  {
   "cell_type": "markdown",
   "id": "a4bb5edf-3034-4d79-8edf-8f0740ea0e27",
   "metadata": {},
   "source": [
    "***"
   ]
  },
  {
   "cell_type": "markdown",
   "id": "cb5cc52c-9d10-47ad-baeb-0900ab6358ff",
   "metadata": {},
   "source": [
    "# 100. Core Concepts"
   ]
  },
  {
   "cell_type": "markdown",
   "id": "5d2de8aa-11c8-4023-a19b-77faa03c14af",
   "metadata": {},
   "source": [
    "***"
   ]
  },
  {
   "cell_type": "markdown",
   "id": "7951e259-8fce-4827-8f9a-0d2d1012d417",
   "metadata": {},
   "source": [
    "## 100-1. Models\n",
    "Keras has two main types of models:\n",
    "- Sequential: Linear stack of layers\n",
    "- Functional API: For complex architectures (multi-input/output, shared layers)"
   ]
  },
  {
   "cell_type": "markdown",
   "id": "0414a2f0-fb76-43e5-bc5f-a92e6bf5ab7b",
   "metadata": {},
   "source": [
    "***"
   ]
  },
  {
   "cell_type": "markdown",
   "id": "7528c824-0f13-4c5d-aa16-25b5deb65b5f",
   "metadata": {},
   "source": [
    "## 100-2. Layers\n",
    "All Keras layers have common methods:\n",
    "- **layer.get_weights():** Returns the weights as numpy arrays\n",
    "- **layer.set_weights(weights):** Sets the weights from numpy arrays\n",
    "- **layer.get_config():** Returns the configuration of the layer"
   ]
  },
  {
   "cell_type": "markdown",
   "id": "89d79214-4d24-4f11-bff3-2a5c092c85e7",
   "metadata": {},
   "source": [
    "***"
   ]
  },
  {
   "cell_type": "markdown",
   "id": "ed49c288-5889-4c9a-971a-26efff710603",
   "metadata": {},
   "source": [
    "## 100-3. Input\n",
    "The Input layer is used to instantiate a Keras tensor."
   ]
  },
  {
   "cell_type": "markdown",
   "id": "15316d1c-0544-472d-b319-3caebcd1bb96",
   "metadata": {},
   "source": [
    "***"
   ]
  },
  {
   "cell_type": "markdown",
   "id": "d78187cc-be37-4780-af75-09adb0339955",
   "metadata": {},
   "source": [
    "# 101. Building a Model"
   ]
  },
  {
   "cell_type": "markdown",
   "id": "e5d2ee3a-efa5-4cc4-a34a-77e00ce9a9a4",
   "metadata": {},
   "source": [
    "***"
   ]
  },
  {
   "cell_type": "markdown",
   "id": "6054fd00-b5cb-4760-84ea-8f2798c54d08",
   "metadata": {},
   "source": [
    "## 101-1. Sequential Model Example"
   ]
  },
  {
   "cell_type": "code",
   "execution_count": null,
   "id": "d7e58fd4-6968-4ba4-9418-62ea0b1b5062",
   "metadata": {},
   "outputs": [],
   "source": [
    "from keras.models import Sequential\n",
    "from keras.layers import Dense, Activation\n",
    "\n",
    "model = Sequential([\n",
    "    Dense(32, input_shape=(784,)),\n",
    "    Activation('relu'),\n",
    "    Dense(10),\n",
    "    Activation('softmax'),\n",
    "])"
   ]
  },
  {
   "cell_type": "markdown",
   "id": "c35849ce-db53-48f1-b820-b6b449c16c3f",
   "metadata": {},
   "source": [
    "***"
   ]
  },
  {
   "cell_type": "markdown",
   "id": "f2480e08-e095-4ccb-a6a2-dc6c664c7fba",
   "metadata": {},
   "source": [
    "## 101-2. Functional API Example"
   ]
  },
  {
   "cell_type": "code",
   "execution_count": null,
   "id": "200c1d0e-788f-4a21-ab58-81d665e83931",
   "metadata": {},
   "outputs": [],
   "source": [
    "from keras.layers import Input, Dense\n",
    "from keras.models import Model\n",
    "\n",
    "inputs = Input(shape=(784,))\n",
    "x = Dense(64, activation='relu')(inputs)\n",
    "x = Dense(64, activation='relu')(x)\n",
    "predictions = Dense(10, activation='softmax')(x)\n",
    "\n",
    "model = Model(inputs=inputs, outputs=predictions)"
   ]
  },
  {
   "cell_type": "markdown",
   "id": "fe0063a1-2cac-4bfa-a13f-4cbd6cb3a6bb",
   "metadata": {},
   "source": [
    "***"
   ]
  },
  {
   "cell_type": "markdown",
   "id": "0bb62053-7ce4-4d68-9823-871c17b605f1",
   "metadata": {},
   "source": [
    "# 102. Compiling the Model\n",
    "Before training, you need to configure the learning process:"
   ]
  },
  {
   "cell_type": "code",
   "execution_count": null,
   "id": "4bd62a87-e384-4f4c-9447-04739d426360",
   "metadata": {},
   "outputs": [],
   "source": [
    "model.compile(optimizer='rmsprop',\n",
    "              loss='categorical_crossentropy',\n",
    "              metrics=['accuracy'])"
   ]
  },
  {
   "cell_type": "raw",
   "id": "dc7bc0bf-d1da-4ffe-a571-a99f3b00084b",
   "metadata": {},
   "source": [
    "Common options:\n",
    "\n",
    "Optimizers: 'sgd', 'rmsprop', 'adam', 'adadelta', etc.\n",
    "\n",
    "Loss functions: 'mse', 'categorical_crossentropy', 'binary_crossentropy', etc.\n",
    "\n",
    "Metrics: 'accuracy', 'precision', 'recall', etc."
   ]
  },
  {
   "cell_type": "markdown",
   "id": "1c09ac45-5e81-447f-b587-98d7369e9afa",
   "metadata": {},
   "source": [
    "***"
   ]
  },
  {
   "cell_type": "markdown",
   "id": "a6266616-28d3-4a6b-8338-acbbc49c5d85",
   "metadata": {},
   "source": [
    "# 103. Training the Model"
   ]
  },
  {
   "cell_type": "markdown",
   "id": "c755c682-e471-440e-8441-9c68b751bab2",
   "metadata": {},
   "source": [
    "Key parameters:\n",
    "\n",
    "- **epochs:** Number of iterations over the entire dataset\n",
    "- **batch_size:** Number of samples per gradient update\n",
    "- **validation_data:** Data on which to evaluate the loss at the end of each epoch"
   ]
  },
  {
   "cell_type": "code",
   "execution_count": null,
   "id": "8bf3458d-4d73-4b4b-a3f4-5f70220c7ac1",
   "metadata": {},
   "outputs": [],
   "source": [
    "model.fit(x_train, y_train, \n",
    "          epochs=5, \n",
    "          batch_size=32,\n",
    "          validation_data=(x_val, y_val))"
   ]
  },
  {
   "cell_type": "markdown",
   "id": "b75c8d7c-6e2d-4726-aa39-9dc00e9fe89e",
   "metadata": {},
   "source": [
    "***"
   ]
  },
  {
   "cell_type": "markdown",
   "id": "3fdac9a4-9085-4539-81d0-609b98b49c87",
   "metadata": {},
   "source": [
    "# 104. Evaluating and Predicting"
   ]
  },
  {
   "cell_type": "code",
   "execution_count": null,
   "id": "1aaa43eb-7e71-4bdc-b982-51fdba02b203",
   "metadata": {},
   "outputs": [],
   "source": [
    "loss_and_metrics = model.evaluate(x_test, y_test, batch_size=128)\n",
    "\n",
    "classes = model.predict(x_test, batch_size=128)"
   ]
  },
  {
   "cell_type": "markdown",
   "id": "f9d34ed7-9c13-4948-ac9a-bcaad250362e",
   "metadata": {},
   "source": [
    "***"
   ]
  },
  {
   "cell_type": "markdown",
   "id": "fb0b8b50-42d5-422f-963a-0fbe8118273e",
   "metadata": {},
   "source": [
    "# 105. Saving and Loading Models"
   ]
  },
  {
   "cell_type": "code",
   "execution_count": null,
   "id": "b33543d8-2b02-45fa-8364-cf570ffa25ca",
   "metadata": {},
   "outputs": [],
   "source": [
    "from keras.models import load_model\n",
    "\n",
    "# Save\n",
    "model.save('my_model.h5')\n",
    "\n",
    "# Load\n",
    "model = load_model('my_model.h5')"
   ]
  },
  {
   "cell_type": "markdown",
   "id": "8015dedb-3cfe-44bb-82ab-3fede36dd451",
   "metadata": {},
   "source": [
    "---"
   ]
  },
  {
   "cell_type": "markdown",
   "id": "edb8f403-6642-4b7f-836c-230b9ddc000e",
   "metadata": {},
   "source": [
    "# 106. Advanced Features"
   ]
  },
  {
   "cell_type": "markdown",
   "id": "8f6c788d-8bf6-4310-b1cc-26263363ae52",
   "metadata": {},
   "source": [
    "---"
   ]
  },
  {
   "cell_type": "markdown",
   "id": "00a0e9ba-5540-4141-b83f-78d5d115876f",
   "metadata": {},
   "source": [
    "## 106-1. Callbacks\n",
    "Callbacks are functions called during training:"
   ]
  },
  {
   "cell_type": "code",
   "execution_count": null,
   "id": "274d4ff6-9b2d-4f69-8136-c7e2e20bab8f",
   "metadata": {},
   "outputs": [],
   "source": [
    "from keras.callbacks import EarlyStopping, ModelCheckpoint\n",
    "\n",
    "callbacks = [\n",
    "    EarlyStopping(monitor='val_loss', patience=2),\n",
    "    ModelCheckpoint(filepath='best_model.h5', monitor='val_loss', save_best_only=True)\n",
    "]\n",
    "\n",
    "model.fit(x_train, y_train, callbacks=callbacks)"
   ]
  },
  {
   "cell_type": "markdown",
   "id": "33f92119-b568-4820-98a9-e729647ecb0d",
   "metadata": {},
   "source": [
    "---"
   ]
  },
  {
   "cell_type": "markdown",
   "id": "60e3fd79-d4de-4f57-bc4a-c1f80b8431d2",
   "metadata": {},
   "source": [
    "## 106-2. Custom Layers\n",
    "Creating custom layers:"
   ]
  },
  {
   "cell_type": "code",
   "execution_count": null,
   "id": "8ad3c70a-44a0-4023-9571-88dd418273d3",
   "metadata": {},
   "outputs": [],
   "source": [
    "from keras import backend as K\n",
    "from keras.layers import Layer\n",
    "\n",
    "class MyLayer(Layer):\n",
    "    def __init__(self, output_dim, **kwargs):\n",
    "        self.output_dim = output_dim\n",
    "        super(MyLayer, self).__init__(**kwargs)\n",
    "    \n",
    "    def build(self, input_shape):\n",
    "        self.kernel = self.add_weight(name='kernel',\n",
    "                                     shape=(input_shape[1], self.output_dim),\n",
    "                                     initializer='uniform',\n",
    "                                     trainable=True)\n",
    "        super(MyLayer, self).build(input_shape)\n",
    "    \n",
    "    def call(self, x):\n",
    "        return K.dot(x, self.kernel)\n",
    "    \n",
    "    def compute_output_shape(self, input_shape):\n",
    "        return (input_shape[0], self.output_dim)"
   ]
  },
  {
   "cell_type": "markdown",
   "id": "7be4f943-c4b6-4582-91fa-be602b9d6b0b",
   "metadata": {},
   "source": [
    "---"
   ]
  },
  {
   "cell_type": "markdown",
   "id": "6a147ebb-151a-4740-9e76-2965f08508da",
   "metadata": {},
   "source": [
    "## 106-3. Pre-trained Models\n",
    "Keras includes several pre-trained models:"
   ]
  },
  {
   "cell_type": "code",
   "execution_count": null,
   "id": "c1ce79c0-0e64-400b-a0fc-fb28dd892b4b",
   "metadata": {},
   "outputs": [],
   "source": [
    "from keras.applications import VGG16\n",
    "\n",
    "model = VGG16(weights='imagenet', include_top=False)"
   ]
  },
  {
   "cell_type": "markdown",
   "id": "4078610a-dd52-463e-85f8-fa4dbaa7c657",
   "metadata": {},
   "source": [
    "---"
   ]
  },
  {
   "cell_type": "markdown",
   "id": "66daf742-ca27-4fc6-b06c-efc2d57a15de",
   "metadata": {},
   "source": [
    "# 107. Keras Backends\n",
    "Keras can use different backends:\n",
    "- TensorFlow (default)\n",
    "- Theano\n",
    "- CNTK"
   ]
  },
  {
   "cell_type": "code",
   "execution_count": null,
   "id": "b0d1d1f6-5fa3-497a-a2ea-80621eb73458",
   "metadata": {},
   "outputs": [],
   "source": [
    "{\n",
    "    \"image_data_format\": \"channels_last\",\n",
    "    \"epsilon\": 1e-07,\n",
    "    \"floatx\": \"float32\",\n",
    "    \"backend\": \"tensorflow\"\n",
    "}"
   ]
  },
  {
   "cell_type": "markdown",
   "id": "17049e9a-630a-46cd-8b6c-cf81a6f5cc90",
   "metadata": {},
   "source": [
    "---"
   ]
  },
  {
   "cell_type": "markdown",
   "id": "4791dc93-9804-44d8-a3e3-fdb759b321a1",
   "metadata": {},
   "source": [
    "***"
   ]
  },
  {
   "cell_type": "markdown",
   "id": "b40206fb-6731-46dc-9302-0b9bc348b89b",
   "metadata": {},
   "source": [
    "# Some Excercises"
   ]
  },
  {
   "cell_type": "markdown",
   "id": "088d38a8-866c-48a9-a9b5-40df9d99ae4b",
   "metadata": {},
   "source": [
    "**1.**  Create a sequential model with:\n",
    "- An input layer accepting 100 features\n",
    "- Two hidden dense layers with 64 and 32 units respectively (ReLU activation)\n",
    "- An output layer with 10 units (softmax activation)\n",
    "- Compile the model with Adam optimizer, categorical crossentropy loss, and accuracy metric"
   ]
  },
  {
   "cell_type": "markdown",
   "id": "b486b7b8-307c-4eb7-8c14-a1dd72eb2e46",
   "metadata": {},
   "source": [
    "___"
   ]
  },
  {
   "cell_type": "markdown",
   "id": "5c32b073-bab0-451e-8fd7-a294020f71c6",
   "metadata": {},
   "source": [
    "**2.** Build a model using the Functional API that:\n",
    "- Takes two separate numerical inputs (shapes (10,) and (5,))\n",
    "- Processes each through a dense layer (32 units, ReLU)\n",
    "- Concatenates the outputs\n",
    "- Adds a final dense layer (1 unit, sigmoid)\n",
    "- Compile for binary classification"
   ]
  },
  {
   "cell_type": "markdown",
   "id": "489da9fe-be18-487a-bcc7-e5d6672698ba",
   "metadata": {},
   "source": [
    "---"
   ]
  },
  {
   "cell_type": "markdown",
   "id": "bf117f39-fa94-453e-bca9-2ccd7b507496",
   "metadata": {},
   "source": [
    "**3.**  Train a model on dummy data with:\n",
    "- Early stopping (monitor val_loss, patience=3)\n",
    "- Model checkpointing (save best model only)\n",
    "- ReduceLROnPlateau (reduce learning rate when val_loss plateaus)\n",
    "- Use 20% validation split\n",
    "- Train for 50 epochs (but should stop early)"
   ]
  },
  {
   "cell_type": "markdown",
   "id": "02e59887-780b-4321-9382-ef4c85ec9684",
   "metadata": {},
   "source": [
    "---"
   ]
  },
  {
   "cell_type": "markdown",
   "id": "1b32e2d5-3ed7-4865-b63e-21c5cc156f67",
   "metadata": {},
   "source": [
    "**4.**  Create a custom layer that:\n",
    "- Implements a simple linear transformation (y = wx + b)\n",
    "- Handles input of any shape\n",
    "- Includes trainable weights\n",
    "- Properly implements build(), call(), and compute_output_shape()\n",
    "- Test it in a simple model"
   ]
  },
  {
   "cell_type": "markdown",
   "id": "8dcb22a4-aff7-4377-b09a-a39fa4a3b2a7",
   "metadata": {},
   "source": [
    "***"
   ]
  },
  {
   "cell_type": "markdown",
   "id": "17511368-bcb2-4413-87ab-450ca9a64ff2",
   "metadata": {},
   "source": [
    "**5.** Load the VGG16 pretrained model:\n",
    "- Exclude the top classification layers\n",
    "- Add your own classifier on top (2 dense layers)\n",
    "- Freeze the base VGG16 layers\n",
    "- Compile and train on a small dataset (can use CIFAR-10)"
   ]
  },
  {
   "cell_type": "markdown",
   "id": "1d682728-1f0e-4594-a1d3-30793e3f0751",
   "metadata": {},
   "source": [
    "***"
   ]
  },
  {
   "cell_type": "markdown",
   "id": "25f7d348-8fc5-49e9-a3e0-db0d0374a954",
   "metadata": {},
   "source": [
    "**6.** Take a trained model and:\n",
    "- Evaluate it on test data\n",
    "- Generate predictions\n",
    "- Calculate precision, recall, and F1 score manually\n",
    "- Create a confusion matrix\n",
    "- Plot ROC curve for binary classification"
   ]
  },
  {
   "cell_type": "markdown",
   "id": "56db6a03-fcd5-4229-aa81-132e3f4cb731",
   "metadata": {},
   "source": [
    "***"
   ]
  },
  {
   "cell_type": "markdown",
   "id": "3208864f-ffdb-4b05-b0b1-f6b67683a174",
   "metadata": {},
   "source": [
    "**7.** Train a simple model on MNIST data\n",
    "- Save the entire model to HDF5 file\n",
    "- Save just the architecture as JSON\n",
    "- Save just the weights\n",
    "- Demonstrate loading each variant"
   ]
  },
  {
   "cell_type": "markdown",
   "id": "31370a8b-cd74-4371-9450-8ce4248412e6",
   "metadata": {},
   "source": [
    "***"
   ]
  },
  {
   "cell_type": "markdown",
   "id": "94bafa50-5d10-40db-97d3-71bdc1821b11",
   "metadata": {},
   "source": [
    "**8.** Create a model that:\n",
    "- Takes two different types of input (e.g., text and numerical)\n",
    "- Processes each through separate branches\n",
    "- Combines the branches\n",
    "- Makes a final prediction\n",
    "- Implement using the Functional API\n",
    "- Include dropout and batch normalization layers"
   ]
  },
  {
   "cell_type": "markdown",
   "id": "af3414ed-8ba7-485b-954f-69bb05f37262",
   "metadata": {},
   "source": [
    "***"
   ]
  },
  {
   "cell_type": "markdown",
   "id": "7cc97f26-cf68-4d50-82a1-ae7dcdfa95ac",
   "metadata": {},
   "source": [
    "#                                                        🌞 https://github.com/AI-Planet 🌞"
   ]
  }
 ],
 "metadata": {
  "kernelspec": {
   "display_name": "Python 3 (ipykernel)",
   "language": "python",
   "name": "python3"
  },
  "language_info": {
   "codemirror_mode": {
    "name": "ipython",
    "version": 3
   },
   "file_extension": ".py",
   "mimetype": "text/x-python",
   "name": "python",
   "nbconvert_exporter": "python",
   "pygments_lexer": "ipython3",
   "version": "3.9.12"
  }
 },
 "nbformat": 4,
 "nbformat_minor": 5
}
