{
 "cells": [
  {
   "cell_type": "markdown",
   "id": "355b5f03-d2a5-4aa3-a77c-776ccfcb35d5",
   "metadata": {},
   "source": [
    "# Session 5 🐍"
   ]
  },
  {
   "cell_type": "markdown",
   "id": "45efc9ec-fb9c-458c-b1de-d961145e8449",
   "metadata": {},
   "source": [
    "☀️☀️☀️☀️☀️☀️☀️☀️☀️☀️☀️☀️☀️☀️☀️☀️☀️☀️☀️☀️☀️☀️☀️☀️☀️☀️☀️☀️☀️☀️☀️☀️☀️☀️☀️☀️☀️☀️☀️☀️☀️☀️☀️☀️☀️"
   ]
  },
  {
   "cell_type": "markdown",
   "id": "2c7a6ce5-4cd2-45cd-a3b8-9ac277170654",
   "metadata": {},
   "source": [
    "***"
   ]
  },
  {
   "cell_type": "markdown",
   "id": "f47542a8-416d-4a3f-8c9d-99781dc53bd8",
   "metadata": {},
   "source": [
    "# 36. NumPy \n",
    "NumPy (Numerical Python) is the foundational package for numerical computing in Python. It provides high-performance multidimensional arrays, tools for working with these arrays, and mathematical functions to operate on them."
   ]
  },
  {
   "cell_type": "markdown",
   "id": "a35384c2-ea49-4613-b074-ef3b571f756e",
   "metadata": {},
   "source": [
    "***"
   ]
  },
  {
   "cell_type": "markdown",
   "id": "5e4dbbf4-88e4-4a78-b9a0-fd722e1aa1c0",
   "metadata": {},
   "source": [
    "# 37. Performance: \n",
    "- Faster than Python lists \n",
    "- Vectorized operations: Avoid explicit loops\n",
    "- Broadcasting: Operations on arrays of different shapes\n",
    "- Interoperability: Works with Pandas, SciPy, scikit-learn, etc."
   ]
  },
  {
   "cell_type": "markdown",
   "id": "a4bb5edf-3034-4d79-8edf-8f0740ea0e27",
   "metadata": {},
   "source": [
    "***"
   ]
  },
  {
   "cell_type": "markdown",
   "id": "cb5cc52c-9d10-47ad-baeb-0900ab6358ff",
   "metadata": {},
   "source": [
    "# 38. Core Concept: ndarray\n",
    "NumPy's main object is the n-dimensional array (ndarray):"
   ]
  },
  {
   "cell_type": "code",
   "execution_count": 1,
   "id": "ac48eace-ae06-4e53-8cdf-7653a3a97796",
   "metadata": {},
   "outputs": [
    {
     "name": "stdout",
     "output_type": "stream",
     "text": [
      "<class 'numpy.ndarray'>\n"
     ]
    }
   ],
   "source": [
    "import numpy as np\n",
    "arr = np.array([1, 2, 3])  # 1D array\n",
    "print(type(arr))   "
   ]
  },
  {
   "cell_type": "markdown",
   "id": "0414a2f0-fb76-43e5-bc5f-a92e6bf5ab7b",
   "metadata": {},
   "source": [
    "***"
   ]
  },
  {
   "cell_type": "markdown",
   "id": "7528c824-0f13-4c5d-aa16-25b5deb65b5f",
   "metadata": {},
   "source": [
    "# 39. Key Properties"
   ]
  },
  {
   "cell_type": "markdown",
   "id": "89d79214-4d24-4f11-bff3-2a5c092c85e7",
   "metadata": {},
   "source": [
    "***"
   ]
  },
  {
   "cell_type": "markdown",
   "id": "ed49c288-5889-4c9a-971a-26efff710603",
   "metadata": {},
   "source": [
    "## 39-1. ndim\n",
    "Number of dimensions"
   ]
  },
  {
   "cell_type": "code",
   "execution_count": 3,
   "id": "d8751537-a09a-43af-b0d4-2e45c38265c1",
   "metadata": {},
   "outputs": [
    {
     "data": {
      "text/plain": [
       "1"
      ]
     },
     "execution_count": 3,
     "metadata": {},
     "output_type": "execute_result"
    }
   ],
   "source": [
    "arr.ndim"
   ]
  },
  {
   "cell_type": "markdown",
   "id": "4cc0ed5e-517f-41b4-86c9-bb9c423b325c",
   "metadata": {},
   "source": [
    "***"
   ]
  },
  {
   "cell_type": "markdown",
   "id": "d78187cc-be37-4780-af75-09adb0339955",
   "metadata": {},
   "source": [
    "## 39-2. shape\t\n",
    "Tuple of array dimensions\t"
   ]
  },
  {
   "cell_type": "code",
   "execution_count": 4,
   "id": "de994e2a-48bb-4fea-9030-ad73abf52d4b",
   "metadata": {},
   "outputs": [
    {
     "data": {
      "text/plain": [
       "(3,)"
      ]
     },
     "execution_count": 4,
     "metadata": {},
     "output_type": "execute_result"
    }
   ],
   "source": [
    "arr.shape"
   ]
  },
  {
   "cell_type": "markdown",
   "id": "e5d2ee3a-efa5-4cc4-a34a-77e00ce9a9a4",
   "metadata": {},
   "source": [
    "***"
   ]
  },
  {
   "cell_type": "markdown",
   "id": "faa74f2b-c9fe-49a5-9bf3-5dfedcc063f8",
   "metadata": {},
   "source": [
    "## 39-3. dtype\t\n",
    "Data type of elements"
   ]
  },
  {
   "cell_type": "code",
   "execution_count": 5,
   "id": "2de2a4e2-93d5-4449-ba61-b3f8afeb78fd",
   "metadata": {},
   "outputs": [
    {
     "data": {
      "text/plain": [
       "dtype('int32')"
      ]
     },
     "execution_count": 5,
     "metadata": {},
     "output_type": "execute_result"
    }
   ],
   "source": [
    "arr.dtype"
   ]
  },
  {
   "cell_type": "markdown",
   "id": "119f6c58-72fd-4e13-984f-9980fd7432ab",
   "metadata": {},
   "source": [
    "***"
   ]
  },
  {
   "cell_type": "markdown",
   "id": "6054fd00-b5cb-4760-84ea-8f2798c54d08",
   "metadata": {},
   "source": [
    "## 39-4. size\t\n",
    "Total number of elements"
   ]
  },
  {
   "cell_type": "code",
   "execution_count": 6,
   "id": "81b5302a-b8af-4a4d-a026-69edc552636c",
   "metadata": {},
   "outputs": [
    {
     "data": {
      "text/plain": [
       "3"
      ]
     },
     "execution_count": 6,
     "metadata": {},
     "output_type": "execute_result"
    }
   ],
   "source": [
    "arr.size"
   ]
  },
  {
   "cell_type": "markdown",
   "id": "3665394e-c1e3-47ff-988d-d39672df01c4",
   "metadata": {},
   "source": [
    "***"
   ]
  },
  {
   "cell_type": "markdown",
   "id": "a6266616-28d3-4a6b-8338-acbbc49c5d85",
   "metadata": {},
   "source": [
    "# 40. Creating Arrays"
   ]
  },
  {
   "cell_type": "markdown",
   "id": "b75c8d7c-6e2d-4726-aa39-9dc00e9fe89e",
   "metadata": {},
   "source": [
    "***"
   ]
  },
  {
   "cell_type": "markdown",
   "id": "ab7fc925-046d-4ba9-b675-c5fe0b293360",
   "metadata": {},
   "source": [
    "## 40-1. From Python Lists"
   ]
  },
  {
   "cell_type": "code",
   "execution_count": 2,
   "id": "7193352d-f309-4188-9c30-42cbecf1bc83",
   "metadata": {},
   "outputs": [
    {
     "data": {
      "text/plain": [
       "array([[1, 2],\n",
       "       [3, 4]])"
      ]
     },
     "execution_count": 2,
     "metadata": {},
     "output_type": "execute_result"
    }
   ],
   "source": [
    "np.array([1, 2, 3])          # 1D\n",
    "np.array([[1, 2], [3, 4]])   # 2D"
   ]
  },
  {
   "cell_type": "markdown",
   "id": "f9d34ed7-9c13-4948-ac9a-bcaad250362e",
   "metadata": {},
   "source": [
    "***"
   ]
  },
  {
   "cell_type": "markdown",
   "id": "bf39d426-3474-4bce-8d6d-0723d842e5d2",
   "metadata": {},
   "source": [
    "## 40-2. Special Arrays"
   ]
  },
  {
   "cell_type": "markdown",
   "id": "cca5e8df-5929-4cd1-a5d9-687a967d621f",
   "metadata": {},
   "source": [
    "***"
   ]
  },
  {
   "cell_type": "markdown",
   "id": "8669716a-babb-4ebe-8831-fd8acb4d89a4",
   "metadata": {},
   "source": [
    "### 40-2-1. np.zeros( )\t\n",
    "Array filled with 0s"
   ]
  },
  {
   "cell_type": "code",
   "execution_count": 7,
   "id": "744f8004-1e30-42a7-b5fa-1e3b6bdb3cdb",
   "metadata": {},
   "outputs": [
    {
     "data": {
      "text/plain": [
       "array([[0., 0., 0.],\n",
       "       [0., 0., 0.]])"
      ]
     },
     "execution_count": 7,
     "metadata": {},
     "output_type": "execute_result"
    }
   ],
   "source": [
    "np.zeros((2, 3))"
   ]
  },
  {
   "cell_type": "markdown",
   "id": "61509d46-260d-48e0-afc0-a8c62cf186c3",
   "metadata": {},
   "source": [
    "***"
   ]
  },
  {
   "cell_type": "markdown",
   "id": "0f1d10bf-ebfc-4558-bdf9-704fc062e6a6",
   "metadata": {},
   "source": [
    "### 40-2-2. np.ones( )\t\n",
    "Array filled with 1s"
   ]
  },
  {
   "cell_type": "code",
   "execution_count": 8,
   "id": "f2f23da1-3460-42a7-9b6b-0655a71cd408",
   "metadata": {},
   "outputs": [
    {
     "data": {
      "text/plain": [
       "array([1., 1., 1., 1., 1.])"
      ]
     },
     "execution_count": 8,
     "metadata": {},
     "output_type": "execute_result"
    }
   ],
   "source": [
    "np.ones(5)"
   ]
  },
  {
   "cell_type": "markdown",
   "id": "60f819ce-76e3-40ab-bbc2-edfdfcd1275c",
   "metadata": {},
   "source": [
    "***"
   ]
  },
  {
   "cell_type": "markdown",
   "id": "0053667b-3b61-446e-867d-dd363a38b018",
   "metadata": {},
   "source": [
    "### 40-2-3. np.arange( )\t\n",
    "Like Python's range( )"
   ]
  },
  {
   "cell_type": "code",
   "execution_count": 9,
   "id": "b16dddc4-ad80-4600-b50e-a3aa5a4f159a",
   "metadata": {},
   "outputs": [
    {
     "data": {
      "text/plain": [
       "array([0, 2, 4, 6, 8])"
      ]
     },
     "execution_count": 9,
     "metadata": {},
     "output_type": "execute_result"
    }
   ],
   "source": [
    "np.arange(0, 10, 2)"
   ]
  },
  {
   "cell_type": "markdown",
   "id": "bd0fc210-8321-431a-a21a-d1947ff5c995",
   "metadata": {},
   "source": [
    "***"
   ]
  },
  {
   "cell_type": "markdown",
   "id": "56a53e4b-48b1-4ac5-ac4e-7d7797a6751e",
   "metadata": {},
   "source": [
    "### 40-2-4. np.linspace( )\t\n",
    "Evenly spaced numbers"
   ]
  },
  {
   "cell_type": "code",
   "execution_count": 10,
   "id": "57c30afc-70c7-47ae-a09e-c537955ff271",
   "metadata": {},
   "outputs": [
    {
     "data": {
      "text/plain": [
       "array([0.  , 0.25, 0.5 , 0.75, 1.  ])"
      ]
     },
     "execution_count": 10,
     "metadata": {},
     "output_type": "execute_result"
    }
   ],
   "source": [
    "np.linspace(0, 1, 5)"
   ]
  },
  {
   "cell_type": "markdown",
   "id": "a58a681a-f4db-4edc-a18b-29febf321362",
   "metadata": {},
   "source": [
    "***"
   ]
  },
  {
   "cell_type": "markdown",
   "id": "85ec2151-65c0-4cd4-9692-f61b1c52d4a3",
   "metadata": {},
   "source": [
    "### 40-2-5. np.random.rand( )\t\n",
    "Random values [0, 1)"
   ]
  },
  {
   "cell_type": "code",
   "execution_count": 11,
   "id": "fd0be97e-cb95-4e35-bccb-8810049c2dd3",
   "metadata": {},
   "outputs": [
    {
     "data": {
      "text/plain": [
       "array([[0.98362887, 0.74653632, 0.70035858],\n",
       "       [0.5741457 , 0.5476341 , 0.65049618],\n",
       "       [0.04187802, 0.01523584, 0.7158664 ]])"
      ]
     },
     "execution_count": 11,
     "metadata": {},
     "output_type": "execute_result"
    }
   ],
   "source": [
    "np.random.rand(3, 3)"
   ]
  },
  {
   "cell_type": "markdown",
   "id": "f48fb0ca-746a-4f59-aeef-e658e4f91b5e",
   "metadata": {},
   "source": [
    "***"
   ]
  },
  {
   "cell_type": "markdown",
   "id": "2244868e-5a8d-464f-9676-ccf37110c009",
   "metadata": {},
   "source": [
    "# 41. Array Operations"
   ]
  },
  {
   "cell_type": "markdown",
   "id": "8328683a-e785-48fc-b6a2-eebd8f3a45d3",
   "metadata": {},
   "source": [
    "***"
   ]
  },
  {
   "cell_type": "markdown",
   "id": "9e67b155-17c4-40da-8740-dab43134a487",
   "metadata": {},
   "source": [
    "## 41-1. Arithmetic (Element-wise)"
   ]
  },
  {
   "cell_type": "code",
   "execution_count": 12,
   "id": "6ce6ab2d-d166-494f-99ce-c81662736d60",
   "metadata": {},
   "outputs": [
    {
     "name": "stdout",
     "output_type": "stream",
     "text": [
      "[5 7 9]\n",
      "[2 4 6]\n"
     ]
    }
   ],
   "source": [
    "a = np.array([1, 2, 3])\n",
    "b = np.array([4, 5, 6])\n",
    "print(a + b)  \n",
    "print(a * 2)  "
   ]
  },
  {
   "cell_type": "markdown",
   "id": "4da92f22-261c-4488-b4f0-fe2cbae76e78",
   "metadata": {},
   "source": [
    "***"
   ]
  },
  {
   "cell_type": "markdown",
   "id": "345a71e6-b4b9-4ba8-9bd3-55c7fb6622c9",
   "metadata": {},
   "source": [
    "## 41-2. Matrix Operations"
   ]
  },
  {
   "cell_type": "code",
   "execution_count": 13,
   "id": "303abdb5-f350-4664-92c2-c6f360ad4e11",
   "metadata": {},
   "outputs": [
    {
     "name": "stdout",
     "output_type": "stream",
     "text": [
      "[[19 22]\n",
      " [43 50]]\n",
      "[[19 22]\n",
      " [43 50]]\n"
     ]
    }
   ],
   "source": [
    "A = np.array([[1, 2], [3, 4]])\n",
    "B = np.array([[5, 6], [7, 8]])\n",
    "print(A @ B)  # Matrix multiplication\n",
    "print(np.dot(A, B))  # Alternative"
   ]
  },
  {
   "cell_type": "markdown",
   "id": "628b7c76-68cd-4186-8d68-d3891e47349c",
   "metadata": {},
   "source": [
    "***"
   ]
  },
  {
   "cell_type": "markdown",
   "id": "cd8cf86e-6f11-4a72-8ccf-d944f70e5c4f",
   "metadata": {},
   "source": [
    "## 41-3. Aggregations"
   ]
  },
  {
   "cell_type": "code",
   "execution_count": 14,
   "id": "46110597-3942-43ec-bc27-87cdfcee0bdf",
   "metadata": {},
   "outputs": [
    {
     "name": "stdout",
     "output_type": "stream",
     "text": [
      "6\n",
      "2.0\n",
      "3\n"
     ]
    }
   ],
   "source": [
    "arr = np.array([1, 2, 3])\n",
    "print(np.sum(arr))    \n",
    "print(np.mean(arr))   \n",
    "print(np.max(arr))    "
   ]
  },
  {
   "cell_type": "markdown",
   "id": "33f0f6be-bc70-4fe0-a63a-632c433caefc",
   "metadata": {},
   "source": [
    "***"
   ]
  },
  {
   "cell_type": "markdown",
   "id": "ca5fa759-2354-49e3-8c7e-19e2f25eba98",
   "metadata": {},
   "source": [
    "# 42. Indexing & Slicing"
   ]
  },
  {
   "cell_type": "markdown",
   "id": "f4649704-3a2d-435d-a96d-ba13756574f0",
   "metadata": {},
   "source": [
    "***"
   ]
  },
  {
   "cell_type": "markdown",
   "id": "a5f76316-f498-4b98-9d59-3144dde7b830",
   "metadata": {},
   "source": [
    "## 42-1. 1D Arrays (Like Python Lists)"
   ]
  },
  {
   "cell_type": "code",
   "execution_count": 15,
   "id": "aed0a58e-62dc-4eef-bee8-75a8379a5ae7",
   "metadata": {},
   "outputs": [
    {
     "name": "stdout",
     "output_type": "stream",
     "text": [
      "2\n",
      "[2 3]\n"
     ]
    }
   ],
   "source": [
    "arr = np.array([1, 2, 3, 4])\n",
    "print(arr[1])    \n",
    "print(arr[1:3])  "
   ]
  },
  {
   "cell_type": "markdown",
   "id": "e29d85e3-e81c-4c4f-bbd7-01f3e4678fe0",
   "metadata": {},
   "source": [
    "***"
   ]
  },
  {
   "cell_type": "markdown",
   "id": "034e5694-828f-40a0-a9d9-e0e290db7474",
   "metadata": {},
   "source": [
    "## 42-2. 2D Arrays"
   ]
  },
  {
   "cell_type": "code",
   "execution_count": 17,
   "id": "dcfa1342-32f1-4cf2-88f0-2d20c9b15f06",
   "metadata": {},
   "outputs": [
    {
     "name": "stdout",
     "output_type": "stream",
     "text": [
      "2\n",
      "[2 5]\n"
     ]
    }
   ],
   "source": [
    "arr = np.array([[1, 2, 3], [4, 5, 6]])\n",
    "print(arr[0, 1])     # Row 0, Column 1\n",
    "print(arr[:, 1])     # All rows, Column 1"
   ]
  },
  {
   "cell_type": "markdown",
   "id": "4b5b4840-fdee-4fe5-b227-19363576a310",
   "metadata": {},
   "source": [
    "***"
   ]
  },
  {
   "cell_type": "markdown",
   "id": "30f1e8c1-cb23-4894-be8f-65c5c4655d95",
   "metadata": {},
   "source": [
    "## 42-3. Boolean Indexing"
   ]
  },
  {
   "cell_type": "code",
   "execution_count": 18,
   "id": "e9c6bffe-92c4-498e-b46f-fee761d05fa9",
   "metadata": {},
   "outputs": [
    {
     "name": "stdout",
     "output_type": "stream",
     "text": [
      "[3 4]\n"
     ]
    }
   ],
   "source": [
    "arr = np.array([1, 2, 3, 4])\n",
    "print(arr[arr > 2])  "
   ]
  },
  {
   "cell_type": "markdown",
   "id": "b06bf888-b6ab-43a4-ba10-0e620e6cf8ef",
   "metadata": {},
   "source": [
    "***"
   ]
  },
  {
   "cell_type": "markdown",
   "id": "14561362-5eb9-4267-ae32-4a4498202e72",
   "metadata": {},
   "source": [
    "# 43. Reshaping Arrays"
   ]
  },
  {
   "cell_type": "code",
   "execution_count": 19,
   "id": "9de69794-9d29-40c5-bfe5-61c226a36769",
   "metadata": {},
   "outputs": [
    {
     "name": "stdout",
     "output_type": "stream",
     "text": [
      "[[0 1 2]\n",
      " [3 4 5]]\n",
      "[0 1 2 3 4 5]\n"
     ]
    }
   ],
   "source": [
    "arr = np.arange(6)\n",
    "print(arr.reshape(2, 3))  \n",
    "print(arr.T)              # Transpose"
   ]
  },
  {
   "cell_type": "markdown",
   "id": "af7d730b-0360-467e-8562-0152d50d7214",
   "metadata": {},
   "source": [
    "***"
   ]
  },
  {
   "cell_type": "markdown",
   "id": "3a8a15ef-1f06-464b-92c0-f418955852e4",
   "metadata": {},
   "source": [
    "# 44. Universal Functions (ufuncs)\n",
    "Fast element-wise operations:"
   ]
  },
  {
   "cell_type": "code",
   "execution_count": 20,
   "id": "e63ad8ff-98a4-41a8-8dce-812ad84cb338",
   "metadata": {},
   "outputs": [
    {
     "name": "stdout",
     "output_type": "stream",
     "text": [
      "[1.04880885 1.4832397  1.81659021]\n",
      "[ 3.00416602  9.0250135  27.11263892]\n",
      "[ 0.89120736  0.8084964  -0.15774569]\n"
     ]
    }
   ],
   "source": [
    "arr = np.array([1.1, 2.2, 3.3])\n",
    "print(np.sqrt(arr))   # Square root\n",
    "print(np.exp(arr))    # Exponential\n",
    "print(np.sin(arr))    # Trigonometric"
   ]
  },
  {
   "cell_type": "markdown",
   "id": "4aadfcfa-f703-4c32-bc51-d249246f1a09",
   "metadata": {},
   "source": [
    "***"
   ]
  },
  {
   "cell_type": "markdown",
   "id": "58649baa-084f-411a-bd07-483ac8b22220",
   "metadata": {},
   "source": [
    "# 45. Saving & Loading Arrays"
   ]
  },
  {
   "cell_type": "code",
   "execution_count": null,
   "id": "8dc0dab5-1ffb-4387-9e59-128acb2823b2",
   "metadata": {},
   "outputs": [],
   "source": [
    "arr = np.array([1, 2, 3])\n",
    "np.save('my_array.npy', arr)  # Save\n",
    "loaded = np.load('my_array.npy')  # Load"
   ]
  },
  {
   "cell_type": "markdown",
   "id": "b373736d-9cb2-4a0b-8f4f-d20bc3021275",
   "metadata": {},
   "source": [
    "***"
   ]
  },
  {
   "cell_type": "markdown",
   "id": "7c136d35-8c84-49b5-83b8-7b138220e4ad",
   "metadata": {},
   "source": [
    "# 46. Comparing NumPy & Pandas"
   ]
  },
  {
   "cell_type": "markdown",
   "id": "ad5f1224-9b9b-4837-a0d6-c400c0c8efec",
   "metadata": {},
   "source": [
    "|Feature\t|NumPy\t|Pandas   |\n",
    "|-----------|-------|---------|\n",
    "|Data Structure\t|ndarray\t|DataFrame/Series|\n",
    "|Use Case\t|Math operations\t|Data analysis|\n",
    "|Indexing\t|Numerical\t|Label-based|\n",
    "|Missing Data\t|Not supported\t|Supported (NaN)|"
   ]
  },
  {
   "cell_type": "markdown",
   "id": "6e1cde0f-1447-4f97-823a-2fbe4126082d",
   "metadata": {},
   "source": [
    "***"
   ]
  },
  {
   "cell_type": "markdown",
   "id": "4791dc93-9804-44d8-a3e3-fdb759b321a1",
   "metadata": {},
   "source": [
    "***"
   ]
  },
  {
   "cell_type": "markdown",
   "id": "b40206fb-6731-46dc-9302-0b9bc348b89b",
   "metadata": {},
   "source": [
    "# Some Excercises"
   ]
  },
  {
   "cell_type": "markdown",
   "id": "088d38a8-866c-48a9-a9b5-40df9d99ae4b",
   "metadata": {},
   "source": [
    "**1.**  Create these arrays using NumPy:\n",
    "- A 1D array of even numbers from 2 to 20\n",
    "- A 3x3 identity matrix\n",
    "- A 2x4 array filled with random floats between 5 and 10"
   ]
  },
  {
   "cell_type": "markdown",
   "id": "b486b7b8-307c-4eb7-8c14-a1dd72eb2e46",
   "metadata": {},
   "source": [
    "___"
   ]
  },
  {
   "cell_type": "markdown",
   "id": "5c32b073-bab0-451e-8fd7-a294020f71c6",
   "metadata": {},
   "source": [
    "**2.** Given: arr = np.array([[1, 2, 3], [4, 5, 6], [7, 8, 9]])\n",
    "\n",
    "Find:\n",
    "- Number of dimensions\n",
    "- Shape\n",
    "- Total elements\n",
    "- Data type"
   ]
  },
  {
   "cell_type": "markdown",
   "id": "489da9fe-be18-487a-bcc7-e5d6672698ba",
   "metadata": {},
   "source": [
    "---"
   ]
  },
  {
   "cell_type": "markdown",
   "id": "bf117f39-fa94-453e-bca9-2ccd7b507496",
   "metadata": {},
   "source": [
    "**3.**  For arrays:\n",
    "\n",
    "A = np.array([1, 2, 3])\n",
    "\n",
    "B = np.array([4, 5, 6])\n",
    "\n",
    "Calculate:\n",
    "- Element-wise sum\n",
    "- Dot product\n",
    "- (A² + B³) / 2"
   ]
  },
  {
   "cell_type": "markdown",
   "id": "02e59887-780b-4321-9382-ef4c85ec9684",
   "metadata": {},
   "source": [
    "---"
   ]
  },
  {
   "cell_type": "markdown",
   "id": "1b32e2d5-3ed7-4865-b63e-21c5cc156f67",
   "metadata": {},
   "source": [
    "**4.**  Given: matrix = np.arange(1, 26).reshape(5, 5)\n",
    "\n",
    "Extract:\n",
    "- The second column\n",
    "- The sub-matrix from rows 1-3 and columns 2-4\n",
    "- All elements > 15"
   ]
  },
  {
   "cell_type": "markdown",
   "id": "8dcb22a4-aff7-4377-b09a-a39fa4a3b2a7",
   "metadata": {},
   "source": [
    "***"
   ]
  },
  {
   "cell_type": "markdown",
   "id": "17511368-bcb2-4413-87ab-450ca9a64ff2",
   "metadata": {},
   "source": [
    "**5.** Convert:\n",
    "- A 1D array of 12 elements into 3x4 matrix\n",
    "- A 3D array (2x3x4) into 2D (6x4)\n",
    "- Back to original shape without storing dimensions"
   ]
  },
  {
   "cell_type": "markdown",
   "id": "1d682728-1f0e-4594-a1d3-30793e3f0751",
   "metadata": {},
   "source": [
    "***"
   ]
  },
  {
   "cell_type": "markdown",
   "id": "25f7d348-8fc5-49e9-a3e0-db0d0374a954",
   "metadata": {},
   "source": [
    "**6.** Compare execution time of:\n",
    "- NumPy sum vs Python sum on 1M elements\n",
    "- NumPy vectorized operation vs Python loop for element-wise multiplication"
   ]
  },
  {
   "cell_type": "markdown",
   "id": "56db6a03-fcd5-4229-aa81-132e3f4cb731",
   "metadata": {},
   "source": [
    "***"
   ]
  },
  {
   "cell_type": "markdown",
   "id": "3208864f-ffdb-4b05-b0b1-f6b67683a174",
   "metadata": {},
   "source": [
    "**7.** Exercise:\n",
    "- Save three different arrays to a single .npz file\n",
    "- Load them back while verifying data integrity\n",
    "- Save one array in text format and binary format, compare file sizes"
   ]
  },
  {
   "cell_type": "markdown",
   "id": "31370a8b-cd74-4371-9450-8ce4248412e6",
   "metadata": {},
   "source": [
    "***"
   ]
  },
  {
   "cell_type": "markdown",
   "id": "94bafa50-5d10-40db-97d3-71bdc1821b11",
   "metadata": {},
   "source": [
    "**8.** Given a dataset:\n",
    "- Load it in both NumPy and Pandas\n",
    "\n",
    "Compare:\n",
    "- Memory usage\n",
    "- Operation speed (e.g., mean calculation)\n",
    "- Handling missing values"
   ]
  },
  {
   "cell_type": "markdown",
   "id": "af3414ed-8ba7-485b-954f-69bb05f37262",
   "metadata": {},
   "source": [
    "***"
   ]
  },
  {
   "cell_type": "markdown",
   "id": "7cc97f26-cf68-4d50-82a1-ae7dcdfa95ac",
   "metadata": {},
   "source": [
    "#                                                        🌞 https://github.com/AI-Planet 🌞"
   ]
  }
 ],
 "metadata": {
  "kernelspec": {
   "display_name": "Python 3 (ipykernel)",
   "language": "python",
   "name": "python3"
  },
  "language_info": {
   "codemirror_mode": {
    "name": "ipython",
    "version": 3
   },
   "file_extension": ".py",
   "mimetype": "text/x-python",
   "name": "python",
   "nbconvert_exporter": "python",
   "pygments_lexer": "ipython3",
   "version": "3.9.12"
  }
 },
 "nbformat": 4,
 "nbformat_minor": 5
}
