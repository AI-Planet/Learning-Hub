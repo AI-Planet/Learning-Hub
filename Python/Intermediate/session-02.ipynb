{
 "cells": [
  {
   "cell_type": "markdown",
   "id": "355b5f03-d2a5-4aa3-a77c-776ccfcb35d5",
   "metadata": {},
   "source": [
    "# Session 2 🐍"
   ]
  },
  {
   "cell_type": "markdown",
   "id": "45efc9ec-fb9c-458c-b1de-d961145e8449",
   "metadata": {},
   "source": [
    "☀️☀️☀️☀️☀️☀️☀️☀️☀️☀️☀️☀️☀️☀️☀️☀️☀️☀️☀️☀️☀️☀️☀️☀️☀️☀️☀️☀️☀️☀️☀️☀️☀️☀️☀️☀️☀️☀️☀️☀️☀️☀️☀️☀️☀️"
   ]
  },
  {
   "cell_type": "markdown",
   "id": "2c7a6ce5-4cd2-45cd-a3b8-9ac277170654",
   "metadata": {},
   "source": [
    "***"
   ]
  },
  {
   "cell_type": "markdown",
   "id": "f47542a8-416d-4a3f-8c9d-99781dc53bd8",
   "metadata": {},
   "source": [
    "# 14. Recursion\n",
    "One of the most powerful but also intriguing features of a programming is **recursion**.\n",
    "\n",
    "An extremely simple definition of recursion is defining a computation in terms of itself."
   ]
  },
  {
   "cell_type": "markdown",
   "id": "a35384c2-ea49-4613-b074-ef3b571f756e",
   "metadata": {},
   "source": [
    "***"
   ]
  },
  {
   "cell_type": "markdown",
   "id": "5e4dbbf4-88e4-4a78-b9a0-fd722e1aa1c0",
   "metadata": {},
   "source": [
    "The best way to understand **Recursion** is practising:"
   ]
  },
  {
   "cell_type": "code",
   "execution_count": 1,
   "id": "7e9217c9-620b-4286-b095-7b160e381770",
   "metadata": {},
   "outputs": [
    {
     "name": "stdout",
     "output_type": "stream",
     "text": [
      "5\n",
      "4\n",
      "3\n",
      "2\n",
      "1\n",
      "Ready!\n"
     ]
    }
   ],
   "source": [
    "def countdown(n: int) -> None:\n",
    "    \"\"\"Prints by means of recursion decreasing values from n to 1 and prints 'Ready!' for n=0.\"\"\"\n",
    "    if n <= 0:\n",
    "        print('Ready!')\n",
    "    else:\n",
    "        print(n)\n",
    "        countdown(n-1)\n",
    "\n",
    "countdown(5)"
   ]
  },
  {
   "cell_type": "markdown",
   "id": "a4bb5edf-3034-4d79-8edf-8f0740ea0e27",
   "metadata": {},
   "source": [
    "***"
   ]
  },
  {
   "cell_type": "markdown",
   "id": "cb5cc52c-9d10-47ad-baeb-0900ab6358ff",
   "metadata": {},
   "source": [
    "### Example. \n",
    "Write a function that prints a string n times."
   ]
  },
  {
   "cell_type": "code",
   "execution_count": 2,
   "id": "6231eb47-04d6-465a-ae48-72c1076086f8",
   "metadata": {},
   "outputs": [
    {
     "name": "stdout",
     "output_type": "stream",
     "text": [
      "AI\n",
      "AI AI\n",
      "AI AI AI AI\n",
      "AI AI AI AI AI AI AI AI\n",
      "AI AI AI AI AI AI AI AI AI AI AI AI AI AI AI AI\n"
     ]
    }
   ],
   "source": [
    "def print_n(s: str, n: int) -> None:\n",
    "    \"\"\"Prints the string represented by the parameter 's' and recursively calls itself with a string 's+ +s' as long as 'n>0'.\"\"\"\n",
    "    if n <= 0:\n",
    "        return\n",
    "    print(s)\n",
    "    print_n(f'{s} {s}', n-1)\n",
    "\n",
    "print_n(\"AI\", 5)"
   ]
  },
  {
   "cell_type": "markdown",
   "id": "5c1e214b-7b8d-4698-911e-4e487c7e3f07",
   "metadata": {},
   "source": [
    "***"
   ]
  },
  {
   "cell_type": "markdown",
   "id": "7528c824-0f13-4c5d-aa16-25b5deb65b5f",
   "metadata": {},
   "source": [
    "# 15. Infinite Recursion\n",
    "Recursion is very powerful and convenient, but there is also a risk, we have to ensure that the recursion terminates.\n",
    "\n",
    "So, as a programmer you have to take care of formulating a correct **Base case** that terminates the recursion."
   ]
  },
  {
   "cell_type": "markdown",
   "id": "f9d34ed7-9c13-4948-ac9a-bcaad250362e",
   "metadata": {},
   "source": [
    "***"
   ]
  },
  {
   "cell_type": "markdown",
   "id": "77a04002-bb5f-40c4-a2cf-0fffedc13078",
   "metadata": {},
   "source": [
    "### Example.\n",
    "Calculation of factorial of a number."
   ]
  },
  {
   "cell_type": "code",
   "execution_count": 3,
   "id": "316de79f-fac8-43b4-8130-9759e7122e59",
   "metadata": {},
   "outputs": [
    {
     "data": {
      "text/plain": [
       "93326215443944152681699238856266700490715968264381621468592963895217599993229915608941463976156518286253697920827223758251185210916864000000000000000000000000"
      ]
     },
     "execution_count": 3,
     "metadata": {},
     "output_type": "execute_result"
    }
   ],
   "source": [
    "def factorial(n: int) -> int:\n",
    "    \"\"\"Calculates the factorial of its argument n.\"\"\"\n",
    "    if n == 0:\n",
    "        return 1\n",
    "    else:\n",
    "        return n * factorial(n-1)\n",
    "\n",
    "factorial(100)"
   ]
  },
  {
   "cell_type": "markdown",
   "id": "d42a8f4d-6336-471b-81f3-1857ecb2a9a6",
   "metadata": {},
   "source": [
    "***"
   ]
  },
  {
   "cell_type": "markdown",
   "id": "af15eb2f-75c7-49a1-910b-c9a9e6877447",
   "metadata": {},
   "source": [
    "# 16. Tail Recursion in Python\n",
    "Tail recursion is a special form of recursion where the recursive call is the last operation in the function. While Python doesn't natively optimize tail-recursive calls (unlike some functional languages), you can still implement tail-recursive functions."
   ]
  },
  {
   "cell_type": "markdown",
   "id": "58836292-2345-4447-b04a-1a02289ae728",
   "metadata": {},
   "source": [
    "***"
   ]
  },
  {
   "cell_type": "code",
   "execution_count": 4,
   "id": "c6e49d64-87f0-4717-9761-11be660d1ee6",
   "metadata": {},
   "outputs": [
    {
     "data": {
      "text/plain": [
       "93326215443944152681699238856266700490715968264381621468592963895217599993229915608941463976156518286253697920827223758251185210916864000000000000000000000000"
      ]
     },
     "execution_count": 4,
     "metadata": {},
     "output_type": "execute_result"
    }
   ],
   "source": [
    "def factorial(n, accumulator=1):\n",
    "    if n == 0:\n",
    "        return accumulator\n",
    "    return factorial(n - 1, n * accumulator)  # Tail recursive call\n",
    "\n",
    "factorial(100)"
   ]
  },
  {
   "cell_type": "markdown",
   "id": "fef3e0a3-0e55-460f-a4fa-cb4a88731e8f",
   "metadata": {},
   "source": [
    "***"
   ]
  },
  {
   "cell_type": "markdown",
   "id": "6aba38bb-1d25-47bd-a6f6-27952665f631",
   "metadata": {},
   "source": [
    "### Example.\n",
    "Fibonacci function."
   ]
  },
  {
   "cell_type": "code",
   "execution_count": 6,
   "id": "727cf4ec-0345-43ce-bbea-969ec49e31d3",
   "metadata": {},
   "outputs": [
    {
     "data": {
      "text/plain": [
       "233"
      ]
     },
     "execution_count": 6,
     "metadata": {},
     "output_type": "execute_result"
    }
   ],
   "source": [
    "def fibonacci(n: int) -> int:\n",
    "    \"\"\"Calculates the fibonacci number of its argument.\n",
    "       fibonacci(0) = 0   # base case\n",
    "       fibonacci(1) = 1   # base case\n",
    "    \"\"\"\n",
    "    if n == 0:\n",
    "        return 0\n",
    "    elif n == 1:\n",
    "        return 1\n",
    "    else:\n",
    "        return fibonacci(n-1) + fibonacci(n-2)\n",
    "        \n",
    "fibonacci(13)"
   ]
  },
  {
   "cell_type": "markdown",
   "id": "11ce2c3f-2669-47d2-b7ce-3a65b9af1f42",
   "metadata": {},
   "source": [
    "**Fibonacchi Sequence**"
   ]
  },
  {
   "cell_type": "code",
   "execution_count": 8,
   "id": "130bb83f-0c86-449d-a5cb-9ceed379f84e",
   "metadata": {},
   "outputs": [
    {
     "name": "stdout",
     "output_type": "stream",
     "text": [
      "[0, 1, 1, 2, 3, 5, 8, 13, 21, 34, 55, 89, 144, 233, 377, 610, 987, 1597, 2584, 4181]\n"
     ]
    }
   ],
   "source": [
    "fibo: list = [fibonacci(n) for n in range(20)]\n",
    "print(fibo)"
   ]
  },
  {
   "cell_type": "markdown",
   "id": "3093cb24-c129-43db-89ec-6997aafc3e7e",
   "metadata": {},
   "source": [
    "***"
   ]
  },
  {
   "cell_type": "markdown",
   "id": "4e476783-0e3f-45ec-9a33-f2289768ac6a",
   "metadata": {},
   "source": [
    "# 17. Towers of Hanoi\n",
    "We want to transfer the disks from rod A (source) to rod C (destination) via rod B (auxiliary):"
   ]
  },
  {
   "attachments": {
    "3e1cace5-8c3a-4635-af63-22666c7b401a.png": {
     "image/png": "[encoded data removed]"
    }
   },
   "cell_type": "markdown",
   "id": "c65278ff-3295-4fd1-9662-7f871486c9ac",
   "metadata": {},
   "source": [
    "![image.png](attachment:3e1cace5-8c3a-4635-af63-22666c7b401a.png)"
   ]
  },
  {
   "cell_type": "code",
   "execution_count": 11,
   "id": "49a13603-f78c-42ae-9d7f-376b1f5d781a",
   "metadata": {},
   "outputs": [
    {
     "name": "stdout",
     "output_type": "stream",
     "text": [
      "Move disk from source A to destination C\n",
      "Move disk 2 from source A to destination B\n",
      "Move disk from source C to destination B\n",
      "Move disk 3 from source A to destination C\n",
      "Move disk from source B to destination A\n",
      "Move disk 2 from source B to destination C\n",
      "Move disk from source A to destination C\n"
     ]
    }
   ],
   "source": [
    "def towers_of_hanoi(n: int, source: str, destination: str, auxiliary: str) -> None:\n",
    "   \n",
    "    if n == 1:\n",
    "        print(\"Move disk from source\", source, \"to destination\", destination)\n",
    "        return\n",
    "\n",
    "    towers_of_hanoi(n-1, source, auxiliary, destination)\n",
    "    print(\"Move disk\", n, \"from source\", source, \"to destination\", destination)\n",
    "    towers_of_hanoi(n-1, auxiliary, destination, source)\n",
    "\n",
    "\n",
    "towers_of_hanoi(3, 'A', 'C', 'B')"
   ]
  },
  {
   "cell_type": "markdown",
   "id": "71a8a9e2-f582-4f64-9072-d5b9a8da26c7",
   "metadata": {},
   "source": [
    "***"
   ]
  },
  {
   "cell_type": "markdown",
   "id": "10e6165d-7181-4f39-9703-37e3c8ccab3c",
   "metadata": {},
   "source": [
    "***"
   ]
  },
  {
   "cell_type": "markdown",
   "id": "b40206fb-6731-46dc-9302-0b9bc348b89b",
   "metadata": {},
   "source": [
    "# Some Excercises"
   ]
  },
  {
   "cell_type": "markdown",
   "id": "088d38a8-866c-48a9-a9b5-40df9d99ae4b",
   "metadata": {},
   "source": [
    "**1.** Compute the sum of digits of a number recursively.\n",
    "\n",
    "Example: sum_digits(1234) → 10"
   ]
  },
  {
   "cell_type": "markdown",
   "id": "b486b7b8-307c-4eb7-8c14-a1dd72eb2e46",
   "metadata": {},
   "source": [
    "___"
   ]
  },
  {
   "cell_type": "markdown",
   "id": "5c32b073-bab0-451e-8fd7-a294020f71c6",
   "metadata": {},
   "source": [
    "**2.** Check if a string is a palindrome (reads the same backward).\n",
    "\n",
    "Example: is_palindrome(\"madam\") → True"
   ]
  },
  {
   "cell_type": "markdown",
   "id": "489da9fe-be18-487a-bcc7-e5d6672698ba",
   "metadata": {},
   "source": [
    "---"
   ]
  },
  {
   "cell_type": "markdown",
   "id": "bf117f39-fa94-453e-bca9-2ccd7b507496",
   "metadata": {},
   "source": [
    "**3.** Compute GCD of two numbers using Euclid's algorithm recursively.\n",
    "\n",
    "Example: gcd(48, 18) → 6"
   ]
  },
  {
   "cell_type": "markdown",
   "id": "02e59887-780b-4321-9382-ef4c85ec9684",
   "metadata": {},
   "source": [
    "---"
   ]
  },
  {
   "cell_type": "markdown",
   "id": "1b32e2d5-3ed7-4865-b63e-21c5cc156f67",
   "metadata": {},
   "source": [
    "**4.**  Reverse a string recursively (without loops or slicing).\n",
    "\n",
    "Example: reverse(\"hello\") → \"olleh\""
   ]
  },
  {
   "cell_type": "markdown",
   "id": "8dcb22a4-aff7-4377-b09a-a39fa4a3b2a7",
   "metadata": {},
   "source": [
    "***"
   ]
  },
  {
   "cell_type": "markdown",
   "id": "17511368-bcb2-4413-87ab-450ca9a64ff2",
   "metadata": {},
   "source": [
    "**5.** Generate all permutations of a string recursively.\n",
    "\n",
    "Example: permutations(\"abc\") → [\"abc\", \"acb\", \"bac\", \"bca\", \"cab\", \"cba\"]"
   ]
  },
  {
   "cell_type": "markdown",
   "id": "af3414ed-8ba7-485b-954f-69bb05f37262",
   "metadata": {},
   "source": [
    "***"
   ]
  },
  {
   "cell_type": "markdown",
   "id": "8f5ff722-c584-476e-82c7-c99d48dcae2a",
   "metadata": {},
   "source": [
    "**6.** Generate all subsets of a list recursively.\n",
    "\n",
    "Example: subsets([1, 2]) → [[ ], [1], [2], [1, 2]]"
   ]
  },
  {
   "cell_type": "markdown",
   "id": "2257cad9-b203-4fcf-bd40-26e519626647",
   "metadata": {},
   "source": [
    "***"
   ]
  },
  {
   "cell_type": "markdown",
   "id": "18a3029c-0bac-4193-a5c0-cff1c5cc1cfa",
   "metadata": {},
   "source": [
    "**7.** Recursively flatten a list that may contain nested lists.\n",
    "\n",
    "Example: flatten([1, [2, [3, 4], 5]]) → [1, 2, 3, 4, 5]"
   ]
  },
  {
   "cell_type": "markdown",
   "id": "4b9cae2d-e35a-49a6-8e8b-cf96f638ddd0",
   "metadata": {},
   "source": [
    "***"
   ]
  },
  {
   "cell_type": "markdown",
   "id": "5ed41cc7-ee76-474d-b2a9-a60c8a457351",
   "metadata": {},
   "source": [
    "**8.** Find a path in a 2D maze using recursion (with obstacles)."
   ]
  },
  {
   "cell_type": "markdown",
   "id": "7cc885bd-d362-4b38-b25f-89be1844f53c",
   "metadata": {},
   "source": [
    "***"
   ]
  },
  {
   "cell_type": "markdown",
   "id": "7cc97f26-cf68-4d50-82a1-ae7dcdfa95ac",
   "metadata": {},
   "source": [
    "#                                                        🌞 https://github.com/AI-Planet 🌞"
   ]
  }
 ],
 "metadata": {
  "kernelspec": {
   "display_name": "Python 3 (ipykernel)",
   "language": "python",
   "name": "python3"
  },
  "language_info": {
   "codemirror_mode": {
    "name": "ipython",
    "version": 3
   },
   "file_extension": ".py",
   "mimetype": "text/x-python",
   "name": "python",
   "nbconvert_exporter": "python",
   "pygments_lexer": "ipython3",
   "version": "3.9.12"
  }
 },
 "nbformat": 4,
 "nbformat_minor": 5
}
