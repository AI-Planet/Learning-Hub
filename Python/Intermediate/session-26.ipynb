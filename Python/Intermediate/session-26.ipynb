{
 "cells": [
  {
   "cell_type": "markdown",
   "id": "355b5f03-d2a5-4aa3-a77c-776ccfcb35d5",
   "metadata": {},
   "source": [
    "# Session 26 🐍"
   ]
  },
  {
   "cell_type": "markdown",
   "id": "45efc9ec-fb9c-458c-b1de-d961145e8449",
   "metadata": {},
   "source": [
    "☀️☀️☀️☀️☀️☀️☀️☀️☀️☀️☀️☀️☀️☀️☀️☀️☀️☀️☀️☀️☀️☀️☀️☀️☀️☀️☀️☀️☀️☀️☀️☀️☀️☀️☀️☀️☀️☀️☀️☀️☀️☀️☀️☀️☀️"
   ]
  },
  {
   "cell_type": "markdown",
   "id": "2c7a6ce5-4cd2-45cd-a3b8-9ac277170654",
   "metadata": {},
   "source": [
    "***"
   ]
  },
  {
   "cell_type": "markdown",
   "id": "f47542a8-416d-4a3f-8c9d-99781dc53bd8",
   "metadata": {},
   "source": [
    "# 205. tqdm  \n",
    "`tqdm` (from the Arabic \"taqadum\" meaning \"progress\") is a Python library that provides fast, extensible progress bars for loops and other iterable operations."
   ]
  },
  {
   "cell_type": "markdown",
   "id": "39132e03-46bb-49e6-950c-4684c3e8bc0d",
   "metadata": {},
   "source": [
    "***"
   ]
  },
  {
   "cell_type": "markdown",
   "id": "cccc2432-7d24-4f29-b7a2-300e65304cd8",
   "metadata": {},
   "source": [
    "# 206. Basic Usage"
   ]
  },
  {
   "cell_type": "markdown",
   "id": "a35384c2-ea49-4613-b074-ef3b571f756e",
   "metadata": {},
   "source": [
    "***"
   ]
  },
  {
   "cell_type": "markdown",
   "id": "5e4dbbf4-88e4-4a78-b9a0-fd722e1aa1c0",
   "metadata": {},
   "source": [
    "## 206-1. Simple Loop with tqdm"
   ]
  },
  {
   "cell_type": "code",
   "execution_count": null,
   "id": "0387b542-f48a-4efd-94e8-546d5b426532",
   "metadata": {},
   "outputs": [],
   "source": [
    "from tqdm import tqdm\n",
    "import time\n",
    "\n",
    "# Wrapping any iterable with tqdm()\n",
    "for i in tqdm(range(100)):\n",
    "    time.sleep(0.01)  # Simulate work"
   ]
  },
  {
   "cell_type": "markdown",
   "id": "a4bb5edf-3034-4d79-8edf-8f0740ea0e27",
   "metadata": {},
   "source": [
    "***"
   ]
  },
  {
   "cell_type": "markdown",
   "id": "cb5cc52c-9d10-47ad-baeb-0900ab6358ff",
   "metadata": {},
   "source": [
    "## 206-2. Manual Control"
   ]
  },
  {
   "cell_type": "code",
   "execution_count": null,
   "id": "5c171aa0-494e-4e32-a42f-3644634470c7",
   "metadata": {},
   "outputs": [],
   "source": [
    "from tqdm import tqdm\n",
    "import time\n",
    "\n",
    "# Create a progress bar with total iterations\n",
    "progress_bar = tqdm(total=100)\n",
    "\n",
    "for i in range(100):\n",
    "    time.sleep(0.01)\n",
    "    progress_bar.update(1)  # Update by 1\n",
    "\n",
    "progress_bar.close()"
   ]
  },
  {
   "cell_type": "markdown",
   "id": "5d2de8aa-11c8-4023-a19b-77faa03c14af",
   "metadata": {},
   "source": [
    "***"
   ]
  },
  {
   "cell_type": "markdown",
   "id": "7528c824-0f13-4c5d-aa16-25b5deb65b5f",
   "metadata": {},
   "source": [
    "# 207. Key Features and Options"
   ]
  },
  {
   "cell_type": "markdown",
   "id": "96755e49-1296-4c80-b53d-afefe4655d39",
   "metadata": {},
   "source": [
    "***"
   ]
  },
  {
   "cell_type": "markdown",
   "id": "399eda62-3c8c-4602-bf86-0ed147b3d158",
   "metadata": {},
   "source": [
    "## 207-1. Customizing the Progress Bar"
   ]
  },
  {
   "cell_type": "code",
   "execution_count": null,
   "id": "dc311f73-eed9-41a9-941a-989e3728de2d",
   "metadata": {},
   "outputs": [],
   "source": [
    "from tqdm import tqdm\n",
    "import time\n",
    "\n",
    "for i in tqdm(range(100), \n",
    "              desc=\"Processing\",  # Description prefix\n",
    "              ncols=100,          # Width of the bar\n",
    "              ascii=True,         # Use ASCII characters\n",
    "              unit=\"item\",        # Unit name\n",
    "              unit_scale=True):   # Scale units (K, M, G)\n",
    "    time.sleep(0.01)"
   ]
  },
  {
   "cell_type": "markdown",
   "id": "89d79214-4d24-4f11-bff3-2a5c092c85e7",
   "metadata": {},
   "source": [
    "***"
   ]
  },
  {
   "cell_type": "markdown",
   "id": "d78187cc-be37-4780-af75-09adb0339955",
   "metadata": {},
   "source": [
    "## 207-2. Progress Bar with ETA and Statistics"
   ]
  },
  {
   "cell_type": "code",
   "execution_count": null,
   "id": "49e05f1b-864d-4878-8daf-c7ca191680b0",
   "metadata": {},
   "outputs": [],
   "source": [
    "from tqdm import tqdm\n",
    "import time\n",
    "import random\n",
    "\n",
    "items = list(range(1000))\n",
    "random.shuffle(items)\n",
    "\n",
    "for item in tqdm(items, \n",
    "                 desc=\"Downloading\",\n",
    "                 unit=\"files\",\n",
    "                 postfix={\"speed\": \"0 files/s\"}):\n",
    "    time.sleep(random.uniform(0.001, 0.01))"
   ]
  },
  {
   "cell_type": "markdown",
   "id": "e5d2ee3a-efa5-4cc4-a34a-77e00ce9a9a4",
   "metadata": {},
   "source": [
    "***"
   ]
  },
  {
   "cell_type": "markdown",
   "id": "6054fd00-b5cb-4760-84ea-8f2798c54d08",
   "metadata": {},
   "source": [
    "# 208. Advanced Usage"
   ]
  },
  {
   "cell_type": "markdown",
   "id": "c35849ce-db53-48f1-b820-b6b449c16c3f",
   "metadata": {},
   "source": [
    "***"
   ]
  },
  {
   "cell_type": "markdown",
   "id": "c76a44f1-692e-4da9-86ea-7f2afc53dd72",
   "metadata": {},
   "source": [
    "## 208-1. Nested Progress Bars"
   ]
  },
  {
   "cell_type": "code",
   "execution_count": null,
   "id": "6272074e-e3f5-4bc8-8bc8-155b6dcdab92",
   "metadata": {},
   "outputs": [],
   "source": [
    "from tqdm import tqdm\n",
    "import time\n",
    "\n",
    "# Outer loop\n",
    "for i in tqdm(range(5), desc=\"Outer\"):\n",
    "    # Inner loop\n",
    "    for j in tqdm(range(100), desc=f\"Inner {i}\", leave=False):\n",
    "        time.sleep(0.001)"
   ]
  },
  {
   "cell_type": "markdown",
   "id": "a32c3b8c-fb2e-4b58-b285-4758c3bda4ae",
   "metadata": {},
   "source": [
    "***"
   ]
  },
  {
   "cell_type": "markdown",
   "id": "94453016-a572-440b-85dd-8b0c73bcca14",
   "metadata": {},
   "source": [
    "## 208-2. Using with Concurrent Operations"
   ]
  },
  {
   "cell_type": "code",
   "execution_count": null,
   "id": "1c97467b-ea88-4d63-81fb-4f6ca57bcb46",
   "metadata": {},
   "outputs": [],
   "source": [
    "from tqdm import tqdm\n",
    "from concurrent.futures import ThreadPoolExecutor\n",
    "import time\n",
    "\n",
    "def process_item(item):\n",
    "    time.sleep(0.01)\n",
    "    return item * 2\n",
    "\n",
    "items = list(range(100))\n",
    "\n",
    "# Process with threads and track progress\n",
    "with ThreadPoolExecutor() as executor:\n",
    "    results = list(tqdm(executor.map(process_item, items), total=len(items)))"
   ]
  },
  {
   "cell_type": "markdown",
   "id": "2971b808-a8ee-4f11-a5bd-4ba24385d141",
   "metadata": {},
   "source": [
    "***"
   ]
  },
  {
   "cell_type": "markdown",
   "id": "24a71f69-16c2-48ee-951b-5aba967ddc20",
   "metadata": {},
   "source": [
    "## 208-3. Integration with Pandas"
   ]
  },
  {
   "cell_type": "code",
   "execution_count": null,
   "id": "761fe801-bbe0-4e89-ac98-9bd8d45e387d",
   "metadata": {},
   "outputs": [],
   "source": [
    "import pandas as pd\n",
    "from tqdm import tqdm\n",
    "\n",
    "# Apply tqdm to pandas operations\n",
    "tqdm.pandas()\n",
    "\n",
    "df = pd.DataFrame({'values': range(1000)})\n",
    "\n",
    "# Now you can use .progress_apply() instead of .apply()\n",
    "result = df['values'].progress_apply(lambda x: x * 2)"
   ]
  },
  {
   "cell_type": "markdown",
   "id": "5dcecdb5-706d-4939-91cc-b187bef80e9b",
   "metadata": {},
   "source": [
    "***"
   ]
  },
  {
   "cell_type": "markdown",
   "id": "90157b4a-fd9e-4aa7-9fa9-c1d00ad3d831",
   "metadata": {},
   "source": [
    "## 208-4. Custom Formatting"
   ]
  },
  {
   "cell_type": "code",
   "execution_count": null,
   "id": "1cc17e77-013a-4731-a371-593902461d94",
   "metadata": {},
   "outputs": [],
   "source": [
    "from tqdm import tqdm\n",
    "import time\n",
    "\n",
    "# Custom bar format\n",
    "bar_format = '{l_bar}{bar:20}{r_bar}{bar:-10b}'\n",
    "\n",
    "for i in tqdm(range(100), \n",
    "              bar_format=bar_format,\n",
    "              desc=\"Custom Format\"):\n",
    "    time.sleep(0.01)"
   ]
  },
  {
   "cell_type": "markdown",
   "id": "c3aeb589-d66e-4d45-9727-4bd3e038b049",
   "metadata": {},
   "source": [
    "***"
   ]
  },
  {
   "cell_type": "markdown",
   "id": "f9c00b91-6303-404b-9333-b1eb893b09fb",
   "metadata": {},
   "source": [
    "# 209. File Operations with tqdm"
   ]
  },
  {
   "cell_type": "markdown",
   "id": "84c32d56-f1b3-4f4d-8381-b80bfd3d43a8",
   "metadata": {},
   "source": [
    "***"
   ]
  },
  {
   "cell_type": "markdown",
   "id": "3a8402fa-654f-4431-be7c-f0f0f6aaad9c",
   "metadata": {},
   "source": [
    "## 209-1. Download/Upload Progress"
   ]
  },
  {
   "cell_type": "code",
   "execution_count": null,
   "id": "05ab03d2-bf73-4d94-a4d1-02c817f8007c",
   "metadata": {},
   "outputs": [],
   "source": [
    "import requests\n",
    "from tqdm import tqdm\n",
    "\n",
    "def download_file(url, filename):\n",
    "    response = requests.get(url, stream=True)\n",
    "    total_size = int(response.headers.get('content-length', 0))\n",
    "    \n",
    "    with open(filename, 'wb') as file, tqdm(\n",
    "        desc=filename,\n",
    "        total=total_size,\n",
    "        unit='iB',\n",
    "        unit_scale=True,\n",
    "        unit_divisor=1024,\n",
    "    ) as bar:\n",
    "        for data in response.iter_content(chunk_size=1024):\n",
    "            size = file.write(data)\n",
    "            bar.update(size)\n",
    "\n",
    "# Usage\n",
    "# download_file('http://example.com/file.zip', 'file.zip')"
   ]
  },
  {
   "cell_type": "markdown",
   "id": "66851a4e-e878-4f66-a983-046d29d7f74b",
   "metadata": {},
   "source": [
    "***"
   ]
  },
  {
   "cell_type": "markdown",
   "id": "97aef20a-775f-464b-b30f-56ec6b09b442",
   "metadata": {},
   "source": [
    "# 210. Jupyter Notebook Integration"
   ]
  },
  {
   "cell_type": "code",
   "execution_count": null,
   "id": "ed82252c-fe71-4d74-b064-f5b963177a61",
   "metadata": {},
   "outputs": [],
   "source": [
    "from tqdm.notebook import tqdm  # For Jupyter notebooks\n",
    "import time\n",
    "\n",
    "# Works the same way but with better notebook integration\n",
    "for i in tqdm(range(100), desc=\"Notebook Progress\"):\n",
    "    time.sleep(0.01)"
   ]
  },
  {
   "cell_type": "markdown",
   "id": "7c33b0a6-9e4d-440c-8ce1-ba8819628615",
   "metadata": {},
   "source": [
    "***"
   ]
  },
  {
   "cell_type": "markdown",
   "id": "25d8007e-8740-4a76-9a3b-315dc43925e2",
   "metadata": {},
   "source": [
    "# 211. Error Handling and Cleanup"
   ]
  },
  {
   "cell_type": "code",
   "execution_count": null,
   "id": "e993866c-744d-4809-b94c-14a7388ae09e",
   "metadata": {},
   "outputs": [],
   "source": [
    "from tqdm import tqdm\n",
    "import time\n",
    "\n",
    "try:\n",
    "    with tqdm(total=100, desc=\"Task\") as pbar:\n",
    "        for i in range(100):\n",
    "            if i == 50:\n",
    "                raise ValueError(\"Something went wrong\")\n",
    "            time.sleep(0.01)\n",
    "            pbar.update(1)\n",
    "except Exception as e:\n",
    "    print(f\"Error: {e}\")\n",
    "    # The progress bar will be properly closed due to context manager"
   ]
  },
  {
   "cell_type": "markdown",
   "id": "d01ea16c-d7a8-4263-9292-948326bebd0c",
   "metadata": {},
   "source": [
    "***"
   ]
  },
  {
   "cell_type": "markdown",
   "id": "c0a7bc97-942d-43fe-8bbf-a54cb7513da5",
   "metadata": {},
   "source": [
    "# 212. Performance Considerations"
   ]
  },
  {
   "cell_type": "code",
   "execution_count": null,
   "id": "9f619a81-3198-483a-9303-a9f1affa0372",
   "metadata": {},
   "outputs": [],
   "source": [
    "from tqdm import tqdm\n",
    "import time\n",
    "\n",
    "# For very fast loops, reduce refresh rate to improve performance\n",
    "for i in tqdm(range(1000000), \n",
    "              mininterval=0.5,    # Minimum update interval\n",
    "              maxinterval=1.0,    # Maximum update interval\n",
    "              miniters=1000):     # Minimum iterations between updates\n",
    "    pass  # Very fast operation"
   ]
  },
  {
   "cell_type": "markdown",
   "id": "b43050c6-ad6f-4883-a49d-90c806075016",
   "metadata": {},
   "source": [
    "---"
   ]
  },
  {
   "cell_type": "markdown",
   "id": "8a5eb0a6-4dd0-43f9-a320-5050e3779ff7",
   "metadata": {},
   "source": [
    "# 213. Complete Example"
   ]
  },
  {
   "cell_type": "code",
   "execution_count": null,
   "id": "ade1f6a7-f030-460f-8871-cad8ec80f25c",
   "metadata": {},
   "outputs": [],
   "source": [
    "from tqdm import tqdm\n",
    "import time\n",
    "import random\n",
    "\n",
    "def process_data_simulation():\n",
    "    \"\"\"Simulate data processing with detailed progress tracking\"\"\"\n",
    "    \n",
    "    total_files = 1000\n",
    "    files_processed = 0\n",
    "    \n",
    "    # Initialize progress bar\n",
    "    with tqdm(total=total_files, \n",
    "              desc=\"Data Processing\", \n",
    "              unit=\"file\",\n",
    "              postfix={\"status\": \"Starting\"},\n",
    "              ncols=100) as pbar:\n",
    "        \n",
    "        while files_processed < total_files:\n",
    "            # Simulate variable processing time\n",
    "            process_time = random.uniform(0.001, 0.1)\n",
    "            time.sleep(process_time)\n",
    "            \n",
    "            # Update progress\n",
    "            files_processed += 1\n",
    "            pbar.update(1)\n",
    "            \n",
    "            # Update additional information\n",
    "            pbar.set_postfix({\n",
    "                \"status\": \"Processing\",\n",
    "                \"speed\": f\"{1/process_time:.1f} files/s\",\n",
    "                \"remaining\": f\"{total_files - files_processed}\"\n",
    "            })\n",
    "    \n",
    "    print(\"Processing complete!\")\n",
    "\n",
    "# Run the example\n",
    "process_data_simulation()"
   ]
  },
  {
   "cell_type": "markdown",
   "id": "54e27bcb-d3f7-4d4d-8573-eee810003677",
   "metadata": {},
   "source": [
    "---"
   ]
  },
  {
   "cell_type": "markdown",
   "id": "eee50cbd-cf5d-4b59-b83d-c92c6fe72d5e",
   "metadata": {},
   "source": [
    "***"
   ]
  },
  {
   "cell_type": "markdown",
   "id": "b40206fb-6731-46dc-9302-0b9bc348b89b",
   "metadata": {},
   "source": [
    "# Some Excercises"
   ]
  },
  {
   "cell_type": "markdown",
   "id": "088d38a8-866c-48a9-a9b5-40df9d99ae4b",
   "metadata": {},
   "source": [
    "**1.** Create a simple progress bar that counts from 0 to 200 with a description \"Counting\" and displays the progress in ASCII characters."
   ]
  },
  {
   "cell_type": "markdown",
   "id": "b486b7b8-307c-4eb7-8c14-a1dd72eb2e46",
   "metadata": {},
   "source": [
    "___"
   ]
  },
  {
   "cell_type": "markdown",
   "id": "5c32b073-bab0-451e-8fd7-a294020f71c6",
   "metadata": {},
   "source": [
    "**2.** Simulate downloading 5 files of different sizes (100MB, 250MB, 500MB, 750MB, 1GB) with appropriate unit scaling. Each file should take a different amount of time to download."
   ]
  },
  {
   "cell_type": "markdown",
   "id": "489da9fe-be18-487a-bcc7-e5d6672698ba",
   "metadata": {},
   "source": [
    "---"
   ]
  },
  {
   "cell_type": "markdown",
   "id": "bf117f39-fa94-453e-bca9-2ccd7b507496",
   "metadata": {},
   "source": [
    "**3.** Create a nested progress bar where an outer loop processes 3 categories and an inner loop processes 50 items per category. The inner progress bars should disappear after completion."
   ]
  },
  {
   "cell_type": "markdown",
   "id": "02e59887-780b-4321-9382-ef4c85ec9684",
   "metadata": {},
   "source": [
    "---"
   ]
  },
  {
   "cell_type": "markdown",
   "id": "1b32e2d5-3ed7-4865-b63e-21c5cc156f67",
   "metadata": {},
   "source": [
    "**4.** Use manual progress control to simulate a task that has variable progress increments (sometimes 1, sometimes 5, sometimes 10) until reaching a total of 1000."
   ]
  },
  {
   "cell_type": "markdown",
   "id": "8dcb22a4-aff7-4377-b09a-a39fa4a3b2a7",
   "metadata": {},
   "source": [
    "***"
   ]
  },
  {
   "cell_type": "markdown",
   "id": "17511368-bcb2-4413-87ab-450ca9a64ff2",
   "metadata": {},
   "source": [
    "**5.** Create a progress bar that intentionally fails at 75% completion and handles the error gracefully while properly closing the progress bar."
   ]
  },
  {
   "cell_type": "markdown",
   "id": "1d682728-1f0e-4594-a1d3-30793e3f0751",
   "metadata": {},
   "source": [
    "***"
   ]
  },
  {
   "cell_type": "markdown",
   "id": "25f7d348-8fc5-49e9-a3e0-db0d0374a954",
   "metadata": {},
   "source": [
    "**6.** Create a progress bar with custom formatting that includes: a custom bar style, percentage complete, elapsed time, and custom additional information in the postfix."
   ]
  },
  {
   "cell_type": "markdown",
   "id": "56db6a03-fcd5-4229-aa81-132e3f4cb731",
   "metadata": {},
   "source": [
    "***"
   ]
  },
  {
   "cell_type": "markdown",
   "id": "3208864f-ffdb-4b05-b0b1-f6b67683a174",
   "metadata": {},
   "source": [
    "**7.** Use `ThreadPoolExecutor` to process a list of 100 items concurrently (with 5 threads) while showing overall progress of all items being processed."
   ]
  },
  {
   "cell_type": "markdown",
   "id": "31370a8b-cd74-4371-9450-8ce4248412e6",
   "metadata": {},
   "source": [
    "***"
   ]
  },
  {
   "cell_type": "markdown",
   "id": "94bafa50-5d10-40db-97d3-71bdc1821b11",
   "metadata": {},
   "source": [
    "**8.** Create a DataFrame with 1000 rows and use tqdm's pandas integration to apply a function to each row while showing progress."
   ]
  },
  {
   "cell_type": "markdown",
   "id": "af3414ed-8ba7-485b-954f-69bb05f37262",
   "metadata": {},
   "source": [
    "***"
   ]
  },
  {
   "cell_type": "markdown",
   "id": "7cc97f26-cf68-4d50-82a1-ae7dcdfa95ac",
   "metadata": {},
   "source": [
    "#                                                        🌞 https://github.com/AI-Planet 🌞"
   ]
  }
 ],
 "metadata": {
  "kernelspec": {
   "display_name": "Python 3 (ipykernel)",
   "language": "python",
   "name": "python3"
  },
  "language_info": {
   "codemirror_mode": {
    "name": "ipython",
    "version": 3
   },
   "file_extension": ".py",
   "mimetype": "text/x-python",
   "name": "python",
   "nbconvert_exporter": "python",
   "pygments_lexer": "ipython3",
   "version": "3.9.12"
  }
 },
 "nbformat": 4,
 "nbformat_minor": 5
}
